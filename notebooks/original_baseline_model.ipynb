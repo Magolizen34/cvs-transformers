{
 "cells": [
  {
   "cell_type": "markdown",
   "metadata": {},
   "source": [
    "# Baseline Model"
   ]
  },
  {
   "cell_type": "code",
   "execution_count": 1,
   "metadata": {},
   "outputs": [],
   "source": [
    "import matplotlib.pyplot as plt \n",
    "from matplotlib.lines import Line2D  # For custom legend markers\n",
    "import numpy as np\n",
    "import pandas as pd\n",
    "import plotly.express as px\n",
    "import re\n",
    "from sklearn.cluster import KMeans\n",
    "from sklearn.decomposition import PCA\n",
    "from sklearn.metrics import silhouette_score, davies_bouldin_score\n",
    "from sklearn.preprocessing import MinMaxScaler, LabelEncoder\n",
    "import seaborn as sns\n",
    "import warnings # ignore warnings\n",
    "warnings.filterwarnings('ignore')"
   ]
  },
  {
   "cell_type": "code",
   "execution_count": 2,
   "metadata": {},
   "outputs": [],
   "source": [
    "df = pd.read_csv('../data/customers_100k.csv', sep='|') "
   ]
  },
  {
   "cell_type": "code",
   "execution_count": 3,
   "metadata": {},
   "outputs": [
    {
     "name": "stdout",
     "output_type": "stream",
     "text": [
      "<class 'pandas.core.frame.DataFrame'>\n",
      "RangeIndex: 100000 entries, 0 to 99999\n",
      "Data columns (total 21 columns):\n",
      " #   Column                           Non-Null Count   Dtype  \n",
      "---  ------                           --------------   -----  \n",
      " 0   account_id                       100000 non-null  object \n",
      " 1   country_name                     100000 non-null  object \n",
      " 2   account_category                 100000 non-null  object \n",
      " 3   bi_account_classification        100000 non-null  object \n",
      " 4   customer_type                    100000 non-null  object \n",
      " 5   region                           100000 non-null  object \n",
      " 6   sic_code                         100000 non-null  int64  \n",
      " 7   employee_number                  100000 non-null  int64  \n",
      " 8   revenue_in_eur                   100000 non-null  float64\n",
      " 9   number_distinct_active_licenses  100000 non-null  int64  \n",
      " 10  major_edition                    100000 non-null  object \n",
      " 11  total_connections_12m            100000 non-null  int64  \n",
      " 12  total_endpoints_12m              100000 non-null  int64  \n",
      " 13  total_devices_12m                100000 non-null  int64  \n",
      " 14  last_invoice_date_created        100000 non-null  object \n",
      " 15  current_sales_channel            100000 non-null  object \n",
      " 16  age_customer                     100000 non-null  int64  \n",
      " 17  number_renewals                  100000 non-null  int64  \n",
      " 18  account_value_in_eur             100000 non-null  float64\n",
      " 19  billings_ltm_prorated            100000 non-null  float64\n",
      " 20  business_model                   100000 non-null  object \n",
      "dtypes: float64(3), int64(8), object(10)\n",
      "memory usage: 16.0+ MB\n"
     ]
    }
   ],
   "source": [
    "df.info()"
   ]
  },
  {
   "cell_type": "code",
   "execution_count": 4,
   "metadata": {},
   "outputs": [
    {
     "data": {
      "text/html": [
       "<div>\n",
       "<style scoped>\n",
       "    .dataframe tbody tr th:only-of-type {\n",
       "        vertical-align: middle;\n",
       "    }\n",
       "\n",
       "    .dataframe tbody tr th {\n",
       "        vertical-align: top;\n",
       "    }\n",
       "\n",
       "    .dataframe thead th {\n",
       "        text-align: right;\n",
       "    }\n",
       "</style>\n",
       "<table border=\"1\" class=\"dataframe\">\n",
       "  <thead>\n",
       "    <tr style=\"text-align: right;\">\n",
       "      <th></th>\n",
       "      <th>account_id</th>\n",
       "      <th>country_name</th>\n",
       "      <th>account_category</th>\n",
       "      <th>bi_account_classification</th>\n",
       "      <th>customer_type</th>\n",
       "      <th>region</th>\n",
       "      <th>sic_code</th>\n",
       "      <th>employee_number</th>\n",
       "      <th>revenue_in_eur</th>\n",
       "      <th>number_distinct_active_licenses</th>\n",
       "      <th>...</th>\n",
       "      <th>total_connections_12m</th>\n",
       "      <th>total_endpoints_12m</th>\n",
       "      <th>total_devices_12m</th>\n",
       "      <th>last_invoice_date_created</th>\n",
       "      <th>current_sales_channel</th>\n",
       "      <th>age_customer</th>\n",
       "      <th>number_renewals</th>\n",
       "      <th>account_value_in_eur</th>\n",
       "      <th>billings_ltm_prorated</th>\n",
       "      <th>business_model</th>\n",
       "    </tr>\n",
       "  </thead>\n",
       "  <tbody>\n",
       "    <tr>\n",
       "      <th>0</th>\n",
       "      <td>ac6a99474410f1c59c91da3f0cf9cf3f</td>\n",
       "      <td>Tonga</td>\n",
       "      <td>Standard</td>\n",
       "      <td>Inside Sales</td>\n",
       "      <td>Customer</td>\n",
       "      <td>APAC</td>\n",
       "      <td>7381</td>\n",
       "      <td>8</td>\n",
       "      <td>1502000.0</td>\n",
       "      <td>1</td>\n",
       "      <td>...</td>\n",
       "      <td>54</td>\n",
       "      <td>4</td>\n",
       "      <td>2</td>\n",
       "      <td>2023-11-23 01:57:47</td>\n",
       "      <td>Webshop</td>\n",
       "      <td>6</td>\n",
       "      <td>5</td>\n",
       "      <td>2532.84</td>\n",
       "      <td>466.47</td>\n",
       "      <td>S</td>\n",
       "    </tr>\n",
       "    <tr>\n",
       "      <th>1</th>\n",
       "      <td>1cc66628ed41f3db5a55195e93277a04</td>\n",
       "      <td>Costa Rica</td>\n",
       "      <td>Standard</td>\n",
       "      <td>Inside Sales</td>\n",
       "      <td>Customer</td>\n",
       "      <td>AMERICAS</td>\n",
       "      <td>5049</td>\n",
       "      <td>11</td>\n",
       "      <td>1814000.0</td>\n",
       "      <td>1</td>\n",
       "      <td>...</td>\n",
       "      <td>3385</td>\n",
       "      <td>158</td>\n",
       "      <td>51</td>\n",
       "      <td>2023-10-07 19:35:11</td>\n",
       "      <td>Webshop</td>\n",
       "      <td>1</td>\n",
       "      <td>0</td>\n",
       "      <td>1298.15</td>\n",
       "      <td>972.57</td>\n",
       "      <td>S</td>\n",
       "    </tr>\n",
       "    <tr>\n",
       "      <th>2</th>\n",
       "      <td>db5f3cdd5629b9591b720b9b7e077df2</td>\n",
       "      <td>Costa Rica</td>\n",
       "      <td>Standard</td>\n",
       "      <td>Inside Sales</td>\n",
       "      <td>Customer</td>\n",
       "      <td>AMERICAS</td>\n",
       "      <td>7389</td>\n",
       "      <td>16</td>\n",
       "      <td>13444000.0</td>\n",
       "      <td>1</td>\n",
       "      <td>...</td>\n",
       "      <td>12</td>\n",
       "      <td>2</td>\n",
       "      <td>2</td>\n",
       "      <td>2023-12-02 02:03:05</td>\n",
       "      <td>Webshop</td>\n",
       "      <td>2</td>\n",
       "      <td>1</td>\n",
       "      <td>155.83</td>\n",
       "      <td>76.69</td>\n",
       "      <td>S</td>\n",
       "    </tr>\n",
       "    <tr>\n",
       "      <th>3</th>\n",
       "      <td>bebb4028688f519f36ed220855b0a62f</td>\n",
       "      <td>Costa Rica</td>\n",
       "      <td>Standard</td>\n",
       "      <td>Reseller</td>\n",
       "      <td>End-User Reseller</td>\n",
       "      <td>AMERICAS</td>\n",
       "      <td>8711</td>\n",
       "      <td>36</td>\n",
       "      <td>7066000.0</td>\n",
       "      <td>3</td>\n",
       "      <td>...</td>\n",
       "      <td>1724</td>\n",
       "      <td>206</td>\n",
       "      <td>30</td>\n",
       "      <td>2023-10-25 23:32:46</td>\n",
       "      <td>Inside Sales</td>\n",
       "      <td>7</td>\n",
       "      <td>5</td>\n",
       "      <td>7550.16</td>\n",
       "      <td>1088.58</td>\n",
       "      <td>S</td>\n",
       "    </tr>\n",
       "    <tr>\n",
       "      <th>4</th>\n",
       "      <td>507c0bfb67895d773e3f8bd33b861d09</td>\n",
       "      <td>Costa Rica</td>\n",
       "      <td>Standard</td>\n",
       "      <td>Inside Sales</td>\n",
       "      <td>Customer</td>\n",
       "      <td>AMERICAS</td>\n",
       "      <td>6531</td>\n",
       "      <td>312</td>\n",
       "      <td>61054000.0</td>\n",
       "      <td>2</td>\n",
       "      <td>...</td>\n",
       "      <td>6493</td>\n",
       "      <td>611</td>\n",
       "      <td>31</td>\n",
       "      <td>2023-11-17 04:16:51</td>\n",
       "      <td>Inside Sales</td>\n",
       "      <td>10</td>\n",
       "      <td>1</td>\n",
       "      <td>4688.33</td>\n",
       "      <td>1593.70</td>\n",
       "      <td>S</td>\n",
       "    </tr>\n",
       "    <tr>\n",
       "      <th>5</th>\n",
       "      <td>b1267a5b953b7267de811510f838172b</td>\n",
       "      <td>Costa Rica</td>\n",
       "      <td>Standard</td>\n",
       "      <td>Inside Sales</td>\n",
       "      <td>Customer</td>\n",
       "      <td>AMERICAS</td>\n",
       "      <td>5943</td>\n",
       "      <td>25</td>\n",
       "      <td>4881000.0</td>\n",
       "      <td>1</td>\n",
       "      <td>...</td>\n",
       "      <td>583</td>\n",
       "      <td>3</td>\n",
       "      <td>5</td>\n",
       "      <td>2023-08-21 01:11:38</td>\n",
       "      <td>Webshop</td>\n",
       "      <td>5</td>\n",
       "      <td>4</td>\n",
       "      <td>971.96</td>\n",
       "      <td>198.63</td>\n",
       "      <td>S</td>\n",
       "    </tr>\n",
       "    <tr>\n",
       "      <th>6</th>\n",
       "      <td>3315ad169d4d2e9080f1377c44377c7c</td>\n",
       "      <td>Costa Rica</td>\n",
       "      <td>Standard</td>\n",
       "      <td>Reseller</td>\n",
       "      <td>Reseller</td>\n",
       "      <td>AMERICAS</td>\n",
       "      <td>7378</td>\n",
       "      <td>15</td>\n",
       "      <td>3013000.0</td>\n",
       "      <td>9</td>\n",
       "      <td>...</td>\n",
       "      <td>2181</td>\n",
       "      <td>311</td>\n",
       "      <td>7</td>\n",
       "      <td>2023-09-28 04:27:43</td>\n",
       "      <td>Reseller</td>\n",
       "      <td>7</td>\n",
       "      <td>15</td>\n",
       "      <td>66581.67</td>\n",
       "      <td>837.31</td>\n",
       "      <td>S</td>\n",
       "    </tr>\n",
       "    <tr>\n",
       "      <th>7</th>\n",
       "      <td>8ca7b69eda1a06b32e60fff1c6db3b28</td>\n",
       "      <td>Costa Rica</td>\n",
       "      <td>Standard</td>\n",
       "      <td>Inside Sales</td>\n",
       "      <td>Customer</td>\n",
       "      <td>AMERICAS</td>\n",
       "      <td>1</td>\n",
       "      <td>717</td>\n",
       "      <td>159214000.0</td>\n",
       "      <td>1</td>\n",
       "      <td>...</td>\n",
       "      <td>2415</td>\n",
       "      <td>244</td>\n",
       "      <td>4</td>\n",
       "      <td>2023-12-22 06:27:18</td>\n",
       "      <td>Other</td>\n",
       "      <td>12</td>\n",
       "      <td>6</td>\n",
       "      <td>2986.48</td>\n",
       "      <td>211.88</td>\n",
       "      <td>S</td>\n",
       "    </tr>\n",
       "    <tr>\n",
       "      <th>8</th>\n",
       "      <td>5bd2eea4e2320b9246b41a8f54fb02d2</td>\n",
       "      <td>Costa Rica</td>\n",
       "      <td>SMB</td>\n",
       "      <td>Inside Sales</td>\n",
       "      <td>Customer</td>\n",
       "      <td>AMERICAS</td>\n",
       "      <td>8111</td>\n",
       "      <td>5</td>\n",
       "      <td>934000.0</td>\n",
       "      <td>3</td>\n",
       "      <td>...</td>\n",
       "      <td>22037</td>\n",
       "      <td>3766</td>\n",
       "      <td>1311</td>\n",
       "      <td>2023-09-22 01:48:17</td>\n",
       "      <td>Inside Sales</td>\n",
       "      <td>9</td>\n",
       "      <td>4</td>\n",
       "      <td>46022.86</td>\n",
       "      <td>9129.48</td>\n",
       "      <td>S</td>\n",
       "    </tr>\n",
       "    <tr>\n",
       "      <th>9</th>\n",
       "      <td>bbfb03bca60fb0185be3f36d12c99b3f</td>\n",
       "      <td>Costa Rica</td>\n",
       "      <td>Standard</td>\n",
       "      <td>Inside Sales</td>\n",
       "      <td>Customer</td>\n",
       "      <td>AMERICAS</td>\n",
       "      <td>8731</td>\n",
       "      <td>22</td>\n",
       "      <td>4308000.0</td>\n",
       "      <td>2</td>\n",
       "      <td>...</td>\n",
       "      <td>4064</td>\n",
       "      <td>672</td>\n",
       "      <td>15</td>\n",
       "      <td>2023-12-20 01:21:26</td>\n",
       "      <td>Inside Sales</td>\n",
       "      <td>15</td>\n",
       "      <td>4</td>\n",
       "      <td>12584.99</td>\n",
       "      <td>1308.89</td>\n",
       "      <td>S</td>\n",
       "    </tr>\n",
       "  </tbody>\n",
       "</table>\n",
       "<p>10 rows × 21 columns</p>\n",
       "</div>"
      ],
      "text/plain": [
       "                         account_id country_name account_category  \\\n",
       "0  ac6a99474410f1c59c91da3f0cf9cf3f        Tonga         Standard   \n",
       "1  1cc66628ed41f3db5a55195e93277a04   Costa Rica         Standard   \n",
       "2  db5f3cdd5629b9591b720b9b7e077df2   Costa Rica         Standard   \n",
       "3  bebb4028688f519f36ed220855b0a62f   Costa Rica         Standard   \n",
       "4  507c0bfb67895d773e3f8bd33b861d09   Costa Rica         Standard   \n",
       "5  b1267a5b953b7267de811510f838172b   Costa Rica         Standard   \n",
       "6  3315ad169d4d2e9080f1377c44377c7c   Costa Rica         Standard   \n",
       "7  8ca7b69eda1a06b32e60fff1c6db3b28   Costa Rica         Standard   \n",
       "8  5bd2eea4e2320b9246b41a8f54fb02d2   Costa Rica              SMB   \n",
       "9  bbfb03bca60fb0185be3f36d12c99b3f   Costa Rica         Standard   \n",
       "\n",
       "  bi_account_classification      customer_type    region  sic_code  \\\n",
       "0              Inside Sales           Customer      APAC      7381   \n",
       "1              Inside Sales           Customer  AMERICAS      5049   \n",
       "2              Inside Sales           Customer  AMERICAS      7389   \n",
       "3                  Reseller  End-User Reseller  AMERICAS      8711   \n",
       "4              Inside Sales           Customer  AMERICAS      6531   \n",
       "5              Inside Sales           Customer  AMERICAS      5943   \n",
       "6                  Reseller           Reseller  AMERICAS      7378   \n",
       "7              Inside Sales           Customer  AMERICAS         1   \n",
       "8              Inside Sales           Customer  AMERICAS      8111   \n",
       "9              Inside Sales           Customer  AMERICAS      8731   \n",
       "\n",
       "   employee_number  revenue_in_eur  number_distinct_active_licenses  ...  \\\n",
       "0                8       1502000.0                                1  ...   \n",
       "1               11       1814000.0                                1  ...   \n",
       "2               16      13444000.0                                1  ...   \n",
       "3               36       7066000.0                                3  ...   \n",
       "4              312      61054000.0                                2  ...   \n",
       "5               25       4881000.0                                1  ...   \n",
       "6               15       3013000.0                                9  ...   \n",
       "7              717     159214000.0                                1  ...   \n",
       "8                5        934000.0                                3  ...   \n",
       "9               22       4308000.0                                2  ...   \n",
       "\n",
       "  total_connections_12m  total_endpoints_12m  total_devices_12m  \\\n",
       "0                    54                    4                  2   \n",
       "1                  3385                  158                 51   \n",
       "2                    12                    2                  2   \n",
       "3                  1724                  206                 30   \n",
       "4                  6493                  611                 31   \n",
       "5                   583                    3                  5   \n",
       "6                  2181                  311                  7   \n",
       "7                  2415                  244                  4   \n",
       "8                 22037                 3766               1311   \n",
       "9                  4064                  672                 15   \n",
       "\n",
       "   last_invoice_date_created current_sales_channel age_customer  \\\n",
       "0        2023-11-23 01:57:47               Webshop            6   \n",
       "1        2023-10-07 19:35:11               Webshop            1   \n",
       "2        2023-12-02 02:03:05               Webshop            2   \n",
       "3        2023-10-25 23:32:46          Inside Sales            7   \n",
       "4        2023-11-17 04:16:51          Inside Sales           10   \n",
       "5        2023-08-21 01:11:38               Webshop            5   \n",
       "6        2023-09-28 04:27:43              Reseller            7   \n",
       "7        2023-12-22 06:27:18                 Other           12   \n",
       "8        2023-09-22 01:48:17          Inside Sales            9   \n",
       "9        2023-12-20 01:21:26          Inside Sales           15   \n",
       "\n",
       "   number_renewals  account_value_in_eur  billings_ltm_prorated  \\\n",
       "0                5               2532.84                 466.47   \n",
       "1                0               1298.15                 972.57   \n",
       "2                1                155.83                  76.69   \n",
       "3                5               7550.16                1088.58   \n",
       "4                1               4688.33                1593.70   \n",
       "5                4                971.96                 198.63   \n",
       "6               15              66581.67                 837.31   \n",
       "7                6               2986.48                 211.88   \n",
       "8                4              46022.86                9129.48   \n",
       "9                4              12584.99                1308.89   \n",
       "\n",
       "   business_model  \n",
       "0               S  \n",
       "1               S  \n",
       "2               S  \n",
       "3               S  \n",
       "4               S  \n",
       "5               S  \n",
       "6               S  \n",
       "7               S  \n",
       "8               S  \n",
       "9               S  \n",
       "\n",
       "[10 rows x 21 columns]"
      ]
     },
     "execution_count": 4,
     "metadata": {},
     "output_type": "execute_result"
    }
   ],
   "source": [
    "df.head(10)"
   ]
  },
  {
   "cell_type": "markdown",
   "metadata": {},
   "source": [
    "## Data Preprocessing"
   ]
  },
  {
   "cell_type": "code",
   "execution_count": 5,
   "metadata": {},
   "outputs": [],
   "source": [
    "df.drop(columns=['business_model', 'last_invoice_date_created'], inplace=True)"
   ]
  },
  {
   "cell_type": "code",
   "execution_count": 6,
   "metadata": {},
   "outputs": [],
   "source": [
    "# Define a dictionary to map SIC code ranges to major industry groups\n",
    "major_groups = {\n",
    "    range(1, 10): 'Agriculture, Forestry, and Fishing',\n",
    "    range(10, 15): 'Mining',\n",
    "    range(15, 18): 'Construction',\n",
    "    range(20, 40): 'Manufacturing',\n",
    "    range(40, 50): 'Transportation, Communications, Electric, Gas, and Sanitary Services',\n",
    "    range(50, 52): 'Wholesale Trade',\n",
    "    range(52, 60): 'Retail Trade',\n",
    "    range(60, 68): 'Finance, Insurance, and Real Estate',\n",
    "    range(70, 90): 'Services',\n",
    "    range(90, 100): 'Public Administration'\n",
    "}\n",
    "\n",
    "# Map SIC code ranges to major industry group descriptions\n",
    "def map_to_major_group(sic_code):\n",
    "    for group_range, description in major_groups.items():\n",
    "        if sic_code // 100 in group_range:\n",
    "            return description\n",
    "    return 'Unknown'"
   ]
  },
  {
   "cell_type": "code",
   "execution_count": 7,
   "metadata": {},
   "outputs": [],
   "source": [
    "df['industry'] = df['sic_code'].apply(map_to_major_group)\n",
    "df.drop(columns=['account_id','country_name','sic_code'], inplace=True)"
   ]
  },
  {
   "cell_type": "code",
   "execution_count": 8,
   "metadata": {},
   "outputs": [
    {
     "data": {
      "text/html": [
       "<div>\n",
       "<style scoped>\n",
       "    .dataframe tbody tr th:only-of-type {\n",
       "        vertical-align: middle;\n",
       "    }\n",
       "\n",
       "    .dataframe tbody tr th {\n",
       "        vertical-align: top;\n",
       "    }\n",
       "\n",
       "    .dataframe thead th {\n",
       "        text-align: right;\n",
       "    }\n",
       "</style>\n",
       "<table border=\"1\" class=\"dataframe\">\n",
       "  <thead>\n",
       "    <tr style=\"text-align: right;\">\n",
       "      <th></th>\n",
       "      <th>account_category</th>\n",
       "      <th>bi_account_classification</th>\n",
       "      <th>customer_type</th>\n",
       "      <th>region</th>\n",
       "      <th>employee_number</th>\n",
       "      <th>revenue_in_eur</th>\n",
       "      <th>number_distinct_active_licenses</th>\n",
       "      <th>major_edition</th>\n",
       "      <th>total_connections_12m</th>\n",
       "      <th>total_endpoints_12m</th>\n",
       "      <th>total_devices_12m</th>\n",
       "      <th>current_sales_channel</th>\n",
       "      <th>age_customer</th>\n",
       "      <th>number_renewals</th>\n",
       "      <th>account_value_in_eur</th>\n",
       "      <th>billings_ltm_prorated</th>\n",
       "      <th>industry</th>\n",
       "    </tr>\n",
       "  </thead>\n",
       "  <tbody>\n",
       "    <tr>\n",
       "      <th>0</th>\n",
       "      <td>Standard</td>\n",
       "      <td>Inside Sales</td>\n",
       "      <td>Customer</td>\n",
       "      <td>APAC</td>\n",
       "      <td>8</td>\n",
       "      <td>1502000.0</td>\n",
       "      <td>1</td>\n",
       "      <td>Business</td>\n",
       "      <td>54</td>\n",
       "      <td>4</td>\n",
       "      <td>2</td>\n",
       "      <td>Webshop</td>\n",
       "      <td>6</td>\n",
       "      <td>5</td>\n",
       "      <td>2532.84</td>\n",
       "      <td>466.47</td>\n",
       "      <td>Services</td>\n",
       "    </tr>\n",
       "    <tr>\n",
       "      <th>1</th>\n",
       "      <td>Standard</td>\n",
       "      <td>Inside Sales</td>\n",
       "      <td>Customer</td>\n",
       "      <td>AMERICAS</td>\n",
       "      <td>11</td>\n",
       "      <td>1814000.0</td>\n",
       "      <td>1</td>\n",
       "      <td>Premium</td>\n",
       "      <td>3385</td>\n",
       "      <td>158</td>\n",
       "      <td>51</td>\n",
       "      <td>Webshop</td>\n",
       "      <td>1</td>\n",
       "      <td>0</td>\n",
       "      <td>1298.15</td>\n",
       "      <td>972.57</td>\n",
       "      <td>Wholesale Trade</td>\n",
       "    </tr>\n",
       "    <tr>\n",
       "      <th>2</th>\n",
       "      <td>Standard</td>\n",
       "      <td>Inside Sales</td>\n",
       "      <td>Customer</td>\n",
       "      <td>AMERICAS</td>\n",
       "      <td>16</td>\n",
       "      <td>13444000.0</td>\n",
       "      <td>1</td>\n",
       "      <td>Remote Access</td>\n",
       "      <td>12</td>\n",
       "      <td>2</td>\n",
       "      <td>2</td>\n",
       "      <td>Webshop</td>\n",
       "      <td>2</td>\n",
       "      <td>1</td>\n",
       "      <td>155.83</td>\n",
       "      <td>76.69</td>\n",
       "      <td>Services</td>\n",
       "    </tr>\n",
       "    <tr>\n",
       "      <th>3</th>\n",
       "      <td>Standard</td>\n",
       "      <td>Reseller</td>\n",
       "      <td>End-User Reseller</td>\n",
       "      <td>AMERICAS</td>\n",
       "      <td>36</td>\n",
       "      <td>7066000.0</td>\n",
       "      <td>3</td>\n",
       "      <td>Corporate</td>\n",
       "      <td>1724</td>\n",
       "      <td>206</td>\n",
       "      <td>30</td>\n",
       "      <td>Inside Sales</td>\n",
       "      <td>7</td>\n",
       "      <td>5</td>\n",
       "      <td>7550.16</td>\n",
       "      <td>1088.58</td>\n",
       "      <td>Services</td>\n",
       "    </tr>\n",
       "    <tr>\n",
       "      <th>4</th>\n",
       "      <td>Standard</td>\n",
       "      <td>Inside Sales</td>\n",
       "      <td>Customer</td>\n",
       "      <td>AMERICAS</td>\n",
       "      <td>312</td>\n",
       "      <td>61054000.0</td>\n",
       "      <td>2</td>\n",
       "      <td>Corporate</td>\n",
       "      <td>6493</td>\n",
       "      <td>611</td>\n",
       "      <td>31</td>\n",
       "      <td>Inside Sales</td>\n",
       "      <td>10</td>\n",
       "      <td>1</td>\n",
       "      <td>4688.33</td>\n",
       "      <td>1593.70</td>\n",
       "      <td>Finance, Insurance, and Real Estate</td>\n",
       "    </tr>\n",
       "    <tr>\n",
       "      <th>5</th>\n",
       "      <td>Standard</td>\n",
       "      <td>Inside Sales</td>\n",
       "      <td>Customer</td>\n",
       "      <td>AMERICAS</td>\n",
       "      <td>25</td>\n",
       "      <td>4881000.0</td>\n",
       "      <td>1</td>\n",
       "      <td>Remote Access</td>\n",
       "      <td>583</td>\n",
       "      <td>3</td>\n",
       "      <td>5</td>\n",
       "      <td>Webshop</td>\n",
       "      <td>5</td>\n",
       "      <td>4</td>\n",
       "      <td>971.96</td>\n",
       "      <td>198.63</td>\n",
       "      <td>Retail Trade</td>\n",
       "    </tr>\n",
       "    <tr>\n",
       "      <th>6</th>\n",
       "      <td>Standard</td>\n",
       "      <td>Reseller</td>\n",
       "      <td>Reseller</td>\n",
       "      <td>AMERICAS</td>\n",
       "      <td>15</td>\n",
       "      <td>3013000.0</td>\n",
       "      <td>9</td>\n",
       "      <td>Corporate</td>\n",
       "      <td>2181</td>\n",
       "      <td>311</td>\n",
       "      <td>7</td>\n",
       "      <td>Reseller</td>\n",
       "      <td>7</td>\n",
       "      <td>15</td>\n",
       "      <td>66581.67</td>\n",
       "      <td>837.31</td>\n",
       "      <td>Services</td>\n",
       "    </tr>\n",
       "    <tr>\n",
       "      <th>7</th>\n",
       "      <td>Standard</td>\n",
       "      <td>Inside Sales</td>\n",
       "      <td>Customer</td>\n",
       "      <td>AMERICAS</td>\n",
       "      <td>717</td>\n",
       "      <td>159214000.0</td>\n",
       "      <td>1</td>\n",
       "      <td>Business</td>\n",
       "      <td>2415</td>\n",
       "      <td>244</td>\n",
       "      <td>4</td>\n",
       "      <td>Other</td>\n",
       "      <td>12</td>\n",
       "      <td>6</td>\n",
       "      <td>2986.48</td>\n",
       "      <td>211.88</td>\n",
       "      <td>Unknown</td>\n",
       "    </tr>\n",
       "    <tr>\n",
       "      <th>8</th>\n",
       "      <td>SMB</td>\n",
       "      <td>Inside Sales</td>\n",
       "      <td>Customer</td>\n",
       "      <td>AMERICAS</td>\n",
       "      <td>5</td>\n",
       "      <td>934000.0</td>\n",
       "      <td>3</td>\n",
       "      <td>Corporate</td>\n",
       "      <td>22037</td>\n",
       "      <td>3766</td>\n",
       "      <td>1311</td>\n",
       "      <td>Inside Sales</td>\n",
       "      <td>9</td>\n",
       "      <td>4</td>\n",
       "      <td>46022.86</td>\n",
       "      <td>9129.48</td>\n",
       "      <td>Services</td>\n",
       "    </tr>\n",
       "    <tr>\n",
       "      <th>9</th>\n",
       "      <td>Standard</td>\n",
       "      <td>Inside Sales</td>\n",
       "      <td>Customer</td>\n",
       "      <td>AMERICAS</td>\n",
       "      <td>22</td>\n",
       "      <td>4308000.0</td>\n",
       "      <td>2</td>\n",
       "      <td>Corporate</td>\n",
       "      <td>4064</td>\n",
       "      <td>672</td>\n",
       "      <td>15</td>\n",
       "      <td>Inside Sales</td>\n",
       "      <td>15</td>\n",
       "      <td>4</td>\n",
       "      <td>12584.99</td>\n",
       "      <td>1308.89</td>\n",
       "      <td>Services</td>\n",
       "    </tr>\n",
       "  </tbody>\n",
       "</table>\n",
       "</div>"
      ],
      "text/plain": [
       "  account_category bi_account_classification      customer_type    region  \\\n",
       "0         Standard              Inside Sales           Customer      APAC   \n",
       "1         Standard              Inside Sales           Customer  AMERICAS   \n",
       "2         Standard              Inside Sales           Customer  AMERICAS   \n",
       "3         Standard                  Reseller  End-User Reseller  AMERICAS   \n",
       "4         Standard              Inside Sales           Customer  AMERICAS   \n",
       "5         Standard              Inside Sales           Customer  AMERICAS   \n",
       "6         Standard                  Reseller           Reseller  AMERICAS   \n",
       "7         Standard              Inside Sales           Customer  AMERICAS   \n",
       "8              SMB              Inside Sales           Customer  AMERICAS   \n",
       "9         Standard              Inside Sales           Customer  AMERICAS   \n",
       "\n",
       "   employee_number  revenue_in_eur  number_distinct_active_licenses  \\\n",
       "0                8       1502000.0                                1   \n",
       "1               11       1814000.0                                1   \n",
       "2               16      13444000.0                                1   \n",
       "3               36       7066000.0                                3   \n",
       "4              312      61054000.0                                2   \n",
       "5               25       4881000.0                                1   \n",
       "6               15       3013000.0                                9   \n",
       "7              717     159214000.0                                1   \n",
       "8                5        934000.0                                3   \n",
       "9               22       4308000.0                                2   \n",
       "\n",
       "   major_edition  total_connections_12m  total_endpoints_12m  \\\n",
       "0       Business                     54                    4   \n",
       "1        Premium                   3385                  158   \n",
       "2  Remote Access                     12                    2   \n",
       "3      Corporate                   1724                  206   \n",
       "4      Corporate                   6493                  611   \n",
       "5  Remote Access                    583                    3   \n",
       "6      Corporate                   2181                  311   \n",
       "7       Business                   2415                  244   \n",
       "8      Corporate                  22037                 3766   \n",
       "9      Corporate                   4064                  672   \n",
       "\n",
       "   total_devices_12m current_sales_channel  age_customer  number_renewals  \\\n",
       "0                  2               Webshop             6                5   \n",
       "1                 51               Webshop             1                0   \n",
       "2                  2               Webshop             2                1   \n",
       "3                 30          Inside Sales             7                5   \n",
       "4                 31          Inside Sales            10                1   \n",
       "5                  5               Webshop             5                4   \n",
       "6                  7              Reseller             7               15   \n",
       "7                  4                 Other            12                6   \n",
       "8               1311          Inside Sales             9                4   \n",
       "9                 15          Inside Sales            15                4   \n",
       "\n",
       "   account_value_in_eur  billings_ltm_prorated  \\\n",
       "0               2532.84                 466.47   \n",
       "1               1298.15                 972.57   \n",
       "2                155.83                  76.69   \n",
       "3               7550.16                1088.58   \n",
       "4               4688.33                1593.70   \n",
       "5                971.96                 198.63   \n",
       "6              66581.67                 837.31   \n",
       "7               2986.48                 211.88   \n",
       "8              46022.86                9129.48   \n",
       "9              12584.99                1308.89   \n",
       "\n",
       "                              industry  \n",
       "0                             Services  \n",
       "1                      Wholesale Trade  \n",
       "2                             Services  \n",
       "3                             Services  \n",
       "4  Finance, Insurance, and Real Estate  \n",
       "5                         Retail Trade  \n",
       "6                             Services  \n",
       "7                              Unknown  \n",
       "8                             Services  \n",
       "9                             Services  "
      ]
     },
     "execution_count": 8,
     "metadata": {},
     "output_type": "execute_result"
    }
   ],
   "source": [
    "df.head(10)"
   ]
  },
  {
   "cell_type": "code",
   "execution_count": 9,
   "metadata": {},
   "outputs": [],
   "source": [
    "# Preprocess the data\n",
    "\n",
    "# Separate numeric and categorical columns\n",
    "cat_cols = ['account_category', 'bi_account_classification', 'customer_type', \n",
    "            'region', 'major_edition', 'current_sales_channel', 'industry']\n",
    "\n",
    "num_cols = [col for col in df.columns if col not in cat_cols]\n",
    "\n",
    "df_cols = num_cols + cat_cols"
   ]
  },
  {
   "cell_type": "code",
   "execution_count": 10,
   "metadata": {},
   "outputs": [],
   "source": [
    "# Preprocess numeric data\n",
    "scaler = MinMaxScaler()\n",
    "df[num_cols] = scaler.fit_transform(df[num_cols])\n",
    "\n",
    "# Preprocess categorical data\n",
    "le = LabelEncoder()\n",
    "for col in cat_cols:\n",
    "    df[col] = le.fit_transform(df[col])"
   ]
  },
  {
   "cell_type": "code",
   "execution_count": 11,
   "metadata": {},
   "outputs": [
    {
     "data": {
      "text/html": [
       "<div>\n",
       "<style scoped>\n",
       "    .dataframe tbody tr th:only-of-type {\n",
       "        vertical-align: middle;\n",
       "    }\n",
       "\n",
       "    .dataframe tbody tr th {\n",
       "        vertical-align: top;\n",
       "    }\n",
       "\n",
       "    .dataframe thead th {\n",
       "        text-align: right;\n",
       "    }\n",
       "</style>\n",
       "<table border=\"1\" class=\"dataframe\">\n",
       "  <thead>\n",
       "    <tr style=\"text-align: right;\">\n",
       "      <th></th>\n",
       "      <th>account_category</th>\n",
       "      <th>bi_account_classification</th>\n",
       "      <th>customer_type</th>\n",
       "      <th>region</th>\n",
       "      <th>employee_number</th>\n",
       "      <th>revenue_in_eur</th>\n",
       "      <th>number_distinct_active_licenses</th>\n",
       "      <th>major_edition</th>\n",
       "      <th>total_connections_12m</th>\n",
       "      <th>total_endpoints_12m</th>\n",
       "      <th>total_devices_12m</th>\n",
       "      <th>current_sales_channel</th>\n",
       "      <th>age_customer</th>\n",
       "      <th>number_renewals</th>\n",
       "      <th>account_value_in_eur</th>\n",
       "      <th>billings_ltm_prorated</th>\n",
       "      <th>industry</th>\n",
       "    </tr>\n",
       "  </thead>\n",
       "  <tbody>\n",
       "    <tr>\n",
       "      <th>0</th>\n",
       "      <td>4</td>\n",
       "      <td>1</td>\n",
       "      <td>0</td>\n",
       "      <td>1</td>\n",
       "      <td>0.000013</td>\n",
       "      <td>0.000003</td>\n",
       "      <td>0.000000</td>\n",
       "      <td>0</td>\n",
       "      <td>0.000046</td>\n",
       "      <td>0.000038</td>\n",
       "      <td>0.000076</td>\n",
       "      <td>5</td>\n",
       "      <td>0.294118</td>\n",
       "      <td>0.023585</td>\n",
       "      <td>0.001077</td>\n",
       "      <td>0.000670</td>\n",
       "      <td>7</td>\n",
       "    </tr>\n",
       "    <tr>\n",
       "      <th>1</th>\n",
       "      <td>4</td>\n",
       "      <td>1</td>\n",
       "      <td>0</td>\n",
       "      <td>0</td>\n",
       "      <td>0.000018</td>\n",
       "      <td>0.000004</td>\n",
       "      <td>0.000000</td>\n",
       "      <td>3</td>\n",
       "      <td>0.002967</td>\n",
       "      <td>0.002010</td>\n",
       "      <td>0.003819</td>\n",
       "      <td>5</td>\n",
       "      <td>0.000000</td>\n",
       "      <td>0.000000</td>\n",
       "      <td>0.000552</td>\n",
       "      <td>0.001398</td>\n",
       "      <td>10</td>\n",
       "    </tr>\n",
       "    <tr>\n",
       "      <th>2</th>\n",
       "      <td>4</td>\n",
       "      <td>1</td>\n",
       "      <td>0</td>\n",
       "      <td>0</td>\n",
       "      <td>0.000028</td>\n",
       "      <td>0.000030</td>\n",
       "      <td>0.000000</td>\n",
       "      <td>4</td>\n",
       "      <td>0.000010</td>\n",
       "      <td>0.000013</td>\n",
       "      <td>0.000076</td>\n",
       "      <td>5</td>\n",
       "      <td>0.058824</td>\n",
       "      <td>0.004717</td>\n",
       "      <td>0.000066</td>\n",
       "      <td>0.000109</td>\n",
       "      <td>7</td>\n",
       "    </tr>\n",
       "    <tr>\n",
       "      <th>3</th>\n",
       "      <td>4</td>\n",
       "      <td>4</td>\n",
       "      <td>1</td>\n",
       "      <td>0</td>\n",
       "      <td>0.000064</td>\n",
       "      <td>0.000016</td>\n",
       "      <td>0.012987</td>\n",
       "      <td>1</td>\n",
       "      <td>0.001511</td>\n",
       "      <td>0.002625</td>\n",
       "      <td>0.002215</td>\n",
       "      <td>0</td>\n",
       "      <td>0.352941</td>\n",
       "      <td>0.023585</td>\n",
       "      <td>0.003210</td>\n",
       "      <td>0.001565</td>\n",
       "      <td>7</td>\n",
       "    </tr>\n",
       "    <tr>\n",
       "      <th>4</th>\n",
       "      <td>4</td>\n",
       "      <td>1</td>\n",
       "      <td>0</td>\n",
       "      <td>0</td>\n",
       "      <td>0.000573</td>\n",
       "      <td>0.000139</td>\n",
       "      <td>0.006494</td>\n",
       "      <td>1</td>\n",
       "      <td>0.005692</td>\n",
       "      <td>0.007810</td>\n",
       "      <td>0.002291</td>\n",
       "      <td>0</td>\n",
       "      <td>0.529412</td>\n",
       "      <td>0.004717</td>\n",
       "      <td>0.001993</td>\n",
       "      <td>0.002292</td>\n",
       "      <td>2</td>\n",
       "    </tr>\n",
       "    <tr>\n",
       "      <th>5</th>\n",
       "      <td>4</td>\n",
       "      <td>1</td>\n",
       "      <td>0</td>\n",
       "      <td>0</td>\n",
       "      <td>0.000044</td>\n",
       "      <td>0.000011</td>\n",
       "      <td>0.000000</td>\n",
       "      <td>4</td>\n",
       "      <td>0.000510</td>\n",
       "      <td>0.000026</td>\n",
       "      <td>0.000306</td>\n",
       "      <td>5</td>\n",
       "      <td>0.235294</td>\n",
       "      <td>0.018868</td>\n",
       "      <td>0.000413</td>\n",
       "      <td>0.000284</td>\n",
       "      <td>6</td>\n",
       "    </tr>\n",
       "    <tr>\n",
       "      <th>6</th>\n",
       "      <td>4</td>\n",
       "      <td>4</td>\n",
       "      <td>3</td>\n",
       "      <td>0</td>\n",
       "      <td>0.000026</td>\n",
       "      <td>0.000007</td>\n",
       "      <td>0.051948</td>\n",
       "      <td>1</td>\n",
       "      <td>0.001912</td>\n",
       "      <td>0.003969</td>\n",
       "      <td>0.000458</td>\n",
       "      <td>4</td>\n",
       "      <td>0.352941</td>\n",
       "      <td>0.070755</td>\n",
       "      <td>0.028307</td>\n",
       "      <td>0.001204</td>\n",
       "      <td>7</td>\n",
       "    </tr>\n",
       "    <tr>\n",
       "      <th>7</th>\n",
       "      <td>4</td>\n",
       "      <td>1</td>\n",
       "      <td>0</td>\n",
       "      <td>0</td>\n",
       "      <td>0.001319</td>\n",
       "      <td>0.000361</td>\n",
       "      <td>0.000000</td>\n",
       "      <td>0</td>\n",
       "      <td>0.002117</td>\n",
       "      <td>0.003111</td>\n",
       "      <td>0.000229</td>\n",
       "      <td>3</td>\n",
       "      <td>0.647059</td>\n",
       "      <td>0.028302</td>\n",
       "      <td>0.001270</td>\n",
       "      <td>0.000304</td>\n",
       "      <td>9</td>\n",
       "    </tr>\n",
       "    <tr>\n",
       "      <th>8</th>\n",
       "      <td>3</td>\n",
       "      <td>1</td>\n",
       "      <td>0</td>\n",
       "      <td>0</td>\n",
       "      <td>0.000007</td>\n",
       "      <td>0.000002</td>\n",
       "      <td>0.012987</td>\n",
       "      <td>1</td>\n",
       "      <td>0.019322</td>\n",
       "      <td>0.048204</td>\n",
       "      <td>0.100053</td>\n",
       "      <td>0</td>\n",
       "      <td>0.470588</td>\n",
       "      <td>0.018868</td>\n",
       "      <td>0.019566</td>\n",
       "      <td>0.013138</td>\n",
       "      <td>7</td>\n",
       "    </tr>\n",
       "    <tr>\n",
       "      <th>9</th>\n",
       "      <td>4</td>\n",
       "      <td>1</td>\n",
       "      <td>0</td>\n",
       "      <td>0</td>\n",
       "      <td>0.000039</td>\n",
       "      <td>0.000010</td>\n",
       "      <td>0.006494</td>\n",
       "      <td>1</td>\n",
       "      <td>0.003563</td>\n",
       "      <td>0.008591</td>\n",
       "      <td>0.001069</td>\n",
       "      <td>0</td>\n",
       "      <td>0.823529</td>\n",
       "      <td>0.018868</td>\n",
       "      <td>0.005350</td>\n",
       "      <td>0.001882</td>\n",
       "      <td>7</td>\n",
       "    </tr>\n",
       "  </tbody>\n",
       "</table>\n",
       "</div>"
      ],
      "text/plain": [
       "   account_category  bi_account_classification  customer_type  region  \\\n",
       "0                 4                          1              0       1   \n",
       "1                 4                          1              0       0   \n",
       "2                 4                          1              0       0   \n",
       "3                 4                          4              1       0   \n",
       "4                 4                          1              0       0   \n",
       "5                 4                          1              0       0   \n",
       "6                 4                          4              3       0   \n",
       "7                 4                          1              0       0   \n",
       "8                 3                          1              0       0   \n",
       "9                 4                          1              0       0   \n",
       "\n",
       "   employee_number  revenue_in_eur  number_distinct_active_licenses  \\\n",
       "0         0.000013        0.000003                         0.000000   \n",
       "1         0.000018        0.000004                         0.000000   \n",
       "2         0.000028        0.000030                         0.000000   \n",
       "3         0.000064        0.000016                         0.012987   \n",
       "4         0.000573        0.000139                         0.006494   \n",
       "5         0.000044        0.000011                         0.000000   \n",
       "6         0.000026        0.000007                         0.051948   \n",
       "7         0.001319        0.000361                         0.000000   \n",
       "8         0.000007        0.000002                         0.012987   \n",
       "9         0.000039        0.000010                         0.006494   \n",
       "\n",
       "   major_edition  total_connections_12m  total_endpoints_12m  \\\n",
       "0              0               0.000046             0.000038   \n",
       "1              3               0.002967             0.002010   \n",
       "2              4               0.000010             0.000013   \n",
       "3              1               0.001511             0.002625   \n",
       "4              1               0.005692             0.007810   \n",
       "5              4               0.000510             0.000026   \n",
       "6              1               0.001912             0.003969   \n",
       "7              0               0.002117             0.003111   \n",
       "8              1               0.019322             0.048204   \n",
       "9              1               0.003563             0.008591   \n",
       "\n",
       "   total_devices_12m  current_sales_channel  age_customer  number_renewals  \\\n",
       "0           0.000076                      5      0.294118         0.023585   \n",
       "1           0.003819                      5      0.000000         0.000000   \n",
       "2           0.000076                      5      0.058824         0.004717   \n",
       "3           0.002215                      0      0.352941         0.023585   \n",
       "4           0.002291                      0      0.529412         0.004717   \n",
       "5           0.000306                      5      0.235294         0.018868   \n",
       "6           0.000458                      4      0.352941         0.070755   \n",
       "7           0.000229                      3      0.647059         0.028302   \n",
       "8           0.100053                      0      0.470588         0.018868   \n",
       "9           0.001069                      0      0.823529         0.018868   \n",
       "\n",
       "   account_value_in_eur  billings_ltm_prorated  industry  \n",
       "0              0.001077               0.000670         7  \n",
       "1              0.000552               0.001398        10  \n",
       "2              0.000066               0.000109         7  \n",
       "3              0.003210               0.001565         7  \n",
       "4              0.001993               0.002292         2  \n",
       "5              0.000413               0.000284         6  \n",
       "6              0.028307               0.001204         7  \n",
       "7              0.001270               0.000304         9  \n",
       "8              0.019566               0.013138         7  \n",
       "9              0.005350               0.001882         7  "
      ]
     },
     "execution_count": 11,
     "metadata": {},
     "output_type": "execute_result"
    }
   ],
   "source": [
    "df.head(10)"
   ]
  },
  {
   "cell_type": "code",
   "execution_count": 12,
   "metadata": {},
   "outputs": [],
   "source": [
    "# Extract features columns excluding 'account_id'\n",
    "features_df = df\n",
    "\n",
    "# Convert DataFrame to numpy array\n",
    "features = features_df.to_numpy()"
   ]
  },
  {
   "cell_type": "markdown",
   "metadata": {},
   "source": [
    "## PCA"
   ]
  },
  {
   "cell_type": "code",
   "execution_count": 13,
   "metadata": {},
   "outputs": [
    {
     "name": "stdout",
     "output_type": "stream",
     "text": [
      "[4.27185124e-01 3.57299018e-01 1.38584069e-01 3.33043550e-02\n",
      " 3.02880667e-02 9.74715131e-03 2.84571460e-03 7.05800979e-04\n",
      " 1.22898049e-05 1.11638753e-05 5.23822696e-06 3.28420185e-06\n",
      " 3.11008164e-06 2.91381752e-06 1.55406232e-06 9.62233979e-07\n",
      " 1.83716894e-07]\n"
     ]
    }
   ],
   "source": [
    "pca = PCA()\n",
    "pca.fit(features)\n",
    "print(pca.explained_variance_ratio_)"
   ]
  },
  {
   "cell_type": "code",
   "execution_count": 14,
   "metadata": {},
   "outputs": [
    {
     "name": "stdout",
     "output_type": "stream",
     "text": [
      "Number of components explaining at least 80% variance: 3\n"
     ]
    },
    {
     "data": {
      "image/png": "[encoded data removed]",
      "text/plain": [
       "<Figure size 1000x800 with 1 Axes>"
      ]
     },
     "metadata": {},
     "output_type": "display_data"
    }
   ],
   "source": [
    "cumulative_explained_variance = np.cumsum(pca.explained_variance_ratio_)\n",
    "\n",
    "plt.figure(figsize= (10, 8))\n",
    "plt.plot(range(1,18), cumulative_explained_variance, marker = 'o', linestyle='--')\n",
    "plt.title('Explained Variance by Components')\n",
    "plt.xlabel('NUmber of Components')\n",
    "plt.ylabel('Cumulative Explained Variance')\n",
    "\n",
    "# Find the number of components that explain at least 80% of the variance\n",
    "n_components_80 = np.argmax(cumulative_explained_variance >= 0.80) + 1\n",
    "print(f\"Number of components explaining at least 80% variance: {n_components_80}\")"
   ]
  },
  {
   "cell_type": "code",
   "execution_count": 15,
   "metadata": {},
   "outputs": [],
   "source": [
    "pca = PCA(n_components=4)\n",
    "features_pca = pca.fit_transform(features)"
   ]
  },
  {
   "cell_type": "markdown",
   "metadata": {},
   "source": [
    "## Determine the number of clusters(k)"
   ]
  },
  {
   "cell_type": "code",
   "execution_count": 16,
   "metadata": {},
   "outputs": [
    {
     "name": "stdout",
     "output_type": "stream",
     "text": [
      "Now on k 1\n",
      "Now on k 2\n",
      "Now on k 3\n",
      "Now on k 4\n",
      "Now on k 5\n",
      "Now on k 6\n",
      "Now on k 7\n",
      "Now on k 8\n",
      "Now on k 9\n",
      "Now on k 10\n",
      "Now on k 11\n",
      "Now on k 12\n",
      "Now on k 13\n",
      "Now on k 14\n",
      "Now on k 15\n",
      "Now on k 16\n",
      "Now on k 17\n",
      "Now on k 18\n",
      "Now on k 19\n"
     ]
    }
   ],
   "source": [
    "# Define a range of k values to test\n",
    "k_range = range(1, 20)\n",
    "\n",
    "wcss = []\n",
    "for k in k_range:\n",
    "    print('Now on k {}'.format(k))\n",
    "    kmeans = KMeans(n_clusters=k, random_state=0).fit(features_pca)\n",
    "    wcss.append(kmeans.inertia_)"
   ]
  },
  {
   "cell_type": "code",
   "execution_count": 17,
   "metadata": {},
   "outputs": [
    {
     "data": {
      "image/png": "[encoded data removed]",
      "text/plain": [
       "<Figure size 1000x800 with 1 Axes>"
      ]
     },
     "metadata": {},
     "output_type": "display_data"
    }
   ],
   "source": [
    "# Plotting WCSS vs k to identify the elbow point\n",
    "plt.figure(figsize=(10, 8))\n",
    "plt.plot(k_range, wcss, 'o-', markerfacecolor='lightblue', markeredgewidth=2, markersize=8)\n",
    "plt.xlabel('Number of clusters (k)')\n",
    "plt.ylabel('WCSS (Within Cluster Sum of Squares)')\n",
    "plt.title('Elbow Method for KMeans Clustering')\n",
    "plt.show()"
   ]
  },
  {
   "cell_type": "markdown",
   "metadata": {},
   "source": [
    "## Clustering"
   ]
  },
  {
   "cell_type": "code",
   "execution_count": 18,
   "metadata": {},
   "outputs": [
    {
     "data": {
      "text/html": [
       "<div>\n",
       "<style scoped>\n",
       "    .dataframe tbody tr th:only-of-type {\n",
       "        vertical-align: middle;\n",
       "    }\n",
       "\n",
       "    .dataframe tbody tr th {\n",
       "        vertical-align: top;\n",
       "    }\n",
       "\n",
       "    .dataframe thead th {\n",
       "        text-align: right;\n",
       "    }\n",
       "</style>\n",
       "<table border=\"1\" class=\"dataframe\">\n",
       "  <thead>\n",
       "    <tr style=\"text-align: right;\">\n",
       "      <th></th>\n",
       "      <th>account_category</th>\n",
       "      <th>bi_account_classification</th>\n",
       "      <th>customer_type</th>\n",
       "      <th>region</th>\n",
       "      <th>employee_number</th>\n",
       "      <th>revenue_in_eur</th>\n",
       "      <th>number_distinct_active_licenses</th>\n",
       "      <th>major_edition</th>\n",
       "      <th>total_connections_12m</th>\n",
       "      <th>total_endpoints_12m</th>\n",
       "      <th>...</th>\n",
       "      <th>age_customer</th>\n",
       "      <th>number_renewals</th>\n",
       "      <th>account_value_in_eur</th>\n",
       "      <th>billings_ltm_prorated</th>\n",
       "      <th>industry</th>\n",
       "      <th>0</th>\n",
       "      <th>Component 1</th>\n",
       "      <th>Component 2</th>\n",
       "      <th>Component 3</th>\n",
       "      <th>clusters</th>\n",
       "    </tr>\n",
       "    <tr>\n",
       "      <th>cluster_kmeans</th>\n",
       "      <th></th>\n",
       "      <th></th>\n",
       "      <th></th>\n",
       "      <th></th>\n",
       "      <th></th>\n",
       "      <th></th>\n",
       "      <th></th>\n",
       "      <th></th>\n",
       "      <th></th>\n",
       "      <th></th>\n",
       "      <th></th>\n",
       "      <th></th>\n",
       "      <th></th>\n",
       "      <th></th>\n",
       "      <th></th>\n",
       "      <th></th>\n",
       "      <th></th>\n",
       "      <th></th>\n",
       "      <th></th>\n",
       "      <th></th>\n",
       "      <th></th>\n",
       "    </tr>\n",
       "  </thead>\n",
       "  <tbody>\n",
       "    <tr>\n",
       "      <th>0</th>\n",
       "      <td>3.990565</td>\n",
       "      <td>1.317113</td>\n",
       "      <td>0.111663</td>\n",
       "      <td>1.625411</td>\n",
       "      <td>0.000713</td>\n",
       "      <td>0.000383</td>\n",
       "      <td>0.002442</td>\n",
       "      <td>1.324126</td>\n",
       "      <td>0.000800</td>\n",
       "      <td>0.001052</td>\n",
       "      <td>...</td>\n",
       "      <td>0.252506</td>\n",
       "      <td>0.016545</td>\n",
       "      <td>0.001445</td>\n",
       "      <td>0.001009</td>\n",
       "      <td>2.062442</td>\n",
       "      <td>3.819737</td>\n",
       "      <td>-2.008215</td>\n",
       "      <td>-0.035104</td>\n",
       "      <td>0.087887</td>\n",
       "      <td>0.0</td>\n",
       "    </tr>\n",
       "    <tr>\n",
       "      <th>1</th>\n",
       "      <td>3.993628</td>\n",
       "      <td>1.243732</td>\n",
       "      <td>0.094302</td>\n",
       "      <td>1.572391</td>\n",
       "      <td>0.000432</td>\n",
       "      <td>0.000239</td>\n",
       "      <td>0.002593</td>\n",
       "      <td>1.331531</td>\n",
       "      <td>0.000838</td>\n",
       "      <td>0.001284</td>\n",
       "      <td>...</td>\n",
       "      <td>0.261547</td>\n",
       "      <td>0.016643</td>\n",
       "      <td>0.001430</td>\n",
       "      <td>0.000967</td>\n",
       "      <td>7.306905</td>\n",
       "      <td>-1.417161</td>\n",
       "      <td>-2.291100</td>\n",
       "      <td>0.028239</td>\n",
       "      <td>0.022139</td>\n",
       "      <td>1.0</td>\n",
       "    </tr>\n",
       "    <tr>\n",
       "      <th>2</th>\n",
       "      <td>3.923171</td>\n",
       "      <td>1.008173</td>\n",
       "      <td>0.014901</td>\n",
       "      <td>1.646349</td>\n",
       "      <td>0.000464</td>\n",
       "      <td>0.000195</td>\n",
       "      <td>0.006192</td>\n",
       "      <td>1.366414</td>\n",
       "      <td>0.002582</td>\n",
       "      <td>0.003989</td>\n",
       "      <td>...</td>\n",
       "      <td>0.394133</td>\n",
       "      <td>0.019425</td>\n",
       "      <td>0.003282</td>\n",
       "      <td>0.002182</td>\n",
       "      <td>7.385684</td>\n",
       "      <td>-1.739389</td>\n",
       "      <td>2.559212</td>\n",
       "      <td>-0.016848</td>\n",
       "      <td>-0.037487</td>\n",
       "      <td>2.0</td>\n",
       "    </tr>\n",
       "    <tr>\n",
       "      <th>3</th>\n",
       "      <td>3.896997</td>\n",
       "      <td>1.010445</td>\n",
       "      <td>0.017917</td>\n",
       "      <td>1.622298</td>\n",
       "      <td>0.000854</td>\n",
       "      <td>0.000501</td>\n",
       "      <td>0.006051</td>\n",
       "      <td>1.437473</td>\n",
       "      <td>0.002443</td>\n",
       "      <td>0.003347</td>\n",
       "      <td>...</td>\n",
       "      <td>0.382660</td>\n",
       "      <td>0.018995</td>\n",
       "      <td>0.003571</td>\n",
       "      <td>0.002443</td>\n",
       "      <td>2.154940</td>\n",
       "      <td>3.485988</td>\n",
       "      <td>2.805315</td>\n",
       "      <td>0.001464</td>\n",
       "      <td>-0.077702</td>\n",
       "      <td>3.0</td>\n",
       "    </tr>\n",
       "  </tbody>\n",
       "</table>\n",
       "<p>4 rows × 22 columns</p>\n",
       "</div>"
      ],
      "text/plain": [
       "                account_category  bi_account_classification  customer_type  \\\n",
       "cluster_kmeans                                                               \n",
       "0                       3.990565                   1.317113       0.111663   \n",
       "1                       3.993628                   1.243732       0.094302   \n",
       "2                       3.923171                   1.008173       0.014901   \n",
       "3                       3.896997                   1.010445       0.017917   \n",
       "\n",
       "                  region  employee_number  revenue_in_eur  \\\n",
       "cluster_kmeans                                              \n",
       "0               1.625411         0.000713        0.000383   \n",
       "1               1.572391         0.000432        0.000239   \n",
       "2               1.646349         0.000464        0.000195   \n",
       "3               1.622298         0.000854        0.000501   \n",
       "\n",
       "                number_distinct_active_licenses  major_edition  \\\n",
       "cluster_kmeans                                                   \n",
       "0                                      0.002442       1.324126   \n",
       "1                                      0.002593       1.331531   \n",
       "2                                      0.006192       1.366414   \n",
       "3                                      0.006051       1.437473   \n",
       "\n",
       "                total_connections_12m  total_endpoints_12m  ...  age_customer  \\\n",
       "cluster_kmeans                                              ...                 \n",
       "0                            0.000800             0.001052  ...      0.252506   \n",
       "1                            0.000838             0.001284  ...      0.261547   \n",
       "2                            0.002582             0.003989  ...      0.394133   \n",
       "3                            0.002443             0.003347  ...      0.382660   \n",
       "\n",
       "                number_renewals  account_value_in_eur  billings_ltm_prorated  \\\n",
       "cluster_kmeans                                                                 \n",
       "0                      0.016545              0.001445               0.001009   \n",
       "1                      0.016643              0.001430               0.000967   \n",
       "2                      0.019425              0.003282               0.002182   \n",
       "3                      0.018995              0.003571               0.002443   \n",
       "\n",
       "                industry         0  Component 1  Component 2  Component 3  \\\n",
       "cluster_kmeans                                                              \n",
       "0               2.062442  3.819737    -2.008215    -0.035104     0.087887   \n",
       "1               7.306905 -1.417161    -2.291100     0.028239     0.022139   \n",
       "2               7.385684 -1.739389     2.559212    -0.016848    -0.037487   \n",
       "3               2.154940  3.485988     2.805315     0.001464    -0.077702   \n",
       "\n",
       "                clusters  \n",
       "cluster_kmeans            \n",
       "0                    0.0  \n",
       "1                    1.0  \n",
       "2                    2.0  \n",
       "3                    3.0  \n",
       "\n",
       "[4 rows x 22 columns]"
      ]
     },
     "execution_count": 18,
     "metadata": {},
     "output_type": "execute_result"
    }
   ],
   "source": [
    "# Fit the KMeans model\n",
    "kmeans = KMeans(n_clusters=4, random_state=0).fit(features_pca)\n",
    "\n",
    "# Get the cluster labels\n",
    "cluster_labels = kmeans.labels_\n",
    "\n",
    "# Get the cluster centers\n",
    "cluster_centers = kmeans.cluster_centers_\n",
    "\n",
    "df_pca = pd.concat([df.reset_index(drop=True), pd.DataFrame(features_pca)], axis=1)\n",
    "df_pca.columns.values[-3: ] = ['Component 1', 'Component 2', 'Component 3']\n",
    "df_pca['clusters'] = kmeans.labels_\n",
    "df_pca['cluster_kmeans'] = kmeans.predict(features_pca)\n",
    "df_latex = df_pca.groupby(['cluster_kmeans']).mean()\n",
    "df_latex"
   ]
  },
  {
   "cell_type": "code",
   "execution_count": 19,
   "metadata": {},
   "outputs": [],
   "source": [
    "df_latex.drop(columns=['Component 1', 'Component 2', 'Component 3', 'clusters'], inplace=True)\n",
    "df_latex = df_latex.T"
   ]
  },
  {
   "cell_type": "code",
   "execution_count": 20,
   "metadata": {},
   "outputs": [
    {
     "data": {
      "text/html": [
       "<div>\n",
       "<style scoped>\n",
       "    .dataframe tbody tr th:only-of-type {\n",
       "        vertical-align: middle;\n",
       "    }\n",
       "\n",
       "    .dataframe tbody tr th {\n",
       "        vertical-align: top;\n",
       "    }\n",
       "\n",
       "    .dataframe thead th {\n",
       "        text-align: right;\n",
       "    }\n",
       "</style>\n",
       "<table border=\"1\" class=\"dataframe\">\n",
       "  <thead>\n",
       "    <tr style=\"text-align: right;\">\n",
       "      <th>cluster_kmeans</th>\n",
       "      <th>0</th>\n",
       "      <th>1</th>\n",
       "      <th>2</th>\n",
       "      <th>3</th>\n",
       "    </tr>\n",
       "  </thead>\n",
       "  <tbody>\n",
       "    <tr>\n",
       "      <th>account_category</th>\n",
       "      <td>3.990565</td>\n",
       "      <td>3.993628</td>\n",
       "      <td>3.923171</td>\n",
       "      <td>3.896997</td>\n",
       "    </tr>\n",
       "    <tr>\n",
       "      <th>bi_account_classification</th>\n",
       "      <td>1.317113</td>\n",
       "      <td>1.243732</td>\n",
       "      <td>1.008173</td>\n",
       "      <td>1.010445</td>\n",
       "    </tr>\n",
       "    <tr>\n",
       "      <th>customer_type</th>\n",
       "      <td>0.111663</td>\n",
       "      <td>0.094302</td>\n",
       "      <td>0.014901</td>\n",
       "      <td>0.017917</td>\n",
       "    </tr>\n",
       "    <tr>\n",
       "      <th>region</th>\n",
       "      <td>1.625411</td>\n",
       "      <td>1.572391</td>\n",
       "      <td>1.646349</td>\n",
       "      <td>1.622298</td>\n",
       "    </tr>\n",
       "    <tr>\n",
       "      <th>employee_number</th>\n",
       "      <td>0.000713</td>\n",
       "      <td>0.000432</td>\n",
       "      <td>0.000464</td>\n",
       "      <td>0.000854</td>\n",
       "    </tr>\n",
       "    <tr>\n",
       "      <th>revenue_in_eur</th>\n",
       "      <td>0.000383</td>\n",
       "      <td>0.000239</td>\n",
       "      <td>0.000195</td>\n",
       "      <td>0.000501</td>\n",
       "    </tr>\n",
       "    <tr>\n",
       "      <th>number_distinct_active_licenses</th>\n",
       "      <td>0.002442</td>\n",
       "      <td>0.002593</td>\n",
       "      <td>0.006192</td>\n",
       "      <td>0.006051</td>\n",
       "    </tr>\n",
       "    <tr>\n",
       "      <th>major_edition</th>\n",
       "      <td>1.324126</td>\n",
       "      <td>1.331531</td>\n",
       "      <td>1.366414</td>\n",
       "      <td>1.437473</td>\n",
       "    </tr>\n",
       "    <tr>\n",
       "      <th>total_connections_12m</th>\n",
       "      <td>0.000800</td>\n",
       "      <td>0.000838</td>\n",
       "      <td>0.002582</td>\n",
       "      <td>0.002443</td>\n",
       "    </tr>\n",
       "    <tr>\n",
       "      <th>total_endpoints_12m</th>\n",
       "      <td>0.001052</td>\n",
       "      <td>0.001284</td>\n",
       "      <td>0.003989</td>\n",
       "      <td>0.003347</td>\n",
       "    </tr>\n",
       "    <tr>\n",
       "      <th>total_devices_12m</th>\n",
       "      <td>0.000916</td>\n",
       "      <td>0.000899</td>\n",
       "      <td>0.002283</td>\n",
       "      <td>0.002474</td>\n",
       "    </tr>\n",
       "    <tr>\n",
       "      <th>current_sales_channel</th>\n",
       "      <td>4.872323</td>\n",
       "      <td>4.895487</td>\n",
       "      <td>0.043476</td>\n",
       "      <td>0.059263</td>\n",
       "    </tr>\n",
       "    <tr>\n",
       "      <th>age_customer</th>\n",
       "      <td>0.252506</td>\n",
       "      <td>0.261547</td>\n",
       "      <td>0.394133</td>\n",
       "      <td>0.382660</td>\n",
       "    </tr>\n",
       "    <tr>\n",
       "      <th>number_renewals</th>\n",
       "      <td>0.016545</td>\n",
       "      <td>0.016643</td>\n",
       "      <td>0.019425</td>\n",
       "      <td>0.018995</td>\n",
       "    </tr>\n",
       "    <tr>\n",
       "      <th>account_value_in_eur</th>\n",
       "      <td>0.001445</td>\n",
       "      <td>0.001430</td>\n",
       "      <td>0.003282</td>\n",
       "      <td>0.003571</td>\n",
       "    </tr>\n",
       "    <tr>\n",
       "      <th>billings_ltm_prorated</th>\n",
       "      <td>0.001009</td>\n",
       "      <td>0.000967</td>\n",
       "      <td>0.002182</td>\n",
       "      <td>0.002443</td>\n",
       "    </tr>\n",
       "    <tr>\n",
       "      <th>industry</th>\n",
       "      <td>2.062442</td>\n",
       "      <td>7.306905</td>\n",
       "      <td>7.385684</td>\n",
       "      <td>2.154940</td>\n",
       "    </tr>\n",
       "    <tr>\n",
       "      <th>0</th>\n",
       "      <td>3.819737</td>\n",
       "      <td>-1.417161</td>\n",
       "      <td>-1.739389</td>\n",
       "      <td>3.485988</td>\n",
       "    </tr>\n",
       "  </tbody>\n",
       "</table>\n",
       "</div>"
      ],
      "text/plain": [
       "cluster_kmeans                          0         1         2         3\n",
       "account_category                 3.990565  3.993628  3.923171  3.896997\n",
       "bi_account_classification        1.317113  1.243732  1.008173  1.010445\n",
       "customer_type                    0.111663  0.094302  0.014901  0.017917\n",
       "region                           1.625411  1.572391  1.646349  1.622298\n",
       "employee_number                  0.000713  0.000432  0.000464  0.000854\n",
       "revenue_in_eur                   0.000383  0.000239  0.000195  0.000501\n",
       "number_distinct_active_licenses  0.002442  0.002593  0.006192  0.006051\n",
       "major_edition                    1.324126  1.331531  1.366414  1.437473\n",
       "total_connections_12m            0.000800  0.000838  0.002582  0.002443\n",
       "total_endpoints_12m              0.001052  0.001284  0.003989  0.003347\n",
       "total_devices_12m                0.000916  0.000899  0.002283  0.002474\n",
       "current_sales_channel            4.872323  4.895487  0.043476  0.059263\n",
       "age_customer                     0.252506  0.261547  0.394133  0.382660\n",
       "number_renewals                  0.016545  0.016643  0.019425  0.018995\n",
       "account_value_in_eur             0.001445  0.001430  0.003282  0.003571\n",
       "billings_ltm_prorated            0.001009  0.000967  0.002182  0.002443\n",
       "industry                         2.062442  7.306905  7.385684  2.154940\n",
       "0                                3.819737 -1.417161 -1.739389  3.485988"
      ]
     },
     "execution_count": 20,
     "metadata": {},
     "output_type": "execute_result"
    }
   ],
   "source": [
    "df_latex"
   ]
  },
  {
   "cell_type": "code",
   "execution_count": 21,
   "metadata": {},
   "outputs": [
    {
     "name": "stdout",
     "output_type": "stream",
     "text": [
      "\\begin{table}[H]\n",
      "\\centering\n",
      "\\caption{Average Values of each feature per Cluster}\n",
      "\\label{tab:avg_clusters}\n",
      "\\begin{tabular}{cccc}\n",
      "\\toprule\n",
      "    0 &      1 &      2 &     3 \\\\\n",
      "\\midrule\n",
      "3.991 &  3.994 &  3.923 & 3.897 \\\\\n",
      "1.317 &  1.244 &  1.008 & 1.010 \\\\\n",
      "0.112 &  0.094 &  0.015 & 0.018 \\\\\n",
      "1.625 &  1.572 &  1.646 & 1.622 \\\\\n",
      "0.001 &  0.000 &  0.000 & 0.001 \\\\\n",
      "0.000 &  0.000 &  0.000 & 0.001 \\\\\n",
      "0.002 &  0.003 &  0.006 & 0.006 \\\\\n",
      "1.324 &  1.332 &  1.366 & 1.437 \\\\\n",
      "0.001 &  0.001 &  0.003 & 0.002 \\\\\n",
      "0.001 &  0.001 &  0.004 & 0.003 \\\\\n",
      "0.001 &  0.001 &  0.002 & 0.002 \\\\\n",
      "4.872 &  4.895 &  0.043 & 0.059 \\\\\n",
      "0.253 &  0.262 &  0.394 & 0.383 \\\\\n",
      "0.017 &  0.017 &  0.019 & 0.019 \\\\\n",
      "0.001 &  0.001 &  0.003 & 0.004 \\\\\n",
      "0.001 &  0.001 &  0.002 & 0.002 \\\\\n",
      "2.062 &  7.307 &  7.386 & 2.155 \\\\\n",
      "3.820 & -1.417 & -1.739 & 3.486 \\\\\n",
      "\\bottomrule\n",
      "\\end{tabular}\n",
      "\\end{table}\n",
      "\n"
     ]
    }
   ],
   "source": [
    "latex_table = df_latex.to_latex(\n",
    "    index=False,  # To not include the DataFrame index as a column in the table\n",
    "    caption=\"Average Values of each feature per Cluster\",  # The caption to appear above the table in the LaTeX document\n",
    "    label=\"tab:avg_clusters\",  # A label used for referencing the table within the LaTeX document\n",
    "    position=\"H\",  # The preferred positions where the table should be placed in the document ('here', 'top', 'bottom', 'page')\n",
    "    column_format=\"cccc\",  # The format of the columns: left-aligned with vertical lines between them\n",
    "    escape=False,  # Disable escaping LaTeX special characters in the DataFrame\n",
    "    float_format=\"{:0.3f}\".format  # Formats floats to two decimal places\n",
    ")\n",
    "\n",
    "print(latex_table)"
   ]
  },
  {
   "cell_type": "code",
   "execution_count": 22,
   "metadata": {},
   "outputs": [
    {
     "data": {
      "text/plain": [
       "1    38292\n",
       "2    31811\n",
       "0    16111\n",
       "3    13786\n",
       "Name: cluster_kmeans, dtype: int64"
      ]
     },
     "execution_count": 22,
     "metadata": {},
     "output_type": "execute_result"
    }
   ],
   "source": [
    "df_pca.cluster_kmeans.value_counts()"
   ]
  },
  {
   "cell_type": "code",
   "execution_count": 23,
   "metadata": {},
   "outputs": [
    {
     "data": {
      "image/png": "[encoded data removed]",
      "text/plain": [
       "<Figure size 1000x500 with 2 Axes>"
      ]
     },
     "metadata": {},
     "output_type": "display_data"
    }
   ],
   "source": [
    "# Visualize the correlation matrix\n",
    "plt.figure(figsize=(10,5))\n",
    "sns.heatmap(df_pca.groupby(['cluster_kmeans']).mean(), cmap='coolwarm', annot=True)\n",
    "plt.show()"
   ]
  },
  {
   "cell_type": "code",
   "execution_count": 24,
   "metadata": {},
   "outputs": [
    {
     "data": {
      "application/vnd.plotly.v1+json": {
       "config": {
        "plotlyServerURL": "https://plot.ly"
       },
       "data": [
        {
         "hovertemplate": "label=0<br>value=%{r}<br>variable=%{theta}<extra></extra>",
         "legendgroup": "0",
         "line": {
          "color": "#636efa",
          "dash": "solid"
         },
         "marker": {
          "symbol": "circle"
         },
         "mode": "lines",
         "name": "0",
         "r": [
          3.9905654521755323,
          1.3171125318105643,
          0.11166283905406243,
          1.6254112097324809,
          0.0007125428618629125,
          0.0003830621079922823,
          0.002442470942253699,
          1.324126373285333,
          0.0008003851788312308,
          0.0010520327521370285,
          0.0009164586494984674,
          4.872323257401775,
          0.2525055953732744,
          0.016545299531668858,
          0.0014454711233247645,
          0.0010092372392678105,
          2.062441809943517,
          3.9905654521755323
         ],
         "showlegend": true,
         "subplot": "polar",
         "theta": [
          "account_category",
          "bi_account_classification",
          "customer_type",
          "region",
          "employee_number",
          "revenue_in_eur",
          "number_distinct_active_licenses",
          "major_edition",
          "total_connections_12m",
          "total_endpoints_12m",
          "total_devices_12m",
          "current_sales_channel",
          "age_customer",
          "number_renewals",
          "account_value_in_eur",
          "billings_ltm_prorated",
          "industry",
          "account_category"
         ],
         "type": "scatterpolar"
        },
        {
         "hovertemplate": "label=1<br>value=%{r}<br>variable=%{theta}<extra></extra>",
         "legendgroup": "1",
         "line": {
          "color": "#EF553B",
          "dash": "solid"
         },
         "marker": {
          "symbol": "circle"
         },
         "mode": "lines",
         "name": "1",
         "r": [
          3.9936279118353704,
          1.2437323722970854,
          0.09430168181343361,
          1.5723910999686619,
          0.00043183077326635407,
          0.00023906630430481116,
          0.0025925187316600666,
          1.3315313903687453,
          0.0008380485377900662,
          0.0012842611048902843,
          0.0008986886785355866,
          4.895487308053902,
          0.2615474895693156,
          0.016642719598556475,
          0.001430270713354327,
          0.0009666680082945206,
          7.306904836519378,
          3.9936279118353704
         ],
         "showlegend": true,
         "subplot": "polar",
         "theta": [
          "account_category",
          "bi_account_classification",
          "customer_type",
          "region",
          "employee_number",
          "revenue_in_eur",
          "number_distinct_active_licenses",
          "major_edition",
          "total_connections_12m",
          "total_endpoints_12m",
          "total_devices_12m",
          "current_sales_channel",
          "age_customer",
          "number_renewals",
          "account_value_in_eur",
          "billings_ltm_prorated",
          "industry",
          "account_category"
         ],
         "type": "scatterpolar"
        },
        {
         "hovertemplate": "label=2<br>value=%{r}<br>variable=%{theta}<extra></extra>",
         "legendgroup": "2",
         "line": {
          "color": "#00cc96",
          "dash": "solid"
         },
         "marker": {
          "symbol": "circle"
         },
         "mode": "lines",
         "name": "2",
         "r": [
          3.9231712300776462,
          1.0081732733959952,
          0.014900506114237214,
          1.6463487472886738,
          0.0004639904296630171,
          0.00019496820290322445,
          0.006192418125397284,
          1.3664141334758417,
          0.002581656939093173,
          0.003989412562691437,
          0.002282786918593553,
          0.04347552733331238,
          0.394132995060902,
          0.019425166208674703,
          0.00328165946747229,
          0.002181551400627842,
          7.385684197290246,
          3.9231712300776462
         ],
         "showlegend": true,
         "subplot": "polar",
         "theta": [
          "account_category",
          "bi_account_classification",
          "customer_type",
          "region",
          "employee_number",
          "revenue_in_eur",
          "number_distinct_active_licenses",
          "major_edition",
          "total_connections_12m",
          "total_endpoints_12m",
          "total_devices_12m",
          "current_sales_channel",
          "age_customer",
          "number_renewals",
          "account_value_in_eur",
          "billings_ltm_prorated",
          "industry",
          "account_category"
         ],
         "type": "scatterpolar"
        },
        {
         "hovertemplate": "label=3<br>value=%{r}<br>variable=%{theta}<extra></extra>",
         "legendgroup": "3",
         "line": {
          "color": "#ab63fa",
          "dash": "solid"
         },
         "marker": {
          "symbol": "circle"
         },
         "mode": "lines",
         "name": "3",
         "r": [
          3.896996953431017,
          1.0104453793703758,
          0.01791672711446395,
          1.6222979834614826,
          0.0008540008390896424,
          0.0005005898942160674,
          0.0060512170261191,
          1.437472798491223,
          0.0024425562488969103,
          0.0033474115081488817,
          0.002473560983883787,
          0.0592630204555346,
          0.38266015821677574,
          0.01899452274525154,
          0.003571172957903683,
          0.0024430796824982505,
          2.154939793993907,
          3.896996953431017
         ],
         "showlegend": true,
         "subplot": "polar",
         "theta": [
          "account_category",
          "bi_account_classification",
          "customer_type",
          "region",
          "employee_number",
          "revenue_in_eur",
          "number_distinct_active_licenses",
          "major_edition",
          "total_connections_12m",
          "total_endpoints_12m",
          "total_devices_12m",
          "current_sales_channel",
          "age_customer",
          "number_renewals",
          "account_value_in_eur",
          "billings_ltm_prorated",
          "industry",
          "account_category"
         ],
         "type": "scatterpolar"
        }
       ],
       "layout": {
        "height": 800,
        "legend": {
         "title": {
          "text": "label"
         },
         "tracegroupgap": 0
        },
        "polar": {
         "angularaxis": {
          "direction": "clockwise",
          "rotation": 90
         },
         "domain": {
          "x": [
           0,
           1
          ],
          "y": [
           0,
           1
          ]
         }
        },
        "template": {
         "data": {
          "bar": [
           {
            "error_x": {
             "color": "#2a3f5f"
            },
            "error_y": {
             "color": "#2a3f5f"
            },
            "marker": {
             "line": {
              "color": "#E5ECF6",
              "width": 0.5
             },
             "pattern": {
              "fillmode": "overlay",
              "size": 10,
              "solidity": 0.2
             }
            },
            "type": "bar"
           }
          ],
          "barpolar": [
           {
            "marker": {
             "line": {
              "color": "#E5ECF6",
              "width": 0.5
             },
             "pattern": {
              "fillmode": "overlay",
              "size": 10,
              "solidity": 0.2
             }
            },
            "type": "barpolar"
           }
          ],
          "carpet": [
           {
            "aaxis": {
             "endlinecolor": "#2a3f5f",
             "gridcolor": "white",
             "linecolor": "white",
             "minorgridcolor": "white",
             "startlinecolor": "#2a3f5f"
            },
            "baxis": {
             "endlinecolor": "#2a3f5f",
             "gridcolor": "white",
             "linecolor": "white",
             "minorgridcolor": "white",
             "startlinecolor": "#2a3f5f"
            },
            "type": "carpet"
           }
          ],
          "choropleth": [
           {
            "colorbar": {
             "outlinewidth": 0,
             "ticks": ""
            },
            "type": "choropleth"
           }
          ],
          "contour": [
           {
            "colorbar": {
             "outlinewidth": 0,
             "ticks": ""
            },
            "colorscale": [
             [
              0,
              "#0d0887"
             ],
             [
              0.1111111111111111,
              "#46039f"
             ],
             [
              0.2222222222222222,
              "#7201a8"
             ],
             [
              0.3333333333333333,
              "#9c179e"
             ],
             [
              0.4444444444444444,
              "#bd3786"
             ],
             [
              0.5555555555555556,
              "#d8576b"
             ],
             [
              0.6666666666666666,
              "#ed7953"
             ],
             [
              0.7777777777777778,
              "#fb9f3a"
             ],
             [
              0.8888888888888888,
              "#fdca26"
             ],
             [
              1,
              "#f0f921"
             ]
            ],
            "type": "contour"
           }
          ],
          "contourcarpet": [
           {
            "colorbar": {
             "outlinewidth": 0,
             "ticks": ""
            },
            "type": "contourcarpet"
           }
          ],
          "heatmap": [
           {
            "colorbar": {
             "outlinewidth": 0,
             "ticks": ""
            },
            "colorscale": [
             [
              0,
              "#0d0887"
             ],
             [
              0.1111111111111111,
              "#46039f"
             ],
             [
              0.2222222222222222,
              "#7201a8"
             ],
             [
              0.3333333333333333,
              "#9c179e"
             ],
             [
              0.4444444444444444,
              "#bd3786"
             ],
             [
              0.5555555555555556,
              "#d8576b"
             ],
             [
              0.6666666666666666,
              "#ed7953"
             ],
             [
              0.7777777777777778,
              "#fb9f3a"
             ],
             [
              0.8888888888888888,
              "#fdca26"
             ],
             [
              1,
              "#f0f921"
             ]
            ],
            "type": "heatmap"
           }
          ],
          "heatmapgl": [
           {
            "colorbar": {
             "outlinewidth": 0,
             "ticks": ""
            },
            "colorscale": [
             [
              0,
              "#0d0887"
             ],
             [
              0.1111111111111111,
              "#46039f"
             ],
             [
              0.2222222222222222,
              "#7201a8"
             ],
             [
              0.3333333333333333,
              "#9c179e"
             ],
             [
              0.4444444444444444,
              "#bd3786"
             ],
             [
              0.5555555555555556,
              "#d8576b"
             ],
             [
              0.6666666666666666,
              "#ed7953"
             ],
             [
              0.7777777777777778,
              "#fb9f3a"
             ],
             [
              0.8888888888888888,
              "#fdca26"
             ],
             [
              1,
              "#f0f921"
             ]
            ],
            "type": "heatmapgl"
           }
          ],
          "histogram": [
           {
            "marker": {
             "pattern": {
              "fillmode": "overlay",
              "size": 10,
              "solidity": 0.2
             }
            },
            "type": "histogram"
           }
          ],
          "histogram2d": [
           {
            "colorbar": {
             "outlinewidth": 0,
             "ticks": ""
            },
            "colorscale": [
             [
              0,
              "#0d0887"
             ],
             [
              0.1111111111111111,
              "#46039f"
             ],
             [
              0.2222222222222222,
              "#7201a8"
             ],
             [
              0.3333333333333333,
              "#9c179e"
             ],
             [
              0.4444444444444444,
              "#bd3786"
             ],
             [
              0.5555555555555556,
              "#d8576b"
             ],
             [
              0.6666666666666666,
              "#ed7953"
             ],
             [
              0.7777777777777778,
              "#fb9f3a"
             ],
             [
              0.8888888888888888,
              "#fdca26"
             ],
             [
              1,
              "#f0f921"
             ]
            ],
            "type": "histogram2d"
           }
          ],
          "histogram2dcontour": [
           {
            "colorbar": {
             "outlinewidth": 0,
             "ticks": ""
            },
            "colorscale": [
             [
              0,
              "#0d0887"
             ],
             [
              0.1111111111111111,
              "#46039f"
             ],
             [
              0.2222222222222222,
              "#7201a8"
             ],
             [
              0.3333333333333333,
              "#9c179e"
             ],
             [
              0.4444444444444444,
              "#bd3786"
             ],
             [
              0.5555555555555556,
              "#d8576b"
             ],
             [
              0.6666666666666666,
              "#ed7953"
             ],
             [
              0.7777777777777778,
              "#fb9f3a"
             ],
             [
              0.8888888888888888,
              "#fdca26"
             ],
             [
              1,
              "#f0f921"
             ]
            ],
            "type": "histogram2dcontour"
           }
          ],
          "mesh3d": [
           {
            "colorbar": {
             "outlinewidth": 0,
             "ticks": ""
            },
            "type": "mesh3d"
           }
          ],
          "parcoords": [
           {
            "line": {
             "colorbar": {
              "outlinewidth": 0,
              "ticks": ""
             }
            },
            "type": "parcoords"
           }
          ],
          "pie": [
           {
            "automargin": true,
            "type": "pie"
           }
          ],
          "scatter": [
           {
            "fillpattern": {
             "fillmode": "overlay",
             "size": 10,
             "solidity": 0.2
            },
            "type": "scatter"
           }
          ],
          "scatter3d": [
           {
            "line": {
             "colorbar": {
              "outlinewidth": 0,
              "ticks": ""
             }
            },
            "marker": {
             "colorbar": {
              "outlinewidth": 0,
              "ticks": ""
             }
            },
            "type": "scatter3d"
           }
          ],
          "scattercarpet": [
           {
            "marker": {
             "colorbar": {
              "outlinewidth": 0,
              "ticks": ""
             }
            },
            "type": "scattercarpet"
           }
          ],
          "scattergeo": [
           {
            "marker": {
             "colorbar": {
              "outlinewidth": 0,
              "ticks": ""
             }
            },
            "type": "scattergeo"
           }
          ],
          "scattergl": [
           {
            "marker": {
             "colorbar": {
              "outlinewidth": 0,
              "ticks": ""
             }
            },
            "type": "scattergl"
           }
          ],
          "scattermapbox": [
           {
            "marker": {
             "colorbar": {
              "outlinewidth": 0,
              "ticks": ""
             }
            },
            "type": "scattermapbox"
           }
          ],
          "scatterpolar": [
           {
            "marker": {
             "colorbar": {
              "outlinewidth": 0,
              "ticks": ""
             }
            },
            "type": "scatterpolar"
           }
          ],
          "scatterpolargl": [
           {
            "marker": {
             "colorbar": {
              "outlinewidth": 0,
              "ticks": ""
             }
            },
            "type": "scatterpolargl"
           }
          ],
          "scatterternary": [
           {
            "marker": {
             "colorbar": {
              "outlinewidth": 0,
              "ticks": ""
             }
            },
            "type": "scatterternary"
           }
          ],
          "surface": [
           {
            "colorbar": {
             "outlinewidth": 0,
             "ticks": ""
            },
            "colorscale": [
             [
              0,
              "#0d0887"
             ],
             [
              0.1111111111111111,
              "#46039f"
             ],
             [
              0.2222222222222222,
              "#7201a8"
             ],
             [
              0.3333333333333333,
              "#9c179e"
             ],
             [
              0.4444444444444444,
              "#bd3786"
             ],
             [
              0.5555555555555556,
              "#d8576b"
             ],
             [
              0.6666666666666666,
              "#ed7953"
             ],
             [
              0.7777777777777778,
              "#fb9f3a"
             ],
             [
              0.8888888888888888,
              "#fdca26"
             ],
             [
              1,
              "#f0f921"
             ]
            ],
            "type": "surface"
           }
          ],
          "table": [
           {
            "cells": {
             "fill": {
              "color": "#EBF0F8"
             },
             "line": {
              "color": "white"
             }
            },
            "header": {
             "fill": {
              "color": "#C8D4E3"
             },
             "line": {
              "color": "white"
             }
            },
            "type": "table"
           }
          ]
         },
         "layout": {
          "annotationdefaults": {
           "arrowcolor": "#2a3f5f",
           "arrowhead": 0,
           "arrowwidth": 1
          },
          "autotypenumbers": "strict",
          "coloraxis": {
           "colorbar": {
            "outlinewidth": 0,
            "ticks": ""
           }
          },
          "colorscale": {
           "diverging": [
            [
             0,
             "#8e0152"
            ],
            [
             0.1,
             "#c51b7d"
            ],
            [
             0.2,
             "#de77ae"
            ],
            [
             0.3,
             "#f1b6da"
            ],
            [
             0.4,
             "#fde0ef"
            ],
            [
             0.5,
             "#f7f7f7"
            ],
            [
             0.6,
             "#e6f5d0"
            ],
            [
             0.7,
             "#b8e186"
            ],
            [
             0.8,
             "#7fbc41"
            ],
            [
             0.9,
             "#4d9221"
            ],
            [
             1,
             "#276419"
            ]
           ],
           "sequential": [
            [
             0,
             "#0d0887"
            ],
            [
             0.1111111111111111,
             "#46039f"
            ],
            [
             0.2222222222222222,
             "#7201a8"
            ],
            [
             0.3333333333333333,
             "#9c179e"
            ],
            [
             0.4444444444444444,
             "#bd3786"
            ],
            [
             0.5555555555555556,
             "#d8576b"
            ],
            [
             0.6666666666666666,
             "#ed7953"
            ],
            [
             0.7777777777777778,
             "#fb9f3a"
            ],
            [
             0.8888888888888888,
             "#fdca26"
            ],
            [
             1,
             "#f0f921"
            ]
           ],
           "sequentialminus": [
            [
             0,
             "#0d0887"
            ],
            [
             0.1111111111111111,
             "#46039f"
            ],
            [
             0.2222222222222222,
             "#7201a8"
            ],
            [
             0.3333333333333333,
             "#9c179e"
            ],
            [
             0.4444444444444444,
             "#bd3786"
            ],
            [
             0.5555555555555556,
             "#d8576b"
            ],
            [
             0.6666666666666666,
             "#ed7953"
            ],
            [
             0.7777777777777778,
             "#fb9f3a"
            ],
            [
             0.8888888888888888,
             "#fdca26"
            ],
            [
             1,
             "#f0f921"
            ]
           ]
          },
          "colorway": [
           "#636efa",
           "#EF553B",
           "#00cc96",
           "#ab63fa",
           "#FFA15A",
           "#19d3f3",
           "#FF6692",
           "#B6E880",
           "#FF97FF",
           "#FECB52"
          ],
          "font": {
           "color": "#2a3f5f"
          },
          "geo": {
           "bgcolor": "white",
           "lakecolor": "white",
           "landcolor": "#E5ECF6",
           "showlakes": true,
           "showland": true,
           "subunitcolor": "white"
          },
          "hoverlabel": {
           "align": "left"
          },
          "hovermode": "closest",
          "mapbox": {
           "style": "light"
          },
          "paper_bgcolor": "white",
          "plot_bgcolor": "#E5ECF6",
          "polar": {
           "angularaxis": {
            "gridcolor": "white",
            "linecolor": "white",
            "ticks": ""
           },
           "bgcolor": "#E5ECF6",
           "radialaxis": {
            "gridcolor": "white",
            "linecolor": "white",
            "ticks": ""
           }
          },
          "scene": {
           "xaxis": {
            "backgroundcolor": "#E5ECF6",
            "gridcolor": "white",
            "gridwidth": 2,
            "linecolor": "white",
            "showbackground": true,
            "ticks": "",
            "zerolinecolor": "white"
           },
           "yaxis": {
            "backgroundcolor": "#E5ECF6",
            "gridcolor": "white",
            "gridwidth": 2,
            "linecolor": "white",
            "showbackground": true,
            "ticks": "",
            "zerolinecolor": "white"
           },
           "zaxis": {
            "backgroundcolor": "#E5ECF6",
            "gridcolor": "white",
            "gridwidth": 2,
            "linecolor": "white",
            "showbackground": true,
            "ticks": "",
            "zerolinecolor": "white"
           }
          },
          "shapedefaults": {
           "line": {
            "color": "#2a3f5f"
           }
          },
          "ternary": {
           "aaxis": {
            "gridcolor": "white",
            "linecolor": "white",
            "ticks": ""
           },
           "baxis": {
            "gridcolor": "white",
            "linecolor": "white",
            "ticks": ""
           },
           "bgcolor": "#E5ECF6",
           "caxis": {
            "gridcolor": "white",
            "linecolor": "white",
            "ticks": ""
           }
          },
          "title": {
           "x": 0.05
          },
          "xaxis": {
           "automargin": true,
           "gridcolor": "white",
           "linecolor": "white",
           "ticks": "",
           "title": {
            "standoff": 15
           },
           "zerolinecolor": "white",
           "zerolinewidth": 2
          },
          "yaxis": {
           "automargin": true,
           "gridcolor": "white",
           "linecolor": "white",
           "ticks": "",
           "title": {
            "standoff": 15
           },
           "zerolinecolor": "white",
           "zerolinewidth": 2
          }
         }
        },
        "title": {
         "text": "Baseline Model Original Dataset Radar Chart"
        },
        "width": 1200
       }
      }
     },
     "metadata": {},
     "output_type": "display_data"
    }
   ],
   "source": [
    "clusters=pd.DataFrame(features, columns=features_df.columns)\n",
    "clusters['label']=kmeans.labels_\n",
    "polar=clusters.groupby(\"label\").mean().reset_index()\n",
    "polar=pd.melt(polar,id_vars=[\"label\"])\n",
    "fig = px.line_polar(polar, r=\"value\", theta=\"variable\", color=\"label\", \n",
    "                    line_close=True,\n",
    "                    height=800,\n",
    "                    width=1200, \n",
    "                    title=\"Baseline Model Original Dataset Radar Chart\")\n",
    "fig.show()"
   ]
  },
  {
   "cell_type": "markdown",
   "metadata": {},
   "source": [
    "Os resultados obtidos são justificados pelas seguintes razões:\n",
    "- As variveis numericas, devido à sua distribuição centrada num intervalo muito baixo, o que faz com que existem imensos outrliers, demonstram não possuir uma importancia grande para o modelo, que por justa-cause não lida bem com esses mesmos;\n",
    "- Também a multicolineariedade, tem um papel fulcral nos resultados obtidos, sendo que piora a performance do modelo;\n",
    "- As escalas atribuidas pelos métodos de scaling e encoding, demonstram não serem eficazes, pelo atribuem maior importancia às variáveis categoricas do que às numericas, devido aos numeros serem de uma escalha diferente e maior."
   ]
  },
  {
   "cell_type": "code",
   "execution_count": 25,
   "metadata": {},
   "outputs": [
    {
     "data": {
      "text/html": [
       "<div>\n",
       "<style scoped>\n",
       "    .dataframe tbody tr th:only-of-type {\n",
       "        vertical-align: middle;\n",
       "    }\n",
       "\n",
       "    .dataframe tbody tr th {\n",
       "        vertical-align: top;\n",
       "    }\n",
       "\n",
       "    .dataframe thead th {\n",
       "        text-align: right;\n",
       "    }\n",
       "</style>\n",
       "<table border=\"1\" class=\"dataframe\">\n",
       "  <thead>\n",
       "    <tr style=\"text-align: right;\">\n",
       "      <th></th>\n",
       "      <th>cluster</th>\n",
       "      <th>count</th>\n",
       "    </tr>\n",
       "  </thead>\n",
       "  <tbody>\n",
       "    <tr>\n",
       "      <th>0</th>\n",
       "      <td>0</td>\n",
       "      <td>16111</td>\n",
       "    </tr>\n",
       "    <tr>\n",
       "      <th>1</th>\n",
       "      <td>1</td>\n",
       "      <td>38292</td>\n",
       "    </tr>\n",
       "    <tr>\n",
       "      <th>2</th>\n",
       "      <td>2</td>\n",
       "      <td>31811</td>\n",
       "    </tr>\n",
       "    <tr>\n",
       "      <th>3</th>\n",
       "      <td>3</td>\n",
       "      <td>13786</td>\n",
       "    </tr>\n",
       "  </tbody>\n",
       "</table>\n",
       "</div>"
      ],
      "text/plain": [
       "   cluster  count\n",
       "0        0  16111\n",
       "1        1  38292\n",
       "2        2  31811\n",
       "3        3  13786"
      ]
     },
     "execution_count": 25,
     "metadata": {},
     "output_type": "execute_result"
    }
   ],
   "source": [
    "clusters_df = clusters.groupby('label').size().reset_index()\n",
    "clusters_df.rename(columns={'label': 'cluster', 0: 'count'}, inplace=True)\n",
    "clusters_df"
   ]
  },
  {
   "cell_type": "code",
   "execution_count": 26,
   "metadata": {},
   "outputs": [
    {
     "data": {
      "image/png": "[encoded data removed]",
      "text/plain": [
       "<Figure size 640x480 with 1 Axes>"
      ]
     },
     "metadata": {},
     "output_type": "display_data"
    }
   ],
   "source": [
    "#define Seaborn color palette to use\n",
    "colors = sns.color_palette('pastel')[0:5]\n",
    "\n",
    "#create pie chart\n",
    "plt.pie(clusters_df['count'], labels = clusters_df['cluster'], colors = colors, autopct='%.0f%%')\n",
    "plt.title('Baseline Model Original Dataset Pie Chart')\n",
    "plt.show()"
   ]
  },
  {
   "cell_type": "markdown",
   "metadata": {},
   "source": [
    "## Evaluation"
   ]
  },
  {
   "cell_type": "code",
   "execution_count": 27,
   "metadata": {},
   "outputs": [
    {
     "name": "stdout",
     "output_type": "stream",
     "text": [
      "Silhouette Score: 0.519\n"
     ]
    }
   ],
   "source": [
    "# Calculate Silhouette Score\n",
    "silhouette_avg = silhouette_score(features_pca, cluster_labels)\n",
    "print(f'Silhouette Score: {silhouette_avg:.3f}')"
   ]
  },
  {
   "cell_type": "code",
   "execution_count": 28,
   "metadata": {},
   "outputs": [
    {
     "name": "stdout",
     "output_type": "stream",
     "text": [
      "Davies-Bouldin Index: 0.776\n"
     ]
    }
   ],
   "source": [
    "# Calculate Davies-Bouldin Index\n",
    "davies_bouldin_avg = davies_bouldin_score(features_pca, cluster_labels)\n",
    "print(f'Davies-Bouldin Index: {davies_bouldin_avg:.3f}')"
   ]
  }
 ],
 "metadata": {
  "kernelspec": {
   "display_name": "base",
   "language": "python",
   "name": "python3"
  },
  "language_info": {
   "codemirror_mode": {
    "name": "ipython",
    "version": 3
   },
   "file_extension": ".py",
   "mimetype": "text/x-python",
   "name": "python",
   "nbconvert_exporter": "python",
   "pygments_lexer": "ipython3",
   "version": "3.9.13"
  }
 },
 "nbformat": 4,
 "nbformat_minor": 2
}
