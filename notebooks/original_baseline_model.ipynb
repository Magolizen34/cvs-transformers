{
 "cells": [
  {
   "cell_type": "markdown",
   "metadata": {},
   "source": [
    "# Baseline Model"
   ]
  },
  {
   "cell_type": "code",
   "execution_count": 35,
   "metadata": {},
   "outputs": [],
   "source": [
    "import matplotlib.pyplot as plt \n",
    "from matplotlib.lines import Line2D  # For custom legend markers\n",
    "import numpy as np\n",
    "import pandas as pd\n",
    "import plotly.express as px\n",
    "import re\n",
    "from sklearn.cluster import KMeans\n",
    "from sklearn.decomposition import PCA\n",
    "from sklearn.metrics import silhouette_score, davies_bouldin_score\n",
    "from sklearn.preprocessing import MinMaxScaler, LabelEncoder\n",
    "import seaborn as sns\n",
    "import warnings # ignore warnings\n",
    "warnings.filterwarnings('ignore')"
   ]
  },
  {
   "cell_type": "code",
   "execution_count": 36,
   "metadata": {},
   "outputs": [],
   "source": [
    "df = pd.read_csv('../data/customers_100k.csv', sep='|') "
   ]
  },
  {
   "cell_type": "code",
   "execution_count": 37,
   "metadata": {},
   "outputs": [
    {
     "name": "stdout",
     "output_type": "stream",
     "text": [
      "<class 'pandas.core.frame.DataFrame'>\n",
      "RangeIndex: 100000 entries, 0 to 99999\n",
      "Data columns (total 21 columns):\n",
      " #   Column                           Non-Null Count   Dtype  \n",
      "---  ------                           --------------   -----  \n",
      " 0   account_id                       100000 non-null  object \n",
      " 1   country_name                     100000 non-null  object \n",
      " 2   account_category                 100000 non-null  object \n",
      " 3   bi_account_classification        100000 non-null  object \n",
      " 4   customer_type                    100000 non-null  object \n",
      " 5   region                           100000 non-null  object \n",
      " 6   sic_code                         100000 non-null  int64  \n",
      " 7   employee_number                  100000 non-null  int64  \n",
      " 8   revenue_in_eur                   100000 non-null  float64\n",
      " 9   number_distinct_active_licenses  100000 non-null  int64  \n",
      " 10  major_edition                    100000 non-null  object \n",
      " 11  total_connections_12m            100000 non-null  int64  \n",
      " 12  total_endpoints_12m              100000 non-null  int64  \n",
      " 13  total_devices_12m                100000 non-null  int64  \n",
      " 14  last_invoice_date_created        100000 non-null  object \n",
      " 15  current_sales_channel            100000 non-null  object \n",
      " 16  age_customer                     100000 non-null  int64  \n",
      " 17  number_renewals                  100000 non-null  int64  \n",
      " 18  account_value_in_eur             100000 non-null  float64\n",
      " 19  billings_ltm_prorated            100000 non-null  float64\n",
      " 20  business_model                   100000 non-null  object \n",
      "dtypes: float64(3), int64(8), object(10)\n",
      "memory usage: 16.0+ MB\n"
     ]
    }
   ],
   "source": [
    "df.info()"
   ]
  },
  {
   "cell_type": "code",
   "execution_count": 38,
   "metadata": {},
   "outputs": [
    {
     "data": {
      "text/html": [
       "<div>\n",
       "<style scoped>\n",
       "    .dataframe tbody tr th:only-of-type {\n",
       "        vertical-align: middle;\n",
       "    }\n",
       "\n",
       "    .dataframe tbody tr th {\n",
       "        vertical-align: top;\n",
       "    }\n",
       "\n",
       "    .dataframe thead th {\n",
       "        text-align: right;\n",
       "    }\n",
       "</style>\n",
       "<table border=\"1\" class=\"dataframe\">\n",
       "  <thead>\n",
       "    <tr style=\"text-align: right;\">\n",
       "      <th></th>\n",
       "      <th>account_id</th>\n",
       "      <th>country_name</th>\n",
       "      <th>account_category</th>\n",
       "      <th>bi_account_classification</th>\n",
       "      <th>customer_type</th>\n",
       "      <th>region</th>\n",
       "      <th>sic_code</th>\n",
       "      <th>employee_number</th>\n",
       "      <th>revenue_in_eur</th>\n",
       "      <th>number_distinct_active_licenses</th>\n",
       "      <th>...</th>\n",
       "      <th>total_connections_12m</th>\n",
       "      <th>total_endpoints_12m</th>\n",
       "      <th>total_devices_12m</th>\n",
       "      <th>last_invoice_date_created</th>\n",
       "      <th>current_sales_channel</th>\n",
       "      <th>age_customer</th>\n",
       "      <th>number_renewals</th>\n",
       "      <th>account_value_in_eur</th>\n",
       "      <th>billings_ltm_prorated</th>\n",
       "      <th>business_model</th>\n",
       "    </tr>\n",
       "  </thead>\n",
       "  <tbody>\n",
       "    <tr>\n",
       "      <th>0</th>\n",
       "      <td>ac6a99474410f1c59c91da3f0cf9cf3f</td>\n",
       "      <td>Tonga</td>\n",
       "      <td>Standard</td>\n",
       "      <td>Inside Sales</td>\n",
       "      <td>Customer</td>\n",
       "      <td>APAC</td>\n",
       "      <td>7381</td>\n",
       "      <td>8</td>\n",
       "      <td>1502000.0</td>\n",
       "      <td>1</td>\n",
       "      <td>...</td>\n",
       "      <td>54</td>\n",
       "      <td>4</td>\n",
       "      <td>2</td>\n",
       "      <td>2023-11-23 01:57:47</td>\n",
       "      <td>Webshop</td>\n",
       "      <td>6</td>\n",
       "      <td>5</td>\n",
       "      <td>2532.84</td>\n",
       "      <td>466.47</td>\n",
       "      <td>S</td>\n",
       "    </tr>\n",
       "    <tr>\n",
       "      <th>1</th>\n",
       "      <td>1cc66628ed41f3db5a55195e93277a04</td>\n",
       "      <td>Costa Rica</td>\n",
       "      <td>Standard</td>\n",
       "      <td>Inside Sales</td>\n",
       "      <td>Customer</td>\n",
       "      <td>AMERICAS</td>\n",
       "      <td>5049</td>\n",
       "      <td>11</td>\n",
       "      <td>1814000.0</td>\n",
       "      <td>1</td>\n",
       "      <td>...</td>\n",
       "      <td>3385</td>\n",
       "      <td>158</td>\n",
       "      <td>51</td>\n",
       "      <td>2023-10-07 19:35:11</td>\n",
       "      <td>Webshop</td>\n",
       "      <td>1</td>\n",
       "      <td>0</td>\n",
       "      <td>1298.15</td>\n",
       "      <td>972.57</td>\n",
       "      <td>S</td>\n",
       "    </tr>\n",
       "    <tr>\n",
       "      <th>2</th>\n",
       "      <td>db5f3cdd5629b9591b720b9b7e077df2</td>\n",
       "      <td>Costa Rica</td>\n",
       "      <td>Standard</td>\n",
       "      <td>Inside Sales</td>\n",
       "      <td>Customer</td>\n",
       "      <td>AMERICAS</td>\n",
       "      <td>7389</td>\n",
       "      <td>16</td>\n",
       "      <td>13444000.0</td>\n",
       "      <td>1</td>\n",
       "      <td>...</td>\n",
       "      <td>12</td>\n",
       "      <td>2</td>\n",
       "      <td>2</td>\n",
       "      <td>2023-12-02 02:03:05</td>\n",
       "      <td>Webshop</td>\n",
       "      <td>2</td>\n",
       "      <td>1</td>\n",
       "      <td>155.83</td>\n",
       "      <td>76.69</td>\n",
       "      <td>S</td>\n",
       "    </tr>\n",
       "    <tr>\n",
       "      <th>3</th>\n",
       "      <td>bebb4028688f519f36ed220855b0a62f</td>\n",
       "      <td>Costa Rica</td>\n",
       "      <td>Standard</td>\n",
       "      <td>Reseller</td>\n",
       "      <td>End-User Reseller</td>\n",
       "      <td>AMERICAS</td>\n",
       "      <td>8711</td>\n",
       "      <td>36</td>\n",
       "      <td>7066000.0</td>\n",
       "      <td>3</td>\n",
       "      <td>...</td>\n",
       "      <td>1724</td>\n",
       "      <td>206</td>\n",
       "      <td>30</td>\n",
       "      <td>2023-10-25 23:32:46</td>\n",
       "      <td>Inside Sales</td>\n",
       "      <td>7</td>\n",
       "      <td>5</td>\n",
       "      <td>7550.16</td>\n",
       "      <td>1088.58</td>\n",
       "      <td>S</td>\n",
       "    </tr>\n",
       "    <tr>\n",
       "      <th>4</th>\n",
       "      <td>507c0bfb67895d773e3f8bd33b861d09</td>\n",
       "      <td>Costa Rica</td>\n",
       "      <td>Standard</td>\n",
       "      <td>Inside Sales</td>\n",
       "      <td>Customer</td>\n",
       "      <td>AMERICAS</td>\n",
       "      <td>6531</td>\n",
       "      <td>312</td>\n",
       "      <td>61054000.0</td>\n",
       "      <td>2</td>\n",
       "      <td>...</td>\n",
       "      <td>6493</td>\n",
       "      <td>611</td>\n",
       "      <td>31</td>\n",
       "      <td>2023-11-17 04:16:51</td>\n",
       "      <td>Inside Sales</td>\n",
       "      <td>10</td>\n",
       "      <td>1</td>\n",
       "      <td>4688.33</td>\n",
       "      <td>1593.70</td>\n",
       "      <td>S</td>\n",
       "    </tr>\n",
       "    <tr>\n",
       "      <th>5</th>\n",
       "      <td>b1267a5b953b7267de811510f838172b</td>\n",
       "      <td>Costa Rica</td>\n",
       "      <td>Standard</td>\n",
       "      <td>Inside Sales</td>\n",
       "      <td>Customer</td>\n",
       "      <td>AMERICAS</td>\n",
       "      <td>5943</td>\n",
       "      <td>25</td>\n",
       "      <td>4881000.0</td>\n",
       "      <td>1</td>\n",
       "      <td>...</td>\n",
       "      <td>583</td>\n",
       "      <td>3</td>\n",
       "      <td>5</td>\n",
       "      <td>2023-08-21 01:11:38</td>\n",
       "      <td>Webshop</td>\n",
       "      <td>5</td>\n",
       "      <td>4</td>\n",
       "      <td>971.96</td>\n",
       "      <td>198.63</td>\n",
       "      <td>S</td>\n",
       "    </tr>\n",
       "    <tr>\n",
       "      <th>6</th>\n",
       "      <td>3315ad169d4d2e9080f1377c44377c7c</td>\n",
       "      <td>Costa Rica</td>\n",
       "      <td>Standard</td>\n",
       "      <td>Reseller</td>\n",
       "      <td>Reseller</td>\n",
       "      <td>AMERICAS</td>\n",
       "      <td>7378</td>\n",
       "      <td>15</td>\n",
       "      <td>3013000.0</td>\n",
       "      <td>9</td>\n",
       "      <td>...</td>\n",
       "      <td>2181</td>\n",
       "      <td>311</td>\n",
       "      <td>7</td>\n",
       "      <td>2023-09-28 04:27:43</td>\n",
       "      <td>Reseller</td>\n",
       "      <td>7</td>\n",
       "      <td>15</td>\n",
       "      <td>66581.67</td>\n",
       "      <td>837.31</td>\n",
       "      <td>S</td>\n",
       "    </tr>\n",
       "    <tr>\n",
       "      <th>7</th>\n",
       "      <td>8ca7b69eda1a06b32e60fff1c6db3b28</td>\n",
       "      <td>Costa Rica</td>\n",
       "      <td>Standard</td>\n",
       "      <td>Inside Sales</td>\n",
       "      <td>Customer</td>\n",
       "      <td>AMERICAS</td>\n",
       "      <td>1</td>\n",
       "      <td>717</td>\n",
       "      <td>159214000.0</td>\n",
       "      <td>1</td>\n",
       "      <td>...</td>\n",
       "      <td>2415</td>\n",
       "      <td>244</td>\n",
       "      <td>4</td>\n",
       "      <td>2023-12-22 06:27:18</td>\n",
       "      <td>Other</td>\n",
       "      <td>12</td>\n",
       "      <td>6</td>\n",
       "      <td>2986.48</td>\n",
       "      <td>211.88</td>\n",
       "      <td>S</td>\n",
       "    </tr>\n",
       "    <tr>\n",
       "      <th>8</th>\n",
       "      <td>5bd2eea4e2320b9246b41a8f54fb02d2</td>\n",
       "      <td>Costa Rica</td>\n",
       "      <td>SMB</td>\n",
       "      <td>Inside Sales</td>\n",
       "      <td>Customer</td>\n",
       "      <td>AMERICAS</td>\n",
       "      <td>8111</td>\n",
       "      <td>5</td>\n",
       "      <td>934000.0</td>\n",
       "      <td>3</td>\n",
       "      <td>...</td>\n",
       "      <td>22037</td>\n",
       "      <td>3766</td>\n",
       "      <td>1311</td>\n",
       "      <td>2023-09-22 01:48:17</td>\n",
       "      <td>Inside Sales</td>\n",
       "      <td>9</td>\n",
       "      <td>4</td>\n",
       "      <td>46022.86</td>\n",
       "      <td>9129.48</td>\n",
       "      <td>S</td>\n",
       "    </tr>\n",
       "    <tr>\n",
       "      <th>9</th>\n",
       "      <td>bbfb03bca60fb0185be3f36d12c99b3f</td>\n",
       "      <td>Costa Rica</td>\n",
       "      <td>Standard</td>\n",
       "      <td>Inside Sales</td>\n",
       "      <td>Customer</td>\n",
       "      <td>AMERICAS</td>\n",
       "      <td>8731</td>\n",
       "      <td>22</td>\n",
       "      <td>4308000.0</td>\n",
       "      <td>2</td>\n",
       "      <td>...</td>\n",
       "      <td>4064</td>\n",
       "      <td>672</td>\n",
       "      <td>15</td>\n",
       "      <td>2023-12-20 01:21:26</td>\n",
       "      <td>Inside Sales</td>\n",
       "      <td>15</td>\n",
       "      <td>4</td>\n",
       "      <td>12584.99</td>\n",
       "      <td>1308.89</td>\n",
       "      <td>S</td>\n",
       "    </tr>\n",
       "  </tbody>\n",
       "</table>\n",
       "<p>10 rows × 21 columns</p>\n",
       "</div>"
      ],
      "text/plain": [
       "                         account_id country_name account_category  \\\n",
       "0  ac6a99474410f1c59c91da3f0cf9cf3f        Tonga         Standard   \n",
       "1  1cc66628ed41f3db5a55195e93277a04   Costa Rica         Standard   \n",
       "2  db5f3cdd5629b9591b720b9b7e077df2   Costa Rica         Standard   \n",
       "3  bebb4028688f519f36ed220855b0a62f   Costa Rica         Standard   \n",
       "4  507c0bfb67895d773e3f8bd33b861d09   Costa Rica         Standard   \n",
       "5  b1267a5b953b7267de811510f838172b   Costa Rica         Standard   \n",
       "6  3315ad169d4d2e9080f1377c44377c7c   Costa Rica         Standard   \n",
       "7  8ca7b69eda1a06b32e60fff1c6db3b28   Costa Rica         Standard   \n",
       "8  5bd2eea4e2320b9246b41a8f54fb02d2   Costa Rica              SMB   \n",
       "9  bbfb03bca60fb0185be3f36d12c99b3f   Costa Rica         Standard   \n",
       "\n",
       "  bi_account_classification      customer_type    region  sic_code  \\\n",
       "0              Inside Sales           Customer      APAC      7381   \n",
       "1              Inside Sales           Customer  AMERICAS      5049   \n",
       "2              Inside Sales           Customer  AMERICAS      7389   \n",
       "3                  Reseller  End-User Reseller  AMERICAS      8711   \n",
       "4              Inside Sales           Customer  AMERICAS      6531   \n",
       "5              Inside Sales           Customer  AMERICAS      5943   \n",
       "6                  Reseller           Reseller  AMERICAS      7378   \n",
       "7              Inside Sales           Customer  AMERICAS         1   \n",
       "8              Inside Sales           Customer  AMERICAS      8111   \n",
       "9              Inside Sales           Customer  AMERICAS      8731   \n",
       "\n",
       "   employee_number  revenue_in_eur  number_distinct_active_licenses  ...  \\\n",
       "0                8       1502000.0                                1  ...   \n",
       "1               11       1814000.0                                1  ...   \n",
       "2               16      13444000.0                                1  ...   \n",
       "3               36       7066000.0                                3  ...   \n",
       "4              312      61054000.0                                2  ...   \n",
       "5               25       4881000.0                                1  ...   \n",
       "6               15       3013000.0                                9  ...   \n",
       "7              717     159214000.0                                1  ...   \n",
       "8                5        934000.0                                3  ...   \n",
       "9               22       4308000.0                                2  ...   \n",
       "\n",
       "  total_connections_12m  total_endpoints_12m  total_devices_12m  \\\n",
       "0                    54                    4                  2   \n",
       "1                  3385                  158                 51   \n",
       "2                    12                    2                  2   \n",
       "3                  1724                  206                 30   \n",
       "4                  6493                  611                 31   \n",
       "5                   583                    3                  5   \n",
       "6                  2181                  311                  7   \n",
       "7                  2415                  244                  4   \n",
       "8                 22037                 3766               1311   \n",
       "9                  4064                  672                 15   \n",
       "\n",
       "   last_invoice_date_created current_sales_channel age_customer  \\\n",
       "0        2023-11-23 01:57:47               Webshop            6   \n",
       "1        2023-10-07 19:35:11               Webshop            1   \n",
       "2        2023-12-02 02:03:05               Webshop            2   \n",
       "3        2023-10-25 23:32:46          Inside Sales            7   \n",
       "4        2023-11-17 04:16:51          Inside Sales           10   \n",
       "5        2023-08-21 01:11:38               Webshop            5   \n",
       "6        2023-09-28 04:27:43              Reseller            7   \n",
       "7        2023-12-22 06:27:18                 Other           12   \n",
       "8        2023-09-22 01:48:17          Inside Sales            9   \n",
       "9        2023-12-20 01:21:26          Inside Sales           15   \n",
       "\n",
       "   number_renewals  account_value_in_eur  billings_ltm_prorated  \\\n",
       "0                5               2532.84                 466.47   \n",
       "1                0               1298.15                 972.57   \n",
       "2                1                155.83                  76.69   \n",
       "3                5               7550.16                1088.58   \n",
       "4                1               4688.33                1593.70   \n",
       "5                4                971.96                 198.63   \n",
       "6               15              66581.67                 837.31   \n",
       "7                6               2986.48                 211.88   \n",
       "8                4              46022.86                9129.48   \n",
       "9                4              12584.99                1308.89   \n",
       "\n",
       "   business_model  \n",
       "0               S  \n",
       "1               S  \n",
       "2               S  \n",
       "3               S  \n",
       "4               S  \n",
       "5               S  \n",
       "6               S  \n",
       "7               S  \n",
       "8               S  \n",
       "9               S  \n",
       "\n",
       "[10 rows x 21 columns]"
      ]
     },
     "execution_count": 38,
     "metadata": {},
     "output_type": "execute_result"
    }
   ],
   "source": [
    "df.head(10)"
   ]
  },
  {
   "cell_type": "markdown",
   "metadata": {},
   "source": [
    "## Data Preprocessing"
   ]
  },
  {
   "cell_type": "code",
   "execution_count": 39,
   "metadata": {},
   "outputs": [],
   "source": [
    "df.drop(columns=['business_model', 'last_invoice_date_created'], inplace=True)"
   ]
  },
  {
   "cell_type": "code",
   "execution_count": 40,
   "metadata": {},
   "outputs": [],
   "source": [
    "# Define a dictionary to map SIC code ranges to major industry groups\n",
    "major_groups = {\n",
    "    range(1, 10): 'Agriculture, Forestry, and Fishing',\n",
    "    range(10, 15): 'Mining',\n",
    "    range(15, 18): 'Construction',\n",
    "    range(20, 40): 'Manufacturing',\n",
    "    range(40, 50): 'Transportation, Communications, Electric, Gas, and Sanitary Services',\n",
    "    range(50, 52): 'Wholesale Trade',\n",
    "    range(52, 60): 'Retail Trade',\n",
    "    range(60, 68): 'Finance, Insurance, and Real Estate',\n",
    "    range(70, 90): 'Services',\n",
    "    range(90, 100): 'Public Administration'\n",
    "}\n",
    "\n",
    "# Map SIC code ranges to major industry group descriptions\n",
    "def map_to_major_group(sic_code):\n",
    "    for group_range, description in major_groups.items():\n",
    "        if sic_code // 100 in group_range:\n",
    "            return description\n",
    "    return 'Unknown'"
   ]
  },
  {
   "cell_type": "code",
   "execution_count": 41,
   "metadata": {},
   "outputs": [],
   "source": [
    "df['industry'] = df['sic_code'].apply(map_to_major_group)\n",
    "df.drop(columns=['account_id','country_name','sic_code'], inplace=True)"
   ]
  },
  {
   "cell_type": "code",
   "execution_count": 42,
   "metadata": {},
   "outputs": [
    {
     "data": {
      "text/html": [
       "<div>\n",
       "<style scoped>\n",
       "    .dataframe tbody tr th:only-of-type {\n",
       "        vertical-align: middle;\n",
       "    }\n",
       "\n",
       "    .dataframe tbody tr th {\n",
       "        vertical-align: top;\n",
       "    }\n",
       "\n",
       "    .dataframe thead th {\n",
       "        text-align: right;\n",
       "    }\n",
       "</style>\n",
       "<table border=\"1\" class=\"dataframe\">\n",
       "  <thead>\n",
       "    <tr style=\"text-align: right;\">\n",
       "      <th></th>\n",
       "      <th>account_category</th>\n",
       "      <th>bi_account_classification</th>\n",
       "      <th>customer_type</th>\n",
       "      <th>region</th>\n",
       "      <th>employee_number</th>\n",
       "      <th>revenue_in_eur</th>\n",
       "      <th>number_distinct_active_licenses</th>\n",
       "      <th>major_edition</th>\n",
       "      <th>total_connections_12m</th>\n",
       "      <th>total_endpoints_12m</th>\n",
       "      <th>total_devices_12m</th>\n",
       "      <th>current_sales_channel</th>\n",
       "      <th>age_customer</th>\n",
       "      <th>number_renewals</th>\n",
       "      <th>account_value_in_eur</th>\n",
       "      <th>billings_ltm_prorated</th>\n",
       "      <th>industry</th>\n",
       "    </tr>\n",
       "  </thead>\n",
       "  <tbody>\n",
       "    <tr>\n",
       "      <th>0</th>\n",
       "      <td>Standard</td>\n",
       "      <td>Inside Sales</td>\n",
       "      <td>Customer</td>\n",
       "      <td>APAC</td>\n",
       "      <td>8</td>\n",
       "      <td>1502000.0</td>\n",
       "      <td>1</td>\n",
       "      <td>Business</td>\n",
       "      <td>54</td>\n",
       "      <td>4</td>\n",
       "      <td>2</td>\n",
       "      <td>Webshop</td>\n",
       "      <td>6</td>\n",
       "      <td>5</td>\n",
       "      <td>2532.84</td>\n",
       "      <td>466.47</td>\n",
       "      <td>Services</td>\n",
       "    </tr>\n",
       "    <tr>\n",
       "      <th>1</th>\n",
       "      <td>Standard</td>\n",
       "      <td>Inside Sales</td>\n",
       "      <td>Customer</td>\n",
       "      <td>AMERICAS</td>\n",
       "      <td>11</td>\n",
       "      <td>1814000.0</td>\n",
       "      <td>1</td>\n",
       "      <td>Premium</td>\n",
       "      <td>3385</td>\n",
       "      <td>158</td>\n",
       "      <td>51</td>\n",
       "      <td>Webshop</td>\n",
       "      <td>1</td>\n",
       "      <td>0</td>\n",
       "      <td>1298.15</td>\n",
       "      <td>972.57</td>\n",
       "      <td>Wholesale Trade</td>\n",
       "    </tr>\n",
       "    <tr>\n",
       "      <th>2</th>\n",
       "      <td>Standard</td>\n",
       "      <td>Inside Sales</td>\n",
       "      <td>Customer</td>\n",
       "      <td>AMERICAS</td>\n",
       "      <td>16</td>\n",
       "      <td>13444000.0</td>\n",
       "      <td>1</td>\n",
       "      <td>Remote Access</td>\n",
       "      <td>12</td>\n",
       "      <td>2</td>\n",
       "      <td>2</td>\n",
       "      <td>Webshop</td>\n",
       "      <td>2</td>\n",
       "      <td>1</td>\n",
       "      <td>155.83</td>\n",
       "      <td>76.69</td>\n",
       "      <td>Services</td>\n",
       "    </tr>\n",
       "    <tr>\n",
       "      <th>3</th>\n",
       "      <td>Standard</td>\n",
       "      <td>Reseller</td>\n",
       "      <td>End-User Reseller</td>\n",
       "      <td>AMERICAS</td>\n",
       "      <td>36</td>\n",
       "      <td>7066000.0</td>\n",
       "      <td>3</td>\n",
       "      <td>Corporate</td>\n",
       "      <td>1724</td>\n",
       "      <td>206</td>\n",
       "      <td>30</td>\n",
       "      <td>Inside Sales</td>\n",
       "      <td>7</td>\n",
       "      <td>5</td>\n",
       "      <td>7550.16</td>\n",
       "      <td>1088.58</td>\n",
       "      <td>Services</td>\n",
       "    </tr>\n",
       "    <tr>\n",
       "      <th>4</th>\n",
       "      <td>Standard</td>\n",
       "      <td>Inside Sales</td>\n",
       "      <td>Customer</td>\n",
       "      <td>AMERICAS</td>\n",
       "      <td>312</td>\n",
       "      <td>61054000.0</td>\n",
       "      <td>2</td>\n",
       "      <td>Corporate</td>\n",
       "      <td>6493</td>\n",
       "      <td>611</td>\n",
       "      <td>31</td>\n",
       "      <td>Inside Sales</td>\n",
       "      <td>10</td>\n",
       "      <td>1</td>\n",
       "      <td>4688.33</td>\n",
       "      <td>1593.70</td>\n",
       "      <td>Finance, Insurance, and Real Estate</td>\n",
       "    </tr>\n",
       "    <tr>\n",
       "      <th>5</th>\n",
       "      <td>Standard</td>\n",
       "      <td>Inside Sales</td>\n",
       "      <td>Customer</td>\n",
       "      <td>AMERICAS</td>\n",
       "      <td>25</td>\n",
       "      <td>4881000.0</td>\n",
       "      <td>1</td>\n",
       "      <td>Remote Access</td>\n",
       "      <td>583</td>\n",
       "      <td>3</td>\n",
       "      <td>5</td>\n",
       "      <td>Webshop</td>\n",
       "      <td>5</td>\n",
       "      <td>4</td>\n",
       "      <td>971.96</td>\n",
       "      <td>198.63</td>\n",
       "      <td>Retail Trade</td>\n",
       "    </tr>\n",
       "    <tr>\n",
       "      <th>6</th>\n",
       "      <td>Standard</td>\n",
       "      <td>Reseller</td>\n",
       "      <td>Reseller</td>\n",
       "      <td>AMERICAS</td>\n",
       "      <td>15</td>\n",
       "      <td>3013000.0</td>\n",
       "      <td>9</td>\n",
       "      <td>Corporate</td>\n",
       "      <td>2181</td>\n",
       "      <td>311</td>\n",
       "      <td>7</td>\n",
       "      <td>Reseller</td>\n",
       "      <td>7</td>\n",
       "      <td>15</td>\n",
       "      <td>66581.67</td>\n",
       "      <td>837.31</td>\n",
       "      <td>Services</td>\n",
       "    </tr>\n",
       "    <tr>\n",
       "      <th>7</th>\n",
       "      <td>Standard</td>\n",
       "      <td>Inside Sales</td>\n",
       "      <td>Customer</td>\n",
       "      <td>AMERICAS</td>\n",
       "      <td>717</td>\n",
       "      <td>159214000.0</td>\n",
       "      <td>1</td>\n",
       "      <td>Business</td>\n",
       "      <td>2415</td>\n",
       "      <td>244</td>\n",
       "      <td>4</td>\n",
       "      <td>Other</td>\n",
       "      <td>12</td>\n",
       "      <td>6</td>\n",
       "      <td>2986.48</td>\n",
       "      <td>211.88</td>\n",
       "      <td>Unknown</td>\n",
       "    </tr>\n",
       "    <tr>\n",
       "      <th>8</th>\n",
       "      <td>SMB</td>\n",
       "      <td>Inside Sales</td>\n",
       "      <td>Customer</td>\n",
       "      <td>AMERICAS</td>\n",
       "      <td>5</td>\n",
       "      <td>934000.0</td>\n",
       "      <td>3</td>\n",
       "      <td>Corporate</td>\n",
       "      <td>22037</td>\n",
       "      <td>3766</td>\n",
       "      <td>1311</td>\n",
       "      <td>Inside Sales</td>\n",
       "      <td>9</td>\n",
       "      <td>4</td>\n",
       "      <td>46022.86</td>\n",
       "      <td>9129.48</td>\n",
       "      <td>Services</td>\n",
       "    </tr>\n",
       "    <tr>\n",
       "      <th>9</th>\n",
       "      <td>Standard</td>\n",
       "      <td>Inside Sales</td>\n",
       "      <td>Customer</td>\n",
       "      <td>AMERICAS</td>\n",
       "      <td>22</td>\n",
       "      <td>4308000.0</td>\n",
       "      <td>2</td>\n",
       "      <td>Corporate</td>\n",
       "      <td>4064</td>\n",
       "      <td>672</td>\n",
       "      <td>15</td>\n",
       "      <td>Inside Sales</td>\n",
       "      <td>15</td>\n",
       "      <td>4</td>\n",
       "      <td>12584.99</td>\n",
       "      <td>1308.89</td>\n",
       "      <td>Services</td>\n",
       "    </tr>\n",
       "  </tbody>\n",
       "</table>\n",
       "</div>"
      ],
      "text/plain": [
       "  account_category bi_account_classification      customer_type    region  \\\n",
       "0         Standard              Inside Sales           Customer      APAC   \n",
       "1         Standard              Inside Sales           Customer  AMERICAS   \n",
       "2         Standard              Inside Sales           Customer  AMERICAS   \n",
       "3         Standard                  Reseller  End-User Reseller  AMERICAS   \n",
       "4         Standard              Inside Sales           Customer  AMERICAS   \n",
       "5         Standard              Inside Sales           Customer  AMERICAS   \n",
       "6         Standard                  Reseller           Reseller  AMERICAS   \n",
       "7         Standard              Inside Sales           Customer  AMERICAS   \n",
       "8              SMB              Inside Sales           Customer  AMERICAS   \n",
       "9         Standard              Inside Sales           Customer  AMERICAS   \n",
       "\n",
       "   employee_number  revenue_in_eur  number_distinct_active_licenses  \\\n",
       "0                8       1502000.0                                1   \n",
       "1               11       1814000.0                                1   \n",
       "2               16      13444000.0                                1   \n",
       "3               36       7066000.0                                3   \n",
       "4              312      61054000.0                                2   \n",
       "5               25       4881000.0                                1   \n",
       "6               15       3013000.0                                9   \n",
       "7              717     159214000.0                                1   \n",
       "8                5        934000.0                                3   \n",
       "9               22       4308000.0                                2   \n",
       "\n",
       "   major_edition  total_connections_12m  total_endpoints_12m  \\\n",
       "0       Business                     54                    4   \n",
       "1        Premium                   3385                  158   \n",
       "2  Remote Access                     12                    2   \n",
       "3      Corporate                   1724                  206   \n",
       "4      Corporate                   6493                  611   \n",
       "5  Remote Access                    583                    3   \n",
       "6      Corporate                   2181                  311   \n",
       "7       Business                   2415                  244   \n",
       "8      Corporate                  22037                 3766   \n",
       "9      Corporate                   4064                  672   \n",
       "\n",
       "   total_devices_12m current_sales_channel  age_customer  number_renewals  \\\n",
       "0                  2               Webshop             6                5   \n",
       "1                 51               Webshop             1                0   \n",
       "2                  2               Webshop             2                1   \n",
       "3                 30          Inside Sales             7                5   \n",
       "4                 31          Inside Sales            10                1   \n",
       "5                  5               Webshop             5                4   \n",
       "6                  7              Reseller             7               15   \n",
       "7                  4                 Other            12                6   \n",
       "8               1311          Inside Sales             9                4   \n",
       "9                 15          Inside Sales            15                4   \n",
       "\n",
       "   account_value_in_eur  billings_ltm_prorated  \\\n",
       "0               2532.84                 466.47   \n",
       "1               1298.15                 972.57   \n",
       "2                155.83                  76.69   \n",
       "3               7550.16                1088.58   \n",
       "4               4688.33                1593.70   \n",
       "5                971.96                 198.63   \n",
       "6              66581.67                 837.31   \n",
       "7               2986.48                 211.88   \n",
       "8              46022.86                9129.48   \n",
       "9              12584.99                1308.89   \n",
       "\n",
       "                              industry  \n",
       "0                             Services  \n",
       "1                      Wholesale Trade  \n",
       "2                             Services  \n",
       "3                             Services  \n",
       "4  Finance, Insurance, and Real Estate  \n",
       "5                         Retail Trade  \n",
       "6                             Services  \n",
       "7                              Unknown  \n",
       "8                             Services  \n",
       "9                             Services  "
      ]
     },
     "execution_count": 42,
     "metadata": {},
     "output_type": "execute_result"
    }
   ],
   "source": [
    "df.head(10)"
   ]
  },
  {
   "cell_type": "code",
   "execution_count": 43,
   "metadata": {},
   "outputs": [],
   "source": [
    "# Preprocess the data\n",
    "\n",
    "# Separate numeric and categorical columns\n",
    "cat_cols = ['account_category', 'bi_account_classification', 'customer_type', \n",
    "            'region', 'major_edition', 'current_sales_channel', 'industry']\n",
    "\n",
    "num_cols = [col for col in df.columns if col not in cat_cols]\n",
    "\n",
    "df_cols = num_cols + cat_cols"
   ]
  },
  {
   "cell_type": "code",
   "execution_count": 44,
   "metadata": {},
   "outputs": [],
   "source": [
    "# Preprocess numeric data\n",
    "scaler = MinMaxScaler()\n",
    "df[num_cols] = scaler.fit_transform(df[num_cols])\n",
    "\n",
    "# Preprocess categorical data\n",
    "le = LabelEncoder()\n",
    "for col in cat_cols:\n",
    "    df[col] = le.fit_transform(df[col])"
   ]
  },
  {
   "cell_type": "code",
   "execution_count": 45,
   "metadata": {},
   "outputs": [
    {
     "data": {
      "text/html": [
       "<div>\n",
       "<style scoped>\n",
       "    .dataframe tbody tr th:only-of-type {\n",
       "        vertical-align: middle;\n",
       "    }\n",
       "\n",
       "    .dataframe tbody tr th {\n",
       "        vertical-align: top;\n",
       "    }\n",
       "\n",
       "    .dataframe thead th {\n",
       "        text-align: right;\n",
       "    }\n",
       "</style>\n",
       "<table border=\"1\" class=\"dataframe\">\n",
       "  <thead>\n",
       "    <tr style=\"text-align: right;\">\n",
       "      <th></th>\n",
       "      <th>account_category</th>\n",
       "      <th>bi_account_classification</th>\n",
       "      <th>customer_type</th>\n",
       "      <th>region</th>\n",
       "      <th>employee_number</th>\n",
       "      <th>revenue_in_eur</th>\n",
       "      <th>number_distinct_active_licenses</th>\n",
       "      <th>major_edition</th>\n",
       "      <th>total_connections_12m</th>\n",
       "      <th>total_endpoints_12m</th>\n",
       "      <th>total_devices_12m</th>\n",
       "      <th>current_sales_channel</th>\n",
       "      <th>age_customer</th>\n",
       "      <th>number_renewals</th>\n",
       "      <th>account_value_in_eur</th>\n",
       "      <th>billings_ltm_prorated</th>\n",
       "      <th>industry</th>\n",
       "    </tr>\n",
       "  </thead>\n",
       "  <tbody>\n",
       "    <tr>\n",
       "      <th>0</th>\n",
       "      <td>1.00</td>\n",
       "      <td>0.25</td>\n",
       "      <td>0.000000</td>\n",
       "      <td>0.5</td>\n",
       "      <td>0.000013</td>\n",
       "      <td>0.000003</td>\n",
       "      <td>0.000000</td>\n",
       "      <td>0.0</td>\n",
       "      <td>0.000046</td>\n",
       "      <td>0.000038</td>\n",
       "      <td>0.000076</td>\n",
       "      <td>1.0</td>\n",
       "      <td>0.294118</td>\n",
       "      <td>0.023585</td>\n",
       "      <td>0.001077</td>\n",
       "      <td>0.000670</td>\n",
       "      <td>0.7</td>\n",
       "    </tr>\n",
       "    <tr>\n",
       "      <th>1</th>\n",
       "      <td>1.00</td>\n",
       "      <td>0.25</td>\n",
       "      <td>0.000000</td>\n",
       "      <td>0.0</td>\n",
       "      <td>0.000018</td>\n",
       "      <td>0.000004</td>\n",
       "      <td>0.000000</td>\n",
       "      <td>0.6</td>\n",
       "      <td>0.002967</td>\n",
       "      <td>0.002010</td>\n",
       "      <td>0.003819</td>\n",
       "      <td>1.0</td>\n",
       "      <td>0.000000</td>\n",
       "      <td>0.000000</td>\n",
       "      <td>0.000552</td>\n",
       "      <td>0.001398</td>\n",
       "      <td>1.0</td>\n",
       "    </tr>\n",
       "    <tr>\n",
       "      <th>2</th>\n",
       "      <td>1.00</td>\n",
       "      <td>0.25</td>\n",
       "      <td>0.000000</td>\n",
       "      <td>0.0</td>\n",
       "      <td>0.000028</td>\n",
       "      <td>0.000030</td>\n",
       "      <td>0.000000</td>\n",
       "      <td>0.8</td>\n",
       "      <td>0.000010</td>\n",
       "      <td>0.000013</td>\n",
       "      <td>0.000076</td>\n",
       "      <td>1.0</td>\n",
       "      <td>0.058824</td>\n",
       "      <td>0.004717</td>\n",
       "      <td>0.000066</td>\n",
       "      <td>0.000109</td>\n",
       "      <td>0.7</td>\n",
       "    </tr>\n",
       "    <tr>\n",
       "      <th>3</th>\n",
       "      <td>1.00</td>\n",
       "      <td>1.00</td>\n",
       "      <td>0.333333</td>\n",
       "      <td>0.0</td>\n",
       "      <td>0.000064</td>\n",
       "      <td>0.000016</td>\n",
       "      <td>0.012987</td>\n",
       "      <td>0.2</td>\n",
       "      <td>0.001511</td>\n",
       "      <td>0.002625</td>\n",
       "      <td>0.002215</td>\n",
       "      <td>0.0</td>\n",
       "      <td>0.352941</td>\n",
       "      <td>0.023585</td>\n",
       "      <td>0.003210</td>\n",
       "      <td>0.001565</td>\n",
       "      <td>0.7</td>\n",
       "    </tr>\n",
       "    <tr>\n",
       "      <th>4</th>\n",
       "      <td>1.00</td>\n",
       "      <td>0.25</td>\n",
       "      <td>0.000000</td>\n",
       "      <td>0.0</td>\n",
       "      <td>0.000573</td>\n",
       "      <td>0.000139</td>\n",
       "      <td>0.006494</td>\n",
       "      <td>0.2</td>\n",
       "      <td>0.005692</td>\n",
       "      <td>0.007810</td>\n",
       "      <td>0.002291</td>\n",
       "      <td>0.0</td>\n",
       "      <td>0.529412</td>\n",
       "      <td>0.004717</td>\n",
       "      <td>0.001993</td>\n",
       "      <td>0.002292</td>\n",
       "      <td>0.2</td>\n",
       "    </tr>\n",
       "    <tr>\n",
       "      <th>5</th>\n",
       "      <td>1.00</td>\n",
       "      <td>0.25</td>\n",
       "      <td>0.000000</td>\n",
       "      <td>0.0</td>\n",
       "      <td>0.000044</td>\n",
       "      <td>0.000011</td>\n",
       "      <td>0.000000</td>\n",
       "      <td>0.8</td>\n",
       "      <td>0.000510</td>\n",
       "      <td>0.000026</td>\n",
       "      <td>0.000306</td>\n",
       "      <td>1.0</td>\n",
       "      <td>0.235294</td>\n",
       "      <td>0.018868</td>\n",
       "      <td>0.000413</td>\n",
       "      <td>0.000284</td>\n",
       "      <td>0.6</td>\n",
       "    </tr>\n",
       "    <tr>\n",
       "      <th>6</th>\n",
       "      <td>1.00</td>\n",
       "      <td>1.00</td>\n",
       "      <td>1.000000</td>\n",
       "      <td>0.0</td>\n",
       "      <td>0.000026</td>\n",
       "      <td>0.000007</td>\n",
       "      <td>0.051948</td>\n",
       "      <td>0.2</td>\n",
       "      <td>0.001912</td>\n",
       "      <td>0.003969</td>\n",
       "      <td>0.000458</td>\n",
       "      <td>0.8</td>\n",
       "      <td>0.352941</td>\n",
       "      <td>0.070755</td>\n",
       "      <td>0.028307</td>\n",
       "      <td>0.001204</td>\n",
       "      <td>0.7</td>\n",
       "    </tr>\n",
       "    <tr>\n",
       "      <th>7</th>\n",
       "      <td>1.00</td>\n",
       "      <td>0.25</td>\n",
       "      <td>0.000000</td>\n",
       "      <td>0.0</td>\n",
       "      <td>0.001319</td>\n",
       "      <td>0.000361</td>\n",
       "      <td>0.000000</td>\n",
       "      <td>0.0</td>\n",
       "      <td>0.002117</td>\n",
       "      <td>0.003111</td>\n",
       "      <td>0.000229</td>\n",
       "      <td>0.6</td>\n",
       "      <td>0.647059</td>\n",
       "      <td>0.028302</td>\n",
       "      <td>0.001270</td>\n",
       "      <td>0.000304</td>\n",
       "      <td>0.9</td>\n",
       "    </tr>\n",
       "    <tr>\n",
       "      <th>8</th>\n",
       "      <td>0.75</td>\n",
       "      <td>0.25</td>\n",
       "      <td>0.000000</td>\n",
       "      <td>0.0</td>\n",
       "      <td>0.000007</td>\n",
       "      <td>0.000002</td>\n",
       "      <td>0.012987</td>\n",
       "      <td>0.2</td>\n",
       "      <td>0.019322</td>\n",
       "      <td>0.048204</td>\n",
       "      <td>0.100053</td>\n",
       "      <td>0.0</td>\n",
       "      <td>0.470588</td>\n",
       "      <td>0.018868</td>\n",
       "      <td>0.019566</td>\n",
       "      <td>0.013138</td>\n",
       "      <td>0.7</td>\n",
       "    </tr>\n",
       "    <tr>\n",
       "      <th>9</th>\n",
       "      <td>1.00</td>\n",
       "      <td>0.25</td>\n",
       "      <td>0.000000</td>\n",
       "      <td>0.0</td>\n",
       "      <td>0.000039</td>\n",
       "      <td>0.000010</td>\n",
       "      <td>0.006494</td>\n",
       "      <td>0.2</td>\n",
       "      <td>0.003563</td>\n",
       "      <td>0.008591</td>\n",
       "      <td>0.001069</td>\n",
       "      <td>0.0</td>\n",
       "      <td>0.823529</td>\n",
       "      <td>0.018868</td>\n",
       "      <td>0.005350</td>\n",
       "      <td>0.001882</td>\n",
       "      <td>0.7</td>\n",
       "    </tr>\n",
       "  </tbody>\n",
       "</table>\n",
       "</div>"
      ],
      "text/plain": [
       "   account_category  bi_account_classification  customer_type  region  \\\n",
       "0              1.00                       0.25       0.000000     0.5   \n",
       "1              1.00                       0.25       0.000000     0.0   \n",
       "2              1.00                       0.25       0.000000     0.0   \n",
       "3              1.00                       1.00       0.333333     0.0   \n",
       "4              1.00                       0.25       0.000000     0.0   \n",
       "5              1.00                       0.25       0.000000     0.0   \n",
       "6              1.00                       1.00       1.000000     0.0   \n",
       "7              1.00                       0.25       0.000000     0.0   \n",
       "8              0.75                       0.25       0.000000     0.0   \n",
       "9              1.00                       0.25       0.000000     0.0   \n",
       "\n",
       "   employee_number  revenue_in_eur  number_distinct_active_licenses  \\\n",
       "0         0.000013        0.000003                         0.000000   \n",
       "1         0.000018        0.000004                         0.000000   \n",
       "2         0.000028        0.000030                         0.000000   \n",
       "3         0.000064        0.000016                         0.012987   \n",
       "4         0.000573        0.000139                         0.006494   \n",
       "5         0.000044        0.000011                         0.000000   \n",
       "6         0.000026        0.000007                         0.051948   \n",
       "7         0.001319        0.000361                         0.000000   \n",
       "8         0.000007        0.000002                         0.012987   \n",
       "9         0.000039        0.000010                         0.006494   \n",
       "\n",
       "   major_edition  total_connections_12m  total_endpoints_12m  \\\n",
       "0            0.0               0.000046             0.000038   \n",
       "1            0.6               0.002967             0.002010   \n",
       "2            0.8               0.000010             0.000013   \n",
       "3            0.2               0.001511             0.002625   \n",
       "4            0.2               0.005692             0.007810   \n",
       "5            0.8               0.000510             0.000026   \n",
       "6            0.2               0.001912             0.003969   \n",
       "7            0.0               0.002117             0.003111   \n",
       "8            0.2               0.019322             0.048204   \n",
       "9            0.2               0.003563             0.008591   \n",
       "\n",
       "   total_devices_12m  current_sales_channel  age_customer  number_renewals  \\\n",
       "0           0.000076                    1.0      0.294118         0.023585   \n",
       "1           0.003819                    1.0      0.000000         0.000000   \n",
       "2           0.000076                    1.0      0.058824         0.004717   \n",
       "3           0.002215                    0.0      0.352941         0.023585   \n",
       "4           0.002291                    0.0      0.529412         0.004717   \n",
       "5           0.000306                    1.0      0.235294         0.018868   \n",
       "6           0.000458                    0.8      0.352941         0.070755   \n",
       "7           0.000229                    0.6      0.647059         0.028302   \n",
       "8           0.100053                    0.0      0.470588         0.018868   \n",
       "9           0.001069                    0.0      0.823529         0.018868   \n",
       "\n",
       "   account_value_in_eur  billings_ltm_prorated  industry  \n",
       "0              0.001077               0.000670       0.7  \n",
       "1              0.000552               0.001398       1.0  \n",
       "2              0.000066               0.000109       0.7  \n",
       "3              0.003210               0.001565       0.7  \n",
       "4              0.001993               0.002292       0.2  \n",
       "5              0.000413               0.000284       0.6  \n",
       "6              0.028307               0.001204       0.7  \n",
       "7              0.001270               0.000304       0.9  \n",
       "8              0.019566               0.013138       0.7  \n",
       "9              0.005350               0.001882       0.7  "
      ]
     },
     "execution_count": 45,
     "metadata": {},
     "output_type": "execute_result"
    }
   ],
   "source": [
    "df.head(10)"
   ]
  },
  {
   "cell_type": "code",
   "execution_count": 46,
   "metadata": {},
   "outputs": [],
   "source": [
    "# Extract features columns excluding 'account_id'\n",
    "features_df = df\n",
    "\n",
    "# Convert DataFrame to numpy array\n",
    "features = features_df.to_numpy()"
   ]
  },
  {
   "cell_type": "markdown",
   "metadata": {},
   "source": [
    "## PCA"
   ]
  },
  {
   "cell_type": "code",
   "execution_count": 47,
   "metadata": {},
   "outputs": [
    {
     "name": "stdout",
     "output_type": "stream",
     "text": [
      "[3.84418591e-01 2.10416331e-01 1.45201459e-01 1.12105494e-01\n",
      " 7.29304471e-02 5.56716457e-02 1.63455096e-02 1.84453626e-03\n",
      " 3.21866428e-04 2.92299843e-04 1.37230773e-04 8.60430103e-05\n",
      " 8.14795149e-05 7.63288153e-05 4.07151332e-05 2.52097653e-05\n",
      " 4.81323654e-06]\n"
     ]
    }
   ],
   "source": [
    "pca = PCA()\n",
    "pca.fit(features)\n",
    "print(pca.explained_variance_ratio_)"
   ]
  },
  {
   "cell_type": "code",
   "execution_count": 48,
   "metadata": {},
   "outputs": [
    {
     "name": "stdout",
     "output_type": "stream",
     "text": [
      "Number of components explaining at least 80% variance: 4\n"
     ]
    },
    {
     "data": {
      "image/png": "[encoded data removed]",
      "text/plain": [
       "<Figure size 1000x800 with 1 Axes>"
      ]
     },
     "metadata": {},
     "output_type": "display_data"
    }
   ],
   "source": [
    "cumulative_explained_variance = np.cumsum(pca.explained_variance_ratio_)\n",
    "\n",
    "plt.figure(figsize= (10, 8))\n",
    "plt.plot(range(1,18), cumulative_explained_variance, marker = 'o', linestyle='--')\n",
    "plt.title('Explained Variance by Components')\n",
    "plt.xlabel('NUmber of Components')\n",
    "plt.ylabel('Cumulative Explained Variance')\n",
    "\n",
    "# Find the number of components that explain at least 80% of the variance\n",
    "n_components_80 = np.argmax(cumulative_explained_variance >= 0.80) + 1\n",
    "print(f\"Number of components explaining at least 80% variance: {n_components_80}\")"
   ]
  },
  {
   "cell_type": "code",
   "execution_count": 49,
   "metadata": {},
   "outputs": [],
   "source": [
    "pca = PCA(n_components=4)\n",
    "features_pca = pca.fit_transform(features)"
   ]
  },
  {
   "cell_type": "markdown",
   "metadata": {},
   "source": [
    "## Determine the number of clusters(k)"
   ]
  },
  {
   "cell_type": "code",
   "execution_count": 50,
   "metadata": {},
   "outputs": [
    {
     "name": "stdout",
     "output_type": "stream",
     "text": [
      "Now on k 1\n",
      "Now on k 2\n",
      "Now on k 3\n",
      "Now on k 4\n",
      "Now on k 5\n",
      "Now on k 6\n",
      "Now on k 7\n",
      "Now on k 8\n",
      "Now on k 9\n",
      "Now on k 10\n",
      "Now on k 11\n",
      "Now on k 12\n",
      "Now on k 13\n",
      "Now on k 14\n",
      "Now on k 15\n",
      "Now on k 16\n",
      "Now on k 17\n",
      "Now on k 18\n",
      "Now on k 19\n"
     ]
    }
   ],
   "source": [
    "# Define a range of k values to test\n",
    "k_range = range(1, 20)\n",
    "\n",
    "wcss = []\n",
    "for k in k_range:\n",
    "    print('Now on k {}'.format(k))\n",
    "    kmeans = KMeans(n_clusters=k, random_state=0).fit(features_pca)\n",
    "    wcss.append(kmeans.inertia_)"
   ]
  },
  {
   "cell_type": "code",
   "execution_count": 51,
   "metadata": {},
   "outputs": [
    {
     "data": {
      "image/png": "[encoded data removed]",
      "text/plain": [
       "<Figure size 1000x800 with 1 Axes>"
      ]
     },
     "metadata": {},
     "output_type": "display_data"
    }
   ],
   "source": [
    "# Plotting WCSS vs k to identify the elbow point\n",
    "plt.figure(figsize=(10, 8))\n",
    "plt.plot(k_range, wcss, 'o-', markerfacecolor='lightblue', markeredgewidth=2, markersize=8)\n",
    "plt.xlabel('Number of clusters (k)')\n",
    "plt.ylabel('WCSS (Within Cluster Sum of Squares)')\n",
    "plt.title('Elbow Method for KMeans Clustering')\n",
    "plt.show()"
   ]
  },
  {
   "cell_type": "markdown",
   "metadata": {},
   "source": [
    "## Clustering"
   ]
  },
  {
   "cell_type": "code",
   "execution_count": 52,
   "metadata": {},
   "outputs": [
    {
     "data": {
      "text/html": [
       "<div>\n",
       "<style scoped>\n",
       "    .dataframe tbody tr th:only-of-type {\n",
       "        vertical-align: middle;\n",
       "    }\n",
       "\n",
       "    .dataframe tbody tr th {\n",
       "        vertical-align: top;\n",
       "    }\n",
       "\n",
       "    .dataframe thead th {\n",
       "        text-align: right;\n",
       "    }\n",
       "</style>\n",
       "<table border=\"1\" class=\"dataframe\">\n",
       "  <thead>\n",
       "    <tr style=\"text-align: right;\">\n",
       "      <th></th>\n",
       "      <th>account_category</th>\n",
       "      <th>bi_account_classification</th>\n",
       "      <th>customer_type</th>\n",
       "      <th>region</th>\n",
       "      <th>employee_number</th>\n",
       "      <th>revenue_in_eur</th>\n",
       "      <th>number_distinct_active_licenses</th>\n",
       "      <th>major_edition</th>\n",
       "      <th>total_connections_12m</th>\n",
       "      <th>total_endpoints_12m</th>\n",
       "      <th>...</th>\n",
       "      <th>age_customer</th>\n",
       "      <th>number_renewals</th>\n",
       "      <th>account_value_in_eur</th>\n",
       "      <th>billings_ltm_prorated</th>\n",
       "      <th>industry</th>\n",
       "      <th>0</th>\n",
       "      <th>Component 1</th>\n",
       "      <th>Component 2</th>\n",
       "      <th>Component 3</th>\n",
       "      <th>clusters</th>\n",
       "    </tr>\n",
       "    <tr>\n",
       "      <th>cluster_kmeans</th>\n",
       "      <th></th>\n",
       "      <th></th>\n",
       "      <th></th>\n",
       "      <th></th>\n",
       "      <th></th>\n",
       "      <th></th>\n",
       "      <th></th>\n",
       "      <th></th>\n",
       "      <th></th>\n",
       "      <th></th>\n",
       "      <th></th>\n",
       "      <th></th>\n",
       "      <th></th>\n",
       "      <th></th>\n",
       "      <th></th>\n",
       "      <th></th>\n",
       "      <th></th>\n",
       "      <th></th>\n",
       "      <th></th>\n",
       "      <th></th>\n",
       "      <th></th>\n",
       "    </tr>\n",
       "  </thead>\n",
       "  <tbody>\n",
       "    <tr>\n",
       "      <th>0</th>\n",
       "      <td>0.998813</td>\n",
       "      <td>0.309395</td>\n",
       "      <td>0.029399</td>\n",
       "      <td>0.939987</td>\n",
       "      <td>0.000703</td>\n",
       "      <td>0.000499</td>\n",
       "      <td>0.002926</td>\n",
       "      <td>0.698455</td>\n",
       "      <td>0.000585</td>\n",
       "      <td>0.000712</td>\n",
       "      <td>...</td>\n",
       "      <td>0.244789</td>\n",
       "      <td>0.015221</td>\n",
       "      <td>0.001253</td>\n",
       "      <td>0.000930</td>\n",
       "      <td>0.566834</td>\n",
       "      <td>-0.431404</td>\n",
       "      <td>-0.133660</td>\n",
       "      <td>0.445496</td>\n",
       "      <td>-0.018760</td>\n",
       "      <td>0.0</td>\n",
       "    </tr>\n",
       "    <tr>\n",
       "      <th>1</th>\n",
       "      <td>0.985604</td>\n",
       "      <td>0.251546</td>\n",
       "      <td>0.004038</td>\n",
       "      <td>0.946155</td>\n",
       "      <td>0.000499</td>\n",
       "      <td>0.000243</td>\n",
       "      <td>0.006276</td>\n",
       "      <td>0.281868</td>\n",
       "      <td>0.002468</td>\n",
       "      <td>0.003774</td>\n",
       "      <td>...</td>\n",
       "      <td>0.399316</td>\n",
       "      <td>0.019305</td>\n",
       "      <td>0.003240</td>\n",
       "      <td>0.002134</td>\n",
       "      <td>0.581541</td>\n",
       "      <td>0.547479</td>\n",
       "      <td>-0.088507</td>\n",
       "      <td>0.014685</td>\n",
       "      <td>0.001491</td>\n",
       "      <td>1.0</td>\n",
       "    </tr>\n",
       "    <tr>\n",
       "      <th>2</th>\n",
       "      <td>0.998683</td>\n",
       "      <td>0.333481</td>\n",
       "      <td>0.041624</td>\n",
       "      <td>0.941055</td>\n",
       "      <td>0.000455</td>\n",
       "      <td>0.000194</td>\n",
       "      <td>0.002704</td>\n",
       "      <td>0.044054</td>\n",
       "      <td>0.001005</td>\n",
       "      <td>0.001617</td>\n",
       "      <td>...</td>\n",
       "      <td>0.285732</td>\n",
       "      <td>0.018161</td>\n",
       "      <td>0.001649</td>\n",
       "      <td>0.001070</td>\n",
       "      <td>0.575779</td>\n",
       "      <td>-0.426864</td>\n",
       "      <td>-0.198008</td>\n",
       "      <td>-0.206733</td>\n",
       "      <td>0.009216</td>\n",
       "      <td>2.0</td>\n",
       "    </tr>\n",
       "    <tr>\n",
       "      <th>3</th>\n",
       "      <td>0.970058</td>\n",
       "      <td>0.262223</td>\n",
       "      <td>0.010698</td>\n",
       "      <td>0.003960</td>\n",
       "      <td>0.000699</td>\n",
       "      <td>0.000365</td>\n",
       "      <td>0.003002</td>\n",
       "      <td>0.286159</td>\n",
       "      <td>0.001609</td>\n",
       "      <td>0.002021</td>\n",
       "      <td>...</td>\n",
       "      <td>0.248445</td>\n",
       "      <td>0.015864</td>\n",
       "      <td>0.002327</td>\n",
       "      <td>0.001716</td>\n",
       "      <td>0.582356</td>\n",
       "      <td>-0.132525</td>\n",
       "      <td>0.793322</td>\n",
       "      <td>-0.057675</td>\n",
       "      <td>-0.004331</td>\n",
       "      <td>3.0</td>\n",
       "    </tr>\n",
       "  </tbody>\n",
       "</table>\n",
       "<p>4 rows × 22 columns</p>\n",
       "</div>"
      ],
      "text/plain": [
       "                account_category  bi_account_classification  customer_type  \\\n",
       "cluster_kmeans                                                               \n",
       "0                       0.998813                   0.309395       0.029399   \n",
       "1                       0.985604                   0.251546       0.004038   \n",
       "2                       0.998683                   0.333481       0.041624   \n",
       "3                       0.970058                   0.262223       0.010698   \n",
       "\n",
       "                  region  employee_number  revenue_in_eur  \\\n",
       "cluster_kmeans                                              \n",
       "0               0.939987         0.000703        0.000499   \n",
       "1               0.946155         0.000499        0.000243   \n",
       "2               0.941055         0.000455        0.000194   \n",
       "3               0.003960         0.000699        0.000365   \n",
       "\n",
       "                number_distinct_active_licenses  major_edition  \\\n",
       "cluster_kmeans                                                   \n",
       "0                                      0.002926       0.698455   \n",
       "1                                      0.006276       0.281868   \n",
       "2                                      0.002704       0.044054   \n",
       "3                                      0.003002       0.286159   \n",
       "\n",
       "                total_connections_12m  total_endpoints_12m  ...  age_customer  \\\n",
       "cluster_kmeans                                              ...                 \n",
       "0                            0.000585             0.000712  ...      0.244789   \n",
       "1                            0.002468             0.003774  ...      0.399316   \n",
       "2                            0.001005             0.001617  ...      0.285732   \n",
       "3                            0.001609             0.002021  ...      0.248445   \n",
       "\n",
       "                number_renewals  account_value_in_eur  billings_ltm_prorated  \\\n",
       "cluster_kmeans                                                                 \n",
       "0                      0.015221              0.001253               0.000930   \n",
       "1                      0.019305              0.003240               0.002134   \n",
       "2                      0.018161              0.001649               0.001070   \n",
       "3                      0.015864              0.002327               0.001716   \n",
       "\n",
       "                industry         0  Component 1  Component 2  Component 3  \\\n",
       "cluster_kmeans                                                              \n",
       "0               0.566834 -0.431404    -0.133660     0.445496    -0.018760   \n",
       "1               0.581541  0.547479    -0.088507     0.014685     0.001491   \n",
       "2               0.575779 -0.426864    -0.198008    -0.206733     0.009216   \n",
       "3               0.582356 -0.132525     0.793322    -0.057675    -0.004331   \n",
       "\n",
       "                clusters  \n",
       "cluster_kmeans            \n",
       "0                    0.0  \n",
       "1                    1.0  \n",
       "2                    2.0  \n",
       "3                    3.0  \n",
       "\n",
       "[4 rows x 22 columns]"
      ]
     },
     "execution_count": 52,
     "metadata": {},
     "output_type": "execute_result"
    }
   ],
   "source": [
    "# Fit the KMeans model\n",
    "kmeans = KMeans(n_clusters=4, random_state=0).fit(features_pca)\n",
    "\n",
    "# Get the cluster labels\n",
    "cluster_labels = kmeans.labels_\n",
    "\n",
    "# Get the cluster centers\n",
    "cluster_centers = kmeans.cluster_centers_\n",
    "\n",
    "df_pca = pd.concat([df.reset_index(drop=True), pd.DataFrame(features_pca)], axis=1)\n",
    "df_pca.columns.values[-3: ] = ['Component 1', 'Component 2', 'Component 3']\n",
    "df_pca['clusters'] = kmeans.labels_\n",
    "df_pca['cluster_kmeans'] = kmeans.predict(features_pca)\n",
    "df_pca.groupby(['cluster_kmeans']).mean()"
   ]
  },
  {
   "cell_type": "code",
   "execution_count": 53,
   "metadata": {},
   "outputs": [
    {
     "data": {
      "text/plain": [
       "1    39456\n",
       "2    30944\n",
       "0    14955\n",
       "3    14645\n",
       "Name: cluster_kmeans, dtype: int64"
      ]
     },
     "execution_count": 53,
     "metadata": {},
     "output_type": "execute_result"
    }
   ],
   "source": [
    "df_pca.cluster_kmeans.value_counts()"
   ]
  },
  {
   "cell_type": "code",
   "execution_count": 54,
   "metadata": {},
   "outputs": [
    {
     "data": {
      "image/png": "[encoded data removed]",
      "text/plain": [
       "<Figure size 1000x500 with 2 Axes>"
      ]
     },
     "metadata": {},
     "output_type": "display_data"
    }
   ],
   "source": [
    "# Visualize the correlation matrix\n",
    "plt.figure(figsize=(10,5))\n",
    "sns.heatmap(df_pca.groupby(['cluster_kmeans']).mean(), cmap='coolwarm', annot=True)\n",
    "plt.show()"
   ]
  },
  {
   "cell_type": "code",
   "execution_count": 55,
   "metadata": {},
   "outputs": [
    {
     "data": {
      "application/vnd.plotly.v1+json": {
       "config": {
        "plotlyServerURL": "https://plot.ly"
       },
       "data": [
        {
         "hovertemplate": "label=0<br>value=%{r}<br>variable=%{theta}<extra></extra>",
         "legendgroup": "0",
         "line": {
          "color": "#636efa",
          "dash": "solid"
         },
         "marker": {
          "symbol": "circle"
         },
         "mode": "lines",
         "name": "0",
         "r": [
          0.9988131059846205,
          0.30939485122032767,
          0.029399309038225786,
          0.9399866265463056,
          0.0007032598738205301,
          0.0004991639906881928,
          0.0029256600971746404,
          0.698455366098295,
          0.0005847156569801971,
          0.0007115980021252569,
          0.0007641397166881892,
          0.9790972918756269,
          0.24478926977009458,
          0.015221450515067214,
          0.0012530873432670204,
          0.0009303967809486702,
          0.5668338348378469,
          0.9988131059846205
         ],
         "showlegend": true,
         "subplot": "polar",
         "theta": [
          "account_category",
          "bi_account_classification",
          "customer_type",
          "region",
          "employee_number",
          "revenue_in_eur",
          "number_distinct_active_licenses",
          "major_edition",
          "total_connections_12m",
          "total_endpoints_12m",
          "total_devices_12m",
          "current_sales_channel",
          "age_customer",
          "number_renewals",
          "account_value_in_eur",
          "billings_ltm_prorated",
          "industry",
          "account_category"
         ],
         "type": "scatterpolar"
        },
        {
         "hovertemplate": "label=1<br>value=%{r}<br>variable=%{theta}<extra></extra>",
         "legendgroup": "1",
         "line": {
          "color": "#EF553B",
          "dash": "solid"
         },
         "marker": {
          "symbol": "circle"
         },
         "mode": "lines",
         "name": "1",
         "r": [
          0.9856042173560422,
          0.2515460259529603,
          0.004038253582049202,
          0.9461552108678021,
          0.0004993061110206504,
          0.0002432728251143554,
          0.0062761017368681594,
          0.28186841038118415,
          0.0024678054780344714,
          0.003773717119179378,
          0.002236881142074952,
          0.006538929440389294,
          0.399315991603454,
          0.01930452263997919,
          0.0032399615395642283,
          0.002133938857911585,
          0.5815414639091647,
          0.9856042173560422
         ],
         "showlegend": true,
         "subplot": "polar",
         "theta": [
          "account_category",
          "bi_account_classification",
          "customer_type",
          "region",
          "employee_number",
          "revenue_in_eur",
          "number_distinct_active_licenses",
          "major_edition",
          "total_connections_12m",
          "total_endpoints_12m",
          "total_devices_12m",
          "current_sales_channel",
          "age_customer",
          "number_renewals",
          "account_value_in_eur",
          "billings_ltm_prorated",
          "industry",
          "account_category"
         ],
         "type": "scatterpolar"
        },
        {
         "hovertemplate": "label=2<br>value=%{r}<br>variable=%{theta}<extra></extra>",
         "legendgroup": "2",
         "line": {
          "color": "#00cc96",
          "dash": "solid"
         },
         "marker": {
          "symbol": "circle"
         },
         "mode": "lines",
         "name": "2",
         "r": [
          0.9986831049638056,
          0.33348145036194415,
          0.041623578076525336,
          0.9410548086866598,
          0.00045529749747692274,
          0.00019445934510363533,
          0.0027042986744382816,
          0.04405377456049638,
          0.0010053106703878697,
          0.0016171957839174408,
          0.0010543137586011644,
          0.9734100310237849,
          0.28573248068617313,
          0.018161383436420753,
          0.0016491479096590476,
          0.001070268886861171,
          0.5757788262668045,
          0.9986831049638056
         ],
         "showlegend": true,
         "subplot": "polar",
         "theta": [
          "account_category",
          "bi_account_classification",
          "customer_type",
          "region",
          "employee_number",
          "revenue_in_eur",
          "number_distinct_active_licenses",
          "major_edition",
          "total_connections_12m",
          "total_endpoints_12m",
          "total_devices_12m",
          "current_sales_channel",
          "age_customer",
          "number_renewals",
          "account_value_in_eur",
          "billings_ltm_prorated",
          "industry",
          "account_category"
         ],
         "type": "scatterpolar"
        },
        {
         "hovertemplate": "label=3<br>value=%{r}<br>variable=%{theta}<extra></extra>",
         "legendgroup": "3",
         "line": {
          "color": "#ab63fa",
          "dash": "solid"
         },
         "marker": {
          "symbol": "circle"
         },
         "mode": "lines",
         "name": "3",
         "r": [
          0.9700580402867873,
          0.26222260157050187,
          0.010697621486286559,
          0.0039603960396039604,
          0.000699358009678795,
          0.00036518854811743546,
          0.0030022214044064504,
          0.28615909866848754,
          0.0016088248949159244,
          0.0020212090725565176,
          0.001610455569875062,
          0.5878866507340389,
          0.2484445604803888,
          0.01586445241791583,
          0.002326657186819822,
          0.0017155291752729064,
          0.582355752816661,
          0.9700580402867873
         ],
         "showlegend": true,
         "subplot": "polar",
         "theta": [
          "account_category",
          "bi_account_classification",
          "customer_type",
          "region",
          "employee_number",
          "revenue_in_eur",
          "number_distinct_active_licenses",
          "major_edition",
          "total_connections_12m",
          "total_endpoints_12m",
          "total_devices_12m",
          "current_sales_channel",
          "age_customer",
          "number_renewals",
          "account_value_in_eur",
          "billings_ltm_prorated",
          "industry",
          "account_category"
         ],
         "type": "scatterpolar"
        }
       ],
       "layout": {
        "height": 800,
        "legend": {
         "title": {
          "text": "label"
         },
         "tracegroupgap": 0
        },
        "margin": {
         "t": 60
        },
        "polar": {
         "angularaxis": {
          "direction": "clockwise",
          "rotation": 90
         },
         "domain": {
          "x": [
           0,
           1
          ],
          "y": [
           0,
           1
          ]
         }
        },
        "template": {
         "data": {
          "bar": [
           {
            "error_x": {
             "color": "#2a3f5f"
            },
            "error_y": {
             "color": "#2a3f5f"
            },
            "marker": {
             "line": {
              "color": "#E5ECF6",
              "width": 0.5
             },
             "pattern": {
              "fillmode": "overlay",
              "size": 10,
              "solidity": 0.2
             }
            },
            "type": "bar"
           }
          ],
          "barpolar": [
           {
            "marker": {
             "line": {
              "color": "#E5ECF6",
              "width": 0.5
             },
             "pattern": {
              "fillmode": "overlay",
              "size": 10,
              "solidity": 0.2
             }
            },
            "type": "barpolar"
           }
          ],
          "carpet": [
           {
            "aaxis": {
             "endlinecolor": "#2a3f5f",
             "gridcolor": "white",
             "linecolor": "white",
             "minorgridcolor": "white",
             "startlinecolor": "#2a3f5f"
            },
            "baxis": {
             "endlinecolor": "#2a3f5f",
             "gridcolor": "white",
             "linecolor": "white",
             "minorgridcolor": "white",
             "startlinecolor": "#2a3f5f"
            },
            "type": "carpet"
           }
          ],
          "choropleth": [
           {
            "colorbar": {
             "outlinewidth": 0,
             "ticks": ""
            },
            "type": "choropleth"
           }
          ],
          "contour": [
           {
            "colorbar": {
             "outlinewidth": 0,
             "ticks": ""
            },
            "colorscale": [
             [
              0,
              "#0d0887"
             ],
             [
              0.1111111111111111,
              "#46039f"
             ],
             [
              0.2222222222222222,
              "#7201a8"
             ],
             [
              0.3333333333333333,
              "#9c179e"
             ],
             [
              0.4444444444444444,
              "#bd3786"
             ],
             [
              0.5555555555555556,
              "#d8576b"
             ],
             [
              0.6666666666666666,
              "#ed7953"
             ],
             [
              0.7777777777777778,
              "#fb9f3a"
             ],
             [
              0.8888888888888888,
              "#fdca26"
             ],
             [
              1,
              "#f0f921"
             ]
            ],
            "type": "contour"
           }
          ],
          "contourcarpet": [
           {
            "colorbar": {
             "outlinewidth": 0,
             "ticks": ""
            },
            "type": "contourcarpet"
           }
          ],
          "heatmap": [
           {
            "colorbar": {
             "outlinewidth": 0,
             "ticks": ""
            },
            "colorscale": [
             [
              0,
              "#0d0887"
             ],
             [
              0.1111111111111111,
              "#46039f"
             ],
             [
              0.2222222222222222,
              "#7201a8"
             ],
             [
              0.3333333333333333,
              "#9c179e"
             ],
             [
              0.4444444444444444,
              "#bd3786"
             ],
             [
              0.5555555555555556,
              "#d8576b"
             ],
             [
              0.6666666666666666,
              "#ed7953"
             ],
             [
              0.7777777777777778,
              "#fb9f3a"
             ],
             [
              0.8888888888888888,
              "#fdca26"
             ],
             [
              1,
              "#f0f921"
             ]
            ],
            "type": "heatmap"
           }
          ],
          "heatmapgl": [
           {
            "colorbar": {
             "outlinewidth": 0,
             "ticks": ""
            },
            "colorscale": [
             [
              0,
              "#0d0887"
             ],
             [
              0.1111111111111111,
              "#46039f"
             ],
             [
              0.2222222222222222,
              "#7201a8"
             ],
             [
              0.3333333333333333,
              "#9c179e"
             ],
             [
              0.4444444444444444,
              "#bd3786"
             ],
             [
              0.5555555555555556,
              "#d8576b"
             ],
             [
              0.6666666666666666,
              "#ed7953"
             ],
             [
              0.7777777777777778,
              "#fb9f3a"
             ],
             [
              0.8888888888888888,
              "#fdca26"
             ],
             [
              1,
              "#f0f921"
             ]
            ],
            "type": "heatmapgl"
           }
          ],
          "histogram": [
           {
            "marker": {
             "pattern": {
              "fillmode": "overlay",
              "size": 10,
              "solidity": 0.2
             }
            },
            "type": "histogram"
           }
          ],
          "histogram2d": [
           {
            "colorbar": {
             "outlinewidth": 0,
             "ticks": ""
            },
            "colorscale": [
             [
              0,
              "#0d0887"
             ],
             [
              0.1111111111111111,
              "#46039f"
             ],
             [
              0.2222222222222222,
              "#7201a8"
             ],
             [
              0.3333333333333333,
              "#9c179e"
             ],
             [
              0.4444444444444444,
              "#bd3786"
             ],
             [
              0.5555555555555556,
              "#d8576b"
             ],
             [
              0.6666666666666666,
              "#ed7953"
             ],
             [
              0.7777777777777778,
              "#fb9f3a"
             ],
             [
              0.8888888888888888,
              "#fdca26"
             ],
             [
              1,
              "#f0f921"
             ]
            ],
            "type": "histogram2d"
           }
          ],
          "histogram2dcontour": [
           {
            "colorbar": {
             "outlinewidth": 0,
             "ticks": ""
            },
            "colorscale": [
             [
              0,
              "#0d0887"
             ],
             [
              0.1111111111111111,
              "#46039f"
             ],
             [
              0.2222222222222222,
              "#7201a8"
             ],
             [
              0.3333333333333333,
              "#9c179e"
             ],
             [
              0.4444444444444444,
              "#bd3786"
             ],
             [
              0.5555555555555556,
              "#d8576b"
             ],
             [
              0.6666666666666666,
              "#ed7953"
             ],
             [
              0.7777777777777778,
              "#fb9f3a"
             ],
             [
              0.8888888888888888,
              "#fdca26"
             ],
             [
              1,
              "#f0f921"
             ]
            ],
            "type": "histogram2dcontour"
           }
          ],
          "mesh3d": [
           {
            "colorbar": {
             "outlinewidth": 0,
             "ticks": ""
            },
            "type": "mesh3d"
           }
          ],
          "parcoords": [
           {
            "line": {
             "colorbar": {
              "outlinewidth": 0,
              "ticks": ""
             }
            },
            "type": "parcoords"
           }
          ],
          "pie": [
           {
            "automargin": true,
            "type": "pie"
           }
          ],
          "scatter": [
           {
            "fillpattern": {
             "fillmode": "overlay",
             "size": 10,
             "solidity": 0.2
            },
            "type": "scatter"
           }
          ],
          "scatter3d": [
           {
            "line": {
             "colorbar": {
              "outlinewidth": 0,
              "ticks": ""
             }
            },
            "marker": {
             "colorbar": {
              "outlinewidth": 0,
              "ticks": ""
             }
            },
            "type": "scatter3d"
           }
          ],
          "scattercarpet": [
           {
            "marker": {
             "colorbar": {
              "outlinewidth": 0,
              "ticks": ""
             }
            },
            "type": "scattercarpet"
           }
          ],
          "scattergeo": [
           {
            "marker": {
             "colorbar": {
              "outlinewidth": 0,
              "ticks": ""
             }
            },
            "type": "scattergeo"
           }
          ],
          "scattergl": [
           {
            "marker": {
             "colorbar": {
              "outlinewidth": 0,
              "ticks": ""
             }
            },
            "type": "scattergl"
           }
          ],
          "scattermapbox": [
           {
            "marker": {
             "colorbar": {
              "outlinewidth": 0,
              "ticks": ""
             }
            },
            "type": "scattermapbox"
           }
          ],
          "scatterpolar": [
           {
            "marker": {
             "colorbar": {
              "outlinewidth": 0,
              "ticks": ""
             }
            },
            "type": "scatterpolar"
           }
          ],
          "scatterpolargl": [
           {
            "marker": {
             "colorbar": {
              "outlinewidth": 0,
              "ticks": ""
             }
            },
            "type": "scatterpolargl"
           }
          ],
          "scatterternary": [
           {
            "marker": {
             "colorbar": {
              "outlinewidth": 0,
              "ticks": ""
             }
            },
            "type": "scatterternary"
           }
          ],
          "surface": [
           {
            "colorbar": {
             "outlinewidth": 0,
             "ticks": ""
            },
            "colorscale": [
             [
              0,
              "#0d0887"
             ],
             [
              0.1111111111111111,
              "#46039f"
             ],
             [
              0.2222222222222222,
              "#7201a8"
             ],
             [
              0.3333333333333333,
              "#9c179e"
             ],
             [
              0.4444444444444444,
              "#bd3786"
             ],
             [
              0.5555555555555556,
              "#d8576b"
             ],
             [
              0.6666666666666666,
              "#ed7953"
             ],
             [
              0.7777777777777778,
              "#fb9f3a"
             ],
             [
              0.8888888888888888,
              "#fdca26"
             ],
             [
              1,
              "#f0f921"
             ]
            ],
            "type": "surface"
           }
          ],
          "table": [
           {
            "cells": {
             "fill": {
              "color": "#EBF0F8"
             },
             "line": {
              "color": "white"
             }
            },
            "header": {
             "fill": {
              "color": "#C8D4E3"
             },
             "line": {
              "color": "white"
             }
            },
            "type": "table"
           }
          ]
         },
         "layout": {
          "annotationdefaults": {
           "arrowcolor": "#2a3f5f",
           "arrowhead": 0,
           "arrowwidth": 1
          },
          "autotypenumbers": "strict",
          "coloraxis": {
           "colorbar": {
            "outlinewidth": 0,
            "ticks": ""
           }
          },
          "colorscale": {
           "diverging": [
            [
             0,
             "#8e0152"
            ],
            [
             0.1,
             "#c51b7d"
            ],
            [
             0.2,
             "#de77ae"
            ],
            [
             0.3,
             "#f1b6da"
            ],
            [
             0.4,
             "#fde0ef"
            ],
            [
             0.5,
             "#f7f7f7"
            ],
            [
             0.6,
             "#e6f5d0"
            ],
            [
             0.7,
             "#b8e186"
            ],
            [
             0.8,
             "#7fbc41"
            ],
            [
             0.9,
             "#4d9221"
            ],
            [
             1,
             "#276419"
            ]
           ],
           "sequential": [
            [
             0,
             "#0d0887"
            ],
            [
             0.1111111111111111,
             "#46039f"
            ],
            [
             0.2222222222222222,
             "#7201a8"
            ],
            [
             0.3333333333333333,
             "#9c179e"
            ],
            [
             0.4444444444444444,
             "#bd3786"
            ],
            [
             0.5555555555555556,
             "#d8576b"
            ],
            [
             0.6666666666666666,
             "#ed7953"
            ],
            [
             0.7777777777777778,
             "#fb9f3a"
            ],
            [
             0.8888888888888888,
             "#fdca26"
            ],
            [
             1,
             "#f0f921"
            ]
           ],
           "sequentialminus": [
            [
             0,
             "#0d0887"
            ],
            [
             0.1111111111111111,
             "#46039f"
            ],
            [
             0.2222222222222222,
             "#7201a8"
            ],
            [
             0.3333333333333333,
             "#9c179e"
            ],
            [
             0.4444444444444444,
             "#bd3786"
            ],
            [
             0.5555555555555556,
             "#d8576b"
            ],
            [
             0.6666666666666666,
             "#ed7953"
            ],
            [
             0.7777777777777778,
             "#fb9f3a"
            ],
            [
             0.8888888888888888,
             "#fdca26"
            ],
            [
             1,
             "#f0f921"
            ]
           ]
          },
          "colorway": [
           "#636efa",
           "#EF553B",
           "#00cc96",
           "#ab63fa",
           "#FFA15A",
           "#19d3f3",
           "#FF6692",
           "#B6E880",
           "#FF97FF",
           "#FECB52"
          ],
          "font": {
           "color": "#2a3f5f"
          },
          "geo": {
           "bgcolor": "white",
           "lakecolor": "white",
           "landcolor": "#E5ECF6",
           "showlakes": true,
           "showland": true,
           "subunitcolor": "white"
          },
          "hoverlabel": {
           "align": "left"
          },
          "hovermode": "closest",
          "mapbox": {
           "style": "light"
          },
          "paper_bgcolor": "white",
          "plot_bgcolor": "#E5ECF6",
          "polar": {
           "angularaxis": {
            "gridcolor": "white",
            "linecolor": "white",
            "ticks": ""
           },
           "bgcolor": "#E5ECF6",
           "radialaxis": {
            "gridcolor": "white",
            "linecolor": "white",
            "ticks": ""
           }
          },
          "scene": {
           "xaxis": {
            "backgroundcolor": "#E5ECF6",
            "gridcolor": "white",
            "gridwidth": 2,
            "linecolor": "white",
            "showbackground": true,
            "ticks": "",
            "zerolinecolor": "white"
           },
           "yaxis": {
            "backgroundcolor": "#E5ECF6",
            "gridcolor": "white",
            "gridwidth": 2,
            "linecolor": "white",
            "showbackground": true,
            "ticks": "",
            "zerolinecolor": "white"
           },
           "zaxis": {
            "backgroundcolor": "#E5ECF6",
            "gridcolor": "white",
            "gridwidth": 2,
            "linecolor": "white",
            "showbackground": true,
            "ticks": "",
            "zerolinecolor": "white"
           }
          },
          "shapedefaults": {
           "line": {
            "color": "#2a3f5f"
           }
          },
          "ternary": {
           "aaxis": {
            "gridcolor": "white",
            "linecolor": "white",
            "ticks": ""
           },
           "baxis": {
            "gridcolor": "white",
            "linecolor": "white",
            "ticks": ""
           },
           "bgcolor": "#E5ECF6",
           "caxis": {
            "gridcolor": "white",
            "linecolor": "white",
            "ticks": ""
           }
          },
          "title": {
           "x": 0.05
          },
          "xaxis": {
           "automargin": true,
           "gridcolor": "white",
           "linecolor": "white",
           "ticks": "",
           "title": {
            "standoff": 15
           },
           "zerolinecolor": "white",
           "zerolinewidth": 2
          },
          "yaxis": {
           "automargin": true,
           "gridcolor": "white",
           "linecolor": "white",
           "ticks": "",
           "title": {
            "standoff": 15
           },
           "zerolinecolor": "white",
           "zerolinewidth": 2
          }
         }
        },
        "width": 1400
       }
      }
     },
     "metadata": {},
     "output_type": "display_data"
    }
   ],
   "source": [
    "clusters=pd.DataFrame(features, columns=features_df.columns)\n",
    "clusters['label']=kmeans.labels_\n",
    "polar=clusters.groupby(\"label\").mean().reset_index()\n",
    "polar=pd.melt(polar,id_vars=[\"label\"])\n",
    "fig = px.line_polar(polar, r=\"value\", theta=\"variable\", color=\"label\", line_close=True,height=800,width=1400)\n",
    "fig.show()"
   ]
  },
  {
   "cell_type": "markdown",
   "metadata": {},
   "source": [
    "Os resultados obtidos são justificados pelas seguintes razões:\n",
    "- As variveis numericas, devido à sua distribuição centrada num intervalo muito baixo, o que faz com que existem imensos outrliers, demonstram não possuir uma importancia grande para o modelo, que por justa-cause não lida bem com esses mesmos;\n",
    "- Também a multicolineariedade, tem um papel fulcral nos resultados obtidos, sendo que piora a performance do modelo;\n",
    "- As escalas atribuidas pelos métodos de scaling e encoding, demonstram não serem eficazes, pelo atribuem maior importancia às variáveis categoricas do que às numericas, devido aos numeros serem de uma escalha diferente e maior."
   ]
  },
  {
   "cell_type": "markdown",
   "metadata": {},
   "source": [
    "## Evaluation"
   ]
  },
  {
   "cell_type": "code",
   "execution_count": 56,
   "metadata": {},
   "outputs": [
    {
     "name": "stdout",
     "output_type": "stream",
     "text": [
      "Silhouette Score: 0.364\n"
     ]
    }
   ],
   "source": [
    "# Calculate Silhouette Score\n",
    "silhouette_avg = silhouette_score(features_df, cluster_labels)\n",
    "print(f'Silhouette Score: {silhouette_avg:.3f}')"
   ]
  },
  {
   "cell_type": "code",
   "execution_count": 57,
   "metadata": {},
   "outputs": [
    {
     "name": "stdout",
     "output_type": "stream",
     "text": [
      "Davies-Bouldin Index: 1.155\n"
     ]
    }
   ],
   "source": [
    "# Calculate Davies-Bouldin Index\n",
    "davies_bouldin_avg = davies_bouldin_score(features_df, cluster_labels)\n",
    "print(f'Davies-Bouldin Index: {davies_bouldin_avg:.3f}')"
   ]
  }
 ],
 "metadata": {
  "kernelspec": {
   "display_name": "base",
   "language": "python",
   "name": "python3"
  },
  "language_info": {
   "codemirror_mode": {
    "name": "ipython",
    "version": 3
   },
   "file_extension": ".py",
   "mimetype": "text/x-python",
   "name": "python",
   "nbconvert_exporter": "python",
   "pygments_lexer": "ipython3",
   "version": "3.9.13"
  }
 },
 "nbformat": 4,
 "nbformat_minor": 2
}
