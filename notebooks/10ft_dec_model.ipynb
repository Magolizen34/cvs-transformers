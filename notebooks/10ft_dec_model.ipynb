{
 "cells": [
  {
   "cell_type": "markdown",
   "metadata": {},
   "source": [
    "# Embedding Model"
   ]
  },
  {
   "cell_type": "code",
   "execution_count": 1,
   "metadata": {},
   "outputs": [],
   "source": [
    "import matplotlib.pyplot as plt \n",
    "from matplotlib.lines import Line2D  # For custom legend markers\n",
    "import numpy as np\n",
    "import pandas as pd\n",
    "import plotly.express as px\n",
    "import seaborn as sns\n",
    "from sklearn.cluster import KMeans\n",
    "from sklearn.metrics import silhouette_score, davies_bouldin_score\n",
    "from sklearn.decomposition import PCA\n",
    "import tensorflow as tf\n",
    "from tensorflow.keras.models import Model\n",
    "from tensorflow.keras.layers import Input, Dense, Layer, Dropout\n",
    "from tensorflow.keras.optimizers import Adam\n",
    "from tensorflow.keras.callbacks import EarlyStopping\n",
    "import tensorflow.keras.backend as K\n",
    "import warnings # ignore warnings\n",
    "warnings.filterwarnings('ignore')"
   ]
  },
  {
   "cell_type": "code",
   "execution_count": 2,
   "metadata": {},
   "outputs": [],
   "source": [
    "df = pd.read_csv('../data/final_df_normalized.csv', sep='|') "
   ]
  },
  {
   "cell_type": "code",
   "execution_count": 3,
   "metadata": {},
   "outputs": [
    {
     "name": "stdout",
     "output_type": "stream",
     "text": [
      "<class 'pandas.core.frame.DataFrame'>\n",
      "RangeIndex: 100000 entries, 0 to 99999\n",
      "Data columns (total 12 columns):\n",
      " #   Column                                  Non-Null Count   Dtype  \n",
      "---  ------                                  --------------   -----  \n",
      " 0   account_id                              100000 non-null  object \n",
      " 1   yeojohnson_revenue_in_eur_bin           100000 non-null  float64\n",
      " 2   is_EMEA                                 100000 non-null  int64  \n",
      " 3   is_Webshop                              100000 non-null  int64  \n",
      " 4   is_industry_FinanceInsuranceRealEstate  100000 non-null  int64  \n",
      " 5   is_industry_Manufacturing               100000 non-null  int64  \n",
      " 6   is_industry_Other                       100000 non-null  int64  \n",
      " 7   is_industry_RetailTrade                 100000 non-null  int64  \n",
      " 8   is_industry_Services                    100000 non-null  int64  \n",
      " 9   is_industry_WholesaleTrade              100000 non-null  int64  \n",
      " 10  license_value_score                     100000 non-null  float64\n",
      " 11  customer_value_score                    100000 non-null  float64\n",
      "dtypes: float64(3), int64(8), object(1)\n",
      "memory usage: 9.2+ MB\n"
     ]
    }
   ],
   "source": [
    "df.info()"
   ]
  },
  {
   "cell_type": "code",
   "execution_count": 4,
   "metadata": {},
   "outputs": [
    {
     "data": {
      "text/html": [
       "<div>\n",
       "<style scoped>\n",
       "    .dataframe tbody tr th:only-of-type {\n",
       "        vertical-align: middle;\n",
       "    }\n",
       "\n",
       "    .dataframe tbody tr th {\n",
       "        vertical-align: top;\n",
       "    }\n",
       "\n",
       "    .dataframe thead th {\n",
       "        text-align: right;\n",
       "    }\n",
       "</style>\n",
       "<table border=\"1\" class=\"dataframe\">\n",
       "  <thead>\n",
       "    <tr style=\"text-align: right;\">\n",
       "      <th></th>\n",
       "      <th>account_id</th>\n",
       "      <th>yeojohnson_revenue_in_eur_bin</th>\n",
       "      <th>is_EMEA</th>\n",
       "      <th>is_Webshop</th>\n",
       "      <th>is_industry_FinanceInsuranceRealEstate</th>\n",
       "      <th>is_industry_Manufacturing</th>\n",
       "      <th>is_industry_Other</th>\n",
       "      <th>is_industry_RetailTrade</th>\n",
       "      <th>is_industry_Services</th>\n",
       "      <th>is_industry_WholesaleTrade</th>\n",
       "      <th>license_value_score</th>\n",
       "      <th>customer_value_score</th>\n",
       "    </tr>\n",
       "  </thead>\n",
       "  <tbody>\n",
       "    <tr>\n",
       "      <th>0</th>\n",
       "      <td>ac6a99474410f1c59c91da3f0cf9cf3f</td>\n",
       "      <td>0.666667</td>\n",
       "      <td>0</td>\n",
       "      <td>1</td>\n",
       "      <td>0</td>\n",
       "      <td>0</td>\n",
       "      <td>0</td>\n",
       "      <td>0</td>\n",
       "      <td>1</td>\n",
       "      <td>0</td>\n",
       "      <td>0.225903</td>\n",
       "      <td>0.404288</td>\n",
       "    </tr>\n",
       "    <tr>\n",
       "      <th>1</th>\n",
       "      <td>1cc66628ed41f3db5a55195e93277a04</td>\n",
       "      <td>0.666667</td>\n",
       "      <td>0</td>\n",
       "      <td>1</td>\n",
       "      <td>0</td>\n",
       "      <td>0</td>\n",
       "      <td>0</td>\n",
       "      <td>0</td>\n",
       "      <td>0</td>\n",
       "      <td>1</td>\n",
       "      <td>0.692198</td>\n",
       "      <td>0.000000</td>\n",
       "    </tr>\n",
       "    <tr>\n",
       "      <th>2</th>\n",
       "      <td>db5f3cdd5629b9591b720b9b7e077df2</td>\n",
       "      <td>1.000000</td>\n",
       "      <td>0</td>\n",
       "      <td>1</td>\n",
       "      <td>0</td>\n",
       "      <td>0</td>\n",
       "      <td>0</td>\n",
       "      <td>0</td>\n",
       "      <td>1</td>\n",
       "      <td>0</td>\n",
       "      <td>0.025903</td>\n",
       "      <td>0.058008</td>\n",
       "    </tr>\n",
       "    <tr>\n",
       "      <th>3</th>\n",
       "      <td>bebb4028688f519f36ed220855b0a62f</td>\n",
       "      <td>1.000000</td>\n",
       "      <td>0</td>\n",
       "      <td>0</td>\n",
       "      <td>0</td>\n",
       "      <td>0</td>\n",
       "      <td>0</td>\n",
       "      <td>0</td>\n",
       "      <td>1</td>\n",
       "      <td>0</td>\n",
       "      <td>0.825945</td>\n",
       "      <td>0.703012</td>\n",
       "    </tr>\n",
       "    <tr>\n",
       "      <th>4</th>\n",
       "      <td>507c0bfb67895d773e3f8bd33b861d09</td>\n",
       "      <td>1.000000</td>\n",
       "      <td>0</td>\n",
       "      <td>0</td>\n",
       "      <td>1</td>\n",
       "      <td>0</td>\n",
       "      <td>0</td>\n",
       "      <td>0</td>\n",
       "      <td>0</td>\n",
       "      <td>0</td>\n",
       "      <td>0.826668</td>\n",
       "      <td>0.467596</td>\n",
       "    </tr>\n",
       "    <tr>\n",
       "      <th>5</th>\n",
       "      <td>b1267a5b953b7267de811510f838172b</td>\n",
       "      <td>0.666667</td>\n",
       "      <td>0</td>\n",
       "      <td>1</td>\n",
       "      <td>0</td>\n",
       "      <td>0</td>\n",
       "      <td>0</td>\n",
       "      <td>1</td>\n",
       "      <td>0</td>\n",
       "      <td>0</td>\n",
       "      <td>0.172568</td>\n",
       "      <td>0.270317</td>\n",
       "    </tr>\n",
       "    <tr>\n",
       "      <th>6</th>\n",
       "      <td>3315ad169d4d2e9080f1377c44377c7c</td>\n",
       "      <td>0.666667</td>\n",
       "      <td>0</td>\n",
       "      <td>0</td>\n",
       "      <td>0</td>\n",
       "      <td>0</td>\n",
       "      <td>0</td>\n",
       "      <td>0</td>\n",
       "      <td>1</td>\n",
       "      <td>0</td>\n",
       "      <td>0.784642</td>\n",
       "      <td>0.863665</td>\n",
       "    </tr>\n",
       "    <tr>\n",
       "      <th>7</th>\n",
       "      <td>8ca7b69eda1a06b32e60fff1c6db3b28</td>\n",
       "      <td>1.000000</td>\n",
       "      <td>0</td>\n",
       "      <td>0</td>\n",
       "      <td>0</td>\n",
       "      <td>0</td>\n",
       "      <td>1</td>\n",
       "      <td>0</td>\n",
       "      <td>0</td>\n",
       "      <td>0</td>\n",
       "      <td>0.530824</td>\n",
       "      <td>0.608520</td>\n",
       "    </tr>\n",
       "    <tr>\n",
       "      <th>8</th>\n",
       "      <td>5bd2eea4e2320b9246b41a8f54fb02d2</td>\n",
       "      <td>0.333333</td>\n",
       "      <td>0</td>\n",
       "      <td>0</td>\n",
       "      <td>0</td>\n",
       "      <td>0</td>\n",
       "      <td>0</td>\n",
       "      <td>0</td>\n",
       "      <td>1</td>\n",
       "      <td>0</td>\n",
       "      <td>0.925757</td>\n",
       "      <td>0.625388</td>\n",
       "    </tr>\n",
       "    <tr>\n",
       "      <th>9</th>\n",
       "      <td>bbfb03bca60fb0185be3f36d12c99b3f</td>\n",
       "      <td>0.666667</td>\n",
       "      <td>0</td>\n",
       "      <td>0</td>\n",
       "      <td>0</td>\n",
       "      <td>0</td>\n",
       "      <td>0</td>\n",
       "      <td>0</td>\n",
       "      <td>1</td>\n",
       "      <td>0</td>\n",
       "      <td>0.864130</td>\n",
       "      <td>0.635761</td>\n",
       "    </tr>\n",
       "  </tbody>\n",
       "</table>\n",
       "</div>"
      ],
      "text/plain": [
       "                         account_id  yeojohnson_revenue_in_eur_bin  is_EMEA  \\\n",
       "0  ac6a99474410f1c59c91da3f0cf9cf3f                       0.666667        0   \n",
       "1  1cc66628ed41f3db5a55195e93277a04                       0.666667        0   \n",
       "2  db5f3cdd5629b9591b720b9b7e077df2                       1.000000        0   \n",
       "3  bebb4028688f519f36ed220855b0a62f                       1.000000        0   \n",
       "4  507c0bfb67895d773e3f8bd33b861d09                       1.000000        0   \n",
       "5  b1267a5b953b7267de811510f838172b                       0.666667        0   \n",
       "6  3315ad169d4d2e9080f1377c44377c7c                       0.666667        0   \n",
       "7  8ca7b69eda1a06b32e60fff1c6db3b28                       1.000000        0   \n",
       "8  5bd2eea4e2320b9246b41a8f54fb02d2                       0.333333        0   \n",
       "9  bbfb03bca60fb0185be3f36d12c99b3f                       0.666667        0   \n",
       "\n",
       "   is_Webshop  is_industry_FinanceInsuranceRealEstate  \\\n",
       "0           1                                       0   \n",
       "1           1                                       0   \n",
       "2           1                                       0   \n",
       "3           0                                       0   \n",
       "4           0                                       1   \n",
       "5           1                                       0   \n",
       "6           0                                       0   \n",
       "7           0                                       0   \n",
       "8           0                                       0   \n",
       "9           0                                       0   \n",
       "\n",
       "   is_industry_Manufacturing  is_industry_Other  is_industry_RetailTrade  \\\n",
       "0                          0                  0                        0   \n",
       "1                          0                  0                        0   \n",
       "2                          0                  0                        0   \n",
       "3                          0                  0                        0   \n",
       "4                          0                  0                        0   \n",
       "5                          0                  0                        1   \n",
       "6                          0                  0                        0   \n",
       "7                          0                  1                        0   \n",
       "8                          0                  0                        0   \n",
       "9                          0                  0                        0   \n",
       "\n",
       "   is_industry_Services  is_industry_WholesaleTrade  license_value_score  \\\n",
       "0                     1                           0             0.225903   \n",
       "1                     0                           1             0.692198   \n",
       "2                     1                           0             0.025903   \n",
       "3                     1                           0             0.825945   \n",
       "4                     0                           0             0.826668   \n",
       "5                     0                           0             0.172568   \n",
       "6                     1                           0             0.784642   \n",
       "7                     0                           0             0.530824   \n",
       "8                     1                           0             0.925757   \n",
       "9                     1                           0             0.864130   \n",
       "\n",
       "   customer_value_score  \n",
       "0              0.404288  \n",
       "1              0.000000  \n",
       "2              0.058008  \n",
       "3              0.703012  \n",
       "4              0.467596  \n",
       "5              0.270317  \n",
       "6              0.863665  \n",
       "7              0.608520  \n",
       "8              0.625388  \n",
       "9              0.635761  "
      ]
     },
     "execution_count": 4,
     "metadata": {},
     "output_type": "execute_result"
    }
   ],
   "source": [
    "df.head(10)"
   ]
  },
  {
   "cell_type": "markdown",
   "metadata": {},
   "source": [
    "## Deep Embedding Clustering (DEC) Model"
   ]
  },
  {
   "cell_type": "code",
   "execution_count": 5,
   "metadata": {},
   "outputs": [],
   "source": [
    "class ClusteringLayer(Layer):\n",
    "    def __init__(self, n_clusters, **kwargs):\n",
    "        super(ClusteringLayer, self).__init__(**kwargs)\n",
    "        self.n_clusters = n_clusters\n",
    "\n",
    "    def build(self, input_shape):\n",
    "        self.clusters = self.add_weight(name='clusters',\n",
    "                                        shape=(self.n_clusters, input_shape[1]),\n",
    "                                        initializer='glorot_uniform')\n",
    "\n",
    "    def call(self, inputs, **kwargs):\n",
    "        q = 1.0 / (1.0 + (K.sum(K.square(K.expand_dims(inputs, axis=1) - self.clusters), axis=2) / 1.0))\n",
    "        q = q ** ((1.0 + 1.0) / 2.0)\n",
    "        q = K.transpose(K.transpose(q) / K.sum(q, axis=1))\n",
    "        return q\n",
    "\n",
    "class DEC:\n",
    "    def __init__(self, input_dim, encoding_dim, n_clusters, dropout_rate=0.2):\n",
    "        self.input_dim = input_dim\n",
    "        self.encoding_dim = encoding_dim\n",
    "        self.n_clusters = n_clusters\n",
    "        self.dropout_rate = dropout_rate\n",
    "        self.autoencoder, self.encoder = self.build_autoencoder()\n",
    "        self.model = self.build_dec_model()\n",
    "\n",
    "    def build_autoencoder(self):\n",
    "        input_layer = Input(shape=(self.input_dim,))\n",
    "        encoder = Dense(64, activation='relu')(input_layer)\n",
    "        encoder = Dropout(self.dropout_rate)(encoder)\n",
    "        encoder = Dense(self.encoding_dim, activation='relu', kernel_initializer='glorot_uniform')(encoder)\n",
    "\n",
    "        decoder = Dense(64, activation='relu', kernel_initializer='glorot_uniform')(encoder)\n",
    "        decoder = Dropout(self.dropout_rate)(decoder)\n",
    "        decoder = Dense(self.input_dim, activation='sigmoid', kernel_initializer='glorot_uniform')(decoder)\n",
    "\n",
    "        autoencoder = Model(inputs=input_layer, outputs=decoder)\n",
    "        autoencoder.compile(optimizer='adam', loss='mse')\n",
    "\n",
    "        encoder_model = Model(inputs=input_layer, outputs=encoder)\n",
    "        return autoencoder, encoder_model\n",
    "\n",
    "    def build_dec_model(self):\n",
    "        clustering_layer = ClusteringLayer(self.n_clusters, name='clustering')(self.encoder.output)\n",
    "        model = Model(inputs=self.encoder.input, outputs=[clustering_layer, self.autoencoder.output])\n",
    "        model.compile(optimizer='adam', loss=['kld', 'mse'])\n",
    "        return model\n",
    "\n",
    "    def pretrain_autoencoder(self, data, epochs=50, batch_size=256):\n",
    "        early_stopping = EarlyStopping(monitor='loss', patience=5, restore_best_weights=True)\n",
    "        with tf.device('/GPU:0' if tf.config.list_physical_devices('GPU') else '/CPU:0'):\n",
    "            self.autoencoder.fit(data, data, epochs=epochs, batch_size=batch_size, shuffle=True, callbacks=[early_stopping])\n",
    "\n",
    "    def initialize_clusters(self, data):\n",
    "        with tf.device('/GPU:0' if tf.config.list_physical_devices('GPU') else '/CPU:0'):\n",
    "            encoded_data = self.encoder.predict(data)\n",
    "            kmeans = KMeans(n_clusters=self.n_clusters, n_init=20)\n",
    "            kmeans.fit(encoded_data)\n",
    "            initial_clusters = kmeans.cluster_centers_\n",
    "            self.model.get_layer(name='clustering').set_weights([initial_clusters])\n",
    "\n",
    "    def target_distribution(self, q):\n",
    "        weight = q ** 2 / q.sum(0)\n",
    "        return (weight.T / weight.sum(1)).T\n",
    "\n",
    "    def train_dec(self, data, maxiter=8000, update_interval=140, tol=0.001):\n",
    "        index = 0\n",
    "        y_pred_last = None\n",
    "        with tf.device('/GPU:0' if tf.config.list_physical_devices('GPU') else '/CPU:0'):\n",
    "            for ite in range(maxiter):\n",
    "                if ite % update_interval == 0:\n",
    "                    q, _ = self.model.predict(data, verbose=0)\n",
    "                    p = self.target_distribution(q)\n",
    "\n",
    "                    y_pred = q.argmax(1)\n",
    "                    if ite > 0 and np.sum(y_pred != y_pred_last) / len(y_pred) < tol:\n",
    "                        print('Reached tolerance threshold. Stopping training.')\n",
    "                        break\n",
    "                    y_pred_last = np.copy(y_pred)\n",
    "\n",
    "                idx = index * update_interval % data.shape[0]\n",
    "                loss = self.model.train_on_batch(x=data[idx:idx + update_interval],\n",
    "                                                 y=[p[idx:idx + update_interval], data[idx:idx + update_interval]])\n",
    "                index += 1\n",
    "                print('Iteration', ite, 'Loss:', loss)\n",
    "\n",
    "    def predict(self, data):\n",
    "        with tf.device('/GPU:0' if tf.config.list_physical_devices('GPU') else '/CPU:0'):\n",
    "            q, _ = self.model.predict(data)\n",
    "            return q.argmax(1)\n",
    "        \n",
    "    def summary(self):\n",
    "        print(\"Auto Encoder Summary:\")\n",
    "        self.autoencoder.summary()\n",
    "        print(\"DEC Model Summary:\")\n",
    "        self.model.summary()"
   ]
  },
  {
   "cell_type": "code",
   "execution_count": 6,
   "metadata": {},
   "outputs": [],
   "source": [
    "# Preprocess the data\n",
    "\n",
    "# Extract features columns excluding 'account_id'\n",
    "features_df = df.drop(columns=['account_id'])\n",
    "\n",
    "# Convert DataFrame to numpy array\n",
    "features = features_df.to_numpy()\n",
    "\n",
    "# Selecting the last 2 Features\n",
    "scores_df = features_df.iloc[:, -2:]\n",
    "\n",
    "# Convert DataFrame to numpy array\n",
    "score_features = scores_df.to_numpy()"
   ]
  },
  {
   "cell_type": "code",
   "execution_count": 7,
   "metadata": {},
   "outputs": [
    {
     "data": {
      "text/plain": [
       "array([[0.66666667, 0.        , 1.        , ..., 0.        , 0.22590312,\n",
       "        0.40428807],\n",
       "       [0.66666667, 0.        , 1.        , ..., 1.        , 0.69219799,\n",
       "        0.        ],\n",
       "       [1.        , 0.        , 1.        , ..., 0.        , 0.02590312,\n",
       "        0.05800816],\n",
       "       ...,\n",
       "       [0.66666667, 0.        , 1.        , ..., 0.        , 0.22590312,\n",
       "        0.24344734],\n",
       "       [0.33333333, 0.        , 1.        , ..., 0.        , 0.07353108,\n",
       "        0.05800816],\n",
       "       [1.        , 0.        , 0.        , ..., 0.        , 0.8763515 ,\n",
       "        0.8619974 ]])"
      ]
     },
     "execution_count": 7,
     "metadata": {},
     "output_type": "execute_result"
    }
   ],
   "source": [
    "features"
   ]
  },
  {
   "cell_type": "code",
   "execution_count": 8,
   "metadata": {},
   "outputs": [
    {
     "data": {
      "text/plain": [
       "(100000, 11)"
      ]
     },
     "execution_count": 8,
     "metadata": {},
     "output_type": "execute_result"
    }
   ],
   "source": [
    "features.shape"
   ]
  },
  {
   "cell_type": "code",
   "execution_count": 9,
   "metadata": {},
   "outputs": [],
   "source": [
    "# Parameters\n",
    "input_dim = features.shape[1]\n",
    "encoding_dim = features.shape[1]\n",
    "n_clusters = 10\n",
    "dropout_rate = 0.2"
   ]
  },
  {
   "cell_type": "code",
   "execution_count": 10,
   "metadata": {},
   "outputs": [
    {
     "name": "stdout",
     "output_type": "stream",
     "text": [
      "Auto Encoder Summary:\n",
      "Model: \"model\"\n",
      "_________________________________________________________________\n",
      " Layer (type)                Output Shape              Param #   \n",
      "=================================================================\n",
      " input_1 (InputLayer)        [(None, 11)]              0         \n",
      "                                                                 \n",
      " dense (Dense)               (None, 64)                768       \n",
      "                                                                 \n",
      " dropout (Dropout)           (None, 64)                0         \n",
      "                                                                 \n",
      " dense_1 (Dense)             (None, 11)                715       \n",
      "                                                                 \n",
      " dense_2 (Dense)             (None, 64)                768       \n",
      "                                                                 \n",
      " dropout_1 (Dropout)         (None, 64)                0         \n",
      "                                                                 \n",
      " dense_3 (Dense)             (None, 11)                715       \n",
      "                                                                 \n",
      "=================================================================\n",
      "Total params: 2,966\n",
      "Trainable params: 2,966\n",
      "Non-trainable params: 0\n",
      "_________________________________________________________________\n",
      "DEC Model Summary:\n",
      "Model: \"model_2\"\n",
      "__________________________________________________________________________________________________\n",
      " Layer (type)                   Output Shape         Param #     Connected to                     \n",
      "==================================================================================================\n",
      " input_1 (InputLayer)           [(None, 11)]         0           []                               \n",
      "                                                                                                  \n",
      " dense (Dense)                  (None, 64)           768         ['input_1[0][0]']                \n",
      "                                                                                                  \n",
      " dropout (Dropout)              (None, 64)           0           ['dense[0][0]']                  \n",
      "                                                                                                  \n",
      " dense_1 (Dense)                (None, 11)           715         ['dropout[0][0]']                \n",
      "                                                                                                  \n",
      " dense_2 (Dense)                (None, 64)           768         ['dense_1[0][0]']                \n",
      "                                                                                                  \n",
      " dropout_1 (Dropout)            (None, 64)           0           ['dense_2[0][0]']                \n",
      "                                                                                                  \n",
      " clustering (ClusteringLayer)   (None, 10)           110         ['dense_1[0][0]']                \n",
      "                                                                                                  \n",
      " dense_3 (Dense)                (None, 11)           715         ['dropout_1[0][0]']              \n",
      "                                                                                                  \n",
      "==================================================================================================\n",
      "Total params: 3,076\n",
      "Trainable params: 3,076\n",
      "Non-trainable params: 0\n",
      "__________________________________________________________________________________________________\n"
     ]
    }
   ],
   "source": [
    "# Create DEC instance\n",
    "dec = DEC(input_dim, encoding_dim, n_clusters, dropout_rate)\n",
    "dec.summary()"
   ]
  },
  {
   "cell_type": "code",
   "execution_count": 11,
   "metadata": {},
   "outputs": [
    {
     "name": "stdout",
     "output_type": "stream",
     "text": [
      "Epoch 1/100\n",
      "391/391 [==============================] - 2s 2ms/step - loss: 0.0596\n",
      "Epoch 2/100\n",
      "391/391 [==============================] - 1s 2ms/step - loss: 0.0104\n",
      "Epoch 3/100\n",
      "391/391 [==============================] - 1s 2ms/step - loss: 0.0074\n",
      "Epoch 4/100\n",
      "391/391 [==============================] - 1s 2ms/step - loss: 0.0060\n",
      "Epoch 5/100\n",
      "391/391 [==============================] - 1s 2ms/step - loss: 0.0049\n",
      "Epoch 6/100\n",
      "391/391 [==============================] - 1s 2ms/step - loss: 0.0043\n",
      "Epoch 7/100\n",
      "391/391 [==============================] - 1s 2ms/step - loss: 0.0038\n",
      "Epoch 8/100\n",
      "391/391 [==============================] - 1s 2ms/step - loss: 0.0034\n",
      "Epoch 9/100\n",
      "391/391 [==============================] - 1s 2ms/step - loss: 0.0032\n",
      "Epoch 10/100\n",
      "391/391 [==============================] - 1s 2ms/step - loss: 0.0030\n",
      "Epoch 11/100\n",
      "391/391 [==============================] - 1s 2ms/step - loss: 0.0028\n",
      "Epoch 12/100\n",
      "391/391 [==============================] - 1s 2ms/step - loss: 0.0026\n",
      "Epoch 13/100\n",
      "391/391 [==============================] - 1s 2ms/step - loss: 0.0025\n",
      "Epoch 14/100\n",
      "391/391 [==============================] - 1s 2ms/step - loss: 0.0024\n",
      "Epoch 15/100\n",
      "391/391 [==============================] - 1s 2ms/step - loss: 0.0022\n",
      "Epoch 16/100\n",
      "391/391 [==============================] - 1s 2ms/step - loss: 0.0021\n",
      "Epoch 17/100\n",
      "391/391 [==============================] - 1s 2ms/step - loss: 0.0021\n",
      "Epoch 18/100\n",
      "391/391 [==============================] - 1s 2ms/step - loss: 0.0020\n",
      "Epoch 19/100\n",
      "391/391 [==============================] - 1s 2ms/step - loss: 0.0019\n",
      "Epoch 20/100\n",
      "391/391 [==============================] - 1s 2ms/step - loss: 0.0019\n",
      "Epoch 21/100\n",
      "391/391 [==============================] - 1s 2ms/step - loss: 0.0018\n",
      "Epoch 22/100\n",
      "391/391 [==============================] - 1s 2ms/step - loss: 0.0018\n",
      "Epoch 23/100\n",
      "391/391 [==============================] - 1s 2ms/step - loss: 0.0017\n",
      "Epoch 24/100\n",
      "391/391 [==============================] - 1s 2ms/step - loss: 0.0017\n",
      "Epoch 25/100\n",
      "391/391 [==============================] - 1s 2ms/step - loss: 0.0016\n",
      "Epoch 26/100\n",
      "391/391 [==============================] - 1s 2ms/step - loss: 0.0016\n",
      "Epoch 27/100\n",
      "391/391 [==============================] - 1s 2ms/step - loss: 0.0015\n",
      "Epoch 28/100\n",
      "391/391 [==============================] - 1s 2ms/step - loss: 0.0015\n",
      "Epoch 29/100\n",
      "391/391 [==============================] - 1s 2ms/step - loss: 0.0015\n",
      "Epoch 30/100\n",
      "391/391 [==============================] - 1s 2ms/step - loss: 0.0014\n",
      "Epoch 31/100\n",
      "391/391 [==============================] - 1s 2ms/step - loss: 0.0014\n",
      "Epoch 32/100\n",
      "391/391 [==============================] - 1s 2ms/step - loss: 0.0014\n",
      "Epoch 33/100\n",
      "391/391 [==============================] - 1s 2ms/step - loss: 0.0013\n",
      "Epoch 34/100\n",
      "391/391 [==============================] - 1s 2ms/step - loss: 0.0013\n",
      "Epoch 35/100\n",
      "391/391 [==============================] - 1s 2ms/step - loss: 0.0013\n",
      "Epoch 36/100\n",
      "391/391 [==============================] - 1s 2ms/step - loss: 0.0013\n",
      "Epoch 37/100\n",
      "391/391 [==============================] - 1s 2ms/step - loss: 0.0013\n",
      "Epoch 38/100\n",
      "391/391 [==============================] - 1s 2ms/step - loss: 0.0012\n",
      "Epoch 39/100\n",
      "391/391 [==============================] - 1s 2ms/step - loss: 0.0012\n",
      "Epoch 40/100\n",
      "391/391 [==============================] - 1s 2ms/step - loss: 0.0012\n",
      "Epoch 41/100\n",
      "391/391 [==============================] - 1s 2ms/step - loss: 0.0012\n",
      "Epoch 42/100\n",
      "391/391 [==============================] - 1s 2ms/step - loss: 0.0012\n",
      "Epoch 43/100\n",
      "391/391 [==============================] - 1s 2ms/step - loss: 0.0012\n",
      "Epoch 44/100\n",
      "391/391 [==============================] - 1s 2ms/step - loss: 0.0012\n",
      "Epoch 45/100\n",
      "391/391 [==============================] - 1s 2ms/step - loss: 0.0012\n",
      "Epoch 46/100\n",
      "391/391 [==============================] - 1s 2ms/step - loss: 0.0012\n",
      "Epoch 47/100\n",
      "391/391 [==============================] - 1s 2ms/step - loss: 0.0012\n",
      "Epoch 48/100\n",
      "391/391 [==============================] - 1s 2ms/step - loss: 0.0011\n",
      "Epoch 49/100\n",
      "391/391 [==============================] - 1s 2ms/step - loss: 0.0011\n",
      "Epoch 50/100\n",
      "391/391 [==============================] - 1s 2ms/step - loss: 0.0011\n",
      "Epoch 51/100\n",
      "391/391 [==============================] - 1s 2ms/step - loss: 0.0011\n",
      "Epoch 52/100\n",
      "391/391 [==============================] - 1s 2ms/step - loss: 0.0011\n",
      "Epoch 53/100\n",
      "391/391 [==============================] - 1s 2ms/step - loss: 0.0011\n",
      "Epoch 54/100\n",
      "391/391 [==============================] - 1s 2ms/step - loss: 0.0011\n",
      "Epoch 55/100\n",
      "391/391 [==============================] - 1s 2ms/step - loss: 0.0010\n",
      "Epoch 56/100\n",
      "391/391 [==============================] - 1s 2ms/step - loss: 0.0011\n",
      "Epoch 57/100\n",
      "391/391 [==============================] - 1s 2ms/step - loss: 0.0010\n",
      "Epoch 58/100\n",
      "391/391 [==============================] - 1s 2ms/step - loss: 0.0010\n",
      "Epoch 59/100\n",
      "391/391 [==============================] - 1s 2ms/step - loss: 0.0010\n",
      "Epoch 60/100\n",
      "391/391 [==============================] - 1s 2ms/step - loss: 0.0010\n",
      "Epoch 61/100\n",
      "391/391 [==============================] - 1s 2ms/step - loss: 0.0010\n",
      "Epoch 62/100\n",
      "391/391 [==============================] - 1s 2ms/step - loss: 0.0010\n",
      "Epoch 63/100\n",
      "391/391 [==============================] - 1s 2ms/step - loss: 0.0010\n",
      "Epoch 64/100\n",
      "391/391 [==============================] - 1s 2ms/step - loss: 0.0010\n",
      "Epoch 65/100\n",
      "391/391 [==============================] - 1s 2ms/step - loss: 0.0010\n",
      "Epoch 66/100\n",
      "391/391 [==============================] - 1s 2ms/step - loss: 9.9502e-04\n",
      "Epoch 67/100\n",
      "391/391 [==============================] - 1s 2ms/step - loss: 0.0010\n",
      "Epoch 68/100\n",
      "391/391 [==============================] - 1s 2ms/step - loss: 0.0010\n",
      "Epoch 69/100\n",
      "391/391 [==============================] - 1s 2ms/step - loss: 9.7386e-04\n",
      "Epoch 70/100\n",
      "391/391 [==============================] - 1s 2ms/step - loss: 9.9929e-04\n",
      "Epoch 71/100\n",
      "391/391 [==============================] - 1s 2ms/step - loss: 9.8350e-04\n",
      "Epoch 72/100\n",
      "391/391 [==============================] - 1s 2ms/step - loss: 9.7804e-04\n",
      "Epoch 73/100\n",
      "391/391 [==============================] - 1s 2ms/step - loss: 9.6422e-04\n",
      "Epoch 74/100\n",
      "391/391 [==============================] - 1s 2ms/step - loss: 9.6945e-04\n",
      "Epoch 75/100\n",
      "391/391 [==============================] - 1s 2ms/step - loss: 9.7056e-04\n",
      "Epoch 76/100\n",
      "391/391 [==============================] - 1s 2ms/step - loss: 9.4540e-04\n",
      "Epoch 77/100\n",
      "391/391 [==============================] - 1s 2ms/step - loss: 9.5730e-04\n",
      "Epoch 78/100\n",
      "391/391 [==============================] - 1s 2ms/step - loss: 9.4574e-04\n",
      "Epoch 79/100\n",
      "391/391 [==============================] - 1s 2ms/step - loss: 9.5676e-04\n",
      "Epoch 80/100\n",
      "391/391 [==============================] - 1s 2ms/step - loss: 9.4643e-04\n",
      "Epoch 81/100\n",
      "391/391 [==============================] - 1s 2ms/step - loss: 9.5106e-04\n"
     ]
    }
   ],
   "source": [
    "# Pretrain autoencoder\n",
    "dec.pretrain_autoencoder(features, epochs=100, batch_size=256)"
   ]
  },
  {
   "cell_type": "code",
   "execution_count": 12,
   "metadata": {},
   "outputs": [
    {
     "name": "stdout",
     "output_type": "stream",
     "text": [
      "3125/3125 [==============================] - 2s 538us/step\n"
     ]
    }
   ],
   "source": [
    "# Initialize clusters\n",
    "dec.initialize_clusters(features)"
   ]
  },
  {
   "cell_type": "code",
   "execution_count": 13,
   "metadata": {},
   "outputs": [
    {
     "name": "stdout",
     "output_type": "stream",
     "text": [
      "Iteration 0 Loss: [0.390874981880188, 0.3898904323577881, 0.0009845593012869358]\n",
      "Iteration 1 Loss: [0.37967437505722046, 0.378223180770874, 0.001451198011636734]\n",
      "Iteration 2 Loss: [0.40482190251350403, 0.4038662910461426, 0.0009556052973493934]\n",
      "Iteration 3 Loss: [0.40644463896751404, 0.4054723381996155, 0.0009723016410134733]\n",
      "Iteration 4 Loss: [0.4303351044654846, 0.4295830726623535, 0.0007520456565544009]\n",
      "Iteration 5 Loss: [0.3819972276687622, 0.3810045123100281, 0.0009927073260769248]\n",
      "Iteration 6 Loss: [0.40314653515815735, 0.4023265838623047, 0.0008199370931833982]\n",
      "Iteration 7 Loss: [0.4086456894874573, 0.4076339304447174, 0.0010117480996996164]\n",
      "Iteration 8 Loss: [0.3559343218803406, 0.3549858033657074, 0.0009485132177360356]\n",
      "Iteration 9 Loss: [0.3740311861038208, 0.3729012906551361, 0.0011299035977572203]\n",
      "Iteration 10 Loss: [0.39749759435653687, 0.3955385684967041, 0.0019590132869780064]\n",
      "Iteration 11 Loss: [0.3627782166004181, 0.36181002855300903, 0.0009681952651590109]\n",
      "Iteration 12 Loss: [0.34366461634635925, 0.3421995937824249, 0.0014650218654423952]\n",
      "Iteration 13 Loss: [0.4095590114593506, 0.4082077443599701, 0.001351273967884481]\n",
      "Iteration 14 Loss: [0.3890056908130646, 0.38760697841644287, 0.0013987256679683924]\n",
      "Iteration 15 Loss: [0.36440324783325195, 0.3627789616584778, 0.001624279422685504]\n",
      "Iteration 16 Loss: [0.34310123324394226, 0.3412353992462158, 0.0018658229382708669]\n",
      "Iteration 17 Loss: [0.34358662366867065, 0.34236064553260803, 0.0012259784853085876]\n",
      "Iteration 18 Loss: [0.356109619140625, 0.35450825095176697, 0.001601380412466824]\n",
      "Iteration 19 Loss: [0.3131992518901825, 0.3108588755130768, 0.002340365666896105]\n",
      "Iteration 20 Loss: [0.3601992130279541, 0.35816097259521484, 0.0020382367074489594]\n",
      "Iteration 21 Loss: [0.36649495363235474, 0.3645266890525818, 0.00196827226318419]\n",
      "Iteration 22 Loss: [0.3435882329940796, 0.34189391136169434, 0.001694330945611]\n",
      "Iteration 23 Loss: [0.3179028332233429, 0.3154350519180298, 0.0024677684996277094]\n",
      "Iteration 24 Loss: [0.3045039474964142, 0.3022966980934143, 0.002207245212048292]\n",
      "Iteration 25 Loss: [0.3124583065509796, 0.310218870639801, 0.0022394403349608183]\n",
      "Iteration 26 Loss: [0.33286532759666443, 0.330415815114975, 0.0024495150428265333]\n",
      "Iteration 27 Loss: [0.33974555134773254, 0.3379450738430023, 0.0018004754092544317]\n",
      "Iteration 28 Loss: [0.3020820617675781, 0.2990873456001282, 0.0029947205912321806]\n",
      "Iteration 29 Loss: [0.3476671278476715, 0.3457326591014862, 0.001934458501636982]\n",
      "Iteration 30 Loss: [0.3008878827095032, 0.29856786131858826, 0.0023200344294309616]\n",
      "Iteration 31 Loss: [0.30650368332862854, 0.3047966957092285, 0.0017069861060008407]\n",
      "Iteration 32 Loss: [0.2978905737400055, 0.29558709263801575, 0.0023034848272800446]\n",
      "Iteration 33 Loss: [0.29178670048713684, 0.289427787065506, 0.002358918311074376]\n",
      "Iteration 34 Loss: [0.29596054553985596, 0.2935437262058258, 0.0024168184027075768]\n",
      "Iteration 35 Loss: [0.2940889596939087, 0.291434645652771, 0.002654304960742593]\n",
      "Iteration 36 Loss: [0.3211119472980499, 0.31869903206825256, 0.002412921516224742]\n",
      "Iteration 37 Loss: [0.3342786431312561, 0.33126023411750793, 0.0030183952767401934]\n",
      "Iteration 38 Loss: [0.29184490442276, 0.2890462577342987, 0.0027986401692032814]\n",
      "Iteration 39 Loss: [0.25371894240379333, 0.25146791338920593, 0.0022510411217808723]\n",
      "Iteration 40 Loss: [0.28895071148872375, 0.2859104573726654, 0.0030402527190744877]\n",
      "Iteration 41 Loss: [0.3239445686340332, 0.3213762044906616, 0.002568355295807123]\n",
      "Iteration 42 Loss: [0.25882408022880554, 0.2567291557788849, 0.002094923984259367]\n",
      "Iteration 43 Loss: [0.3095821142196655, 0.3064675033092499, 0.003114599734544754]\n",
      "Iteration 44 Loss: [0.28924790024757385, 0.28626543283462524, 0.0029824760276824236]\n",
      "Iteration 45 Loss: [0.27285921573638916, 0.270041823387146, 0.002817378379404545]\n",
      "Iteration 46 Loss: [0.3033495247364044, 0.300856351852417, 0.0024931796360760927]\n",
      "Iteration 47 Loss: [0.3005583584308624, 0.29630446434020996, 0.0042539057321846485]\n",
      "Iteration 48 Loss: [0.28410571813583374, 0.28152862191200256, 0.0025771046057343483]\n",
      "Iteration 49 Loss: [0.30003121495246887, 0.2965891659259796, 0.0034420350566506386]\n",
      "Iteration 50 Loss: [0.27825695276260376, 0.2752971649169922, 0.002959788776934147]\n",
      "Iteration 51 Loss: [0.30167946219444275, 0.29887354373931885, 0.00280591007322073]\n",
      "Iteration 52 Loss: [0.30468931794166565, 0.3016529381275177, 0.0030363791156560183]\n",
      "Iteration 53 Loss: [0.25810322165489197, 0.2558513581752777, 0.002251866040751338]\n",
      "Iteration 54 Loss: [0.287811815738678, 0.284272164106369, 0.0035396418534219265]\n",
      "Iteration 55 Loss: [0.2807343006134033, 0.2769516110420227, 0.003782701911404729]\n",
      "Iteration 56 Loss: [0.2587316334247589, 0.2552746832370758, 0.003456957172602415]\n",
      "Iteration 57 Loss: [0.2518199682235718, 0.2487211525440216, 0.0030988240614533424]\n",
      "Iteration 58 Loss: [0.2918940484523773, 0.286811500787735, 0.005082540679723024]\n",
      "Iteration 59 Loss: [0.29469987750053406, 0.29049476981163025, 0.004205114673823118]\n",
      "Iteration 60 Loss: [0.26489707827568054, 0.2613149583339691, 0.003582120407372713]\n",
      "Iteration 61 Loss: [0.30956292152404785, 0.3047506809234619, 0.004812237806618214]\n",
      "Iteration 62 Loss: [0.3046548366546631, 0.29974564909935, 0.004909174051135778]\n",
      "Iteration 63 Loss: [0.32392701506614685, 0.3199785351753235, 0.0039484878070652485]\n",
      "Iteration 64 Loss: [0.2949864864349365, 0.2915616035461426, 0.0034248866140842438]\n",
      "Iteration 65 Loss: [0.252151757478714, 0.24892158806324005, 0.0032301798928529024]\n",
      "Iteration 66 Loss: [0.25477728247642517, 0.2506503760814667, 0.004126918036490679]\n",
      "Iteration 67 Loss: [0.26909223198890686, 0.2658740282058716, 0.003218192607164383]\n",
      "Iteration 68 Loss: [0.24462200701236725, 0.24058417975902557, 0.0040378263220191]\n",
      "Iteration 69 Loss: [0.24588772654533386, 0.24291501939296722, 0.002972702495753765]\n",
      "Iteration 70 Loss: [0.27272698283195496, 0.2679165005683899, 0.004810479935258627]\n",
      "Iteration 71 Loss: [0.28717586398124695, 0.2837763726711273, 0.003399489214643836]\n",
      "Iteration 72 Loss: [0.2575126588344574, 0.25375819206237793, 0.003754467936232686]\n",
      "Iteration 73 Loss: [0.25495973229408264, 0.25127744674682617, 0.0036822918336838484]\n",
      "Iteration 74 Loss: [0.27621525526046753, 0.2720211148262024, 0.004194143693894148]\n",
      "Iteration 75 Loss: [0.23877926170825958, 0.23533333837985992, 0.0034459258895367384]\n",
      "Iteration 76 Loss: [0.28663045167922974, 0.2829100489616394, 0.003720414126291871]\n",
      "Iteration 77 Loss: [0.2607603371143341, 0.2572867274284363, 0.0034736208617687225]\n",
      "Iteration 78 Loss: [0.24552173912525177, 0.2416299283504486, 0.003891807049512863]\n",
      "Iteration 79 Loss: [0.2737964391708374, 0.2685835361480713, 0.0052129109390079975]\n",
      "Iteration 80 Loss: [0.24507500231266022, 0.24172858893871307, 0.0033464215230196714]\n",
      "Iteration 81 Loss: [0.2641232907772064, 0.2607041895389557, 0.003419104963541031]\n",
      "Iteration 82 Loss: [0.25440043210983276, 0.24862496554851532, 0.005775480065494776]\n",
      "Iteration 83 Loss: [0.2548621892929077, 0.2512974739074707, 0.0035647174809128046]\n",
      "Iteration 84 Loss: [0.2400374859571457, 0.2363264411687851, 0.0037110329139977694]\n",
      "Iteration 85 Loss: [0.2518771290779114, 0.2483024001121521, 0.003574737813323736]\n",
      "Iteration 86 Loss: [0.26505306363105774, 0.26064953207969666, 0.004403530620038509]\n",
      "Iteration 87 Loss: [0.24082429707050323, 0.23640839755535126, 0.004415901843458414]\n",
      "Iteration 88 Loss: [0.3023969233036041, 0.2979279160499573, 0.0044690207578241825]\n",
      "Iteration 89 Loss: [0.2408760040998459, 0.23649027943611145, 0.004385737236589193]\n",
      "Iteration 90 Loss: [0.26214438676834106, 0.25767603516578674, 0.004468363244086504]\n",
      "Iteration 91 Loss: [0.24881978332996368, 0.24415209889411926, 0.004667678382247686]\n",
      "Iteration 92 Loss: [0.25309911370277405, 0.24914030730724335, 0.003958807792514563]\n",
      "Iteration 93 Loss: [0.2605378031730652, 0.25675681233406067, 0.003780989209190011]\n",
      "Iteration 94 Loss: [0.28633353114128113, 0.2835887372493744, 0.0027447796892374754]\n",
      "Iteration 95 Loss: [0.2672019898891449, 0.2628556489944458, 0.00434632645919919]\n",
      "Iteration 96 Loss: [0.2504059374332428, 0.24567995965480804, 0.004725973587483168]\n",
      "Iteration 97 Loss: [0.26782381534576416, 0.2628132998943329, 0.005010523833334446]\n",
      "Iteration 98 Loss: [0.22957591712474823, 0.2255685031414032, 0.004007426556199789]\n",
      "Iteration 99 Loss: [0.23287729918956757, 0.22884805500507355, 0.004029249306768179]\n",
      "Iteration 100 Loss: [0.25303465127944946, 0.2482730895280838, 0.004761555697768927]\n",
      "Iteration 101 Loss: [0.2335815131664276, 0.2289176732301712, 0.004663840401917696]\n",
      "Iteration 102 Loss: [0.2763820290565491, 0.27122172713279724, 0.0051603056490421295]\n",
      "Iteration 103 Loss: [0.24455507099628448, 0.2413530945777893, 0.003201971761882305]\n",
      "Iteration 104 Loss: [0.22992627322673798, 0.22405824065208435, 0.005868026055395603]\n",
      "Iteration 105 Loss: [0.2452559918165207, 0.24047601222991943, 0.004779976326972246]\n",
      "Iteration 106 Loss: [0.2406175136566162, 0.23631355166435242, 0.004303967580199242]\n",
      "Iteration 107 Loss: [0.2562140226364136, 0.251884788274765, 0.004329231102019548]\n",
      "Iteration 108 Loss: [0.21300604939460754, 0.2091917246580124, 0.003814327297732234]\n",
      "Iteration 109 Loss: [0.25020769238471985, 0.24679255485534668, 0.003415128216147423]\n",
      "Iteration 110 Loss: [0.23184609413146973, 0.22823116183280945, 0.0036149416118860245]\n",
      "Iteration 111 Loss: [0.21420496702194214, 0.20971232652664185, 0.004492643289268017]\n",
      "Iteration 112 Loss: [0.2561842203140259, 0.2519775927066803, 0.004206617828458548]\n",
      "Iteration 113 Loss: [0.24276134371757507, 0.2383207529783249, 0.004440590273588896]\n",
      "Iteration 114 Loss: [0.22234408557415009, 0.21881182491779327, 0.0035322592593729496]\n",
      "Iteration 115 Loss: [0.2826457917690277, 0.27776968479156494, 0.004876101389527321]\n",
      "Iteration 116 Loss: [0.24861006438732147, 0.24473775923252106, 0.00387229910120368]\n",
      "Iteration 117 Loss: [0.20893260836601257, 0.20596645772457123, 0.0029661431908607483]\n",
      "Iteration 118 Loss: [0.2550278604030609, 0.25099629163742065, 0.004031573422253132]\n",
      "Iteration 119 Loss: [0.2563428282737732, 0.25171804428100586, 0.004624779336154461]\n",
      "Iteration 120 Loss: [0.25466158986091614, 0.25072765350341797, 0.003933925647288561]\n",
      "Iteration 121 Loss: [0.27039483189582825, 0.26636841893196106, 0.004026417154818773]\n",
      "Iteration 122 Loss: [0.2283892035484314, 0.22447210550308228, 0.003917090594768524]\n",
      "Iteration 123 Loss: [0.24326442182064056, 0.23842070996761322, 0.004843694623559713]\n",
      "Iteration 124 Loss: [0.25750836730003357, 0.25290822982788086, 0.004600150045007467]\n",
      "Iteration 125 Loss: [0.27808818221092224, 0.2735024094581604, 0.004585774149745703]\n",
      "Iteration 126 Loss: [0.22486591339111328, 0.22086727619171143, 0.003998634871095419]\n",
      "Iteration 127 Loss: [0.2392691820859909, 0.23567159473896027, 0.0035975924693048]\n",
      "Iteration 128 Loss: [0.2554987668991089, 0.24945567548274994, 0.006043103989213705]\n",
      "Iteration 129 Loss: [0.21504636108875275, 0.21132265031337738, 0.0037237070500850677]\n",
      "Iteration 130 Loss: [0.24740992486476898, 0.2430536299943924, 0.0043562911450862885]\n",
      "Iteration 131 Loss: [0.23207677900791168, 0.2284228503704071, 0.0036539286375045776]\n",
      "Iteration 132 Loss: [0.22201287746429443, 0.217421755194664, 0.004591124597936869]\n",
      "Iteration 133 Loss: [0.26770463585853577, 0.26438039541244507, 0.003324244637042284]\n",
      "Iteration 134 Loss: [0.23345530033111572, 0.22850841283798218, 0.004946892615407705]\n",
      "Iteration 135 Loss: [0.24622268974781036, 0.24151381850242615, 0.004708877764642239]\n",
      "Iteration 136 Loss: [0.26247912645339966, 0.2574867010116577, 0.004992411471903324]\n",
      "Iteration 137 Loss: [0.2705197334289551, 0.26663878560066223, 0.0038809473626315594]\n",
      "Iteration 138 Loss: [0.26001110672950745, 0.25460609793663025, 0.005405017174780369]\n",
      "Iteration 139 Loss: [0.27162593603134155, 0.2672138810157776, 0.004412059206515551]\n",
      "Reached tolerance threshold. Stopping training.\n"
     ]
    }
   ],
   "source": [
    "# Train DEC model\n",
    "dec.train_dec(features, maxiter=8000, update_interval=140, tol=0.001)"
   ]
  },
  {
   "cell_type": "code",
   "execution_count": 14,
   "metadata": {},
   "outputs": [
    {
     "name": "stdout",
     "output_type": "stream",
     "text": [
      "3125/3125 [==============================] - 3s 910us/step\n",
      "Predicted clusters: [4 2 4 ... 4 2 9]\n"
     ]
    }
   ],
   "source": [
    "# Predict clusters\n",
    "clusters = dec.predict(features)\n",
    "print(\"Predicted clusters:\", clusters)"
   ]
  },
  {
   "cell_type": "code",
   "execution_count": 15,
   "metadata": {},
   "outputs": [
    {
     "name": "stdout",
     "output_type": "stream",
     "text": [
      "3125/3125 [==============================] - 2s 582us/step\n"
     ]
    }
   ],
   "source": [
    "embeddings = dec.encoder.predict(features)"
   ]
  },
  {
   "cell_type": "markdown",
   "metadata": {},
   "source": [
    "## PCA"
   ]
  },
  {
   "cell_type": "code",
   "execution_count": 16,
   "metadata": {},
   "outputs": [
    {
     "data": {
      "text/html": [
       "<style>#sk-container-id-1 {color: black;background-color: white;}#sk-container-id-1 pre{padding: 0;}#sk-container-id-1 div.sk-toggleable {background-color: white;}#sk-container-id-1 label.sk-toggleable__label {cursor: pointer;display: block;width: 100%;margin-bottom: 0;padding: 0.3em;box-sizing: border-box;text-align: center;}#sk-container-id-1 label.sk-toggleable__label-arrow:before {content: \"▸\";float: left;margin-right: 0.25em;color: #696969;}#sk-container-id-1 label.sk-toggleable__label-arrow:hover:before {color: black;}#sk-container-id-1 div.sk-estimator:hover label.sk-toggleable__label-arrow:before {color: black;}#sk-container-id-1 div.sk-toggleable__content {max-height: 0;max-width: 0;overflow: hidden;text-align: left;background-color: #f0f8ff;}#sk-container-id-1 div.sk-toggleable__content pre {margin: 0.2em;color: black;border-radius: 0.25em;background-color: #f0f8ff;}#sk-container-id-1 input.sk-toggleable__control:checked~div.sk-toggleable__content {max-height: 200px;max-width: 100%;overflow: auto;}#sk-container-id-1 input.sk-toggleable__control:checked~label.sk-toggleable__label-arrow:before {content: \"▾\";}#sk-container-id-1 div.sk-estimator input.sk-toggleable__control:checked~label.sk-toggleable__label {background-color: #d4ebff;}#sk-container-id-1 div.sk-label input.sk-toggleable__control:checked~label.sk-toggleable__label {background-color: #d4ebff;}#sk-container-id-1 input.sk-hidden--visually {border: 0;clip: rect(1px 1px 1px 1px);clip: rect(1px, 1px, 1px, 1px);height: 1px;margin: -1px;overflow: hidden;padding: 0;position: absolute;width: 1px;}#sk-container-id-1 div.sk-estimator {font-family: monospace;background-color: #f0f8ff;border: 1px dotted black;border-radius: 0.25em;box-sizing: border-box;margin-bottom: 0.5em;}#sk-container-id-1 div.sk-estimator:hover {background-color: #d4ebff;}#sk-container-id-1 div.sk-parallel-item::after {content: \"\";width: 100%;border-bottom: 1px solid gray;flex-grow: 1;}#sk-container-id-1 div.sk-label:hover label.sk-toggleable__label {background-color: #d4ebff;}#sk-container-id-1 div.sk-serial::before {content: \"\";position: absolute;border-left: 1px solid gray;box-sizing: border-box;top: 0;bottom: 0;left: 50%;z-index: 0;}#sk-container-id-1 div.sk-serial {display: flex;flex-direction: column;align-items: center;background-color: white;padding-right: 0.2em;padding-left: 0.2em;position: relative;}#sk-container-id-1 div.sk-item {position: relative;z-index: 1;}#sk-container-id-1 div.sk-parallel {display: flex;align-items: stretch;justify-content: center;background-color: white;position: relative;}#sk-container-id-1 div.sk-item::before, #sk-container-id-1 div.sk-parallel-item::before {content: \"\";position: absolute;border-left: 1px solid gray;box-sizing: border-box;top: 0;bottom: 0;left: 50%;z-index: -1;}#sk-container-id-1 div.sk-parallel-item {display: flex;flex-direction: column;z-index: 1;position: relative;background-color: white;}#sk-container-id-1 div.sk-parallel-item:first-child::after {align-self: flex-end;width: 50%;}#sk-container-id-1 div.sk-parallel-item:last-child::after {align-self: flex-start;width: 50%;}#sk-container-id-1 div.sk-parallel-item:only-child::after {width: 0;}#sk-container-id-1 div.sk-dashed-wrapped {border: 1px dashed gray;margin: 0 0.4em 0.5em 0.4em;box-sizing: border-box;padding-bottom: 0.4em;background-color: white;}#sk-container-id-1 div.sk-label label {font-family: monospace;font-weight: bold;display: inline-block;line-height: 1.2em;}#sk-container-id-1 div.sk-label-container {text-align: center;}#sk-container-id-1 div.sk-container {/* jupyter's `normalize.less` sets `[hidden] { display: none; }` but bootstrap.min.css set `[hidden] { display: none !important; }` so we also need the `!important` here to be able to override the default hidden behavior on the sphinx rendered scikit-learn.org. See: https://github.com/scikit-learn/scikit-learn/issues/21755 */display: inline-block !important;position: relative;}#sk-container-id-1 div.sk-text-repr-fallback {display: none;}</style><div id=\"sk-container-id-1\" class=\"sk-top-container\"><div class=\"sk-text-repr-fallback\"><pre>PCA()</pre><b>In a Jupyter environment, please rerun this cell to show the HTML representation or trust the notebook. <br />On GitHub, the HTML representation is unable to render, please try loading this page with nbviewer.org.</b></div><div class=\"sk-container\" hidden><div class=\"sk-item\"><div class=\"sk-estimator sk-toggleable\"><input class=\"sk-toggleable__control sk-hidden--visually\" id=\"sk-estimator-id-1\" type=\"checkbox\" checked><label for=\"sk-estimator-id-1\" class=\"sk-toggleable__label sk-toggleable__label-arrow\">PCA</label><div class=\"sk-toggleable__content\"><pre>PCA()</pre></div></div></div></div></div>"
      ],
      "text/plain": [
       "PCA()"
      ]
     },
     "execution_count": 16,
     "metadata": {},
     "output_type": "execute_result"
    }
   ],
   "source": [
    "pca = PCA()\n",
    "pca.fit(embeddings)"
   ]
  },
  {
   "cell_type": "code",
   "execution_count": 17,
   "metadata": {},
   "outputs": [
    {
     "name": "stdout",
     "output_type": "stream",
     "text": [
      "[4.17426249e-01 1.93593849e-01 1.77033964e-01 1.28682515e-01\n",
      " 3.99798026e-02 2.16206354e-02 1.29305964e-02 5.85537036e-03\n",
      " 1.63517290e-03 1.18521105e-03 5.66344677e-05]\n"
     ]
    }
   ],
   "source": [
    "print(pca.explained_variance_ratio_)"
   ]
  },
  {
   "cell_type": "code",
   "execution_count": 18,
   "metadata": {},
   "outputs": [
    {
     "name": "stdout",
     "output_type": "stream",
     "text": [
      "Number of components explaining at least 80% variance: 4\n"
     ]
    },
    {
     "data": {
      "image/png": "[encoded data removed]",
      "text/plain": [
       "<Figure size 1000x800 with 1 Axes>"
      ]
     },
     "metadata": {},
     "output_type": "display_data"
    }
   ],
   "source": [
    "cumulative_explained_variance = np.cumsum(pca.explained_variance_ratio_)\n",
    "\n",
    "plt.figure(figsize= (10, 8))\n",
    "plt.plot(range(1,12), cumulative_explained_variance, marker = 'o', linestyle='--')\n",
    "plt.title('Explained Variance by Components')\n",
    "plt.xlabel('NUmber of Components')\n",
    "plt.ylabel('Cumulative Explained Variance')\n",
    "\n",
    "# Find the number of components that explain at least 80% of the variance\n",
    "n_components_80 = np.argmax(cumulative_explained_variance >= 0.80) + 1\n",
    "print(f\"Number of components explaining at least 80% variance: {n_components_80}\")"
   ]
  },
  {
   "cell_type": "code",
   "execution_count": 19,
   "metadata": {},
   "outputs": [],
   "source": [
    "pca = PCA(n_components=4)\n",
    "features_pca = pca.fit_transform(embeddings)"
   ]
  },
  {
   "cell_type": "markdown",
   "metadata": {},
   "source": [
    "## Determine the number of clusters(k)"
   ]
  },
  {
   "cell_type": "code",
   "execution_count": 20,
   "metadata": {},
   "outputs": [
    {
     "name": "stdout",
     "output_type": "stream",
     "text": [
      "Now on k 1\n",
      "Now on k 2\n",
      "Now on k 3\n",
      "Now on k 4\n",
      "Now on k 5\n",
      "Now on k 6\n",
      "Now on k 7\n",
      "Now on k 8\n",
      "Now on k 9\n",
      "Now on k 10\n",
      "Now on k 11\n",
      "Now on k 12\n",
      "Now on k 13\n",
      "Now on k 14\n",
      "Now on k 15\n",
      "Now on k 16\n",
      "Now on k 17\n",
      "Now on k 18\n",
      "Now on k 19\n"
     ]
    }
   ],
   "source": [
    "# Define a range of k values to test\n",
    "k_range = range(1, 20)\n",
    "\n",
    "wcss = []\n",
    "for k in k_range:\n",
    "    print('Now on k {}'.format(k))\n",
    "    kmeans = KMeans(n_clusters=k, random_state=0).fit(features_pca)\n",
    "    wcss.append(kmeans.inertia_)"
   ]
  },
  {
   "cell_type": "code",
   "execution_count": 21,
   "metadata": {},
   "outputs": [
    {
     "data": {
      "image/png": "[encoded data removed]",
      "text/plain": [
       "<Figure size 1000x800 with 1 Axes>"
      ]
     },
     "metadata": {},
     "output_type": "display_data"
    }
   ],
   "source": [
    "# Plotting WCSS vs k to identify the elbow point\n",
    "plt.figure(figsize=(10, 8))\n",
    "plt.plot(k_range, wcss, 'o-', markerfacecolor='lightblue', markeredgewidth=2, markersize=8)\n",
    "plt.xlabel('Number of clusters (k)')\n",
    "plt.ylabel('WCSS (Within Cluster Sum of Squares)')\n",
    "plt.title('Elbow Method for KMeans Clustering')\n",
    "plt.show()"
   ]
  },
  {
   "cell_type": "markdown",
   "metadata": {},
   "source": [
    "## Clustering"
   ]
  },
  {
   "cell_type": "code",
   "execution_count": 22,
   "metadata": {},
   "outputs": [
    {
     "data": {
      "text/html": [
       "<div>\n",
       "<style scoped>\n",
       "    .dataframe tbody tr th:only-of-type {\n",
       "        vertical-align: middle;\n",
       "    }\n",
       "\n",
       "    .dataframe tbody tr th {\n",
       "        vertical-align: top;\n",
       "    }\n",
       "\n",
       "    .dataframe thead th {\n",
       "        text-align: right;\n",
       "    }\n",
       "</style>\n",
       "<table border=\"1\" class=\"dataframe\">\n",
       "  <thead>\n",
       "    <tr style=\"text-align: right;\">\n",
       "      <th></th>\n",
       "      <th>yeojohnson_revenue_in_eur_bin</th>\n",
       "      <th>is_EMEA</th>\n",
       "      <th>is_Webshop</th>\n",
       "      <th>is_industry_FinanceInsuranceRealEstate</th>\n",
       "      <th>is_industry_Manufacturing</th>\n",
       "      <th>is_industry_Other</th>\n",
       "      <th>is_industry_RetailTrade</th>\n",
       "      <th>is_industry_Services</th>\n",
       "      <th>is_industry_WholesaleTrade</th>\n",
       "      <th>license_value_score</th>\n",
       "      <th>customer_value_score</th>\n",
       "      <th>Component 1</th>\n",
       "      <th>Component 2</th>\n",
       "      <th>Component 3</th>\n",
       "      <th>Component 4</th>\n",
       "      <th>clusters</th>\n",
       "    </tr>\n",
       "    <tr>\n",
       "      <th>cluster_kmeans</th>\n",
       "      <th></th>\n",
       "      <th></th>\n",
       "      <th></th>\n",
       "      <th></th>\n",
       "      <th></th>\n",
       "      <th></th>\n",
       "      <th></th>\n",
       "      <th></th>\n",
       "      <th></th>\n",
       "      <th></th>\n",
       "      <th></th>\n",
       "      <th></th>\n",
       "      <th></th>\n",
       "      <th></th>\n",
       "      <th></th>\n",
       "      <th></th>\n",
       "    </tr>\n",
       "  </thead>\n",
       "  <tbody>\n",
       "    <tr>\n",
       "      <th>0</th>\n",
       "      <td>0.485432</td>\n",
       "      <td>1.000000</td>\n",
       "      <td>0.478388</td>\n",
       "      <td>0.272171</td>\n",
       "      <td>0.000000</td>\n",
       "      <td>0.0</td>\n",
       "      <td>0.358437</td>\n",
       "      <td>0.000000</td>\n",
       "      <td>0.369392</td>\n",
       "      <td>0.450024</td>\n",
       "      <td>0.413505</td>\n",
       "      <td>0.495206</td>\n",
       "      <td>-0.985352</td>\n",
       "      <td>5.007490</td>\n",
       "      <td>-0.831847</td>\n",
       "      <td>0.0</td>\n",
       "    </tr>\n",
       "    <tr>\n",
       "      <th>1</th>\n",
       "      <td>0.544663</td>\n",
       "      <td>0.745834</td>\n",
       "      <td>0.492900</td>\n",
       "      <td>0.000000</td>\n",
       "      <td>0.000000</td>\n",
       "      <td>1.0</td>\n",
       "      <td>0.000000</td>\n",
       "      <td>0.000000</td>\n",
       "      <td>0.000000</td>\n",
       "      <td>0.437531</td>\n",
       "      <td>0.376845</td>\n",
       "      <td>9.612656</td>\n",
       "      <td>-1.328754</td>\n",
       "      <td>-2.428840</td>\n",
       "      <td>0.746498</td>\n",
       "      <td>1.0</td>\n",
       "    </tr>\n",
       "    <tr>\n",
       "      <th>2</th>\n",
       "      <td>0.676805</td>\n",
       "      <td>0.000000</td>\n",
       "      <td>0.531420</td>\n",
       "      <td>0.078562</td>\n",
       "      <td>0.179507</td>\n",
       "      <td>0.0</td>\n",
       "      <td>0.094088</td>\n",
       "      <td>0.557281</td>\n",
       "      <td>0.090562</td>\n",
       "      <td>0.425690</td>\n",
       "      <td>0.339433</td>\n",
       "      <td>-0.644868</td>\n",
       "      <td>5.273736</td>\n",
       "      <td>-0.442306</td>\n",
       "      <td>-0.134492</td>\n",
       "      <td>2.0</td>\n",
       "    </tr>\n",
       "    <tr>\n",
       "      <th>3</th>\n",
       "      <td>0.405813</td>\n",
       "      <td>1.000000</td>\n",
       "      <td>0.473977</td>\n",
       "      <td>0.000000</td>\n",
       "      <td>0.234338</td>\n",
       "      <td>0.0</td>\n",
       "      <td>0.000000</td>\n",
       "      <td>0.765662</td>\n",
       "      <td>0.000000</td>\n",
       "      <td>0.466858</td>\n",
       "      <td>0.440621</td>\n",
       "      <td>-3.454091</td>\n",
       "      <td>-1.552406</td>\n",
       "      <td>-1.496279</td>\n",
       "      <td>0.223790</td>\n",
       "      <td>3.0</td>\n",
       "    </tr>\n",
       "  </tbody>\n",
       "</table>\n",
       "</div>"
      ],
      "text/plain": [
       "                yeojohnson_revenue_in_eur_bin   is_EMEA  is_Webshop  \\\n",
       "cluster_kmeans                                                        \n",
       "0                                    0.485432  1.000000    0.478388   \n",
       "1                                    0.544663  0.745834    0.492900   \n",
       "2                                    0.676805  0.000000    0.531420   \n",
       "3                                    0.405813  1.000000    0.473977   \n",
       "\n",
       "                is_industry_FinanceInsuranceRealEstate  \\\n",
       "cluster_kmeans                                           \n",
       "0                                             0.272171   \n",
       "1                                             0.000000   \n",
       "2                                             0.078562   \n",
       "3                                             0.000000   \n",
       "\n",
       "                is_industry_Manufacturing  is_industry_Other  \\\n",
       "cluster_kmeans                                                 \n",
       "0                                0.000000                0.0   \n",
       "1                                0.000000                1.0   \n",
       "2                                0.179507                0.0   \n",
       "3                                0.234338                0.0   \n",
       "\n",
       "                is_industry_RetailTrade  is_industry_Services  \\\n",
       "cluster_kmeans                                                  \n",
       "0                              0.358437              0.000000   \n",
       "1                              0.000000              0.000000   \n",
       "2                              0.094088              0.557281   \n",
       "3                              0.000000              0.765662   \n",
       "\n",
       "                is_industry_WholesaleTrade  license_value_score  \\\n",
       "cluster_kmeans                                                    \n",
       "0                                 0.369392             0.450024   \n",
       "1                                 0.000000             0.437531   \n",
       "2                                 0.090562             0.425690   \n",
       "3                                 0.000000             0.466858   \n",
       "\n",
       "                customer_value_score  Component 1  Component 2  Component 3  \\\n",
       "cluster_kmeans                                                                \n",
       "0                           0.413505     0.495206    -0.985352     5.007490   \n",
       "1                           0.376845     9.612656    -1.328754    -2.428840   \n",
       "2                           0.339433    -0.644868     5.273736    -0.442306   \n",
       "3                           0.440621    -3.454091    -1.552406    -1.496279   \n",
       "\n",
       "                Component 4  clusters  \n",
       "cluster_kmeans                         \n",
       "0                 -0.831847       0.0  \n",
       "1                  0.746498       1.0  \n",
       "2                 -0.134492       2.0  \n",
       "3                  0.223790       3.0  "
      ]
     },
     "execution_count": 22,
     "metadata": {},
     "output_type": "execute_result"
    }
   ],
   "source": [
    "# Fit the KMeans model\n",
    "kmeans = KMeans(n_clusters=4, random_state=0).fit(features_pca)\n",
    "\n",
    "# Get the cluster labels\n",
    "cluster_labels = kmeans.labels_\n",
    "\n",
    "# Get the cluster centers\n",
    "cluster_centers = kmeans.cluster_centers_\n",
    "\n",
    "df_pca = pd.concat([df.reset_index(drop=True), pd.DataFrame(features_pca)], axis=1)\n",
    "df_pca.columns.values[-4: ] = ['Component 1', 'Component 2', 'Component 3', 'Component 4']\n",
    "df_pca['clusters'] = kmeans.labels_\n",
    "df_pca['cluster_kmeans'] = kmeans.predict(features_pca)\n",
    "df_latex = df_pca.groupby(['cluster_kmeans']).mean()\n",
    "df_latex"
   ]
  },
  {
   "cell_type": "code",
   "execution_count": 23,
   "metadata": {},
   "outputs": [],
   "source": [
    "df_latex.drop(columns=['Component 1', 'Component 2', 'Component 3', 'Component 4', 'clusters'], inplace=True)\n",
    "df_latex = df_latex.T"
   ]
  },
  {
   "cell_type": "code",
   "execution_count": 24,
   "metadata": {},
   "outputs": [
    {
     "data": {
      "text/html": [
       "<div>\n",
       "<style scoped>\n",
       "    .dataframe tbody tr th:only-of-type {\n",
       "        vertical-align: middle;\n",
       "    }\n",
       "\n",
       "    .dataframe tbody tr th {\n",
       "        vertical-align: top;\n",
       "    }\n",
       "\n",
       "    .dataframe thead th {\n",
       "        text-align: right;\n",
       "    }\n",
       "</style>\n",
       "<table border=\"1\" class=\"dataframe\">\n",
       "  <thead>\n",
       "    <tr style=\"text-align: right;\">\n",
       "      <th>cluster_kmeans</th>\n",
       "      <th>0</th>\n",
       "      <th>1</th>\n",
       "      <th>2</th>\n",
       "      <th>3</th>\n",
       "    </tr>\n",
       "  </thead>\n",
       "  <tbody>\n",
       "    <tr>\n",
       "      <th>yeojohnson_revenue_in_eur_bin</th>\n",
       "      <td>0.485432</td>\n",
       "      <td>0.544663</td>\n",
       "      <td>0.676805</td>\n",
       "      <td>0.405813</td>\n",
       "    </tr>\n",
       "    <tr>\n",
       "      <th>is_EMEA</th>\n",
       "      <td>1.000000</td>\n",
       "      <td>0.745834</td>\n",
       "      <td>0.000000</td>\n",
       "      <td>1.000000</td>\n",
       "    </tr>\n",
       "    <tr>\n",
       "      <th>is_Webshop</th>\n",
       "      <td>0.478388</td>\n",
       "      <td>0.492900</td>\n",
       "      <td>0.531420</td>\n",
       "      <td>0.473977</td>\n",
       "    </tr>\n",
       "    <tr>\n",
       "      <th>is_industry_FinanceInsuranceRealEstate</th>\n",
       "      <td>0.272171</td>\n",
       "      <td>0.000000</td>\n",
       "      <td>0.078562</td>\n",
       "      <td>0.000000</td>\n",
       "    </tr>\n",
       "    <tr>\n",
       "      <th>is_industry_Manufacturing</th>\n",
       "      <td>0.000000</td>\n",
       "      <td>0.000000</td>\n",
       "      <td>0.179507</td>\n",
       "      <td>0.234338</td>\n",
       "    </tr>\n",
       "    <tr>\n",
       "      <th>is_industry_Other</th>\n",
       "      <td>0.000000</td>\n",
       "      <td>1.000000</td>\n",
       "      <td>0.000000</td>\n",
       "      <td>0.000000</td>\n",
       "    </tr>\n",
       "    <tr>\n",
       "      <th>is_industry_RetailTrade</th>\n",
       "      <td>0.358437</td>\n",
       "      <td>0.000000</td>\n",
       "      <td>0.094088</td>\n",
       "      <td>0.000000</td>\n",
       "    </tr>\n",
       "    <tr>\n",
       "      <th>is_industry_Services</th>\n",
       "      <td>0.000000</td>\n",
       "      <td>0.000000</td>\n",
       "      <td>0.557281</td>\n",
       "      <td>0.765662</td>\n",
       "    </tr>\n",
       "    <tr>\n",
       "      <th>is_industry_WholesaleTrade</th>\n",
       "      <td>0.369392</td>\n",
       "      <td>0.000000</td>\n",
       "      <td>0.090562</td>\n",
       "      <td>0.000000</td>\n",
       "    </tr>\n",
       "    <tr>\n",
       "      <th>license_value_score</th>\n",
       "      <td>0.450024</td>\n",
       "      <td>0.437531</td>\n",
       "      <td>0.425690</td>\n",
       "      <td>0.466858</td>\n",
       "    </tr>\n",
       "    <tr>\n",
       "      <th>customer_value_score</th>\n",
       "      <td>0.413505</td>\n",
       "      <td>0.376845</td>\n",
       "      <td>0.339433</td>\n",
       "      <td>0.440621</td>\n",
       "    </tr>\n",
       "  </tbody>\n",
       "</table>\n",
       "</div>"
      ],
      "text/plain": [
       "cluster_kmeans                                 0         1         2         3\n",
       "yeojohnson_revenue_in_eur_bin           0.485432  0.544663  0.676805  0.405813\n",
       "is_EMEA                                 1.000000  0.745834  0.000000  1.000000\n",
       "is_Webshop                              0.478388  0.492900  0.531420  0.473977\n",
       "is_industry_FinanceInsuranceRealEstate  0.272171  0.000000  0.078562  0.000000\n",
       "is_industry_Manufacturing               0.000000  0.000000  0.179507  0.234338\n",
       "is_industry_Other                       0.000000  1.000000  0.000000  0.000000\n",
       "is_industry_RetailTrade                 0.358437  0.000000  0.094088  0.000000\n",
       "is_industry_Services                    0.000000  0.000000  0.557281  0.765662\n",
       "is_industry_WholesaleTrade              0.369392  0.000000  0.090562  0.000000\n",
       "license_value_score                     0.450024  0.437531  0.425690  0.466858\n",
       "customer_value_score                    0.413505  0.376845  0.339433  0.440621"
      ]
     },
     "execution_count": 24,
     "metadata": {},
     "output_type": "execute_result"
    }
   ],
   "source": [
    "df_latex"
   ]
  },
  {
   "cell_type": "code",
   "execution_count": 25,
   "metadata": {},
   "outputs": [
    {
     "name": "stdout",
     "output_type": "stream",
     "text": [
      "\\begin{table}[H]\n",
      "\\centering\n",
      "\\caption{Average Values of each feature per Cluster}\n",
      "\\label{tab:avg_clusters}\n",
      "\\begin{tabular}{cccc}\n",
      "\\toprule\n",
      "    0 &     1 &     2 &     3 \\\\\n",
      "\\midrule\n",
      "0.485 & 0.545 & 0.677 & 0.406 \\\\\n",
      "1.000 & 0.746 & 0.000 & 1.000 \\\\\n",
      "0.478 & 0.493 & 0.531 & 0.474 \\\\\n",
      "0.272 & 0.000 & 0.079 & 0.000 \\\\\n",
      "0.000 & 0.000 & 0.180 & 0.234 \\\\\n",
      "0.000 & 1.000 & 0.000 & 0.000 \\\\\n",
      "0.358 & 0.000 & 0.094 & 0.000 \\\\\n",
      "0.000 & 0.000 & 0.557 & 0.766 \\\\\n",
      "0.369 & 0.000 & 0.091 & 0.000 \\\\\n",
      "0.450 & 0.438 & 0.426 & 0.467 \\\\\n",
      "0.414 & 0.377 & 0.339 & 0.441 \\\\\n",
      "\\bottomrule\n",
      "\\end{tabular}\n",
      "\\end{table}\n",
      "\n"
     ]
    }
   ],
   "source": [
    "latex_table = df_latex.to_latex(\n",
    "    index=False,  # To not include the DataFrame index as a column in the table\n",
    "    caption=\"Average Values of each feature per Cluster\",  # The caption to appear above the table in the LaTeX document\n",
    "    label=\"tab:avg_clusters\",  # A label used for referencing the table within the LaTeX document\n",
    "    position=\"H\",  # The preferred positions where the table should be placed in the document ('here', 'top', 'bottom', 'page')\n",
    "    column_format=\"cccc\",  # The format of the columns: left-aligned with vertical lines between them\n",
    "    escape=False,  # Disable escaping LaTeX special characters in the DataFrame\n",
    "    float_format=\"{:0.3f}\".format  # Formats floats to two decimal places\n",
    ")\n",
    "\n",
    "print(latex_table)"
   ]
  },
  {
   "cell_type": "code",
   "execution_count": 26,
   "metadata": {},
   "outputs": [
    {
     "data": {
      "text/plain": [
       "3    42251\n",
       "0    21909\n",
       "2    20417\n",
       "1    15423\n",
       "Name: cluster_kmeans, dtype: int64"
      ]
     },
     "execution_count": 26,
     "metadata": {},
     "output_type": "execute_result"
    }
   ],
   "source": [
    "df_pca.cluster_kmeans.value_counts()"
   ]
  },
  {
   "cell_type": "code",
   "execution_count": 27,
   "metadata": {},
   "outputs": [
    {
     "data": {
      "image/png": "[encoded data removed]",
      "text/plain": [
       "<Figure size 1000x500 with 2 Axes>"
      ]
     },
     "metadata": {},
     "output_type": "display_data"
    }
   ],
   "source": [
    "# Visualize the correlation matrix\n",
    "plt.figure(figsize=(10,5))\n",
    "sns.heatmap(df_pca.groupby(['cluster_kmeans']).mean(), cmap='coolwarm', annot=True)\n",
    "plt.show()"
   ]
  },
  {
   "cell_type": "code",
   "execution_count": 28,
   "metadata": {},
   "outputs": [
    {
     "data": {
      "application/vnd.plotly.v1+json": {
       "config": {
        "plotlyServerURL": "https://plot.ly"
       },
       "data": [
        {
         "hovertemplate": "label=0<br>value=%{r}<br>variable=%{theta}<extra></extra>",
         "legendgroup": "0",
         "line": {
          "color": "#636efa",
          "dash": "solid"
         },
         "marker": {
          "symbol": "circle"
         },
         "mode": "lines",
         "name": "0",
         "r": [
          0.4854321663851994,
          1,
          0.47838787712812086,
          0.27217125382262997,
          0,
          0,
          0.3584371719384728,
          0,
          0.36939157423889724,
          0.45002407465806965,
          0.41350454870383785,
          0.4854321663851994
         ],
         "showlegend": true,
         "subplot": "polar",
         "theta": [
          "yeojohnson_revenue_in_eur_bin",
          "is_EMEA",
          "is_Webshop",
          "is_industry_FinanceInsuranceRealEstate",
          "is_industry_Manufacturing",
          "is_industry_Other",
          "is_industry_RetailTrade",
          "is_industry_Services",
          "is_industry_WholesaleTrade",
          "license_value_score",
          "customer_value_score",
          "yeojohnson_revenue_in_eur_bin"
         ],
         "type": "scatterpolar"
        },
        {
         "hovertemplate": "label=1<br>value=%{r}<br>variable=%{theta}<extra></extra>",
         "legendgroup": "1",
         "line": {
          "color": "#EF553B",
          "dash": "solid"
         },
         "marker": {
          "symbol": "circle"
         },
         "mode": "lines",
         "name": "1",
         "r": [
          0.5446627331474638,
          0.7458341438111911,
          0.49290021396615447,
          0,
          0,
          1,
          0,
          0,
          0,
          0.43753141061329154,
          0.3768447263770275,
          0.5446627331474638
         ],
         "showlegend": true,
         "subplot": "polar",
         "theta": [
          "yeojohnson_revenue_in_eur_bin",
          "is_EMEA",
          "is_Webshop",
          "is_industry_FinanceInsuranceRealEstate",
          "is_industry_Manufacturing",
          "is_industry_Other",
          "is_industry_RetailTrade",
          "is_industry_Services",
          "is_industry_WholesaleTrade",
          "license_value_score",
          "customer_value_score",
          "yeojohnson_revenue_in_eur_bin"
         ],
         "type": "scatterpolar"
        },
        {
         "hovertemplate": "label=2<br>value=%{r}<br>variable=%{theta}<extra></extra>",
         "legendgroup": "2",
         "line": {
          "color": "#00cc96",
          "dash": "solid"
         },
         "marker": {
          "symbol": "circle"
         },
         "mode": "lines",
         "name": "2",
         "r": [
          0.6768052766485445,
          0,
          0.5314198951853847,
          0.07856198266150757,
          0.17950727335063918,
          0,
          0.09408825978351373,
          0.5572806974580007,
          0.09056178674633883,
          0.4256899012107636,
          0.33943272714007927,
          0.6768052766485445
         ],
         "showlegend": true,
         "subplot": "polar",
         "theta": [
          "yeojohnson_revenue_in_eur_bin",
          "is_EMEA",
          "is_Webshop",
          "is_industry_FinanceInsuranceRealEstate",
          "is_industry_Manufacturing",
          "is_industry_Other",
          "is_industry_RetailTrade",
          "is_industry_Services",
          "is_industry_WholesaleTrade",
          "license_value_score",
          "customer_value_score",
          "yeojohnson_revenue_in_eur_bin"
         ],
         "type": "scatterpolar"
        },
        {
         "hovertemplate": "label=3<br>value=%{r}<br>variable=%{theta}<extra></extra>",
         "legendgroup": "3",
         "line": {
          "color": "#ab63fa",
          "dash": "solid"
         },
         "marker": {
          "symbol": "circle"
         },
         "mode": "lines",
         "name": "3",
         "r": [
          0.40581288016851674,
          1,
          0.4739769472911884,
          0,
          0.23433764881304583,
          0,
          0,
          0.7656623511869541,
          0,
          0.4668575236483857,
          0.4406206973218337,
          0.40581288016851674
         ],
         "showlegend": true,
         "subplot": "polar",
         "theta": [
          "yeojohnson_revenue_in_eur_bin",
          "is_EMEA",
          "is_Webshop",
          "is_industry_FinanceInsuranceRealEstate",
          "is_industry_Manufacturing",
          "is_industry_Other",
          "is_industry_RetailTrade",
          "is_industry_Services",
          "is_industry_WholesaleTrade",
          "license_value_score",
          "customer_value_score",
          "yeojohnson_revenue_in_eur_bin"
         ],
         "type": "scatterpolar"
        }
       ],
       "layout": {
        "height": 800,
        "legend": {
         "title": {
          "text": "label"
         },
         "tracegroupgap": 0
        },
        "polar": {
         "angularaxis": {
          "direction": "clockwise",
          "rotation": 90
         },
         "domain": {
          "x": [
           0,
           1
          ],
          "y": [
           0,
           1
          ]
         }
        },
        "template": {
         "data": {
          "bar": [
           {
            "error_x": {
             "color": "#2a3f5f"
            },
            "error_y": {
             "color": "#2a3f5f"
            },
            "marker": {
             "line": {
              "color": "#E5ECF6",
              "width": 0.5
             },
             "pattern": {
              "fillmode": "overlay",
              "size": 10,
              "solidity": 0.2
             }
            },
            "type": "bar"
           }
          ],
          "barpolar": [
           {
            "marker": {
             "line": {
              "color": "#E5ECF6",
              "width": 0.5
             },
             "pattern": {
              "fillmode": "overlay",
              "size": 10,
              "solidity": 0.2
             }
            },
            "type": "barpolar"
           }
          ],
          "carpet": [
           {
            "aaxis": {
             "endlinecolor": "#2a3f5f",
             "gridcolor": "white",
             "linecolor": "white",
             "minorgridcolor": "white",
             "startlinecolor": "#2a3f5f"
            },
            "baxis": {
             "endlinecolor": "#2a3f5f",
             "gridcolor": "white",
             "linecolor": "white",
             "minorgridcolor": "white",
             "startlinecolor": "#2a3f5f"
            },
            "type": "carpet"
           }
          ],
          "choropleth": [
           {
            "colorbar": {
             "outlinewidth": 0,
             "ticks": ""
            },
            "type": "choropleth"
           }
          ],
          "contour": [
           {
            "colorbar": {
             "outlinewidth": 0,
             "ticks": ""
            },
            "colorscale": [
             [
              0,
              "#0d0887"
             ],
             [
              0.1111111111111111,
              "#46039f"
             ],
             [
              0.2222222222222222,
              "#7201a8"
             ],
             [
              0.3333333333333333,
              "#9c179e"
             ],
             [
              0.4444444444444444,
              "#bd3786"
             ],
             [
              0.5555555555555556,
              "#d8576b"
             ],
             [
              0.6666666666666666,
              "#ed7953"
             ],
             [
              0.7777777777777778,
              "#fb9f3a"
             ],
             [
              0.8888888888888888,
              "#fdca26"
             ],
             [
              1,
              "#f0f921"
             ]
            ],
            "type": "contour"
           }
          ],
          "contourcarpet": [
           {
            "colorbar": {
             "outlinewidth": 0,
             "ticks": ""
            },
            "type": "contourcarpet"
           }
          ],
          "heatmap": [
           {
            "colorbar": {
             "outlinewidth": 0,
             "ticks": ""
            },
            "colorscale": [
             [
              0,
              "#0d0887"
             ],
             [
              0.1111111111111111,
              "#46039f"
             ],
             [
              0.2222222222222222,
              "#7201a8"
             ],
             [
              0.3333333333333333,
              "#9c179e"
             ],
             [
              0.4444444444444444,
              "#bd3786"
             ],
             [
              0.5555555555555556,
              "#d8576b"
             ],
             [
              0.6666666666666666,
              "#ed7953"
             ],
             [
              0.7777777777777778,
              "#fb9f3a"
             ],
             [
              0.8888888888888888,
              "#fdca26"
             ],
             [
              1,
              "#f0f921"
             ]
            ],
            "type": "heatmap"
           }
          ],
          "heatmapgl": [
           {
            "colorbar": {
             "outlinewidth": 0,
             "ticks": ""
            },
            "colorscale": [
             [
              0,
              "#0d0887"
             ],
             [
              0.1111111111111111,
              "#46039f"
             ],
             [
              0.2222222222222222,
              "#7201a8"
             ],
             [
              0.3333333333333333,
              "#9c179e"
             ],
             [
              0.4444444444444444,
              "#bd3786"
             ],
             [
              0.5555555555555556,
              "#d8576b"
             ],
             [
              0.6666666666666666,
              "#ed7953"
             ],
             [
              0.7777777777777778,
              "#fb9f3a"
             ],
             [
              0.8888888888888888,
              "#fdca26"
             ],
             [
              1,
              "#f0f921"
             ]
            ],
            "type": "heatmapgl"
           }
          ],
          "histogram": [
           {
            "marker": {
             "pattern": {
              "fillmode": "overlay",
              "size": 10,
              "solidity": 0.2
             }
            },
            "type": "histogram"
           }
          ],
          "histogram2d": [
           {
            "colorbar": {
             "outlinewidth": 0,
             "ticks": ""
            },
            "colorscale": [
             [
              0,
              "#0d0887"
             ],
             [
              0.1111111111111111,
              "#46039f"
             ],
             [
              0.2222222222222222,
              "#7201a8"
             ],
             [
              0.3333333333333333,
              "#9c179e"
             ],
             [
              0.4444444444444444,
              "#bd3786"
             ],
             [
              0.5555555555555556,
              "#d8576b"
             ],
             [
              0.6666666666666666,
              "#ed7953"
             ],
             [
              0.7777777777777778,
              "#fb9f3a"
             ],
             [
              0.8888888888888888,
              "#fdca26"
             ],
             [
              1,
              "#f0f921"
             ]
            ],
            "type": "histogram2d"
           }
          ],
          "histogram2dcontour": [
           {
            "colorbar": {
             "outlinewidth": 0,
             "ticks": ""
            },
            "colorscale": [
             [
              0,
              "#0d0887"
             ],
             [
              0.1111111111111111,
              "#46039f"
             ],
             [
              0.2222222222222222,
              "#7201a8"
             ],
             [
              0.3333333333333333,
              "#9c179e"
             ],
             [
              0.4444444444444444,
              "#bd3786"
             ],
             [
              0.5555555555555556,
              "#d8576b"
             ],
             [
              0.6666666666666666,
              "#ed7953"
             ],
             [
              0.7777777777777778,
              "#fb9f3a"
             ],
             [
              0.8888888888888888,
              "#fdca26"
             ],
             [
              1,
              "#f0f921"
             ]
            ],
            "type": "histogram2dcontour"
           }
          ],
          "mesh3d": [
           {
            "colorbar": {
             "outlinewidth": 0,
             "ticks": ""
            },
            "type": "mesh3d"
           }
          ],
          "parcoords": [
           {
            "line": {
             "colorbar": {
              "outlinewidth": 0,
              "ticks": ""
             }
            },
            "type": "parcoords"
           }
          ],
          "pie": [
           {
            "automargin": true,
            "type": "pie"
           }
          ],
          "scatter": [
           {
            "fillpattern": {
             "fillmode": "overlay",
             "size": 10,
             "solidity": 0.2
            },
            "type": "scatter"
           }
          ],
          "scatter3d": [
           {
            "line": {
             "colorbar": {
              "outlinewidth": 0,
              "ticks": ""
             }
            },
            "marker": {
             "colorbar": {
              "outlinewidth": 0,
              "ticks": ""
             }
            },
            "type": "scatter3d"
           }
          ],
          "scattercarpet": [
           {
            "marker": {
             "colorbar": {
              "outlinewidth": 0,
              "ticks": ""
             }
            },
            "type": "scattercarpet"
           }
          ],
          "scattergeo": [
           {
            "marker": {
             "colorbar": {
              "outlinewidth": 0,
              "ticks": ""
             }
            },
            "type": "scattergeo"
           }
          ],
          "scattergl": [
           {
            "marker": {
             "colorbar": {
              "outlinewidth": 0,
              "ticks": ""
             }
            },
            "type": "scattergl"
           }
          ],
          "scattermapbox": [
           {
            "marker": {
             "colorbar": {
              "outlinewidth": 0,
              "ticks": ""
             }
            },
            "type": "scattermapbox"
           }
          ],
          "scatterpolar": [
           {
            "marker": {
             "colorbar": {
              "outlinewidth": 0,
              "ticks": ""
             }
            },
            "type": "scatterpolar"
           }
          ],
          "scatterpolargl": [
           {
            "marker": {
             "colorbar": {
              "outlinewidth": 0,
              "ticks": ""
             }
            },
            "type": "scatterpolargl"
           }
          ],
          "scatterternary": [
           {
            "marker": {
             "colorbar": {
              "outlinewidth": 0,
              "ticks": ""
             }
            },
            "type": "scatterternary"
           }
          ],
          "surface": [
           {
            "colorbar": {
             "outlinewidth": 0,
             "ticks": ""
            },
            "colorscale": [
             [
              0,
              "#0d0887"
             ],
             [
              0.1111111111111111,
              "#46039f"
             ],
             [
              0.2222222222222222,
              "#7201a8"
             ],
             [
              0.3333333333333333,
              "#9c179e"
             ],
             [
              0.4444444444444444,
              "#bd3786"
             ],
             [
              0.5555555555555556,
              "#d8576b"
             ],
             [
              0.6666666666666666,
              "#ed7953"
             ],
             [
              0.7777777777777778,
              "#fb9f3a"
             ],
             [
              0.8888888888888888,
              "#fdca26"
             ],
             [
              1,
              "#f0f921"
             ]
            ],
            "type": "surface"
           }
          ],
          "table": [
           {
            "cells": {
             "fill": {
              "color": "#EBF0F8"
             },
             "line": {
              "color": "white"
             }
            },
            "header": {
             "fill": {
              "color": "#C8D4E3"
             },
             "line": {
              "color": "white"
             }
            },
            "type": "table"
           }
          ]
         },
         "layout": {
          "annotationdefaults": {
           "arrowcolor": "#2a3f5f",
           "arrowhead": 0,
           "arrowwidth": 1
          },
          "autotypenumbers": "strict",
          "coloraxis": {
           "colorbar": {
            "outlinewidth": 0,
            "ticks": ""
           }
          },
          "colorscale": {
           "diverging": [
            [
             0,
             "#8e0152"
            ],
            [
             0.1,
             "#c51b7d"
            ],
            [
             0.2,
             "#de77ae"
            ],
            [
             0.3,
             "#f1b6da"
            ],
            [
             0.4,
             "#fde0ef"
            ],
            [
             0.5,
             "#f7f7f7"
            ],
            [
             0.6,
             "#e6f5d0"
            ],
            [
             0.7,
             "#b8e186"
            ],
            [
             0.8,
             "#7fbc41"
            ],
            [
             0.9,
             "#4d9221"
            ],
            [
             1,
             "#276419"
            ]
           ],
           "sequential": [
            [
             0,
             "#0d0887"
            ],
            [
             0.1111111111111111,
             "#46039f"
            ],
            [
             0.2222222222222222,
             "#7201a8"
            ],
            [
             0.3333333333333333,
             "#9c179e"
            ],
            [
             0.4444444444444444,
             "#bd3786"
            ],
            [
             0.5555555555555556,
             "#d8576b"
            ],
            [
             0.6666666666666666,
             "#ed7953"
            ],
            [
             0.7777777777777778,
             "#fb9f3a"
            ],
            [
             0.8888888888888888,
             "#fdca26"
            ],
            [
             1,
             "#f0f921"
            ]
           ],
           "sequentialminus": [
            [
             0,
             "#0d0887"
            ],
            [
             0.1111111111111111,
             "#46039f"
            ],
            [
             0.2222222222222222,
             "#7201a8"
            ],
            [
             0.3333333333333333,
             "#9c179e"
            ],
            [
             0.4444444444444444,
             "#bd3786"
            ],
            [
             0.5555555555555556,
             "#d8576b"
            ],
            [
             0.6666666666666666,
             "#ed7953"
            ],
            [
             0.7777777777777778,
             "#fb9f3a"
            ],
            [
             0.8888888888888888,
             "#fdca26"
            ],
            [
             1,
             "#f0f921"
            ]
           ]
          },
          "colorway": [
           "#636efa",
           "#EF553B",
           "#00cc96",
           "#ab63fa",
           "#FFA15A",
           "#19d3f3",
           "#FF6692",
           "#B6E880",
           "#FF97FF",
           "#FECB52"
          ],
          "font": {
           "color": "#2a3f5f"
          },
          "geo": {
           "bgcolor": "white",
           "lakecolor": "white",
           "landcolor": "#E5ECF6",
           "showlakes": true,
           "showland": true,
           "subunitcolor": "white"
          },
          "hoverlabel": {
           "align": "left"
          },
          "hovermode": "closest",
          "mapbox": {
           "style": "light"
          },
          "paper_bgcolor": "white",
          "plot_bgcolor": "#E5ECF6",
          "polar": {
           "angularaxis": {
            "gridcolor": "white",
            "linecolor": "white",
            "ticks": ""
           },
           "bgcolor": "#E5ECF6",
           "radialaxis": {
            "gridcolor": "white",
            "linecolor": "white",
            "ticks": ""
           }
          },
          "scene": {
           "xaxis": {
            "backgroundcolor": "#E5ECF6",
            "gridcolor": "white",
            "gridwidth": 2,
            "linecolor": "white",
            "showbackground": true,
            "ticks": "",
            "zerolinecolor": "white"
           },
           "yaxis": {
            "backgroundcolor": "#E5ECF6",
            "gridcolor": "white",
            "gridwidth": 2,
            "linecolor": "white",
            "showbackground": true,
            "ticks": "",
            "zerolinecolor": "white"
           },
           "zaxis": {
            "backgroundcolor": "#E5ECF6",
            "gridcolor": "white",
            "gridwidth": 2,
            "linecolor": "white",
            "showbackground": true,
            "ticks": "",
            "zerolinecolor": "white"
           }
          },
          "shapedefaults": {
           "line": {
            "color": "#2a3f5f"
           }
          },
          "ternary": {
           "aaxis": {
            "gridcolor": "white",
            "linecolor": "white",
            "ticks": ""
           },
           "baxis": {
            "gridcolor": "white",
            "linecolor": "white",
            "ticks": ""
           },
           "bgcolor": "#E5ECF6",
           "caxis": {
            "gridcolor": "white",
            "linecolor": "white",
            "ticks": ""
           }
          },
          "title": {
           "x": 0.05
          },
          "xaxis": {
           "automargin": true,
           "gridcolor": "white",
           "linecolor": "white",
           "ticks": "",
           "title": {
            "standoff": 15
           },
           "zerolinecolor": "white",
           "zerolinewidth": 2
          },
          "yaxis": {
           "automargin": true,
           "gridcolor": "white",
           "linecolor": "white",
           "ticks": "",
           "title": {
            "standoff": 15
           },
           "zerolinecolor": "white",
           "zerolinewidth": 2
          }
         }
        },
        "title": {
         "text": "DEC Model 10-Feature Set Radar Chart"
        },
        "width": 1200
       }
      }
     },
     "metadata": {},
     "output_type": "display_data"
    }
   ],
   "source": [
    "clusters=pd.DataFrame(features, columns=features_df.columns)\n",
    "clusters['label']=kmeans.labels_\n",
    "polar=clusters.groupby(\"label\").mean().reset_index()\n",
    "polar=pd.melt(polar,id_vars=[\"label\"])\n",
    "fig = px.line_polar(polar, r=\"value\", theta=\"variable\", color=\"label\", \n",
    "                    line_close=True,\n",
    "                    height=800,\n",
    "                    width=1200, \n",
    "                    title=\"DEC Model 10-Feature Set Radar Chart\")\n",
    "fig.show()"
   ]
  },
  {
   "cell_type": "code",
   "execution_count": 29,
   "metadata": {},
   "outputs": [
    {
     "data": {
      "text/html": [
       "<div>\n",
       "<style scoped>\n",
       "    .dataframe tbody tr th:only-of-type {\n",
       "        vertical-align: middle;\n",
       "    }\n",
       "\n",
       "    .dataframe tbody tr th {\n",
       "        vertical-align: top;\n",
       "    }\n",
       "\n",
       "    .dataframe thead th {\n",
       "        text-align: right;\n",
       "    }\n",
       "</style>\n",
       "<table border=\"1\" class=\"dataframe\">\n",
       "  <thead>\n",
       "    <tr style=\"text-align: right;\">\n",
       "      <th></th>\n",
       "      <th>cluster</th>\n",
       "      <th>count</th>\n",
       "    </tr>\n",
       "  </thead>\n",
       "  <tbody>\n",
       "    <tr>\n",
       "      <th>0</th>\n",
       "      <td>0</td>\n",
       "      <td>21909</td>\n",
       "    </tr>\n",
       "    <tr>\n",
       "      <th>1</th>\n",
       "      <td>1</td>\n",
       "      <td>15423</td>\n",
       "    </tr>\n",
       "    <tr>\n",
       "      <th>2</th>\n",
       "      <td>2</td>\n",
       "      <td>20417</td>\n",
       "    </tr>\n",
       "    <tr>\n",
       "      <th>3</th>\n",
       "      <td>3</td>\n",
       "      <td>42251</td>\n",
       "    </tr>\n",
       "  </tbody>\n",
       "</table>\n",
       "</div>"
      ],
      "text/plain": [
       "   cluster  count\n",
       "0        0  21909\n",
       "1        1  15423\n",
       "2        2  20417\n",
       "3        3  42251"
      ]
     },
     "execution_count": 29,
     "metadata": {},
     "output_type": "execute_result"
    }
   ],
   "source": [
    "clusters_df = clusters.groupby('label').size().reset_index()\n",
    "clusters_df.rename(columns={'label': 'cluster', 0: 'count'}, inplace=True)\n",
    "clusters_df"
   ]
  },
  {
   "cell_type": "code",
   "execution_count": 30,
   "metadata": {},
   "outputs": [
    {
     "data": {
      "image/png": "[encoded data removed]",
      "text/plain": [
       "<Figure size 640x480 with 1 Axes>"
      ]
     },
     "metadata": {},
     "output_type": "display_data"
    }
   ],
   "source": [
    "#define Seaborn color palette to use\n",
    "colors = sns.color_palette('pastel')[0:5]\n",
    "\n",
    "#create pie chart\n",
    "plt.pie(clusters_df['count'], labels = clusters_df['cluster'], colors = colors, autopct='%.0f%%')\n",
    "plt.title('DEC Model 10-Feature Set Pie Chart')\n",
    "plt.show()"
   ]
  },
  {
   "cell_type": "markdown",
   "metadata": {},
   "source": [
    "## Evaluation"
   ]
  },
  {
   "cell_type": "code",
   "execution_count": 31,
   "metadata": {},
   "outputs": [
    {
     "name": "stdout",
     "output_type": "stream",
     "text": [
      "Silhouette Score: 0.571\n"
     ]
    }
   ],
   "source": [
    "# Calculate Silhouette Score\n",
    "silhouette_avg = silhouette_score(features_pca, cluster_labels)\n",
    "print(f'Silhouette Score: {silhouette_avg:.3f}')"
   ]
  },
  {
   "cell_type": "code",
   "execution_count": 32,
   "metadata": {},
   "outputs": [
    {
     "name": "stdout",
     "output_type": "stream",
     "text": [
      "Davies-Bouldin Index: 0.786\n"
     ]
    }
   ],
   "source": [
    "# Calculate Davies-Bouldin Index\n",
    "davies_bouldin_avg = davies_bouldin_score(features_pca, cluster_labels)\n",
    "print(f'Davies-Bouldin Index: {davies_bouldin_avg:.3f}')"
   ]
  }
 ],
 "metadata": {
  "kernelspec": {
   "display_name": "base",
   "language": "python",
   "name": "python3"
  },
  "language_info": {
   "codemirror_mode": {
    "name": "ipython",
    "version": 3
   },
   "file_extension": ".py",
   "mimetype": "text/x-python",
   "name": "python",
   "nbconvert_exporter": "python",
   "pygments_lexer": "ipython3",
   "version": "3.9.13"
  }
 },
 "nbformat": 4,
 "nbformat_minor": 2
}
