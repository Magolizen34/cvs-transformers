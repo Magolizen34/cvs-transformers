{
 "cells": [
  {
   "cell_type": "markdown",
   "metadata": {},
   "source": [
    "# Embedding Model"
   ]
  },
  {
   "cell_type": "code",
   "execution_count": 1,
   "metadata": {},
   "outputs": [],
   "source": [
    "import matplotlib.pyplot as plt \n",
    "from matplotlib.lines import Line2D  # For custom legend markers\n",
    "import numpy as np\n",
    "import pandas as pd\n",
    "import plotly.express as px\n",
    "import seaborn as sns\n",
    "from sklearn.cluster import KMeans\n",
    "from sklearn.metrics import silhouette_score, davies_bouldin_score\n",
    "from sklearn.preprocessing import MinMaxScaler, LabelEncoder\n",
    "from sklearn.decomposition import PCA\n",
    "import tensorflow as tf\n",
    "from tensorflow.keras.models import Model\n",
    "from tensorflow.keras.layers import Input, Dense, Layer, Dropout\n",
    "from tensorflow.keras.optimizers import Adam\n",
    "from tensorflow.keras.callbacks import EarlyStopping\n",
    "import tensorflow.keras.backend as K\n",
    "import warnings # ignore warnings\n",
    "warnings.filterwarnings('ignore')"
   ]
  },
  {
   "cell_type": "code",
   "execution_count": 2,
   "metadata": {},
   "outputs": [],
   "source": [
    "df = pd.read_csv('../data/customers_100k.csv', sep='|') "
   ]
  },
  {
   "cell_type": "code",
   "execution_count": 3,
   "metadata": {},
   "outputs": [
    {
     "name": "stdout",
     "output_type": "stream",
     "text": [
      "<class 'pandas.core.frame.DataFrame'>\n",
      "RangeIndex: 100000 entries, 0 to 99999\n",
      "Data columns (total 21 columns):\n",
      " #   Column                           Non-Null Count   Dtype  \n",
      "---  ------                           --------------   -----  \n",
      " 0   account_id                       100000 non-null  object \n",
      " 1   country_name                     100000 non-null  object \n",
      " 2   account_category                 100000 non-null  object \n",
      " 3   bi_account_classification        100000 non-null  object \n",
      " 4   customer_type                    100000 non-null  object \n",
      " 5   region                           100000 non-null  object \n",
      " 6   sic_code                         100000 non-null  int64  \n",
      " 7   employee_number                  100000 non-null  int64  \n",
      " 8   revenue_in_eur                   100000 non-null  float64\n",
      " 9   number_distinct_active_licenses  100000 non-null  int64  \n",
      " 10  major_edition                    100000 non-null  object \n",
      " 11  total_connections_12m            100000 non-null  int64  \n",
      " 12  total_endpoints_12m              100000 non-null  int64  \n",
      " 13  total_devices_12m                100000 non-null  int64  \n",
      " 14  last_invoice_date_created        100000 non-null  object \n",
      " 15  current_sales_channel            100000 non-null  object \n",
      " 16  age_customer                     100000 non-null  int64  \n",
      " 17  number_renewals                  100000 non-null  int64  \n",
      " 18  account_value_in_eur             100000 non-null  float64\n",
      " 19  billings_ltm_prorated            100000 non-null  float64\n",
      " 20  business_model                   100000 non-null  object \n",
      "dtypes: float64(3), int64(8), object(10)\n",
      "memory usage: 16.0+ MB\n"
     ]
    }
   ],
   "source": [
    "df.info()"
   ]
  },
  {
   "cell_type": "code",
   "execution_count": 4,
   "metadata": {},
   "outputs": [
    {
     "data": {
      "text/html": [
       "<div>\n",
       "<style scoped>\n",
       "    .dataframe tbody tr th:only-of-type {\n",
       "        vertical-align: middle;\n",
       "    }\n",
       "\n",
       "    .dataframe tbody tr th {\n",
       "        vertical-align: top;\n",
       "    }\n",
       "\n",
       "    .dataframe thead th {\n",
       "        text-align: right;\n",
       "    }\n",
       "</style>\n",
       "<table border=\"1\" class=\"dataframe\">\n",
       "  <thead>\n",
       "    <tr style=\"text-align: right;\">\n",
       "      <th></th>\n",
       "      <th>account_id</th>\n",
       "      <th>country_name</th>\n",
       "      <th>account_category</th>\n",
       "      <th>bi_account_classification</th>\n",
       "      <th>customer_type</th>\n",
       "      <th>region</th>\n",
       "      <th>sic_code</th>\n",
       "      <th>employee_number</th>\n",
       "      <th>revenue_in_eur</th>\n",
       "      <th>number_distinct_active_licenses</th>\n",
       "      <th>...</th>\n",
       "      <th>total_connections_12m</th>\n",
       "      <th>total_endpoints_12m</th>\n",
       "      <th>total_devices_12m</th>\n",
       "      <th>last_invoice_date_created</th>\n",
       "      <th>current_sales_channel</th>\n",
       "      <th>age_customer</th>\n",
       "      <th>number_renewals</th>\n",
       "      <th>account_value_in_eur</th>\n",
       "      <th>billings_ltm_prorated</th>\n",
       "      <th>business_model</th>\n",
       "    </tr>\n",
       "  </thead>\n",
       "  <tbody>\n",
       "    <tr>\n",
       "      <th>0</th>\n",
       "      <td>ac6a99474410f1c59c91da3f0cf9cf3f</td>\n",
       "      <td>Tonga</td>\n",
       "      <td>Standard</td>\n",
       "      <td>Inside Sales</td>\n",
       "      <td>Customer</td>\n",
       "      <td>APAC</td>\n",
       "      <td>7381</td>\n",
       "      <td>8</td>\n",
       "      <td>1502000.0</td>\n",
       "      <td>1</td>\n",
       "      <td>...</td>\n",
       "      <td>54</td>\n",
       "      <td>4</td>\n",
       "      <td>2</td>\n",
       "      <td>2023-11-23 01:57:47</td>\n",
       "      <td>Webshop</td>\n",
       "      <td>6</td>\n",
       "      <td>5</td>\n",
       "      <td>2532.84</td>\n",
       "      <td>466.47</td>\n",
       "      <td>S</td>\n",
       "    </tr>\n",
       "    <tr>\n",
       "      <th>1</th>\n",
       "      <td>1cc66628ed41f3db5a55195e93277a04</td>\n",
       "      <td>Costa Rica</td>\n",
       "      <td>Standard</td>\n",
       "      <td>Inside Sales</td>\n",
       "      <td>Customer</td>\n",
       "      <td>AMERICAS</td>\n",
       "      <td>5049</td>\n",
       "      <td>11</td>\n",
       "      <td>1814000.0</td>\n",
       "      <td>1</td>\n",
       "      <td>...</td>\n",
       "      <td>3385</td>\n",
       "      <td>158</td>\n",
       "      <td>51</td>\n",
       "      <td>2023-10-07 19:35:11</td>\n",
       "      <td>Webshop</td>\n",
       "      <td>1</td>\n",
       "      <td>0</td>\n",
       "      <td>1298.15</td>\n",
       "      <td>972.57</td>\n",
       "      <td>S</td>\n",
       "    </tr>\n",
       "    <tr>\n",
       "      <th>2</th>\n",
       "      <td>db5f3cdd5629b9591b720b9b7e077df2</td>\n",
       "      <td>Costa Rica</td>\n",
       "      <td>Standard</td>\n",
       "      <td>Inside Sales</td>\n",
       "      <td>Customer</td>\n",
       "      <td>AMERICAS</td>\n",
       "      <td>7389</td>\n",
       "      <td>16</td>\n",
       "      <td>13444000.0</td>\n",
       "      <td>1</td>\n",
       "      <td>...</td>\n",
       "      <td>12</td>\n",
       "      <td>2</td>\n",
       "      <td>2</td>\n",
       "      <td>2023-12-02 02:03:05</td>\n",
       "      <td>Webshop</td>\n",
       "      <td>2</td>\n",
       "      <td>1</td>\n",
       "      <td>155.83</td>\n",
       "      <td>76.69</td>\n",
       "      <td>S</td>\n",
       "    </tr>\n",
       "    <tr>\n",
       "      <th>3</th>\n",
       "      <td>bebb4028688f519f36ed220855b0a62f</td>\n",
       "      <td>Costa Rica</td>\n",
       "      <td>Standard</td>\n",
       "      <td>Reseller</td>\n",
       "      <td>End-User Reseller</td>\n",
       "      <td>AMERICAS</td>\n",
       "      <td>8711</td>\n",
       "      <td>36</td>\n",
       "      <td>7066000.0</td>\n",
       "      <td>3</td>\n",
       "      <td>...</td>\n",
       "      <td>1724</td>\n",
       "      <td>206</td>\n",
       "      <td>30</td>\n",
       "      <td>2023-10-25 23:32:46</td>\n",
       "      <td>Inside Sales</td>\n",
       "      <td>7</td>\n",
       "      <td>5</td>\n",
       "      <td>7550.16</td>\n",
       "      <td>1088.58</td>\n",
       "      <td>S</td>\n",
       "    </tr>\n",
       "    <tr>\n",
       "      <th>4</th>\n",
       "      <td>507c0bfb67895d773e3f8bd33b861d09</td>\n",
       "      <td>Costa Rica</td>\n",
       "      <td>Standard</td>\n",
       "      <td>Inside Sales</td>\n",
       "      <td>Customer</td>\n",
       "      <td>AMERICAS</td>\n",
       "      <td>6531</td>\n",
       "      <td>312</td>\n",
       "      <td>61054000.0</td>\n",
       "      <td>2</td>\n",
       "      <td>...</td>\n",
       "      <td>6493</td>\n",
       "      <td>611</td>\n",
       "      <td>31</td>\n",
       "      <td>2023-11-17 04:16:51</td>\n",
       "      <td>Inside Sales</td>\n",
       "      <td>10</td>\n",
       "      <td>1</td>\n",
       "      <td>4688.33</td>\n",
       "      <td>1593.70</td>\n",
       "      <td>S</td>\n",
       "    </tr>\n",
       "    <tr>\n",
       "      <th>5</th>\n",
       "      <td>b1267a5b953b7267de811510f838172b</td>\n",
       "      <td>Costa Rica</td>\n",
       "      <td>Standard</td>\n",
       "      <td>Inside Sales</td>\n",
       "      <td>Customer</td>\n",
       "      <td>AMERICAS</td>\n",
       "      <td>5943</td>\n",
       "      <td>25</td>\n",
       "      <td>4881000.0</td>\n",
       "      <td>1</td>\n",
       "      <td>...</td>\n",
       "      <td>583</td>\n",
       "      <td>3</td>\n",
       "      <td>5</td>\n",
       "      <td>2023-08-21 01:11:38</td>\n",
       "      <td>Webshop</td>\n",
       "      <td>5</td>\n",
       "      <td>4</td>\n",
       "      <td>971.96</td>\n",
       "      <td>198.63</td>\n",
       "      <td>S</td>\n",
       "    </tr>\n",
       "    <tr>\n",
       "      <th>6</th>\n",
       "      <td>3315ad169d4d2e9080f1377c44377c7c</td>\n",
       "      <td>Costa Rica</td>\n",
       "      <td>Standard</td>\n",
       "      <td>Reseller</td>\n",
       "      <td>Reseller</td>\n",
       "      <td>AMERICAS</td>\n",
       "      <td>7378</td>\n",
       "      <td>15</td>\n",
       "      <td>3013000.0</td>\n",
       "      <td>9</td>\n",
       "      <td>...</td>\n",
       "      <td>2181</td>\n",
       "      <td>311</td>\n",
       "      <td>7</td>\n",
       "      <td>2023-09-28 04:27:43</td>\n",
       "      <td>Reseller</td>\n",
       "      <td>7</td>\n",
       "      <td>15</td>\n",
       "      <td>66581.67</td>\n",
       "      <td>837.31</td>\n",
       "      <td>S</td>\n",
       "    </tr>\n",
       "    <tr>\n",
       "      <th>7</th>\n",
       "      <td>8ca7b69eda1a06b32e60fff1c6db3b28</td>\n",
       "      <td>Costa Rica</td>\n",
       "      <td>Standard</td>\n",
       "      <td>Inside Sales</td>\n",
       "      <td>Customer</td>\n",
       "      <td>AMERICAS</td>\n",
       "      <td>1</td>\n",
       "      <td>717</td>\n",
       "      <td>159214000.0</td>\n",
       "      <td>1</td>\n",
       "      <td>...</td>\n",
       "      <td>2415</td>\n",
       "      <td>244</td>\n",
       "      <td>4</td>\n",
       "      <td>2023-12-22 06:27:18</td>\n",
       "      <td>Other</td>\n",
       "      <td>12</td>\n",
       "      <td>6</td>\n",
       "      <td>2986.48</td>\n",
       "      <td>211.88</td>\n",
       "      <td>S</td>\n",
       "    </tr>\n",
       "    <tr>\n",
       "      <th>8</th>\n",
       "      <td>5bd2eea4e2320b9246b41a8f54fb02d2</td>\n",
       "      <td>Costa Rica</td>\n",
       "      <td>SMB</td>\n",
       "      <td>Inside Sales</td>\n",
       "      <td>Customer</td>\n",
       "      <td>AMERICAS</td>\n",
       "      <td>8111</td>\n",
       "      <td>5</td>\n",
       "      <td>934000.0</td>\n",
       "      <td>3</td>\n",
       "      <td>...</td>\n",
       "      <td>22037</td>\n",
       "      <td>3766</td>\n",
       "      <td>1311</td>\n",
       "      <td>2023-09-22 01:48:17</td>\n",
       "      <td>Inside Sales</td>\n",
       "      <td>9</td>\n",
       "      <td>4</td>\n",
       "      <td>46022.86</td>\n",
       "      <td>9129.48</td>\n",
       "      <td>S</td>\n",
       "    </tr>\n",
       "    <tr>\n",
       "      <th>9</th>\n",
       "      <td>bbfb03bca60fb0185be3f36d12c99b3f</td>\n",
       "      <td>Costa Rica</td>\n",
       "      <td>Standard</td>\n",
       "      <td>Inside Sales</td>\n",
       "      <td>Customer</td>\n",
       "      <td>AMERICAS</td>\n",
       "      <td>8731</td>\n",
       "      <td>22</td>\n",
       "      <td>4308000.0</td>\n",
       "      <td>2</td>\n",
       "      <td>...</td>\n",
       "      <td>4064</td>\n",
       "      <td>672</td>\n",
       "      <td>15</td>\n",
       "      <td>2023-12-20 01:21:26</td>\n",
       "      <td>Inside Sales</td>\n",
       "      <td>15</td>\n",
       "      <td>4</td>\n",
       "      <td>12584.99</td>\n",
       "      <td>1308.89</td>\n",
       "      <td>S</td>\n",
       "    </tr>\n",
       "  </tbody>\n",
       "</table>\n",
       "<p>10 rows × 21 columns</p>\n",
       "</div>"
      ],
      "text/plain": [
       "                         account_id country_name account_category  \\\n",
       "0  ac6a99474410f1c59c91da3f0cf9cf3f        Tonga         Standard   \n",
       "1  1cc66628ed41f3db5a55195e93277a04   Costa Rica         Standard   \n",
       "2  db5f3cdd5629b9591b720b9b7e077df2   Costa Rica         Standard   \n",
       "3  bebb4028688f519f36ed220855b0a62f   Costa Rica         Standard   \n",
       "4  507c0bfb67895d773e3f8bd33b861d09   Costa Rica         Standard   \n",
       "5  b1267a5b953b7267de811510f838172b   Costa Rica         Standard   \n",
       "6  3315ad169d4d2e9080f1377c44377c7c   Costa Rica         Standard   \n",
       "7  8ca7b69eda1a06b32e60fff1c6db3b28   Costa Rica         Standard   \n",
       "8  5bd2eea4e2320b9246b41a8f54fb02d2   Costa Rica              SMB   \n",
       "9  bbfb03bca60fb0185be3f36d12c99b3f   Costa Rica         Standard   \n",
       "\n",
       "  bi_account_classification      customer_type    region  sic_code  \\\n",
       "0              Inside Sales           Customer      APAC      7381   \n",
       "1              Inside Sales           Customer  AMERICAS      5049   \n",
       "2              Inside Sales           Customer  AMERICAS      7389   \n",
       "3                  Reseller  End-User Reseller  AMERICAS      8711   \n",
       "4              Inside Sales           Customer  AMERICAS      6531   \n",
       "5              Inside Sales           Customer  AMERICAS      5943   \n",
       "6                  Reseller           Reseller  AMERICAS      7378   \n",
       "7              Inside Sales           Customer  AMERICAS         1   \n",
       "8              Inside Sales           Customer  AMERICAS      8111   \n",
       "9              Inside Sales           Customer  AMERICAS      8731   \n",
       "\n",
       "   employee_number  revenue_in_eur  number_distinct_active_licenses  ...  \\\n",
       "0                8       1502000.0                                1  ...   \n",
       "1               11       1814000.0                                1  ...   \n",
       "2               16      13444000.0                                1  ...   \n",
       "3               36       7066000.0                                3  ...   \n",
       "4              312      61054000.0                                2  ...   \n",
       "5               25       4881000.0                                1  ...   \n",
       "6               15       3013000.0                                9  ...   \n",
       "7              717     159214000.0                                1  ...   \n",
       "8                5        934000.0                                3  ...   \n",
       "9               22       4308000.0                                2  ...   \n",
       "\n",
       "  total_connections_12m  total_endpoints_12m  total_devices_12m  \\\n",
       "0                    54                    4                  2   \n",
       "1                  3385                  158                 51   \n",
       "2                    12                    2                  2   \n",
       "3                  1724                  206                 30   \n",
       "4                  6493                  611                 31   \n",
       "5                   583                    3                  5   \n",
       "6                  2181                  311                  7   \n",
       "7                  2415                  244                  4   \n",
       "8                 22037                 3766               1311   \n",
       "9                  4064                  672                 15   \n",
       "\n",
       "   last_invoice_date_created current_sales_channel age_customer  \\\n",
       "0        2023-11-23 01:57:47               Webshop            6   \n",
       "1        2023-10-07 19:35:11               Webshop            1   \n",
       "2        2023-12-02 02:03:05               Webshop            2   \n",
       "3        2023-10-25 23:32:46          Inside Sales            7   \n",
       "4        2023-11-17 04:16:51          Inside Sales           10   \n",
       "5        2023-08-21 01:11:38               Webshop            5   \n",
       "6        2023-09-28 04:27:43              Reseller            7   \n",
       "7        2023-12-22 06:27:18                 Other           12   \n",
       "8        2023-09-22 01:48:17          Inside Sales            9   \n",
       "9        2023-12-20 01:21:26          Inside Sales           15   \n",
       "\n",
       "   number_renewals  account_value_in_eur  billings_ltm_prorated  \\\n",
       "0                5               2532.84                 466.47   \n",
       "1                0               1298.15                 972.57   \n",
       "2                1                155.83                  76.69   \n",
       "3                5               7550.16                1088.58   \n",
       "4                1               4688.33                1593.70   \n",
       "5                4                971.96                 198.63   \n",
       "6               15              66581.67                 837.31   \n",
       "7                6               2986.48                 211.88   \n",
       "8                4              46022.86                9129.48   \n",
       "9                4              12584.99                1308.89   \n",
       "\n",
       "   business_model  \n",
       "0               S  \n",
       "1               S  \n",
       "2               S  \n",
       "3               S  \n",
       "4               S  \n",
       "5               S  \n",
       "6               S  \n",
       "7               S  \n",
       "8               S  \n",
       "9               S  \n",
       "\n",
       "[10 rows x 21 columns]"
      ]
     },
     "execution_count": 4,
     "metadata": {},
     "output_type": "execute_result"
    }
   ],
   "source": [
    "df.head(10)"
   ]
  },
  {
   "cell_type": "markdown",
   "metadata": {},
   "source": [
    "## Data Preprocessing"
   ]
  },
  {
   "cell_type": "code",
   "execution_count": 5,
   "metadata": {},
   "outputs": [],
   "source": [
    "df.drop(columns=['business_model', 'last_invoice_date_created'], inplace=True)"
   ]
  },
  {
   "cell_type": "code",
   "execution_count": 6,
   "metadata": {},
   "outputs": [],
   "source": [
    "# Define a dictionary to map SIC code ranges to major industry groups\n",
    "major_groups = {\n",
    "    range(1, 10): 'Agriculture, Forestry, and Fishing',\n",
    "    range(10, 15): 'Mining',\n",
    "    range(15, 18): 'Construction',\n",
    "    range(20, 40): 'Manufacturing',\n",
    "    range(40, 50): 'Transportation, Communications, Electric, Gas, and Sanitary Services',\n",
    "    range(50, 52): 'Wholesale Trade',\n",
    "    range(52, 60): 'Retail Trade',\n",
    "    range(60, 68): 'Finance, Insurance, and Real Estate',\n",
    "    range(70, 90): 'Services',\n",
    "    range(90, 100): 'Public Administration'\n",
    "}\n",
    "\n",
    "# Map SIC code ranges to major industry group descriptions\n",
    "def map_to_major_group(sic_code):\n",
    "    for group_range, description in major_groups.items():\n",
    "        if sic_code // 100 in group_range:\n",
    "            return description\n",
    "    return 'Unknown'"
   ]
  },
  {
   "cell_type": "code",
   "execution_count": 7,
   "metadata": {},
   "outputs": [],
   "source": [
    "df['industry'] = df['sic_code'].apply(map_to_major_group)\n",
    "df.drop(columns=['account_id','country_name','sic_code'], inplace=True)"
   ]
  },
  {
   "cell_type": "code",
   "execution_count": 8,
   "metadata": {},
   "outputs": [
    {
     "data": {
      "text/html": [
       "<div>\n",
       "<style scoped>\n",
       "    .dataframe tbody tr th:only-of-type {\n",
       "        vertical-align: middle;\n",
       "    }\n",
       "\n",
       "    .dataframe tbody tr th {\n",
       "        vertical-align: top;\n",
       "    }\n",
       "\n",
       "    .dataframe thead th {\n",
       "        text-align: right;\n",
       "    }\n",
       "</style>\n",
       "<table border=\"1\" class=\"dataframe\">\n",
       "  <thead>\n",
       "    <tr style=\"text-align: right;\">\n",
       "      <th></th>\n",
       "      <th>account_category</th>\n",
       "      <th>bi_account_classification</th>\n",
       "      <th>customer_type</th>\n",
       "      <th>region</th>\n",
       "      <th>employee_number</th>\n",
       "      <th>revenue_in_eur</th>\n",
       "      <th>number_distinct_active_licenses</th>\n",
       "      <th>major_edition</th>\n",
       "      <th>total_connections_12m</th>\n",
       "      <th>total_endpoints_12m</th>\n",
       "      <th>total_devices_12m</th>\n",
       "      <th>current_sales_channel</th>\n",
       "      <th>age_customer</th>\n",
       "      <th>number_renewals</th>\n",
       "      <th>account_value_in_eur</th>\n",
       "      <th>billings_ltm_prorated</th>\n",
       "      <th>industry</th>\n",
       "    </tr>\n",
       "  </thead>\n",
       "  <tbody>\n",
       "    <tr>\n",
       "      <th>0</th>\n",
       "      <td>Standard</td>\n",
       "      <td>Inside Sales</td>\n",
       "      <td>Customer</td>\n",
       "      <td>APAC</td>\n",
       "      <td>8</td>\n",
       "      <td>1502000.0</td>\n",
       "      <td>1</td>\n",
       "      <td>Business</td>\n",
       "      <td>54</td>\n",
       "      <td>4</td>\n",
       "      <td>2</td>\n",
       "      <td>Webshop</td>\n",
       "      <td>6</td>\n",
       "      <td>5</td>\n",
       "      <td>2532.84</td>\n",
       "      <td>466.47</td>\n",
       "      <td>Services</td>\n",
       "    </tr>\n",
       "    <tr>\n",
       "      <th>1</th>\n",
       "      <td>Standard</td>\n",
       "      <td>Inside Sales</td>\n",
       "      <td>Customer</td>\n",
       "      <td>AMERICAS</td>\n",
       "      <td>11</td>\n",
       "      <td>1814000.0</td>\n",
       "      <td>1</td>\n",
       "      <td>Premium</td>\n",
       "      <td>3385</td>\n",
       "      <td>158</td>\n",
       "      <td>51</td>\n",
       "      <td>Webshop</td>\n",
       "      <td>1</td>\n",
       "      <td>0</td>\n",
       "      <td>1298.15</td>\n",
       "      <td>972.57</td>\n",
       "      <td>Wholesale Trade</td>\n",
       "    </tr>\n",
       "    <tr>\n",
       "      <th>2</th>\n",
       "      <td>Standard</td>\n",
       "      <td>Inside Sales</td>\n",
       "      <td>Customer</td>\n",
       "      <td>AMERICAS</td>\n",
       "      <td>16</td>\n",
       "      <td>13444000.0</td>\n",
       "      <td>1</td>\n",
       "      <td>Remote Access</td>\n",
       "      <td>12</td>\n",
       "      <td>2</td>\n",
       "      <td>2</td>\n",
       "      <td>Webshop</td>\n",
       "      <td>2</td>\n",
       "      <td>1</td>\n",
       "      <td>155.83</td>\n",
       "      <td>76.69</td>\n",
       "      <td>Services</td>\n",
       "    </tr>\n",
       "    <tr>\n",
       "      <th>3</th>\n",
       "      <td>Standard</td>\n",
       "      <td>Reseller</td>\n",
       "      <td>End-User Reseller</td>\n",
       "      <td>AMERICAS</td>\n",
       "      <td>36</td>\n",
       "      <td>7066000.0</td>\n",
       "      <td>3</td>\n",
       "      <td>Corporate</td>\n",
       "      <td>1724</td>\n",
       "      <td>206</td>\n",
       "      <td>30</td>\n",
       "      <td>Inside Sales</td>\n",
       "      <td>7</td>\n",
       "      <td>5</td>\n",
       "      <td>7550.16</td>\n",
       "      <td>1088.58</td>\n",
       "      <td>Services</td>\n",
       "    </tr>\n",
       "    <tr>\n",
       "      <th>4</th>\n",
       "      <td>Standard</td>\n",
       "      <td>Inside Sales</td>\n",
       "      <td>Customer</td>\n",
       "      <td>AMERICAS</td>\n",
       "      <td>312</td>\n",
       "      <td>61054000.0</td>\n",
       "      <td>2</td>\n",
       "      <td>Corporate</td>\n",
       "      <td>6493</td>\n",
       "      <td>611</td>\n",
       "      <td>31</td>\n",
       "      <td>Inside Sales</td>\n",
       "      <td>10</td>\n",
       "      <td>1</td>\n",
       "      <td>4688.33</td>\n",
       "      <td>1593.70</td>\n",
       "      <td>Finance, Insurance, and Real Estate</td>\n",
       "    </tr>\n",
       "    <tr>\n",
       "      <th>5</th>\n",
       "      <td>Standard</td>\n",
       "      <td>Inside Sales</td>\n",
       "      <td>Customer</td>\n",
       "      <td>AMERICAS</td>\n",
       "      <td>25</td>\n",
       "      <td>4881000.0</td>\n",
       "      <td>1</td>\n",
       "      <td>Remote Access</td>\n",
       "      <td>583</td>\n",
       "      <td>3</td>\n",
       "      <td>5</td>\n",
       "      <td>Webshop</td>\n",
       "      <td>5</td>\n",
       "      <td>4</td>\n",
       "      <td>971.96</td>\n",
       "      <td>198.63</td>\n",
       "      <td>Retail Trade</td>\n",
       "    </tr>\n",
       "    <tr>\n",
       "      <th>6</th>\n",
       "      <td>Standard</td>\n",
       "      <td>Reseller</td>\n",
       "      <td>Reseller</td>\n",
       "      <td>AMERICAS</td>\n",
       "      <td>15</td>\n",
       "      <td>3013000.0</td>\n",
       "      <td>9</td>\n",
       "      <td>Corporate</td>\n",
       "      <td>2181</td>\n",
       "      <td>311</td>\n",
       "      <td>7</td>\n",
       "      <td>Reseller</td>\n",
       "      <td>7</td>\n",
       "      <td>15</td>\n",
       "      <td>66581.67</td>\n",
       "      <td>837.31</td>\n",
       "      <td>Services</td>\n",
       "    </tr>\n",
       "    <tr>\n",
       "      <th>7</th>\n",
       "      <td>Standard</td>\n",
       "      <td>Inside Sales</td>\n",
       "      <td>Customer</td>\n",
       "      <td>AMERICAS</td>\n",
       "      <td>717</td>\n",
       "      <td>159214000.0</td>\n",
       "      <td>1</td>\n",
       "      <td>Business</td>\n",
       "      <td>2415</td>\n",
       "      <td>244</td>\n",
       "      <td>4</td>\n",
       "      <td>Other</td>\n",
       "      <td>12</td>\n",
       "      <td>6</td>\n",
       "      <td>2986.48</td>\n",
       "      <td>211.88</td>\n",
       "      <td>Unknown</td>\n",
       "    </tr>\n",
       "    <tr>\n",
       "      <th>8</th>\n",
       "      <td>SMB</td>\n",
       "      <td>Inside Sales</td>\n",
       "      <td>Customer</td>\n",
       "      <td>AMERICAS</td>\n",
       "      <td>5</td>\n",
       "      <td>934000.0</td>\n",
       "      <td>3</td>\n",
       "      <td>Corporate</td>\n",
       "      <td>22037</td>\n",
       "      <td>3766</td>\n",
       "      <td>1311</td>\n",
       "      <td>Inside Sales</td>\n",
       "      <td>9</td>\n",
       "      <td>4</td>\n",
       "      <td>46022.86</td>\n",
       "      <td>9129.48</td>\n",
       "      <td>Services</td>\n",
       "    </tr>\n",
       "    <tr>\n",
       "      <th>9</th>\n",
       "      <td>Standard</td>\n",
       "      <td>Inside Sales</td>\n",
       "      <td>Customer</td>\n",
       "      <td>AMERICAS</td>\n",
       "      <td>22</td>\n",
       "      <td>4308000.0</td>\n",
       "      <td>2</td>\n",
       "      <td>Corporate</td>\n",
       "      <td>4064</td>\n",
       "      <td>672</td>\n",
       "      <td>15</td>\n",
       "      <td>Inside Sales</td>\n",
       "      <td>15</td>\n",
       "      <td>4</td>\n",
       "      <td>12584.99</td>\n",
       "      <td>1308.89</td>\n",
       "      <td>Services</td>\n",
       "    </tr>\n",
       "  </tbody>\n",
       "</table>\n",
       "</div>"
      ],
      "text/plain": [
       "  account_category bi_account_classification      customer_type    region  \\\n",
       "0         Standard              Inside Sales           Customer      APAC   \n",
       "1         Standard              Inside Sales           Customer  AMERICAS   \n",
       "2         Standard              Inside Sales           Customer  AMERICAS   \n",
       "3         Standard                  Reseller  End-User Reseller  AMERICAS   \n",
       "4         Standard              Inside Sales           Customer  AMERICAS   \n",
       "5         Standard              Inside Sales           Customer  AMERICAS   \n",
       "6         Standard                  Reseller           Reseller  AMERICAS   \n",
       "7         Standard              Inside Sales           Customer  AMERICAS   \n",
       "8              SMB              Inside Sales           Customer  AMERICAS   \n",
       "9         Standard              Inside Sales           Customer  AMERICAS   \n",
       "\n",
       "   employee_number  revenue_in_eur  number_distinct_active_licenses  \\\n",
       "0                8       1502000.0                                1   \n",
       "1               11       1814000.0                                1   \n",
       "2               16      13444000.0                                1   \n",
       "3               36       7066000.0                                3   \n",
       "4              312      61054000.0                                2   \n",
       "5               25       4881000.0                                1   \n",
       "6               15       3013000.0                                9   \n",
       "7              717     159214000.0                                1   \n",
       "8                5        934000.0                                3   \n",
       "9               22       4308000.0                                2   \n",
       "\n",
       "   major_edition  total_connections_12m  total_endpoints_12m  \\\n",
       "0       Business                     54                    4   \n",
       "1        Premium                   3385                  158   \n",
       "2  Remote Access                     12                    2   \n",
       "3      Corporate                   1724                  206   \n",
       "4      Corporate                   6493                  611   \n",
       "5  Remote Access                    583                    3   \n",
       "6      Corporate                   2181                  311   \n",
       "7       Business                   2415                  244   \n",
       "8      Corporate                  22037                 3766   \n",
       "9      Corporate                   4064                  672   \n",
       "\n",
       "   total_devices_12m current_sales_channel  age_customer  number_renewals  \\\n",
       "0                  2               Webshop             6                5   \n",
       "1                 51               Webshop             1                0   \n",
       "2                  2               Webshop             2                1   \n",
       "3                 30          Inside Sales             7                5   \n",
       "4                 31          Inside Sales            10                1   \n",
       "5                  5               Webshop             5                4   \n",
       "6                  7              Reseller             7               15   \n",
       "7                  4                 Other            12                6   \n",
       "8               1311          Inside Sales             9                4   \n",
       "9                 15          Inside Sales            15                4   \n",
       "\n",
       "   account_value_in_eur  billings_ltm_prorated  \\\n",
       "0               2532.84                 466.47   \n",
       "1               1298.15                 972.57   \n",
       "2                155.83                  76.69   \n",
       "3               7550.16                1088.58   \n",
       "4               4688.33                1593.70   \n",
       "5                971.96                 198.63   \n",
       "6              66581.67                 837.31   \n",
       "7               2986.48                 211.88   \n",
       "8              46022.86                9129.48   \n",
       "9              12584.99                1308.89   \n",
       "\n",
       "                              industry  \n",
       "0                             Services  \n",
       "1                      Wholesale Trade  \n",
       "2                             Services  \n",
       "3                             Services  \n",
       "4  Finance, Insurance, and Real Estate  \n",
       "5                         Retail Trade  \n",
       "6                             Services  \n",
       "7                              Unknown  \n",
       "8                             Services  \n",
       "9                             Services  "
      ]
     },
     "execution_count": 8,
     "metadata": {},
     "output_type": "execute_result"
    }
   ],
   "source": [
    "df.head(10)"
   ]
  },
  {
   "cell_type": "code",
   "execution_count": 9,
   "metadata": {},
   "outputs": [],
   "source": [
    "# Preprocess the data\n",
    "\n",
    "# Separate numeric and categorical columns\n",
    "cat_cols = ['account_category', 'bi_account_classification', 'customer_type', \n",
    "            'region', 'major_edition', 'current_sales_channel', 'industry']\n",
    "\n",
    "num_cols = [col for col in df.columns if col not in cat_cols]\n",
    "\n",
    "df_cols = num_cols + cat_cols"
   ]
  },
  {
   "cell_type": "code",
   "execution_count": 10,
   "metadata": {},
   "outputs": [],
   "source": [
    "# Preprocess numeric data\n",
    "scaler = MinMaxScaler()\n",
    "df[num_cols] = scaler.fit_transform(df[num_cols])\n",
    "\n",
    "# Preprocess categorical data\n",
    "le = LabelEncoder()\n",
    "for col in cat_cols:\n",
    "    df[col] = le.fit_transform(df[col])"
   ]
  },
  {
   "cell_type": "code",
   "execution_count": 11,
   "metadata": {},
   "outputs": [
    {
     "data": {
      "text/html": [
       "<div>\n",
       "<style scoped>\n",
       "    .dataframe tbody tr th:only-of-type {\n",
       "        vertical-align: middle;\n",
       "    }\n",
       "\n",
       "    .dataframe tbody tr th {\n",
       "        vertical-align: top;\n",
       "    }\n",
       "\n",
       "    .dataframe thead th {\n",
       "        text-align: right;\n",
       "    }\n",
       "</style>\n",
       "<table border=\"1\" class=\"dataframe\">\n",
       "  <thead>\n",
       "    <tr style=\"text-align: right;\">\n",
       "      <th></th>\n",
       "      <th>account_category</th>\n",
       "      <th>bi_account_classification</th>\n",
       "      <th>customer_type</th>\n",
       "      <th>region</th>\n",
       "      <th>employee_number</th>\n",
       "      <th>revenue_in_eur</th>\n",
       "      <th>number_distinct_active_licenses</th>\n",
       "      <th>major_edition</th>\n",
       "      <th>total_connections_12m</th>\n",
       "      <th>total_endpoints_12m</th>\n",
       "      <th>total_devices_12m</th>\n",
       "      <th>current_sales_channel</th>\n",
       "      <th>age_customer</th>\n",
       "      <th>number_renewals</th>\n",
       "      <th>account_value_in_eur</th>\n",
       "      <th>billings_ltm_prorated</th>\n",
       "      <th>industry</th>\n",
       "    </tr>\n",
       "  </thead>\n",
       "  <tbody>\n",
       "    <tr>\n",
       "      <th>0</th>\n",
       "      <td>4</td>\n",
       "      <td>1</td>\n",
       "      <td>0</td>\n",
       "      <td>1</td>\n",
       "      <td>0.000013</td>\n",
       "      <td>0.000003</td>\n",
       "      <td>0.000000</td>\n",
       "      <td>0</td>\n",
       "      <td>0.000046</td>\n",
       "      <td>0.000038</td>\n",
       "      <td>0.000076</td>\n",
       "      <td>5</td>\n",
       "      <td>0.294118</td>\n",
       "      <td>0.023585</td>\n",
       "      <td>0.001077</td>\n",
       "      <td>0.000670</td>\n",
       "      <td>7</td>\n",
       "    </tr>\n",
       "    <tr>\n",
       "      <th>1</th>\n",
       "      <td>4</td>\n",
       "      <td>1</td>\n",
       "      <td>0</td>\n",
       "      <td>0</td>\n",
       "      <td>0.000018</td>\n",
       "      <td>0.000004</td>\n",
       "      <td>0.000000</td>\n",
       "      <td>3</td>\n",
       "      <td>0.002967</td>\n",
       "      <td>0.002010</td>\n",
       "      <td>0.003819</td>\n",
       "      <td>5</td>\n",
       "      <td>0.000000</td>\n",
       "      <td>0.000000</td>\n",
       "      <td>0.000552</td>\n",
       "      <td>0.001398</td>\n",
       "      <td>10</td>\n",
       "    </tr>\n",
       "    <tr>\n",
       "      <th>2</th>\n",
       "      <td>4</td>\n",
       "      <td>1</td>\n",
       "      <td>0</td>\n",
       "      <td>0</td>\n",
       "      <td>0.000028</td>\n",
       "      <td>0.000030</td>\n",
       "      <td>0.000000</td>\n",
       "      <td>4</td>\n",
       "      <td>0.000010</td>\n",
       "      <td>0.000013</td>\n",
       "      <td>0.000076</td>\n",
       "      <td>5</td>\n",
       "      <td>0.058824</td>\n",
       "      <td>0.004717</td>\n",
       "      <td>0.000066</td>\n",
       "      <td>0.000109</td>\n",
       "      <td>7</td>\n",
       "    </tr>\n",
       "    <tr>\n",
       "      <th>3</th>\n",
       "      <td>4</td>\n",
       "      <td>4</td>\n",
       "      <td>1</td>\n",
       "      <td>0</td>\n",
       "      <td>0.000064</td>\n",
       "      <td>0.000016</td>\n",
       "      <td>0.012987</td>\n",
       "      <td>1</td>\n",
       "      <td>0.001511</td>\n",
       "      <td>0.002625</td>\n",
       "      <td>0.002215</td>\n",
       "      <td>0</td>\n",
       "      <td>0.352941</td>\n",
       "      <td>0.023585</td>\n",
       "      <td>0.003210</td>\n",
       "      <td>0.001565</td>\n",
       "      <td>7</td>\n",
       "    </tr>\n",
       "    <tr>\n",
       "      <th>4</th>\n",
       "      <td>4</td>\n",
       "      <td>1</td>\n",
       "      <td>0</td>\n",
       "      <td>0</td>\n",
       "      <td>0.000573</td>\n",
       "      <td>0.000139</td>\n",
       "      <td>0.006494</td>\n",
       "      <td>1</td>\n",
       "      <td>0.005692</td>\n",
       "      <td>0.007810</td>\n",
       "      <td>0.002291</td>\n",
       "      <td>0</td>\n",
       "      <td>0.529412</td>\n",
       "      <td>0.004717</td>\n",
       "      <td>0.001993</td>\n",
       "      <td>0.002292</td>\n",
       "      <td>2</td>\n",
       "    </tr>\n",
       "    <tr>\n",
       "      <th>5</th>\n",
       "      <td>4</td>\n",
       "      <td>1</td>\n",
       "      <td>0</td>\n",
       "      <td>0</td>\n",
       "      <td>0.000044</td>\n",
       "      <td>0.000011</td>\n",
       "      <td>0.000000</td>\n",
       "      <td>4</td>\n",
       "      <td>0.000510</td>\n",
       "      <td>0.000026</td>\n",
       "      <td>0.000306</td>\n",
       "      <td>5</td>\n",
       "      <td>0.235294</td>\n",
       "      <td>0.018868</td>\n",
       "      <td>0.000413</td>\n",
       "      <td>0.000284</td>\n",
       "      <td>6</td>\n",
       "    </tr>\n",
       "    <tr>\n",
       "      <th>6</th>\n",
       "      <td>4</td>\n",
       "      <td>4</td>\n",
       "      <td>3</td>\n",
       "      <td>0</td>\n",
       "      <td>0.000026</td>\n",
       "      <td>0.000007</td>\n",
       "      <td>0.051948</td>\n",
       "      <td>1</td>\n",
       "      <td>0.001912</td>\n",
       "      <td>0.003969</td>\n",
       "      <td>0.000458</td>\n",
       "      <td>4</td>\n",
       "      <td>0.352941</td>\n",
       "      <td>0.070755</td>\n",
       "      <td>0.028307</td>\n",
       "      <td>0.001204</td>\n",
       "      <td>7</td>\n",
       "    </tr>\n",
       "    <tr>\n",
       "      <th>7</th>\n",
       "      <td>4</td>\n",
       "      <td>1</td>\n",
       "      <td>0</td>\n",
       "      <td>0</td>\n",
       "      <td>0.001319</td>\n",
       "      <td>0.000361</td>\n",
       "      <td>0.000000</td>\n",
       "      <td>0</td>\n",
       "      <td>0.002117</td>\n",
       "      <td>0.003111</td>\n",
       "      <td>0.000229</td>\n",
       "      <td>3</td>\n",
       "      <td>0.647059</td>\n",
       "      <td>0.028302</td>\n",
       "      <td>0.001270</td>\n",
       "      <td>0.000304</td>\n",
       "      <td>9</td>\n",
       "    </tr>\n",
       "    <tr>\n",
       "      <th>8</th>\n",
       "      <td>3</td>\n",
       "      <td>1</td>\n",
       "      <td>0</td>\n",
       "      <td>0</td>\n",
       "      <td>0.000007</td>\n",
       "      <td>0.000002</td>\n",
       "      <td>0.012987</td>\n",
       "      <td>1</td>\n",
       "      <td>0.019322</td>\n",
       "      <td>0.048204</td>\n",
       "      <td>0.100053</td>\n",
       "      <td>0</td>\n",
       "      <td>0.470588</td>\n",
       "      <td>0.018868</td>\n",
       "      <td>0.019566</td>\n",
       "      <td>0.013138</td>\n",
       "      <td>7</td>\n",
       "    </tr>\n",
       "    <tr>\n",
       "      <th>9</th>\n",
       "      <td>4</td>\n",
       "      <td>1</td>\n",
       "      <td>0</td>\n",
       "      <td>0</td>\n",
       "      <td>0.000039</td>\n",
       "      <td>0.000010</td>\n",
       "      <td>0.006494</td>\n",
       "      <td>1</td>\n",
       "      <td>0.003563</td>\n",
       "      <td>0.008591</td>\n",
       "      <td>0.001069</td>\n",
       "      <td>0</td>\n",
       "      <td>0.823529</td>\n",
       "      <td>0.018868</td>\n",
       "      <td>0.005350</td>\n",
       "      <td>0.001882</td>\n",
       "      <td>7</td>\n",
       "    </tr>\n",
       "  </tbody>\n",
       "</table>\n",
       "</div>"
      ],
      "text/plain": [
       "   account_category  bi_account_classification  customer_type  region  \\\n",
       "0                 4                          1              0       1   \n",
       "1                 4                          1              0       0   \n",
       "2                 4                          1              0       0   \n",
       "3                 4                          4              1       0   \n",
       "4                 4                          1              0       0   \n",
       "5                 4                          1              0       0   \n",
       "6                 4                          4              3       0   \n",
       "7                 4                          1              0       0   \n",
       "8                 3                          1              0       0   \n",
       "9                 4                          1              0       0   \n",
       "\n",
       "   employee_number  revenue_in_eur  number_distinct_active_licenses  \\\n",
       "0         0.000013        0.000003                         0.000000   \n",
       "1         0.000018        0.000004                         0.000000   \n",
       "2         0.000028        0.000030                         0.000000   \n",
       "3         0.000064        0.000016                         0.012987   \n",
       "4         0.000573        0.000139                         0.006494   \n",
       "5         0.000044        0.000011                         0.000000   \n",
       "6         0.000026        0.000007                         0.051948   \n",
       "7         0.001319        0.000361                         0.000000   \n",
       "8         0.000007        0.000002                         0.012987   \n",
       "9         0.000039        0.000010                         0.006494   \n",
       "\n",
       "   major_edition  total_connections_12m  total_endpoints_12m  \\\n",
       "0              0               0.000046             0.000038   \n",
       "1              3               0.002967             0.002010   \n",
       "2              4               0.000010             0.000013   \n",
       "3              1               0.001511             0.002625   \n",
       "4              1               0.005692             0.007810   \n",
       "5              4               0.000510             0.000026   \n",
       "6              1               0.001912             0.003969   \n",
       "7              0               0.002117             0.003111   \n",
       "8              1               0.019322             0.048204   \n",
       "9              1               0.003563             0.008591   \n",
       "\n",
       "   total_devices_12m  current_sales_channel  age_customer  number_renewals  \\\n",
       "0           0.000076                      5      0.294118         0.023585   \n",
       "1           0.003819                      5      0.000000         0.000000   \n",
       "2           0.000076                      5      0.058824         0.004717   \n",
       "3           0.002215                      0      0.352941         0.023585   \n",
       "4           0.002291                      0      0.529412         0.004717   \n",
       "5           0.000306                      5      0.235294         0.018868   \n",
       "6           0.000458                      4      0.352941         0.070755   \n",
       "7           0.000229                      3      0.647059         0.028302   \n",
       "8           0.100053                      0      0.470588         0.018868   \n",
       "9           0.001069                      0      0.823529         0.018868   \n",
       "\n",
       "   account_value_in_eur  billings_ltm_prorated  industry  \n",
       "0              0.001077               0.000670         7  \n",
       "1              0.000552               0.001398        10  \n",
       "2              0.000066               0.000109         7  \n",
       "3              0.003210               0.001565         7  \n",
       "4              0.001993               0.002292         2  \n",
       "5              0.000413               0.000284         6  \n",
       "6              0.028307               0.001204         7  \n",
       "7              0.001270               0.000304         9  \n",
       "8              0.019566               0.013138         7  \n",
       "9              0.005350               0.001882         7  "
      ]
     },
     "execution_count": 11,
     "metadata": {},
     "output_type": "execute_result"
    }
   ],
   "source": [
    "df.head(10)"
   ]
  },
  {
   "cell_type": "code",
   "execution_count": 12,
   "metadata": {},
   "outputs": [],
   "source": [
    "# Extract features columns excluding 'account_id'\n",
    "features_df = df.copy()\n",
    "\n",
    "# Convert DataFrame to numpy array\n",
    "features = features_df.to_numpy()"
   ]
  },
  {
   "cell_type": "markdown",
   "metadata": {},
   "source": [
    "## Deep Embedding Clustering (DEC) Model"
   ]
  },
  {
   "cell_type": "code",
   "execution_count": 13,
   "metadata": {},
   "outputs": [],
   "source": [
    "class ClusteringLayer(Layer):\n",
    "    def __init__(self, n_clusters, **kwargs):\n",
    "        super(ClusteringLayer, self).__init__(**kwargs)\n",
    "        self.n_clusters = n_clusters\n",
    "\n",
    "    def build(self, input_shape):\n",
    "        self.clusters = self.add_weight(name='clusters',\n",
    "                                        shape=(self.n_clusters, input_shape[1]),\n",
    "                                        initializer='glorot_uniform')\n",
    "\n",
    "    def call(self, inputs, **kwargs):\n",
    "        q = 1.0 / (1.0 + (K.sum(K.square(K.expand_dims(inputs, axis=1) - self.clusters), axis=2) / 1.0))\n",
    "        q = q ** ((1.0 + 1.0) / 2.0)\n",
    "        q = K.transpose(K.transpose(q) / K.sum(q, axis=1))\n",
    "        return q\n",
    "\n",
    "class DEC:\n",
    "    def __init__(self, input_dim, encoding_dim, n_clusters, dropout_rate=0.2):\n",
    "        self.input_dim = input_dim\n",
    "        self.encoding_dim = encoding_dim\n",
    "        self.n_clusters = n_clusters\n",
    "        self.dropout_rate = dropout_rate\n",
    "        self.autoencoder, self.encoder = self.build_autoencoder()\n",
    "        self.model = self.build_dec_model()\n",
    "\n",
    "    def build_autoencoder(self):\n",
    "        input_layer = Input(shape=(self.input_dim,))\n",
    "        encoder = Dense(64, activation='relu')(input_layer)\n",
    "        encoder = Dropout(self.dropout_rate)(encoder)\n",
    "        encoder = Dense(self.encoding_dim, activation='relu', kernel_initializer='glorot_uniform')(encoder)\n",
    "\n",
    "        decoder = Dense(64, activation='relu', kernel_initializer='glorot_uniform')(encoder)\n",
    "        decoder = Dropout(self.dropout_rate)(decoder)\n",
    "        decoder = Dense(self.input_dim, activation='sigmoid', kernel_initializer='glorot_uniform')(decoder)\n",
    "\n",
    "        autoencoder = Model(inputs=input_layer, outputs=decoder)\n",
    "        autoencoder.compile(optimizer='adam', loss='mse')\n",
    "\n",
    "        encoder_model = Model(inputs=input_layer, outputs=encoder)\n",
    "        return autoencoder, encoder_model\n",
    "\n",
    "    def build_dec_model(self):\n",
    "        clustering_layer = ClusteringLayer(self.n_clusters, name='clustering')(self.encoder.output)\n",
    "        model = Model(inputs=self.encoder.input, outputs=[clustering_layer, self.autoencoder.output])\n",
    "        model.compile(optimizer='adam', loss=['kld', 'mse'])\n",
    "        return model\n",
    "\n",
    "    def pretrain_autoencoder(self, data, epochs=50, batch_size=256):\n",
    "        early_stopping = EarlyStopping(monitor='loss', patience=5, restore_best_weights=True)\n",
    "        with tf.device('/GPU:0' if tf.config.list_physical_devices('GPU') else '/CPU:0'):\n",
    "            self.autoencoder.fit(data, data, epochs=epochs, batch_size=batch_size, shuffle=True, callbacks=[early_stopping])\n",
    "\n",
    "    def initialize_clusters(self, data):\n",
    "        with tf.device('/GPU:0' if tf.config.list_physical_devices('GPU') else '/CPU:0'):\n",
    "            encoded_data = self.encoder.predict(data)\n",
    "            kmeans = KMeans(n_clusters=self.n_clusters, n_init=20)\n",
    "            kmeans.fit(encoded_data)\n",
    "            initial_clusters = kmeans.cluster_centers_\n",
    "            self.model.get_layer(name='clustering').set_weights([initial_clusters])\n",
    "\n",
    "    def target_distribution(self, q):\n",
    "        weight = q ** 2 / q.sum(0)\n",
    "        return (weight.T / weight.sum(1)).T\n",
    "\n",
    "    def train_dec(self, data, maxiter=8000, update_interval=140, tol=0.001):\n",
    "        index = 0\n",
    "        y_pred_last = None\n",
    "        with tf.device('/GPU:0' if tf.config.list_physical_devices('GPU') else '/CPU:0'):\n",
    "            for ite in range(maxiter):\n",
    "                if ite % update_interval == 0:\n",
    "                    q, _ = self.model.predict(data, verbose=0)\n",
    "                    p = self.target_distribution(q)\n",
    "\n",
    "                    y_pred = q.argmax(1)\n",
    "                    if ite > 0 and np.sum(y_pred != y_pred_last) / len(y_pred) < tol:\n",
    "                        print('Reached tolerance threshold. Stopping training.')\n",
    "                        break\n",
    "                    y_pred_last = np.copy(y_pred)\n",
    "\n",
    "                idx = index * update_interval % data.shape[0]\n",
    "                loss = self.model.train_on_batch(x=data[idx:idx + update_interval],\n",
    "                                                 y=[p[idx:idx + update_interval], data[idx:idx + update_interval]])\n",
    "                index += 1\n",
    "                print('Iteration', ite, 'Loss:', loss)\n",
    "\n",
    "    def predict(self, data):\n",
    "        with tf.device('/GPU:0' if tf.config.list_physical_devices('GPU') else '/CPU:0'):\n",
    "            q, _ = self.model.predict(data)\n",
    "            return q.argmax(1)\n",
    "    \n",
    "    def summary(self):\n",
    "        print(\"Auto Encoder Summary:\")\n",
    "        self.autoencoder.summary()\n",
    "        print(\"DEC Model Summary:\")\n",
    "        self.model.summary()"
   ]
  },
  {
   "cell_type": "code",
   "execution_count": 14,
   "metadata": {},
   "outputs": [],
   "source": [
    "# Parameters\n",
    "input_dim = features.shape[1]\n",
    "encoding_dim = features.shape[1]\n",
    "n_clusters = 10\n",
    "dropout_rate = 0.2"
   ]
  },
  {
   "cell_type": "code",
   "execution_count": 15,
   "metadata": {},
   "outputs": [
    {
     "name": "stdout",
     "output_type": "stream",
     "text": [
      "Auto Encoder Summary:\n",
      "Model: \"model\"\n",
      "_________________________________________________________________\n",
      " Layer (type)                Output Shape              Param #   \n",
      "=================================================================\n",
      " input_1 (InputLayer)        [(None, 17)]              0         \n",
      "                                                                 \n",
      " dense (Dense)               (None, 64)                1152      \n",
      "                                                                 \n",
      " dropout (Dropout)           (None, 64)                0         \n",
      "                                                                 \n",
      " dense_1 (Dense)             (None, 17)                1105      \n",
      "                                                                 \n",
      " dense_2 (Dense)             (None, 64)                1152      \n",
      "                                                                 \n",
      " dropout_1 (Dropout)         (None, 64)                0         \n",
      "                                                                 \n",
      " dense_3 (Dense)             (None, 17)                1105      \n",
      "                                                                 \n",
      "=================================================================\n",
      "Total params: 4,514\n",
      "Trainable params: 4,514\n",
      "Non-trainable params: 0\n",
      "_________________________________________________________________\n",
      "DEC Model Summary:\n",
      "Model: \"model_2\"\n",
      "__________________________________________________________________________________________________\n",
      " Layer (type)                   Output Shape         Param #     Connected to                     \n",
      "==================================================================================================\n",
      " input_1 (InputLayer)           [(None, 17)]         0           []                               \n",
      "                                                                                                  \n",
      " dense (Dense)                  (None, 64)           1152        ['input_1[0][0]']                \n",
      "                                                                                                  \n",
      " dropout (Dropout)              (None, 64)           0           ['dense[0][0]']                  \n",
      "                                                                                                  \n",
      " dense_1 (Dense)                (None, 17)           1105        ['dropout[0][0]']                \n",
      "                                                                                                  \n",
      " dense_2 (Dense)                (None, 64)           1152        ['dense_1[0][0]']                \n",
      "                                                                                                  \n",
      " dropout_1 (Dropout)            (None, 64)           0           ['dense_2[0][0]']                \n",
      "                                                                                                  \n",
      " clustering (ClusteringLayer)   (None, 10)           170         ['dense_1[0][0]']                \n",
      "                                                                                                  \n",
      " dense_3 (Dense)                (None, 17)           1105        ['dropout_1[0][0]']              \n",
      "                                                                                                  \n",
      "==================================================================================================\n",
      "Total params: 4,684\n",
      "Trainable params: 4,684\n",
      "Non-trainable params: 0\n",
      "__________________________________________________________________________________________________\n"
     ]
    }
   ],
   "source": [
    "# Create DEC instance\n",
    "dec = DEC(input_dim, encoding_dim, n_clusters, dropout_rate)\n",
    "dec.summary()"
   ]
  },
  {
   "cell_type": "code",
   "execution_count": 16,
   "metadata": {},
   "outputs": [
    {
     "name": "stdout",
     "output_type": "stream",
     "text": [
      "Epoch 1/100\n",
      "391/391 [==============================] - 3s 2ms/step - loss: 3.0628\n",
      "Epoch 2/100\n",
      "391/391 [==============================] - 1s 2ms/step - loss: 2.9794\n",
      "Epoch 3/100\n",
      "391/391 [==============================] - 1s 2ms/step - loss: 2.9776\n",
      "Epoch 4/100\n",
      "391/391 [==============================] - 1s 2ms/step - loss: 2.9743\n",
      "Epoch 5/100\n",
      "391/391 [==============================] - 1s 2ms/step - loss: 2.9728\n",
      "Epoch 6/100\n",
      "391/391 [==============================] - 1s 2ms/step - loss: 2.9721\n",
      "Epoch 7/100\n",
      "391/391 [==============================] - 1s 2ms/step - loss: 2.9717\n",
      "Epoch 8/100\n",
      "391/391 [==============================] - 1s 2ms/step - loss: 2.9714\n",
      "Epoch 9/100\n",
      "391/391 [==============================] - 1s 2ms/step - loss: 2.9712\n",
      "Epoch 10/100\n",
      "391/391 [==============================] - 1s 2ms/step - loss: 2.9707\n",
      "Epoch 11/100\n",
      "391/391 [==============================] - 1s 2ms/step - loss: 2.9703\n",
      "Epoch 12/100\n",
      "391/391 [==============================] - 1s 2ms/step - loss: 2.9701\n",
      "Epoch 13/100\n",
      "391/391 [==============================] - 1s 2ms/step - loss: 2.9701\n",
      "Epoch 14/100\n",
      "391/391 [==============================] - 1s 2ms/step - loss: 2.9700\n",
      "Epoch 15/100\n",
      "391/391 [==============================] - 1s 2ms/step - loss: 2.9699\n",
      "Epoch 16/100\n",
      "391/391 [==============================] - 1s 2ms/step - loss: 2.9698\n",
      "Epoch 17/100\n",
      "391/391 [==============================] - 1s 2ms/step - loss: 2.9698\n",
      "Epoch 18/100\n",
      "391/391 [==============================] - 1s 2ms/step - loss: 2.9697\n",
      "Epoch 19/100\n",
      "391/391 [==============================] - 1s 2ms/step - loss: 2.9697\n",
      "Epoch 20/100\n",
      "391/391 [==============================] - 1s 2ms/step - loss: 2.9697\n",
      "Epoch 21/100\n",
      "391/391 [==============================] - 1s 2ms/step - loss: 2.9697\n",
      "Epoch 22/100\n",
      "391/391 [==============================] - 1s 2ms/step - loss: 2.9696\n",
      "Epoch 23/100\n",
      "391/391 [==============================] - 1s 2ms/step - loss: 2.9696\n",
      "Epoch 24/100\n",
      "391/391 [==============================] - 1s 2ms/step - loss: 2.9696\n",
      "Epoch 25/100\n",
      "391/391 [==============================] - 1s 2ms/step - loss: 2.9696\n",
      "Epoch 26/100\n",
      "391/391 [==============================] - 1s 2ms/step - loss: 2.9696\n",
      "Epoch 27/100\n",
      "391/391 [==============================] - 1s 2ms/step - loss: 2.9696\n",
      "Epoch 28/100\n",
      "391/391 [==============================] - 1s 2ms/step - loss: 2.9696\n",
      "Epoch 29/100\n",
      "391/391 [==============================] - 1s 2ms/step - loss: 2.9695\n",
      "Epoch 30/100\n",
      "391/391 [==============================] - 1s 2ms/step - loss: 2.9695\n",
      "Epoch 31/100\n",
      "391/391 [==============================] - 1s 2ms/step - loss: 2.9695\n",
      "Epoch 32/100\n",
      "391/391 [==============================] - 1s 2ms/step - loss: 2.9695\n",
      "Epoch 33/100\n",
      "391/391 [==============================] - 1s 2ms/step - loss: 2.9695\n",
      "Epoch 34/100\n",
      "391/391 [==============================] - 1s 2ms/step - loss: 2.9695\n",
      "Epoch 35/100\n",
      "391/391 [==============================] - 1s 2ms/step - loss: 2.9695\n",
      "Epoch 36/100\n",
      "391/391 [==============================] - 1s 2ms/step - loss: 2.9695\n",
      "Epoch 37/100\n",
      "391/391 [==============================] - 1s 2ms/step - loss: 2.9695\n",
      "Epoch 38/100\n",
      "391/391 [==============================] - 1s 2ms/step - loss: 2.9695\n",
      "Epoch 39/100\n",
      "391/391 [==============================] - 1s 2ms/step - loss: 2.9695\n",
      "Epoch 40/100\n",
      "391/391 [==============================] - 1s 2ms/step - loss: 2.9695\n",
      "Epoch 41/100\n",
      "391/391 [==============================] - 1s 2ms/step - loss: 2.9695\n",
      "Epoch 42/100\n",
      "391/391 [==============================] - 1s 2ms/step - loss: 2.9695\n",
      "Epoch 43/100\n",
      "391/391 [==============================] - 1s 2ms/step - loss: 2.9695\n",
      "Epoch 44/100\n",
      "391/391 [==============================] - 1s 2ms/step - loss: 2.9695\n",
      "Epoch 45/100\n",
      "391/391 [==============================] - 1s 2ms/step - loss: 2.9694\n",
      "Epoch 46/100\n",
      "391/391 [==============================] - 1s 2ms/step - loss: 2.9616\n",
      "Epoch 47/100\n",
      "391/391 [==============================] - 1s 2ms/step - loss: 2.9613\n",
      "Epoch 48/100\n",
      "391/391 [==============================] - 1s 2ms/step - loss: 2.9613\n",
      "Epoch 49/100\n",
      "391/391 [==============================] - 1s 2ms/step - loss: 2.9613\n",
      "Epoch 50/100\n",
      "391/391 [==============================] - 1s 2ms/step - loss: 2.9612\n",
      "Epoch 51/100\n",
      "391/391 [==============================] - 1s 2ms/step - loss: 2.9612\n",
      "Epoch 52/100\n",
      "391/391 [==============================] - 1s 2ms/step - loss: 2.9612\n",
      "Epoch 53/100\n",
      "391/391 [==============================] - 1s 2ms/step - loss: 2.9612\n",
      "Epoch 54/100\n",
      "391/391 [==============================] - 1s 2ms/step - loss: 2.9612\n",
      "Epoch 55/100\n",
      "391/391 [==============================] - 1s 2ms/step - loss: 2.9612\n",
      "Epoch 56/100\n",
      "391/391 [==============================] - 1s 2ms/step - loss: 2.9612\n",
      "Epoch 57/100\n",
      "391/391 [==============================] - 1s 2ms/step - loss: 2.9612\n",
      "Epoch 58/100\n",
      "391/391 [==============================] - 1s 2ms/step - loss: 2.9612\n",
      "Epoch 59/100\n",
      "391/391 [==============================] - 1s 2ms/step - loss: 2.9612\n",
      "Epoch 60/100\n",
      "391/391 [==============================] - 1s 2ms/step - loss: 2.9612\n",
      "Epoch 61/100\n",
      "391/391 [==============================] - 1s 2ms/step - loss: 2.9612\n",
      "Epoch 62/100\n",
      "391/391 [==============================] - 1s 2ms/step - loss: 2.9612\n",
      "Epoch 63/100\n",
      "391/391 [==============================] - 1s 2ms/step - loss: 2.9612\n",
      "Epoch 64/100\n",
      "391/391 [==============================] - 1s 2ms/step - loss: 2.9612\n",
      "Epoch 65/100\n",
      "391/391 [==============================] - 1s 2ms/step - loss: 2.9612\n",
      "Epoch 66/100\n",
      "391/391 [==============================] - 1s 2ms/step - loss: 2.9612\n",
      "Epoch 67/100\n",
      "391/391 [==============================] - 1s 2ms/step - loss: 2.9612\n",
      "Epoch 68/100\n",
      "391/391 [==============================] - 1s 2ms/step - loss: 2.9612\n",
      "Epoch 69/100\n",
      "391/391 [==============================] - 1s 2ms/step - loss: 2.9612\n",
      "Epoch 70/100\n",
      "391/391 [==============================] - 1s 2ms/step - loss: 2.9612\n",
      "Epoch 71/100\n",
      "391/391 [==============================] - 1s 2ms/step - loss: 2.9612\n",
      "Epoch 72/100\n",
      "391/391 [==============================] - 1s 2ms/step - loss: 2.9612\n",
      "Epoch 73/100\n",
      "391/391 [==============================] - 1s 2ms/step - loss: 2.9612\n",
      "Epoch 74/100\n",
      "391/391 [==============================] - 1s 2ms/step - loss: 2.9612\n",
      "Epoch 75/100\n",
      "391/391 [==============================] - 1s 2ms/step - loss: 2.9612\n",
      "Epoch 76/100\n",
      "391/391 [==============================] - 1s 2ms/step - loss: 2.9612\n",
      "Epoch 77/100\n",
      "391/391 [==============================] - 1s 2ms/step - loss: 2.9612\n",
      "Epoch 78/100\n",
      "391/391 [==============================] - 1s 2ms/step - loss: 2.9612\n"
     ]
    }
   ],
   "source": [
    "# Pretrain autoencoder\n",
    "dec.pretrain_autoencoder(features, epochs=100, batch_size=256)"
   ]
  },
  {
   "cell_type": "code",
   "execution_count": 17,
   "metadata": {},
   "outputs": [
    {
     "name": "stdout",
     "output_type": "stream",
     "text": [
      "3125/3125 [==============================] - 2s 553us/step\n"
     ]
    }
   ],
   "source": [
    "# Initialize clusters\n",
    "dec.initialize_clusters(features)"
   ]
  },
  {
   "cell_type": "code",
   "execution_count": 18,
   "metadata": {},
   "outputs": [
    {
     "name": "stdout",
     "output_type": "stream",
     "text": [
      "Iteration 0 Loss: [3.6139302253723145, 0.4525046646595001, 3.1614255905151367]\n",
      "Iteration 1 Loss: [3.5906081199645996, 0.4518291652202606, 3.1387789249420166]\n",
      "Iteration 2 Loss: [3.8390939235687256, 0.3797171711921692, 3.459376811981201]\n",
      "Iteration 3 Loss: [3.537766695022583, 0.3876006603240967, 3.1501660346984863]\n",
      "Iteration 4 Loss: [3.5732948780059814, 0.3869691491127014, 3.186325788497925]\n",
      "Iteration 5 Loss: [3.461087226867676, 0.41425129771232605, 3.0468358993530273]\n",
      "Iteration 6 Loss: [3.6879818439483643, 0.3722710609436035, 3.3157105445861816]\n",
      "Iteration 7 Loss: [3.4794762134552, 0.4025733768939972, 3.0769028663635254]\n",
      "Iteration 8 Loss: [3.54060435295105, 0.3869535028934479, 3.1536507606506348]\n",
      "Iteration 9 Loss: [3.633777141571045, 0.3878830075263977, 3.245894193649292]\n",
      "Iteration 10 Loss: [3.4123988151550293, 0.3591940999031067, 3.0532047748565674]\n",
      "Iteration 11 Loss: [3.323822259902954, 0.32060545682907104, 3.0032167434692383]\n",
      "Iteration 12 Loss: [3.5714731216430664, 0.39296695590019226, 3.1785061359405518]\n",
      "Iteration 13 Loss: [3.376483678817749, 0.3603304326534271, 3.016153335571289]\n",
      "Iteration 14 Loss: [3.6807923316955566, 0.38067272305488586, 3.300119400024414]\n",
      "Iteration 15 Loss: [3.478848457336426, 0.3204651474952698, 3.158383369445801]\n",
      "Iteration 16 Loss: [3.4524552822113037, 0.3704729676246643, 3.081982374191284]\n",
      "Iteration 17 Loss: [3.3187434673309326, 0.3473072648048401, 2.9714362621307373]\n",
      "Iteration 18 Loss: [3.3595728874206543, 0.3799654245376587, 2.979607343673706]\n",
      "Iteration 19 Loss: [3.124743700027466, 0.35252800583839417, 2.7722156047821045]\n",
      "Iteration 20 Loss: [3.257403612136841, 0.33468160033226013, 2.922722101211548]\n",
      "Iteration 21 Loss: [3.380443811416626, 0.36342525482177734, 3.0170185565948486]\n",
      "Iteration 22 Loss: [3.3394086360931396, 0.3716157376766205, 2.9677929878234863]\n",
      "Iteration 23 Loss: [3.1427934169769287, 0.3184323310852051, 2.8243610858917236]\n",
      "Iteration 24 Loss: [3.352107524871826, 0.3247703015804291, 3.0273373126983643]\n",
      "Iteration 25 Loss: [3.327270746231079, 0.3374238908290863, 2.98984694480896]\n",
      "Iteration 26 Loss: [3.3556430339813232, 0.3460504710674286, 3.0095925331115723]\n",
      "Iteration 27 Loss: [3.116487979888916, 0.31698477268218994, 2.7995033264160156]\n",
      "Iteration 28 Loss: [3.237809658050537, 0.3205937147140503, 2.9172160625457764]\n",
      "Iteration 29 Loss: [3.4781031608581543, 0.2902251183986664, 3.187878131866455]\n",
      "Iteration 30 Loss: [3.2414567470550537, 0.31038698554039, 2.931069850921631]\n",
      "Iteration 31 Loss: [3.3394739627838135, 0.2985747158527374, 3.0408992767333984]\n",
      "Iteration 32 Loss: [3.1257951259613037, 0.3508175313472748, 2.774977684020996]\n",
      "Iteration 33 Loss: [3.2214927673339844, 0.298513263463974, 2.9229795932769775]\n",
      "Iteration 34 Loss: [3.2093851566314697, 0.32078805565834045, 2.888597011566162]\n",
      "Iteration 35 Loss: [3.197476387023926, 0.2923375070095062, 2.9051389694213867]\n",
      "Iteration 36 Loss: [3.422187566757202, 0.32300296425819397, 3.099184513092041]\n",
      "Iteration 37 Loss: [3.370966911315918, 0.30426159501075745, 3.0667052268981934]\n",
      "Iteration 38 Loss: [3.1797425746917725, 0.30637407302856445, 2.873368501663208]\n",
      "Iteration 39 Loss: [3.1025917530059814, 0.2924926280975342, 2.8100991249084473]\n",
      "Iteration 40 Loss: [3.292257308959961, 0.327667236328125, 2.964590072631836]\n",
      "Iteration 41 Loss: [3.273594617843628, 0.2576136589050293, 3.0159809589385986]\n",
      "Iteration 42 Loss: [3.1633384227752686, 0.30050477385520935, 2.8628337383270264]\n",
      "Iteration 43 Loss: [3.136991500854492, 0.3256568908691406, 2.8113346099853516]\n",
      "Iteration 44 Loss: [3.386563777923584, 0.3143649101257324, 3.0721988677978516]\n",
      "Iteration 45 Loss: [3.4294445514678955, 0.3398533761501312, 3.0895912647247314]\n",
      "Iteration 46 Loss: [3.2648532390594482, 0.28298109769821167, 2.981872081756592]\n",
      "Iteration 47 Loss: [3.3712213039398193, 0.31397780776023865, 3.057243585586548]\n",
      "Iteration 48 Loss: [3.188068389892578, 0.2628311514854431, 2.9252371788024902]\n",
      "Iteration 49 Loss: [3.445611000061035, 0.32638606429100037, 3.119225025177002]\n",
      "Iteration 50 Loss: [3.4544010162353516, 0.327425092458725, 3.1269760131835938]\n",
      "Iteration 51 Loss: [3.3700265884399414, 0.3106748163700104, 3.059351682662964]\n",
      "Iteration 52 Loss: [3.2809014320373535, 0.31349480152130127, 2.9674065113067627]\n",
      "Iteration 53 Loss: [3.2016637325286865, 0.2671065330505371, 2.9345571994781494]\n",
      "Iteration 54 Loss: [3.5656630992889404, 0.2937398850917816, 3.271923303604126]\n",
      "Iteration 55 Loss: [3.3070058822631836, 0.30440813302993774, 3.0025978088378906]\n",
      "Iteration 56 Loss: [3.309108257293701, 0.3270031213760376, 2.982105255126953]\n",
      "Iteration 57 Loss: [3.3302791118621826, 0.2818447947502136, 3.048434257507324]\n",
      "Iteration 58 Loss: [3.4308204650878906, 0.3295609951019287, 3.101259469985962]\n",
      "Iteration 59 Loss: [3.194188356399536, 0.32904544472694397, 2.865142822265625]\n",
      "Iteration 60 Loss: [3.0122787952423096, 0.2844950556755066, 2.727783679962158]\n",
      "Iteration 61 Loss: [3.6193110942840576, 0.36052942276000977, 3.258781671524048]\n",
      "Iteration 62 Loss: [3.4301915168762207, 0.34881794452667236, 3.081373453140259]\n",
      "Iteration 63 Loss: [3.5891318321228027, 0.3692205846309662, 3.2199113368988037]\n",
      "Iteration 64 Loss: [3.5962207317352295, 0.33652809262275696, 3.259692668914795]\n",
      "Iteration 65 Loss: [3.5773983001708984, 0.33133816719055176, 3.2460601329803467]\n",
      "Iteration 66 Loss: [3.3176491260528564, 0.29289907217025757, 3.024749994277954]\n",
      "Iteration 67 Loss: [3.4997832775115967, 0.33465954661369324, 3.165123701095581]\n",
      "Iteration 68 Loss: [3.197499990463257, 0.3190006613731384, 2.8784992694854736]\n",
      "Iteration 69 Loss: [3.5104408264160156, 0.35363054275512695, 3.1568102836608887]\n",
      "Iteration 70 Loss: [3.2233097553253174, 0.2648749351501465, 2.958434820175171]\n",
      "Iteration 71 Loss: [3.541985034942627, 0.3198252022266388, 3.2221598625183105]\n",
      "Iteration 72 Loss: [3.227548837661743, 0.3283654749393463, 2.8991832733154297]\n",
      "Iteration 73 Loss: [3.4481639862060547, 0.2898053228855133, 3.158358573913574]\n",
      "Iteration 74 Loss: [3.3324286937713623, 0.2760607600212097, 3.056367874145508]\n",
      "Iteration 75 Loss: [3.260230541229248, 0.2918289303779602, 2.9684016704559326]\n",
      "Iteration 76 Loss: [3.4812967777252197, 0.34305325150489807, 3.1382434368133545]\n",
      "Iteration 77 Loss: [3.2188684940338135, 0.2777063548564911, 2.941162109375]\n",
      "Iteration 78 Loss: [3.1566529273986816, 0.2880910336971283, 2.8685619831085205]\n",
      "Iteration 79 Loss: [3.2130110263824463, 0.295717716217041, 2.9172933101654053]\n",
      "Iteration 80 Loss: [3.1146459579467773, 0.24088549613952637, 2.873760461807251]\n",
      "Iteration 81 Loss: [3.358161687850952, 0.28246253728866577, 3.0756990909576416]\n",
      "Iteration 82 Loss: [3.2905688285827637, 0.3041623532772064, 2.9864065647125244]\n",
      "Iteration 83 Loss: [3.2295663356781006, 0.28855976462364197, 2.941006660461426]\n",
      "Iteration 84 Loss: [3.2693569660186768, 0.28471025824546814, 2.984646797180176]\n",
      "Iteration 85 Loss: [3.4640326499938965, 0.3199876844882965, 3.144044876098633]\n",
      "Iteration 86 Loss: [3.3213629722595215, 0.26755648851394653, 3.0538065433502197]\n",
      "Iteration 87 Loss: [3.084937572479248, 0.2486109882593155, 2.8363265991210938]\n",
      "Iteration 88 Loss: [3.3942391872406006, 0.29295945167541504, 3.1012797355651855]\n",
      "Iteration 89 Loss: [3.225674629211426, 0.24785703420639038, 2.9778175354003906]\n",
      "Iteration 90 Loss: [3.3887462615966797, 0.27740100026130676, 3.1113452911376953]\n",
      "Iteration 91 Loss: [3.24959659576416, 0.229034423828125, 3.020562171936035]\n",
      "Iteration 92 Loss: [3.303884506225586, 0.3432888090610504, 2.9605956077575684]\n",
      "Iteration 93 Loss: [3.3067257404327393, 0.28272804617881775, 3.0239977836608887]\n",
      "Iteration 94 Loss: [3.2900638580322266, 0.2537441849708557, 3.0363197326660156]\n",
      "Iteration 95 Loss: [3.192533254623413, 0.2712227404117584, 2.9213104248046875]\n",
      "Iteration 96 Loss: [3.622704029083252, 0.29642459750175476, 3.326279401779175]\n",
      "Iteration 97 Loss: [3.262643575668335, 0.27888956665992737, 2.9837539196014404]\n",
      "Iteration 98 Loss: [3.2256059646606445, 0.3118065595626831, 2.913799524307251]\n",
      "Iteration 99 Loss: [3.206132411956787, 0.30499178171157837, 2.9011406898498535]\n",
      "Iteration 100 Loss: [2.970477342605591, 0.24210210144519806, 2.728375196456909]\n",
      "Iteration 101 Loss: [3.2214596271514893, 0.25583702325820923, 2.965622663497925]\n",
      "Iteration 102 Loss: [3.2160019874572754, 0.2608518600463867, 2.9551501274108887]\n",
      "Iteration 103 Loss: [3.3778603076934814, 0.27757152915000916, 3.1002888679504395]\n",
      "Iteration 104 Loss: [3.2750301361083984, 0.3006826341152191, 2.9743475914001465]\n",
      "Iteration 105 Loss: [3.4186148643493652, 0.33417484164237976, 3.084439992904663]\n",
      "Iteration 106 Loss: [3.295889139175415, 0.3247966468334198, 2.971092462539673]\n",
      "Iteration 107 Loss: [2.933520793914795, 0.2543604075908661, 2.6791603565216064]\n",
      "Iteration 108 Loss: [2.991548538208008, 0.28361988067626953, 2.7079286575317383]\n",
      "Iteration 109 Loss: [3.292955160140991, 0.2655819356441498, 3.0273733139038086]\n",
      "Iteration 110 Loss: [3.079190254211426, 0.2801486551761627, 2.799041509628296]\n",
      "Iteration 111 Loss: [3.347637176513672, 0.292364239692688, 3.0552730560302734]\n",
      "Iteration 112 Loss: [3.2944717407226562, 0.3014589846134186, 2.9930126667022705]\n",
      "Iteration 113 Loss: [3.518756866455078, 0.2831650674343109, 3.2355918884277344]\n",
      "Iteration 114 Loss: [3.2253577709198, 0.29294273257255554, 2.932415008544922]\n",
      "Iteration 115 Loss: [3.510406970977783, 0.24838346242904663, 3.262023448944092]\n",
      "Iteration 116 Loss: [3.082108974456787, 0.24630773067474365, 2.835801124572754]\n",
      "Iteration 117 Loss: [3.0224006175994873, 0.23402519524097443, 2.7883753776550293]\n",
      "Iteration 118 Loss: [3.359628438949585, 0.28412649035453796, 3.0755019187927246]\n",
      "Iteration 119 Loss: [3.240511417388916, 0.31652164459228516, 2.923989772796631]\n",
      "Iteration 120 Loss: [3.2382423877716064, 0.2591341435909271, 2.9791083335876465]\n",
      "Iteration 121 Loss: [3.0372443199157715, 0.2492460012435913, 2.7879981994628906]\n",
      "Iteration 122 Loss: [3.28977632522583, 0.2580123245716095, 3.031764030456543]\n",
      "Iteration 123 Loss: [3.3312833309173584, 0.23838116228580475, 3.092902183532715]\n",
      "Iteration 124 Loss: [3.0419678688049316, 0.2296977937221527, 2.812270164489746]\n",
      "Iteration 125 Loss: [3.3596432209014893, 0.27126678824424744, 3.088376522064209]\n",
      "Iteration 126 Loss: [3.4496941566467285, 0.2713887393474579, 3.1783053874969482]\n",
      "Iteration 127 Loss: [3.0707244873046875, 0.22322286665439606, 2.847501516342163]\n",
      "Iteration 128 Loss: [3.076589822769165, 0.27209681272506714, 2.804492950439453]\n",
      "Iteration 129 Loss: [3.260035514831543, 0.26311126351356506, 2.9969241619110107]\n",
      "Iteration 130 Loss: [3.506441116333008, 0.29148828983306885, 3.2149527072906494]\n",
      "Iteration 131 Loss: [3.147570848464966, 0.22154812514781952, 2.92602276802063]\n",
      "Iteration 132 Loss: [2.8294081687927246, 0.22132708132266998, 2.608081102371216]\n",
      "Iteration 133 Loss: [3.355560779571533, 0.294991135597229, 3.0605695247650146]\n",
      "Iteration 134 Loss: [3.0698063373565674, 0.25721055269241333, 2.812595844268799]\n",
      "Iteration 135 Loss: [3.274195432662964, 0.317056804895401, 2.9571385383605957]\n",
      "Iteration 136 Loss: [3.487046003341675, 0.3058173954486847, 3.1812286376953125]\n",
      "Iteration 137 Loss: [3.015589475631714, 0.2458895593881607, 2.769699811935425]\n",
      "Iteration 138 Loss: [3.4383320808410645, 0.2865484058856964, 3.1517837047576904]\n",
      "Iteration 139 Loss: [3.565774440765381, 0.30519697070121765, 3.260577440261841]\n",
      "Iteration 140 Loss: [3.51123046875, 0.376466304063797, 3.1347641944885254]\n",
      "Iteration 141 Loss: [3.3533060550689697, 0.39656129479408264, 2.95674467086792]\n",
      "Iteration 142 Loss: [3.4315898418426514, 0.3863028883934021, 3.0452868938446045]\n",
      "Iteration 143 Loss: [3.344604253768921, 0.3228159248828888, 3.0217883586883545]\n",
      "Iteration 144 Loss: [3.377002000808716, 0.3641515374183655, 3.012850522994995]\n",
      "Iteration 145 Loss: [3.3144192695617676, 0.3510103225708008, 2.963408946990967]\n",
      "Iteration 146 Loss: [3.2879912853240967, 0.35516658425331116, 2.9328246116638184]\n",
      "Iteration 147 Loss: [3.606679916381836, 0.3051215708255768, 3.301558256149292]\n",
      "Iteration 148 Loss: [3.357527732849121, 0.4052053689956665, 2.952322483062744]\n",
      "Iteration 149 Loss: [3.312270402908325, 0.3177877366542816, 2.9944827556610107]\n",
      "Iteration 150 Loss: [3.408923387527466, 0.38660097122192383, 3.022322416305542]\n",
      "Iteration 151 Loss: [3.269674777984619, 0.33500927686691284, 2.9346654415130615]\n",
      "Iteration 152 Loss: [3.624401807785034, 0.3138381838798523, 3.310563564300537]\n",
      "Iteration 153 Loss: [3.41817307472229, 0.3400644361972809, 3.078108549118042]\n",
      "Iteration 154 Loss: [3.302387237548828, 0.3094325065612793, 2.992954730987549]\n",
      "Iteration 155 Loss: [3.3793392181396484, 0.3618687689304352, 3.017470359802246]\n",
      "Iteration 156 Loss: [3.224541425704956, 0.3516269326210022, 2.8729145526885986]\n",
      "Iteration 157 Loss: [3.126483917236328, 0.36984723806381226, 2.756636619567871]\n",
      "Iteration 158 Loss: [3.2073960304260254, 0.3156369924545288, 2.891759157180786]\n",
      "Iteration 159 Loss: [3.221315622329712, 0.3495282530784607, 2.8717873096466064]\n",
      "Iteration 160 Loss: [3.2727534770965576, 0.37455490231513977, 2.8981986045837402]\n",
      "Iteration 161 Loss: [3.2796244621276855, 0.370116263628006, 2.909508228302002]\n",
      "Iteration 162 Loss: [3.353318214416504, 0.3362824022769928, 3.017035722732544]\n",
      "Iteration 163 Loss: [3.132554769515991, 0.3053304851055145, 2.8272242546081543]\n",
      "Iteration 164 Loss: [3.4341509342193604, 0.35844895243644714, 3.075701951980591]\n",
      "Iteration 165 Loss: [3.3671655654907227, 0.3253476619720459, 3.0418179035186768]\n",
      "Iteration 166 Loss: [3.386429786682129, 0.34897804260253906, 3.03745174407959]\n",
      "Iteration 167 Loss: [3.4005229473114014, 0.403787225484848, 2.9967358112335205]\n",
      "Iteration 168 Loss: [3.2143354415893555, 0.31413283944129944, 2.900202512741089]\n",
      "Iteration 169 Loss: [3.2443995475769043, 0.3421211838722229, 2.902278423309326]\n",
      "Iteration 170 Loss: [3.3233134746551514, 0.3403003513813019, 2.983013153076172]\n",
      "Iteration 171 Loss: [3.0736031532287598, 0.31883561611175537, 2.754767417907715]\n",
      "Iteration 172 Loss: [3.3530638217926025, 0.3160845935344696, 3.0369791984558105]\n",
      "Iteration 173 Loss: [3.513568639755249, 0.3492526412010193, 3.164315938949585]\n",
      "Iteration 174 Loss: [3.2293319702148438, 0.31639230251312256, 2.9129397869110107]\n",
      "Iteration 175 Loss: [3.1833760738372803, 0.38102564215660095, 2.8023505210876465]\n",
      "Iteration 176 Loss: [3.1659557819366455, 0.31008926033973694, 2.8558664321899414]\n",
      "Iteration 177 Loss: [3.663203239440918, 0.3743365705013275, 3.2888665199279785]\n",
      "Iteration 178 Loss: [3.165045976638794, 0.32707899808883667, 2.8379669189453125]\n",
      "Iteration 179 Loss: [3.116785764694214, 0.3404045104980469, 2.776381254196167]\n",
      "Iteration 180 Loss: [3.4063141345977783, 0.33363646268844604, 3.0726776123046875]\n",
      "Iteration 181 Loss: [3.211055278778076, 0.33899104595184326, 2.8720641136169434]\n",
      "Iteration 182 Loss: [3.1514487266540527, 0.2922299802303314, 2.8592188358306885]\n",
      "Iteration 183 Loss: [3.1646952629089355, 0.33260101079940796, 2.832094192504883]\n",
      "Iteration 184 Loss: [3.1140642166137695, 0.31232044100761414, 2.801743745803833]\n",
      "Iteration 185 Loss: [3.3153750896453857, 0.3228357136249542, 2.992539405822754]\n",
      "Iteration 186 Loss: [3.1370949745178223, 0.2871023416519165, 2.849992513656616]\n",
      "Iteration 187 Loss: [3.200209140777588, 0.31522372364997864, 2.8849854469299316]\n",
      "Iteration 188 Loss: [3.246629476547241, 0.3032415807247162, 2.943387985229492]\n",
      "Iteration 189 Loss: [3.4114630222320557, 0.3365797996520996, 3.074883222579956]\n",
      "Iteration 190 Loss: [3.2911386489868164, 0.29452091455459595, 2.9966177940368652]\n",
      "Iteration 191 Loss: [3.3493711948394775, 0.3456067740917206, 3.0037643909454346]\n",
      "Iteration 192 Loss: [3.305936098098755, 0.3054966926574707, 3.000439405441284]\n",
      "Iteration 193 Loss: [3.367572546005249, 0.3255452811717987, 3.042027235031128]\n",
      "Iteration 194 Loss: [3.4073522090911865, 0.32730188965797424, 3.080050230026245]\n",
      "Iteration 195 Loss: [3.246504306793213, 0.3195551037788391, 2.9269492626190186]\n",
      "Iteration 196 Loss: [3.0389535427093506, 0.29463863372802734, 2.7443149089813232]\n",
      "Iteration 197 Loss: [3.1466145515441895, 0.3455372452735901, 2.801077365875244]\n",
      "Iteration 198 Loss: [3.2996439933776855, 0.3262415826320648, 2.973402500152588]\n",
      "Iteration 199 Loss: [3.2494850158691406, 0.27997887134552, 2.969506025314331]\n",
      "Iteration 200 Loss: [3.24057936668396, 0.3226851522922516, 2.917894124984741]\n",
      "Iteration 201 Loss: [3.221842050552368, 0.30904340744018555, 2.9127986431121826]\n",
      "Iteration 202 Loss: [3.0629870891571045, 0.3155391216278076, 2.747447967529297]\n",
      "Iteration 203 Loss: [3.1901705265045166, 0.29734936356544495, 2.8928210735321045]\n",
      "Iteration 204 Loss: [3.293436288833618, 0.31340011954307556, 2.9800362586975098]\n",
      "Iteration 205 Loss: [3.3833398818969727, 0.37974485754966736, 3.0035951137542725]\n",
      "Iteration 206 Loss: [3.3787806034088135, 0.32097068428993225, 3.057809829711914]\n",
      "Iteration 207 Loss: [3.28704833984375, 0.299452543258667, 2.987595796585083]\n",
      "Iteration 208 Loss: [3.2699954509735107, 0.3655869662761688, 2.9044084548950195]\n",
      "Iteration 209 Loss: [3.277803421020508, 0.29317572712898254, 2.9846277236938477]\n",
      "Iteration 210 Loss: [3.185859441757202, 0.33560481667518616, 2.850254535675049]\n",
      "Iteration 211 Loss: [3.6415157318115234, 0.3400557339191437, 3.301460027694702]\n",
      "Iteration 212 Loss: [3.4261631965637207, 0.2822253704071045, 3.143937826156616]\n",
      "Iteration 213 Loss: [3.1648635864257812, 0.30906912684440613, 2.8557944297790527]\n",
      "Iteration 214 Loss: [3.664781332015991, 0.327310174703598, 3.3374712467193604]\n",
      "Iteration 215 Loss: [3.317976236343384, 0.3146512806415558, 3.0033249855041504]\n",
      "Iteration 216 Loss: [3.5536181926727295, 0.3388606607913971, 3.2147574424743652]\n",
      "Iteration 217 Loss: [3.314117908477783, 0.3405138850212097, 2.9736039638519287]\n",
      "Iteration 218 Loss: [3.363068103790283, 0.3556247353553772, 3.007443428039551]\n",
      "Iteration 219 Loss: [3.2893152236938477, 0.34185317158699036, 2.9474620819091797]\n",
      "Iteration 220 Loss: [3.4235599040985107, 0.34150534868240356, 3.082054615020752]\n",
      "Iteration 221 Loss: [3.1307690143585205, 0.3253089487552643, 2.805459976196289]\n",
      "Iteration 222 Loss: [3.3808584213256836, 0.28117215633392334, 3.09968638420105]\n",
      "Iteration 223 Loss: [3.303605318069458, 0.3329479396343231, 2.9706573486328125]\n",
      "Iteration 224 Loss: [3.1327521800994873, 0.3279872238636017, 2.804764986038208]\n",
      "Iteration 225 Loss: [3.3058664798736572, 0.3056392967700958, 3.000227212905884]\n",
      "Iteration 226 Loss: [3.2682089805603027, 0.3055713176727295, 2.9626376628875732]\n",
      "Iteration 227 Loss: [3.3074257373809814, 0.28608015179634094, 3.021345615386963]\n",
      "Iteration 228 Loss: [3.140718460083008, 0.31170132756233215, 2.829017162322998]\n",
      "Iteration 229 Loss: [3.290722608566284, 0.3189389109611511, 2.9717836380004883]\n",
      "Iteration 230 Loss: [3.3172061443328857, 0.3557802140712738, 2.961426019668579]\n",
      "Iteration 231 Loss: [3.2553913593292236, 0.2981458008289337, 2.9572455883026123]\n",
      "Iteration 232 Loss: [3.333747148513794, 0.2969891428947449, 3.0367579460144043]\n",
      "Iteration 233 Loss: [3.436593532562256, 0.3502958118915558, 3.0862977504730225]\n",
      "Iteration 234 Loss: [3.31192684173584, 0.300153523683548, 3.0117733478546143]\n",
      "Iteration 235 Loss: [3.240355968475342, 0.2996765375137329, 2.9406795501708984]\n",
      "Iteration 236 Loss: [3.1818461418151855, 0.307611346244812, 2.874234676361084]\n",
      "Iteration 237 Loss: [3.290635347366333, 0.31601762771606445, 2.9746177196502686]\n",
      "Iteration 238 Loss: [3.2701172828674316, 0.32865622639656067, 2.9414610862731934]\n",
      "Iteration 239 Loss: [3.350017547607422, 0.32694363594055176, 3.02307391166687]\n",
      "Iteration 240 Loss: [3.2113518714904785, 0.29595711827278137, 2.9153947830200195]\n",
      "Iteration 241 Loss: [3.333624839782715, 0.36828887462615967, 2.9653358459472656]\n",
      "Iteration 242 Loss: [3.432278633117676, 0.32455432415008545, 3.107724189758301]\n",
      "Iteration 243 Loss: [3.3885273933410645, 0.3126319646835327, 3.0758955478668213]\n",
      "Iteration 244 Loss: [3.197201728820801, 0.2996036112308502, 2.8975980281829834]\n",
      "Iteration 245 Loss: [3.2868993282318115, 0.30940136313438416, 2.9774980545043945]\n",
      "Iteration 246 Loss: [3.4888381958007812, 0.2936593294143677, 3.195178985595703]\n",
      "Iteration 247 Loss: [3.1690759658813477, 0.29369696974754333, 2.8753790855407715]\n",
      "Iteration 248 Loss: [3.4096944332122803, 0.3125605285167694, 3.0971338748931885]\n",
      "Iteration 249 Loss: [3.1735057830810547, 0.3168589472770691, 2.856646776199341]\n",
      "Iteration 250 Loss: [3.3686256408691406, 0.3121233582496643, 3.056502342224121]\n",
      "Iteration 251 Loss: [3.2280168533325195, 0.2528640329837799, 2.9751527309417725]\n",
      "Iteration 252 Loss: [3.5432307720184326, 0.30635014176368713, 3.2368805408477783]\n",
      "Iteration 253 Loss: [3.307706832885742, 0.2969893217086792, 3.0107173919677734]\n",
      "Iteration 254 Loss: [3.329826593399048, 0.31506767868995667, 3.014758825302124]\n",
      "Iteration 255 Loss: [3.337425947189331, 0.2868990898132324, 3.0505268573760986]\n",
      "Iteration 256 Loss: [3.3590121269226074, 0.34116223454475403, 3.017849922180176]\n",
      "Iteration 257 Loss: [3.36440110206604, 0.36838847398757935, 2.9960126876831055]\n",
      "Iteration 258 Loss: [3.3789901733398438, 0.2999986410140991, 3.078991651535034]\n",
      "Iteration 259 Loss: [3.0734705924987793, 0.3182355761528015, 2.755234956741333]\n",
      "Iteration 260 Loss: [3.219120502471924, 0.3234367072582245, 2.895683765411377]\n",
      "Iteration 261 Loss: [3.270885944366455, 0.309410035610199, 2.9614758491516113]\n",
      "Iteration 262 Loss: [3.2992775440216064, 0.3170003890991211, 2.9822771549224854]\n",
      "Iteration 263 Loss: [3.1587700843811035, 0.2944159209728241, 2.864354133605957]\n",
      "Iteration 264 Loss: [3.342569351196289, 0.2935810387134552, 3.0489883422851562]\n",
      "Iteration 265 Loss: [3.161306619644165, 0.2938828468322754, 2.8674237728118896]\n",
      "Iteration 266 Loss: [3.108091354370117, 0.3076523542404175, 2.8004391193389893]\n",
      "Iteration 267 Loss: [3.3825175762176514, 0.32812514901161194, 3.0543923377990723]\n",
      "Iteration 268 Loss: [3.1073479652404785, 0.3327212631702423, 2.7746267318725586]\n",
      "Iteration 269 Loss: [3.215672016143799, 0.31961917877197266, 2.896052837371826]\n",
      "Iteration 270 Loss: [3.0794010162353516, 0.29296988248825073, 2.786431074142456]\n",
      "Iteration 271 Loss: [3.164856433868408, 0.30682748556137085, 2.8580288887023926]\n",
      "Iteration 272 Loss: [3.228416681289673, 0.2656843364238739, 2.9627323150634766]\n",
      "Iteration 273 Loss: [3.291416883468628, 0.3032352328300476, 2.9881815910339355]\n",
      "Iteration 274 Loss: [3.075312376022339, 0.27200761437416077, 2.803304672241211]\n",
      "Iteration 275 Loss: [3.32242488861084, 0.3029465675354004, 3.0194783210754395]\n",
      "Iteration 276 Loss: [3.2505550384521484, 0.27970069646835327, 2.9708542823791504]\n",
      "Iteration 277 Loss: [3.2543740272521973, 0.32733574509620667, 2.9270381927490234]\n",
      "Iteration 278 Loss: [3.3518319129943848, 0.3290730118751526, 3.022758960723877]\n",
      "Iteration 279 Loss: [3.1139984130859375, 0.29193249344825745, 2.822065830230713]\n",
      "Iteration 280 Loss: [3.112457036972046, 0.2778076231479645, 2.8346493244171143]\n",
      "Iteration 281 Loss: [3.254401445388794, 0.3203429877758026, 2.934058427810669]\n",
      "Iteration 282 Loss: [3.242110252380371, 0.31971219182014465, 2.922398090362549]\n",
      "Iteration 283 Loss: [3.3004844188690186, 0.2796992361545563, 3.020785093307495]\n",
      "Iteration 284 Loss: [3.3216068744659424, 0.3437390923500061, 2.977867841720581]\n",
      "Iteration 285 Loss: [3.4015238285064697, 0.27843159437179565, 3.1230921745300293]\n",
      "Iteration 286 Loss: [3.389665126800537, 0.3287925124168396, 3.0608725547790527]\n",
      "Iteration 287 Loss: [3.2261152267456055, 0.33766573667526245, 2.8884494304656982]\n",
      "Iteration 288 Loss: [3.281189203262329, 0.37109139561653137, 2.91009783744812]\n",
      "Iteration 289 Loss: [3.4459314346313477, 0.2945055365562439, 3.151425838470459]\n",
      "Iteration 290 Loss: [3.0608882904052734, 0.27432698011398315, 2.7865612506866455]\n",
      "Iteration 291 Loss: [3.4914863109588623, 0.33101341128349304, 3.160472869873047]\n",
      "Iteration 292 Loss: [3.1661853790283203, 0.33683666586875916, 2.8293488025665283]\n",
      "Iteration 293 Loss: [3.1788620948791504, 0.2899848222732544, 2.8888773918151855]\n",
      "Iteration 294 Loss: [3.1757025718688965, 0.30653321743011475, 2.869169235229492]\n",
      "Iteration 295 Loss: [3.1978654861450195, 0.3442024290561676, 2.8536629676818848]\n",
      "Iteration 296 Loss: [3.251753807067871, 0.31969088315963745, 2.932062864303589]\n",
      "Iteration 297 Loss: [3.1611180305480957, 0.3079390525817871, 2.8531789779663086]\n",
      "Iteration 298 Loss: [3.31044864654541, 0.31720390915870667, 2.9932446479797363]\n",
      "Iteration 299 Loss: [3.229825258255005, 0.31656891107559204, 2.9132564067840576]\n",
      "Iteration 300 Loss: [3.4068081378936768, 0.29583612084388733, 3.1109719276428223]\n",
      "Iteration 301 Loss: [3.404825448989868, 0.3203331530094147, 3.0844922065734863]\n",
      "Iteration 302 Loss: [3.4542384147644043, 0.3591131865978241, 3.095125198364258]\n",
      "Iteration 303 Loss: [3.288141965866089, 0.3268052041530609, 2.961336851119995]\n",
      "Iteration 304 Loss: [3.2204554080963135, 0.27792882919311523, 2.9425265789031982]\n",
      "Iteration 305 Loss: [3.2495675086975098, 0.3440367579460144, 2.9055306911468506]\n",
      "Iteration 306 Loss: [3.157536506652832, 0.32794368267059326, 2.8295929431915283]\n",
      "Iteration 307 Loss: [3.4317731857299805, 0.34866979718208313, 3.0831034183502197]\n",
      "Iteration 308 Loss: [3.430656671524048, 0.3250288963317871, 3.1056277751922607]\n",
      "Iteration 309 Loss: [3.379828453063965, 0.3208513855934143, 3.0589771270751953]\n",
      "Iteration 310 Loss: [3.3709845542907715, 0.2846032679080963, 3.086381196975708]\n",
      "Iteration 311 Loss: [3.2971179485321045, 0.31807437539100647, 2.979043483734131]\n",
      "Iteration 312 Loss: [3.2522215843200684, 0.297320157289505, 2.9549014568328857]\n",
      "Iteration 313 Loss: [3.2123799324035645, 0.32358869910240173, 2.88879132270813]\n",
      "Iteration 314 Loss: [3.1823277473449707, 0.321041464805603, 2.8612864017486572]\n",
      "Iteration 315 Loss: [3.3492789268493652, 0.2793005704879761, 3.0699782371520996]\n",
      "Iteration 316 Loss: [3.1450443267822266, 0.2618202269077301, 2.8832240104675293]\n",
      "Iteration 317 Loss: [3.2996833324432373, 0.29979845881462097, 2.999884843826294]\n",
      "Iteration 318 Loss: [3.254615068435669, 0.3143157362937927, 2.9402992725372314]\n",
      "Iteration 319 Loss: [3.1677136421203613, 0.30003613233566284, 2.8676774501800537]\n",
      "Iteration 320 Loss: [3.137622117996216, 0.3180103898048401, 2.8196117877960205]\n",
      "Iteration 321 Loss: [3.20328426361084, 0.31448832154273987, 2.888795852661133]\n",
      "Iteration 322 Loss: [3.372285842895508, 0.3162473738193512, 3.0560383796691895]\n",
      "Iteration 323 Loss: [2.989170551300049, 0.26773756742477417, 2.72143292427063]\n",
      "Iteration 324 Loss: [3.328505277633667, 0.3091798722743988, 3.0193254947662354]\n",
      "Iteration 325 Loss: [3.433422565460205, 0.3238757848739624, 3.109546661376953]\n",
      "Iteration 326 Loss: [3.1815855503082275, 0.29536086320877075, 2.8862247467041016]\n",
      "Iteration 327 Loss: [3.485173463821411, 0.3054608404636383, 3.1797125339508057]\n",
      "Iteration 328 Loss: [3.2258334159851074, 0.3104866147041321, 2.91534686088562]\n",
      "Iteration 329 Loss: [3.22379207611084, 0.26767662167549133, 2.956115484237671]\n",
      "Iteration 330 Loss: [3.2757396697998047, 0.29332292079925537, 2.982416868209839]\n",
      "Iteration 331 Loss: [3.3388922214508057, 0.29245543479919434, 3.0464367866516113]\n",
      "Iteration 332 Loss: [3.3282406330108643, 0.3037508428096771, 3.0244898796081543]\n",
      "Iteration 333 Loss: [3.3091208934783936, 0.2945826053619385, 3.014538288116455]\n",
      "Iteration 334 Loss: [3.1665961742401123, 0.32506927847862244, 2.841526985168457]\n",
      "Iteration 335 Loss: [3.331115961074829, 0.28449031710624695, 3.0466256141662598]\n",
      "Iteration 336 Loss: [3.1080265045166016, 0.32056835293769836, 2.7874581813812256]\n",
      "Iteration 337 Loss: [3.142834186553955, 0.3144831657409668, 2.8283510208129883]\n",
      "Iteration 338 Loss: [3.264662265777588, 0.32707828283309937, 2.9375839233398438]\n",
      "Iteration 339 Loss: [3.3578367233276367, 0.28372564911842346, 3.074110984802246]\n",
      "Iteration 340 Loss: [3.190721035003662, 0.32799917459487915, 2.8627219200134277]\n",
      "Iteration 341 Loss: [3.3768787384033203, 0.28551623225212097, 3.091362476348877]\n",
      "Iteration 342 Loss: [3.3295812606811523, 0.32417309284210205, 3.0054080486297607]\n",
      "Iteration 343 Loss: [3.2967073917388916, 0.28594091534614563, 3.0107665061950684]\n",
      "Iteration 344 Loss: [3.276925563812256, 0.29048657417297363, 2.9864389896392822]\n",
      "Iteration 345 Loss: [3.1096813678741455, 0.28502124547958374, 2.824660062789917]\n",
      "Iteration 346 Loss: [3.165370464324951, 0.31017184257507324, 2.855198621749878]\n",
      "Iteration 347 Loss: [3.083909749984741, 0.30994006991386414, 2.7739696502685547]\n",
      "Iteration 348 Loss: [3.14111065864563, 0.2759173810482025, 2.8651933670043945]\n",
      "Iteration 349 Loss: [3.251122236251831, 0.28568777441978455, 2.9654345512390137]\n",
      "Iteration 350 Loss: [3.2104811668395996, 0.28698650002479553, 2.923494577407837]\n",
      "Iteration 351 Loss: [3.148207664489746, 0.3126063644886017, 2.835601329803467]\n",
      "Iteration 352 Loss: [3.2896175384521484, 0.2788649797439575, 3.0107524394989014]\n",
      "Iteration 353 Loss: [3.077637195587158, 0.2680717706680298, 2.809565544128418]\n",
      "Iteration 354 Loss: [3.2602477073669434, 0.2829265296459198, 2.977321147918701]\n",
      "Iteration 355 Loss: [3.4343981742858887, 0.3364664316177368, 3.0979316234588623]\n",
      "Iteration 356 Loss: [3.1666510105133057, 0.3243824541568756, 2.842268466949463]\n",
      "Iteration 357 Loss: [3.2077784538269043, 0.2618909776210785, 2.945887565612793]\n",
      "Iteration 358 Loss: [3.1675431728363037, 0.2992415428161621, 2.8683016300201416]\n",
      "Iteration 359 Loss: [3.3206613063812256, 0.3542402684688568, 2.966421127319336]\n",
      "Iteration 360 Loss: [3.293748617172241, 0.3654957711696625, 2.928252935409546]\n",
      "Iteration 361 Loss: [3.2666256427764893, 0.27588146924972534, 2.990744113922119]\n",
      "Iteration 362 Loss: [3.31775164604187, 0.30121755599975586, 3.0165340900421143]\n",
      "Iteration 363 Loss: [3.3397216796875, 0.2820674777030945, 3.0576541423797607]\n",
      "Iteration 364 Loss: [3.1878628730773926, 0.2991158366203308, 2.888746976852417]\n",
      "Iteration 365 Loss: [3.0727198123931885, 0.2700278162956238, 2.80269193649292]\n",
      "Iteration 366 Loss: [3.0252299308776855, 0.3018871247768402, 2.7233428955078125]\n",
      "Iteration 367 Loss: [3.5465502738952637, 0.31509557366371155, 3.231454610824585]\n",
      "Iteration 368 Loss: [3.1588356494903564, 0.28968411684036255, 2.8691515922546387]\n",
      "Iteration 369 Loss: [3.3176140785217285, 0.2889082431793213, 3.0287058353424072]\n",
      "Iteration 370 Loss: [3.1072282791137695, 0.256102055311203, 2.851126194000244]\n",
      "Iteration 371 Loss: [3.1990668773651123, 0.3004726767539978, 2.8985941410064697]\n",
      "Iteration 372 Loss: [3.427184820175171, 0.27708694338798523, 3.1500978469848633]\n",
      "Iteration 373 Loss: [3.2834534645080566, 0.30033838748931885, 2.9831149578094482]\n",
      "Iteration 374 Loss: [3.0572333335876465, 0.25900158286094666, 2.798231840133667]\n",
      "Iteration 375 Loss: [3.2159013748168945, 0.28257763385772705, 2.933323860168457]\n",
      "Iteration 376 Loss: [3.1653993129730225, 0.29983091354370117, 2.8655683994293213]\n",
      "Iteration 377 Loss: [3.511626720428467, 0.2906360328197479, 3.2209906578063965]\n",
      "Iteration 378 Loss: [3.3359670639038086, 0.34941041469573975, 2.9865565299987793]\n",
      "Iteration 379 Loss: [3.2112085819244385, 0.23543640971183777, 2.9757721424102783]\n",
      "Iteration 380 Loss: [3.0645294189453125, 0.24130870401859283, 2.823220729827881]\n",
      "Iteration 381 Loss: [3.17771053314209, 0.2566441297531128, 2.9210662841796875]\n",
      "Iteration 382 Loss: [3.2491650581359863, 0.24778708815574646, 3.001378059387207]\n",
      "Iteration 383 Loss: [3.239851474761963, 0.3018604815006256, 2.93799090385437]\n",
      "Iteration 384 Loss: [3.355100631713867, 0.2619597315788269, 3.0931408405303955]\n",
      "Iteration 385 Loss: [2.9939706325531006, 0.23885852098464966, 2.7551121711730957]\n",
      "Iteration 386 Loss: [3.2296688556671143, 0.2738800048828125, 2.9557888507843018]\n",
      "Iteration 387 Loss: [3.2022573947906494, 0.2964981496334076, 2.905759334564209]\n",
      "Iteration 388 Loss: [3.154503583908081, 0.27427148818969727, 2.880232095718384]\n",
      "Iteration 389 Loss: [3.171051263809204, 0.2829107940196991, 2.8881404399871826]\n",
      "Iteration 390 Loss: [2.9860548973083496, 0.2828393280506134, 2.7032155990600586]\n",
      "Iteration 391 Loss: [2.9691896438598633, 0.2961310148239136, 2.6730587482452393]\n",
      "Iteration 392 Loss: [3.0169930458068848, 0.28086215257644653, 2.736130952835083]\n",
      "Iteration 393 Loss: [3.172525405883789, 0.24929897487163544, 2.9232263565063477]\n",
      "Iteration 394 Loss: [3.1890220642089844, 0.26936042308807373, 2.919661521911621]\n",
      "Iteration 395 Loss: [2.999870777130127, 0.293059378862381, 2.7068114280700684]\n",
      "Iteration 396 Loss: [3.317105293273926, 0.3043040633201599, 3.012801170349121]\n",
      "Iteration 397 Loss: [3.1964473724365234, 0.31568077206611633, 2.8807666301727295]\n",
      "Iteration 398 Loss: [3.056180715560913, 0.2524929940700531, 2.803687810897827]\n",
      "Iteration 399 Loss: [3.1808178424835205, 0.3036643862724304, 2.8771533966064453]\n",
      "Iteration 400 Loss: [3.306382179260254, 0.3552996516227722, 2.951082468032837]\n",
      "Iteration 401 Loss: [3.490609884262085, 0.3335903286933899, 3.15701961517334]\n",
      "Iteration 402 Loss: [3.5013070106506348, 0.35674789547920227, 3.144559144973755]\n",
      "Iteration 403 Loss: [3.4163877964019775, 0.3160083293914795, 3.100379467010498]\n",
      "Iteration 404 Loss: [3.1166250705718994, 0.28848594427108765, 2.828139066696167]\n",
      "Iteration 405 Loss: [3.5073280334472656, 0.30487060546875, 3.2024574279785156]\n",
      "Iteration 406 Loss: [3.3023252487182617, 0.2568309009075165, 3.045494318008423]\n",
      "Iteration 407 Loss: [3.2379493713378906, 0.2631911039352417, 2.9747581481933594]\n",
      "Iteration 408 Loss: [3.263197898864746, 0.30423209071159363, 2.95896577835083]\n",
      "Iteration 409 Loss: [3.3115346431732178, 0.24947518110275269, 3.0620594024658203]\n",
      "Iteration 410 Loss: [3.512617588043213, 0.44579651951789856, 3.0668210983276367]\n",
      "Iteration 411 Loss: [3.6528961658477783, 0.5106067657470703, 3.142289400100708]\n",
      "Iteration 412 Loss: [3.5181331634521484, 0.3795454800128937, 3.138587713241577]\n",
      "Iteration 413 Loss: [3.34445858001709, 0.415218710899353, 2.9292397499084473]\n",
      "Iteration 414 Loss: [3.5879299640655518, 0.3659442961215973, 3.2219855785369873]\n",
      "Iteration 415 Loss: [3.380521535873413, 0.36364343762397766, 3.016878128051758]\n",
      "Iteration 416 Loss: [3.4524385929107666, 0.2934761643409729, 3.1589624881744385]\n",
      "Iteration 417 Loss: [3.3086047172546387, 0.35308837890625, 2.9555163383483887]\n",
      "Iteration 418 Loss: [3.501668691635132, 0.31861957907676697, 3.183049201965332]\n",
      "Iteration 419 Loss: [3.3779456615448, 0.3445291817188263, 3.033416509628296]\n",
      "Iteration 420 Loss: [3.4431724548339844, 0.28957629203796387, 3.1535961627960205]\n",
      "Iteration 421 Loss: [3.4128341674804688, 0.3086424767971039, 3.104191780090332]\n",
      "Iteration 422 Loss: [3.1161491870880127, 0.2760114371776581, 2.8401377201080322]\n",
      "Iteration 423 Loss: [3.1773648262023926, 0.30117127299308777, 2.8761935234069824]\n",
      "Iteration 424 Loss: [3.1136538982391357, 0.28044596314430237, 2.833207845687866]\n",
      "Iteration 425 Loss: [3.181324005126953, 0.2659500539302826, 2.9153740406036377]\n",
      "Iteration 426 Loss: [3.089418411254883, 0.3079850971698761, 2.781433343887329]\n",
      "Iteration 427 Loss: [2.991959571838379, 0.3109685480594635, 2.6809909343719482]\n",
      "Iteration 428 Loss: [3.1215977668762207, 0.26742759346961975, 2.854170083999634]\n",
      "Iteration 429 Loss: [3.012632369995117, 0.3340252637863159, 2.678607225418091]\n",
      "Iteration 430 Loss: [3.0943660736083984, 0.27787935733795166, 2.8164868354797363]\n",
      "Iteration 431 Loss: [3.1746792793273926, 0.2732122838497162, 2.9014670848846436]\n",
      "Iteration 432 Loss: [3.2015011310577393, 0.2698518633842468, 2.9316492080688477]\n",
      "Iteration 433 Loss: [3.3528146743774414, 0.24703598022460938, 3.105778694152832]\n",
      "Iteration 434 Loss: [3.2805798053741455, 0.27663832902908325, 3.003941535949707]\n",
      "Iteration 435 Loss: [3.3541159629821777, 0.2469264715909958, 3.107189416885376]\n",
      "Iteration 436 Loss: [3.378443956375122, 0.30666908621788025, 3.071774959564209]\n",
      "Iteration 437 Loss: [3.427168846130371, 0.2978110611438751, 3.1293578147888184]\n",
      "Iteration 438 Loss: [3.140012264251709, 0.2884364724159241, 2.8515758514404297]\n",
      "Iteration 439 Loss: [3.1908490657806396, 0.2870787978172302, 2.9037702083587646]\n",
      "Iteration 440 Loss: [3.325962543487549, 0.2928985357284546, 3.0330638885498047]\n",
      "Iteration 441 Loss: [3.139094114303589, 0.24380989372730255, 2.8952841758728027]\n",
      "Iteration 442 Loss: [3.111048698425293, 0.251396507024765, 2.859652280807495]\n",
      "Iteration 443 Loss: [3.15483021736145, 0.25835755467414856, 2.896472692489624]\n",
      "Iteration 444 Loss: [3.329057455062866, 0.31532368063926697, 3.0137338638305664]\n",
      "Iteration 445 Loss: [3.2874481678009033, 0.31148561835289, 2.9759626388549805]\n",
      "Iteration 446 Loss: [3.461822509765625, 0.2524954080581665, 3.209326982498169]\n",
      "Iteration 447 Loss: [3.387500286102295, 0.2607608139514923, 3.126739501953125]\n",
      "Iteration 448 Loss: [3.2407805919647217, 0.23903045058250427, 3.0017502307891846]\n",
      "Iteration 449 Loss: [3.2563319206237793, 0.2898631989955902, 2.9664688110351562]\n",
      "Iteration 450 Loss: [3.255944013595581, 0.260087251663208, 2.995856761932373]\n",
      "Iteration 451 Loss: [3.2430689334869385, 0.21506443619728088, 3.0280044078826904]\n",
      "Iteration 452 Loss: [3.2857730388641357, 0.29924651980400085, 2.9865264892578125]\n",
      "Iteration 453 Loss: [3.4086105823516846, 0.2817153036594391, 3.1268951892852783]\n",
      "Iteration 454 Loss: [3.2471485137939453, 0.29059067368507385, 2.9565577507019043]\n",
      "Iteration 455 Loss: [3.0667614936828613, 0.24673232436180115, 2.8200292587280273]\n",
      "Iteration 456 Loss: [3.45002818107605, 0.26950445771217346, 3.180523633956909]\n",
      "Iteration 457 Loss: [3.1594672203063965, 0.2767743468284607, 2.882692813873291]\n",
      "Iteration 458 Loss: [3.1458115577697754, 0.25974833965301514, 2.8860630989074707]\n",
      "Iteration 459 Loss: [3.341350793838501, 0.2509806454181671, 3.0903701782226562]\n",
      "Iteration 460 Loss: [3.500507354736328, 0.2678224742412567, 3.232684850692749]\n",
      "Iteration 461 Loss: [3.106229305267334, 0.22990597784519196, 2.8763232231140137]\n",
      "Iteration 462 Loss: [3.077768325805664, 0.23820975422859192, 2.8395586013793945]\n",
      "Iteration 463 Loss: [3.1205191612243652, 0.23779520392417908, 2.8827240467071533]\n",
      "Iteration 464 Loss: [3.2053213119506836, 0.26445621252059937, 2.9408650398254395]\n",
      "Iteration 465 Loss: [3.1094861030578613, 0.3024601936340332, 2.807025909423828]\n",
      "Iteration 466 Loss: [2.878140687942505, 0.22859230637550354, 2.649548292160034]\n",
      "Iteration 467 Loss: [3.012718915939331, 0.24398468434810638, 2.7687342166900635]\n",
      "Iteration 468 Loss: [3.3332550525665283, 0.23432186245918274, 3.098933219909668]\n",
      "Iteration 469 Loss: [3.051734685897827, 0.28996357321739197, 2.7617712020874023]\n",
      "Iteration 470 Loss: [3.1844050884246826, 0.3016500174999237, 2.8827550411224365]\n",
      "Iteration 471 Loss: [3.3553476333618164, 0.29270920157432556, 3.062638521194458]\n",
      "Iteration 472 Loss: [3.167421340942383, 0.30633261799812317, 2.861088752746582]\n",
      "Iteration 473 Loss: [2.9521496295928955, 0.2745782732963562, 2.6775712966918945]\n",
      "Iteration 474 Loss: [2.7311179637908936, 0.2480577975511551, 2.483060121536255]\n",
      "Iteration 475 Loss: [3.378477096557617, 0.24272575974464417, 3.135751247406006]\n",
      "Iteration 476 Loss: [3.115003824234009, 0.251913458108902, 2.8630902767181396]\n",
      "Iteration 477 Loss: [3.2525689601898193, 0.2266164869070053, 3.0259525775909424]\n",
      "Iteration 478 Loss: [3.134676218032837, 0.22694985568523407, 2.907726287841797]\n",
      "Iteration 479 Loss: [2.9576969146728516, 0.3035409450531006, 2.654155969619751]\n",
      "Iteration 480 Loss: [3.0900564193725586, 0.2644568979740143, 2.825599431991577]\n",
      "Iteration 481 Loss: [3.117170572280884, 0.22010184824466705, 2.897068738937378]\n",
      "Iteration 482 Loss: [3.4116601943969727, 0.24495084583759308, 3.1667094230651855]\n",
      "Iteration 483 Loss: [3.2344870567321777, 0.2980625033378601, 2.936424493789673]\n",
      "Iteration 484 Loss: [3.2713019847869873, 0.2213895320892334, 3.049912452697754]\n",
      "Iteration 485 Loss: [3.5379953384399414, 0.23645322024822235, 3.301542043685913]\n",
      "Iteration 486 Loss: [3.3280587196350098, 0.2252885103225708, 3.1027700901031494]\n",
      "Iteration 487 Loss: [3.4202404022216797, 0.23385708034038544, 3.1863832473754883]\n",
      "Iteration 488 Loss: [3.3509440422058105, 0.24818430840969086, 3.102759838104248]\n",
      "Iteration 489 Loss: [3.2501819133758545, 0.24662892520427704, 3.0035529136657715]\n",
      "Iteration 490 Loss: [3.09768009185791, 0.23676228523254395, 2.860917806625366]\n",
      "Iteration 491 Loss: [3.305821657180786, 0.22433431446552277, 3.0814874172210693]\n",
      "Iteration 492 Loss: [3.207108497619629, 0.30438390374183655, 2.902724504470825]\n",
      "Iteration 493 Loss: [3.0904057025909424, 0.3141910135746002, 2.776214599609375]\n",
      "Iteration 494 Loss: [3.0551705360412598, 0.25543567538261414, 2.7997348308563232]\n",
      "Iteration 495 Loss: [3.1763627529144287, 0.2694615423679352, 2.9069011211395264]\n",
      "Iteration 496 Loss: [3.41054105758667, 0.2432354837656021, 3.1673054695129395]\n",
      "Iteration 497 Loss: [2.936868667602539, 0.27171385288238525, 2.6651546955108643]\n",
      "Iteration 498 Loss: [3.2419610023498535, 0.294005811214447, 2.9479551315307617]\n",
      "Iteration 499 Loss: [3.2858142852783203, 0.29563406109809875, 2.990180253982544]\n",
      "Iteration 500 Loss: [3.086057662963867, 0.20619173347949982, 2.879865884780884]\n",
      "Iteration 501 Loss: [3.1426820755004883, 0.25241968035697937, 2.8902623653411865]\n",
      "Iteration 502 Loss: [3.179201364517212, 0.25015687942504883, 2.929044485092163]\n",
      "Iteration 503 Loss: [3.0909340381622314, 0.2494497001171112, 2.841484308242798]\n",
      "Iteration 504 Loss: [3.3816709518432617, 0.2488086223602295, 3.1328623294830322]\n",
      "Iteration 505 Loss: [3.475193500518799, 0.2837693393230438, 3.1914241313934326]\n",
      "Iteration 506 Loss: [3.319058656692505, 0.2632163166999817, 3.055842399597168]\n",
      "Iteration 507 Loss: [3.272778272628784, 0.23992259800434113, 3.032855749130249]\n",
      "Iteration 508 Loss: [3.213787317276001, 0.2523338496685028, 2.961453437805176]\n",
      "Iteration 509 Loss: [3.1832220554351807, 0.24178020656108856, 2.941441774368286]\n",
      "Iteration 510 Loss: [3.4164295196533203, 0.2666705846786499, 3.149758815765381]\n",
      "Iteration 511 Loss: [3.077694892883301, 0.23402175307273865, 2.8436732292175293]\n",
      "Iteration 512 Loss: [3.2742748260498047, 0.24764735996723175, 3.026627540588379]\n",
      "Iteration 513 Loss: [3.172611951828003, 0.23755457997322083, 2.9350574016571045]\n",
      "Iteration 514 Loss: [3.219636917114258, 0.2610682547092438, 2.958568572998047]\n",
      "Iteration 515 Loss: [3.172088146209717, 0.2569679021835327, 2.9151201248168945]\n",
      "Iteration 516 Loss: [3.0461058616638184, 0.2670605480670929, 2.779045343399048]\n",
      "Iteration 517 Loss: [3.295928955078125, 0.22299635410308838, 3.072932481765747]\n",
      "Iteration 518 Loss: [3.208158493041992, 0.2503053843975067, 2.957853078842163]\n",
      "Iteration 519 Loss: [3.163092613220215, 0.24630513787269592, 2.9167873859405518]\n",
      "Iteration 520 Loss: [3.3176722526550293, 0.22459274530410767, 3.0930795669555664]\n",
      "Iteration 521 Loss: [3.077484369277954, 0.21625082194805145, 2.8612334728240967]\n",
      "Iteration 522 Loss: [3.2676992416381836, 0.24633443355560303, 3.021364688873291]\n",
      "Iteration 523 Loss: [3.2827906608581543, 0.25537824630737305, 3.0274124145507812]\n",
      "Iteration 524 Loss: [3.2459664344787598, 0.2152951955795288, 3.0306713581085205]\n",
      "Iteration 525 Loss: [3.390150308609009, 0.23956298828125, 3.150587320327759]\n",
      "Iteration 526 Loss: [3.1435580253601074, 0.24974161386489868, 2.8938164710998535]\n",
      "Iteration 527 Loss: [3.0893847942352295, 0.22877033054828644, 2.860614538192749]\n",
      "Iteration 528 Loss: [3.162601947784424, 0.24763019382953644, 2.9149718284606934]\n",
      "Iteration 529 Loss: [3.2114171981811523, 0.266647607088089, 2.9447696208953857]\n",
      "Iteration 530 Loss: [3.126915216445923, 0.23647087812423706, 2.890444278717041]\n",
      "Iteration 531 Loss: [3.038508176803589, 0.24506337940692902, 2.793444871902466]\n",
      "Iteration 532 Loss: [3.152496814727783, 0.2993210256099701, 2.8531758785247803]\n",
      "Iteration 533 Loss: [3.3370790481567383, 0.2357233613729477, 3.101355791091919]\n",
      "Iteration 534 Loss: [3.226269245147705, 0.22013436257839203, 3.0061349868774414]\n",
      "Iteration 535 Loss: [3.0980095863342285, 0.2739357650279999, 2.8240737915039062]\n",
      "Iteration 536 Loss: [2.9238507747650146, 0.2470380812883377, 2.6768126487731934]\n",
      "Iteration 537 Loss: [2.9720678329467773, 0.21152274310588837, 2.760545015335083]\n",
      "Iteration 538 Loss: [2.941239356994629, 0.2721657156944275, 2.6690735816955566]\n",
      "Iteration 539 Loss: [3.0529634952545166, 0.25449439883232117, 2.798469066619873]\n",
      "Iteration 540 Loss: [3.1241986751556396, 0.23998872935771942, 2.8842098712921143]\n",
      "Iteration 541 Loss: [2.798262357711792, 0.2282952517271042, 2.569967031478882]\n",
      "Iteration 542 Loss: [3.048438310623169, 0.2240227609872818, 2.824415445327759]\n",
      "Iteration 543 Loss: [3.0572633743286133, 0.23241285979747772, 2.824850559234619]\n",
      "Iteration 544 Loss: [2.908740997314453, 0.2727697193622589, 2.6359713077545166]\n",
      "Iteration 545 Loss: [3.3002514839172363, 0.266528844833374, 3.0337226390838623]\n",
      "Iteration 546 Loss: [3.0425944328308105, 0.24339711666107178, 2.7991974353790283]\n",
      "Iteration 547 Loss: [3.132363796234131, 0.24852870404720306, 2.8838350772857666]\n",
      "Iteration 548 Loss: [3.1781673431396484, 0.2592126131057739, 2.918954849243164]\n",
      "Iteration 549 Loss: [3.515864372253418, 0.23104187846183777, 3.284822463989258]\n",
      "Iteration 550 Loss: [3.1804025173187256, 0.23330208659172058, 2.9471004009246826]\n",
      "Iteration 551 Loss: [3.18097186088562, 0.24774475395679474, 2.933227062225342]\n",
      "Iteration 552 Loss: [3.4353673458099365, 0.2247508019208908, 3.2106165885925293]\n",
      "Iteration 553 Loss: [3.35074782371521, 0.22131329774856567, 3.129434585571289]\n",
      "Iteration 554 Loss: [3.138584613800049, 0.25190192461013794, 2.8866827487945557]\n",
      "Iteration 555 Loss: [3.171604633331299, 0.24970048666000366, 2.9219040870666504]\n",
      "Iteration 556 Loss: [3.319502115249634, 0.2607957720756531, 3.058706283569336]\n",
      "Iteration 557 Loss: [3.4641010761260986, 0.22119703888893127, 3.2429039478302]\n",
      "Iteration 558 Loss: [3.2035458087921143, 0.2459794133901596, 2.957566499710083]\n",
      "Iteration 559 Loss: [3.142606735229492, 0.2437499761581421, 2.8988568782806396]\n",
      "Iteration 560 Loss: [3.401791572570801, 0.3048786520957947, 3.0969128608703613]\n",
      "Iteration 561 Loss: [3.6307668685913086, 0.3108772337436676, 3.319889545440674]\n",
      "Iteration 562 Loss: [3.287994146347046, 0.30497318506240845, 2.9830210208892822]\n",
      "Iteration 563 Loss: [3.291942596435547, 0.3242592513561249, 2.9676833152770996]\n",
      "Iteration 564 Loss: [3.361764669418335, 0.2162250578403473, 3.1455395221710205]\n",
      "Iteration 565 Loss: [3.4443483352661133, 0.2939957082271576, 3.150352716445923]\n",
      "Iteration 566 Loss: [3.138305902481079, 0.2627134323120117, 2.8755924701690674]\n",
      "Iteration 567 Loss: [3.3920907974243164, 0.30949148535728455, 3.082599401473999]\n",
      "Iteration 568 Loss: [3.4778146743774414, 0.2940417528152466, 3.1837730407714844]\n",
      "Iteration 569 Loss: [3.4383513927459717, 0.2772773802280426, 3.161073923110962]\n",
      "Iteration 570 Loss: [3.2050867080688477, 0.3148563802242279, 2.890230417251587]\n",
      "Iteration 571 Loss: [3.3552846908569336, 0.26213520765304565, 3.093149423599243]\n",
      "Iteration 572 Loss: [3.2358438968658447, 0.24611930549144745, 2.989724636077881]\n",
      "Iteration 573 Loss: [3.418130397796631, 0.24687077105045319, 3.171259641647339]\n",
      "Iteration 574 Loss: [3.067307949066162, 0.2988964319229126, 2.768411636352539]\n",
      "Iteration 575 Loss: [3.41805362701416, 0.27157992124557495, 3.1464736461639404]\n",
      "Iteration 576 Loss: [3.479370594024658, 0.3073393702507019, 3.1720311641693115]\n",
      "Iteration 577 Loss: [3.517909049987793, 0.3108650743961334, 3.2070438861846924]\n",
      "Iteration 578 Loss: [3.256613254547119, 0.26775869727134705, 2.9888546466827393]\n",
      "Iteration 579 Loss: [3.374882698059082, 0.2773352861404419, 3.0975475311279297]\n",
      "Iteration 580 Loss: [3.421975612640381, 0.2642444670200348, 3.157731056213379]\n",
      "Iteration 581 Loss: [3.3999533653259277, 0.25714385509490967, 3.1428093910217285]\n",
      "Iteration 582 Loss: [3.435697078704834, 0.23080457746982574, 3.20489239692688]\n",
      "Iteration 583 Loss: [3.3711771965026855, 0.26884031295776367, 3.102336883544922]\n",
      "Iteration 584 Loss: [3.2402448654174805, 0.2639790177345276, 2.9762659072875977]\n",
      "Iteration 585 Loss: [3.3695318698883057, 0.2882516384124756, 3.08128023147583]\n",
      "Iteration 586 Loss: [3.5442075729370117, 0.292657732963562, 3.2515499591827393]\n",
      "Iteration 587 Loss: [3.27913498878479, 0.28868862986564636, 2.9904463291168213]\n",
      "Iteration 588 Loss: [3.3752853870391846, 0.2769058346748352, 3.098379611968994]\n",
      "Iteration 589 Loss: [2.9605047702789307, 0.28230994939804077, 2.678194761276245]\n",
      "Iteration 590 Loss: [2.8749897480010986, 0.26234695315361023, 2.612642765045166]\n",
      "Iteration 591 Loss: [3.264054536819458, 0.29802706837654114, 2.9660274982452393]\n",
      "Iteration 592 Loss: [3.008812427520752, 0.23013493418693542, 2.778677463531494]\n",
      "Iteration 593 Loss: [3.2035322189331055, 0.31097114086151123, 2.892561197280884]\n",
      "Iteration 594 Loss: [3.0487592220306396, 0.28041163086891174, 2.7683475017547607]\n",
      "Iteration 595 Loss: [3.1081931591033936, 0.2704809606075287, 2.837712287902832]\n",
      "Iteration 596 Loss: [3.1623599529266357, 0.30275434255599976, 2.859605550765991]\n",
      "Iteration 597 Loss: [3.0471413135528564, 0.23799945414066315, 2.8091418743133545]\n",
      "Iteration 598 Loss: [3.0333073139190674, 0.29200395941734314, 2.7413034439086914]\n",
      "Iteration 599 Loss: [3.060715675354004, 0.3016122877597809, 2.759103298187256]\n",
      "Iteration 600 Loss: [3.0976336002349854, 0.26969149708747864, 2.827942132949829]\n",
      "Iteration 601 Loss: [2.9082651138305664, 0.2660371661186218, 2.6422278881073]\n",
      "Iteration 602 Loss: [3.041898250579834, 0.28820091485977173, 2.753697395324707]\n",
      "Iteration 603 Loss: [3.1763458251953125, 0.29050973057746887, 2.885836124420166]\n",
      "Iteration 604 Loss: [3.041335105895996, 0.24705860018730164, 2.794276475906372]\n",
      "Iteration 605 Loss: [3.1029152870178223, 0.30083197355270386, 2.8020832538604736]\n",
      "Iteration 606 Loss: [3.06773042678833, 0.2942260503768921, 2.7735042572021484]\n",
      "Iteration 607 Loss: [2.8983099460601807, 0.25709083676338196, 2.641219139099121]\n",
      "Iteration 608 Loss: [3.0509915351867676, 0.2454231232404709, 2.8055684566497803]\n",
      "Iteration 609 Loss: [3.2333006858825684, 0.3036046326160431, 2.9296960830688477]\n",
      "Iteration 610 Loss: [2.9422836303710938, 0.2344675362110138, 2.7078161239624023]\n",
      "Iteration 611 Loss: [3.1796929836273193, 0.24739982187747955, 2.932293176651001]\n",
      "Iteration 612 Loss: [3.227961301803589, 0.2822889983654022, 2.9456722736358643]\n",
      "Iteration 613 Loss: [3.385497570037842, 0.25934940576553345, 3.126148223876953]\n",
      "Iteration 614 Loss: [3.2499887943267822, 0.282329797744751, 2.9676589965820312]\n",
      "Iteration 615 Loss: [3.2220091819763184, 0.2726055681705475, 2.9494035243988037]\n",
      "Iteration 616 Loss: [3.470367670059204, 0.24928562343120575, 3.2210819721221924]\n",
      "Iteration 617 Loss: [3.2987804412841797, 0.2634679973125458, 3.0353124141693115]\n",
      "Iteration 618 Loss: [3.2386677265167236, 0.2797342836856842, 2.9589333534240723]\n",
      "Iteration 619 Loss: [3.1632914543151855, 0.25361359119415283, 2.9096779823303223]\n",
      "Iteration 620 Loss: [3.3290820121765137, 0.2643572986125946, 3.0647246837615967]\n",
      "Iteration 621 Loss: [3.1032557487487793, 0.22537080943584442, 2.877884864807129]\n",
      "Iteration 622 Loss: [3.2764415740966797, 0.24047429859638214, 3.0359673500061035]\n",
      "Iteration 623 Loss: [3.3282299041748047, 0.30384165048599243, 3.024388313293457]\n",
      "Iteration 624 Loss: [3.1474335193634033, 0.2662031650543213, 2.881230354309082]\n",
      "Iteration 625 Loss: [3.318553924560547, 0.36355292797088623, 2.955000877380371]\n",
      "Iteration 626 Loss: [3.365532875061035, 0.30025607347488403, 3.065276861190796]\n",
      "Iteration 627 Loss: [3.2527151107788086, 0.28612297773361206, 2.9665920734405518]\n",
      "Iteration 628 Loss: [3.3678393363952637, 0.2544192969799042, 3.113420009613037]\n",
      "Iteration 629 Loss: [3.282982587814331, 0.28605741262435913, 2.996925115585327]\n",
      "Iteration 630 Loss: [3.4514408111572266, 0.30053257942199707, 3.1509082317352295]\n",
      "Iteration 631 Loss: [3.365692138671875, 0.2612627446651459, 3.1044294834136963]\n",
      "Iteration 632 Loss: [3.298706531524658, 0.25255653262138367, 3.046149969100952]\n",
      "Iteration 633 Loss: [3.468461513519287, 0.28664642572402954, 3.1818151473999023]\n",
      "Iteration 634 Loss: [3.279797315597534, 0.27603060007095337, 3.0037667751312256]\n",
      "Iteration 635 Loss: [3.3228676319122314, 0.2711186110973358, 3.0517489910125732]\n",
      "Iteration 636 Loss: [3.0906155109405518, 0.27694395184516907, 2.813671588897705]\n",
      "Iteration 637 Loss: [3.4750382900238037, 0.3040139377117157, 3.1710243225097656]\n",
      "Iteration 638 Loss: [3.1677939891815186, 0.2633763253688812, 2.9044177532196045]\n",
      "Iteration 639 Loss: [3.3350021839141846, 0.2516363561153412, 3.0833659172058105]\n",
      "Iteration 640 Loss: [3.4093177318573, 0.281383216381073, 3.127934455871582]\n",
      "Iteration 641 Loss: [3.26066255569458, 0.2974686026573181, 2.963193893432617]\n",
      "Iteration 642 Loss: [3.0591485500335693, 0.2275548130273819, 2.8315937519073486]\n",
      "Iteration 643 Loss: [3.1475019454956055, 0.2759116291999817, 2.8715903759002686]\n",
      "Iteration 644 Loss: [3.222137928009033, 0.2574881911277771, 2.9646496772766113]\n",
      "Iteration 645 Loss: [3.2046661376953125, 0.2644432783126831, 2.940222978591919]\n",
      "Iteration 646 Loss: [3.2828989028930664, 0.24521057307720184, 3.0376882553100586]\n",
      "Iteration 647 Loss: [3.2301926612854004, 0.2972089350223541, 2.932983636856079]\n",
      "Iteration 648 Loss: [3.1672022342681885, 0.22902603447437286, 2.938176155090332]\n",
      "Iteration 649 Loss: [3.143411874771118, 0.2498610019683838, 2.8935508728027344]\n",
      "Iteration 650 Loss: [3.0766470432281494, 0.26585131883621216, 2.810795783996582]\n",
      "Iteration 651 Loss: [3.028851270675659, 0.27013349533081055, 2.7587177753448486]\n",
      "Iteration 652 Loss: [3.165837049484253, 0.2328498363494873, 2.9329872131347656]\n",
      "Iteration 653 Loss: [2.9910025596618652, 0.2611986994743347, 2.7298038005828857]\n",
      "Iteration 654 Loss: [3.153679847717285, 0.2700883448123932, 2.883591413497925]\n",
      "Iteration 655 Loss: [3.185310125350952, 0.24786561727523804, 2.9374444484710693]\n",
      "Iteration 656 Loss: [3.237961769104004, 0.27505916357040405, 2.962902545928955]\n",
      "Iteration 657 Loss: [3.227102518081665, 0.25116848945617676, 2.9759340286254883]\n",
      "Iteration 658 Loss: [3.1548218727111816, 0.25252091884613037, 2.902301073074341]\n",
      "Iteration 659 Loss: [3.4484052658081055, 0.2340332269668579, 3.214371919631958]\n",
      "Iteration 660 Loss: [3.160395622253418, 0.25738298892974854, 2.903012752532959]\n",
      "Iteration 661 Loss: [3.0810015201568604, 0.2274812012910843, 2.853520393371582]\n",
      "Iteration 662 Loss: [3.330681085586548, 0.24819111824035645, 3.0824899673461914]\n",
      "Iteration 663 Loss: [3.0803732872009277, 0.2729356288909912, 2.8074376583099365]\n",
      "Iteration 664 Loss: [3.216379165649414, 0.2609892785549164, 2.955389976501465]\n",
      "Iteration 665 Loss: [3.146693229675293, 0.25182661414146423, 2.894866704940796]\n",
      "Iteration 666 Loss: [3.221113681793213, 0.26241570711135864, 2.958698034286499]\n",
      "Iteration 667 Loss: [2.9465208053588867, 0.2029218077659607, 2.7435989379882812]\n",
      "Iteration 668 Loss: [3.286679267883301, 0.21481764316558838, 3.071861743927002]\n",
      "Iteration 669 Loss: [3.1819233894348145, 0.2586112916469574, 2.923312187194824]\n",
      "Iteration 670 Loss: [3.266411542892456, 0.2606220245361328, 3.0057895183563232]\n",
      "Iteration 671 Loss: [3.2940499782562256, 0.20552721619606018, 3.0885226726531982]\n",
      "Iteration 672 Loss: [3.0920937061309814, 0.20694559812545776, 2.885148048400879]\n",
      "Iteration 673 Loss: [2.95776104927063, 0.21731753647327423, 2.740443468093872]\n",
      "Iteration 674 Loss: [3.419013738632202, 0.26506927609443665, 3.153944492340088]\n",
      "Iteration 675 Loss: [3.194249153137207, 0.278117835521698, 2.9161312580108643]\n",
      "Iteration 676 Loss: [3.1805474758148193, 0.24516716599464417, 2.935380220413208]\n",
      "Iteration 677 Loss: [3.2850944995880127, 0.202150359749794, 3.08294415473938]\n",
      "Iteration 678 Loss: [3.062947988510132, 0.24358201026916504, 2.819365978240967]\n",
      "Iteration 679 Loss: [3.2591354846954346, 0.2106308490037918, 3.048504590988159]\n",
      "Iteration 680 Loss: [3.0234482288360596, 0.23567098379135132, 2.7877771854400635]\n",
      "Iteration 681 Loss: [3.2571897506713867, 0.2373533546924591, 3.01983642578125]\n",
      "Iteration 682 Loss: [3.1983931064605713, 0.2309695929288864, 2.967423439025879]\n",
      "Iteration 683 Loss: [3.01273512840271, 0.22640623152256012, 2.7863287925720215]\n",
      "Iteration 684 Loss: [3.363774538040161, 0.26446405053138733, 3.0993103981018066]\n",
      "Iteration 685 Loss: [3.072136402130127, 0.24718137085437775, 2.8249549865722656]\n",
      "Iteration 686 Loss: [3.216397285461426, 0.2975653111934662, 2.9188320636749268]\n",
      "Iteration 687 Loss: [3.1021666526794434, 0.28067508339881897, 2.8214914798736572]\n",
      "Iteration 688 Loss: [3.175049304962158, 0.28276145458221436, 2.8922877311706543]\n",
      "Iteration 689 Loss: [3.2294979095458984, 0.2552089989185333, 2.9742889404296875]\n",
      "Iteration 690 Loss: [3.247561454772949, 0.2233062982559204, 3.0242550373077393]\n",
      "Iteration 691 Loss: [3.1293392181396484, 0.264900267124176, 2.864439010620117]\n",
      "Iteration 692 Loss: [3.204789161682129, 0.30110788345336914, 2.9036812782287598]\n",
      "Iteration 693 Loss: [3.113473415374756, 0.2619323432445526, 2.851541042327881]\n",
      "Iteration 694 Loss: [3.235391616821289, 0.2539604902267456, 2.981431245803833]\n",
      "Iteration 695 Loss: [3.149266004562378, 0.2732488811016083, 2.8760170936584473]\n",
      "Iteration 696 Loss: [3.0627424716949463, 0.26514363288879395, 2.7975988388061523]\n",
      "Iteration 697 Loss: [3.171943187713623, 0.22818954288959503, 2.943753719329834]\n",
      "Iteration 698 Loss: [3.218695878982544, 0.28763270378112793, 2.931063175201416]\n",
      "Iteration 699 Loss: [3.406930446624756, 0.28336676955223083, 3.123563766479492]\n",
      "Reached tolerance threshold. Stopping training.\n"
     ]
    }
   ],
   "source": [
    "# Train DEC model\n",
    "dec.train_dec(features, maxiter=8000, update_interval=140, tol=0.001)"
   ]
  },
  {
   "cell_type": "code",
   "execution_count": 19,
   "metadata": {},
   "outputs": [
    {
     "name": "stdout",
     "output_type": "stream",
     "text": [
      "3125/3125 [==============================] - 3s 884us/step\n",
      "Predicted clusters: [4 2 2 ... 4 2 6]\n"
     ]
    }
   ],
   "source": [
    "# Predict clusters\n",
    "clusters = dec.predict(features)\n",
    "print(\"Predicted clusters:\", clusters)"
   ]
  },
  {
   "cell_type": "code",
   "execution_count": 20,
   "metadata": {},
   "outputs": [
    {
     "name": "stdout",
     "output_type": "stream",
     "text": [
      "3125/3125 [==============================] - 2s 563us/step\n"
     ]
    }
   ],
   "source": [
    "embeddings = dec.encoder.predict(features)"
   ]
  },
  {
   "cell_type": "markdown",
   "metadata": {},
   "source": [
    "## PCA"
   ]
  },
  {
   "cell_type": "code",
   "execution_count": 21,
   "metadata": {},
   "outputs": [
    {
     "data": {
      "text/html": [
       "<style>#sk-container-id-1 {color: black;background-color: white;}#sk-container-id-1 pre{padding: 0;}#sk-container-id-1 div.sk-toggleable {background-color: white;}#sk-container-id-1 label.sk-toggleable__label {cursor: pointer;display: block;width: 100%;margin-bottom: 0;padding: 0.3em;box-sizing: border-box;text-align: center;}#sk-container-id-1 label.sk-toggleable__label-arrow:before {content: \"▸\";float: left;margin-right: 0.25em;color: #696969;}#sk-container-id-1 label.sk-toggleable__label-arrow:hover:before {color: black;}#sk-container-id-1 div.sk-estimator:hover label.sk-toggleable__label-arrow:before {color: black;}#sk-container-id-1 div.sk-toggleable__content {max-height: 0;max-width: 0;overflow: hidden;text-align: left;background-color: #f0f8ff;}#sk-container-id-1 div.sk-toggleable__content pre {margin: 0.2em;color: black;border-radius: 0.25em;background-color: #f0f8ff;}#sk-container-id-1 input.sk-toggleable__control:checked~div.sk-toggleable__content {max-height: 200px;max-width: 100%;overflow: auto;}#sk-container-id-1 input.sk-toggleable__control:checked~label.sk-toggleable__label-arrow:before {content: \"▾\";}#sk-container-id-1 div.sk-estimator input.sk-toggleable__control:checked~label.sk-toggleable__label {background-color: #d4ebff;}#sk-container-id-1 div.sk-label input.sk-toggleable__control:checked~label.sk-toggleable__label {background-color: #d4ebff;}#sk-container-id-1 input.sk-hidden--visually {border: 0;clip: rect(1px 1px 1px 1px);clip: rect(1px, 1px, 1px, 1px);height: 1px;margin: -1px;overflow: hidden;padding: 0;position: absolute;width: 1px;}#sk-container-id-1 div.sk-estimator {font-family: monospace;background-color: #f0f8ff;border: 1px dotted black;border-radius: 0.25em;box-sizing: border-box;margin-bottom: 0.5em;}#sk-container-id-1 div.sk-estimator:hover {background-color: #d4ebff;}#sk-container-id-1 div.sk-parallel-item::after {content: \"\";width: 100%;border-bottom: 1px solid gray;flex-grow: 1;}#sk-container-id-1 div.sk-label:hover label.sk-toggleable__label {background-color: #d4ebff;}#sk-container-id-1 div.sk-serial::before {content: \"\";position: absolute;border-left: 1px solid gray;box-sizing: border-box;top: 0;bottom: 0;left: 50%;z-index: 0;}#sk-container-id-1 div.sk-serial {display: flex;flex-direction: column;align-items: center;background-color: white;padding-right: 0.2em;padding-left: 0.2em;position: relative;}#sk-container-id-1 div.sk-item {position: relative;z-index: 1;}#sk-container-id-1 div.sk-parallel {display: flex;align-items: stretch;justify-content: center;background-color: white;position: relative;}#sk-container-id-1 div.sk-item::before, #sk-container-id-1 div.sk-parallel-item::before {content: \"\";position: absolute;border-left: 1px solid gray;box-sizing: border-box;top: 0;bottom: 0;left: 50%;z-index: -1;}#sk-container-id-1 div.sk-parallel-item {display: flex;flex-direction: column;z-index: 1;position: relative;background-color: white;}#sk-container-id-1 div.sk-parallel-item:first-child::after {align-self: flex-end;width: 50%;}#sk-container-id-1 div.sk-parallel-item:last-child::after {align-self: flex-start;width: 50%;}#sk-container-id-1 div.sk-parallel-item:only-child::after {width: 0;}#sk-container-id-1 div.sk-dashed-wrapped {border: 1px dashed gray;margin: 0 0.4em 0.5em 0.4em;box-sizing: border-box;padding-bottom: 0.4em;background-color: white;}#sk-container-id-1 div.sk-label label {font-family: monospace;font-weight: bold;display: inline-block;line-height: 1.2em;}#sk-container-id-1 div.sk-label-container {text-align: center;}#sk-container-id-1 div.sk-container {/* jupyter's `normalize.less` sets `[hidden] { display: none; }` but bootstrap.min.css set `[hidden] { display: none !important; }` so we also need the `!important` here to be able to override the default hidden behavior on the sphinx rendered scikit-learn.org. See: https://github.com/scikit-learn/scikit-learn/issues/21755 */display: inline-block !important;position: relative;}#sk-container-id-1 div.sk-text-repr-fallback {display: none;}</style><div id=\"sk-container-id-1\" class=\"sk-top-container\"><div class=\"sk-text-repr-fallback\"><pre>PCA()</pre><b>In a Jupyter environment, please rerun this cell to show the HTML representation or trust the notebook. <br />On GitHub, the HTML representation is unable to render, please try loading this page with nbviewer.org.</b></div><div class=\"sk-container\" hidden><div class=\"sk-item\"><div class=\"sk-estimator sk-toggleable\"><input class=\"sk-toggleable__control sk-hidden--visually\" id=\"sk-estimator-id-1\" type=\"checkbox\" checked><label for=\"sk-estimator-id-1\" class=\"sk-toggleable__label sk-toggleable__label-arrow\">PCA</label><div class=\"sk-toggleable__content\"><pre>PCA()</pre></div></div></div></div></div>"
      ],
      "text/plain": [
       "PCA()"
      ]
     },
     "execution_count": 21,
     "metadata": {},
     "output_type": "execute_result"
    }
   ],
   "source": [
    "pca = PCA()\n",
    "pca.fit(embeddings)"
   ]
  },
  {
   "cell_type": "code",
   "execution_count": 22,
   "metadata": {},
   "outputs": [
    {
     "name": "stdout",
     "output_type": "stream",
     "text": [
      "[5.51000742e-01 2.60222450e-01 1.31628039e-01 5.01984623e-02\n",
      " 3.18897967e-03 1.34745162e-03 1.04872219e-03 5.04384003e-04\n",
      " 2.57307676e-04 1.75456013e-04 1.61599201e-04 1.36376460e-04\n",
      " 5.84382438e-05 3.25786457e-05 1.93215017e-05 1.25682995e-05\n",
      " 7.12360919e-06]\n"
     ]
    }
   ],
   "source": [
    "print(pca.explained_variance_ratio_)"
   ]
  },
  {
   "cell_type": "code",
   "execution_count": 23,
   "metadata": {},
   "outputs": [
    {
     "name": "stdout",
     "output_type": "stream",
     "text": [
      "Number of components explaining at least 80% variance: 2\n"
     ]
    },
    {
     "data": {
      "image/png": "[encoded data removed]",
      "text/plain": [
       "<Figure size 1000x800 with 1 Axes>"
      ]
     },
     "metadata": {},
     "output_type": "display_data"
    }
   ],
   "source": [
    "cumulative_explained_variance = np.cumsum(pca.explained_variance_ratio_)\n",
    "\n",
    "plt.figure(figsize= (10, 8))\n",
    "plt.plot(range(1,18), cumulative_explained_variance, marker = 'o', linestyle='--')\n",
    "plt.title('Explained Variance by Components')\n",
    "plt.xlabel('NUmber of Components')\n",
    "plt.ylabel('Cumulative Explained Variance')\n",
    "\n",
    "# Find the number of components that explain at least 80% of the variance\n",
    "n_components_80 = np.argmax(cumulative_explained_variance >= 0.80) + 1\n",
    "print(f\"Number of components explaining at least 80% variance: {n_components_80}\")"
   ]
  },
  {
   "cell_type": "code",
   "execution_count": 24,
   "metadata": {},
   "outputs": [],
   "source": [
    "pca = PCA(n_components=2)\n",
    "features_pca = pca.fit_transform(features)"
   ]
  },
  {
   "cell_type": "markdown",
   "metadata": {},
   "source": [
    "## Determine the number of clusters(k)"
   ]
  },
  {
   "cell_type": "code",
   "execution_count": 25,
   "metadata": {},
   "outputs": [
    {
     "name": "stdout",
     "output_type": "stream",
     "text": [
      "Now on k 1\n",
      "Now on k 2\n",
      "Now on k 3\n",
      "Now on k 4\n",
      "Now on k 5\n",
      "Now on k 6\n",
      "Now on k 7\n",
      "Now on k 8\n",
      "Now on k 9\n",
      "Now on k 10\n",
      "Now on k 11\n",
      "Now on k 12\n",
      "Now on k 13\n",
      "Now on k 14\n",
      "Now on k 15\n",
      "Now on k 16\n",
      "Now on k 17\n",
      "Now on k 18\n",
      "Now on k 19\n"
     ]
    }
   ],
   "source": [
    "# Define a range of k values to test\n",
    "k_range = range(1, 20)\n",
    "\n",
    "wcss = []\n",
    "for k in k_range:\n",
    "    print('Now on k {}'.format(k))\n",
    "    kmeans = KMeans(n_clusters=k, random_state=0).fit(features_pca)\n",
    "    wcss.append(kmeans.inertia_)"
   ]
  },
  {
   "cell_type": "code",
   "execution_count": 26,
   "metadata": {},
   "outputs": [
    {
     "data": {
      "image/png": "[encoded data removed]",
      "text/plain": [
       "<Figure size 1000x800 with 1 Axes>"
      ]
     },
     "metadata": {},
     "output_type": "display_data"
    }
   ],
   "source": [
    "# Plotting WCSS vs k to identify the elbow point\n",
    "plt.figure(figsize=(10, 8))\n",
    "plt.plot(k_range, wcss, 'o-', markerfacecolor='lightblue', markeredgewidth=2, markersize=8)\n",
    "plt.xlabel('Number of clusters (k)')\n",
    "plt.ylabel('WCSS (Within Cluster Sum of Squares)')\n",
    "plt.title('Elbow Method for KMeans Clustering')\n",
    "plt.show()"
   ]
  },
  {
   "cell_type": "markdown",
   "metadata": {},
   "source": [
    "## Clustering"
   ]
  },
  {
   "cell_type": "code",
   "execution_count": 28,
   "metadata": {},
   "outputs": [
    {
     "data": {
      "text/html": [
       "<div>\n",
       "<style scoped>\n",
       "    .dataframe tbody tr th:only-of-type {\n",
       "        vertical-align: middle;\n",
       "    }\n",
       "\n",
       "    .dataframe tbody tr th {\n",
       "        vertical-align: top;\n",
       "    }\n",
       "\n",
       "    .dataframe thead th {\n",
       "        text-align: right;\n",
       "    }\n",
       "</style>\n",
       "<table border=\"1\" class=\"dataframe\">\n",
       "  <thead>\n",
       "    <tr style=\"text-align: right;\">\n",
       "      <th></th>\n",
       "      <th>account_category</th>\n",
       "      <th>bi_account_classification</th>\n",
       "      <th>customer_type</th>\n",
       "      <th>region</th>\n",
       "      <th>employee_number</th>\n",
       "      <th>revenue_in_eur</th>\n",
       "      <th>number_distinct_active_licenses</th>\n",
       "      <th>major_edition</th>\n",
       "      <th>total_connections_12m</th>\n",
       "      <th>total_endpoints_12m</th>\n",
       "      <th>total_devices_12m</th>\n",
       "      <th>current_sales_channel</th>\n",
       "      <th>age_customer</th>\n",
       "      <th>number_renewals</th>\n",
       "      <th>account_value_in_eur</th>\n",
       "      <th>billings_ltm_prorated</th>\n",
       "      <th>industry</th>\n",
       "      <th>Component 1</th>\n",
       "      <th>Component 2</th>\n",
       "      <th>clusters</th>\n",
       "    </tr>\n",
       "    <tr>\n",
       "      <th>cluster_kmeans</th>\n",
       "      <th></th>\n",
       "      <th></th>\n",
       "      <th></th>\n",
       "      <th></th>\n",
       "      <th></th>\n",
       "      <th></th>\n",
       "      <th></th>\n",
       "      <th></th>\n",
       "      <th></th>\n",
       "      <th></th>\n",
       "      <th></th>\n",
       "      <th></th>\n",
       "      <th></th>\n",
       "      <th></th>\n",
       "      <th></th>\n",
       "      <th></th>\n",
       "      <th></th>\n",
       "      <th></th>\n",
       "      <th></th>\n",
       "      <th></th>\n",
       "    </tr>\n",
       "  </thead>\n",
       "  <tbody>\n",
       "    <tr>\n",
       "      <th>0</th>\n",
       "      <td>3.993628</td>\n",
       "      <td>1.243732</td>\n",
       "      <td>0.094302</td>\n",
       "      <td>1.572391</td>\n",
       "      <td>0.000432</td>\n",
       "      <td>0.000239</td>\n",
       "      <td>0.002593</td>\n",
       "      <td>1.331531</td>\n",
       "      <td>0.000838</td>\n",
       "      <td>0.001284</td>\n",
       "      <td>0.000899</td>\n",
       "      <td>4.895487</td>\n",
       "      <td>0.261547</td>\n",
       "      <td>0.016643</td>\n",
       "      <td>0.001430</td>\n",
       "      <td>0.000967</td>\n",
       "      <td>7.306905</td>\n",
       "      <td>-1.417161</td>\n",
       "      <td>-2.291100</td>\n",
       "      <td>0.0</td>\n",
       "    </tr>\n",
       "    <tr>\n",
       "      <th>1</th>\n",
       "      <td>3.923171</td>\n",
       "      <td>1.008173</td>\n",
       "      <td>0.014901</td>\n",
       "      <td>1.646349</td>\n",
       "      <td>0.000464</td>\n",
       "      <td>0.000195</td>\n",
       "      <td>0.006192</td>\n",
       "      <td>1.366414</td>\n",
       "      <td>0.002582</td>\n",
       "      <td>0.003989</td>\n",
       "      <td>0.002283</td>\n",
       "      <td>0.043476</td>\n",
       "      <td>0.394133</td>\n",
       "      <td>0.019425</td>\n",
       "      <td>0.003282</td>\n",
       "      <td>0.002182</td>\n",
       "      <td>7.385684</td>\n",
       "      <td>-1.739389</td>\n",
       "      <td>2.559212</td>\n",
       "      <td>1.0</td>\n",
       "    </tr>\n",
       "    <tr>\n",
       "      <th>2</th>\n",
       "      <td>3.990565</td>\n",
       "      <td>1.317113</td>\n",
       "      <td>0.111663</td>\n",
       "      <td>1.625411</td>\n",
       "      <td>0.000713</td>\n",
       "      <td>0.000383</td>\n",
       "      <td>0.002442</td>\n",
       "      <td>1.324126</td>\n",
       "      <td>0.000800</td>\n",
       "      <td>0.001052</td>\n",
       "      <td>0.000916</td>\n",
       "      <td>4.872323</td>\n",
       "      <td>0.252506</td>\n",
       "      <td>0.016545</td>\n",
       "      <td>0.001445</td>\n",
       "      <td>0.001009</td>\n",
       "      <td>2.062442</td>\n",
       "      <td>3.819737</td>\n",
       "      <td>-2.008215</td>\n",
       "      <td>2.0</td>\n",
       "    </tr>\n",
       "    <tr>\n",
       "      <th>3</th>\n",
       "      <td>3.896997</td>\n",
       "      <td>1.010445</td>\n",
       "      <td>0.017917</td>\n",
       "      <td>1.622298</td>\n",
       "      <td>0.000854</td>\n",
       "      <td>0.000501</td>\n",
       "      <td>0.006051</td>\n",
       "      <td>1.437473</td>\n",
       "      <td>0.002443</td>\n",
       "      <td>0.003347</td>\n",
       "      <td>0.002474</td>\n",
       "      <td>0.059263</td>\n",
       "      <td>0.382660</td>\n",
       "      <td>0.018995</td>\n",
       "      <td>0.003571</td>\n",
       "      <td>0.002443</td>\n",
       "      <td>2.154940</td>\n",
       "      <td>3.485988</td>\n",
       "      <td>2.805315</td>\n",
       "      <td>3.0</td>\n",
       "    </tr>\n",
       "  </tbody>\n",
       "</table>\n",
       "</div>"
      ],
      "text/plain": [
       "                account_category  bi_account_classification  customer_type  \\\n",
       "cluster_kmeans                                                               \n",
       "0                       3.993628                   1.243732       0.094302   \n",
       "1                       3.923171                   1.008173       0.014901   \n",
       "2                       3.990565                   1.317113       0.111663   \n",
       "3                       3.896997                   1.010445       0.017917   \n",
       "\n",
       "                  region  employee_number  revenue_in_eur  \\\n",
       "cluster_kmeans                                              \n",
       "0               1.572391         0.000432        0.000239   \n",
       "1               1.646349         0.000464        0.000195   \n",
       "2               1.625411         0.000713        0.000383   \n",
       "3               1.622298         0.000854        0.000501   \n",
       "\n",
       "                number_distinct_active_licenses  major_edition  \\\n",
       "cluster_kmeans                                                   \n",
       "0                                      0.002593       1.331531   \n",
       "1                                      0.006192       1.366414   \n",
       "2                                      0.002442       1.324126   \n",
       "3                                      0.006051       1.437473   \n",
       "\n",
       "                total_connections_12m  total_endpoints_12m  total_devices_12m  \\\n",
       "cluster_kmeans                                                                  \n",
       "0                            0.000838             0.001284           0.000899   \n",
       "1                            0.002582             0.003989           0.002283   \n",
       "2                            0.000800             0.001052           0.000916   \n",
       "3                            0.002443             0.003347           0.002474   \n",
       "\n",
       "                current_sales_channel  age_customer  number_renewals  \\\n",
       "cluster_kmeans                                                         \n",
       "0                            4.895487      0.261547         0.016643   \n",
       "1                            0.043476      0.394133         0.019425   \n",
       "2                            4.872323      0.252506         0.016545   \n",
       "3                            0.059263      0.382660         0.018995   \n",
       "\n",
       "                account_value_in_eur  billings_ltm_prorated  industry  \\\n",
       "cluster_kmeans                                                          \n",
       "0                           0.001430               0.000967  7.306905   \n",
       "1                           0.003282               0.002182  7.385684   \n",
       "2                           0.001445               0.001009  2.062442   \n",
       "3                           0.003571               0.002443  2.154940   \n",
       "\n",
       "                Component 1  Component 2  clusters  \n",
       "cluster_kmeans                                      \n",
       "0                 -1.417161    -2.291100       0.0  \n",
       "1                 -1.739389     2.559212       1.0  \n",
       "2                  3.819737    -2.008215       2.0  \n",
       "3                  3.485988     2.805315       3.0  "
      ]
     },
     "execution_count": 28,
     "metadata": {},
     "output_type": "execute_result"
    }
   ],
   "source": [
    "# Fit the KMeans model\n",
    "kmeans = KMeans(n_clusters=4, random_state=0).fit(features_pca)\n",
    "\n",
    "# Get the cluster labels\n",
    "cluster_labels = kmeans.labels_\n",
    "\n",
    "# Get the cluster centers\n",
    "cluster_centers = kmeans.cluster_centers_\n",
    "\n",
    "df_pca = pd.concat([df.reset_index(drop=True), pd.DataFrame(features_pca)], axis=1)\n",
    "df_pca.columns.values[-2: ] = ['Component 1', 'Component 2']\n",
    "df_pca['clusters'] = kmeans.labels_\n",
    "df_pca['cluster_kmeans'] = kmeans.predict(features_pca)\n",
    "df_latex = df_pca.groupby(['cluster_kmeans']).mean()\n",
    "df_latex"
   ]
  },
  {
   "cell_type": "code",
   "execution_count": 29,
   "metadata": {},
   "outputs": [],
   "source": [
    "df_latex.drop(columns=['Component 1', 'Component 2', 'clusters'], inplace=True)\n",
    "df_latex = df_latex.T"
   ]
  },
  {
   "cell_type": "code",
   "execution_count": 30,
   "metadata": {},
   "outputs": [
    {
     "data": {
      "text/html": [
       "<div>\n",
       "<style scoped>\n",
       "    .dataframe tbody tr th:only-of-type {\n",
       "        vertical-align: middle;\n",
       "    }\n",
       "\n",
       "    .dataframe tbody tr th {\n",
       "        vertical-align: top;\n",
       "    }\n",
       "\n",
       "    .dataframe thead th {\n",
       "        text-align: right;\n",
       "    }\n",
       "</style>\n",
       "<table border=\"1\" class=\"dataframe\">\n",
       "  <thead>\n",
       "    <tr style=\"text-align: right;\">\n",
       "      <th>cluster_kmeans</th>\n",
       "      <th>0</th>\n",
       "      <th>1</th>\n",
       "      <th>2</th>\n",
       "      <th>3</th>\n",
       "    </tr>\n",
       "  </thead>\n",
       "  <tbody>\n",
       "    <tr>\n",
       "      <th>account_category</th>\n",
       "      <td>3.993628</td>\n",
       "      <td>3.923171</td>\n",
       "      <td>3.990565</td>\n",
       "      <td>3.896997</td>\n",
       "    </tr>\n",
       "    <tr>\n",
       "      <th>bi_account_classification</th>\n",
       "      <td>1.243732</td>\n",
       "      <td>1.008173</td>\n",
       "      <td>1.317113</td>\n",
       "      <td>1.010445</td>\n",
       "    </tr>\n",
       "    <tr>\n",
       "      <th>customer_type</th>\n",
       "      <td>0.094302</td>\n",
       "      <td>0.014901</td>\n",
       "      <td>0.111663</td>\n",
       "      <td>0.017917</td>\n",
       "    </tr>\n",
       "    <tr>\n",
       "      <th>region</th>\n",
       "      <td>1.572391</td>\n",
       "      <td>1.646349</td>\n",
       "      <td>1.625411</td>\n",
       "      <td>1.622298</td>\n",
       "    </tr>\n",
       "    <tr>\n",
       "      <th>employee_number</th>\n",
       "      <td>0.000432</td>\n",
       "      <td>0.000464</td>\n",
       "      <td>0.000713</td>\n",
       "      <td>0.000854</td>\n",
       "    </tr>\n",
       "    <tr>\n",
       "      <th>revenue_in_eur</th>\n",
       "      <td>0.000239</td>\n",
       "      <td>0.000195</td>\n",
       "      <td>0.000383</td>\n",
       "      <td>0.000501</td>\n",
       "    </tr>\n",
       "    <tr>\n",
       "      <th>number_distinct_active_licenses</th>\n",
       "      <td>0.002593</td>\n",
       "      <td>0.006192</td>\n",
       "      <td>0.002442</td>\n",
       "      <td>0.006051</td>\n",
       "    </tr>\n",
       "    <tr>\n",
       "      <th>major_edition</th>\n",
       "      <td>1.331531</td>\n",
       "      <td>1.366414</td>\n",
       "      <td>1.324126</td>\n",
       "      <td>1.437473</td>\n",
       "    </tr>\n",
       "    <tr>\n",
       "      <th>total_connections_12m</th>\n",
       "      <td>0.000838</td>\n",
       "      <td>0.002582</td>\n",
       "      <td>0.000800</td>\n",
       "      <td>0.002443</td>\n",
       "    </tr>\n",
       "    <tr>\n",
       "      <th>total_endpoints_12m</th>\n",
       "      <td>0.001284</td>\n",
       "      <td>0.003989</td>\n",
       "      <td>0.001052</td>\n",
       "      <td>0.003347</td>\n",
       "    </tr>\n",
       "    <tr>\n",
       "      <th>total_devices_12m</th>\n",
       "      <td>0.000899</td>\n",
       "      <td>0.002283</td>\n",
       "      <td>0.000916</td>\n",
       "      <td>0.002474</td>\n",
       "    </tr>\n",
       "    <tr>\n",
       "      <th>current_sales_channel</th>\n",
       "      <td>4.895487</td>\n",
       "      <td>0.043476</td>\n",
       "      <td>4.872323</td>\n",
       "      <td>0.059263</td>\n",
       "    </tr>\n",
       "    <tr>\n",
       "      <th>age_customer</th>\n",
       "      <td>0.261547</td>\n",
       "      <td>0.394133</td>\n",
       "      <td>0.252506</td>\n",
       "      <td>0.382660</td>\n",
       "    </tr>\n",
       "    <tr>\n",
       "      <th>number_renewals</th>\n",
       "      <td>0.016643</td>\n",
       "      <td>0.019425</td>\n",
       "      <td>0.016545</td>\n",
       "      <td>0.018995</td>\n",
       "    </tr>\n",
       "    <tr>\n",
       "      <th>account_value_in_eur</th>\n",
       "      <td>0.001430</td>\n",
       "      <td>0.003282</td>\n",
       "      <td>0.001445</td>\n",
       "      <td>0.003571</td>\n",
       "    </tr>\n",
       "    <tr>\n",
       "      <th>billings_ltm_prorated</th>\n",
       "      <td>0.000967</td>\n",
       "      <td>0.002182</td>\n",
       "      <td>0.001009</td>\n",
       "      <td>0.002443</td>\n",
       "    </tr>\n",
       "    <tr>\n",
       "      <th>industry</th>\n",
       "      <td>7.306905</td>\n",
       "      <td>7.385684</td>\n",
       "      <td>2.062442</td>\n",
       "      <td>2.154940</td>\n",
       "    </tr>\n",
       "  </tbody>\n",
       "</table>\n",
       "</div>"
      ],
      "text/plain": [
       "cluster_kmeans                          0         1         2         3\n",
       "account_category                 3.993628  3.923171  3.990565  3.896997\n",
       "bi_account_classification        1.243732  1.008173  1.317113  1.010445\n",
       "customer_type                    0.094302  0.014901  0.111663  0.017917\n",
       "region                           1.572391  1.646349  1.625411  1.622298\n",
       "employee_number                  0.000432  0.000464  0.000713  0.000854\n",
       "revenue_in_eur                   0.000239  0.000195  0.000383  0.000501\n",
       "number_distinct_active_licenses  0.002593  0.006192  0.002442  0.006051\n",
       "major_edition                    1.331531  1.366414  1.324126  1.437473\n",
       "total_connections_12m            0.000838  0.002582  0.000800  0.002443\n",
       "total_endpoints_12m              0.001284  0.003989  0.001052  0.003347\n",
       "total_devices_12m                0.000899  0.002283  0.000916  0.002474\n",
       "current_sales_channel            4.895487  0.043476  4.872323  0.059263\n",
       "age_customer                     0.261547  0.394133  0.252506  0.382660\n",
       "number_renewals                  0.016643  0.019425  0.016545  0.018995\n",
       "account_value_in_eur             0.001430  0.003282  0.001445  0.003571\n",
       "billings_ltm_prorated            0.000967  0.002182  0.001009  0.002443\n",
       "industry                         7.306905  7.385684  2.062442  2.154940"
      ]
     },
     "execution_count": 30,
     "metadata": {},
     "output_type": "execute_result"
    }
   ],
   "source": [
    "df_latex"
   ]
  },
  {
   "cell_type": "code",
   "execution_count": 31,
   "metadata": {},
   "outputs": [
    {
     "name": "stdout",
     "output_type": "stream",
     "text": [
      "\\begin{table}[H]\n",
      "\\centering\n",
      "\\caption{Average Values of each feature per Cluster}\n",
      "\\label{tab:avg_clusters}\n",
      "\\begin{tabular}{cccc}\n",
      "\\toprule\n",
      "    0 &     1 &     2 &     3 \\\\\n",
      "\\midrule\n",
      "3.994 & 3.923 & 3.991 & 3.897 \\\\\n",
      "1.244 & 1.008 & 1.317 & 1.010 \\\\\n",
      "0.094 & 0.015 & 0.112 & 0.018 \\\\\n",
      "1.572 & 1.646 & 1.625 & 1.622 \\\\\n",
      "0.000 & 0.000 & 0.001 & 0.001 \\\\\n",
      "0.000 & 0.000 & 0.000 & 0.001 \\\\\n",
      "0.003 & 0.006 & 0.002 & 0.006 \\\\\n",
      "1.332 & 1.366 & 1.324 & 1.437 \\\\\n",
      "0.001 & 0.003 & 0.001 & 0.002 \\\\\n",
      "0.001 & 0.004 & 0.001 & 0.003 \\\\\n",
      "0.001 & 0.002 & 0.001 & 0.002 \\\\\n",
      "4.895 & 0.043 & 4.872 & 0.059 \\\\\n",
      "0.262 & 0.394 & 0.253 & 0.383 \\\\\n",
      "0.017 & 0.019 & 0.017 & 0.019 \\\\\n",
      "0.001 & 0.003 & 0.001 & 0.004 \\\\\n",
      "0.001 & 0.002 & 0.001 & 0.002 \\\\\n",
      "7.307 & 7.386 & 2.062 & 2.155 \\\\\n",
      "\\bottomrule\n",
      "\\end{tabular}\n",
      "\\end{table}\n",
      "\n"
     ]
    }
   ],
   "source": [
    "latex_table = df_latex.to_latex(\n",
    "    index=False,  # To not include the DataFrame index as a column in the table\n",
    "    caption=\"Average Values of each feature per Cluster\",  # The caption to appear above the table in the LaTeX document\n",
    "    label=\"tab:avg_clusters\",  # A label used for referencing the table within the LaTeX document\n",
    "    position=\"H\",  # The preferred positions where the table should be placed in the document ('here', 'top', 'bottom', 'page')\n",
    "    column_format=\"cccc\",  # The format of the columns: left-aligned with vertical lines between them\n",
    "    escape=False,  # Disable escaping LaTeX special characters in the DataFrame\n",
    "    float_format=\"{:0.3f}\".format  # Formats floats to two decimal places\n",
    ")\n",
    "\n",
    "print(latex_table)"
   ]
  },
  {
   "cell_type": "code",
   "execution_count": 32,
   "metadata": {},
   "outputs": [
    {
     "data": {
      "text/plain": [
       "0    38292\n",
       "1    31811\n",
       "2    16111\n",
       "3    13786\n",
       "Name: cluster_kmeans, dtype: int64"
      ]
     },
     "execution_count": 32,
     "metadata": {},
     "output_type": "execute_result"
    }
   ],
   "source": [
    "df_pca.cluster_kmeans.value_counts()"
   ]
  },
  {
   "cell_type": "code",
   "execution_count": 33,
   "metadata": {},
   "outputs": [
    {
     "data": {
      "image/png": "[encoded data removed]",
      "text/plain": [
       "<Figure size 1000x500 with 2 Axes>"
      ]
     },
     "metadata": {},
     "output_type": "display_data"
    }
   ],
   "source": [
    "# Visualize the correlation matrix\n",
    "plt.figure(figsize=(10,5))\n",
    "sns.heatmap(df_pca.groupby(['cluster_kmeans']).mean(), cmap='coolwarm', annot=True)\n",
    "plt.show()"
   ]
  },
  {
   "cell_type": "code",
   "execution_count": 34,
   "metadata": {},
   "outputs": [
    {
     "data": {
      "application/vnd.plotly.v1+json": {
       "config": {
        "plotlyServerURL": "https://plot.ly"
       },
       "data": [
        {
         "hovertemplate": "label=0<br>value=%{r}<br>variable=%{theta}<extra></extra>",
         "legendgroup": "0",
         "line": {
          "color": "#636efa",
          "dash": "solid"
         },
         "marker": {
          "symbol": "circle"
         },
         "mode": "lines",
         "name": "0",
         "r": [
          3.9936279118353704,
          1.2437323722970854,
          0.09430168181343361,
          1.5723910999686619,
          0.00043183077326635407,
          0.00023906630430481116,
          0.0025925187316600666,
          1.3315313903687453,
          0.0008380485377900662,
          0.0012842611048902843,
          0.0008986886785355866,
          4.895487308053902,
          0.2615474895693156,
          0.016642719598556475,
          0.001430270713354327,
          0.0009666680082945206,
          7.306904836519378,
          3.9936279118353704
         ],
         "showlegend": true,
         "subplot": "polar",
         "theta": [
          "account_category",
          "bi_account_classification",
          "customer_type",
          "region",
          "employee_number",
          "revenue_in_eur",
          "number_distinct_active_licenses",
          "major_edition",
          "total_connections_12m",
          "total_endpoints_12m",
          "total_devices_12m",
          "current_sales_channel",
          "age_customer",
          "number_renewals",
          "account_value_in_eur",
          "billings_ltm_prorated",
          "industry",
          "account_category"
         ],
         "type": "scatterpolar"
        },
        {
         "hovertemplate": "label=1<br>value=%{r}<br>variable=%{theta}<extra></extra>",
         "legendgroup": "1",
         "line": {
          "color": "#EF553B",
          "dash": "solid"
         },
         "marker": {
          "symbol": "circle"
         },
         "mode": "lines",
         "name": "1",
         "r": [
          3.9231712300776462,
          1.0081732733959952,
          0.014900506114237214,
          1.6463487472886738,
          0.0004639904296630171,
          0.00019496820290322445,
          0.006192418125397284,
          1.3664141334758417,
          0.002581656939093173,
          0.003989412562691437,
          0.002282786918593553,
          0.04347552733331238,
          0.394132995060902,
          0.019425166208674703,
          0.00328165946747229,
          0.002181551400627842,
          7.385684197290246,
          3.9231712300776462
         ],
         "showlegend": true,
         "subplot": "polar",
         "theta": [
          "account_category",
          "bi_account_classification",
          "customer_type",
          "region",
          "employee_number",
          "revenue_in_eur",
          "number_distinct_active_licenses",
          "major_edition",
          "total_connections_12m",
          "total_endpoints_12m",
          "total_devices_12m",
          "current_sales_channel",
          "age_customer",
          "number_renewals",
          "account_value_in_eur",
          "billings_ltm_prorated",
          "industry",
          "account_category"
         ],
         "type": "scatterpolar"
        },
        {
         "hovertemplate": "label=2<br>value=%{r}<br>variable=%{theta}<extra></extra>",
         "legendgroup": "2",
         "line": {
          "color": "#00cc96",
          "dash": "solid"
         },
         "marker": {
          "symbol": "circle"
         },
         "mode": "lines",
         "name": "2",
         "r": [
          3.9905654521755323,
          1.3171125318105643,
          0.11166283905406243,
          1.6254112097324809,
          0.0007125428618629125,
          0.0003830621079922823,
          0.002442470942253699,
          1.324126373285333,
          0.0008003851788312308,
          0.0010520327521370285,
          0.0009164586494984674,
          4.872323257401775,
          0.2525055953732744,
          0.016545299531668858,
          0.0014454711233247645,
          0.0010092372392678105,
          2.062441809943517,
          3.9905654521755323
         ],
         "showlegend": true,
         "subplot": "polar",
         "theta": [
          "account_category",
          "bi_account_classification",
          "customer_type",
          "region",
          "employee_number",
          "revenue_in_eur",
          "number_distinct_active_licenses",
          "major_edition",
          "total_connections_12m",
          "total_endpoints_12m",
          "total_devices_12m",
          "current_sales_channel",
          "age_customer",
          "number_renewals",
          "account_value_in_eur",
          "billings_ltm_prorated",
          "industry",
          "account_category"
         ],
         "type": "scatterpolar"
        },
        {
         "hovertemplate": "label=3<br>value=%{r}<br>variable=%{theta}<extra></extra>",
         "legendgroup": "3",
         "line": {
          "color": "#ab63fa",
          "dash": "solid"
         },
         "marker": {
          "symbol": "circle"
         },
         "mode": "lines",
         "name": "3",
         "r": [
          3.896996953431017,
          1.0104453793703758,
          0.01791672711446395,
          1.6222979834614826,
          0.0008540008390896424,
          0.0005005898942160674,
          0.0060512170261191,
          1.437472798491223,
          0.0024425562488969103,
          0.0033474115081488817,
          0.002473560983883787,
          0.0592630204555346,
          0.38266015821677574,
          0.01899452274525154,
          0.003571172957903683,
          0.0024430796824982505,
          2.154939793993907,
          3.896996953431017
         ],
         "showlegend": true,
         "subplot": "polar",
         "theta": [
          "account_category",
          "bi_account_classification",
          "customer_type",
          "region",
          "employee_number",
          "revenue_in_eur",
          "number_distinct_active_licenses",
          "major_edition",
          "total_connections_12m",
          "total_endpoints_12m",
          "total_devices_12m",
          "current_sales_channel",
          "age_customer",
          "number_renewals",
          "account_value_in_eur",
          "billings_ltm_prorated",
          "industry",
          "account_category"
         ],
         "type": "scatterpolar"
        }
       ],
       "layout": {
        "height": 800,
        "legend": {
         "title": {
          "text": "label"
         },
         "tracegroupgap": 0
        },
        "polar": {
         "angularaxis": {
          "direction": "clockwise",
          "rotation": 90
         },
         "domain": {
          "x": [
           0,
           1
          ],
          "y": [
           0,
           1
          ]
         }
        },
        "template": {
         "data": {
          "bar": [
           {
            "error_x": {
             "color": "#2a3f5f"
            },
            "error_y": {
             "color": "#2a3f5f"
            },
            "marker": {
             "line": {
              "color": "#E5ECF6",
              "width": 0.5
             },
             "pattern": {
              "fillmode": "overlay",
              "size": 10,
              "solidity": 0.2
             }
            },
            "type": "bar"
           }
          ],
          "barpolar": [
           {
            "marker": {
             "line": {
              "color": "#E5ECF6",
              "width": 0.5
             },
             "pattern": {
              "fillmode": "overlay",
              "size": 10,
              "solidity": 0.2
             }
            },
            "type": "barpolar"
           }
          ],
          "carpet": [
           {
            "aaxis": {
             "endlinecolor": "#2a3f5f",
             "gridcolor": "white",
             "linecolor": "white",
             "minorgridcolor": "white",
             "startlinecolor": "#2a3f5f"
            },
            "baxis": {
             "endlinecolor": "#2a3f5f",
             "gridcolor": "white",
             "linecolor": "white",
             "minorgridcolor": "white",
             "startlinecolor": "#2a3f5f"
            },
            "type": "carpet"
           }
          ],
          "choropleth": [
           {
            "colorbar": {
             "outlinewidth": 0,
             "ticks": ""
            },
            "type": "choropleth"
           }
          ],
          "contour": [
           {
            "colorbar": {
             "outlinewidth": 0,
             "ticks": ""
            },
            "colorscale": [
             [
              0,
              "#0d0887"
             ],
             [
              0.1111111111111111,
              "#46039f"
             ],
             [
              0.2222222222222222,
              "#7201a8"
             ],
             [
              0.3333333333333333,
              "#9c179e"
             ],
             [
              0.4444444444444444,
              "#bd3786"
             ],
             [
              0.5555555555555556,
              "#d8576b"
             ],
             [
              0.6666666666666666,
              "#ed7953"
             ],
             [
              0.7777777777777778,
              "#fb9f3a"
             ],
             [
              0.8888888888888888,
              "#fdca26"
             ],
             [
              1,
              "#f0f921"
             ]
            ],
            "type": "contour"
           }
          ],
          "contourcarpet": [
           {
            "colorbar": {
             "outlinewidth": 0,
             "ticks": ""
            },
            "type": "contourcarpet"
           }
          ],
          "heatmap": [
           {
            "colorbar": {
             "outlinewidth": 0,
             "ticks": ""
            },
            "colorscale": [
             [
              0,
              "#0d0887"
             ],
             [
              0.1111111111111111,
              "#46039f"
             ],
             [
              0.2222222222222222,
              "#7201a8"
             ],
             [
              0.3333333333333333,
              "#9c179e"
             ],
             [
              0.4444444444444444,
              "#bd3786"
             ],
             [
              0.5555555555555556,
              "#d8576b"
             ],
             [
              0.6666666666666666,
              "#ed7953"
             ],
             [
              0.7777777777777778,
              "#fb9f3a"
             ],
             [
              0.8888888888888888,
              "#fdca26"
             ],
             [
              1,
              "#f0f921"
             ]
            ],
            "type": "heatmap"
           }
          ],
          "heatmapgl": [
           {
            "colorbar": {
             "outlinewidth": 0,
             "ticks": ""
            },
            "colorscale": [
             [
              0,
              "#0d0887"
             ],
             [
              0.1111111111111111,
              "#46039f"
             ],
             [
              0.2222222222222222,
              "#7201a8"
             ],
             [
              0.3333333333333333,
              "#9c179e"
             ],
             [
              0.4444444444444444,
              "#bd3786"
             ],
             [
              0.5555555555555556,
              "#d8576b"
             ],
             [
              0.6666666666666666,
              "#ed7953"
             ],
             [
              0.7777777777777778,
              "#fb9f3a"
             ],
             [
              0.8888888888888888,
              "#fdca26"
             ],
             [
              1,
              "#f0f921"
             ]
            ],
            "type": "heatmapgl"
           }
          ],
          "histogram": [
           {
            "marker": {
             "pattern": {
              "fillmode": "overlay",
              "size": 10,
              "solidity": 0.2
             }
            },
            "type": "histogram"
           }
          ],
          "histogram2d": [
           {
            "colorbar": {
             "outlinewidth": 0,
             "ticks": ""
            },
            "colorscale": [
             [
              0,
              "#0d0887"
             ],
             [
              0.1111111111111111,
              "#46039f"
             ],
             [
              0.2222222222222222,
              "#7201a8"
             ],
             [
              0.3333333333333333,
              "#9c179e"
             ],
             [
              0.4444444444444444,
              "#bd3786"
             ],
             [
              0.5555555555555556,
              "#d8576b"
             ],
             [
              0.6666666666666666,
              "#ed7953"
             ],
             [
              0.7777777777777778,
              "#fb9f3a"
             ],
             [
              0.8888888888888888,
              "#fdca26"
             ],
             [
              1,
              "#f0f921"
             ]
            ],
            "type": "histogram2d"
           }
          ],
          "histogram2dcontour": [
           {
            "colorbar": {
             "outlinewidth": 0,
             "ticks": ""
            },
            "colorscale": [
             [
              0,
              "#0d0887"
             ],
             [
              0.1111111111111111,
              "#46039f"
             ],
             [
              0.2222222222222222,
              "#7201a8"
             ],
             [
              0.3333333333333333,
              "#9c179e"
             ],
             [
              0.4444444444444444,
              "#bd3786"
             ],
             [
              0.5555555555555556,
              "#d8576b"
             ],
             [
              0.6666666666666666,
              "#ed7953"
             ],
             [
              0.7777777777777778,
              "#fb9f3a"
             ],
             [
              0.8888888888888888,
              "#fdca26"
             ],
             [
              1,
              "#f0f921"
             ]
            ],
            "type": "histogram2dcontour"
           }
          ],
          "mesh3d": [
           {
            "colorbar": {
             "outlinewidth": 0,
             "ticks": ""
            },
            "type": "mesh3d"
           }
          ],
          "parcoords": [
           {
            "line": {
             "colorbar": {
              "outlinewidth": 0,
              "ticks": ""
             }
            },
            "type": "parcoords"
           }
          ],
          "pie": [
           {
            "automargin": true,
            "type": "pie"
           }
          ],
          "scatter": [
           {
            "fillpattern": {
             "fillmode": "overlay",
             "size": 10,
             "solidity": 0.2
            },
            "type": "scatter"
           }
          ],
          "scatter3d": [
           {
            "line": {
             "colorbar": {
              "outlinewidth": 0,
              "ticks": ""
             }
            },
            "marker": {
             "colorbar": {
              "outlinewidth": 0,
              "ticks": ""
             }
            },
            "type": "scatter3d"
           }
          ],
          "scattercarpet": [
           {
            "marker": {
             "colorbar": {
              "outlinewidth": 0,
              "ticks": ""
             }
            },
            "type": "scattercarpet"
           }
          ],
          "scattergeo": [
           {
            "marker": {
             "colorbar": {
              "outlinewidth": 0,
              "ticks": ""
             }
            },
            "type": "scattergeo"
           }
          ],
          "scattergl": [
           {
            "marker": {
             "colorbar": {
              "outlinewidth": 0,
              "ticks": ""
             }
            },
            "type": "scattergl"
           }
          ],
          "scattermapbox": [
           {
            "marker": {
             "colorbar": {
              "outlinewidth": 0,
              "ticks": ""
             }
            },
            "type": "scattermapbox"
           }
          ],
          "scatterpolar": [
           {
            "marker": {
             "colorbar": {
              "outlinewidth": 0,
              "ticks": ""
             }
            },
            "type": "scatterpolar"
           }
          ],
          "scatterpolargl": [
           {
            "marker": {
             "colorbar": {
              "outlinewidth": 0,
              "ticks": ""
             }
            },
            "type": "scatterpolargl"
           }
          ],
          "scatterternary": [
           {
            "marker": {
             "colorbar": {
              "outlinewidth": 0,
              "ticks": ""
             }
            },
            "type": "scatterternary"
           }
          ],
          "surface": [
           {
            "colorbar": {
             "outlinewidth": 0,
             "ticks": ""
            },
            "colorscale": [
             [
              0,
              "#0d0887"
             ],
             [
              0.1111111111111111,
              "#46039f"
             ],
             [
              0.2222222222222222,
              "#7201a8"
             ],
             [
              0.3333333333333333,
              "#9c179e"
             ],
             [
              0.4444444444444444,
              "#bd3786"
             ],
             [
              0.5555555555555556,
              "#d8576b"
             ],
             [
              0.6666666666666666,
              "#ed7953"
             ],
             [
              0.7777777777777778,
              "#fb9f3a"
             ],
             [
              0.8888888888888888,
              "#fdca26"
             ],
             [
              1,
              "#f0f921"
             ]
            ],
            "type": "surface"
           }
          ],
          "table": [
           {
            "cells": {
             "fill": {
              "color": "#EBF0F8"
             },
             "line": {
              "color": "white"
             }
            },
            "header": {
             "fill": {
              "color": "#C8D4E3"
             },
             "line": {
              "color": "white"
             }
            },
            "type": "table"
           }
          ]
         },
         "layout": {
          "annotationdefaults": {
           "arrowcolor": "#2a3f5f",
           "arrowhead": 0,
           "arrowwidth": 1
          },
          "autotypenumbers": "strict",
          "coloraxis": {
           "colorbar": {
            "outlinewidth": 0,
            "ticks": ""
           }
          },
          "colorscale": {
           "diverging": [
            [
             0,
             "#8e0152"
            ],
            [
             0.1,
             "#c51b7d"
            ],
            [
             0.2,
             "#de77ae"
            ],
            [
             0.3,
             "#f1b6da"
            ],
            [
             0.4,
             "#fde0ef"
            ],
            [
             0.5,
             "#f7f7f7"
            ],
            [
             0.6,
             "#e6f5d0"
            ],
            [
             0.7,
             "#b8e186"
            ],
            [
             0.8,
             "#7fbc41"
            ],
            [
             0.9,
             "#4d9221"
            ],
            [
             1,
             "#276419"
            ]
           ],
           "sequential": [
            [
             0,
             "#0d0887"
            ],
            [
             0.1111111111111111,
             "#46039f"
            ],
            [
             0.2222222222222222,
             "#7201a8"
            ],
            [
             0.3333333333333333,
             "#9c179e"
            ],
            [
             0.4444444444444444,
             "#bd3786"
            ],
            [
             0.5555555555555556,
             "#d8576b"
            ],
            [
             0.6666666666666666,
             "#ed7953"
            ],
            [
             0.7777777777777778,
             "#fb9f3a"
            ],
            [
             0.8888888888888888,
             "#fdca26"
            ],
            [
             1,
             "#f0f921"
            ]
           ],
           "sequentialminus": [
            [
             0,
             "#0d0887"
            ],
            [
             0.1111111111111111,
             "#46039f"
            ],
            [
             0.2222222222222222,
             "#7201a8"
            ],
            [
             0.3333333333333333,
             "#9c179e"
            ],
            [
             0.4444444444444444,
             "#bd3786"
            ],
            [
             0.5555555555555556,
             "#d8576b"
            ],
            [
             0.6666666666666666,
             "#ed7953"
            ],
            [
             0.7777777777777778,
             "#fb9f3a"
            ],
            [
             0.8888888888888888,
             "#fdca26"
            ],
            [
             1,
             "#f0f921"
            ]
           ]
          },
          "colorway": [
           "#636efa",
           "#EF553B",
           "#00cc96",
           "#ab63fa",
           "#FFA15A",
           "#19d3f3",
           "#FF6692",
           "#B6E880",
           "#FF97FF",
           "#FECB52"
          ],
          "font": {
           "color": "#2a3f5f"
          },
          "geo": {
           "bgcolor": "white",
           "lakecolor": "white",
           "landcolor": "#E5ECF6",
           "showlakes": true,
           "showland": true,
           "subunitcolor": "white"
          },
          "hoverlabel": {
           "align": "left"
          },
          "hovermode": "closest",
          "mapbox": {
           "style": "light"
          },
          "paper_bgcolor": "white",
          "plot_bgcolor": "#E5ECF6",
          "polar": {
           "angularaxis": {
            "gridcolor": "white",
            "linecolor": "white",
            "ticks": ""
           },
           "bgcolor": "#E5ECF6",
           "radialaxis": {
            "gridcolor": "white",
            "linecolor": "white",
            "ticks": ""
           }
          },
          "scene": {
           "xaxis": {
            "backgroundcolor": "#E5ECF6",
            "gridcolor": "white",
            "gridwidth": 2,
            "linecolor": "white",
            "showbackground": true,
            "ticks": "",
            "zerolinecolor": "white"
           },
           "yaxis": {
            "backgroundcolor": "#E5ECF6",
            "gridcolor": "white",
            "gridwidth": 2,
            "linecolor": "white",
            "showbackground": true,
            "ticks": "",
            "zerolinecolor": "white"
           },
           "zaxis": {
            "backgroundcolor": "#E5ECF6",
            "gridcolor": "white",
            "gridwidth": 2,
            "linecolor": "white",
            "showbackground": true,
            "ticks": "",
            "zerolinecolor": "white"
           }
          },
          "shapedefaults": {
           "line": {
            "color": "#2a3f5f"
           }
          },
          "ternary": {
           "aaxis": {
            "gridcolor": "white",
            "linecolor": "white",
            "ticks": ""
           },
           "baxis": {
            "gridcolor": "white",
            "linecolor": "white",
            "ticks": ""
           },
           "bgcolor": "#E5ECF6",
           "caxis": {
            "gridcolor": "white",
            "linecolor": "white",
            "ticks": ""
           }
          },
          "title": {
           "x": 0.05
          },
          "xaxis": {
           "automargin": true,
           "gridcolor": "white",
           "linecolor": "white",
           "ticks": "",
           "title": {
            "standoff": 15
           },
           "zerolinecolor": "white",
           "zerolinewidth": 2
          },
          "yaxis": {
           "automargin": true,
           "gridcolor": "white",
           "linecolor": "white",
           "ticks": "",
           "title": {
            "standoff": 15
           },
           "zerolinecolor": "white",
           "zerolinewidth": 2
          }
         }
        },
        "title": {
         "text": "DEC Model Original Dataset Radar Chart"
        },
        "width": 1200
       }
      }
     },
     "metadata": {},
     "output_type": "display_data"
    }
   ],
   "source": [
    "clusters=pd.DataFrame(features, columns=features_df.columns)\n",
    "clusters['label']=kmeans.labels_\n",
    "polar=clusters.groupby(\"label\").mean().reset_index()\n",
    "polar=pd.melt(polar,id_vars=[\"label\"])\n",
    "fig = px.line_polar(polar, r=\"value\", theta=\"variable\", color=\"label\", \n",
    "                    line_close=True,\n",
    "                    height=800,\n",
    "                    width=1200, \n",
    "                    title=\"DEC Model Original Dataset Radar Chart\")\n",
    "fig.show()"
   ]
  },
  {
   "cell_type": "code",
   "execution_count": 35,
   "metadata": {},
   "outputs": [
    {
     "data": {
      "text/html": [
       "<div>\n",
       "<style scoped>\n",
       "    .dataframe tbody tr th:only-of-type {\n",
       "        vertical-align: middle;\n",
       "    }\n",
       "\n",
       "    .dataframe tbody tr th {\n",
       "        vertical-align: top;\n",
       "    }\n",
       "\n",
       "    .dataframe thead th {\n",
       "        text-align: right;\n",
       "    }\n",
       "</style>\n",
       "<table border=\"1\" class=\"dataframe\">\n",
       "  <thead>\n",
       "    <tr style=\"text-align: right;\">\n",
       "      <th></th>\n",
       "      <th>cluster</th>\n",
       "      <th>count</th>\n",
       "    </tr>\n",
       "  </thead>\n",
       "  <tbody>\n",
       "    <tr>\n",
       "      <th>0</th>\n",
       "      <td>0</td>\n",
       "      <td>38292</td>\n",
       "    </tr>\n",
       "    <tr>\n",
       "      <th>1</th>\n",
       "      <td>1</td>\n",
       "      <td>31811</td>\n",
       "    </tr>\n",
       "    <tr>\n",
       "      <th>2</th>\n",
       "      <td>2</td>\n",
       "      <td>16111</td>\n",
       "    </tr>\n",
       "    <tr>\n",
       "      <th>3</th>\n",
       "      <td>3</td>\n",
       "      <td>13786</td>\n",
       "    </tr>\n",
       "  </tbody>\n",
       "</table>\n",
       "</div>"
      ],
      "text/plain": [
       "   cluster  count\n",
       "0        0  38292\n",
       "1        1  31811\n",
       "2        2  16111\n",
       "3        3  13786"
      ]
     },
     "execution_count": 35,
     "metadata": {},
     "output_type": "execute_result"
    }
   ],
   "source": [
    "clusters_df = clusters.groupby('label').size().reset_index()\n",
    "clusters_df.rename(columns={'label': 'cluster', 0: 'count'}, inplace=True)\n",
    "clusters_df"
   ]
  },
  {
   "cell_type": "code",
   "execution_count": 36,
   "metadata": {},
   "outputs": [
    {
     "data": {
      "image/png": "[encoded data removed]",
      "text/plain": [
       "<Figure size 640x480 with 1 Axes>"
      ]
     },
     "metadata": {},
     "output_type": "display_data"
    }
   ],
   "source": [
    "#define Seaborn color palette to use\n",
    "colors = sns.color_palette('pastel')[0:5]\n",
    "\n",
    "#create pie chart\n",
    "plt.pie(clusters_df['count'], labels = clusters_df['cluster'], colors = colors, autopct='%.0f%%')\n",
    "plt.title('DEC Model Original Pie Chart')\n",
    "plt.show()"
   ]
  },
  {
   "cell_type": "markdown",
   "metadata": {},
   "source": [
    "## Evaluation"
   ]
  },
  {
   "cell_type": "code",
   "execution_count": 37,
   "metadata": {},
   "outputs": [
    {
     "name": "stdout",
     "output_type": "stream",
     "text": [
      "Silhouette Score: 0.488\n"
     ]
    }
   ],
   "source": [
    "# Calculate Silhouette Score\n",
    "silhouette_avg = silhouette_score(features_df, cluster_labels)\n",
    "print(f'Silhouette Score: {silhouette_avg:.3f}')"
   ]
  },
  {
   "cell_type": "code",
   "execution_count": 38,
   "metadata": {},
   "outputs": [
    {
     "name": "stdout",
     "output_type": "stream",
     "text": [
      "Davies-Bouldin Index: 0.838\n"
     ]
    }
   ],
   "source": [
    "# Calculate Davies-Bouldin Index\n",
    "davies_bouldin_avg = davies_bouldin_score(features_df, cluster_labels)\n",
    "print(f'Davies-Bouldin Index: {davies_bouldin_avg:.3f}')"
   ]
  }
 ],
 "metadata": {
  "kernelspec": {
   "display_name": "base",
   "language": "python",
   "name": "python3"
  },
  "language_info": {
   "codemirror_mode": {
    "name": "ipython",
    "version": 3
   },
   "file_extension": ".py",
   "mimetype": "text/x-python",
   "name": "python",
   "nbconvert_exporter": "python",
   "pygments_lexer": "ipython3",
   "version": "3.9.13"
  }
 },
 "nbformat": 4,
 "nbformat_minor": 2
}
