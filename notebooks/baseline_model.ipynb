{
 "cells": [
  {
   "cell_type": "markdown",
   "metadata": {},
   "source": [
    "# Baseline Model"
   ]
  },
  {
   "cell_type": "code",
   "execution_count": 45,
   "metadata": {},
   "outputs": [],
   "source": [
    "import matplotlib.pyplot as plt \n",
    "import numpy as np\n",
    "import pandas as pd\n",
    "import plotly.express as px\n",
    "import re\n",
    "from sklearn.cluster import KMeans\n",
    "from sklearn.decomposition import PCA\n",
    "import seaborn as sns\n",
    "import warnings # ignore warnings\n",
    "warnings.filterwarnings('ignore')"
   ]
  },
  {
   "cell_type": "code",
   "execution_count": 24,
   "metadata": {},
   "outputs": [],
   "source": [
    "df = pd.read_csv('../data/final_df.csv', sep='|') "
   ]
  },
  {
   "cell_type": "code",
   "execution_count": 25,
   "metadata": {},
   "outputs": [
    {
     "name": "stdout",
     "output_type": "stream",
     "text": [
      "<class 'pandas.core.frame.DataFrame'>\n",
      "RangeIndex: 100000 entries, 0 to 99999\n",
      "Data columns (total 12 columns):\n",
      " #   Column                                  Non-Null Count   Dtype  \n",
      "---  ------                                  --------------   -----  \n",
      " 0   account_id                              100000 non-null  object \n",
      " 1   yeojohnson_revenue_in_eur_bin           100000 non-null  int64  \n",
      " 2   is_EMEA                                 100000 non-null  int64  \n",
      " 3   is_Webshop                              100000 non-null  int64  \n",
      " 4   is_industry_FinanceInsuranceRealEstate  100000 non-null  int64  \n",
      " 5   is_industry_Manufacturing               100000 non-null  int64  \n",
      " 6   is_industry_Other                       100000 non-null  int64  \n",
      " 7   is_industry_RetailTrade                 100000 non-null  int64  \n",
      " 8   is_industry_Services                    100000 non-null  int64  \n",
      " 9   is_industry_WholesaleTrade              100000 non-null  int64  \n",
      " 10  license_value_score                     100000 non-null  float64\n",
      " 11  customer_value_score                    100000 non-null  float64\n",
      "dtypes: float64(2), int64(9), object(1)\n",
      "memory usage: 9.2+ MB\n"
     ]
    }
   ],
   "source": [
    "df.info()"
   ]
  },
  {
   "cell_type": "code",
   "execution_count": 26,
   "metadata": {},
   "outputs": [
    {
     "data": {
      "text/html": [
       "<div>\n",
       "<style scoped>\n",
       "    .dataframe tbody tr th:only-of-type {\n",
       "        vertical-align: middle;\n",
       "    }\n",
       "\n",
       "    .dataframe tbody tr th {\n",
       "        vertical-align: top;\n",
       "    }\n",
       "\n",
       "    .dataframe thead th {\n",
       "        text-align: right;\n",
       "    }\n",
       "</style>\n",
       "<table border=\"1\" class=\"dataframe\">\n",
       "  <thead>\n",
       "    <tr style=\"text-align: right;\">\n",
       "      <th></th>\n",
       "      <th>account_id</th>\n",
       "      <th>yeojohnson_revenue_in_eur_bin</th>\n",
       "      <th>is_EMEA</th>\n",
       "      <th>is_Webshop</th>\n",
       "      <th>is_industry_FinanceInsuranceRealEstate</th>\n",
       "      <th>is_industry_Manufacturing</th>\n",
       "      <th>is_industry_Other</th>\n",
       "      <th>is_industry_RetailTrade</th>\n",
       "      <th>is_industry_Services</th>\n",
       "      <th>is_industry_WholesaleTrade</th>\n",
       "      <th>license_value_score</th>\n",
       "      <th>customer_value_score</th>\n",
       "    </tr>\n",
       "  </thead>\n",
       "  <tbody>\n",
       "    <tr>\n",
       "      <th>0</th>\n",
       "      <td>ac6a99474410f1c59c91da3f0cf9cf3f</td>\n",
       "      <td>3</td>\n",
       "      <td>0</td>\n",
       "      <td>1</td>\n",
       "      <td>0</td>\n",
       "      <td>0</td>\n",
       "      <td>0</td>\n",
       "      <td>0</td>\n",
       "      <td>1</td>\n",
       "      <td>0</td>\n",
       "      <td>0.225903</td>\n",
       "      <td>0.404288</td>\n",
       "    </tr>\n",
       "    <tr>\n",
       "      <th>1</th>\n",
       "      <td>1cc66628ed41f3db5a55195e93277a04</td>\n",
       "      <td>3</td>\n",
       "      <td>0</td>\n",
       "      <td>1</td>\n",
       "      <td>0</td>\n",
       "      <td>0</td>\n",
       "      <td>0</td>\n",
       "      <td>0</td>\n",
       "      <td>0</td>\n",
       "      <td>1</td>\n",
       "      <td>0.692198</td>\n",
       "      <td>0.000000</td>\n",
       "    </tr>\n",
       "    <tr>\n",
       "      <th>2</th>\n",
       "      <td>db5f3cdd5629b9591b720b9b7e077df2</td>\n",
       "      <td>4</td>\n",
       "      <td>0</td>\n",
       "      <td>1</td>\n",
       "      <td>0</td>\n",
       "      <td>0</td>\n",
       "      <td>0</td>\n",
       "      <td>0</td>\n",
       "      <td>1</td>\n",
       "      <td>0</td>\n",
       "      <td>0.025903</td>\n",
       "      <td>0.058008</td>\n",
       "    </tr>\n",
       "    <tr>\n",
       "      <th>3</th>\n",
       "      <td>bebb4028688f519f36ed220855b0a62f</td>\n",
       "      <td>4</td>\n",
       "      <td>0</td>\n",
       "      <td>0</td>\n",
       "      <td>0</td>\n",
       "      <td>0</td>\n",
       "      <td>0</td>\n",
       "      <td>0</td>\n",
       "      <td>1</td>\n",
       "      <td>0</td>\n",
       "      <td>0.825945</td>\n",
       "      <td>0.703012</td>\n",
       "    </tr>\n",
       "    <tr>\n",
       "      <th>4</th>\n",
       "      <td>507c0bfb67895d773e3f8bd33b861d09</td>\n",
       "      <td>4</td>\n",
       "      <td>0</td>\n",
       "      <td>0</td>\n",
       "      <td>1</td>\n",
       "      <td>0</td>\n",
       "      <td>0</td>\n",
       "      <td>0</td>\n",
       "      <td>0</td>\n",
       "      <td>0</td>\n",
       "      <td>0.826668</td>\n",
       "      <td>0.467596</td>\n",
       "    </tr>\n",
       "    <tr>\n",
       "      <th>5</th>\n",
       "      <td>b1267a5b953b7267de811510f838172b</td>\n",
       "      <td>3</td>\n",
       "      <td>0</td>\n",
       "      <td>1</td>\n",
       "      <td>0</td>\n",
       "      <td>0</td>\n",
       "      <td>0</td>\n",
       "      <td>1</td>\n",
       "      <td>0</td>\n",
       "      <td>0</td>\n",
       "      <td>0.172568</td>\n",
       "      <td>0.270317</td>\n",
       "    </tr>\n",
       "    <tr>\n",
       "      <th>6</th>\n",
       "      <td>3315ad169d4d2e9080f1377c44377c7c</td>\n",
       "      <td>3</td>\n",
       "      <td>0</td>\n",
       "      <td>0</td>\n",
       "      <td>0</td>\n",
       "      <td>0</td>\n",
       "      <td>0</td>\n",
       "      <td>0</td>\n",
       "      <td>1</td>\n",
       "      <td>0</td>\n",
       "      <td>0.784642</td>\n",
       "      <td>0.863665</td>\n",
       "    </tr>\n",
       "    <tr>\n",
       "      <th>7</th>\n",
       "      <td>8ca7b69eda1a06b32e60fff1c6db3b28</td>\n",
       "      <td>4</td>\n",
       "      <td>0</td>\n",
       "      <td>0</td>\n",
       "      <td>0</td>\n",
       "      <td>0</td>\n",
       "      <td>1</td>\n",
       "      <td>0</td>\n",
       "      <td>0</td>\n",
       "      <td>0</td>\n",
       "      <td>0.530824</td>\n",
       "      <td>0.608520</td>\n",
       "    </tr>\n",
       "    <tr>\n",
       "      <th>8</th>\n",
       "      <td>5bd2eea4e2320b9246b41a8f54fb02d2</td>\n",
       "      <td>2</td>\n",
       "      <td>0</td>\n",
       "      <td>0</td>\n",
       "      <td>0</td>\n",
       "      <td>0</td>\n",
       "      <td>0</td>\n",
       "      <td>0</td>\n",
       "      <td>1</td>\n",
       "      <td>0</td>\n",
       "      <td>0.925757</td>\n",
       "      <td>0.625388</td>\n",
       "    </tr>\n",
       "    <tr>\n",
       "      <th>9</th>\n",
       "      <td>bbfb03bca60fb0185be3f36d12c99b3f</td>\n",
       "      <td>3</td>\n",
       "      <td>0</td>\n",
       "      <td>0</td>\n",
       "      <td>0</td>\n",
       "      <td>0</td>\n",
       "      <td>0</td>\n",
       "      <td>0</td>\n",
       "      <td>1</td>\n",
       "      <td>0</td>\n",
       "      <td>0.864130</td>\n",
       "      <td>0.635761</td>\n",
       "    </tr>\n",
       "  </tbody>\n",
       "</table>\n",
       "</div>"
      ],
      "text/plain": [
       "                         account_id  yeojohnson_revenue_in_eur_bin  is_EMEA  \\\n",
       "0  ac6a99474410f1c59c91da3f0cf9cf3f                              3        0   \n",
       "1  1cc66628ed41f3db5a55195e93277a04                              3        0   \n",
       "2  db5f3cdd5629b9591b720b9b7e077df2                              4        0   \n",
       "3  bebb4028688f519f36ed220855b0a62f                              4        0   \n",
       "4  507c0bfb67895d773e3f8bd33b861d09                              4        0   \n",
       "5  b1267a5b953b7267de811510f838172b                              3        0   \n",
       "6  3315ad169d4d2e9080f1377c44377c7c                              3        0   \n",
       "7  8ca7b69eda1a06b32e60fff1c6db3b28                              4        0   \n",
       "8  5bd2eea4e2320b9246b41a8f54fb02d2                              2        0   \n",
       "9  bbfb03bca60fb0185be3f36d12c99b3f                              3        0   \n",
       "\n",
       "   is_Webshop  is_industry_FinanceInsuranceRealEstate  \\\n",
       "0           1                                       0   \n",
       "1           1                                       0   \n",
       "2           1                                       0   \n",
       "3           0                                       0   \n",
       "4           0                                       1   \n",
       "5           1                                       0   \n",
       "6           0                                       0   \n",
       "7           0                                       0   \n",
       "8           0                                       0   \n",
       "9           0                                       0   \n",
       "\n",
       "   is_industry_Manufacturing  is_industry_Other  is_industry_RetailTrade  \\\n",
       "0                          0                  0                        0   \n",
       "1                          0                  0                        0   \n",
       "2                          0                  0                        0   \n",
       "3                          0                  0                        0   \n",
       "4                          0                  0                        0   \n",
       "5                          0                  0                        1   \n",
       "6                          0                  0                        0   \n",
       "7                          0                  1                        0   \n",
       "8                          0                  0                        0   \n",
       "9                          0                  0                        0   \n",
       "\n",
       "   is_industry_Services  is_industry_WholesaleTrade  license_value_score  \\\n",
       "0                     1                           0             0.225903   \n",
       "1                     0                           1             0.692198   \n",
       "2                     1                           0             0.025903   \n",
       "3                     1                           0             0.825945   \n",
       "4                     0                           0             0.826668   \n",
       "5                     0                           0             0.172568   \n",
       "6                     1                           0             0.784642   \n",
       "7                     0                           0             0.530824   \n",
       "8                     1                           0             0.925757   \n",
       "9                     1                           0             0.864130   \n",
       "\n",
       "   customer_value_score  \n",
       "0              0.404288  \n",
       "1              0.000000  \n",
       "2              0.058008  \n",
       "3              0.703012  \n",
       "4              0.467596  \n",
       "5              0.270317  \n",
       "6              0.863665  \n",
       "7              0.608520  \n",
       "8              0.625388  \n",
       "9              0.635761  "
      ]
     },
     "execution_count": 26,
     "metadata": {},
     "output_type": "execute_result"
    }
   ],
   "source": [
    "df.head(10)"
   ]
  },
  {
   "cell_type": "code",
   "execution_count": 27,
   "metadata": {},
   "outputs": [],
   "source": [
    "# Extract features columns excluding 'account_id'\n",
    "features_df = df.drop(columns=['account_id'])\n",
    "\n",
    "# Convert DataFrame to numpy array\n",
    "features = features_df.to_numpy()"
   ]
  },
  {
   "cell_type": "markdown",
   "metadata": {},
   "source": [
    "## Determine the number of clusters(k)"
   ]
  },
  {
   "cell_type": "code",
   "execution_count": 28,
   "metadata": {},
   "outputs": [
    {
     "name": "stdout",
     "output_type": "stream",
     "text": [
      "Now on k 1\n",
      "Now on k 2\n",
      "Now on k 3\n",
      "Now on k 4\n",
      "Now on k 5\n",
      "Now on k 6\n",
      "Now on k 7\n",
      "Now on k 8\n",
      "Now on k 9\n",
      "Now on k 10\n",
      "Now on k 11\n",
      "Now on k 12\n",
      "Now on k 13\n",
      "Now on k 14\n",
      "Now on k 15\n",
      "Now on k 16\n",
      "Now on k 17\n",
      "Now on k 18\n",
      "Now on k 19\n"
     ]
    }
   ],
   "source": [
    "# Define a range of k values to test\n",
    "k_range = range(1, 20)\n",
    "\n",
    "wcss = []\n",
    "for k in k_range:\n",
    "    print('Now on k {}'.format(k))\n",
    "    kmeans = KMeans(n_clusters=k, random_state=0).fit(features)\n",
    "    wcss.append(kmeans.inertia_)"
   ]
  },
  {
   "cell_type": "code",
   "execution_count": 29,
   "metadata": {},
   "outputs": [
    {
     "data": {
      "image/png": "[encoded data removed]",
      "text/plain": [
       "<Figure size 1000x800 with 1 Axes>"
      ]
     },
     "metadata": {},
     "output_type": "display_data"
    }
   ],
   "source": [
    "# Plotting WCSS vs k to identify the elbow point\n",
    "plt.figure(figsize=(10, 8))\n",
    "plt.plot(k_range, wcss, 'o-', markerfacecolor='lightblue', markeredgewidth=2, markersize=8)\n",
    "plt.xlabel('Number of clusters (k)')\n",
    "plt.ylabel('WCSS (Within Cluster Sum of Squares)')\n",
    "plt.title('Elbow Method for KMeans Clustering')\n",
    "plt.show()"
   ]
  },
  {
   "cell_type": "code",
   "execution_count": 42,
   "metadata": {},
   "outputs": [
    {
     "data": {
      "text/html": [
       "<div>\n",
       "<style scoped>\n",
       "    .dataframe tbody tr th:only-of-type {\n",
       "        vertical-align: middle;\n",
       "    }\n",
       "\n",
       "    .dataframe tbody tr th {\n",
       "        vertical-align: top;\n",
       "    }\n",
       "\n",
       "    .dataframe thead th {\n",
       "        text-align: right;\n",
       "    }\n",
       "</style>\n",
       "<table border=\"1\" class=\"dataframe\">\n",
       "  <thead>\n",
       "    <tr style=\"text-align: right;\">\n",
       "      <th></th>\n",
       "      <th>yeojohnson_revenue_in_eur_bin</th>\n",
       "      <th>is_EMEA</th>\n",
       "      <th>is_Webshop</th>\n",
       "      <th>is_industry_FinanceInsuranceRealEstate</th>\n",
       "      <th>is_industry_Manufacturing</th>\n",
       "      <th>is_industry_Other</th>\n",
       "      <th>is_industry_RetailTrade</th>\n",
       "      <th>is_industry_Services</th>\n",
       "      <th>is_industry_WholesaleTrade</th>\n",
       "      <th>license_value_score</th>\n",
       "      <th>customer_value_score</th>\n",
       "    </tr>\n",
       "    <tr>\n",
       "      <th>cluster_kmeans</th>\n",
       "      <th></th>\n",
       "      <th></th>\n",
       "      <th></th>\n",
       "      <th></th>\n",
       "      <th></th>\n",
       "      <th></th>\n",
       "      <th></th>\n",
       "      <th></th>\n",
       "      <th></th>\n",
       "      <th></th>\n",
       "      <th></th>\n",
       "    </tr>\n",
       "  </thead>\n",
       "  <tbody>\n",
       "    <tr>\n",
       "      <th>0</th>\n",
       "      <td>3.396045</td>\n",
       "      <td>0.534190</td>\n",
       "      <td>0.467943</td>\n",
       "      <td>0.000000</td>\n",
       "      <td>0.000000</td>\n",
       "      <td>0.000000</td>\n",
       "      <td>0.000000</td>\n",
       "      <td>1.0</td>\n",
       "      <td>0.000000</td>\n",
       "      <td>0.492956</td>\n",
       "      <td>0.405823</td>\n",
       "    </tr>\n",
       "    <tr>\n",
       "      <th>1</th>\n",
       "      <td>1.446483</td>\n",
       "      <td>0.874962</td>\n",
       "      <td>0.526759</td>\n",
       "      <td>0.000000</td>\n",
       "      <td>0.000000</td>\n",
       "      <td>0.000000</td>\n",
       "      <td>0.000000</td>\n",
       "      <td>1.0</td>\n",
       "      <td>0.000000</td>\n",
       "      <td>0.416872</td>\n",
       "      <td>0.412305</td>\n",
       "    </tr>\n",
       "    <tr>\n",
       "      <th>2</th>\n",
       "      <td>3.526295</td>\n",
       "      <td>0.673345</td>\n",
       "      <td>0.442775</td>\n",
       "      <td>0.162866</td>\n",
       "      <td>0.000000</td>\n",
       "      <td>0.373841</td>\n",
       "      <td>0.177321</td>\n",
       "      <td>0.0</td>\n",
       "      <td>0.285972</td>\n",
       "      <td>0.498758</td>\n",
       "      <td>0.421493</td>\n",
       "    </tr>\n",
       "    <tr>\n",
       "      <th>3</th>\n",
       "      <td>3.621728</td>\n",
       "      <td>0.674785</td>\n",
       "      <td>0.419606</td>\n",
       "      <td>0.000000</td>\n",
       "      <td>1.000000</td>\n",
       "      <td>0.000000</td>\n",
       "      <td>0.000000</td>\n",
       "      <td>0.0</td>\n",
       "      <td>0.000000</td>\n",
       "      <td>0.510666</td>\n",
       "      <td>0.436505</td>\n",
       "    </tr>\n",
       "    <tr>\n",
       "      <th>4</th>\n",
       "      <td>1.559790</td>\n",
       "      <td>0.902354</td>\n",
       "      <td>0.538406</td>\n",
       "      <td>0.163449</td>\n",
       "      <td>0.155445</td>\n",
       "      <td>0.292768</td>\n",
       "      <td>0.242971</td>\n",
       "      <td>0.0</td>\n",
       "      <td>0.145368</td>\n",
       "      <td>0.384073</td>\n",
       "      <td>0.363683</td>\n",
       "    </tr>\n",
       "  </tbody>\n",
       "</table>\n",
       "</div>"
      ],
      "text/plain": [
       "                yeojohnson_revenue_in_eur_bin   is_EMEA  is_Webshop  \\\n",
       "cluster_kmeans                                                        \n",
       "0                                    3.396045  0.534190    0.467943   \n",
       "1                                    1.446483  0.874962    0.526759   \n",
       "2                                    3.526295  0.673345    0.442775   \n",
       "3                                    3.621728  0.674785    0.419606   \n",
       "4                                    1.559790  0.902354    0.538406   \n",
       "\n",
       "                is_industry_FinanceInsuranceRealEstate  \\\n",
       "cluster_kmeans                                           \n",
       "0                                             0.000000   \n",
       "1                                             0.000000   \n",
       "2                                             0.162866   \n",
       "3                                             0.000000   \n",
       "4                                             0.163449   \n",
       "\n",
       "                is_industry_Manufacturing  is_industry_Other  \\\n",
       "cluster_kmeans                                                 \n",
       "0                                0.000000           0.000000   \n",
       "1                                0.000000           0.000000   \n",
       "2                                0.000000           0.373841   \n",
       "3                                1.000000           0.000000   \n",
       "4                                0.155445           0.292768   \n",
       "\n",
       "                is_industry_RetailTrade  is_industry_Services  \\\n",
       "cluster_kmeans                                                  \n",
       "0                              0.000000                   1.0   \n",
       "1                              0.000000                   1.0   \n",
       "2                              0.177321                   0.0   \n",
       "3                              0.000000                   0.0   \n",
       "4                              0.242971                   0.0   \n",
       "\n",
       "                is_industry_WholesaleTrade  license_value_score  \\\n",
       "cluster_kmeans                                                    \n",
       "0                                 0.000000             0.492956   \n",
       "1                                 0.000000             0.416872   \n",
       "2                                 0.285972             0.498758   \n",
       "3                                 0.000000             0.510666   \n",
       "4                                 0.145368             0.384073   \n",
       "\n",
       "                customer_value_score  \n",
       "cluster_kmeans                        \n",
       "0                           0.405823  \n",
       "1                           0.412305  \n",
       "2                           0.421493  \n",
       "3                           0.436505  \n",
       "4                           0.363683  "
      ]
     },
     "execution_count": 42,
     "metadata": {},
     "output_type": "execute_result"
    }
   ],
   "source": [
    "kmeans = KMeans(n_clusters=5, random_state=0).fit(features)\n",
    "cluster_labels = kmeans.labels_\n",
    "df['cluster_kmeans'] = kmeans.predict(features)\n",
    "df.groupby(['cluster_kmeans']).mean()"
   ]
  },
  {
   "cell_type": "code",
   "execution_count": 31,
   "metadata": {},
   "outputs": [
    {
     "data": {
      "text/plain": [
       "yeojohnson_revenue_in_eur_bin             2.500000\n",
       "is_EMEA                                   0.756630\n",
       "is_Webshop                                0.489590\n",
       "is_industry_FinanceInsuranceRealEstate    0.075670\n",
       "is_industry_Manufacturing                 0.135660\n",
       "is_industry_Other                         0.154230\n",
       "is_industry_RetailTrade                   0.097740\n",
       "is_industry_Services                      0.437280\n",
       "is_industry_WholesaleTrade                0.099420\n",
       "license_value_score                       0.450241\n",
       "customer_value_score                      0.404184\n",
       "cluster_kmeans                            1.960550\n",
       "dtype: float64"
      ]
     },
     "execution_count": 31,
     "metadata": {},
     "output_type": "execute_result"
    }
   ],
   "source": [
    "df.mean()"
   ]
  },
  {
   "cell_type": "code",
   "execution_count": 32,
   "metadata": {},
   "outputs": [
    {
     "data": {
      "text/plain": [
       "1    26384\n",
       "4    23616\n",
       "2    22761\n",
       "0    17344\n",
       "3     9895\n",
       "Name: cluster_kmeans, dtype: int64"
      ]
     },
     "execution_count": 32,
     "metadata": {},
     "output_type": "execute_result"
    }
   ],
   "source": [
    "df.cluster_kmeans.value_counts()"
   ]
  },
  {
   "cell_type": "code",
   "execution_count": 39,
   "metadata": {},
   "outputs": [
    {
     "data": {
      "image/png": "[encoded data removed]",
      "text/plain": [
       "<Figure size 1000x500 with 2 Axes>"
      ]
     },
     "metadata": {},
     "output_type": "display_data"
    }
   ],
   "source": [
    "# Visualize the correlation matrix\n",
    "plt.figure(figsize=(10,5))\n",
    "sns.heatmap(df.groupby(['cluster_kmeans']).mean(), cmap='coolwarm', annot=True)\n",
    "plt.show()"
   ]
  },
  {
   "cell_type": "code",
   "execution_count": 46,
   "metadata": {},
   "outputs": [
    {
     "data": {
      "application/vnd.plotly.v1+json": {
       "config": {
        "plotlyServerURL": "https://plot.ly"
       },
       "data": [
        {
         "hovertemplate": "label=0<br>value=%{r}<br>variable=%{theta}<extra></extra>",
         "legendgroup": "0",
         "line": {
          "color": "#636efa",
          "dash": "solid"
         },
         "marker": {
          "symbol": "circle"
         },
         "mode": "lines",
         "name": "0",
         "r": [
          3.396044741697417,
          0.5341904981549815,
          0.46794280442804426,
          0,
          0,
          0,
          0,
          1,
          0,
          0.4929556702063313,
          0.405823391814142,
          3.396044741697417
         ],
         "showlegend": true,
         "subplot": "polar",
         "theta": [
          "yeojohnson_revenue_in_eur_bin",
          "is_EMEA",
          "is_Webshop",
          "is_industry_FinanceInsuranceRealEstate",
          "is_industry_Manufacturing",
          "is_industry_Other",
          "is_industry_RetailTrade",
          "is_industry_Services",
          "is_industry_WholesaleTrade",
          "license_value_score",
          "customer_value_score",
          "yeojohnson_revenue_in_eur_bin"
         ],
         "type": "scatterpolar"
        },
        {
         "hovertemplate": "label=1<br>value=%{r}<br>variable=%{theta}<extra></extra>",
         "legendgroup": "1",
         "line": {
          "color": "#EF553B",
          "dash": "solid"
         },
         "marker": {
          "symbol": "circle"
         },
         "mode": "lines",
         "name": "1",
         "r": [
          1.4464827167980594,
          0.8749620982413584,
          0.5267586416009703,
          0,
          0,
          0,
          0,
          1,
          0,
          0.4168723530026297,
          0.4123045501506572,
          1.4464827167980594
         ],
         "showlegend": true,
         "subplot": "polar",
         "theta": [
          "yeojohnson_revenue_in_eur_bin",
          "is_EMEA",
          "is_Webshop",
          "is_industry_FinanceInsuranceRealEstate",
          "is_industry_Manufacturing",
          "is_industry_Other",
          "is_industry_RetailTrade",
          "is_industry_Services",
          "is_industry_WholesaleTrade",
          "license_value_score",
          "customer_value_score",
          "yeojohnson_revenue_in_eur_bin"
         ],
         "type": "scatterpolar"
        },
        {
         "hovertemplate": "label=2<br>value=%{r}<br>variable=%{theta}<extra></extra>",
         "legendgroup": "2",
         "line": {
          "color": "#00cc96",
          "dash": "solid"
         },
         "marker": {
          "symbol": "circle"
         },
         "mode": "lines",
         "name": "2",
         "r": [
          3.5262949782522734,
          0.6733447563815298,
          0.44277492201572866,
          0.16286630640130048,
          0,
          0.373841219630069,
          0.17732085584991872,
          0,
          0.28597161811871186,
          0.49875788887891864,
          0.4214931699212199,
          3.5262949782522734
         ],
         "showlegend": true,
         "subplot": "polar",
         "theta": [
          "yeojohnson_revenue_in_eur_bin",
          "is_EMEA",
          "is_Webshop",
          "is_industry_FinanceInsuranceRealEstate",
          "is_industry_Manufacturing",
          "is_industry_Other",
          "is_industry_RetailTrade",
          "is_industry_Services",
          "is_industry_WholesaleTrade",
          "license_value_score",
          "customer_value_score",
          "yeojohnson_revenue_in_eur_bin"
         ],
         "type": "scatterpolar"
        },
        {
         "hovertemplate": "label=3<br>value=%{r}<br>variable=%{theta}<extra></extra>",
         "legendgroup": "3",
         "line": {
          "color": "#ab63fa",
          "dash": "solid"
         },
         "marker": {
          "symbol": "circle"
         },
         "mode": "lines",
         "name": "3",
         "r": [
          3.6217281455280443,
          0.6747852450732693,
          0.41960586154623547,
          0,
          1,
          0,
          0,
          0,
          0,
          0.5106664204351933,
          0.43650491207371883,
          3.6217281455280443
         ],
         "showlegend": true,
         "subplot": "polar",
         "theta": [
          "yeojohnson_revenue_in_eur_bin",
          "is_EMEA",
          "is_Webshop",
          "is_industry_FinanceInsuranceRealEstate",
          "is_industry_Manufacturing",
          "is_industry_Other",
          "is_industry_RetailTrade",
          "is_industry_Services",
          "is_industry_WholesaleTrade",
          "license_value_score",
          "customer_value_score",
          "yeojohnson_revenue_in_eur_bin"
         ],
         "type": "scatterpolar"
        },
        {
         "hovertemplate": "label=4<br>value=%{r}<br>variable=%{theta}<extra></extra>",
         "legendgroup": "4",
         "line": {
          "color": "#FFA15A",
          "dash": "solid"
         },
         "marker": {
          "symbol": "circle"
         },
         "mode": "lines",
         "name": "4",
         "r": [
          1.559789972899729,
          0.9023543360433605,
          0.5384061653116531,
          0.16344850948509485,
          0.15544546070460705,
          0.29276761517615174,
          0.2429708672086721,
          0,
          0.14536754742547425,
          0.38407336117891483,
          0.36368327153977476,
          1.559789972899729
         ],
         "showlegend": true,
         "subplot": "polar",
         "theta": [
          "yeojohnson_revenue_in_eur_bin",
          "is_EMEA",
          "is_Webshop",
          "is_industry_FinanceInsuranceRealEstate",
          "is_industry_Manufacturing",
          "is_industry_Other",
          "is_industry_RetailTrade",
          "is_industry_Services",
          "is_industry_WholesaleTrade",
          "license_value_score",
          "customer_value_score",
          "yeojohnson_revenue_in_eur_bin"
         ],
         "type": "scatterpolar"
        }
       ],
       "layout": {
        "height": 800,
        "legend": {
         "title": {
          "text": "label"
         },
         "tracegroupgap": 0
        },
        "margin": {
         "t": 60
        },
        "polar": {
         "angularaxis": {
          "direction": "clockwise",
          "rotation": 90
         },
         "domain": {
          "x": [
           0,
           1
          ],
          "y": [
           0,
           1
          ]
         }
        },
        "template": {
         "data": {
          "bar": [
           {
            "error_x": {
             "color": "#2a3f5f"
            },
            "error_y": {
             "color": "#2a3f5f"
            },
            "marker": {
             "line": {
              "color": "#E5ECF6",
              "width": 0.5
             },
             "pattern": {
              "fillmode": "overlay",
              "size": 10,
              "solidity": 0.2
             }
            },
            "type": "bar"
           }
          ],
          "barpolar": [
           {
            "marker": {
             "line": {
              "color": "#E5ECF6",
              "width": 0.5
             },
             "pattern": {
              "fillmode": "overlay",
              "size": 10,
              "solidity": 0.2
             }
            },
            "type": "barpolar"
           }
          ],
          "carpet": [
           {
            "aaxis": {
             "endlinecolor": "#2a3f5f",
             "gridcolor": "white",
             "linecolor": "white",
             "minorgridcolor": "white",
             "startlinecolor": "#2a3f5f"
            },
            "baxis": {
             "endlinecolor": "#2a3f5f",
             "gridcolor": "white",
             "linecolor": "white",
             "minorgridcolor": "white",
             "startlinecolor": "#2a3f5f"
            },
            "type": "carpet"
           }
          ],
          "choropleth": [
           {
            "colorbar": {
             "outlinewidth": 0,
             "ticks": ""
            },
            "type": "choropleth"
           }
          ],
          "contour": [
           {
            "colorbar": {
             "outlinewidth": 0,
             "ticks": ""
            },
            "colorscale": [
             [
              0,
              "#0d0887"
             ],
             [
              0.1111111111111111,
              "#46039f"
             ],
             [
              0.2222222222222222,
              "#7201a8"
             ],
             [
              0.3333333333333333,
              "#9c179e"
             ],
             [
              0.4444444444444444,
              "#bd3786"
             ],
             [
              0.5555555555555556,
              "#d8576b"
             ],
             [
              0.6666666666666666,
              "#ed7953"
             ],
             [
              0.7777777777777778,
              "#fb9f3a"
             ],
             [
              0.8888888888888888,
              "#fdca26"
             ],
             [
              1,
              "#f0f921"
             ]
            ],
            "type": "contour"
           }
          ],
          "contourcarpet": [
           {
            "colorbar": {
             "outlinewidth": 0,
             "ticks": ""
            },
            "type": "contourcarpet"
           }
          ],
          "heatmap": [
           {
            "colorbar": {
             "outlinewidth": 0,
             "ticks": ""
            },
            "colorscale": [
             [
              0,
              "#0d0887"
             ],
             [
              0.1111111111111111,
              "#46039f"
             ],
             [
              0.2222222222222222,
              "#7201a8"
             ],
             [
              0.3333333333333333,
              "#9c179e"
             ],
             [
              0.4444444444444444,
              "#bd3786"
             ],
             [
              0.5555555555555556,
              "#d8576b"
             ],
             [
              0.6666666666666666,
              "#ed7953"
             ],
             [
              0.7777777777777778,
              "#fb9f3a"
             ],
             [
              0.8888888888888888,
              "#fdca26"
             ],
             [
              1,
              "#f0f921"
             ]
            ],
            "type": "heatmap"
           }
          ],
          "heatmapgl": [
           {
            "colorbar": {
             "outlinewidth": 0,
             "ticks": ""
            },
            "colorscale": [
             [
              0,
              "#0d0887"
             ],
             [
              0.1111111111111111,
              "#46039f"
             ],
             [
              0.2222222222222222,
              "#7201a8"
             ],
             [
              0.3333333333333333,
              "#9c179e"
             ],
             [
              0.4444444444444444,
              "#bd3786"
             ],
             [
              0.5555555555555556,
              "#d8576b"
             ],
             [
              0.6666666666666666,
              "#ed7953"
             ],
             [
              0.7777777777777778,
              "#fb9f3a"
             ],
             [
              0.8888888888888888,
              "#fdca26"
             ],
             [
              1,
              "#f0f921"
             ]
            ],
            "type": "heatmapgl"
           }
          ],
          "histogram": [
           {
            "marker": {
             "pattern": {
              "fillmode": "overlay",
              "size": 10,
              "solidity": 0.2
             }
            },
            "type": "histogram"
           }
          ],
          "histogram2d": [
           {
            "colorbar": {
             "outlinewidth": 0,
             "ticks": ""
            },
            "colorscale": [
             [
              0,
              "#0d0887"
             ],
             [
              0.1111111111111111,
              "#46039f"
             ],
             [
              0.2222222222222222,
              "#7201a8"
             ],
             [
              0.3333333333333333,
              "#9c179e"
             ],
             [
              0.4444444444444444,
              "#bd3786"
             ],
             [
              0.5555555555555556,
              "#d8576b"
             ],
             [
              0.6666666666666666,
              "#ed7953"
             ],
             [
              0.7777777777777778,
              "#fb9f3a"
             ],
             [
              0.8888888888888888,
              "#fdca26"
             ],
             [
              1,
              "#f0f921"
             ]
            ],
            "type": "histogram2d"
           }
          ],
          "histogram2dcontour": [
           {
            "colorbar": {
             "outlinewidth": 0,
             "ticks": ""
            },
            "colorscale": [
             [
              0,
              "#0d0887"
             ],
             [
              0.1111111111111111,
              "#46039f"
             ],
             [
              0.2222222222222222,
              "#7201a8"
             ],
             [
              0.3333333333333333,
              "#9c179e"
             ],
             [
              0.4444444444444444,
              "#bd3786"
             ],
             [
              0.5555555555555556,
              "#d8576b"
             ],
             [
              0.6666666666666666,
              "#ed7953"
             ],
             [
              0.7777777777777778,
              "#fb9f3a"
             ],
             [
              0.8888888888888888,
              "#fdca26"
             ],
             [
              1,
              "#f0f921"
             ]
            ],
            "type": "histogram2dcontour"
           }
          ],
          "mesh3d": [
           {
            "colorbar": {
             "outlinewidth": 0,
             "ticks": ""
            },
            "type": "mesh3d"
           }
          ],
          "parcoords": [
           {
            "line": {
             "colorbar": {
              "outlinewidth": 0,
              "ticks": ""
             }
            },
            "type": "parcoords"
           }
          ],
          "pie": [
           {
            "automargin": true,
            "type": "pie"
           }
          ],
          "scatter": [
           {
            "fillpattern": {
             "fillmode": "overlay",
             "size": 10,
             "solidity": 0.2
            },
            "type": "scatter"
           }
          ],
          "scatter3d": [
           {
            "line": {
             "colorbar": {
              "outlinewidth": 0,
              "ticks": ""
             }
            },
            "marker": {
             "colorbar": {
              "outlinewidth": 0,
              "ticks": ""
             }
            },
            "type": "scatter3d"
           }
          ],
          "scattercarpet": [
           {
            "marker": {
             "colorbar": {
              "outlinewidth": 0,
              "ticks": ""
             }
            },
            "type": "scattercarpet"
           }
          ],
          "scattergeo": [
           {
            "marker": {
             "colorbar": {
              "outlinewidth": 0,
              "ticks": ""
             }
            },
            "type": "scattergeo"
           }
          ],
          "scattergl": [
           {
            "marker": {
             "colorbar": {
              "outlinewidth": 0,
              "ticks": ""
             }
            },
            "type": "scattergl"
           }
          ],
          "scattermapbox": [
           {
            "marker": {
             "colorbar": {
              "outlinewidth": 0,
              "ticks": ""
             }
            },
            "type": "scattermapbox"
           }
          ],
          "scatterpolar": [
           {
            "marker": {
             "colorbar": {
              "outlinewidth": 0,
              "ticks": ""
             }
            },
            "type": "scatterpolar"
           }
          ],
          "scatterpolargl": [
           {
            "marker": {
             "colorbar": {
              "outlinewidth": 0,
              "ticks": ""
             }
            },
            "type": "scatterpolargl"
           }
          ],
          "scatterternary": [
           {
            "marker": {
             "colorbar": {
              "outlinewidth": 0,
              "ticks": ""
             }
            },
            "type": "scatterternary"
           }
          ],
          "surface": [
           {
            "colorbar": {
             "outlinewidth": 0,
             "ticks": ""
            },
            "colorscale": [
             [
              0,
              "#0d0887"
             ],
             [
              0.1111111111111111,
              "#46039f"
             ],
             [
              0.2222222222222222,
              "#7201a8"
             ],
             [
              0.3333333333333333,
              "#9c179e"
             ],
             [
              0.4444444444444444,
              "#bd3786"
             ],
             [
              0.5555555555555556,
              "#d8576b"
             ],
             [
              0.6666666666666666,
              "#ed7953"
             ],
             [
              0.7777777777777778,
              "#fb9f3a"
             ],
             [
              0.8888888888888888,
              "#fdca26"
             ],
             [
              1,
              "#f0f921"
             ]
            ],
            "type": "surface"
           }
          ],
          "table": [
           {
            "cells": {
             "fill": {
              "color": "#EBF0F8"
             },
             "line": {
              "color": "white"
             }
            },
            "header": {
             "fill": {
              "color": "#C8D4E3"
             },
             "line": {
              "color": "white"
             }
            },
            "type": "table"
           }
          ]
         },
         "layout": {
          "annotationdefaults": {
           "arrowcolor": "#2a3f5f",
           "arrowhead": 0,
           "arrowwidth": 1
          },
          "autotypenumbers": "strict",
          "coloraxis": {
           "colorbar": {
            "outlinewidth": 0,
            "ticks": ""
           }
          },
          "colorscale": {
           "diverging": [
            [
             0,
             "#8e0152"
            ],
            [
             0.1,
             "#c51b7d"
            ],
            [
             0.2,
             "#de77ae"
            ],
            [
             0.3,
             "#f1b6da"
            ],
            [
             0.4,
             "#fde0ef"
            ],
            [
             0.5,
             "#f7f7f7"
            ],
            [
             0.6,
             "#e6f5d0"
            ],
            [
             0.7,
             "#b8e186"
            ],
            [
             0.8,
             "#7fbc41"
            ],
            [
             0.9,
             "#4d9221"
            ],
            [
             1,
             "#276419"
            ]
           ],
           "sequential": [
            [
             0,
             "#0d0887"
            ],
            [
             0.1111111111111111,
             "#46039f"
            ],
            [
             0.2222222222222222,
             "#7201a8"
            ],
            [
             0.3333333333333333,
             "#9c179e"
            ],
            [
             0.4444444444444444,
             "#bd3786"
            ],
            [
             0.5555555555555556,
             "#d8576b"
            ],
            [
             0.6666666666666666,
             "#ed7953"
            ],
            [
             0.7777777777777778,
             "#fb9f3a"
            ],
            [
             0.8888888888888888,
             "#fdca26"
            ],
            [
             1,
             "#f0f921"
            ]
           ],
           "sequentialminus": [
            [
             0,
             "#0d0887"
            ],
            [
             0.1111111111111111,
             "#46039f"
            ],
            [
             0.2222222222222222,
             "#7201a8"
            ],
            [
             0.3333333333333333,
             "#9c179e"
            ],
            [
             0.4444444444444444,
             "#bd3786"
            ],
            [
             0.5555555555555556,
             "#d8576b"
            ],
            [
             0.6666666666666666,
             "#ed7953"
            ],
            [
             0.7777777777777778,
             "#fb9f3a"
            ],
            [
             0.8888888888888888,
             "#fdca26"
            ],
            [
             1,
             "#f0f921"
            ]
           ]
          },
          "colorway": [
           "#636efa",
           "#EF553B",
           "#00cc96",
           "#ab63fa",
           "#FFA15A",
           "#19d3f3",
           "#FF6692",
           "#B6E880",
           "#FF97FF",
           "#FECB52"
          ],
          "font": {
           "color": "#2a3f5f"
          },
          "geo": {
           "bgcolor": "white",
           "lakecolor": "white",
           "landcolor": "#E5ECF6",
           "showlakes": true,
           "showland": true,
           "subunitcolor": "white"
          },
          "hoverlabel": {
           "align": "left"
          },
          "hovermode": "closest",
          "mapbox": {
           "style": "light"
          },
          "paper_bgcolor": "white",
          "plot_bgcolor": "#E5ECF6",
          "polar": {
           "angularaxis": {
            "gridcolor": "white",
            "linecolor": "white",
            "ticks": ""
           },
           "bgcolor": "#E5ECF6",
           "radialaxis": {
            "gridcolor": "white",
            "linecolor": "white",
            "ticks": ""
           }
          },
          "scene": {
           "xaxis": {
            "backgroundcolor": "#E5ECF6",
            "gridcolor": "white",
            "gridwidth": 2,
            "linecolor": "white",
            "showbackground": true,
            "ticks": "",
            "zerolinecolor": "white"
           },
           "yaxis": {
            "backgroundcolor": "#E5ECF6",
            "gridcolor": "white",
            "gridwidth": 2,
            "linecolor": "white",
            "showbackground": true,
            "ticks": "",
            "zerolinecolor": "white"
           },
           "zaxis": {
            "backgroundcolor": "#E5ECF6",
            "gridcolor": "white",
            "gridwidth": 2,
            "linecolor": "white",
            "showbackground": true,
            "ticks": "",
            "zerolinecolor": "white"
           }
          },
          "shapedefaults": {
           "line": {
            "color": "#2a3f5f"
           }
          },
          "ternary": {
           "aaxis": {
            "gridcolor": "white",
            "linecolor": "white",
            "ticks": ""
           },
           "baxis": {
            "gridcolor": "white",
            "linecolor": "white",
            "ticks": ""
           },
           "bgcolor": "#E5ECF6",
           "caxis": {
            "gridcolor": "white",
            "linecolor": "white",
            "ticks": ""
           }
          },
          "title": {
           "x": 0.05
          },
          "xaxis": {
           "automargin": true,
           "gridcolor": "white",
           "linecolor": "white",
           "ticks": "",
           "title": {
            "standoff": 15
           },
           "zerolinecolor": "white",
           "zerolinewidth": 2
          },
          "yaxis": {
           "automargin": true,
           "gridcolor": "white",
           "linecolor": "white",
           "ticks": "",
           "title": {
            "standoff": 15
           },
           "zerolinecolor": "white",
           "zerolinewidth": 2
          }
         }
        },
        "width": 1400
       }
      }
     },
     "metadata": {},
     "output_type": "display_data"
    }
   ],
   "source": [
    "clusters=pd.DataFrame(features,columns=features_df.columns)\n",
    "clusters['label']=kmeans.labels_\n",
    "polar=clusters.groupby(\"label\").mean().reset_index()\n",
    "polar=pd.melt(polar,id_vars=[\"label\"])\n",
    "fig = px.line_polar(polar, r=\"value\", theta=\"variable\", color=\"label\", line_close=True,height=800,width=1400)\n",
    "fig.show()"
   ]
  }
 ],
 "metadata": {
  "kernelspec": {
   "display_name": "base",
   "language": "python",
   "name": "python3"
  },
  "language_info": {
   "codemirror_mode": {
    "name": "ipython",
    "version": 3
   },
   "file_extension": ".py",
   "mimetype": "text/x-python",
   "name": "python",
   "nbconvert_exporter": "python",
   "pygments_lexer": "ipython3",
   "version": "3.9.13"
  }
 },
 "nbformat": 4,
 "nbformat_minor": 2
}
