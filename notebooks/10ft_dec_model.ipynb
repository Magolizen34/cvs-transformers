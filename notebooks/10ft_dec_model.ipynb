{
 "cells": [
  {
   "cell_type": "markdown",
   "metadata": {},
   "source": [
    "# Embedding Model"
   ]
  },
  {
   "cell_type": "code",
   "execution_count": 1,
   "metadata": {},
   "outputs": [],
   "source": [
    "import matplotlib.pyplot as plt \n",
    "from matplotlib.lines import Line2D  # For custom legend markers\n",
    "import numpy as np\n",
    "import pandas as pd\n",
    "import plotly.express as px\n",
    "import seaborn as sns\n",
    "from sklearn.cluster import KMeans\n",
    "from sklearn.metrics import silhouette_score, davies_bouldin_score\n",
    "from sklearn.decomposition import PCA\n",
    "import tensorflow as tf\n",
    "from tensorflow.keras.models import Model\n",
    "from tensorflow.keras.layers import Input, Dense, Layer, Dropout\n",
    "from tensorflow.keras.optimizers import Adam\n",
    "from tensorflow.keras.callbacks import EarlyStopping\n",
    "import tensorflow.keras.backend as K\n",
    "import warnings # ignore warnings\n",
    "warnings.filterwarnings('ignore')"
   ]
  },
  {
   "cell_type": "code",
   "execution_count": 2,
   "metadata": {},
   "outputs": [],
   "source": [
    "df = pd.read_csv('../data/final_df_normalized.csv', sep='|') "
   ]
  },
  {
   "cell_type": "code",
   "execution_count": 3,
   "metadata": {},
   "outputs": [
    {
     "name": "stdout",
     "output_type": "stream",
     "text": [
      "<class 'pandas.core.frame.DataFrame'>\n",
      "RangeIndex: 100000 entries, 0 to 99999\n",
      "Data columns (total 12 columns):\n",
      " #   Column                                  Non-Null Count   Dtype  \n",
      "---  ------                                  --------------   -----  \n",
      " 0   account_id                              100000 non-null  object \n",
      " 1   yeojohnson_revenue_in_eur_bin           100000 non-null  float64\n",
      " 2   is_EMEA                                 100000 non-null  int64  \n",
      " 3   is_Webshop                              100000 non-null  int64  \n",
      " 4   is_industry_FinanceInsuranceRealEstate  100000 non-null  int64  \n",
      " 5   is_industry_Manufacturing               100000 non-null  int64  \n",
      " 6   is_industry_Other                       100000 non-null  int64  \n",
      " 7   is_industry_RetailTrade                 100000 non-null  int64  \n",
      " 8   is_industry_Services                    100000 non-null  int64  \n",
      " 9   is_industry_WholesaleTrade              100000 non-null  int64  \n",
      " 10  license_value_score                     100000 non-null  float64\n",
      " 11  customer_value_score                    100000 non-null  float64\n",
      "dtypes: float64(3), int64(8), object(1)\n",
      "memory usage: 9.2+ MB\n"
     ]
    }
   ],
   "source": [
    "df.info()"
   ]
  },
  {
   "cell_type": "code",
   "execution_count": 4,
   "metadata": {},
   "outputs": [
    {
     "data": {
      "text/html": [
       "<div>\n",
       "<style scoped>\n",
       "    .dataframe tbody tr th:only-of-type {\n",
       "        vertical-align: middle;\n",
       "    }\n",
       "\n",
       "    .dataframe tbody tr th {\n",
       "        vertical-align: top;\n",
       "    }\n",
       "\n",
       "    .dataframe thead th {\n",
       "        text-align: right;\n",
       "    }\n",
       "</style>\n",
       "<table border=\"1\" class=\"dataframe\">\n",
       "  <thead>\n",
       "    <tr style=\"text-align: right;\">\n",
       "      <th></th>\n",
       "      <th>account_id</th>\n",
       "      <th>yeojohnson_revenue_in_eur_bin</th>\n",
       "      <th>is_EMEA</th>\n",
       "      <th>is_Webshop</th>\n",
       "      <th>is_industry_FinanceInsuranceRealEstate</th>\n",
       "      <th>is_industry_Manufacturing</th>\n",
       "      <th>is_industry_Other</th>\n",
       "      <th>is_industry_RetailTrade</th>\n",
       "      <th>is_industry_Services</th>\n",
       "      <th>is_industry_WholesaleTrade</th>\n",
       "      <th>license_value_score</th>\n",
       "      <th>customer_value_score</th>\n",
       "    </tr>\n",
       "  </thead>\n",
       "  <tbody>\n",
       "    <tr>\n",
       "      <th>0</th>\n",
       "      <td>ac6a99474410f1c59c91da3f0cf9cf3f</td>\n",
       "      <td>0.666667</td>\n",
       "      <td>0</td>\n",
       "      <td>1</td>\n",
       "      <td>0</td>\n",
       "      <td>0</td>\n",
       "      <td>0</td>\n",
       "      <td>0</td>\n",
       "      <td>1</td>\n",
       "      <td>0</td>\n",
       "      <td>0.225903</td>\n",
       "      <td>0.404288</td>\n",
       "    </tr>\n",
       "    <tr>\n",
       "      <th>1</th>\n",
       "      <td>1cc66628ed41f3db5a55195e93277a04</td>\n",
       "      <td>0.666667</td>\n",
       "      <td>0</td>\n",
       "      <td>1</td>\n",
       "      <td>0</td>\n",
       "      <td>0</td>\n",
       "      <td>0</td>\n",
       "      <td>0</td>\n",
       "      <td>0</td>\n",
       "      <td>1</td>\n",
       "      <td>0.692198</td>\n",
       "      <td>0.000000</td>\n",
       "    </tr>\n",
       "    <tr>\n",
       "      <th>2</th>\n",
       "      <td>db5f3cdd5629b9591b720b9b7e077df2</td>\n",
       "      <td>1.000000</td>\n",
       "      <td>0</td>\n",
       "      <td>1</td>\n",
       "      <td>0</td>\n",
       "      <td>0</td>\n",
       "      <td>0</td>\n",
       "      <td>0</td>\n",
       "      <td>1</td>\n",
       "      <td>0</td>\n",
       "      <td>0.025903</td>\n",
       "      <td>0.058008</td>\n",
       "    </tr>\n",
       "    <tr>\n",
       "      <th>3</th>\n",
       "      <td>bebb4028688f519f36ed220855b0a62f</td>\n",
       "      <td>1.000000</td>\n",
       "      <td>0</td>\n",
       "      <td>0</td>\n",
       "      <td>0</td>\n",
       "      <td>0</td>\n",
       "      <td>0</td>\n",
       "      <td>0</td>\n",
       "      <td>1</td>\n",
       "      <td>0</td>\n",
       "      <td>0.825945</td>\n",
       "      <td>0.703012</td>\n",
       "    </tr>\n",
       "    <tr>\n",
       "      <th>4</th>\n",
       "      <td>507c0bfb67895d773e3f8bd33b861d09</td>\n",
       "      <td>1.000000</td>\n",
       "      <td>0</td>\n",
       "      <td>0</td>\n",
       "      <td>1</td>\n",
       "      <td>0</td>\n",
       "      <td>0</td>\n",
       "      <td>0</td>\n",
       "      <td>0</td>\n",
       "      <td>0</td>\n",
       "      <td>0.826668</td>\n",
       "      <td>0.467596</td>\n",
       "    </tr>\n",
       "    <tr>\n",
       "      <th>5</th>\n",
       "      <td>b1267a5b953b7267de811510f838172b</td>\n",
       "      <td>0.666667</td>\n",
       "      <td>0</td>\n",
       "      <td>1</td>\n",
       "      <td>0</td>\n",
       "      <td>0</td>\n",
       "      <td>0</td>\n",
       "      <td>1</td>\n",
       "      <td>0</td>\n",
       "      <td>0</td>\n",
       "      <td>0.172568</td>\n",
       "      <td>0.270317</td>\n",
       "    </tr>\n",
       "    <tr>\n",
       "      <th>6</th>\n",
       "      <td>3315ad169d4d2e9080f1377c44377c7c</td>\n",
       "      <td>0.666667</td>\n",
       "      <td>0</td>\n",
       "      <td>0</td>\n",
       "      <td>0</td>\n",
       "      <td>0</td>\n",
       "      <td>0</td>\n",
       "      <td>0</td>\n",
       "      <td>1</td>\n",
       "      <td>0</td>\n",
       "      <td>0.784642</td>\n",
       "      <td>0.863665</td>\n",
       "    </tr>\n",
       "    <tr>\n",
       "      <th>7</th>\n",
       "      <td>8ca7b69eda1a06b32e60fff1c6db3b28</td>\n",
       "      <td>1.000000</td>\n",
       "      <td>0</td>\n",
       "      <td>0</td>\n",
       "      <td>0</td>\n",
       "      <td>0</td>\n",
       "      <td>1</td>\n",
       "      <td>0</td>\n",
       "      <td>0</td>\n",
       "      <td>0</td>\n",
       "      <td>0.530824</td>\n",
       "      <td>0.608520</td>\n",
       "    </tr>\n",
       "    <tr>\n",
       "      <th>8</th>\n",
       "      <td>5bd2eea4e2320b9246b41a8f54fb02d2</td>\n",
       "      <td>0.333333</td>\n",
       "      <td>0</td>\n",
       "      <td>0</td>\n",
       "      <td>0</td>\n",
       "      <td>0</td>\n",
       "      <td>0</td>\n",
       "      <td>0</td>\n",
       "      <td>1</td>\n",
       "      <td>0</td>\n",
       "      <td>0.925757</td>\n",
       "      <td>0.625388</td>\n",
       "    </tr>\n",
       "    <tr>\n",
       "      <th>9</th>\n",
       "      <td>bbfb03bca60fb0185be3f36d12c99b3f</td>\n",
       "      <td>0.666667</td>\n",
       "      <td>0</td>\n",
       "      <td>0</td>\n",
       "      <td>0</td>\n",
       "      <td>0</td>\n",
       "      <td>0</td>\n",
       "      <td>0</td>\n",
       "      <td>1</td>\n",
       "      <td>0</td>\n",
       "      <td>0.864130</td>\n",
       "      <td>0.635761</td>\n",
       "    </tr>\n",
       "  </tbody>\n",
       "</table>\n",
       "</div>"
      ],
      "text/plain": [
       "                         account_id  yeojohnson_revenue_in_eur_bin  is_EMEA  \\\n",
       "0  ac6a99474410f1c59c91da3f0cf9cf3f                       0.666667        0   \n",
       "1  1cc66628ed41f3db5a55195e93277a04                       0.666667        0   \n",
       "2  db5f3cdd5629b9591b720b9b7e077df2                       1.000000        0   \n",
       "3  bebb4028688f519f36ed220855b0a62f                       1.000000        0   \n",
       "4  507c0bfb67895d773e3f8bd33b861d09                       1.000000        0   \n",
       "5  b1267a5b953b7267de811510f838172b                       0.666667        0   \n",
       "6  3315ad169d4d2e9080f1377c44377c7c                       0.666667        0   \n",
       "7  8ca7b69eda1a06b32e60fff1c6db3b28                       1.000000        0   \n",
       "8  5bd2eea4e2320b9246b41a8f54fb02d2                       0.333333        0   \n",
       "9  bbfb03bca60fb0185be3f36d12c99b3f                       0.666667        0   \n",
       "\n",
       "   is_Webshop  is_industry_FinanceInsuranceRealEstate  \\\n",
       "0           1                                       0   \n",
       "1           1                                       0   \n",
       "2           1                                       0   \n",
       "3           0                                       0   \n",
       "4           0                                       1   \n",
       "5           1                                       0   \n",
       "6           0                                       0   \n",
       "7           0                                       0   \n",
       "8           0                                       0   \n",
       "9           0                                       0   \n",
       "\n",
       "   is_industry_Manufacturing  is_industry_Other  is_industry_RetailTrade  \\\n",
       "0                          0                  0                        0   \n",
       "1                          0                  0                        0   \n",
       "2                          0                  0                        0   \n",
       "3                          0                  0                        0   \n",
       "4                          0                  0                        0   \n",
       "5                          0                  0                        1   \n",
       "6                          0                  0                        0   \n",
       "7                          0                  1                        0   \n",
       "8                          0                  0                        0   \n",
       "9                          0                  0                        0   \n",
       "\n",
       "   is_industry_Services  is_industry_WholesaleTrade  license_value_score  \\\n",
       "0                     1                           0             0.225903   \n",
       "1                     0                           1             0.692198   \n",
       "2                     1                           0             0.025903   \n",
       "3                     1                           0             0.825945   \n",
       "4                     0                           0             0.826668   \n",
       "5                     0                           0             0.172568   \n",
       "6                     1                           0             0.784642   \n",
       "7                     0                           0             0.530824   \n",
       "8                     1                           0             0.925757   \n",
       "9                     1                           0             0.864130   \n",
       "\n",
       "   customer_value_score  \n",
       "0              0.404288  \n",
       "1              0.000000  \n",
       "2              0.058008  \n",
       "3              0.703012  \n",
       "4              0.467596  \n",
       "5              0.270317  \n",
       "6              0.863665  \n",
       "7              0.608520  \n",
       "8              0.625388  \n",
       "9              0.635761  "
      ]
     },
     "execution_count": 4,
     "metadata": {},
     "output_type": "execute_result"
    }
   ],
   "source": [
    "df.head(10)"
   ]
  },
  {
   "cell_type": "markdown",
   "metadata": {},
   "source": [
    "## Deep Embedding Clustering (DEC) Model"
   ]
  },
  {
   "cell_type": "code",
   "execution_count": 5,
   "metadata": {},
   "outputs": [],
   "source": [
    "class ClusteringLayer(Layer):\n",
    "    def __init__(self, n_clusters, **kwargs):\n",
    "        super(ClusteringLayer, self).__init__(**kwargs)\n",
    "        self.n_clusters = n_clusters\n",
    "\n",
    "    def build(self, input_shape):\n",
    "        self.clusters = self.add_weight(name='clusters',\n",
    "                                        shape=(self.n_clusters, input_shape[1]),\n",
    "                                        initializer='glorot_uniform')\n",
    "\n",
    "    def call(self, inputs, **kwargs):\n",
    "        q = 1.0 / (1.0 + (K.sum(K.square(K.expand_dims(inputs, axis=1) - self.clusters), axis=2) / 1.0))\n",
    "        q = q ** ((1.0 + 1.0) / 2.0)\n",
    "        q = K.transpose(K.transpose(q) / K.sum(q, axis=1))\n",
    "        return q\n",
    "\n",
    "class DEC:\n",
    "    def __init__(self, input_dim, encoding_dim, n_clusters, dropout_rate=0.2):\n",
    "        self.input_dim = input_dim\n",
    "        self.encoding_dim = encoding_dim\n",
    "        self.n_clusters = n_clusters\n",
    "        self.dropout_rate = dropout_rate\n",
    "        self.autoencoder, self.encoder = self.build_autoencoder()\n",
    "        self.model = self.build_dec_model()\n",
    "\n",
    "    def build_autoencoder(self):\n",
    "        input_layer = Input(shape=(self.input_dim,))\n",
    "        encoder = Dense(64, activation='relu')(input_layer)\n",
    "        encoder = Dropout(self.dropout_rate)(encoder)\n",
    "        encoder = Dense(self.encoding_dim, activation='relu', kernel_initializer='glorot_uniform')(encoder)\n",
    "\n",
    "        decoder = Dense(64, activation='relu', kernel_initializer='glorot_uniform')(encoder)\n",
    "        decoder = Dropout(self.dropout_rate)(decoder)\n",
    "        decoder = Dense(self.input_dim, activation='sigmoid', kernel_initializer='glorot_uniform')(decoder)\n",
    "\n",
    "        autoencoder = Model(inputs=input_layer, outputs=decoder)\n",
    "        autoencoder.compile(optimizer='adam', loss='mse')\n",
    "\n",
    "        encoder_model = Model(inputs=input_layer, outputs=encoder)\n",
    "        return autoencoder, encoder_model\n",
    "\n",
    "    def build_dec_model(self):\n",
    "        clustering_layer = ClusteringLayer(self.n_clusters, name='clustering')(self.encoder.output)\n",
    "        model = Model(inputs=self.encoder.input, outputs=[clustering_layer, self.autoencoder.output])\n",
    "        model.compile(optimizer='adam', loss=['kld', 'mse'])\n",
    "        return model\n",
    "\n",
    "    def pretrain_autoencoder(self, data, epochs=50, batch_size=256):\n",
    "        early_stopping = EarlyStopping(monitor='loss', patience=5, restore_best_weights=True)\n",
    "        with tf.device('/GPU:0' if tf.config.list_physical_devices('GPU') else '/CPU:0'):\n",
    "            self.autoencoder.fit(data, data, epochs=epochs, batch_size=batch_size, shuffle=True, callbacks=[early_stopping])\n",
    "\n",
    "    def initialize_clusters(self, data):\n",
    "        with tf.device('/GPU:0' if tf.config.list_physical_devices('GPU') else '/CPU:0'):\n",
    "            encoded_data = self.encoder.predict(data)\n",
    "            kmeans = KMeans(n_clusters=self.n_clusters, n_init=20)\n",
    "            kmeans.fit(encoded_data)\n",
    "            initial_clusters = kmeans.cluster_centers_\n",
    "            self.model.get_layer(name='clustering').set_weights([initial_clusters])\n",
    "\n",
    "    def target_distribution(self, q):\n",
    "        weight = q ** 2 / q.sum(0)\n",
    "        return (weight.T / weight.sum(1)).T\n",
    "\n",
    "    def train_dec(self, data, maxiter=8000, update_interval=140, tol=0.001):\n",
    "        index = 0\n",
    "        y_pred_last = None\n",
    "        with tf.device('/GPU:0' if tf.config.list_physical_devices('GPU') else '/CPU:0'):\n",
    "            for ite in range(maxiter):\n",
    "                if ite % update_interval == 0:\n",
    "                    q, _ = self.model.predict(data, verbose=0)\n",
    "                    p = self.target_distribution(q)\n",
    "\n",
    "                    y_pred = q.argmax(1)\n",
    "                    if ite > 0 and np.sum(y_pred != y_pred_last) / len(y_pred) < tol:\n",
    "                        print('Reached tolerance threshold. Stopping training.')\n",
    "                        break\n",
    "                    y_pred_last = np.copy(y_pred)\n",
    "\n",
    "                idx = index * update_interval % data.shape[0]\n",
    "                loss = self.model.train_on_batch(x=data[idx:idx + update_interval],\n",
    "                                                 y=[p[idx:idx + update_interval], data[idx:idx + update_interval]])\n",
    "                index += 1\n",
    "                print('Iteration', ite, 'Loss:', loss)\n",
    "\n",
    "    def predict(self, data):\n",
    "        with tf.device('/GPU:0' if tf.config.list_physical_devices('GPU') else '/CPU:0'):\n",
    "            q, _ = self.model.predict(data)\n",
    "            return q.argmax(1)"
   ]
  },
  {
   "cell_type": "code",
   "execution_count": 6,
   "metadata": {},
   "outputs": [],
   "source": [
    "# Preprocess the data\n",
    "\n",
    "# Extract features columns excluding 'account_id'\n",
    "features_df = df.drop(columns=['account_id'])\n",
    "\n",
    "# Convert DataFrame to numpy array\n",
    "features = features_df.to_numpy()\n",
    "\n",
    "# Selecting the last 2 Features\n",
    "scores_df = features_df.iloc[:, -2:]\n",
    "\n",
    "# Convert DataFrame to numpy array\n",
    "score_features = scores_df.to_numpy()"
   ]
  },
  {
   "cell_type": "code",
   "execution_count": 7,
   "metadata": {},
   "outputs": [
    {
     "data": {
      "text/plain": [
       "array([[0.66666667, 0.        , 1.        , ..., 0.        , 0.22590312,\n",
       "        0.40428807],\n",
       "       [0.66666667, 0.        , 1.        , ..., 1.        , 0.69219799,\n",
       "        0.        ],\n",
       "       [1.        , 0.        , 1.        , ..., 0.        , 0.02590312,\n",
       "        0.05800816],\n",
       "       ...,\n",
       "       [0.66666667, 0.        , 1.        , ..., 0.        , 0.22590312,\n",
       "        0.24344734],\n",
       "       [0.33333333, 0.        , 1.        , ..., 0.        , 0.07353108,\n",
       "        0.05800816],\n",
       "       [1.        , 0.        , 0.        , ..., 0.        , 0.8763515 ,\n",
       "        0.8619974 ]])"
      ]
     },
     "execution_count": 7,
     "metadata": {},
     "output_type": "execute_result"
    }
   ],
   "source": [
    "features"
   ]
  },
  {
   "cell_type": "code",
   "execution_count": 8,
   "metadata": {},
   "outputs": [
    {
     "data": {
      "text/plain": [
       "(100000, 11)"
      ]
     },
     "execution_count": 8,
     "metadata": {},
     "output_type": "execute_result"
    }
   ],
   "source": [
    "features.shape"
   ]
  },
  {
   "cell_type": "code",
   "execution_count": 9,
   "metadata": {},
   "outputs": [],
   "source": [
    "# Parameters\n",
    "input_dim = features.shape[1]\n",
    "encoding_dim = features.shape[1]\n",
    "n_clusters = 10\n",
    "dropout_rate = 0.2"
   ]
  },
  {
   "cell_type": "code",
   "execution_count": 10,
   "metadata": {},
   "outputs": [],
   "source": [
    "# Create DEC instance\n",
    "dec = DEC(input_dim, encoding_dim, n_clusters, dropout_rate)"
   ]
  },
  {
   "cell_type": "code",
   "execution_count": 11,
   "metadata": {},
   "outputs": [
    {
     "name": "stdout",
     "output_type": "stream",
     "text": [
      "Epoch 1/100\n",
      "391/391 [==============================] - 2s 2ms/step - loss: 0.0592\n",
      "Epoch 2/100\n",
      "391/391 [==============================] - 1s 2ms/step - loss: 0.0118\n",
      "Epoch 3/100\n",
      "391/391 [==============================] - 1s 2ms/step - loss: 0.0084\n",
      "Epoch 4/100\n",
      "391/391 [==============================] - 1s 2ms/step - loss: 0.0068\n",
      "Epoch 5/100\n",
      "391/391 [==============================] - 1s 2ms/step - loss: 0.0056\n",
      "Epoch 6/100\n",
      "391/391 [==============================] - 1s 2ms/step - loss: 0.0047\n",
      "Epoch 7/100\n",
      "391/391 [==============================] - 1s 2ms/step - loss: 0.0040\n",
      "Epoch 8/100\n",
      "391/391 [==============================] - 1s 2ms/step - loss: 0.0036\n",
      "Epoch 9/100\n",
      "391/391 [==============================] - 1s 2ms/step - loss: 0.0033\n",
      "Epoch 10/100\n",
      "391/391 [==============================] - 1s 2ms/step - loss: 0.0031\n",
      "Epoch 11/100\n",
      "391/391 [==============================] - 1s 2ms/step - loss: 0.0029\n",
      "Epoch 12/100\n",
      "391/391 [==============================] - 1s 2ms/step - loss: 0.0027\n",
      "Epoch 13/100\n",
      "391/391 [==============================] - 1s 2ms/step - loss: 0.0026\n",
      "Epoch 14/100\n",
      "391/391 [==============================] - 1s 2ms/step - loss: 0.0025\n",
      "Epoch 15/100\n",
      "391/391 [==============================] - 1s 2ms/step - loss: 0.0024\n",
      "Epoch 16/100\n",
      "391/391 [==============================] - 1s 2ms/step - loss: 0.0023\n",
      "Epoch 17/100\n",
      "391/391 [==============================] - 1s 2ms/step - loss: 0.0022\n",
      "Epoch 18/100\n",
      "391/391 [==============================] - 1s 2ms/step - loss: 0.0021\n",
      "Epoch 19/100\n",
      "391/391 [==============================] - 1s 2ms/step - loss: 0.0021\n",
      "Epoch 20/100\n",
      "391/391 [==============================] - 1s 2ms/step - loss: 0.0020\n",
      "Epoch 21/100\n",
      "391/391 [==============================] - 1s 2ms/step - loss: 0.0019\n",
      "Epoch 22/100\n",
      "391/391 [==============================] - 1s 2ms/step - loss: 0.0019\n",
      "Epoch 23/100\n",
      "391/391 [==============================] - 1s 2ms/step - loss: 0.0018\n",
      "Epoch 24/100\n",
      "391/391 [==============================] - 1s 2ms/step - loss: 0.0018\n",
      "Epoch 25/100\n",
      "391/391 [==============================] - 1s 2ms/step - loss: 0.0017\n",
      "Epoch 26/100\n",
      "391/391 [==============================] - 1s 2ms/step - loss: 0.0017\n",
      "Epoch 27/100\n",
      "391/391 [==============================] - 1s 2ms/step - loss: 0.0016\n",
      "Epoch 28/100\n",
      "391/391 [==============================] - 1s 2ms/step - loss: 0.0016\n",
      "Epoch 29/100\n",
      "391/391 [==============================] - 1s 2ms/step - loss: 0.0015\n",
      "Epoch 30/100\n",
      "391/391 [==============================] - 1s 2ms/step - loss: 0.0015\n",
      "Epoch 31/100\n",
      "391/391 [==============================] - 1s 2ms/step - loss: 0.0015\n",
      "Epoch 32/100\n",
      "391/391 [==============================] - 1s 2ms/step - loss: 0.0014\n",
      "Epoch 33/100\n",
      "391/391 [==============================] - 1s 2ms/step - loss: 0.0014\n",
      "Epoch 34/100\n",
      "391/391 [==============================] - 1s 2ms/step - loss: 0.0013\n",
      "Epoch 35/100\n",
      "391/391 [==============================] - 1s 2ms/step - loss: 0.0013\n",
      "Epoch 36/100\n",
      "391/391 [==============================] - 1s 2ms/step - loss: 0.0013\n",
      "Epoch 37/100\n",
      "391/391 [==============================] - 1s 2ms/step - loss: 0.0013\n",
      "Epoch 38/100\n",
      "391/391 [==============================] - 1s 2ms/step - loss: 0.0012\n",
      "Epoch 39/100\n",
      "391/391 [==============================] - 1s 2ms/step - loss: 0.0012\n",
      "Epoch 40/100\n",
      "391/391 [==============================] - 1s 2ms/step - loss: 0.0012\n",
      "Epoch 41/100\n",
      "391/391 [==============================] - 1s 2ms/step - loss: 0.0011\n",
      "Epoch 42/100\n",
      "391/391 [==============================] - 1s 2ms/step - loss: 0.0012\n",
      "Epoch 43/100\n",
      "391/391 [==============================] - 1s 2ms/step - loss: 0.0011\n",
      "Epoch 44/100\n",
      "391/391 [==============================] - 1s 2ms/step - loss: 0.0011\n",
      "Epoch 45/100\n",
      "391/391 [==============================] - 1s 2ms/step - loss: 0.0011\n",
      "Epoch 46/100\n",
      "391/391 [==============================] - 1s 2ms/step - loss: 0.0011\n",
      "Epoch 47/100\n",
      "391/391 [==============================] - 1s 2ms/step - loss: 0.0011\n",
      "Epoch 48/100\n",
      "391/391 [==============================] - 1s 2ms/step - loss: 0.0011\n",
      "Epoch 49/100\n",
      "391/391 [==============================] - 1s 2ms/step - loss: 0.0011\n",
      "Epoch 50/100\n",
      "391/391 [==============================] - 1s 2ms/step - loss: 0.0011\n",
      "Epoch 51/100\n",
      "391/391 [==============================] - 1s 2ms/step - loss: 0.0011\n",
      "Epoch 52/100\n",
      "391/391 [==============================] - 1s 2ms/step - loss: 0.0011\n",
      "Epoch 53/100\n",
      "391/391 [==============================] - 1s 2ms/step - loss: 0.0011\n",
      "Epoch 54/100\n",
      "391/391 [==============================] - 1s 2ms/step - loss: 0.0011\n",
      "Epoch 55/100\n",
      "391/391 [==============================] - 1s 2ms/step - loss: 0.0010\n",
      "Epoch 56/100\n",
      "391/391 [==============================] - 1s 2ms/step - loss: 0.0010\n",
      "Epoch 57/100\n",
      "391/391 [==============================] - 1s 2ms/step - loss: 0.0010\n",
      "Epoch 58/100\n",
      "391/391 [==============================] - 1s 2ms/step - loss: 0.0010\n",
      "Epoch 59/100\n",
      "391/391 [==============================] - 1s 2ms/step - loss: 0.0010\n",
      "Epoch 60/100\n",
      "391/391 [==============================] - 1s 2ms/step - loss: 0.0010\n",
      "Epoch 61/100\n",
      "391/391 [==============================] - 1s 2ms/step - loss: 0.0010\n",
      "Epoch 62/100\n",
      "391/391 [==============================] - 1s 2ms/step - loss: 0.0010\n",
      "Epoch 63/100\n",
      "391/391 [==============================] - 1s 2ms/step - loss: 9.9826e-04\n",
      "Epoch 64/100\n",
      "391/391 [==============================] - 1s 2ms/step - loss: 0.0010\n",
      "Epoch 65/100\n",
      "391/391 [==============================] - 1s 2ms/step - loss: 9.8895e-04\n",
      "Epoch 66/100\n",
      "391/391 [==============================] - 1s 2ms/step - loss: 9.9257e-04\n",
      "Epoch 67/100\n",
      "391/391 [==============================] - 1s 2ms/step - loss: 9.9664e-04\n",
      "Epoch 68/100\n",
      "391/391 [==============================] - 1s 2ms/step - loss: 9.7975e-04\n",
      "Epoch 69/100\n",
      "391/391 [==============================] - 1s 2ms/step - loss: 9.9596e-04\n",
      "Epoch 70/100\n",
      "391/391 [==============================] - 1s 2ms/step - loss: 9.9375e-04\n",
      "Epoch 71/100\n",
      "391/391 [==============================] - 1s 2ms/step - loss: 9.9034e-04\n",
      "Epoch 72/100\n",
      "391/391 [==============================] - 1s 2ms/step - loss: 9.7676e-04\n",
      "Epoch 73/100\n",
      "391/391 [==============================] - 1s 2ms/step - loss: 9.5261e-04\n",
      "Epoch 74/100\n",
      "391/391 [==============================] - 1s 2ms/step - loss: 9.5388e-04\n",
      "Epoch 75/100\n",
      "391/391 [==============================] - 1s 2ms/step - loss: 9.7848e-04\n",
      "Epoch 76/100\n",
      "391/391 [==============================] - 1s 2ms/step - loss: 9.8667e-04\n",
      "Epoch 77/100\n",
      "391/391 [==============================] - 1s 2ms/step - loss: 9.7108e-04\n",
      "Epoch 78/100\n",
      "391/391 [==============================] - 1s 2ms/step - loss: 9.5987e-04\n"
     ]
    }
   ],
   "source": [
    "# Pretrain autoencoder\n",
    "dec.pretrain_autoencoder(features, epochs=100, batch_size=256)"
   ]
  },
  {
   "cell_type": "code",
   "execution_count": 12,
   "metadata": {},
   "outputs": [
    {
     "name": "stdout",
     "output_type": "stream",
     "text": [
      "3125/3125 [==============================] - 2s 541us/step\n"
     ]
    }
   ],
   "source": [
    "# Initialize clusters\n",
    "dec.initialize_clusters(features)"
   ]
  },
  {
   "cell_type": "code",
   "execution_count": 13,
   "metadata": {},
   "outputs": [
    {
     "name": "stdout",
     "output_type": "stream",
     "text": [
      "Iteration 0 Loss: [0.3243170976638794, 0.3234102725982666, 0.0009068113286048174]\n",
      "Iteration 1 Loss: [0.30433782935142517, 0.303509384393692, 0.0008284454816021025]\n",
      "Iteration 2 Loss: [0.3919903337955475, 0.39088544249534607, 0.001104893395677209]\n",
      "Iteration 3 Loss: [0.3216415047645569, 0.3208335340023041, 0.0008079842664301395]\n",
      "Iteration 4 Loss: [0.3171953558921814, 0.31623685359954834, 0.0009584922809153795]\n",
      "Iteration 5 Loss: [0.32297828793525696, 0.321649432182312, 0.001328870072029531]\n",
      "Iteration 6 Loss: [0.29177138209342957, 0.29093918204307556, 0.0008321897475980222]\n",
      "Iteration 7 Loss: [0.30334559082984924, 0.30207136273384094, 0.001274222508072853]\n",
      "Iteration 8 Loss: [0.3331434428691864, 0.33215606212615967, 0.0009873851668089628]\n",
      "Iteration 9 Loss: [0.37162330746650696, 0.37074708938598633, 0.0008762101642787457]\n",
      "Iteration 10 Loss: [0.3291850984096527, 0.32822132110595703, 0.0009637685725465417]\n",
      "Iteration 11 Loss: [0.3276069760322571, 0.32637616991996765, 0.001230807974934578]\n",
      "Iteration 12 Loss: [0.3441145718097687, 0.3430640399456024, 0.0010505457175895572]\n",
      "Iteration 13 Loss: [0.316161185503006, 0.31461620330810547, 0.0015449760248884559]\n",
      "Iteration 14 Loss: [0.29017725586891174, 0.28859850764274597, 0.0015787609154358506]\n",
      "Iteration 15 Loss: [0.2958010137081146, 0.2945476174354553, 0.0012533912668004632]\n",
      "Iteration 16 Loss: [0.321453332901001, 0.3199019432067871, 0.0015513852704316378]\n",
      "Iteration 17 Loss: [0.2854063808917999, 0.2839449346065521, 0.001461460953578353]\n",
      "Iteration 18 Loss: [0.2962607741355896, 0.29420024156570435, 0.002060521859675646]\n",
      "Iteration 19 Loss: [0.31019964814186096, 0.3089713454246521, 0.0012283021351322532]\n",
      "Iteration 20 Loss: [0.29924440383911133, 0.297685831785202, 0.0015585601795464754]\n",
      "Iteration 21 Loss: [0.3113226294517517, 0.30970317125320435, 0.0016194498166441917]\n",
      "Iteration 22 Loss: [0.3190312385559082, 0.31669944524765015, 0.002331782830879092]\n",
      "Iteration 23 Loss: [0.28389185667037964, 0.2812957763671875, 0.0025960688944905996]\n",
      "Iteration 24 Loss: [0.2806149423122406, 0.2787635326385498, 0.0018514209659770131]\n",
      "Iteration 25 Loss: [0.274176687002182, 0.27158212661743164, 0.002594571327790618]\n",
      "Iteration 26 Loss: [0.3206293284893036, 0.31820979714393616, 0.002419541822746396]\n",
      "Iteration 27 Loss: [0.25211283564567566, 0.25057584047317505, 0.0015369865577667952]\n",
      "Iteration 28 Loss: [0.3002014756202698, 0.29843732714653015, 0.0017641379963606596]\n",
      "Iteration 29 Loss: [0.2934625744819641, 0.29190513491630554, 0.001557450508698821]\n",
      "Iteration 30 Loss: [0.29068002104759216, 0.2888683080673218, 0.0018117144936695695]\n",
      "Iteration 31 Loss: [0.2694322466850281, 0.26762232184410095, 0.0018099379958584905]\n",
      "Iteration 32 Loss: [0.32802027463912964, 0.3262504041194916, 0.0017698602750897408]\n",
      "Iteration 33 Loss: [0.29864248633384705, 0.2965138256549835, 0.0021286653354763985]\n",
      "Iteration 34 Loss: [0.2879907786846161, 0.28612446784973145, 0.0018663236405700445]\n",
      "Iteration 35 Loss: [0.2979143261909485, 0.2961127460002899, 0.0018015665700659156]\n",
      "Iteration 36 Loss: [0.3034738004207611, 0.30111467838287354, 0.0023591092322021723]\n",
      "Iteration 37 Loss: [0.29936712980270386, 0.29729965329170227, 0.0020674678962677717]\n",
      "Iteration 38 Loss: [0.2807769775390625, 0.2787804901599884, 0.0019964759703725576]\n",
      "Iteration 39 Loss: [0.3026237189769745, 0.30057013034820557, 0.0020535800140351057]\n",
      "Iteration 40 Loss: [0.2838035523891449, 0.2813982367515564, 0.0024053009692579508]\n",
      "Iteration 41 Loss: [0.26614806056022644, 0.26352745294570923, 0.0026206099428236485]\n",
      "Iteration 42 Loss: [0.27853259444236755, 0.27687138319015503, 0.001661199377849698]\n",
      "Iteration 43 Loss: [0.28197211027145386, 0.2793770432472229, 0.002595075871795416]\n",
      "Iteration 44 Loss: [0.3151451647281647, 0.31291520595550537, 0.0022299475967884064]\n",
      "Iteration 45 Loss: [0.26911425590515137, 0.2667452394962311, 0.0023690201342105865]\n",
      "Iteration 46 Loss: [0.30672669410705566, 0.3043670356273651, 0.002359651029109955]\n",
      "Iteration 47 Loss: [0.27870315313339233, 0.27565497159957886, 0.003048177342861891]\n",
      "Iteration 48 Loss: [0.26246193051338196, 0.2596481740474701, 0.0028137527406215668]\n",
      "Iteration 49 Loss: [0.2857724726200104, 0.2834846079349518, 0.00228785234503448]\n",
      "Iteration 50 Loss: [0.26574331521987915, 0.26323583722114563, 0.0025074894074350595]\n",
      "Iteration 51 Loss: [0.2280692756175995, 0.22567395865917206, 0.0023953162599354982]\n",
      "Iteration 52 Loss: [0.29219168424606323, 0.2894245386123657, 0.002767140744253993]\n",
      "Iteration 53 Loss: [0.295635849237442, 0.29380181431770325, 0.001834023860283196]\n",
      "Iteration 54 Loss: [0.2844889163970947, 0.2820197343826294, 0.0024691689759492874]\n",
      "Iteration 55 Loss: [0.2720600366592407, 0.2688411772251129, 0.003218862460926175]\n",
      "Iteration 56 Loss: [0.2747613489627838, 0.2720663547515869, 0.002694980474188924]\n",
      "Iteration 57 Loss: [0.24754807353019714, 0.2438064068555832, 0.003741663182154298]\n",
      "Iteration 58 Loss: [0.27677804231643677, 0.27437710762023926, 0.00240094936452806]\n",
      "Iteration 59 Loss: [0.27297210693359375, 0.27007943391799927, 0.00289266649633646]\n",
      "Iteration 60 Loss: [0.2628656327724457, 0.2600301504135132, 0.002835480496287346]\n",
      "Iteration 61 Loss: [0.25357586145401, 0.25040262937545776, 0.0031732385978102684]\n",
      "Iteration 62 Loss: [0.27057698369026184, 0.2676939368247986, 0.0028830356895923615]\n",
      "Iteration 63 Loss: [0.26419469714164734, 0.2617989778518677, 0.002395732095465064]\n",
      "Iteration 64 Loss: [0.27974069118499756, 0.27683013677597046, 0.002910542069002986]\n",
      "Iteration 65 Loss: [0.2783861458301544, 0.27579498291015625, 0.002591165015473962]\n",
      "Iteration 66 Loss: [0.27552875876426697, 0.2732259929180145, 0.0023027684073895216]\n",
      "Iteration 67 Loss: [0.2507166862487793, 0.24748840928077698, 0.0032282646279782057]\n",
      "Iteration 68 Loss: [0.259506493806839, 0.2566310465335846, 0.0028754547238349915]\n",
      "Iteration 69 Loss: [0.23814307153224945, 0.23597697913646698, 0.0021660909987986088]\n",
      "Iteration 70 Loss: [0.27020028233528137, 0.2677057683467865, 0.002494518645107746]\n",
      "Iteration 71 Loss: [0.2747076749801636, 0.27165085077285767, 0.0030568197835236788]\n",
      "Iteration 72 Loss: [0.24134932458400726, 0.23879094421863556, 0.0025583815295249224]\n",
      "Iteration 73 Loss: [0.2788272202014923, 0.2762027084827423, 0.0026245068293064833]\n",
      "Iteration 74 Loss: [0.26823025941848755, 0.2657613754272461, 0.002468882827088237]\n",
      "Iteration 75 Loss: [0.2603216767311096, 0.25749826431274414, 0.0028234112542122602]\n",
      "Iteration 76 Loss: [0.2352520227432251, 0.23202860355377197, 0.0032234194222837687]\n",
      "Iteration 77 Loss: [0.2561924159526825, 0.25321057438850403, 0.002981852740049362]\n",
      "Iteration 78 Loss: [0.28119614720344543, 0.2785208225250244, 0.0026753114070743322]\n",
      "Iteration 79 Loss: [0.2459341287612915, 0.24227605760097504, 0.0036580648738890886]\n",
      "Iteration 80 Loss: [0.2442817986011505, 0.24160736799240112, 0.002674427581951022]\n",
      "Iteration 81 Loss: [0.25549036264419556, 0.25281772017478943, 0.0026726331561803818]\n",
      "Iteration 82 Loss: [0.2518685758113861, 0.2487989366054535, 0.003069640137255192]\n",
      "Iteration 83 Loss: [0.27369993925094604, 0.2707321047782898, 0.0029678374994546175]\n",
      "Iteration 84 Loss: [0.276260107755661, 0.27293381094932556, 0.0033262837678194046]\n",
      "Iteration 85 Loss: [0.23791106045246124, 0.23436963558197021, 0.0035414211452007294]\n",
      "Iteration 86 Loss: [0.2526051104068756, 0.24946531653404236, 0.003139807842671871]\n",
      "Iteration 87 Loss: [0.2591024339199066, 0.2559545934200287, 0.0031478318851441145]\n",
      "Iteration 88 Loss: [0.2538677453994751, 0.2509661316871643, 0.002901622327044606]\n",
      "Iteration 89 Loss: [0.2367471158504486, 0.2337014079093933, 0.0030457053799182177]\n",
      "Iteration 90 Loss: [0.2720911502838135, 0.26957809925079346, 0.0025130638387054205]\n",
      "Iteration 91 Loss: [0.24287062883377075, 0.24062688648700714, 0.0022437451407313347]\n",
      "Iteration 92 Loss: [0.22768601775169373, 0.22472353279590607, 0.0029624865856021643]\n",
      "Iteration 93 Loss: [0.24523228406906128, 0.24118226766586304, 0.004050005227327347]\n",
      "Iteration 94 Loss: [0.2312038093805313, 0.2284889668226242, 0.002714840229600668]\n",
      "Iteration 95 Loss: [0.22387348115444183, 0.22124062478542328, 0.0026328538078814745]\n",
      "Iteration 96 Loss: [0.2676669657230377, 0.2648331820964813, 0.0028337733820080757]\n",
      "Iteration 97 Loss: [0.2492244392633438, 0.24625663459300995, 0.0029677983839064837]\n",
      "Iteration 98 Loss: [0.25290313363075256, 0.24936531484127045, 0.003537832759320736]\n",
      "Iteration 99 Loss: [0.2018691450357437, 0.19855643808841705, 0.0033127039205282927]\n",
      "Iteration 100 Loss: [0.21641899645328522, 0.2130279242992401, 0.0033910705242305994]\n",
      "Iteration 101 Loss: [0.2549624741077423, 0.2527698576450348, 0.0021926097106188536]\n",
      "Iteration 102 Loss: [0.20046280324459076, 0.19762131571769714, 0.0028414868284016848]\n",
      "Iteration 103 Loss: [0.23414699733257294, 0.23113800585269928, 0.003008972154930234]\n",
      "Iteration 104 Loss: [0.2432418316602707, 0.24043530225753784, 0.0028065273072570562]\n",
      "Iteration 105 Loss: [0.21397332847118378, 0.211396262049675, 0.0025770734064280987]\n",
      "Iteration 106 Loss: [0.23218277096748352, 0.22966167330741882, 0.002521118614822626]\n",
      "Iteration 107 Loss: [0.215082585811615, 0.2123970240354538, 0.0026855578180402517]\n",
      "Iteration 108 Loss: [0.2564678490161896, 0.25333309173583984, 0.0031347584445029497]\n",
      "Iteration 109 Loss: [0.23164498805999756, 0.22902262210845947, 0.0026223482564091682]\n",
      "Iteration 110 Loss: [0.22603216767311096, 0.2229633331298828, 0.003068830817937851]\n",
      "Iteration 111 Loss: [0.24136260151863098, 0.2388508915901184, 0.0025117136538028717]\n",
      "Iteration 112 Loss: [0.23487606644630432, 0.23118866980075836, 0.0036873873323202133]\n",
      "Iteration 113 Loss: [0.23793940246105194, 0.2353362739086151, 0.002603117609396577]\n",
      "Iteration 114 Loss: [0.2327755242586136, 0.229858860373497, 0.0029166608583182096]\n",
      "Iteration 115 Loss: [0.21926383674144745, 0.2160831242799759, 0.003180710133165121]\n",
      "Iteration 116 Loss: [0.2392640858888626, 0.23633043467998505, 0.0029336551669985056]\n",
      "Iteration 117 Loss: [0.21687601506710052, 0.21483035385608673, 0.002045660512521863]\n",
      "Iteration 118 Loss: [0.23931759595870972, 0.2357235550880432, 0.0035940196830779314]\n",
      "Iteration 119 Loss: [0.23727788031101227, 0.23433007299900055, 0.0029478028882294893]\n",
      "Iteration 120 Loss: [0.23511619865894318, 0.23268519341945648, 0.002430995460599661]\n",
      "Iteration 121 Loss: [0.21765081584453583, 0.21450255811214447, 0.003148264717310667]\n",
      "Iteration 122 Loss: [0.233455091714859, 0.23062139749526978, 0.0028336746618151665]\n",
      "Iteration 123 Loss: [0.23214547336101532, 0.2293807417154312, 0.002764726523309946]\n",
      "Iteration 124 Loss: [0.21142472326755524, 0.2088012397289276, 0.002623484004288912]\n",
      "Iteration 125 Loss: [0.22388547658920288, 0.2206500917673111, 0.00323538389056921]\n",
      "Iteration 126 Loss: [0.2154761552810669, 0.21308627724647522, 0.0023898743093013763]\n",
      "Iteration 127 Loss: [0.2130136787891388, 0.21013136208057404, 0.00288231554441154]\n",
      "Iteration 128 Loss: [0.22382919490337372, 0.22068773210048676, 0.0031414562836289406]\n",
      "Iteration 129 Loss: [0.2194841057062149, 0.216968834400177, 0.0025152680464088917]\n",
      "Iteration 130 Loss: [0.2135751098394394, 0.21119236946105957, 0.002382736885920167]\n",
      "Iteration 131 Loss: [0.20575587451457977, 0.20344793796539307, 0.002307932823896408]\n",
      "Iteration 132 Loss: [0.22519373893737793, 0.22212684154510498, 0.0030668959952890873]\n",
      "Iteration 133 Loss: [0.23904764652252197, 0.23627813160419464, 0.0027695114258676767]\n",
      "Iteration 134 Loss: [0.23490570485591888, 0.23155738413333893, 0.003348321421071887]\n",
      "Iteration 135 Loss: [0.20877034962177277, 0.20597773790359497, 0.002792604500427842]\n",
      "Iteration 136 Loss: [0.23053212463855743, 0.22689254581928253, 0.0036395869683474302]\n",
      "Iteration 137 Loss: [0.22770152986049652, 0.22354072332382202, 0.004160808864980936]\n",
      "Iteration 138 Loss: [0.24178291857242584, 0.23870699107646942, 0.003075921442359686]\n",
      "Iteration 139 Loss: [0.2078007459640503, 0.20509204268455505, 0.0027086972258985043]\n",
      "Iteration 140 Loss: [0.4038802683353424, 0.4010375440120697, 0.002842716174200177]\n",
      "Iteration 141 Loss: [0.4314652681350708, 0.42882242798805237, 0.0026428389828652143]\n",
      "Iteration 142 Loss: [0.44763481616973877, 0.4451786279678345, 0.002456197515130043]\n",
      "Iteration 143 Loss: [0.4366317689418793, 0.434307336807251, 0.002324431436136365]\n",
      "Iteration 144 Loss: [0.42697766423225403, 0.4238591194152832, 0.0031185366678982973]\n",
      "Iteration 145 Loss: [0.47744324803352356, 0.4748871326446533, 0.002556110732257366]\n",
      "Iteration 146 Loss: [0.3852757215499878, 0.38300836086273193, 0.0022673492785543203]\n",
      "Iteration 147 Loss: [0.4535931944847107, 0.45051708817481995, 0.0030761181842535734]\n",
      "Iteration 148 Loss: [0.41088390350341797, 0.40751931071281433, 0.0033645883668214083]\n",
      "Iteration 149 Loss: [0.4774649441242218, 0.4737831652164459, 0.0036818005610257387]\n",
      "Iteration 150 Loss: [0.4456765949726105, 0.4422084093093872, 0.0034681956749409437]\n",
      "Iteration 151 Loss: [0.4620203375816345, 0.4583851397037506, 0.0036352090537548065]\n",
      "Iteration 152 Loss: [0.4180561602115631, 0.4143238961696625, 0.0037322670686990023]\n",
      "Iteration 153 Loss: [0.37613776326179504, 0.3723372519016266, 0.003800511360168457]\n",
      "Iteration 154 Loss: [0.4366667568683624, 0.4333229959011078, 0.0033437542151659727]\n",
      "Iteration 155 Loss: [0.39575570821762085, 0.39135807752609253, 0.004397643264383078]\n",
      "Iteration 156 Loss: [0.42967113852500916, 0.42535874247550964, 0.00431238254532218]\n",
      "Iteration 157 Loss: [0.4666202664375305, 0.4626797139644623, 0.0039405436255037785]\n",
      "Iteration 158 Loss: [0.36442819237709045, 0.36042261123657227, 0.004005595110356808]\n",
      "Iteration 159 Loss: [0.3923218846321106, 0.3892051577568054, 0.003116735490038991]\n",
      "Iteration 160 Loss: [0.3758322596549988, 0.371755987405777, 0.004076287150382996]\n",
      "Iteration 161 Loss: [0.40078240633010864, 0.3961997330188751, 0.004582681693136692]\n",
      "Iteration 162 Loss: [0.40805384516716003, 0.40391600131988525, 0.004137846175581217]\n",
      "Iteration 163 Loss: [0.4130670428276062, 0.4089335799217224, 0.004133458714932203]\n",
      "Iteration 164 Loss: [0.37303516268730164, 0.36922281980514526, 0.003812334267422557]\n",
      "Iteration 165 Loss: [0.39826247096061707, 0.3947865068912506, 0.0034759545233100653]\n",
      "Iteration 166 Loss: [0.41374167799949646, 0.40878838300704956, 0.004953289870172739]\n",
      "Iteration 167 Loss: [0.43784645199775696, 0.4327390789985657, 0.0051073855720460415]\n",
      "Iteration 168 Loss: [0.3765334188938141, 0.3725210428237915, 0.004012372810393572]\n",
      "Iteration 169 Loss: [0.4089416563510895, 0.4046039879322052, 0.0043376716785132885]\n",
      "Iteration 170 Loss: [0.3621843457221985, 0.3586324453353882, 0.0035518882796168327]\n",
      "Iteration 171 Loss: [0.3743850588798523, 0.36975541710853577, 0.004629639443010092]\n",
      "Iteration 172 Loss: [0.3558092415332794, 0.3515448272228241, 0.004264415241777897]\n",
      "Iteration 173 Loss: [0.43712493777275085, 0.4320458471775055, 0.005079079419374466]\n",
      "Iteration 174 Loss: [0.41304123401641846, 0.40892887115478516, 0.0041123670525848866]\n",
      "Iteration 175 Loss: [0.38146981596946716, 0.3768262565135956, 0.004643552470952272]\n",
      "Iteration 176 Loss: [0.41695669293403625, 0.41194963455200195, 0.0050070444121956825]\n",
      "Iteration 177 Loss: [0.3897884488105774, 0.3854990005493164, 0.004289435222744942]\n",
      "Iteration 178 Loss: [0.3986060321331024, 0.3936048746109009, 0.005001144949346781]\n",
      "Iteration 179 Loss: [0.40187275409698486, 0.39735329151153564, 0.004519456997513771]\n",
      "Iteration 180 Loss: [0.36909109354019165, 0.3623102009296417, 0.006780884228646755]\n",
      "Iteration 181 Loss: [0.38689395785331726, 0.38307279348373413, 0.0038211653009057045]\n",
      "Iteration 182 Loss: [0.3838392496109009, 0.3786832392215729, 0.005156008061021566]\n",
      "Iteration 183 Loss: [0.3800988495349884, 0.37437668442726135, 0.005722168833017349]\n",
      "Iteration 184 Loss: [0.3737805187702179, 0.3684355318546295, 0.005344973411411047]\n",
      "Iteration 185 Loss: [0.40552276372909546, 0.39958348870277405, 0.00593926478177309]\n",
      "Iteration 186 Loss: [0.38808712363243103, 0.3829263746738434, 0.005160736385732889]\n",
      "Iteration 187 Loss: [0.3638400137424469, 0.3594517707824707, 0.004388235509395599]\n",
      "Iteration 188 Loss: [0.41693970561027527, 0.41150209307670593, 0.005437618121504784]\n",
      "Iteration 189 Loss: [0.3991987109184265, 0.3942102789878845, 0.004988439381122589]\n",
      "Iteration 190 Loss: [0.3985692858695984, 0.39342981576919556, 0.005139474757015705]\n",
      "Iteration 191 Loss: [0.4248138964176178, 0.4196292459964752, 0.005184654612094164]\n",
      "Iteration 192 Loss: [0.37949129939079285, 0.37493714690208435, 0.004554152488708496]\n",
      "Iteration 193 Loss: [0.31851744651794434, 0.31383925676345825, 0.004678190685808659]\n",
      "Iteration 194 Loss: [0.3552074134349823, 0.35035595297813416, 0.004851453006267548]\n",
      "Iteration 195 Loss: [0.3619634509086609, 0.35604608058929443, 0.005917384289205074]\n",
      "Iteration 196 Loss: [0.37971317768096924, 0.3747822642326355, 0.004930920898914337]\n",
      "Iteration 197 Loss: [0.3901233971118927, 0.38450950384140015, 0.005613894201815128]\n",
      "Iteration 198 Loss: [0.3818022608757019, 0.3771195411682129, 0.004682712256908417]\n",
      "Iteration 199 Loss: [0.368107408285141, 0.36224475502967834, 0.005862650461494923]\n",
      "Iteration 200 Loss: [0.3779846429824829, 0.3724384009838104, 0.005546227563172579]\n",
      "Iteration 201 Loss: [0.3707309365272522, 0.36571311950683594, 0.005017830524593592]\n",
      "Iteration 202 Loss: [0.378042995929718, 0.373718798160553, 0.00432418892160058]\n",
      "Iteration 203 Loss: [0.4181113839149475, 0.412604957818985, 0.005506436340510845]\n",
      "Iteration 204 Loss: [0.3827463686466217, 0.37808865308761597, 0.00465770810842514]\n",
      "Iteration 205 Loss: [0.4253467917442322, 0.41902241110801697, 0.00632438575848937]\n",
      "Iteration 206 Loss: [0.3562512993812561, 0.3499451279640198, 0.0063061583787202835]\n",
      "Iteration 207 Loss: [0.4078460931777954, 0.40170079469680786, 0.006145307794213295]\n",
      "Iteration 208 Loss: [0.35377463698387146, 0.34927862882614136, 0.004495995119214058]\n",
      "Iteration 209 Loss: [0.3706982433795929, 0.36586663126945496, 0.0048316046595573425]\n",
      "Iteration 210 Loss: [0.36982229351997375, 0.36427274346351624, 0.005549551919102669]\n",
      "Iteration 211 Loss: [0.39517632126808167, 0.3897566795349121, 0.005419643130153418]\n",
      "Iteration 212 Loss: [0.38101932406425476, 0.3758872449398041, 0.00513208145275712]\n",
      "Iteration 213 Loss: [0.39556217193603516, 0.3903248608112335, 0.005237314384430647]\n",
      "Iteration 214 Loss: [0.3806958794593811, 0.3749784231185913, 0.005717448890209198]\n",
      "Iteration 215 Loss: [0.3570259213447571, 0.35203441977500916, 0.004991504363715649]\n",
      "Iteration 216 Loss: [0.34813225269317627, 0.34104394912719727, 0.007088300306349993]\n",
      "Iteration 217 Loss: [0.3674072027206421, 0.3619123101234436, 0.005494893528521061]\n",
      "Iteration 218 Loss: [0.36507850885391235, 0.3581363260746002, 0.006942170672118664]\n",
      "Iteration 219 Loss: [0.38071808218955994, 0.37448856234550476, 0.0062295072712004185]\n",
      "Iteration 220 Loss: [0.3651105463504791, 0.3589049279689789, 0.006205631885677576]\n",
      "Iteration 221 Loss: [0.3795803189277649, 0.37074655294418335, 0.008833776228129864]\n",
      "Iteration 222 Loss: [0.3672250807285309, 0.3614063262939453, 0.0058187576942145824]\n",
      "Iteration 223 Loss: [0.40362101793289185, 0.3963872492313385, 0.007233764510601759]\n",
      "Iteration 224 Loss: [0.3710753619670868, 0.3650592267513275, 0.006016144994646311]\n",
      "Iteration 225 Loss: [0.42383548617362976, 0.41732698678970337, 0.006508508697152138]\n",
      "Iteration 226 Loss: [0.37905362248420715, 0.3716779947280884, 0.0073756142519414425]\n",
      "Iteration 227 Loss: [0.4254298806190491, 0.4201506972312927, 0.005279195494949818]\n",
      "Iteration 228 Loss: [0.41267678141593933, 0.40691593289375305, 0.005760856904089451]\n",
      "Iteration 229 Loss: [0.35471147298812866, 0.3486926555633545, 0.006018808111548424]\n",
      "Iteration 230 Loss: [0.3889148235321045, 0.3822535276412964, 0.006661305204033852]\n",
      "Iteration 231 Loss: [0.3630896806716919, 0.3577183187007904, 0.005371372681111097]\n",
      "Iteration 232 Loss: [0.36559805274009705, 0.35849371552467346, 0.0071043395437300205]\n",
      "Iteration 233 Loss: [0.37516477704048157, 0.36937856674194336, 0.005786218214780092]\n",
      "Iteration 234 Loss: [0.36133384704589844, 0.3566795885562897, 0.004654261749237776]\n",
      "Iteration 235 Loss: [0.3714822828769684, 0.36582911014556885, 0.005653158761560917]\n",
      "Iteration 236 Loss: [0.3715536892414093, 0.3670518696308136, 0.004501805175095797]\n",
      "Iteration 237 Loss: [0.34718015789985657, 0.3417750298976898, 0.005405130796134472]\n",
      "Iteration 238 Loss: [0.368560254573822, 0.36310723423957825, 0.005453014280647039]\n",
      "Iteration 239 Loss: [0.39035409688949585, 0.3849654793739319, 0.005388607271015644]\n",
      "Iteration 240 Loss: [0.34587362408638, 0.34034931659698486, 0.005524303298443556]\n",
      "Iteration 241 Loss: [0.34203532338142395, 0.33556732535362244, 0.006467991508543491]\n",
      "Iteration 242 Loss: [0.3588126301765442, 0.3518408238887787, 0.0069717951118946075]\n",
      "Iteration 243 Loss: [0.36441415548324585, 0.35874754190444946, 0.005666619632393122]\n",
      "Iteration 244 Loss: [0.35069331526756287, 0.3442910313606262, 0.00640227273106575]\n",
      "Iteration 245 Loss: [0.3703817129135132, 0.36437103152275085, 0.006010693497955799]\n",
      "Iteration 246 Loss: [0.34178128838539124, 0.3343679904937744, 0.007413305342197418]\n",
      "Iteration 247 Loss: [0.3733568787574768, 0.36788976192474365, 0.00546711590141058]\n",
      "Iteration 248 Loss: [0.3916119337081909, 0.38490843772888184, 0.006703502964228392]\n",
      "Iteration 249 Loss: [0.35096463561058044, 0.3453202247619629, 0.005644415970891714]\n",
      "Iteration 250 Loss: [0.36350303888320923, 0.3568492829799652, 0.006653741467744112]\n",
      "Iteration 251 Loss: [0.34317031502723694, 0.3367811441421509, 0.006389164365828037]\n",
      "Iteration 252 Loss: [0.3684300482273102, 0.3620673418045044, 0.006362713407725096]\n",
      "Iteration 253 Loss: [0.33254989981651306, 0.3262207508087158, 0.006329153664410114]\n",
      "Iteration 254 Loss: [0.36522021889686584, 0.3591807782649994, 0.006039437372237444]\n",
      "Iteration 255 Loss: [0.3398582637310028, 0.33414071798324585, 0.005717543885111809]\n",
      "Iteration 256 Loss: [0.362370103597641, 0.3572205901145935, 0.00514951441437006]\n",
      "Iteration 257 Loss: [0.3749436140060425, 0.36993905901908875, 0.005004549399018288]\n",
      "Iteration 258 Loss: [0.3369499742984772, 0.3300551772117615, 0.006894789170473814]\n",
      "Iteration 259 Loss: [0.35990169644355774, 0.3532233238220215, 0.006678372621536255]\n",
      "Iteration 260 Loss: [0.38555723428726196, 0.38083821535110474, 0.00471903383731842]\n",
      "Iteration 261 Loss: [0.3785632848739624, 0.3720981180667877, 0.006465178448706865]\n",
      "Iteration 262 Loss: [0.34274473786354065, 0.33715516328811646, 0.005589582026004791]\n",
      "Iteration 263 Loss: [0.3598032593727112, 0.35321345925331116, 0.006589795928448439]\n",
      "Iteration 264 Loss: [0.3684842586517334, 0.36235418915748596, 0.006130071822553873]\n",
      "Iteration 265 Loss: [0.3592539429664612, 0.3534730076789856, 0.0057809436693787575]\n",
      "Iteration 266 Loss: [0.32543155550956726, 0.31946298480033875, 0.005968573037534952]\n",
      "Iteration 267 Loss: [0.3497146964073181, 0.3438068926334381, 0.005907809361815453]\n",
      "Iteration 268 Loss: [0.3443741500377655, 0.33916258811950684, 0.0052115474827587605]\n",
      "Iteration 269 Loss: [0.3458091616630554, 0.3398655354976654, 0.005943623837083578]\n",
      "Iteration 270 Loss: [0.3336348831653595, 0.32685351371765137, 0.006781356874853373]\n",
      "Iteration 271 Loss: [0.3491142690181732, 0.3428915739059448, 0.0062226951122283936]\n",
      "Iteration 272 Loss: [0.33912479877471924, 0.33353421092033386, 0.005590574815869331]\n",
      "Iteration 273 Loss: [0.3189552128314972, 0.3123561441898346, 0.006599081214517355]\n",
      "Iteration 274 Loss: [0.3961988687515259, 0.38968217372894287, 0.006516682915389538]\n",
      "Iteration 275 Loss: [0.33053112030029297, 0.3236143887042999, 0.006916735786944628]\n",
      "Iteration 276 Loss: [0.330263614654541, 0.3237155079841614, 0.006548100616782904]\n",
      "Iteration 277 Loss: [0.33681049942970276, 0.32935601472854614, 0.007454492151737213]\n",
      "Iteration 278 Loss: [0.3547315299510956, 0.34868094325065613, 0.006050573196262121]\n",
      "Iteration 279 Loss: [0.35698649287223816, 0.35009780526161194, 0.006888689007610083]\n",
      "Iteration 280 Loss: [0.45410460233688354, 0.4475768506526947, 0.006527744233608246]\n",
      "Iteration 281 Loss: [0.4634309411048889, 0.4574854075908661, 0.0059455507434904575]\n",
      "Iteration 282 Loss: [0.4322441816329956, 0.42613333463668823, 0.006110855843871832]\n",
      "Iteration 283 Loss: [0.46289607882499695, 0.45787858963012695, 0.005017466843128204]\n",
      "Iteration 284 Loss: [0.4489889144897461, 0.44311317801475525, 0.005875739268958569]\n",
      "Iteration 285 Loss: [0.4410156011581421, 0.4357287585735321, 0.005286850966513157]\n",
      "Iteration 286 Loss: [0.44332829117774963, 0.4366488456726074, 0.006679453421384096]\n",
      "Iteration 287 Loss: [0.42790448665618896, 0.4215836822986603, 0.006320790387690067]\n",
      "Iteration 288 Loss: [0.495765745639801, 0.48893868923187256, 0.006827051285654306]\n",
      "Iteration 289 Loss: [0.44360294938087463, 0.43683141469955444, 0.00677154678851366]\n",
      "Iteration 290 Loss: [0.48487865924835205, 0.47847044467926025, 0.006408225744962692]\n",
      "Iteration 291 Loss: [0.4382198452949524, 0.4308457672595978, 0.007374081294983625]\n",
      "Iteration 292 Loss: [0.4446462094783783, 0.4373975098133087, 0.0072486926801502705]\n",
      "Iteration 293 Loss: [0.4616334140300751, 0.4547403156757355, 0.0068930950947105885]\n",
      "Iteration 294 Loss: [0.4342286288738251, 0.4282226860523224, 0.006005955394357443]\n",
      "Iteration 295 Loss: [0.4600362479686737, 0.4541168808937073, 0.005919385701417923]\n",
      "Iteration 296 Loss: [0.38993579149246216, 0.38438332080841064, 0.0055524627678096294]\n",
      "Iteration 297 Loss: [0.421517550945282, 0.41551673412323, 0.006000824738293886]\n",
      "Iteration 298 Loss: [0.4612967371940613, 0.45590266585350037, 0.005394082050770521]\n",
      "Iteration 299 Loss: [0.4193650484085083, 0.4131009578704834, 0.006264102645218372]\n",
      "Iteration 300 Loss: [0.43986883759498596, 0.43193623423576355, 0.007932602427899837]\n",
      "Iteration 301 Loss: [0.44807207584381104, 0.44085919857025146, 0.007212874945253134]\n",
      "Iteration 302 Loss: [0.40481916069984436, 0.399140328168869, 0.005678831599652767]\n",
      "Iteration 303 Loss: [0.4283334016799927, 0.420943945646286, 0.007389456033706665]\n",
      "Iteration 304 Loss: [0.4503166377544403, 0.4443037211894989, 0.006012909114360809]\n",
      "Iteration 305 Loss: [0.38230445981025696, 0.3755123019218445, 0.006792146246880293]\n",
      "Iteration 306 Loss: [0.42922815680503845, 0.42232587933540344, 0.006902267225086689]\n",
      "Iteration 307 Loss: [0.44385743141174316, 0.43741852045059204, 0.006438904907554388]\n",
      "Iteration 308 Loss: [0.4420076906681061, 0.4339921176433563, 0.008015573024749756]\n",
      "Iteration 309 Loss: [0.3996657133102417, 0.3932921290397644, 0.0063735987059772015]\n",
      "Iteration 310 Loss: [0.422569215297699, 0.41593676805496216, 0.006632440257817507]\n",
      "Iteration 311 Loss: [0.39684054255485535, 0.3898266851902008, 0.007013869937509298]\n",
      "Iteration 312 Loss: [0.4512040913105011, 0.4448762536048889, 0.006327832583338022]\n",
      "Iteration 313 Loss: [0.4361538290977478, 0.42834505438804626, 0.0078087798319756985]\n",
      "Iteration 314 Loss: [0.41854944825172424, 0.41093432903289795, 0.007615105714648962]\n",
      "Iteration 315 Loss: [0.38548994064331055, 0.37751108407974243, 0.007978844456374645]\n",
      "Iteration 316 Loss: [0.43135976791381836, 0.4240223467350006, 0.007337423041462898]\n",
      "Iteration 317 Loss: [0.3859233260154724, 0.38000407814979553, 0.005919251125305891]\n",
      "Iteration 318 Loss: [0.42655205726623535, 0.4198410212993622, 0.00671103922650218]\n",
      "Iteration 319 Loss: [0.39883020520210266, 0.39094921946525574, 0.007880971767008305]\n",
      "Iteration 320 Loss: [0.4503031373023987, 0.44409042596817017, 0.006212716456502676]\n",
      "Iteration 321 Loss: [0.46083149313926697, 0.452892929315567, 0.007938608527183533]\n",
      "Iteration 322 Loss: [0.41214796900749207, 0.40486985445022583, 0.007278100121766329]\n",
      "Iteration 323 Loss: [0.44107580184936523, 0.4344954192638397, 0.00658039003610611]\n",
      "Iteration 324 Loss: [0.42729124426841736, 0.4195294678211212, 0.007761769462376833]\n",
      "Iteration 325 Loss: [0.4256683588027954, 0.417032390832901, 0.00863596610724926]\n",
      "Iteration 326 Loss: [0.40726450085639954, 0.39920851588249207, 0.008055985905230045]\n",
      "Iteration 327 Loss: [0.38700392842292786, 0.3804689645767212, 0.006534950342029333]\n",
      "Iteration 328 Loss: [0.4067493677139282, 0.3985472321510315, 0.008202122524380684]\n",
      "Iteration 329 Loss: [0.4314654469490051, 0.4243195056915283, 0.007145949639379978]\n",
      "Iteration 330 Loss: [0.4281870722770691, 0.4206041395664215, 0.007582934573292732]\n",
      "Iteration 331 Loss: [0.4339548945426941, 0.426176518201828, 0.007778389845043421]\n",
      "Iteration 332 Loss: [0.43303531408309937, 0.4256558120250702, 0.007379516493529081]\n",
      "Iteration 333 Loss: [0.4550952613353729, 0.44657155871391296, 0.008523697964847088]\n",
      "Iteration 334 Loss: [0.3973243534564972, 0.38950315117836, 0.007821212522685528]\n",
      "Iteration 335 Loss: [0.38440290093421936, 0.37761327624320984, 0.006789620965719223]\n",
      "Iteration 336 Loss: [0.4264548718929291, 0.4194507300853729, 0.007004140876233578]\n",
      "Iteration 337 Loss: [0.4096349775791168, 0.4026007652282715, 0.007034207694232464]\n",
      "Iteration 338 Loss: [0.4086451232433319, 0.39835095405578613, 0.010294157080352306]\n",
      "Iteration 339 Loss: [0.45300161838531494, 0.44602060317993164, 0.006981002166867256]\n",
      "Iteration 340 Loss: [0.4060843884944916, 0.3993067145347595, 0.0067776707001030445]\n",
      "Iteration 341 Loss: [0.4131520688533783, 0.4049355089664459, 0.008216573856770992]\n",
      "Iteration 342 Loss: [0.4087669849395752, 0.3997011184692383, 0.009065881371498108]\n",
      "Iteration 343 Loss: [0.37875521183013916, 0.37168455123901367, 0.007070653606206179]\n",
      "Iteration 344 Loss: [0.42992186546325684, 0.4242320954799652, 0.005689768120646477]\n",
      "Iteration 345 Loss: [0.4214540719985962, 0.41240960359573364, 0.009044473059475422]\n",
      "Iteration 346 Loss: [0.4002149701118469, 0.3909171223640442, 0.009297860786318779]\n",
      "Iteration 347 Loss: [0.41786491870880127, 0.410311758518219, 0.0075531466864049435]\n",
      "Iteration 348 Loss: [0.41176512837409973, 0.4044993817806244, 0.007265739608556032]\n",
      "Iteration 349 Loss: [0.4110889732837677, 0.40357375144958496, 0.007515209261327982]\n",
      "Iteration 350 Loss: [0.3683558404445648, 0.3613837659358978, 0.006972062401473522]\n",
      "Iteration 351 Loss: [0.4037550091743469, 0.3965403735637665, 0.007214648183435202]\n",
      "Iteration 352 Loss: [0.40560686588287354, 0.39660322666168213, 0.009003624320030212]\n",
      "Iteration 353 Loss: [0.41305631399154663, 0.4066433310508728, 0.006412985268980265]\n",
      "Iteration 354 Loss: [0.4137749671936035, 0.405862957239151, 0.007912023924291134]\n",
      "Iteration 355 Loss: [0.3600083589553833, 0.3533983826637268, 0.0066099632531404495]\n",
      "Iteration 356 Loss: [0.36887070536613464, 0.3602781593799591, 0.008592541329562664]\n",
      "Iteration 357 Loss: [0.3879600763320923, 0.3806992769241333, 0.007260789163410664]\n",
      "Iteration 358 Loss: [0.4275270700454712, 0.42005154490470886, 0.007475520949810743]\n",
      "Iteration 359 Loss: [0.3709333837032318, 0.36286860704421997, 0.00806478876620531]\n",
      "Iteration 360 Loss: [0.4055582284927368, 0.3982647657394409, 0.007293463684618473]\n",
      "Iteration 361 Loss: [0.3896868824958801, 0.38344326615333557, 0.006243601907044649]\n",
      "Iteration 362 Loss: [0.41422760486602783, 0.4072466790676117, 0.006980933248996735]\n",
      "Iteration 363 Loss: [0.399759441614151, 0.3925195038318634, 0.007239931728690863]\n",
      "Iteration 364 Loss: [0.38355568051338196, 0.3738517463207245, 0.009703927673399448]\n",
      "Iteration 365 Loss: [0.37097489833831787, 0.36238983273506165, 0.008585076779127121]\n",
      "Iteration 366 Loss: [0.45834895968437195, 0.4514979124069214, 0.006851043086498976]\n",
      "Iteration 367 Loss: [0.37932276725769043, 0.37173089385032654, 0.007591871079057455]\n",
      "Iteration 368 Loss: [0.37598487734794617, 0.3677031099796295, 0.008281766436994076]\n",
      "Iteration 369 Loss: [0.3990372121334076, 0.3903580605983734, 0.008679148741066456]\n",
      "Iteration 370 Loss: [0.37869128584861755, 0.3703605830669403, 0.008330704644322395]\n",
      "Iteration 371 Loss: [0.41032537817955017, 0.40331584215164185, 0.007009528577327728]\n",
      "Iteration 372 Loss: [0.3692358732223511, 0.36246392130851746, 0.0067719570361077785]\n",
      "Iteration 373 Loss: [0.40352189540863037, 0.3958827555179596, 0.007639147341251373]\n",
      "Iteration 374 Loss: [0.3985426723957062, 0.39020565152168274, 0.00833702739328146]\n",
      "Iteration 375 Loss: [0.39827075600624084, 0.3917483687400818, 0.006522387731820345]\n",
      "Iteration 376 Loss: [0.4225650131702423, 0.4122181534767151, 0.010346855968236923]\n",
      "Iteration 377 Loss: [0.41515859961509705, 0.40797266364097595, 0.007185930851846933]\n",
      "Iteration 378 Loss: [0.4013630151748657, 0.39191359281539917, 0.009449420496821404]\n",
      "Iteration 379 Loss: [0.48092690110206604, 0.4712855815887451, 0.009641303680837154]\n",
      "Iteration 380 Loss: [0.4059348702430725, 0.3987219035625458, 0.007212959695607424]\n",
      "Iteration 381 Loss: [0.41139736771583557, 0.4037534296512604, 0.007643951568752527]\n",
      "Iteration 382 Loss: [0.4238647222518921, 0.41678085923194885, 0.007083876524120569]\n",
      "Iteration 383 Loss: [0.4278908967971802, 0.4193846881389618, 0.00850619375705719]\n",
      "Iteration 384 Loss: [0.4213903546333313, 0.41347721219062805, 0.007913148030638695]\n",
      "Iteration 385 Loss: [0.4143836200237274, 0.40642836689949036, 0.00795526709407568]\n",
      "Iteration 386 Loss: [0.3756091296672821, 0.36937403678894043, 0.006235097069293261]\n",
      "Iteration 387 Loss: [0.4208311438560486, 0.4130382835865021, 0.007792857941240072]\n",
      "Iteration 388 Loss: [0.3776610791683197, 0.37078651785850525, 0.00687456177547574]\n",
      "Iteration 389 Loss: [0.36085784435272217, 0.35340455174446106, 0.00745330611243844]\n",
      "Iteration 390 Loss: [0.4218602478504181, 0.4134928584098816, 0.008367398753762245]\n",
      "Iteration 391 Loss: [0.4006534516811371, 0.3931520879268646, 0.0075013646855950356]\n",
      "Iteration 392 Loss: [0.41524237394332886, 0.4065121114253998, 0.00873025692999363]\n",
      "Iteration 393 Loss: [0.4139171838760376, 0.40732574462890625, 0.0065914480946958065]\n",
      "Iteration 394 Loss: [0.40512946248054504, 0.3959636688232422, 0.009165791794657707]\n",
      "Iteration 395 Loss: [0.4407368302345276, 0.43500038981437683, 0.005736446939408779]\n",
      "Iteration 396 Loss: [0.3839851915836334, 0.3773762881755829, 0.006608902011066675]\n",
      "Iteration 397 Loss: [0.3917121887207031, 0.38333943486213684, 0.008372748270630836]\n",
      "Iteration 398 Loss: [0.4074053466320038, 0.40110287070274353, 0.006302477791905403]\n",
      "Iteration 399 Loss: [0.3984515964984894, 0.39053988456726074, 0.00791170448064804]\n",
      "Iteration 400 Loss: [0.3812183737754822, 0.37275123596191406, 0.00846714898943901]\n",
      "Iteration 401 Loss: [0.4390985667705536, 0.43084314465522766, 0.008255436085164547]\n",
      "Iteration 402 Loss: [0.3826223313808441, 0.3749934732913971, 0.007628852967172861]\n",
      "Iteration 403 Loss: [0.3751899003982544, 0.36506178975105286, 0.010128125548362732]\n",
      "Iteration 404 Loss: [0.36824148893356323, 0.36274290084838867, 0.005498580168932676]\n",
      "Iteration 405 Loss: [0.38949090242385864, 0.3796047866344452, 0.009886123239994049]\n",
      "Iteration 406 Loss: [0.4115575850009918, 0.4037224054336548, 0.007835174910724163]\n",
      "Iteration 407 Loss: [0.4002366065979004, 0.3920292854309082, 0.008207321166992188]\n",
      "Iteration 408 Loss: [0.37198615074157715, 0.36298903822898865, 0.008997117169201374]\n",
      "Iteration 409 Loss: [0.38628652691841125, 0.37784135341644287, 0.00844517070800066]\n",
      "Iteration 410 Loss: [0.3934605121612549, 0.3837261199951172, 0.009734377264976501]\n",
      "Iteration 411 Loss: [0.43136316537857056, 0.4223882853984833, 0.008974865078926086]\n",
      "Iteration 412 Loss: [0.38607490062713623, 0.37529438734054565, 0.010780499316751957]\n",
      "Iteration 413 Loss: [0.3509148955345154, 0.3421843945980072, 0.008730496279895306]\n",
      "Iteration 414 Loss: [0.356540322303772, 0.3487313985824585, 0.007808918599039316]\n",
      "Iteration 415 Loss: [0.3751377463340759, 0.3655257523059845, 0.009611997753381729]\n",
      "Iteration 416 Loss: [0.3793221712112427, 0.37095239758491516, 0.008369781076908112]\n",
      "Iteration 417 Loss: [0.4368671774864197, 0.4245714247226715, 0.012295749969780445]\n",
      "Iteration 418 Loss: [0.3852662444114685, 0.37663206458091736, 0.008634188212454319]\n",
      "Iteration 419 Loss: [0.3647104799747467, 0.35681575536727905, 0.007894717156887054]\n",
      "Iteration 420 Loss: [0.44962579011917114, 0.44188234210014343, 0.00774346012622118]\n",
      "Iteration 421 Loss: [0.4633599519729614, 0.45458489656448364, 0.008775020949542522]\n",
      "Iteration 422 Loss: [0.4321136176586151, 0.42560485005378723, 0.006508761551231146]\n",
      "Iteration 423 Loss: [0.4005470871925354, 0.3936241865158081, 0.006922886241227388]\n",
      "Iteration 424 Loss: [0.43522265553474426, 0.42741909623146057, 0.007803552318364382]\n",
      "Iteration 425 Loss: [0.41088467836380005, 0.40386003255844116, 0.007024658843874931]\n",
      "Iteration 426 Loss: [0.4623592495918274, 0.4549250602722168, 0.007434176746755838]\n",
      "Iteration 427 Loss: [0.4201076328754425, 0.4106605350971222, 0.00944709312170744]\n",
      "Iteration 428 Loss: [0.43479520082473755, 0.4256438910961151, 0.009151320904493332]\n",
      "Iteration 429 Loss: [0.4307558238506317, 0.42246192693710327, 0.008293896913528442]\n",
      "Iteration 430 Loss: [0.42002370953559875, 0.41227561235427856, 0.007748090196400881]\n",
      "Iteration 431 Loss: [0.4365895986557007, 0.4285859763622284, 0.008003615774214268]\n",
      "Iteration 432 Loss: [0.4443679451942444, 0.43574783205986023, 0.008620103821158409]\n",
      "Iteration 433 Loss: [0.4468674063682556, 0.4398197531700134, 0.007047663442790508]\n",
      "Iteration 434 Loss: [0.4354829490184784, 0.4277733862400055, 0.007709560450166464]\n",
      "Iteration 435 Loss: [0.44449910521507263, 0.4375334084033966, 0.006965698674321175]\n",
      "Iteration 436 Loss: [0.4479440450668335, 0.437258243560791, 0.010685808025300503]\n",
      "Iteration 437 Loss: [0.4448416829109192, 0.43353012204170227, 0.011311565525829792]\n",
      "Iteration 438 Loss: [0.3979484438896179, 0.3916034698486328, 0.006344963330775499]\n",
      "Iteration 439 Loss: [0.38826674222946167, 0.38204264640808105, 0.006224095821380615]\n",
      "Iteration 440 Loss: [0.3787146508693695, 0.3718574047088623, 0.006857259664684534]\n",
      "Iteration 441 Loss: [0.40593037009239197, 0.396187424659729, 0.00974294077605009]\n",
      "Iteration 442 Loss: [0.45041340589523315, 0.44191423058509827, 0.00849916785955429]\n",
      "Iteration 443 Loss: [0.45204704999923706, 0.4437238574028015, 0.00832319725304842]\n",
      "Iteration 444 Loss: [0.4123260974884033, 0.4041968882083893, 0.008129213936626911]\n",
      "Iteration 445 Loss: [0.4300624430179596, 0.4191557765007019, 0.01090668048709631]\n",
      "Iteration 446 Loss: [0.39652925729751587, 0.3886035978794098, 0.007925659418106079]\n",
      "Iteration 447 Loss: [0.4157302975654602, 0.4073575437068939, 0.008372768759727478]\n",
      "Iteration 448 Loss: [0.4110245108604431, 0.4013992249965668, 0.009625286795198917]\n",
      "Iteration 449 Loss: [0.4307252764701843, 0.42277368903160095, 0.007951585575938225]\n",
      "Iteration 450 Loss: [0.43885600566864014, 0.430132120847702, 0.008723895065486431]\n",
      "Iteration 451 Loss: [0.42027580738067627, 0.41004660725593567, 0.01022921409457922]\n",
      "Iteration 452 Loss: [0.4375022351741791, 0.4273262023925781, 0.01017602626234293]\n",
      "Iteration 453 Loss: [0.4172932803630829, 0.4066776931285858, 0.010615582577884197]\n",
      "Iteration 454 Loss: [0.4432743191719055, 0.43330010771751404, 0.00997420959174633]\n",
      "Iteration 455 Loss: [0.4114013910293579, 0.40168967843055725, 0.009711699560284615]\n",
      "Iteration 456 Loss: [0.40999001264572144, 0.4007433354854584, 0.00924668088555336]\n",
      "Iteration 457 Loss: [0.36675381660461426, 0.35792961716651917, 0.008824193850159645]\n",
      "Iteration 458 Loss: [0.40474948287010193, 0.395425409078598, 0.009324059821665287]\n",
      "Iteration 459 Loss: [0.43499305844306946, 0.4252835810184479, 0.009709487669169903]\n",
      "Iteration 460 Loss: [0.4057101607322693, 0.394636869430542, 0.011073287576436996]\n",
      "Iteration 461 Loss: [0.41721898317337036, 0.40829721093177795, 0.008921777829527855]\n",
      "Iteration 462 Loss: [0.428448349237442, 0.4192730486392975, 0.009175286628305912]\n",
      "Iteration 463 Loss: [0.4141986072063446, 0.40576884150505066, 0.008429761044681072]\n",
      "Iteration 464 Loss: [0.44923195242881775, 0.43918582797050476, 0.010046119801700115]\n",
      "Iteration 465 Loss: [0.3918556869029999, 0.3859507739543915, 0.005904908291995525]\n",
      "Iteration 466 Loss: [0.4118335247039795, 0.4014298915863037, 0.010403645224869251]\n",
      "Iteration 467 Loss: [0.40792420506477356, 0.3972839117050171, 0.010640283115208149]\n",
      "Iteration 468 Loss: [0.39823001623153687, 0.3886713683605194, 0.009558635763823986]\n",
      "Iteration 469 Loss: [0.40004804730415344, 0.3866572678089142, 0.013390772975981236]\n",
      "Iteration 470 Loss: [0.3953511714935303, 0.3877807855606079, 0.007570378948003054]\n",
      "Iteration 471 Loss: [0.40332311391830444, 0.3931969106197357, 0.010126188397407532]\n",
      "Iteration 472 Loss: [0.42224109172821045, 0.4134141206741333, 0.00882697757333517]\n",
      "Iteration 473 Loss: [0.370225727558136, 0.360563725233078, 0.009662007912993431]\n",
      "Iteration 474 Loss: [0.4018600583076477, 0.3924258053302765, 0.00943426787853241]\n",
      "Iteration 475 Loss: [0.43415525555610657, 0.4238267242908478, 0.01032854150980711]\n",
      "Iteration 476 Loss: [0.43062594532966614, 0.4216892123222351, 0.00893673300743103]\n",
      "Iteration 477 Loss: [0.3798559308052063, 0.3713722825050354, 0.008483662270009518]\n",
      "Iteration 478 Loss: [0.4551895558834076, 0.4437353312969208, 0.011454218067228794]\n",
      "Iteration 479 Loss: [0.45418670773506165, 0.4462510645389557, 0.00793563574552536]\n",
      "Iteration 480 Loss: [0.38778620958328247, 0.3775140643119812, 0.010272149927914143]\n",
      "Iteration 481 Loss: [0.43367132544517517, 0.4240046739578247, 0.009666664525866508]\n",
      "Iteration 482 Loss: [0.3835618197917938, 0.3750728368759155, 0.008488981984555721]\n",
      "Iteration 483 Loss: [0.4017486572265625, 0.39332664012908936, 0.008422019891440868]\n",
      "Iteration 484 Loss: [0.3525846600532532, 0.3438597023487091, 0.008724968880414963]\n",
      "Iteration 485 Loss: [0.38799917697906494, 0.37930500507354736, 0.008694176562130451]\n",
      "Iteration 486 Loss: [0.37073126435279846, 0.3622422218322754, 0.008489053696393967]\n",
      "Iteration 487 Loss: [0.3758404850959778, 0.36604228615760803, 0.009798211976885796]\n",
      "Iteration 488 Loss: [0.35801079869270325, 0.3477950692176819, 0.010215738788247108]\n",
      "Iteration 489 Loss: [0.3873707950115204, 0.37735480070114136, 0.010015993379056454]\n",
      "Iteration 490 Loss: [0.40607404708862305, 0.3975898325443268, 0.00848419964313507]\n",
      "Iteration 491 Loss: [0.36772507429122925, 0.3589710593223572, 0.008754018694162369]\n",
      "Iteration 492 Loss: [0.394642174243927, 0.3864426612854004, 0.008199509233236313]\n",
      "Iteration 493 Loss: [0.5022931694984436, 0.49240171909332275, 0.009891442023217678]\n",
      "Iteration 494 Loss: [0.40962129831314087, 0.40118157863616943, 0.008439709432423115]\n",
      "Iteration 495 Loss: [0.38872018456459045, 0.3795619010925293, 0.00915828812867403]\n",
      "Iteration 496 Loss: [0.3857079744338989, 0.37647831439971924, 0.009229668416082859]\n",
      "Iteration 497 Loss: [0.47046294808387756, 0.46115928888320923, 0.009303690865635872]\n",
      "Iteration 498 Loss: [0.4060443341732025, 0.3967054784297943, 0.009338859468698502]\n",
      "Iteration 499 Loss: [0.4064442813396454, 0.3976028859615326, 0.008841392584145069]\n",
      "Iteration 500 Loss: [0.4343266487121582, 0.42452478408813477, 0.009801876731216908]\n",
      "Iteration 501 Loss: [0.40115103125572205, 0.3909910023212433, 0.010160025209188461]\n",
      "Iteration 502 Loss: [0.39227426052093506, 0.38400256633758545, 0.008271709084510803]\n",
      "Iteration 503 Loss: [0.40151265263557434, 0.3931039869785309, 0.00840867217630148]\n",
      "Iteration 504 Loss: [0.40904390811920166, 0.40034958720207214, 0.008694307878613472]\n",
      "Iteration 505 Loss: [0.557388186454773, 0.546802818775177, 0.01058538630604744]\n",
      "Iteration 506 Loss: [0.48274514079093933, 0.4724116623401642, 0.01033349335193634]\n",
      "Iteration 507 Loss: [0.4581236243247986, 0.4499349892139435, 0.008188624866306782]\n",
      "Iteration 508 Loss: [0.4929308295249939, 0.48240765929222107, 0.01052313856780529]\n",
      "Iteration 509 Loss: [0.45252758264541626, 0.44612589478492737, 0.006401680409908295]\n",
      "Iteration 510 Loss: [0.4918992817401886, 0.48360180854797363, 0.00829746387898922]\n",
      "Iteration 511 Loss: [0.48790839314460754, 0.48009583353996277, 0.007812514901161194]\n",
      "Iteration 512 Loss: [0.4719144105911255, 0.4622332453727722, 0.009681162424385548]\n",
      "Iteration 513 Loss: [0.4836551547050476, 0.47563356161117554, 0.008021621964871883]\n",
      "Iteration 514 Loss: [0.4661470651626587, 0.4579528868198395, 0.008194169029593468]\n",
      "Iteration 515 Loss: [0.4502282440662384, 0.44109785556793213, 0.009130381979048252]\n",
      "Iteration 516 Loss: [0.46066567301750183, 0.4509652554988861, 0.009700419381260872]\n",
      "Iteration 517 Loss: [0.44413676857948303, 0.4358832836151123, 0.00825349148362875]\n",
      "Iteration 518 Loss: [0.435770183801651, 0.42527782917022705, 0.010492359288036823]\n",
      "Iteration 519 Loss: [0.47541558742523193, 0.46673518419265747, 0.008680389262735844]\n",
      "Iteration 520 Loss: [0.43383580446243286, 0.4226210415363312, 0.011214761063456535]\n",
      "Iteration 521 Loss: [0.45215684175491333, 0.44454824924468994, 0.007608604617416859]\n",
      "Iteration 522 Loss: [0.46096524596214294, 0.4522189795970917, 0.0087462542578578]\n",
      "Iteration 523 Loss: [0.44084981083869934, 0.43343910574913025, 0.007410705089569092]\n",
      "Iteration 524 Loss: [0.41451215744018555, 0.40786758065223694, 0.006644565612077713]\n",
      "Iteration 525 Loss: [0.44322335720062256, 0.4330200254917145, 0.010203322395682335]\n",
      "Iteration 526 Loss: [0.4510553777217865, 0.4354994297027588, 0.015555940568447113]\n",
      "Iteration 527 Loss: [0.46933096647262573, 0.4561270773410797, 0.013203904032707214]\n",
      "Iteration 528 Loss: [0.42550981044769287, 0.41245177388191223, 0.013058039359748363]\n",
      "Iteration 529 Loss: [0.4574337601661682, 0.4477495849132538, 0.00968414731323719]\n",
      "Iteration 530 Loss: [0.429790735244751, 0.4218471646308899, 0.007943578995764256]\n",
      "Iteration 531 Loss: [0.43429824709892273, 0.42478954792022705, 0.009508696384727955]\n",
      "Iteration 532 Loss: [0.4418385326862335, 0.4343722462654114, 0.0074662938714027405]\n",
      "Iteration 533 Loss: [0.39967766404151917, 0.3890666663646698, 0.010611009784042835]\n",
      "Iteration 534 Loss: [0.422926127910614, 0.41310179233551025, 0.009824340231716633]\n",
      "Iteration 535 Loss: [0.4092002809047699, 0.40149426460266113, 0.007706025615334511]\n",
      "Iteration 536 Loss: [0.4385206699371338, 0.4276328980922699, 0.01088776160031557]\n",
      "Iteration 537 Loss: [0.39159780740737915, 0.3837739825248718, 0.007823824882507324]\n",
      "Iteration 538 Loss: [0.40578657388687134, 0.39790135622024536, 0.007885207422077656]\n",
      "Iteration 539 Loss: [0.4135909378528595, 0.40489622950553894, 0.008694705553352833]\n",
      "Iteration 540 Loss: [0.46658462285995483, 0.45771196484565735, 0.00887266919016838]\n",
      "Iteration 541 Loss: [0.41358447074890137, 0.4038267433643341, 0.009757734835147858]\n",
      "Iteration 542 Loss: [0.4183778166770935, 0.40892553329467773, 0.009452270343899727]\n",
      "Iteration 543 Loss: [0.40374624729156494, 0.39430221915245056, 0.009444029070436954]\n",
      "Iteration 544 Loss: [0.4007483124732971, 0.3921118378639221, 0.008636475540697575]\n",
      "Iteration 545 Loss: [0.4123746156692505, 0.4042033553123474, 0.008171272464096546]\n",
      "Iteration 546 Loss: [0.40717676281929016, 0.3977985084056854, 0.009378268383443356]\n",
      "Iteration 547 Loss: [0.4193976819515228, 0.40814894437789917, 0.011248745955526829]\n",
      "Iteration 548 Loss: [0.36362093687057495, 0.35484078526496887, 0.008780146948993206]\n",
      "Iteration 549 Loss: [0.36804696917533875, 0.3583902418613434, 0.009656718000769615]\n",
      "Iteration 550 Loss: [0.3764219284057617, 0.36652258038520813, 0.009899336844682693]\n",
      "Iteration 551 Loss: [0.3541928827762604, 0.34720057249069214, 0.006992300972342491]\n",
      "Iteration 552 Loss: [0.37240707874298096, 0.3654816448688507, 0.006925428751856089]\n",
      "Iteration 553 Loss: [0.3603741526603699, 0.35072430968284607, 0.0096498504281044]\n",
      "Iteration 554 Loss: [0.4163283407688141, 0.4071780741214752, 0.009150279685854912]\n",
      "Iteration 555 Loss: [0.41905608773231506, 0.4077220559120178, 0.01133402157574892]\n",
      "Iteration 556 Loss: [0.3834351599216461, 0.3762962818145752, 0.007138891611248255]\n",
      "Iteration 557 Loss: [0.3842765986919403, 0.3763635456562042, 0.007913042791187763]\n",
      "Iteration 558 Loss: [0.3675064742565155, 0.3553510010242462, 0.012155463919043541]\n",
      "Iteration 559 Loss: [0.41768741607666016, 0.40764233469963074, 0.010045082308351994]\n",
      "Iteration 560 Loss: [0.4099789559841156, 0.4008003771305084, 0.009178574196994305]\n",
      "Iteration 561 Loss: [0.4360145330429077, 0.42828992009162903, 0.007724624127149582]\n",
      "Iteration 562 Loss: [0.41800153255462646, 0.407605916261673, 0.010395603254437447]\n",
      "Iteration 563 Loss: [0.4592529833316803, 0.4524175226688385, 0.006835463922470808]\n",
      "Iteration 564 Loss: [0.450577974319458, 0.44060710072517395, 0.009970872662961483]\n",
      "Iteration 565 Loss: [0.4211791753768921, 0.4117484986782074, 0.009430676698684692]\n",
      "Iteration 566 Loss: [0.44194963574409485, 0.42922234535217285, 0.012727285735309124]\n",
      "Iteration 567 Loss: [0.41364985704421997, 0.40318766236305237, 0.010462181642651558]\n",
      "Iteration 568 Loss: [0.4098087251186371, 0.3998706340789795, 0.009938093833625317]\n",
      "Iteration 569 Loss: [0.43602219223976135, 0.4257015585899353, 0.010320623405277729]\n",
      "Iteration 570 Loss: [0.41721677780151367, 0.4067966043949127, 0.010420175269246101]\n",
      "Iteration 571 Loss: [0.3855058550834656, 0.37389013171195984, 0.011615718714892864]\n",
      "Iteration 572 Loss: [0.4121367931365967, 0.40113481879234314, 0.011001985520124435]\n",
      "Iteration 573 Loss: [0.39335933327674866, 0.38422608375549316, 0.00913324486464262]\n",
      "Iteration 574 Loss: [0.4180613160133362, 0.40772032737731934, 0.010340993292629719]\n",
      "Iteration 575 Loss: [0.4256041646003723, 0.41462117433547974, 0.010983002372086048]\n",
      "Iteration 576 Loss: [0.38084691762924194, 0.36986812949180603, 0.010978790931403637]\n",
      "Iteration 577 Loss: [0.4146905243396759, 0.4045291244983673, 0.01016139890998602]\n",
      "Iteration 578 Loss: [0.41075703501701355, 0.3992813229560852, 0.011475707404315472]\n",
      "Iteration 579 Loss: [0.41996267437934875, 0.4112876355648041, 0.00867503508925438]\n",
      "Iteration 580 Loss: [0.4151114821434021, 0.4042899012565613, 0.010821595788002014]\n",
      "Iteration 581 Loss: [0.3972166180610657, 0.38566267490386963, 0.011553932912647724]\n",
      "Iteration 582 Loss: [0.4185553789138794, 0.40869173407554626, 0.009863649494946003]\n",
      "Iteration 583 Loss: [0.3892149031162262, 0.3779144883155823, 0.011300410144031048]\n",
      "Iteration 584 Loss: [0.38885003328323364, 0.38124406337738037, 0.007605973165482283]\n",
      "Iteration 585 Loss: [0.40682414174079895, 0.39822158217430115, 0.008602569811046124]\n",
      "Iteration 586 Loss: [0.38220635056495667, 0.3711995482444763, 0.011006797663867474]\n",
      "Iteration 587 Loss: [0.39966559410095215, 0.3895401954650879, 0.010125383734703064]\n",
      "Iteration 588 Loss: [0.3847527503967285, 0.3767623007297516, 0.007990461774170399]\n",
      "Iteration 589 Loss: [0.41722312569618225, 0.4076259434223175, 0.00959717109799385]\n",
      "Iteration 590 Loss: [0.41406741738319397, 0.40446969866752625, 0.00959773175418377]\n",
      "Iteration 591 Loss: [0.3745885193347931, 0.3637247681617737, 0.010863755829632282]\n",
      "Iteration 592 Loss: [0.472174733877182, 0.46201181411743164, 0.010162881575524807]\n",
      "Iteration 593 Loss: [0.41261717677116394, 0.40506723523139954, 0.007549946662038565]\n",
      "Iteration 594 Loss: [0.40456947684288025, 0.3959062695503235, 0.008663218468427658]\n",
      "Iteration 595 Loss: [0.37874114513397217, 0.36931276321411133, 0.009428394958376884]\n",
      "Iteration 596 Loss: [0.4206461012363434, 0.41135674715042114, 0.009289353154599667]\n",
      "Iteration 597 Loss: [0.3820352256298065, 0.37217625975608826, 0.009858955629169941]\n",
      "Iteration 598 Loss: [0.4146839678287506, 0.4040907025337219, 0.010593271814286709]\n",
      "Iteration 599 Loss: [0.3808881640434265, 0.37225142121315, 0.008636738173663616]\n",
      "Iteration 600 Loss: [0.38110727071762085, 0.37197956442832947, 0.009127700701355934]\n",
      "Iteration 601 Loss: [0.37822335958480835, 0.3717356324195862, 0.006487726233899593]\n",
      "Iteration 602 Loss: [0.39142289757728577, 0.3818047046661377, 0.009618183597922325]\n",
      "Iteration 603 Loss: [0.39836323261260986, 0.39088526368141174, 0.007477983366698027]\n",
      "Iteration 604 Loss: [0.3999941945075989, 0.3896673321723938, 0.010326859541237354]\n",
      "Iteration 605 Loss: [0.37840595841407776, 0.37086862325668335, 0.007537324912846088]\n",
      "Iteration 606 Loss: [0.3839275538921356, 0.3752193748950958, 0.008708171546459198]\n",
      "Iteration 607 Loss: [0.40360456705093384, 0.3949473202228546, 0.008657259866595268]\n",
      "Iteration 608 Loss: [0.375188946723938, 0.36527568101882935, 0.009913274087011814]\n",
      "Iteration 609 Loss: [0.3687237501144409, 0.3593481481075287, 0.009375594556331635]\n",
      "Iteration 610 Loss: [0.40371695160865784, 0.3919410705566406, 0.011775890365242958]\n",
      "Iteration 611 Loss: [0.369438499212265, 0.3574548065662384, 0.01198369637131691]\n",
      "Iteration 612 Loss: [0.4253583252429962, 0.41671308875083923, 0.008645241148769855]\n",
      "Iteration 613 Loss: [0.3673916161060333, 0.35721367597579956, 0.010177930817008018]\n",
      "Iteration 614 Loss: [0.3855816423892975, 0.37655654549598694, 0.009025102481245995]\n",
      "Iteration 615 Loss: [0.36696290969848633, 0.3576534688472748, 0.009309446439146996]\n",
      "Iteration 616 Loss: [0.4029582440853119, 0.3928396701812744, 0.010118584148585796]\n",
      "Iteration 617 Loss: [0.38603219389915466, 0.37699413299560547, 0.009038052521646023]\n",
      "Iteration 618 Loss: [0.3994116187095642, 0.38903284072875977, 0.010378771461546421]\n",
      "Iteration 619 Loss: [0.3576352298259735, 0.34912633895874023, 0.008508902043104172]\n",
      "Iteration 620 Loss: [0.3847615420818329, 0.37505900859832764, 0.009702528826892376]\n",
      "Iteration 621 Loss: [0.3922531306743622, 0.3813745975494385, 0.010878543369472027]\n",
      "Iteration 622 Loss: [0.37736982107162476, 0.3701171875, 0.007252621464431286]\n",
      "Iteration 623 Loss: [0.41888758540153503, 0.40763556957244873, 0.011252001859247684]\n",
      "Iteration 624 Loss: [0.36293309926986694, 0.35223302245140076, 0.010700075887143612]\n",
      "Iteration 625 Loss: [0.3772713840007782, 0.36712250113487244, 0.010148881003260612]\n",
      "Iteration 626 Loss: [0.39444759488105774, 0.38409146666526794, 0.010356117971241474]\n",
      "Iteration 627 Loss: [0.38943132758140564, 0.37903523445129395, 0.010396099649369717]\n",
      "Iteration 628 Loss: [0.38508230447769165, 0.375457763671875, 0.009624547325074673]\n",
      "Iteration 629 Loss: [0.4147864878177643, 0.40516552329063416, 0.009620958007872105]\n",
      "Iteration 630 Loss: [0.4146277606487274, 0.4060695171356201, 0.008558248169720173]\n",
      "Iteration 631 Loss: [0.37979423999786377, 0.3708844780921936, 0.008909747935831547]\n",
      "Iteration 632 Loss: [0.4061615765094757, 0.393284410238266, 0.012877161614596844]\n",
      "Iteration 633 Loss: [0.4072657823562622, 0.3983537256717682, 0.008912048302590847]\n",
      "Iteration 634 Loss: [0.3741091787815094, 0.36590537428855896, 0.008203805424273014]\n",
      "Iteration 635 Loss: [0.41073259711265564, 0.3996942341327667, 0.011038361117243767]\n",
      "Iteration 636 Loss: [0.4060511887073517, 0.39478635787963867, 0.01126483827829361]\n",
      "Iteration 637 Loss: [0.3672541677951813, 0.35834118723869324, 0.008912970311939716]\n",
      "Iteration 638 Loss: [0.37086236476898193, 0.36126598715782166, 0.009596386924386024]\n",
      "Iteration 639 Loss: [0.3692399263381958, 0.3591446578502655, 0.010095279663801193]\n",
      "Iteration 640 Loss: [0.389349102973938, 0.38082602620124817, 0.00852306466549635]\n",
      "Iteration 641 Loss: [0.37782418727874756, 0.3681873381137848, 0.009636858478188515]\n",
      "Iteration 642 Loss: [0.4297168552875519, 0.419149249792099, 0.010567596182227135]\n",
      "Iteration 643 Loss: [0.35947439074516296, 0.34991657733917236, 0.009557808749377728]\n",
      "Iteration 644 Loss: [0.39063194394111633, 0.3817504048347473, 0.008881536312401295]\n",
      "Iteration 645 Loss: [0.3908359706401825, 0.38049906492233276, 0.01033690758049488]\n",
      "Iteration 646 Loss: [0.3813800513744354, 0.37184029817581177, 0.009539767168462276]\n",
      "Iteration 647 Loss: [0.42775607109069824, 0.41715267300605774, 0.010603383183479309]\n",
      "Iteration 648 Loss: [0.39548835158348083, 0.38490572571754456, 0.010582630522549152]\n",
      "Iteration 649 Loss: [0.40241944789886475, 0.39006665349006653, 0.012352804653346539]\n",
      "Iteration 650 Loss: [0.4097490906715393, 0.3990049660205841, 0.010744113475084305]\n",
      "Iteration 651 Loss: [0.3661353886127472, 0.35624584555625916, 0.009889556095004082]\n",
      "Iteration 652 Loss: [0.38557446002960205, 0.3749580383300781, 0.010616415180265903]\n",
      "Iteration 653 Loss: [0.39223986864089966, 0.3808722496032715, 0.011367625556886196]\n",
      "Iteration 654 Loss: [0.3694177269935608, 0.35693126916885376, 0.012486456893384457]\n",
      "Iteration 655 Loss: [0.36643365025520325, 0.3561491370201111, 0.010284524410963058]\n",
      "Iteration 656 Loss: [0.3844151794910431, 0.37149903178215027, 0.01291615329682827]\n",
      "Iteration 657 Loss: [0.38634440302848816, 0.3768101930618286, 0.009534203447401524]\n",
      "Iteration 658 Loss: [0.3561743199825287, 0.34566769003868103, 0.010506637394428253]\n",
      "Iteration 659 Loss: [0.36762821674346924, 0.35803118348121643, 0.009597044438123703]\n",
      "Iteration 660 Loss: [0.3575243353843689, 0.34678149223327637, 0.010742834769189358]\n",
      "Iteration 661 Loss: [0.4159186780452728, 0.40407851338386536, 0.011840161867439747]\n",
      "Iteration 662 Loss: [0.3907439112663269, 0.3816784918308258, 0.009065434336662292]\n",
      "Iteration 663 Loss: [0.5111238360404968, 0.5010466575622559, 0.010077190585434437]\n",
      "Iteration 664 Loss: [0.5295595526695251, 0.5167872309684753, 0.012772336602210999]\n",
      "Iteration 665 Loss: [0.5585273504257202, 0.5497249364852905, 0.008802388794720173]\n",
      "Iteration 666 Loss: [0.5442349314689636, 0.5343388915061951, 0.009896032512187958]\n",
      "Iteration 667 Loss: [0.554380476474762, 0.5430427193641663, 0.01133775245398283]\n",
      "Iteration 668 Loss: [0.4948452413082123, 0.48641836643218994, 0.008426890708506107]\n",
      "Iteration 669 Loss: [0.496773898601532, 0.48693668842315674, 0.009837204590439796]\n",
      "Iteration 670 Loss: [0.4182797372341156, 0.40724560618400574, 0.011034135706722736]\n",
      "Iteration 671 Loss: [0.4725196361541748, 0.46334123611450195, 0.009178390726447105]\n",
      "Iteration 672 Loss: [0.49565935134887695, 0.48726633191108704, 0.008393017575144768]\n",
      "Iteration 673 Loss: [0.4858367443084717, 0.47703835368156433, 0.008798356167972088]\n",
      "Iteration 674 Loss: [0.45658716559410095, 0.44635555148124695, 0.01023160107433796]\n",
      "Iteration 675 Loss: [0.46016350388526917, 0.4494568407535553, 0.010706639848649502]\n",
      "Iteration 676 Loss: [0.4807422161102295, 0.4718093276023865, 0.008932902477681637]\n",
      "Iteration 677 Loss: [0.4743901491165161, 0.4658314883708954, 0.008558656089007854]\n",
      "Iteration 678 Loss: [0.4663175940513611, 0.4590281844139099, 0.007289411500096321]\n",
      "Iteration 679 Loss: [0.46797284483909607, 0.4584718942642212, 0.009500917047262192]\n",
      "Iteration 680 Loss: [0.49438759684562683, 0.485261470079422, 0.009126170538365841]\n",
      "Iteration 681 Loss: [0.4342764616012573, 0.4250788986682892, 0.009197575971484184]\n",
      "Iteration 682 Loss: [0.4329220950603485, 0.4226260185241699, 0.010296083055436611]\n",
      "Iteration 683 Loss: [0.44069692492485046, 0.430693656206131, 0.010003272444009781]\n",
      "Iteration 684 Loss: [0.4700639545917511, 0.4602186381816864, 0.009845327585935593]\n",
      "Iteration 685 Loss: [0.4013414680957794, 0.39090898633003235, 0.010432485491037369]\n",
      "Iteration 686 Loss: [0.4015372395515442, 0.39178699254989624, 0.009750241413712502]\n",
      "Iteration 687 Loss: [0.39441487193107605, 0.3835086226463318, 0.010906251147389412]\n",
      "Iteration 688 Loss: [0.3876398503780365, 0.3744752109050751, 0.013164625503122807]\n",
      "Iteration 689 Loss: [0.44575950503349304, 0.43538305163383484, 0.010376447811722755]\n",
      "Iteration 690 Loss: [0.4282393455505371, 0.4166654944419861, 0.011573857627809048]\n",
      "Iteration 691 Loss: [0.381274551153183, 0.370516300201416, 0.010758241638541222]\n",
      "Iteration 692 Loss: [0.3884473741054535, 0.3760473132133484, 0.012400063686072826]\n",
      "Iteration 693 Loss: [0.40799418091773987, 0.39703860878944397, 0.010955577716231346]\n",
      "Iteration 694 Loss: [0.38276001811027527, 0.3722676932811737, 0.010492324829101562]\n",
      "Iteration 695 Loss: [0.45187681913375854, 0.4405273199081421, 0.011349499225616455]\n",
      "Iteration 696 Loss: [0.379593163728714, 0.3682664632797241, 0.011326713487505913]\n",
      "Iteration 697 Loss: [0.36905771493911743, 0.3610846996307373, 0.007973023690283298]\n",
      "Iteration 698 Loss: [0.37001198530197144, 0.359944611787796, 0.010067365132272243]\n",
      "Iteration 699 Loss: [0.40361011028289795, 0.3921276926994324, 0.011482412926852703]\n",
      "Reached tolerance threshold. Stopping training.\n"
     ]
    }
   ],
   "source": [
    "# Train DEC model\n",
    "dec.train_dec(features, maxiter=8000, update_interval=140, tol=0.001)"
   ]
  },
  {
   "cell_type": "code",
   "execution_count": 14,
   "metadata": {},
   "outputs": [
    {
     "name": "stdout",
     "output_type": "stream",
     "text": [
      "3125/3125 [==============================] - 3s 872us/step\n",
      "Predicted clusters: [4 3 4 ... 4 7 3]\n"
     ]
    }
   ],
   "source": [
    "# Predict clusters\n",
    "clusters = dec.predict(features)\n",
    "print(\"Predicted clusters:\", clusters)"
   ]
  },
  {
   "cell_type": "code",
   "execution_count": 15,
   "metadata": {},
   "outputs": [
    {
     "name": "stdout",
     "output_type": "stream",
     "text": [
      "3125/3125 [==============================] - 2s 572us/step\n"
     ]
    }
   ],
   "source": [
    "embeddings = dec.encoder.predict(features)"
   ]
  },
  {
   "cell_type": "markdown",
   "metadata": {},
   "source": [
    "## PCA"
   ]
  },
  {
   "cell_type": "code",
   "execution_count": 16,
   "metadata": {},
   "outputs": [
    {
     "data": {
      "text/html": [
       "<style>#sk-container-id-1 {color: black;background-color: white;}#sk-container-id-1 pre{padding: 0;}#sk-container-id-1 div.sk-toggleable {background-color: white;}#sk-container-id-1 label.sk-toggleable__label {cursor: pointer;display: block;width: 100%;margin-bottom: 0;padding: 0.3em;box-sizing: border-box;text-align: center;}#sk-container-id-1 label.sk-toggleable__label-arrow:before {content: \"▸\";float: left;margin-right: 0.25em;color: #696969;}#sk-container-id-1 label.sk-toggleable__label-arrow:hover:before {color: black;}#sk-container-id-1 div.sk-estimator:hover label.sk-toggleable__label-arrow:before {color: black;}#sk-container-id-1 div.sk-toggleable__content {max-height: 0;max-width: 0;overflow: hidden;text-align: left;background-color: #f0f8ff;}#sk-container-id-1 div.sk-toggleable__content pre {margin: 0.2em;color: black;border-radius: 0.25em;background-color: #f0f8ff;}#sk-container-id-1 input.sk-toggleable__control:checked~div.sk-toggleable__content {max-height: 200px;max-width: 100%;overflow: auto;}#sk-container-id-1 input.sk-toggleable__control:checked~label.sk-toggleable__label-arrow:before {content: \"▾\";}#sk-container-id-1 div.sk-estimator input.sk-toggleable__control:checked~label.sk-toggleable__label {background-color: #d4ebff;}#sk-container-id-1 div.sk-label input.sk-toggleable__control:checked~label.sk-toggleable__label {background-color: #d4ebff;}#sk-container-id-1 input.sk-hidden--visually {border: 0;clip: rect(1px 1px 1px 1px);clip: rect(1px, 1px, 1px, 1px);height: 1px;margin: -1px;overflow: hidden;padding: 0;position: absolute;width: 1px;}#sk-container-id-1 div.sk-estimator {font-family: monospace;background-color: #f0f8ff;border: 1px dotted black;border-radius: 0.25em;box-sizing: border-box;margin-bottom: 0.5em;}#sk-container-id-1 div.sk-estimator:hover {background-color: #d4ebff;}#sk-container-id-1 div.sk-parallel-item::after {content: \"\";width: 100%;border-bottom: 1px solid gray;flex-grow: 1;}#sk-container-id-1 div.sk-label:hover label.sk-toggleable__label {background-color: #d4ebff;}#sk-container-id-1 div.sk-serial::before {content: \"\";position: absolute;border-left: 1px solid gray;box-sizing: border-box;top: 0;bottom: 0;left: 50%;z-index: 0;}#sk-container-id-1 div.sk-serial {display: flex;flex-direction: column;align-items: center;background-color: white;padding-right: 0.2em;padding-left: 0.2em;position: relative;}#sk-container-id-1 div.sk-item {position: relative;z-index: 1;}#sk-container-id-1 div.sk-parallel {display: flex;align-items: stretch;justify-content: center;background-color: white;position: relative;}#sk-container-id-1 div.sk-item::before, #sk-container-id-1 div.sk-parallel-item::before {content: \"\";position: absolute;border-left: 1px solid gray;box-sizing: border-box;top: 0;bottom: 0;left: 50%;z-index: -1;}#sk-container-id-1 div.sk-parallel-item {display: flex;flex-direction: column;z-index: 1;position: relative;background-color: white;}#sk-container-id-1 div.sk-parallel-item:first-child::after {align-self: flex-end;width: 50%;}#sk-container-id-1 div.sk-parallel-item:last-child::after {align-self: flex-start;width: 50%;}#sk-container-id-1 div.sk-parallel-item:only-child::after {width: 0;}#sk-container-id-1 div.sk-dashed-wrapped {border: 1px dashed gray;margin: 0 0.4em 0.5em 0.4em;box-sizing: border-box;padding-bottom: 0.4em;background-color: white;}#sk-container-id-1 div.sk-label label {font-family: monospace;font-weight: bold;display: inline-block;line-height: 1.2em;}#sk-container-id-1 div.sk-label-container {text-align: center;}#sk-container-id-1 div.sk-container {/* jupyter's `normalize.less` sets `[hidden] { display: none; }` but bootstrap.min.css set `[hidden] { display: none !important; }` so we also need the `!important` here to be able to override the default hidden behavior on the sphinx rendered scikit-learn.org. See: https://github.com/scikit-learn/scikit-learn/issues/21755 */display: inline-block !important;position: relative;}#sk-container-id-1 div.sk-text-repr-fallback {display: none;}</style><div id=\"sk-container-id-1\" class=\"sk-top-container\"><div class=\"sk-text-repr-fallback\"><pre>PCA()</pre><b>In a Jupyter environment, please rerun this cell to show the HTML representation or trust the notebook. <br />On GitHub, the HTML representation is unable to render, please try loading this page with nbviewer.org.</b></div><div class=\"sk-container\" hidden><div class=\"sk-item\"><div class=\"sk-estimator sk-toggleable\"><input class=\"sk-toggleable__control sk-hidden--visually\" id=\"sk-estimator-id-1\" type=\"checkbox\" checked><label for=\"sk-estimator-id-1\" class=\"sk-toggleable__label sk-toggleable__label-arrow\">PCA</label><div class=\"sk-toggleable__content\"><pre>PCA()</pre></div></div></div></div></div>"
      ],
      "text/plain": [
       "PCA()"
      ]
     },
     "execution_count": 16,
     "metadata": {},
     "output_type": "execute_result"
    }
   ],
   "source": [
    "pca = PCA()\n",
    "pca.fit(embeddings)"
   ]
  },
  {
   "cell_type": "code",
   "execution_count": 17,
   "metadata": {},
   "outputs": [
    {
     "name": "stdout",
     "output_type": "stream",
     "text": [
      "[3.41890193e-01 2.75124657e-01 1.65784492e-01 9.01374309e-02\n",
      " 6.21160373e-02 5.41904026e-02 7.15033975e-03 1.94850140e-03\n",
      " 8.82348007e-04 4.90592790e-04 2.85005778e-04]\n"
     ]
    }
   ],
   "source": [
    "print(pca.explained_variance_ratio_)"
   ]
  },
  {
   "cell_type": "code",
   "execution_count": 18,
   "metadata": {},
   "outputs": [
    {
     "name": "stdout",
     "output_type": "stream",
     "text": [
      "Number of components explaining at least 80% variance: 4\n"
     ]
    },
    {
     "data": {
      "image/png": "[encoded data removed]",
      "text/plain": [
       "<Figure size 1000x800 with 1 Axes>"
      ]
     },
     "metadata": {},
     "output_type": "display_data"
    }
   ],
   "source": [
    "cumulative_explained_variance = np.cumsum(pca.explained_variance_ratio_)\n",
    "\n",
    "plt.figure(figsize= (10, 8))\n",
    "plt.plot(range(1,12), cumulative_explained_variance, marker = 'o', linestyle='--')\n",
    "plt.title('Explained Variance by Components')\n",
    "plt.xlabel('NUmber of Components')\n",
    "plt.ylabel('Cumulative Explained Variance')\n",
    "\n",
    "# Find the number of components that explain at least 80% of the variance\n",
    "n_components_80 = np.argmax(cumulative_explained_variance >= 0.80) + 1\n",
    "print(f\"Number of components explaining at least 80% variance: {n_components_80}\")"
   ]
  },
  {
   "cell_type": "code",
   "execution_count": 19,
   "metadata": {},
   "outputs": [],
   "source": [
    "pca = PCA(n_components=4)\n",
    "features_pca = pca.fit_transform(features)"
   ]
  },
  {
   "cell_type": "markdown",
   "metadata": {},
   "source": [
    "## Determine the number of clusters(k)"
   ]
  },
  {
   "cell_type": "code",
   "execution_count": 20,
   "metadata": {},
   "outputs": [
    {
     "name": "stdout",
     "output_type": "stream",
     "text": [
      "Now on k 1\n",
      "Now on k 2\n",
      "Now on k 3\n",
      "Now on k 4\n",
      "Now on k 5\n",
      "Now on k 6\n",
      "Now on k 7\n",
      "Now on k 8\n",
      "Now on k 9\n",
      "Now on k 10\n",
      "Now on k 11\n",
      "Now on k 12\n",
      "Now on k 13\n",
      "Now on k 14\n",
      "Now on k 15\n",
      "Now on k 16\n",
      "Now on k 17\n",
      "Now on k 18\n",
      "Now on k 19\n"
     ]
    }
   ],
   "source": [
    "# Define a range of k values to test\n",
    "k_range = range(1, 20)\n",
    "\n",
    "wcss = []\n",
    "for k in k_range:\n",
    "    print('Now on k {}'.format(k))\n",
    "    kmeans = KMeans(n_clusters=k, random_state=0).fit(features_pca)\n",
    "    wcss.append(kmeans.inertia_)"
   ]
  },
  {
   "cell_type": "code",
   "execution_count": 21,
   "metadata": {},
   "outputs": [
    {
     "data": {
      "image/png": "[encoded data removed]",
      "text/plain": [
       "<Figure size 1000x800 with 1 Axes>"
      ]
     },
     "metadata": {},
     "output_type": "display_data"
    }
   ],
   "source": [
    "# Plotting WCSS vs k to identify the elbow point\n",
    "plt.figure(figsize=(10, 8))\n",
    "plt.plot(k_range, wcss, 'o-', markerfacecolor='lightblue', markeredgewidth=2, markersize=8)\n",
    "plt.xlabel('Number of clusters (k)')\n",
    "plt.ylabel('WCSS (Within Cluster Sum of Squares)')\n",
    "plt.title('Elbow Method for KMeans Clustering')\n",
    "plt.show()"
   ]
  },
  {
   "cell_type": "markdown",
   "metadata": {},
   "source": [
    "## Clustering"
   ]
  },
  {
   "cell_type": "code",
   "execution_count": 22,
   "metadata": {},
   "outputs": [
    {
     "data": {
      "text/html": [
       "<div>\n",
       "<style scoped>\n",
       "    .dataframe tbody tr th:only-of-type {\n",
       "        vertical-align: middle;\n",
       "    }\n",
       "\n",
       "    .dataframe tbody tr th {\n",
       "        vertical-align: top;\n",
       "    }\n",
       "\n",
       "    .dataframe thead th {\n",
       "        text-align: right;\n",
       "    }\n",
       "</style>\n",
       "<table border=\"1\" class=\"dataframe\">\n",
       "  <thead>\n",
       "    <tr style=\"text-align: right;\">\n",
       "      <th></th>\n",
       "      <th>yeojohnson_revenue_in_eur_bin</th>\n",
       "      <th>is_EMEA</th>\n",
       "      <th>is_Webshop</th>\n",
       "      <th>is_industry_FinanceInsuranceRealEstate</th>\n",
       "      <th>is_industry_Manufacturing</th>\n",
       "      <th>is_industry_Other</th>\n",
       "      <th>is_industry_RetailTrade</th>\n",
       "      <th>is_industry_Services</th>\n",
       "      <th>is_industry_WholesaleTrade</th>\n",
       "      <th>license_value_score</th>\n",
       "      <th>customer_value_score</th>\n",
       "      <th>Component 1</th>\n",
       "      <th>Component 2</th>\n",
       "      <th>Component 3</th>\n",
       "      <th>Component 4</th>\n",
       "      <th>clusters</th>\n",
       "    </tr>\n",
       "    <tr>\n",
       "      <th>cluster_kmeans</th>\n",
       "      <th></th>\n",
       "      <th></th>\n",
       "      <th></th>\n",
       "      <th></th>\n",
       "      <th></th>\n",
       "      <th></th>\n",
       "      <th></th>\n",
       "      <th></th>\n",
       "      <th></th>\n",
       "      <th></th>\n",
       "      <th></th>\n",
       "      <th></th>\n",
       "      <th></th>\n",
       "      <th></th>\n",
       "      <th></th>\n",
       "      <th></th>\n",
       "    </tr>\n",
       "  </thead>\n",
       "  <tbody>\n",
       "    <tr>\n",
       "      <th>0</th>\n",
       "      <td>0.522435</td>\n",
       "      <td>0.765411</td>\n",
       "      <td>1.0</td>\n",
       "      <td>0.128558</td>\n",
       "      <td>0.228243</td>\n",
       "      <td>0.282130</td>\n",
       "      <td>0.191501</td>\n",
       "      <td>0.0</td>\n",
       "      <td>0.169568</td>\n",
       "      <td>0.333116</td>\n",
       "      <td>0.337684</td>\n",
       "      <td>-0.258680</td>\n",
       "      <td>0.657464</td>\n",
       "      <td>-0.068118</td>\n",
       "      <td>-0.045730</td>\n",
       "      <td>0.0</td>\n",
       "    </tr>\n",
       "    <tr>\n",
       "      <th>1</th>\n",
       "      <td>0.618679</td>\n",
       "      <td>0.773656</td>\n",
       "      <td>0.0</td>\n",
       "      <td>0.139905</td>\n",
       "      <td>0.252873</td>\n",
       "      <td>0.266683</td>\n",
       "      <td>0.157329</td>\n",
       "      <td>0.0</td>\n",
       "      <td>0.183210</td>\n",
       "      <td>0.562612</td>\n",
       "      <td>0.457008</td>\n",
       "      <td>-0.632211</td>\n",
       "      <td>-0.293124</td>\n",
       "      <td>-0.055769</td>\n",
       "      <td>0.034950</td>\n",
       "      <td>1.0</td>\n",
       "    </tr>\n",
       "    <tr>\n",
       "      <th>2</th>\n",
       "      <td>0.376806</td>\n",
       "      <td>0.705188</td>\n",
       "      <td>1.0</td>\n",
       "      <td>0.000000</td>\n",
       "      <td>0.000000</td>\n",
       "      <td>0.000000</td>\n",
       "      <td>0.000000</td>\n",
       "      <td>1.0</td>\n",
       "      <td>0.000000</td>\n",
       "      <td>0.332411</td>\n",
       "      <td>0.343063</td>\n",
       "      <td>0.762539</td>\n",
       "      <td>0.265066</td>\n",
       "      <td>0.110904</td>\n",
       "      <td>-0.044417</td>\n",
       "      <td>2.0</td>\n",
       "    </tr>\n",
       "    <tr>\n",
       "      <th>3</th>\n",
       "      <td>0.436769</td>\n",
       "      <td>0.774892</td>\n",
       "      <td>0.0</td>\n",
       "      <td>0.000000</td>\n",
       "      <td>0.000000</td>\n",
       "      <td>0.000000</td>\n",
       "      <td>0.000000</td>\n",
       "      <td>1.0</td>\n",
       "      <td>0.000000</td>\n",
       "      <td>0.563272</td>\n",
       "      <td>0.477326</td>\n",
       "      <td>0.401790</td>\n",
       "      <td>-0.688685</td>\n",
       "      <td>0.047412</td>\n",
       "      <td>0.054573</td>\n",
       "      <td>3.0</td>\n",
       "    </tr>\n",
       "  </tbody>\n",
       "</table>\n",
       "</div>"
      ],
      "text/plain": [
       "                yeojohnson_revenue_in_eur_bin   is_EMEA  is_Webshop  \\\n",
       "cluster_kmeans                                                        \n",
       "0                                    0.522435  0.765411         1.0   \n",
       "1                                    0.618679  0.773656         0.0   \n",
       "2                                    0.376806  0.705188         1.0   \n",
       "3                                    0.436769  0.774892         0.0   \n",
       "\n",
       "                is_industry_FinanceInsuranceRealEstate  \\\n",
       "cluster_kmeans                                           \n",
       "0                                             0.128558   \n",
       "1                                             0.139905   \n",
       "2                                             0.000000   \n",
       "3                                             0.000000   \n",
       "\n",
       "                is_industry_Manufacturing  is_industry_Other  \\\n",
       "cluster_kmeans                                                 \n",
       "0                                0.228243           0.282130   \n",
       "1                                0.252873           0.266683   \n",
       "2                                0.000000           0.000000   \n",
       "3                                0.000000           0.000000   \n",
       "\n",
       "                is_industry_RetailTrade  is_industry_Services  \\\n",
       "cluster_kmeans                                                  \n",
       "0                              0.191501                   0.0   \n",
       "1                              0.157329                   0.0   \n",
       "2                              0.000000                   1.0   \n",
       "3                              0.000000                   1.0   \n",
       "\n",
       "                is_industry_WholesaleTrade  license_value_score  \\\n",
       "cluster_kmeans                                                    \n",
       "0                                 0.169568             0.333116   \n",
       "1                                 0.183210             0.562612   \n",
       "2                                 0.000000             0.332411   \n",
       "3                                 0.000000             0.563272   \n",
       "\n",
       "                customer_value_score  Component 1  Component 2  Component 3  \\\n",
       "cluster_kmeans                                                                \n",
       "0                           0.337684    -0.258680     0.657464    -0.068118   \n",
       "1                           0.457008    -0.632211    -0.293124    -0.055769   \n",
       "2                           0.343063     0.762539     0.265066     0.110904   \n",
       "3                           0.477326     0.401790    -0.688685     0.047412   \n",
       "\n",
       "                Component 4  clusters  \n",
       "cluster_kmeans                         \n",
       "0                 -0.045730       0.0  \n",
       "1                  0.034950       1.0  \n",
       "2                 -0.044417       2.0  \n",
       "3                  0.054573       3.0  "
      ]
     },
     "execution_count": 22,
     "metadata": {},
     "output_type": "execute_result"
    }
   ],
   "source": [
    "# Fit the KMeans model\n",
    "kmeans = KMeans(n_clusters=4, random_state=0).fit(features_pca)\n",
    "\n",
    "# Get the cluster labels\n",
    "cluster_labels = kmeans.labels_\n",
    "\n",
    "# Get the cluster centers\n",
    "cluster_centers = kmeans.cluster_centers_\n",
    "\n",
    "df_pca = pd.concat([df.reset_index(drop=True), pd.DataFrame(features_pca)], axis=1)\n",
    "df_pca.columns.values[-4: ] = ['Component 1', 'Component 2', 'Component 3', 'Component 4']\n",
    "df_pca['clusters'] = kmeans.labels_\n",
    "df_pca['cluster_kmeans'] = kmeans.predict(features_pca)\n",
    "df_pca.groupby(['cluster_kmeans']).mean()"
   ]
  },
  {
   "cell_type": "code",
   "execution_count": 23,
   "metadata": {},
   "outputs": [
    {
     "data": {
      "text/plain": [
       "1    29327\n",
       "0    26945\n",
       "2    22014\n",
       "3    21714\n",
       "Name: cluster_kmeans, dtype: int64"
      ]
     },
     "execution_count": 23,
     "metadata": {},
     "output_type": "execute_result"
    }
   ],
   "source": [
    "df_pca.cluster_kmeans.value_counts()"
   ]
  },
  {
   "cell_type": "code",
   "execution_count": 24,
   "metadata": {},
   "outputs": [
    {
     "data": {
      "image/png": "[encoded data removed]",
      "text/plain": [
       "<Figure size 1000x500 with 2 Axes>"
      ]
     },
     "metadata": {},
     "output_type": "display_data"
    }
   ],
   "source": [
    "# Visualize the correlation matrix\n",
    "plt.figure(figsize=(10,5))\n",
    "sns.heatmap(df_pca.groupby(['cluster_kmeans']).mean(), cmap='coolwarm', annot=True)\n",
    "plt.show()"
   ]
  },
  {
   "cell_type": "code",
   "execution_count": 25,
   "metadata": {},
   "outputs": [
    {
     "data": {
      "application/vnd.plotly.v1+json": {
       "config": {
        "plotlyServerURL": "https://plot.ly"
       },
       "data": [
        {
         "hovertemplate": "label=0<br>value=%{r}<br>variable=%{theta}<extra></extra>",
         "legendgroup": "0",
         "line": {
          "color": "#636efa",
          "dash": "solid"
         },
         "marker": {
          "symbol": "circle"
         },
         "mode": "lines",
         "name": "0",
         "r": [
          0.5224345889775469,
          0.7654110224531453,
          1,
          0.12855817405826683,
          0.22824271664501763,
          0.2821302653553535,
          0.1915012061606977,
          0,
          0.1695676377806643,
          0.33311645013291713,
          0.3376842323832187,
          0.5224345889775469
         ],
         "showlegend": true,
         "subplot": "polar",
         "theta": [
          "yeojohnson_revenue_in_eur_bin",
          "is_EMEA",
          "is_Webshop",
          "is_industry_FinanceInsuranceRealEstate",
          "is_industry_Manufacturing",
          "is_industry_Other",
          "is_industry_RetailTrade",
          "is_industry_Services",
          "is_industry_WholesaleTrade",
          "license_value_score",
          "customer_value_score",
          "yeojohnson_revenue_in_eur_bin"
         ],
         "type": "scatterpolar"
        },
        {
         "hovertemplate": "label=1<br>value=%{r}<br>variable=%{theta}<extra></extra>",
         "legendgroup": "1",
         "line": {
          "color": "#EF553B",
          "dash": "solid"
         },
         "marker": {
          "symbol": "circle"
         },
         "mode": "lines",
         "name": "1",
         "r": [
          0.6186790329730283,
          0.7736556756572441,
          0,
          0.13990520680601493,
          0.25287277935008695,
          0.2666825791932349,
          0.15732942339823372,
          0,
          0.1832100112524295,
          0.5626121419766462,
          0.4570076940929459,
          0.6186790329730283
         ],
         "showlegend": true,
         "subplot": "polar",
         "theta": [
          "yeojohnson_revenue_in_eur_bin",
          "is_EMEA",
          "is_Webshop",
          "is_industry_FinanceInsuranceRealEstate",
          "is_industry_Manufacturing",
          "is_industry_Other",
          "is_industry_RetailTrade",
          "is_industry_Services",
          "is_industry_WholesaleTrade",
          "license_value_score",
          "customer_value_score",
          "yeojohnson_revenue_in_eur_bin"
         ],
         "type": "scatterpolar"
        },
        {
         "hovertemplate": "label=2<br>value=%{r}<br>variable=%{theta}<extra></extra>",
         "legendgroup": "2",
         "line": {
          "color": "#00cc96",
          "dash": "solid"
         },
         "marker": {
          "symbol": "circle"
         },
         "mode": "lines",
         "name": "2",
         "r": [
          0.37680566911965113,
          0.7051876078858907,
          1,
          0,
          0,
          0,
          0,
          1,
          0,
          0.33241086599139297,
          0.34306322762746816,
          0.37680566911965113
         ],
         "showlegend": true,
         "subplot": "polar",
         "theta": [
          "yeojohnson_revenue_in_eur_bin",
          "is_EMEA",
          "is_Webshop",
          "is_industry_FinanceInsuranceRealEstate",
          "is_industry_Manufacturing",
          "is_industry_Other",
          "is_industry_RetailTrade",
          "is_industry_Services",
          "is_industry_WholesaleTrade",
          "license_value_score",
          "customer_value_score",
          "yeojohnson_revenue_in_eur_bin"
         ],
         "type": "scatterpolar"
        },
        {
         "hovertemplate": "label=3<br>value=%{r}<br>variable=%{theta}<extra></extra>",
         "legendgroup": "3",
         "line": {
          "color": "#ab63fa",
          "dash": "solid"
         },
         "marker": {
          "symbol": "circle"
         },
         "mode": "lines",
         "name": "3",
         "r": [
          0.43676890485401126,
          0.7748917748917749,
          0,
          0,
          0,
          0,
          0,
          1,
          0,
          0.5632721056344048,
          0.47732570073723557,
          0.43676890485401126
         ],
         "showlegend": true,
         "subplot": "polar",
         "theta": [
          "yeojohnson_revenue_in_eur_bin",
          "is_EMEA",
          "is_Webshop",
          "is_industry_FinanceInsuranceRealEstate",
          "is_industry_Manufacturing",
          "is_industry_Other",
          "is_industry_RetailTrade",
          "is_industry_Services",
          "is_industry_WholesaleTrade",
          "license_value_score",
          "customer_value_score",
          "yeojohnson_revenue_in_eur_bin"
         ],
         "type": "scatterpolar"
        }
       ],
       "layout": {
        "height": 800,
        "legend": {
         "title": {
          "text": "label"
         },
         "tracegroupgap": 0
        },
        "polar": {
         "angularaxis": {
          "direction": "clockwise",
          "rotation": 90
         },
         "domain": {
          "x": [
           0,
           1
          ],
          "y": [
           0,
           1
          ]
         }
        },
        "template": {
         "data": {
          "bar": [
           {
            "error_x": {
             "color": "#2a3f5f"
            },
            "error_y": {
             "color": "#2a3f5f"
            },
            "marker": {
             "line": {
              "color": "#E5ECF6",
              "width": 0.5
             },
             "pattern": {
              "fillmode": "overlay",
              "size": 10,
              "solidity": 0.2
             }
            },
            "type": "bar"
           }
          ],
          "barpolar": [
           {
            "marker": {
             "line": {
              "color": "#E5ECF6",
              "width": 0.5
             },
             "pattern": {
              "fillmode": "overlay",
              "size": 10,
              "solidity": 0.2
             }
            },
            "type": "barpolar"
           }
          ],
          "carpet": [
           {
            "aaxis": {
             "endlinecolor": "#2a3f5f",
             "gridcolor": "white",
             "linecolor": "white",
             "minorgridcolor": "white",
             "startlinecolor": "#2a3f5f"
            },
            "baxis": {
             "endlinecolor": "#2a3f5f",
             "gridcolor": "white",
             "linecolor": "white",
             "minorgridcolor": "white",
             "startlinecolor": "#2a3f5f"
            },
            "type": "carpet"
           }
          ],
          "choropleth": [
           {
            "colorbar": {
             "outlinewidth": 0,
             "ticks": ""
            },
            "type": "choropleth"
           }
          ],
          "contour": [
           {
            "colorbar": {
             "outlinewidth": 0,
             "ticks": ""
            },
            "colorscale": [
             [
              0,
              "#0d0887"
             ],
             [
              0.1111111111111111,
              "#46039f"
             ],
             [
              0.2222222222222222,
              "#7201a8"
             ],
             [
              0.3333333333333333,
              "#9c179e"
             ],
             [
              0.4444444444444444,
              "#bd3786"
             ],
             [
              0.5555555555555556,
              "#d8576b"
             ],
             [
              0.6666666666666666,
              "#ed7953"
             ],
             [
              0.7777777777777778,
              "#fb9f3a"
             ],
             [
              0.8888888888888888,
              "#fdca26"
             ],
             [
              1,
              "#f0f921"
             ]
            ],
            "type": "contour"
           }
          ],
          "contourcarpet": [
           {
            "colorbar": {
             "outlinewidth": 0,
             "ticks": ""
            },
            "type": "contourcarpet"
           }
          ],
          "heatmap": [
           {
            "colorbar": {
             "outlinewidth": 0,
             "ticks": ""
            },
            "colorscale": [
             [
              0,
              "#0d0887"
             ],
             [
              0.1111111111111111,
              "#46039f"
             ],
             [
              0.2222222222222222,
              "#7201a8"
             ],
             [
              0.3333333333333333,
              "#9c179e"
             ],
             [
              0.4444444444444444,
              "#bd3786"
             ],
             [
              0.5555555555555556,
              "#d8576b"
             ],
             [
              0.6666666666666666,
              "#ed7953"
             ],
             [
              0.7777777777777778,
              "#fb9f3a"
             ],
             [
              0.8888888888888888,
              "#fdca26"
             ],
             [
              1,
              "#f0f921"
             ]
            ],
            "type": "heatmap"
           }
          ],
          "heatmapgl": [
           {
            "colorbar": {
             "outlinewidth": 0,
             "ticks": ""
            },
            "colorscale": [
             [
              0,
              "#0d0887"
             ],
             [
              0.1111111111111111,
              "#46039f"
             ],
             [
              0.2222222222222222,
              "#7201a8"
             ],
             [
              0.3333333333333333,
              "#9c179e"
             ],
             [
              0.4444444444444444,
              "#bd3786"
             ],
             [
              0.5555555555555556,
              "#d8576b"
             ],
             [
              0.6666666666666666,
              "#ed7953"
             ],
             [
              0.7777777777777778,
              "#fb9f3a"
             ],
             [
              0.8888888888888888,
              "#fdca26"
             ],
             [
              1,
              "#f0f921"
             ]
            ],
            "type": "heatmapgl"
           }
          ],
          "histogram": [
           {
            "marker": {
             "pattern": {
              "fillmode": "overlay",
              "size": 10,
              "solidity": 0.2
             }
            },
            "type": "histogram"
           }
          ],
          "histogram2d": [
           {
            "colorbar": {
             "outlinewidth": 0,
             "ticks": ""
            },
            "colorscale": [
             [
              0,
              "#0d0887"
             ],
             [
              0.1111111111111111,
              "#46039f"
             ],
             [
              0.2222222222222222,
              "#7201a8"
             ],
             [
              0.3333333333333333,
              "#9c179e"
             ],
             [
              0.4444444444444444,
              "#bd3786"
             ],
             [
              0.5555555555555556,
              "#d8576b"
             ],
             [
              0.6666666666666666,
              "#ed7953"
             ],
             [
              0.7777777777777778,
              "#fb9f3a"
             ],
             [
              0.8888888888888888,
              "#fdca26"
             ],
             [
              1,
              "#f0f921"
             ]
            ],
            "type": "histogram2d"
           }
          ],
          "histogram2dcontour": [
           {
            "colorbar": {
             "outlinewidth": 0,
             "ticks": ""
            },
            "colorscale": [
             [
              0,
              "#0d0887"
             ],
             [
              0.1111111111111111,
              "#46039f"
             ],
             [
              0.2222222222222222,
              "#7201a8"
             ],
             [
              0.3333333333333333,
              "#9c179e"
             ],
             [
              0.4444444444444444,
              "#bd3786"
             ],
             [
              0.5555555555555556,
              "#d8576b"
             ],
             [
              0.6666666666666666,
              "#ed7953"
             ],
             [
              0.7777777777777778,
              "#fb9f3a"
             ],
             [
              0.8888888888888888,
              "#fdca26"
             ],
             [
              1,
              "#f0f921"
             ]
            ],
            "type": "histogram2dcontour"
           }
          ],
          "mesh3d": [
           {
            "colorbar": {
             "outlinewidth": 0,
             "ticks": ""
            },
            "type": "mesh3d"
           }
          ],
          "parcoords": [
           {
            "line": {
             "colorbar": {
              "outlinewidth": 0,
              "ticks": ""
             }
            },
            "type": "parcoords"
           }
          ],
          "pie": [
           {
            "automargin": true,
            "type": "pie"
           }
          ],
          "scatter": [
           {
            "fillpattern": {
             "fillmode": "overlay",
             "size": 10,
             "solidity": 0.2
            },
            "type": "scatter"
           }
          ],
          "scatter3d": [
           {
            "line": {
             "colorbar": {
              "outlinewidth": 0,
              "ticks": ""
             }
            },
            "marker": {
             "colorbar": {
              "outlinewidth": 0,
              "ticks": ""
             }
            },
            "type": "scatter3d"
           }
          ],
          "scattercarpet": [
           {
            "marker": {
             "colorbar": {
              "outlinewidth": 0,
              "ticks": ""
             }
            },
            "type": "scattercarpet"
           }
          ],
          "scattergeo": [
           {
            "marker": {
             "colorbar": {
              "outlinewidth": 0,
              "ticks": ""
             }
            },
            "type": "scattergeo"
           }
          ],
          "scattergl": [
           {
            "marker": {
             "colorbar": {
              "outlinewidth": 0,
              "ticks": ""
             }
            },
            "type": "scattergl"
           }
          ],
          "scattermapbox": [
           {
            "marker": {
             "colorbar": {
              "outlinewidth": 0,
              "ticks": ""
             }
            },
            "type": "scattermapbox"
           }
          ],
          "scatterpolar": [
           {
            "marker": {
             "colorbar": {
              "outlinewidth": 0,
              "ticks": ""
             }
            },
            "type": "scatterpolar"
           }
          ],
          "scatterpolargl": [
           {
            "marker": {
             "colorbar": {
              "outlinewidth": 0,
              "ticks": ""
             }
            },
            "type": "scatterpolargl"
           }
          ],
          "scatterternary": [
           {
            "marker": {
             "colorbar": {
              "outlinewidth": 0,
              "ticks": ""
             }
            },
            "type": "scatterternary"
           }
          ],
          "surface": [
           {
            "colorbar": {
             "outlinewidth": 0,
             "ticks": ""
            },
            "colorscale": [
             [
              0,
              "#0d0887"
             ],
             [
              0.1111111111111111,
              "#46039f"
             ],
             [
              0.2222222222222222,
              "#7201a8"
             ],
             [
              0.3333333333333333,
              "#9c179e"
             ],
             [
              0.4444444444444444,
              "#bd3786"
             ],
             [
              0.5555555555555556,
              "#d8576b"
             ],
             [
              0.6666666666666666,
              "#ed7953"
             ],
             [
              0.7777777777777778,
              "#fb9f3a"
             ],
             [
              0.8888888888888888,
              "#fdca26"
             ],
             [
              1,
              "#f0f921"
             ]
            ],
            "type": "surface"
           }
          ],
          "table": [
           {
            "cells": {
             "fill": {
              "color": "#EBF0F8"
             },
             "line": {
              "color": "white"
             }
            },
            "header": {
             "fill": {
              "color": "#C8D4E3"
             },
             "line": {
              "color": "white"
             }
            },
            "type": "table"
           }
          ]
         },
         "layout": {
          "annotationdefaults": {
           "arrowcolor": "#2a3f5f",
           "arrowhead": 0,
           "arrowwidth": 1
          },
          "autotypenumbers": "strict",
          "coloraxis": {
           "colorbar": {
            "outlinewidth": 0,
            "ticks": ""
           }
          },
          "colorscale": {
           "diverging": [
            [
             0,
             "#8e0152"
            ],
            [
             0.1,
             "#c51b7d"
            ],
            [
             0.2,
             "#de77ae"
            ],
            [
             0.3,
             "#f1b6da"
            ],
            [
             0.4,
             "#fde0ef"
            ],
            [
             0.5,
             "#f7f7f7"
            ],
            [
             0.6,
             "#e6f5d0"
            ],
            [
             0.7,
             "#b8e186"
            ],
            [
             0.8,
             "#7fbc41"
            ],
            [
             0.9,
             "#4d9221"
            ],
            [
             1,
             "#276419"
            ]
           ],
           "sequential": [
            [
             0,
             "#0d0887"
            ],
            [
             0.1111111111111111,
             "#46039f"
            ],
            [
             0.2222222222222222,
             "#7201a8"
            ],
            [
             0.3333333333333333,
             "#9c179e"
            ],
            [
             0.4444444444444444,
             "#bd3786"
            ],
            [
             0.5555555555555556,
             "#d8576b"
            ],
            [
             0.6666666666666666,
             "#ed7953"
            ],
            [
             0.7777777777777778,
             "#fb9f3a"
            ],
            [
             0.8888888888888888,
             "#fdca26"
            ],
            [
             1,
             "#f0f921"
            ]
           ],
           "sequentialminus": [
            [
             0,
             "#0d0887"
            ],
            [
             0.1111111111111111,
             "#46039f"
            ],
            [
             0.2222222222222222,
             "#7201a8"
            ],
            [
             0.3333333333333333,
             "#9c179e"
            ],
            [
             0.4444444444444444,
             "#bd3786"
            ],
            [
             0.5555555555555556,
             "#d8576b"
            ],
            [
             0.6666666666666666,
             "#ed7953"
            ],
            [
             0.7777777777777778,
             "#fb9f3a"
            ],
            [
             0.8888888888888888,
             "#fdca26"
            ],
            [
             1,
             "#f0f921"
            ]
           ]
          },
          "colorway": [
           "#636efa",
           "#EF553B",
           "#00cc96",
           "#ab63fa",
           "#FFA15A",
           "#19d3f3",
           "#FF6692",
           "#B6E880",
           "#FF97FF",
           "#FECB52"
          ],
          "font": {
           "color": "#2a3f5f"
          },
          "geo": {
           "bgcolor": "white",
           "lakecolor": "white",
           "landcolor": "#E5ECF6",
           "showlakes": true,
           "showland": true,
           "subunitcolor": "white"
          },
          "hoverlabel": {
           "align": "left"
          },
          "hovermode": "closest",
          "mapbox": {
           "style": "light"
          },
          "paper_bgcolor": "white",
          "plot_bgcolor": "#E5ECF6",
          "polar": {
           "angularaxis": {
            "gridcolor": "white",
            "linecolor": "white",
            "ticks": ""
           },
           "bgcolor": "#E5ECF6",
           "radialaxis": {
            "gridcolor": "white",
            "linecolor": "white",
            "ticks": ""
           }
          },
          "scene": {
           "xaxis": {
            "backgroundcolor": "#E5ECF6",
            "gridcolor": "white",
            "gridwidth": 2,
            "linecolor": "white",
            "showbackground": true,
            "ticks": "",
            "zerolinecolor": "white"
           },
           "yaxis": {
            "backgroundcolor": "#E5ECF6",
            "gridcolor": "white",
            "gridwidth": 2,
            "linecolor": "white",
            "showbackground": true,
            "ticks": "",
            "zerolinecolor": "white"
           },
           "zaxis": {
            "backgroundcolor": "#E5ECF6",
            "gridcolor": "white",
            "gridwidth": 2,
            "linecolor": "white",
            "showbackground": true,
            "ticks": "",
            "zerolinecolor": "white"
           }
          },
          "shapedefaults": {
           "line": {
            "color": "#2a3f5f"
           }
          },
          "ternary": {
           "aaxis": {
            "gridcolor": "white",
            "linecolor": "white",
            "ticks": ""
           },
           "baxis": {
            "gridcolor": "white",
            "linecolor": "white",
            "ticks": ""
           },
           "bgcolor": "#E5ECF6",
           "caxis": {
            "gridcolor": "white",
            "linecolor": "white",
            "ticks": ""
           }
          },
          "title": {
           "x": 0.05
          },
          "xaxis": {
           "automargin": true,
           "gridcolor": "white",
           "linecolor": "white",
           "ticks": "",
           "title": {
            "standoff": 15
           },
           "zerolinecolor": "white",
           "zerolinewidth": 2
          },
          "yaxis": {
           "automargin": true,
           "gridcolor": "white",
           "linecolor": "white",
           "ticks": "",
           "title": {
            "standoff": 15
           },
           "zerolinecolor": "white",
           "zerolinewidth": 2
          }
         }
        },
        "title": {
         "text": "Baseline Model 10-Feature Set Radar Chart"
        },
        "width": 1200
       }
      }
     },
     "metadata": {},
     "output_type": "display_data"
    }
   ],
   "source": [
    "clusters=pd.DataFrame(features, columns=features_df.columns)\n",
    "clusters['label']=kmeans.labels_\n",
    "polar=clusters.groupby(\"label\").mean().reset_index()\n",
    "polar=pd.melt(polar,id_vars=[\"label\"])\n",
    "fig = px.line_polar(polar, r=\"value\", theta=\"variable\", color=\"label\", \n",
    "                    line_close=True,\n",
    "                    height=800,\n",
    "                    width=1200, \n",
    "                    title=\"DEC Model 10-Feature Set Radar Chart\")\n",
    "fig.show()"
   ]
  },
  {
   "cell_type": "code",
   "execution_count": 26,
   "metadata": {},
   "outputs": [
    {
     "data": {
      "text/html": [
       "<div>\n",
       "<style scoped>\n",
       "    .dataframe tbody tr th:only-of-type {\n",
       "        vertical-align: middle;\n",
       "    }\n",
       "\n",
       "    .dataframe tbody tr th {\n",
       "        vertical-align: top;\n",
       "    }\n",
       "\n",
       "    .dataframe thead th {\n",
       "        text-align: right;\n",
       "    }\n",
       "</style>\n",
       "<table border=\"1\" class=\"dataframe\">\n",
       "  <thead>\n",
       "    <tr style=\"text-align: right;\">\n",
       "      <th></th>\n",
       "      <th>cluster</th>\n",
       "      <th>count</th>\n",
       "    </tr>\n",
       "  </thead>\n",
       "  <tbody>\n",
       "    <tr>\n",
       "      <th>0</th>\n",
       "      <td>0</td>\n",
       "      <td>26945</td>\n",
       "    </tr>\n",
       "    <tr>\n",
       "      <th>1</th>\n",
       "      <td>1</td>\n",
       "      <td>29327</td>\n",
       "    </tr>\n",
       "    <tr>\n",
       "      <th>2</th>\n",
       "      <td>2</td>\n",
       "      <td>22014</td>\n",
       "    </tr>\n",
       "    <tr>\n",
       "      <th>3</th>\n",
       "      <td>3</td>\n",
       "      <td>21714</td>\n",
       "    </tr>\n",
       "  </tbody>\n",
       "</table>\n",
       "</div>"
      ],
      "text/plain": [
       "   cluster  count\n",
       "0        0  26945\n",
       "1        1  29327\n",
       "2        2  22014\n",
       "3        3  21714"
      ]
     },
     "execution_count": 26,
     "metadata": {},
     "output_type": "execute_result"
    }
   ],
   "source": [
    "clusters_df = clusters.groupby('label').size().reset_index()\n",
    "clusters_df.rename(columns={'label': 'cluster', 0: 'count'}, inplace=True)\n",
    "clusters_df"
   ]
  },
  {
   "cell_type": "code",
   "execution_count": 28,
   "metadata": {},
   "outputs": [
    {
     "data": {
      "image/png": "[encoded data removed]",
      "text/plain": [
       "<Figure size 640x480 with 1 Axes>"
      ]
     },
     "metadata": {},
     "output_type": "display_data"
    }
   ],
   "source": [
    "#define Seaborn color palette to use\n",
    "colors = sns.color_palette('pastel')[0:5]\n",
    "\n",
    "#create pie chart\n",
    "plt.pie(clusters_df['count'], labels = clusters_df['cluster'], colors = colors, autopct='%.0f%%')\n",
    "plt.title('DEC Model 10-Feature Set Pie Chart')\n",
    "plt.show()"
   ]
  },
  {
   "cell_type": "markdown",
   "metadata": {},
   "source": [
    "## Evaluation"
   ]
  },
  {
   "cell_type": "code",
   "execution_count": 29,
   "metadata": {},
   "outputs": [
    {
     "name": "stdout",
     "output_type": "stream",
     "text": [
      "Silhouette Score: 0.226\n"
     ]
    }
   ],
   "source": [
    "# Calculate Silhouette Score\n",
    "silhouette_avg = silhouette_score(features_df, cluster_labels)\n",
    "print(f'Silhouette Score: {silhouette_avg:.3f}')"
   ]
  },
  {
   "cell_type": "code",
   "execution_count": 30,
   "metadata": {},
   "outputs": [
    {
     "name": "stdout",
     "output_type": "stream",
     "text": [
      "Davies-Bouldin Index: 1.845\n"
     ]
    }
   ],
   "source": [
    "# Calculate Davies-Bouldin Index\n",
    "davies_bouldin_avg = davies_bouldin_score(features_df, cluster_labels)\n",
    "print(f'Davies-Bouldin Index: {davies_bouldin_avg:.3f}')"
   ]
  }
 ],
 "metadata": {
  "kernelspec": {
   "display_name": "base",
   "language": "python",
   "name": "python3"
  },
  "language_info": {
   "codemirror_mode": {
    "name": "ipython",
    "version": 3
   },
   "file_extension": ".py",
   "mimetype": "text/x-python",
   "name": "python",
   "nbconvert_exporter": "python",
   "pygments_lexer": "ipython3",
   "version": "3.9.13"
  }
 },
 "nbformat": 4,
 "nbformat_minor": 2
}
