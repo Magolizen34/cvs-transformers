{
 "cells": [
  {
   "cell_type": "markdown",
   "metadata": {},
   "source": [
    "# Hybrid Embedding Model"
   ]
  },
  {
   "cell_type": "code",
   "execution_count": 1,
   "metadata": {},
   "outputs": [],
   "source": [
    "import matplotlib.pyplot as plt \n",
    "from matplotlib.lines import Line2D  # For custom legend markers\n",
    "import numpy as np\n",
    "import pandas as pd\n",
    "import plotly.express as px\n",
    "import seaborn as sns\n",
    "from sklearn.cluster import KMeans\n",
    "from sklearn.metrics import silhouette_score, davies_bouldin_score\n",
    "from sklearn.decomposition import PCA\n",
    "import tensorflow as tf\n",
    "from tensorflow.keras.models import Model\n",
    "from tensorflow.keras.layers import Input, Dense, Dropout\n",
    "from tensorflow.keras.optimizers import Adam\n",
    "from tensorflow.keras.callbacks import EarlyStopping\n",
    "import warnings # ignore warnings\n",
    "warnings.filterwarnings('ignore')"
   ]
  },
  {
   "cell_type": "code",
   "execution_count": 2,
   "metadata": {},
   "outputs": [],
   "source": [
    "df = pd.read_csv('../data/final_df_normalized.csv', sep='|') "
   ]
  },
  {
   "cell_type": "code",
   "execution_count": 3,
   "metadata": {},
   "outputs": [
    {
     "name": "stdout",
     "output_type": "stream",
     "text": [
      "<class 'pandas.core.frame.DataFrame'>\n",
      "RangeIndex: 100000 entries, 0 to 99999\n",
      "Data columns (total 12 columns):\n",
      " #   Column                                  Non-Null Count   Dtype  \n",
      "---  ------                                  --------------   -----  \n",
      " 0   account_id                              100000 non-null  object \n",
      " 1   yeojohnson_revenue_in_eur_bin           100000 non-null  float64\n",
      " 2   is_EMEA                                 100000 non-null  int64  \n",
      " 3   is_Webshop                              100000 non-null  int64  \n",
      " 4   is_industry_FinanceInsuranceRealEstate  100000 non-null  int64  \n",
      " 5   is_industry_Manufacturing               100000 non-null  int64  \n",
      " 6   is_industry_Other                       100000 non-null  int64  \n",
      " 7   is_industry_RetailTrade                 100000 non-null  int64  \n",
      " 8   is_industry_Services                    100000 non-null  int64  \n",
      " 9   is_industry_WholesaleTrade              100000 non-null  int64  \n",
      " 10  license_value_score                     100000 non-null  float64\n",
      " 11  customer_value_score                    100000 non-null  float64\n",
      "dtypes: float64(3), int64(8), object(1)\n",
      "memory usage: 9.2+ MB\n"
     ]
    }
   ],
   "source": [
    "df.info()"
   ]
  },
  {
   "cell_type": "code",
   "execution_count": 4,
   "metadata": {},
   "outputs": [
    {
     "data": {
      "text/html": [
       "<div>\n",
       "<style scoped>\n",
       "    .dataframe tbody tr th:only-of-type {\n",
       "        vertical-align: middle;\n",
       "    }\n",
       "\n",
       "    .dataframe tbody tr th {\n",
       "        vertical-align: top;\n",
       "    }\n",
       "\n",
       "    .dataframe thead th {\n",
       "        text-align: right;\n",
       "    }\n",
       "</style>\n",
       "<table border=\"1\" class=\"dataframe\">\n",
       "  <thead>\n",
       "    <tr style=\"text-align: right;\">\n",
       "      <th></th>\n",
       "      <th>account_id</th>\n",
       "      <th>yeojohnson_revenue_in_eur_bin</th>\n",
       "      <th>is_EMEA</th>\n",
       "      <th>is_Webshop</th>\n",
       "      <th>is_industry_FinanceInsuranceRealEstate</th>\n",
       "      <th>is_industry_Manufacturing</th>\n",
       "      <th>is_industry_Other</th>\n",
       "      <th>is_industry_RetailTrade</th>\n",
       "      <th>is_industry_Services</th>\n",
       "      <th>is_industry_WholesaleTrade</th>\n",
       "      <th>license_value_score</th>\n",
       "      <th>customer_value_score</th>\n",
       "    </tr>\n",
       "  </thead>\n",
       "  <tbody>\n",
       "    <tr>\n",
       "      <th>0</th>\n",
       "      <td>ac6a99474410f1c59c91da3f0cf9cf3f</td>\n",
       "      <td>0.666667</td>\n",
       "      <td>0</td>\n",
       "      <td>1</td>\n",
       "      <td>0</td>\n",
       "      <td>0</td>\n",
       "      <td>0</td>\n",
       "      <td>0</td>\n",
       "      <td>1</td>\n",
       "      <td>0</td>\n",
       "      <td>0.225903</td>\n",
       "      <td>0.404288</td>\n",
       "    </tr>\n",
       "    <tr>\n",
       "      <th>1</th>\n",
       "      <td>1cc66628ed41f3db5a55195e93277a04</td>\n",
       "      <td>0.666667</td>\n",
       "      <td>0</td>\n",
       "      <td>1</td>\n",
       "      <td>0</td>\n",
       "      <td>0</td>\n",
       "      <td>0</td>\n",
       "      <td>0</td>\n",
       "      <td>0</td>\n",
       "      <td>1</td>\n",
       "      <td>0.692198</td>\n",
       "      <td>0.000000</td>\n",
       "    </tr>\n",
       "    <tr>\n",
       "      <th>2</th>\n",
       "      <td>db5f3cdd5629b9591b720b9b7e077df2</td>\n",
       "      <td>1.000000</td>\n",
       "      <td>0</td>\n",
       "      <td>1</td>\n",
       "      <td>0</td>\n",
       "      <td>0</td>\n",
       "      <td>0</td>\n",
       "      <td>0</td>\n",
       "      <td>1</td>\n",
       "      <td>0</td>\n",
       "      <td>0.025903</td>\n",
       "      <td>0.058008</td>\n",
       "    </tr>\n",
       "    <tr>\n",
       "      <th>3</th>\n",
       "      <td>bebb4028688f519f36ed220855b0a62f</td>\n",
       "      <td>1.000000</td>\n",
       "      <td>0</td>\n",
       "      <td>0</td>\n",
       "      <td>0</td>\n",
       "      <td>0</td>\n",
       "      <td>0</td>\n",
       "      <td>0</td>\n",
       "      <td>1</td>\n",
       "      <td>0</td>\n",
       "      <td>0.825945</td>\n",
       "      <td>0.703012</td>\n",
       "    </tr>\n",
       "    <tr>\n",
       "      <th>4</th>\n",
       "      <td>507c0bfb67895d773e3f8bd33b861d09</td>\n",
       "      <td>1.000000</td>\n",
       "      <td>0</td>\n",
       "      <td>0</td>\n",
       "      <td>1</td>\n",
       "      <td>0</td>\n",
       "      <td>0</td>\n",
       "      <td>0</td>\n",
       "      <td>0</td>\n",
       "      <td>0</td>\n",
       "      <td>0.826668</td>\n",
       "      <td>0.467596</td>\n",
       "    </tr>\n",
       "    <tr>\n",
       "      <th>5</th>\n",
       "      <td>b1267a5b953b7267de811510f838172b</td>\n",
       "      <td>0.666667</td>\n",
       "      <td>0</td>\n",
       "      <td>1</td>\n",
       "      <td>0</td>\n",
       "      <td>0</td>\n",
       "      <td>0</td>\n",
       "      <td>1</td>\n",
       "      <td>0</td>\n",
       "      <td>0</td>\n",
       "      <td>0.172568</td>\n",
       "      <td>0.270317</td>\n",
       "    </tr>\n",
       "    <tr>\n",
       "      <th>6</th>\n",
       "      <td>3315ad169d4d2e9080f1377c44377c7c</td>\n",
       "      <td>0.666667</td>\n",
       "      <td>0</td>\n",
       "      <td>0</td>\n",
       "      <td>0</td>\n",
       "      <td>0</td>\n",
       "      <td>0</td>\n",
       "      <td>0</td>\n",
       "      <td>1</td>\n",
       "      <td>0</td>\n",
       "      <td>0.784642</td>\n",
       "      <td>0.863665</td>\n",
       "    </tr>\n",
       "    <tr>\n",
       "      <th>7</th>\n",
       "      <td>8ca7b69eda1a06b32e60fff1c6db3b28</td>\n",
       "      <td>1.000000</td>\n",
       "      <td>0</td>\n",
       "      <td>0</td>\n",
       "      <td>0</td>\n",
       "      <td>0</td>\n",
       "      <td>1</td>\n",
       "      <td>0</td>\n",
       "      <td>0</td>\n",
       "      <td>0</td>\n",
       "      <td>0.530824</td>\n",
       "      <td>0.608520</td>\n",
       "    </tr>\n",
       "    <tr>\n",
       "      <th>8</th>\n",
       "      <td>5bd2eea4e2320b9246b41a8f54fb02d2</td>\n",
       "      <td>0.333333</td>\n",
       "      <td>0</td>\n",
       "      <td>0</td>\n",
       "      <td>0</td>\n",
       "      <td>0</td>\n",
       "      <td>0</td>\n",
       "      <td>0</td>\n",
       "      <td>1</td>\n",
       "      <td>0</td>\n",
       "      <td>0.925757</td>\n",
       "      <td>0.625388</td>\n",
       "    </tr>\n",
       "    <tr>\n",
       "      <th>9</th>\n",
       "      <td>bbfb03bca60fb0185be3f36d12c99b3f</td>\n",
       "      <td>0.666667</td>\n",
       "      <td>0</td>\n",
       "      <td>0</td>\n",
       "      <td>0</td>\n",
       "      <td>0</td>\n",
       "      <td>0</td>\n",
       "      <td>0</td>\n",
       "      <td>1</td>\n",
       "      <td>0</td>\n",
       "      <td>0.864130</td>\n",
       "      <td>0.635761</td>\n",
       "    </tr>\n",
       "  </tbody>\n",
       "</table>\n",
       "</div>"
      ],
      "text/plain": [
       "                         account_id  yeojohnson_revenue_in_eur_bin  is_EMEA  \\\n",
       "0  ac6a99474410f1c59c91da3f0cf9cf3f                       0.666667        0   \n",
       "1  1cc66628ed41f3db5a55195e93277a04                       0.666667        0   \n",
       "2  db5f3cdd5629b9591b720b9b7e077df2                       1.000000        0   \n",
       "3  bebb4028688f519f36ed220855b0a62f                       1.000000        0   \n",
       "4  507c0bfb67895d773e3f8bd33b861d09                       1.000000        0   \n",
       "5  b1267a5b953b7267de811510f838172b                       0.666667        0   \n",
       "6  3315ad169d4d2e9080f1377c44377c7c                       0.666667        0   \n",
       "7  8ca7b69eda1a06b32e60fff1c6db3b28                       1.000000        0   \n",
       "8  5bd2eea4e2320b9246b41a8f54fb02d2                       0.333333        0   \n",
       "9  bbfb03bca60fb0185be3f36d12c99b3f                       0.666667        0   \n",
       "\n",
       "   is_Webshop  is_industry_FinanceInsuranceRealEstate  \\\n",
       "0           1                                       0   \n",
       "1           1                                       0   \n",
       "2           1                                       0   \n",
       "3           0                                       0   \n",
       "4           0                                       1   \n",
       "5           1                                       0   \n",
       "6           0                                       0   \n",
       "7           0                                       0   \n",
       "8           0                                       0   \n",
       "9           0                                       0   \n",
       "\n",
       "   is_industry_Manufacturing  is_industry_Other  is_industry_RetailTrade  \\\n",
       "0                          0                  0                        0   \n",
       "1                          0                  0                        0   \n",
       "2                          0                  0                        0   \n",
       "3                          0                  0                        0   \n",
       "4                          0                  0                        0   \n",
       "5                          0                  0                        1   \n",
       "6                          0                  0                        0   \n",
       "7                          0                  1                        0   \n",
       "8                          0                  0                        0   \n",
       "9                          0                  0                        0   \n",
       "\n",
       "   is_industry_Services  is_industry_WholesaleTrade  license_value_score  \\\n",
       "0                     1                           0             0.225903   \n",
       "1                     0                           1             0.692198   \n",
       "2                     1                           0             0.025903   \n",
       "3                     1                           0             0.825945   \n",
       "4                     0                           0             0.826668   \n",
       "5                     0                           0             0.172568   \n",
       "6                     1                           0             0.784642   \n",
       "7                     0                           0             0.530824   \n",
       "8                     1                           0             0.925757   \n",
       "9                     1                           0             0.864130   \n",
       "\n",
       "   customer_value_score  \n",
       "0              0.404288  \n",
       "1              0.000000  \n",
       "2              0.058008  \n",
       "3              0.703012  \n",
       "4              0.467596  \n",
       "5              0.270317  \n",
       "6              0.863665  \n",
       "7              0.608520  \n",
       "8              0.625388  \n",
       "9              0.635761  "
      ]
     },
     "execution_count": 4,
     "metadata": {},
     "output_type": "execute_result"
    }
   ],
   "source": [
    "df.head(10)"
   ]
  },
  {
   "cell_type": "markdown",
   "metadata": {},
   "source": [
    "## Linear Embedding Model"
   ]
  },
  {
   "cell_type": "code",
   "execution_count": 5,
   "metadata": {},
   "outputs": [],
   "source": [
    "class EmbeddingModel:\n",
    "    def __init__(self, input_dim, embedding_dim, learning_rate=0.001, dropout_rate=0.2):\n",
    "        self.input_dim = input_dim\n",
    "        self.embedding_dim = embedding_dim\n",
    "        self.learning_rate = learning_rate\n",
    "        self.dropout_rate = dropout_rate\n",
    "        self._build_model()\n",
    "    \n",
    "    def _build_model(self):\n",
    "        input_layer = Input(shape=(self.input_dim,))\n",
    "        x = Dense(128, activation='relu')(input_layer)\n",
    "        x = Dropout(self.dropout_rate)(x)\n",
    "        x = Dense(64, activation='relu')(x)\n",
    "        x = Dropout(self.dropout_rate)(x)\n",
    "        embedding_layer = Dense(self.embedding_dim, activation='relu')(x)\n",
    "        x = Dropout(self.dropout_rate)(embedding_layer)\n",
    "        x = Dense(64, activation='relu')(x)\n",
    "        x = Dropout(self.dropout_rate)(x)\n",
    "        x = Dense(128, activation='relu')(x)\n",
    "        x = Dropout(self.dropout_rate)(x)\n",
    "        output_layer = Dense(self.input_dim, activation='linear')(x)\n",
    "\n",
    "        # Create the MLP model\n",
    "        self.encoder = Model(inputs=input_layer, outputs=output_layer)\n",
    "        \n",
    "        # Create a separate model for extracting embeddings\n",
    "        self.embedding_model = Model(inputs=input_layer, outputs=embedding_layer)\n",
    "        \n",
    "        # Compile the MLP model\n",
    "        self.encoder.compile(optimizer=Adam(learning_rate=self.learning_rate), loss='mse')\n",
    "    \n",
    "    def train(self, data, epochs=100, batch_size=64, patience=10):\n",
    "        early_stopping = EarlyStopping(monitor='loss', patience=patience, restore_best_weights=True)\n",
    "        with tf.device('/GPU:0' if tf.config.list_physical_devices('GPU') else '/CPU:0'):\n",
    "            self.encoder.fit(data, data, epochs=epochs, batch_size=batch_size, shuffle=True, callbacks=[early_stopping])\n",
    "    \n",
    "    def get_embeddings(self, data):\n",
    "        with tf.device('/GPU:0' if tf.config.list_physical_devices('GPU') else '/CPU:0'):\n",
    "            return self.embedding_model.predict(data)\n",
    "    \n",
    "    def summary(self):\n",
    "        print(\"Encoder Model Summary:\")\n",
    "        self.encoder.summary()\n",
    "        print(\"\\nEmbedding Model Summary:\")\n",
    "        self.embedding_model.summary()"
   ]
  },
  {
   "cell_type": "code",
   "execution_count": 6,
   "metadata": {},
   "outputs": [],
   "source": [
    "# Preprocess the data\n",
    "\n",
    "# Extract features columns excluding 'account_id'\n",
    "features_df = df.drop(columns=['account_id'])\n",
    "\n",
    "# Convert DataFrame to numpy array\n",
    "features = features_df.to_numpy()\n",
    "\n",
    "# Selecting the last 2 Features\n",
    "scores_df = features_df.iloc[:, -2:]\n",
    "\n",
    "# Convert DataFrame to numpy array\n",
    "score_features = scores_df.to_numpy()"
   ]
  },
  {
   "cell_type": "code",
   "execution_count": 7,
   "metadata": {},
   "outputs": [
    {
     "data": {
      "text/html": [
       "<div>\n",
       "<style scoped>\n",
       "    .dataframe tbody tr th:only-of-type {\n",
       "        vertical-align: middle;\n",
       "    }\n",
       "\n",
       "    .dataframe tbody tr th {\n",
       "        vertical-align: top;\n",
       "    }\n",
       "\n",
       "    .dataframe thead th {\n",
       "        text-align: right;\n",
       "    }\n",
       "</style>\n",
       "<table border=\"1\" class=\"dataframe\">\n",
       "  <thead>\n",
       "    <tr style=\"text-align: right;\">\n",
       "      <th></th>\n",
       "      <th>yeojohnson_revenue_in_eur_bin</th>\n",
       "      <th>is_EMEA</th>\n",
       "      <th>is_Webshop</th>\n",
       "      <th>is_industry_FinanceInsuranceRealEstate</th>\n",
       "      <th>is_industry_Manufacturing</th>\n",
       "      <th>is_industry_Other</th>\n",
       "      <th>is_industry_RetailTrade</th>\n",
       "      <th>is_industry_Services</th>\n",
       "      <th>is_industry_WholesaleTrade</th>\n",
       "      <th>license_value_score</th>\n",
       "      <th>customer_value_score</th>\n",
       "    </tr>\n",
       "  </thead>\n",
       "  <tbody>\n",
       "    <tr>\n",
       "      <th>0</th>\n",
       "      <td>0.666667</td>\n",
       "      <td>0</td>\n",
       "      <td>1</td>\n",
       "      <td>0</td>\n",
       "      <td>0</td>\n",
       "      <td>0</td>\n",
       "      <td>0</td>\n",
       "      <td>1</td>\n",
       "      <td>0</td>\n",
       "      <td>0.225903</td>\n",
       "      <td>0.404288</td>\n",
       "    </tr>\n",
       "    <tr>\n",
       "      <th>1</th>\n",
       "      <td>0.666667</td>\n",
       "      <td>0</td>\n",
       "      <td>1</td>\n",
       "      <td>0</td>\n",
       "      <td>0</td>\n",
       "      <td>0</td>\n",
       "      <td>0</td>\n",
       "      <td>0</td>\n",
       "      <td>1</td>\n",
       "      <td>0.692198</td>\n",
       "      <td>0.000000</td>\n",
       "    </tr>\n",
       "    <tr>\n",
       "      <th>2</th>\n",
       "      <td>1.000000</td>\n",
       "      <td>0</td>\n",
       "      <td>1</td>\n",
       "      <td>0</td>\n",
       "      <td>0</td>\n",
       "      <td>0</td>\n",
       "      <td>0</td>\n",
       "      <td>1</td>\n",
       "      <td>0</td>\n",
       "      <td>0.025903</td>\n",
       "      <td>0.058008</td>\n",
       "    </tr>\n",
       "    <tr>\n",
       "      <th>3</th>\n",
       "      <td>1.000000</td>\n",
       "      <td>0</td>\n",
       "      <td>0</td>\n",
       "      <td>0</td>\n",
       "      <td>0</td>\n",
       "      <td>0</td>\n",
       "      <td>0</td>\n",
       "      <td>1</td>\n",
       "      <td>0</td>\n",
       "      <td>0.825945</td>\n",
       "      <td>0.703012</td>\n",
       "    </tr>\n",
       "    <tr>\n",
       "      <th>4</th>\n",
       "      <td>1.000000</td>\n",
       "      <td>0</td>\n",
       "      <td>0</td>\n",
       "      <td>1</td>\n",
       "      <td>0</td>\n",
       "      <td>0</td>\n",
       "      <td>0</td>\n",
       "      <td>0</td>\n",
       "      <td>0</td>\n",
       "      <td>0.826668</td>\n",
       "      <td>0.467596</td>\n",
       "    </tr>\n",
       "    <tr>\n",
       "      <th>...</th>\n",
       "      <td>...</td>\n",
       "      <td>...</td>\n",
       "      <td>...</td>\n",
       "      <td>...</td>\n",
       "      <td>...</td>\n",
       "      <td>...</td>\n",
       "      <td>...</td>\n",
       "      <td>...</td>\n",
       "      <td>...</td>\n",
       "      <td>...</td>\n",
       "      <td>...</td>\n",
       "    </tr>\n",
       "    <tr>\n",
       "      <th>99995</th>\n",
       "      <td>1.000000</td>\n",
       "      <td>0</td>\n",
       "      <td>1</td>\n",
       "      <td>0</td>\n",
       "      <td>0</td>\n",
       "      <td>0</td>\n",
       "      <td>0</td>\n",
       "      <td>1</td>\n",
       "      <td>0</td>\n",
       "      <td>0.475269</td>\n",
       "      <td>0.683419</td>\n",
       "    </tr>\n",
       "    <tr>\n",
       "      <th>99996</th>\n",
       "      <td>0.666667</td>\n",
       "      <td>0</td>\n",
       "      <td>0</td>\n",
       "      <td>0</td>\n",
       "      <td>0</td>\n",
       "      <td>0</td>\n",
       "      <td>0</td>\n",
       "      <td>1</td>\n",
       "      <td>0</td>\n",
       "      <td>0.562420</td>\n",
       "      <td>0.861997</td>\n",
       "    </tr>\n",
       "    <tr>\n",
       "      <th>99997</th>\n",
       "      <td>0.666667</td>\n",
       "      <td>0</td>\n",
       "      <td>1</td>\n",
       "      <td>0</td>\n",
       "      <td>0</td>\n",
       "      <td>0</td>\n",
       "      <td>0</td>\n",
       "      <td>1</td>\n",
       "      <td>0</td>\n",
       "      <td>0.225903</td>\n",
       "      <td>0.243447</td>\n",
       "    </tr>\n",
       "    <tr>\n",
       "      <th>99998</th>\n",
       "      <td>0.333333</td>\n",
       "      <td>0</td>\n",
       "      <td>1</td>\n",
       "      <td>1</td>\n",
       "      <td>0</td>\n",
       "      <td>0</td>\n",
       "      <td>0</td>\n",
       "      <td>0</td>\n",
       "      <td>0</td>\n",
       "      <td>0.073531</td>\n",
       "      <td>0.058008</td>\n",
       "    </tr>\n",
       "    <tr>\n",
       "      <th>99999</th>\n",
       "      <td>1.000000</td>\n",
       "      <td>0</td>\n",
       "      <td>0</td>\n",
       "      <td>0</td>\n",
       "      <td>1</td>\n",
       "      <td>0</td>\n",
       "      <td>0</td>\n",
       "      <td>0</td>\n",
       "      <td>0</td>\n",
       "      <td>0.876351</td>\n",
       "      <td>0.861997</td>\n",
       "    </tr>\n",
       "  </tbody>\n",
       "</table>\n",
       "<p>100000 rows × 11 columns</p>\n",
       "</div>"
      ],
      "text/plain": [
       "       yeojohnson_revenue_in_eur_bin  is_EMEA  is_Webshop  \\\n",
       "0                           0.666667        0           1   \n",
       "1                           0.666667        0           1   \n",
       "2                           1.000000        0           1   \n",
       "3                           1.000000        0           0   \n",
       "4                           1.000000        0           0   \n",
       "...                              ...      ...         ...   \n",
       "99995                       1.000000        0           1   \n",
       "99996                       0.666667        0           0   \n",
       "99997                       0.666667        0           1   \n",
       "99998                       0.333333        0           1   \n",
       "99999                       1.000000        0           0   \n",
       "\n",
       "       is_industry_FinanceInsuranceRealEstate  is_industry_Manufacturing  \\\n",
       "0                                           0                          0   \n",
       "1                                           0                          0   \n",
       "2                                           0                          0   \n",
       "3                                           0                          0   \n",
       "4                                           1                          0   \n",
       "...                                       ...                        ...   \n",
       "99995                                       0                          0   \n",
       "99996                                       0                          0   \n",
       "99997                                       0                          0   \n",
       "99998                                       1                          0   \n",
       "99999                                       0                          1   \n",
       "\n",
       "       is_industry_Other  is_industry_RetailTrade  is_industry_Services  \\\n",
       "0                      0                        0                     1   \n",
       "1                      0                        0                     0   \n",
       "2                      0                        0                     1   \n",
       "3                      0                        0                     1   \n",
       "4                      0                        0                     0   \n",
       "...                  ...                      ...                   ...   \n",
       "99995                  0                        0                     1   \n",
       "99996                  0                        0                     1   \n",
       "99997                  0                        0                     1   \n",
       "99998                  0                        0                     0   \n",
       "99999                  0                        0                     0   \n",
       "\n",
       "       is_industry_WholesaleTrade  license_value_score  customer_value_score  \n",
       "0                               0             0.225903              0.404288  \n",
       "1                               1             0.692198              0.000000  \n",
       "2                               0             0.025903              0.058008  \n",
       "3                               0             0.825945              0.703012  \n",
       "4                               0             0.826668              0.467596  \n",
       "...                           ...                  ...                   ...  \n",
       "99995                           0             0.475269              0.683419  \n",
       "99996                           0             0.562420              0.861997  \n",
       "99997                           0             0.225903              0.243447  \n",
       "99998                           0             0.073531              0.058008  \n",
       "99999                           0             0.876351              0.861997  \n",
       "\n",
       "[100000 rows x 11 columns]"
      ]
     },
     "execution_count": 7,
     "metadata": {},
     "output_type": "execute_result"
    }
   ],
   "source": [
    "features_df"
   ]
  },
  {
   "cell_type": "code",
   "execution_count": 8,
   "metadata": {},
   "outputs": [
    {
     "data": {
      "text/plain": [
       "(100000, 11)"
      ]
     },
     "execution_count": 8,
     "metadata": {},
     "output_type": "execute_result"
    }
   ],
   "source": [
    "features.shape"
   ]
  },
  {
   "cell_type": "code",
   "execution_count": 9,
   "metadata": {},
   "outputs": [],
   "source": [
    "# Initialize and train the autoencoder model\n",
    "input_dim = features.shape[1]\n",
    "embedding_dim = features.shape[1]  # Embedding dimension of 11 to make it easy to plot the resulting embeddings on a 2D scatter plot"
   ]
  },
  {
   "cell_type": "code",
   "execution_count": 10,
   "metadata": {},
   "outputs": [
    {
     "name": "stdout",
     "output_type": "stream",
     "text": [
      "Encoder Model Summary:\n",
      "Model: \"model\"\n",
      "_________________________________________________________________\n",
      " Layer (type)                Output Shape              Param #   \n",
      "=================================================================\n",
      " input_1 (InputLayer)        [(None, 11)]              0         \n",
      "                                                                 \n",
      " dense (Dense)               (None, 128)               1536      \n",
      "                                                                 \n",
      " dropout (Dropout)           (None, 128)               0         \n",
      "                                                                 \n",
      " dense_1 (Dense)             (None, 64)                8256      \n",
      "                                                                 \n",
      " dropout_1 (Dropout)         (None, 64)                0         \n",
      "                                                                 \n",
      " dense_2 (Dense)             (None, 11)                715       \n",
      "                                                                 \n",
      " dropout_2 (Dropout)         (None, 11)                0         \n",
      "                                                                 \n",
      " dense_3 (Dense)             (None, 64)                768       \n",
      "                                                                 \n",
      " dropout_3 (Dropout)         (None, 64)                0         \n",
      "                                                                 \n",
      " dense_4 (Dense)             (None, 128)               8320      \n",
      "                                                                 \n",
      " dropout_4 (Dropout)         (None, 128)               0         \n",
      "                                                                 \n",
      " dense_5 (Dense)             (None, 11)                1419      \n",
      "                                                                 \n",
      "=================================================================\n",
      "Total params: 21,014\n",
      "Trainable params: 21,014\n",
      "Non-trainable params: 0\n",
      "_________________________________________________________________\n",
      "\n",
      "Embedding Model Summary:\n",
      "Model: \"model_1\"\n",
      "_________________________________________________________________\n",
      " Layer (type)                Output Shape              Param #   \n",
      "=================================================================\n",
      " input_1 (InputLayer)        [(None, 11)]              0         \n",
      "                                                                 \n",
      " dense (Dense)               (None, 128)               1536      \n",
      "                                                                 \n",
      " dropout (Dropout)           (None, 128)               0         \n",
      "                                                                 \n",
      " dense_1 (Dense)             (None, 64)                8256      \n",
      "                                                                 \n",
      " dropout_1 (Dropout)         (None, 64)                0         \n",
      "                                                                 \n",
      " dense_2 (Dense)             (None, 11)                715       \n",
      "                                                                 \n",
      "=================================================================\n",
      "Total params: 10,507\n",
      "Trainable params: 10,507\n",
      "Non-trainable params: 0\n",
      "_________________________________________________________________\n"
     ]
    }
   ],
   "source": [
    "embedding_model = EmbeddingModel(input_dim=input_dim, embedding_dim=embedding_dim, dropout_rate=0.2)\n",
    "embedding_model.summary()"
   ]
  },
  {
   "cell_type": "code",
   "execution_count": 11,
   "metadata": {},
   "outputs": [
    {
     "name": "stdout",
     "output_type": "stream",
     "text": [
      "Epoch 1/100\n",
      "1563/1563 [==============================] - 5s 2ms/step - loss: 0.0518\n",
      "Epoch 2/100\n",
      "1563/1563 [==============================] - 4s 2ms/step - loss: 0.0271\n",
      "Epoch 3/100\n",
      "1563/1563 [==============================] - 4s 2ms/step - loss: 0.0223\n",
      "Epoch 4/100\n",
      "1563/1563 [==============================] - 4s 2ms/step - loss: 0.0205\n",
      "Epoch 5/100\n",
      "1563/1563 [==============================] - 4s 2ms/step - loss: 0.0193\n",
      "Epoch 6/100\n",
      "1563/1563 [==============================] - 4s 2ms/step - loss: 0.0187\n",
      "Epoch 7/100\n",
      "1563/1563 [==============================] - 4s 2ms/step - loss: 0.0184\n",
      "Epoch 8/100\n",
      "1563/1563 [==============================] - 4s 2ms/step - loss: 0.0178\n",
      "Epoch 9/100\n",
      "1563/1563 [==============================] - 4s 3ms/step - loss: 0.0178\n",
      "Epoch 10/100\n",
      "1563/1563 [==============================] - 4s 3ms/step - loss: 0.0175\n",
      "Epoch 11/100\n",
      "1563/1563 [==============================] - 4s 3ms/step - loss: 0.0174\n",
      "Epoch 12/100\n",
      "1563/1563 [==============================] - 4s 3ms/step - loss: 0.0174\n",
      "Epoch 13/100\n",
      "1563/1563 [==============================] - 4s 3ms/step - loss: 0.0171\n",
      "Epoch 14/100\n",
      "1563/1563 [==============================] - 4s 3ms/step - loss: 0.0170\n",
      "Epoch 15/100\n",
      "1563/1563 [==============================] - 4s 3ms/step - loss: 0.0171\n",
      "Epoch 16/100\n",
      "1563/1563 [==============================] - 4s 3ms/step - loss: 0.0167\n",
      "Epoch 17/100\n",
      "1563/1563 [==============================] - 4s 3ms/step - loss: 0.0167\n",
      "Epoch 18/100\n",
      "1563/1563 [==============================] - 4s 2ms/step - loss: 0.0166\n",
      "Epoch 19/100\n",
      "1563/1563 [==============================] - 4s 2ms/step - loss: 0.0167\n",
      "Epoch 20/100\n",
      "1563/1563 [==============================] - 4s 2ms/step - loss: 0.0167\n",
      "Epoch 21/100\n",
      "1563/1563 [==============================] - 4s 2ms/step - loss: 0.0165\n",
      "Epoch 22/100\n",
      "1563/1563 [==============================] - 4s 2ms/step - loss: 0.0164\n",
      "Epoch 23/100\n",
      "1563/1563 [==============================] - 4s 2ms/step - loss: 0.0163\n",
      "Epoch 24/100\n",
      "1563/1563 [==============================] - 4s 2ms/step - loss: 0.0164\n",
      "Epoch 25/100\n",
      "1563/1563 [==============================] - 4s 2ms/step - loss: 0.0163\n",
      "Epoch 26/100\n",
      "1563/1563 [==============================] - 4s 2ms/step - loss: 0.0163\n",
      "Epoch 27/100\n",
      "1563/1563 [==============================] - 4s 3ms/step - loss: 0.0162\n",
      "Epoch 28/100\n",
      "1563/1563 [==============================] - 4s 3ms/step - loss: 0.0161\n",
      "Epoch 29/100\n",
      "1563/1563 [==============================] - 4s 3ms/step - loss: 0.0161\n",
      "Epoch 30/100\n",
      "1563/1563 [==============================] - 4s 3ms/step - loss: 0.0161\n",
      "Epoch 31/100\n",
      "1563/1563 [==============================] - 4s 3ms/step - loss: 0.0159\n",
      "Epoch 32/100\n",
      "1563/1563 [==============================] - 4s 3ms/step - loss: 0.0159\n",
      "Epoch 33/100\n",
      "1563/1563 [==============================] - 4s 3ms/step - loss: 0.0160\n",
      "Epoch 34/100\n",
      "1563/1563 [==============================] - 4s 3ms/step - loss: 0.0158\n",
      "Epoch 35/100\n",
      "1563/1563 [==============================] - 4s 3ms/step - loss: 0.0158\n",
      "Epoch 36/100\n",
      "1563/1563 [==============================] - 4s 3ms/step - loss: 0.0159\n",
      "Epoch 37/100\n",
      "1563/1563 [==============================] - 4s 2ms/step - loss: 0.0158\n",
      "Epoch 38/100\n",
      "1563/1563 [==============================] - 4s 2ms/step - loss: 0.0158\n",
      "Epoch 39/100\n",
      "1563/1563 [==============================] - 4s 2ms/step - loss: 0.0156\n",
      "Epoch 40/100\n",
      "1563/1563 [==============================] - 4s 2ms/step - loss: 0.0157\n",
      "Epoch 41/100\n",
      "1563/1563 [==============================] - 4s 2ms/step - loss: 0.0158\n",
      "Epoch 42/100\n",
      "1563/1563 [==============================] - 4s 2ms/step - loss: 0.0157\n",
      "Epoch 43/100\n",
      "1563/1563 [==============================] - 4s 2ms/step - loss: 0.0155\n",
      "Epoch 44/100\n",
      "1563/1563 [==============================] - 4s 3ms/step - loss: 0.0157\n",
      "Epoch 45/100\n",
      "1563/1563 [==============================] - 4s 3ms/step - loss: 0.0157\n",
      "Epoch 46/100\n",
      "1563/1563 [==============================] - 4s 3ms/step - loss: 0.0155\n",
      "Epoch 47/100\n",
      "1563/1563 [==============================] - 4s 3ms/step - loss: 0.0155\n",
      "Epoch 48/100\n",
      "1563/1563 [==============================] - 4s 3ms/step - loss: 0.0155\n",
      "Epoch 49/100\n",
      "1563/1563 [==============================] - 4s 3ms/step - loss: 0.0155\n",
      "Epoch 50/100\n",
      "1563/1563 [==============================] - 4s 3ms/step - loss: 0.0155\n",
      "Epoch 51/100\n",
      "1563/1563 [==============================] - 4s 3ms/step - loss: 0.0157\n",
      "Epoch 52/100\n",
      "1563/1563 [==============================] - 4s 3ms/step - loss: 0.0156\n",
      "Epoch 53/100\n",
      "1563/1563 [==============================] - 4s 3ms/step - loss: 0.0154\n",
      "Epoch 54/100\n",
      "1563/1563 [==============================] - 4s 2ms/step - loss: 0.0155\n",
      "Epoch 55/100\n",
      "1563/1563 [==============================] - 4s 2ms/step - loss: 0.0157\n",
      "Epoch 56/100\n",
      "1563/1563 [==============================] - 4s 2ms/step - loss: 0.0155\n",
      "Epoch 57/100\n",
      "1563/1563 [==============================] - 4s 2ms/step - loss: 0.0155\n",
      "Epoch 58/100\n",
      "1563/1563 [==============================] - 4s 2ms/step - loss: 0.0155\n",
      "Epoch 59/100\n",
      "1563/1563 [==============================] - 4s 2ms/step - loss: 0.0157\n",
      "Epoch 60/100\n",
      "1563/1563 [==============================] - 4s 3ms/step - loss: 0.0155\n",
      "Epoch 61/100\n",
      "1563/1563 [==============================] - 4s 3ms/step - loss: 0.0155\n",
      "Epoch 62/100\n",
      "1563/1563 [==============================] - 4s 3ms/step - loss: 0.0155\n",
      "Epoch 63/100\n",
      "1563/1563 [==============================] - 4s 3ms/step - loss: 0.0155\n"
     ]
    }
   ],
   "source": [
    "embedding_model.train(features, epochs=100, batch_size=64, patience=10)"
   ]
  },
  {
   "cell_type": "code",
   "execution_count": 12,
   "metadata": {},
   "outputs": [
    {
     "name": "stdout",
     "output_type": "stream",
     "text": [
      "3125/3125 [==============================] - 2s 584us/step\n"
     ]
    }
   ],
   "source": [
    "embeddings = embedding_model.get_embeddings(features)"
   ]
  },
  {
   "cell_type": "markdown",
   "metadata": {},
   "source": [
    "## PCA"
   ]
  },
  {
   "cell_type": "code",
   "execution_count": 13,
   "metadata": {},
   "outputs": [
    {
     "data": {
      "text/html": [
       "<style>#sk-container-id-1 {color: black;background-color: white;}#sk-container-id-1 pre{padding: 0;}#sk-container-id-1 div.sk-toggleable {background-color: white;}#sk-container-id-1 label.sk-toggleable__label {cursor: pointer;display: block;width: 100%;margin-bottom: 0;padding: 0.3em;box-sizing: border-box;text-align: center;}#sk-container-id-1 label.sk-toggleable__label-arrow:before {content: \"▸\";float: left;margin-right: 0.25em;color: #696969;}#sk-container-id-1 label.sk-toggleable__label-arrow:hover:before {color: black;}#sk-container-id-1 div.sk-estimator:hover label.sk-toggleable__label-arrow:before {color: black;}#sk-container-id-1 div.sk-toggleable__content {max-height: 0;max-width: 0;overflow: hidden;text-align: left;background-color: #f0f8ff;}#sk-container-id-1 div.sk-toggleable__content pre {margin: 0.2em;color: black;border-radius: 0.25em;background-color: #f0f8ff;}#sk-container-id-1 input.sk-toggleable__control:checked~div.sk-toggleable__content {max-height: 200px;max-width: 100%;overflow: auto;}#sk-container-id-1 input.sk-toggleable__control:checked~label.sk-toggleable__label-arrow:before {content: \"▾\";}#sk-container-id-1 div.sk-estimator input.sk-toggleable__control:checked~label.sk-toggleable__label {background-color: #d4ebff;}#sk-container-id-1 div.sk-label input.sk-toggleable__control:checked~label.sk-toggleable__label {background-color: #d4ebff;}#sk-container-id-1 input.sk-hidden--visually {border: 0;clip: rect(1px 1px 1px 1px);clip: rect(1px, 1px, 1px, 1px);height: 1px;margin: -1px;overflow: hidden;padding: 0;position: absolute;width: 1px;}#sk-container-id-1 div.sk-estimator {font-family: monospace;background-color: #f0f8ff;border: 1px dotted black;border-radius: 0.25em;box-sizing: border-box;margin-bottom: 0.5em;}#sk-container-id-1 div.sk-estimator:hover {background-color: #d4ebff;}#sk-container-id-1 div.sk-parallel-item::after {content: \"\";width: 100%;border-bottom: 1px solid gray;flex-grow: 1;}#sk-container-id-1 div.sk-label:hover label.sk-toggleable__label {background-color: #d4ebff;}#sk-container-id-1 div.sk-serial::before {content: \"\";position: absolute;border-left: 1px solid gray;box-sizing: border-box;top: 0;bottom: 0;left: 50%;z-index: 0;}#sk-container-id-1 div.sk-serial {display: flex;flex-direction: column;align-items: center;background-color: white;padding-right: 0.2em;padding-left: 0.2em;position: relative;}#sk-container-id-1 div.sk-item {position: relative;z-index: 1;}#sk-container-id-1 div.sk-parallel {display: flex;align-items: stretch;justify-content: center;background-color: white;position: relative;}#sk-container-id-1 div.sk-item::before, #sk-container-id-1 div.sk-parallel-item::before {content: \"\";position: absolute;border-left: 1px solid gray;box-sizing: border-box;top: 0;bottom: 0;left: 50%;z-index: -1;}#sk-container-id-1 div.sk-parallel-item {display: flex;flex-direction: column;z-index: 1;position: relative;background-color: white;}#sk-container-id-1 div.sk-parallel-item:first-child::after {align-self: flex-end;width: 50%;}#sk-container-id-1 div.sk-parallel-item:last-child::after {align-self: flex-start;width: 50%;}#sk-container-id-1 div.sk-parallel-item:only-child::after {width: 0;}#sk-container-id-1 div.sk-dashed-wrapped {border: 1px dashed gray;margin: 0 0.4em 0.5em 0.4em;box-sizing: border-box;padding-bottom: 0.4em;background-color: white;}#sk-container-id-1 div.sk-label label {font-family: monospace;font-weight: bold;display: inline-block;line-height: 1.2em;}#sk-container-id-1 div.sk-label-container {text-align: center;}#sk-container-id-1 div.sk-container {/* jupyter's `normalize.less` sets `[hidden] { display: none; }` but bootstrap.min.css set `[hidden] { display: none !important; }` so we also need the `!important` here to be able to override the default hidden behavior on the sphinx rendered scikit-learn.org. See: https://github.com/scikit-learn/scikit-learn/issues/21755 */display: inline-block !important;position: relative;}#sk-container-id-1 div.sk-text-repr-fallback {display: none;}</style><div id=\"sk-container-id-1\" class=\"sk-top-container\"><div class=\"sk-text-repr-fallback\"><pre>PCA()</pre><b>In a Jupyter environment, please rerun this cell to show the HTML representation or trust the notebook. <br />On GitHub, the HTML representation is unable to render, please try loading this page with nbviewer.org.</b></div><div class=\"sk-container\" hidden><div class=\"sk-item\"><div class=\"sk-estimator sk-toggleable\"><input class=\"sk-toggleable__control sk-hidden--visually\" id=\"sk-estimator-id-1\" type=\"checkbox\" checked><label for=\"sk-estimator-id-1\" class=\"sk-toggleable__label sk-toggleable__label-arrow\">PCA</label><div class=\"sk-toggleable__content\"><pre>PCA()</pre></div></div></div></div></div>"
      ],
      "text/plain": [
       "PCA()"
      ]
     },
     "execution_count": 13,
     "metadata": {},
     "output_type": "execute_result"
    }
   ],
   "source": [
    "pca = PCA()\n",
    "pca.fit(embeddings)"
   ]
  },
  {
   "cell_type": "code",
   "execution_count": 14,
   "metadata": {},
   "outputs": [
    {
     "name": "stdout",
     "output_type": "stream",
     "text": [
      "[0.58066778 0.32324532 0.03310497 0.0213952  0.01222371 0.01019938\n",
      " 0.00721009 0.00533359 0.00337645 0.00179065 0.00145286]\n"
     ]
    }
   ],
   "source": [
    "print(pca.explained_variance_ratio_)"
   ]
  },
  {
   "cell_type": "code",
   "execution_count": 15,
   "metadata": {},
   "outputs": [
    {
     "name": "stdout",
     "output_type": "stream",
     "text": [
      "Number of components explaining at least 80% variance: 2\n"
     ]
    },
    {
     "data": {
      "image/png": "[encoded data removed]",
      "text/plain": [
       "<Figure size 1000x800 with 1 Axes>"
      ]
     },
     "metadata": {},
     "output_type": "display_data"
    }
   ],
   "source": [
    "cumulative_explained_variance = np.cumsum(pca.explained_variance_ratio_)\n",
    "\n",
    "plt.figure(figsize= (10, 8))\n",
    "plt.plot(range(1,12), cumulative_explained_variance, marker = 'o', linestyle='--')\n",
    "plt.title('Explained Variance by Components')\n",
    "plt.xlabel('NUmber of Components')\n",
    "plt.ylabel('Cumulative Explained Variance')\n",
    "\n",
    "# Find the number of components that explain at least 80% of the variance\n",
    "n_components_80 = np.argmax(cumulative_explained_variance >= 0.80) + 1\n",
    "print(f\"Number of components explaining at least 80% variance: {n_components_80}\")"
   ]
  },
  {
   "cell_type": "code",
   "execution_count": 16,
   "metadata": {},
   "outputs": [],
   "source": [
    "pca = PCA(n_components=2)\n",
    "features_pca = pca.fit_transform(embeddings)"
   ]
  },
  {
   "cell_type": "markdown",
   "metadata": {},
   "source": [
    "## Determine the number of clusters(k)"
   ]
  },
  {
   "cell_type": "code",
   "execution_count": 17,
   "metadata": {},
   "outputs": [
    {
     "name": "stdout",
     "output_type": "stream",
     "text": [
      "Now on k 1\n",
      "Now on k 2\n",
      "Now on k 3\n",
      "Now on k 4\n",
      "Now on k 5\n",
      "Now on k 6\n",
      "Now on k 7\n",
      "Now on k 8\n",
      "Now on k 9\n",
      "Now on k 10\n",
      "Now on k 11\n",
      "Now on k 12\n",
      "Now on k 13\n",
      "Now on k 14\n",
      "Now on k 15\n",
      "Now on k 16\n",
      "Now on k 17\n",
      "Now on k 18\n",
      "Now on k 19\n"
     ]
    }
   ],
   "source": [
    "# Define a range of k values to test\n",
    "k_range = range(1, 20)\n",
    "\n",
    "wcss = []\n",
    "for k in k_range:\n",
    "    print('Now on k {}'.format(k))\n",
    "    kmeans = KMeans(n_clusters=k, random_state=0).fit(features_pca)\n",
    "    wcss.append(kmeans.inertia_)"
   ]
  },
  {
   "cell_type": "code",
   "execution_count": 18,
   "metadata": {},
   "outputs": [
    {
     "data": {
      "image/png": "[encoded data removed]",
      "text/plain": [
       "<Figure size 1000x800 with 1 Axes>"
      ]
     },
     "metadata": {},
     "output_type": "display_data"
    }
   ],
   "source": [
    "# Plotting WCSS vs k to identify the elbow point\n",
    "plt.figure(figsize=(10, 8))\n",
    "plt.plot(k_range, wcss, 'o-', markerfacecolor='lightblue', markeredgewidth=2, markersize=8)\n",
    "plt.xlabel('Number of clusters (k)')\n",
    "plt.ylabel('WCSS (Within Cluster Sum of Squares)')\n",
    "plt.title('Elbow Method for KMeans Clustering')\n",
    "plt.show()"
   ]
  },
  {
   "cell_type": "markdown",
   "metadata": {},
   "source": [
    "## Clustering"
   ]
  },
  {
   "cell_type": "code",
   "execution_count": 29,
   "metadata": {},
   "outputs": [
    {
     "data": {
      "text/html": [
       "<div>\n",
       "<style scoped>\n",
       "    .dataframe tbody tr th:only-of-type {\n",
       "        vertical-align: middle;\n",
       "    }\n",
       "\n",
       "    .dataframe tbody tr th {\n",
       "        vertical-align: top;\n",
       "    }\n",
       "\n",
       "    .dataframe thead th {\n",
       "        text-align: right;\n",
       "    }\n",
       "</style>\n",
       "<table border=\"1\" class=\"dataframe\">\n",
       "  <thead>\n",
       "    <tr style=\"text-align: right;\">\n",
       "      <th></th>\n",
       "      <th>yeojohnson_revenue_in_eur_bin</th>\n",
       "      <th>is_EMEA</th>\n",
       "      <th>is_Webshop</th>\n",
       "      <th>is_industry_FinanceInsuranceRealEstate</th>\n",
       "      <th>is_industry_Manufacturing</th>\n",
       "      <th>is_industry_Other</th>\n",
       "      <th>is_industry_RetailTrade</th>\n",
       "      <th>is_industry_Services</th>\n",
       "      <th>is_industry_WholesaleTrade</th>\n",
       "      <th>license_value_score</th>\n",
       "      <th>customer_value_score</th>\n",
       "      <th>Component 1</th>\n",
       "      <th>Component 2</th>\n",
       "      <th>Component 3</th>\n",
       "      <th>clusters</th>\n",
       "    </tr>\n",
       "    <tr>\n",
       "      <th>cluster_kmeans</th>\n",
       "      <th></th>\n",
       "      <th></th>\n",
       "      <th></th>\n",
       "      <th></th>\n",
       "      <th></th>\n",
       "      <th></th>\n",
       "      <th></th>\n",
       "      <th></th>\n",
       "      <th></th>\n",
       "      <th></th>\n",
       "      <th></th>\n",
       "      <th></th>\n",
       "      <th></th>\n",
       "      <th></th>\n",
       "      <th></th>\n",
       "    </tr>\n",
       "  </thead>\n",
       "  <tbody>\n",
       "    <tr>\n",
       "      <th>0</th>\n",
       "      <td>0.705785</td>\n",
       "      <td>0.797162</td>\n",
       "      <td>0.457371</td>\n",
       "      <td>0.000000</td>\n",
       "      <td>0.000000</td>\n",
       "      <td>0.000000</td>\n",
       "      <td>0.000000</td>\n",
       "      <td>0.000000</td>\n",
       "      <td>1.000000</td>\n",
       "      <td>0.491359</td>\n",
       "      <td>0.446935</td>\n",
       "      <td>8.746019</td>\n",
       "      <td>-1.580352</td>\n",
       "      <td>-0.122875</td>\n",
       "      <td>0.0</td>\n",
       "    </tr>\n",
       "    <tr>\n",
       "      <th>1</th>\n",
       "      <td>0.469888</td>\n",
       "      <td>0.753112</td>\n",
       "      <td>0.489736</td>\n",
       "      <td>0.090151</td>\n",
       "      <td>0.161621</td>\n",
       "      <td>0.183745</td>\n",
       "      <td>0.030856</td>\n",
       "      <td>0.520962</td>\n",
       "      <td>0.012664</td>\n",
       "      <td>0.447496</td>\n",
       "      <td>0.401370</td>\n",
       "      <td>-1.042043</td>\n",
       "      <td>-0.450998</td>\n",
       "      <td>0.012507</td>\n",
       "      <td>1.0</td>\n",
       "    </tr>\n",
       "    <tr>\n",
       "      <th>2</th>\n",
       "      <td>0.597485</td>\n",
       "      <td>0.747634</td>\n",
       "      <td>0.527700</td>\n",
       "      <td>0.000000</td>\n",
       "      <td>0.000000</td>\n",
       "      <td>0.000000</td>\n",
       "      <td>1.000000</td>\n",
       "      <td>0.000000</td>\n",
       "      <td>0.000000</td>\n",
       "      <td>0.431503</td>\n",
       "      <td>0.384225</td>\n",
       "      <td>1.365591</td>\n",
       "      <td>7.222693</td>\n",
       "      <td>0.005677</td>\n",
       "      <td>2.0</td>\n",
       "    </tr>\n",
       "  </tbody>\n",
       "</table>\n",
       "</div>"
      ],
      "text/plain": [
       "                yeojohnson_revenue_in_eur_bin   is_EMEA  is_Webshop  \\\n",
       "cluster_kmeans                                                        \n",
       "0                                    0.705785  0.797162    0.457371   \n",
       "1                                    0.469888  0.753112    0.489736   \n",
       "2                                    0.597485  0.747634    0.527700   \n",
       "\n",
       "                is_industry_FinanceInsuranceRealEstate  \\\n",
       "cluster_kmeans                                           \n",
       "0                                             0.000000   \n",
       "1                                             0.090151   \n",
       "2                                             0.000000   \n",
       "\n",
       "                is_industry_Manufacturing  is_industry_Other  \\\n",
       "cluster_kmeans                                                 \n",
       "0                                0.000000           0.000000   \n",
       "1                                0.161621           0.183745   \n",
       "2                                0.000000           0.000000   \n",
       "\n",
       "                is_industry_RetailTrade  is_industry_Services  \\\n",
       "cluster_kmeans                                                  \n",
       "0                              0.000000              0.000000   \n",
       "1                              0.030856              0.520962   \n",
       "2                              1.000000              0.000000   \n",
       "\n",
       "                is_industry_WholesaleTrade  license_value_score  \\\n",
       "cluster_kmeans                                                    \n",
       "0                                 1.000000             0.491359   \n",
       "1                                 0.012664             0.447496   \n",
       "2                                 0.000000             0.431503   \n",
       "\n",
       "                customer_value_score  Component 1  Component 2  Component 3  \\\n",
       "cluster_kmeans                                                                \n",
       "0                           0.446935     8.746019    -1.580352    -0.122875   \n",
       "1                           0.401370    -1.042043    -0.450998     0.012507   \n",
       "2                           0.384225     1.365591     7.222693     0.005677   \n",
       "\n",
       "                clusters  \n",
       "cluster_kmeans            \n",
       "0                    0.0  \n",
       "1                    1.0  \n",
       "2                    2.0  "
      ]
     },
     "execution_count": 29,
     "metadata": {},
     "output_type": "execute_result"
    }
   ],
   "source": [
    "# Fit the KMeans model\n",
    "kmeans = KMeans(n_clusters=3, random_state=0).fit(features_pca)\n",
    "\n",
    "# Get the cluster labels\n",
    "cluster_labels = kmeans.labels_\n",
    "\n",
    "# Get the cluster centers\n",
    "cluster_centers = kmeans.cluster_centers_\n",
    "\n",
    "df_pca = pd.concat([df.reset_index(drop=True), pd.DataFrame(features_pca)], axis=1)\n",
    "df_pca.columns.values[-3: ] = ['Component 1', 'Component 2', 'Component 3']\n",
    "df_pca['clusters'] = kmeans.labels_\n",
    "df_pca['cluster_kmeans'] = kmeans.predict(features_pca)\n",
    "df_latex = df_pca.groupby(['cluster_kmeans']).mean()\n",
    "df_latex"
   ]
  },
  {
   "cell_type": "code",
   "execution_count": 30,
   "metadata": {},
   "outputs": [],
   "source": [
    "df_latex.drop(columns=['Component 1', 'Component 2', 'Component 3', 'clusters'], inplace=True)\n",
    "df_latex = df_latex.T"
   ]
  },
  {
   "cell_type": "code",
   "execution_count": 31,
   "metadata": {},
   "outputs": [
    {
     "data": {
      "text/html": [
       "<div>\n",
       "<style scoped>\n",
       "    .dataframe tbody tr th:only-of-type {\n",
       "        vertical-align: middle;\n",
       "    }\n",
       "\n",
       "    .dataframe tbody tr th {\n",
       "        vertical-align: top;\n",
       "    }\n",
       "\n",
       "    .dataframe thead th {\n",
       "        text-align: right;\n",
       "    }\n",
       "</style>\n",
       "<table border=\"1\" class=\"dataframe\">\n",
       "  <thead>\n",
       "    <tr style=\"text-align: right;\">\n",
       "      <th>cluster_kmeans</th>\n",
       "      <th>0</th>\n",
       "      <th>1</th>\n",
       "      <th>2</th>\n",
       "    </tr>\n",
       "  </thead>\n",
       "  <tbody>\n",
       "    <tr>\n",
       "      <th>yeojohnson_revenue_in_eur_bin</th>\n",
       "      <td>0.705785</td>\n",
       "      <td>0.469888</td>\n",
       "      <td>0.597485</td>\n",
       "    </tr>\n",
       "    <tr>\n",
       "      <th>is_EMEA</th>\n",
       "      <td>0.797162</td>\n",
       "      <td>0.753112</td>\n",
       "      <td>0.747634</td>\n",
       "    </tr>\n",
       "    <tr>\n",
       "      <th>is_Webshop</th>\n",
       "      <td>0.457371</td>\n",
       "      <td>0.489736</td>\n",
       "      <td>0.527700</td>\n",
       "    </tr>\n",
       "    <tr>\n",
       "      <th>is_industry_FinanceInsuranceRealEstate</th>\n",
       "      <td>0.000000</td>\n",
       "      <td>0.090151</td>\n",
       "      <td>0.000000</td>\n",
       "    </tr>\n",
       "    <tr>\n",
       "      <th>is_industry_Manufacturing</th>\n",
       "      <td>0.000000</td>\n",
       "      <td>0.161621</td>\n",
       "      <td>0.000000</td>\n",
       "    </tr>\n",
       "    <tr>\n",
       "      <th>is_industry_Other</th>\n",
       "      <td>0.000000</td>\n",
       "      <td>0.183745</td>\n",
       "      <td>0.000000</td>\n",
       "    </tr>\n",
       "    <tr>\n",
       "      <th>is_industry_RetailTrade</th>\n",
       "      <td>0.000000</td>\n",
       "      <td>0.030856</td>\n",
       "      <td>1.000000</td>\n",
       "    </tr>\n",
       "    <tr>\n",
       "      <th>is_industry_Services</th>\n",
       "      <td>0.000000</td>\n",
       "      <td>0.520962</td>\n",
       "      <td>0.000000</td>\n",
       "    </tr>\n",
       "    <tr>\n",
       "      <th>is_industry_WholesaleTrade</th>\n",
       "      <td>1.000000</td>\n",
       "      <td>0.012664</td>\n",
       "      <td>0.000000</td>\n",
       "    </tr>\n",
       "    <tr>\n",
       "      <th>license_value_score</th>\n",
       "      <td>0.491359</td>\n",
       "      <td>0.447496</td>\n",
       "      <td>0.431503</td>\n",
       "    </tr>\n",
       "    <tr>\n",
       "      <th>customer_value_score</th>\n",
       "      <td>0.446935</td>\n",
       "      <td>0.401370</td>\n",
       "      <td>0.384225</td>\n",
       "    </tr>\n",
       "  </tbody>\n",
       "</table>\n",
       "</div>"
      ],
      "text/plain": [
       "cluster_kmeans                                 0         1         2\n",
       "yeojohnson_revenue_in_eur_bin           0.705785  0.469888  0.597485\n",
       "is_EMEA                                 0.797162  0.753112  0.747634\n",
       "is_Webshop                              0.457371  0.489736  0.527700\n",
       "is_industry_FinanceInsuranceRealEstate  0.000000  0.090151  0.000000\n",
       "is_industry_Manufacturing               0.000000  0.161621  0.000000\n",
       "is_industry_Other                       0.000000  0.183745  0.000000\n",
       "is_industry_RetailTrade                 0.000000  0.030856  1.000000\n",
       "is_industry_Services                    0.000000  0.520962  0.000000\n",
       "is_industry_WholesaleTrade              1.000000  0.012664  0.000000\n",
       "license_value_score                     0.491359  0.447496  0.431503\n",
       "customer_value_score                    0.446935  0.401370  0.384225"
      ]
     },
     "execution_count": 31,
     "metadata": {},
     "output_type": "execute_result"
    }
   ],
   "source": [
    "df_latex"
   ]
  },
  {
   "cell_type": "code",
   "execution_count": 32,
   "metadata": {},
   "outputs": [
    {
     "name": "stdout",
     "output_type": "stream",
     "text": [
      "\\begin{table}[H]\n",
      "\\centering\n",
      "\\caption{Average Values of each feature per Cluster}\n",
      "\\label{tab:avg_clusters}\n",
      "\\begin{tabular}{cccc}\n",
      "\\toprule\n",
      "    0 &     1 &     2 \\\\\n",
      "\\midrule\n",
      "0.706 & 0.470 & 0.597 \\\\\n",
      "0.797 & 0.753 & 0.748 \\\\\n",
      "0.457 & 0.490 & 0.528 \\\\\n",
      "0.000 & 0.090 & 0.000 \\\\\n",
      "0.000 & 0.162 & 0.000 \\\\\n",
      "0.000 & 0.184 & 0.000 \\\\\n",
      "0.000 & 0.031 & 1.000 \\\\\n",
      "0.000 & 0.521 & 0.000 \\\\\n",
      "1.000 & 0.013 & 0.000 \\\\\n",
      "0.491 & 0.447 & 0.432 \\\\\n",
      "0.447 & 0.401 & 0.384 \\\\\n",
      "\\bottomrule\n",
      "\\end{tabular}\n",
      "\\end{table}\n",
      "\n"
     ]
    }
   ],
   "source": [
    "latex_table = df_latex.to_latex(\n",
    "    index=False,  # To not include the DataFrame index as a column in the table\n",
    "    caption=\"Average Values of each feature per Cluster\",  # The caption to appear above the table in the LaTeX document\n",
    "    label=\"tab:avg_clusters\",  # A label used for referencing the table within the LaTeX document\n",
    "    position=\"H\",  # The preferred positions where the table should be placed in the document ('here', 'top', 'bottom', 'page')\n",
    "    column_format=\"cccc\",  # The format of the columns: left-aligned with vertical lines between them\n",
    "    escape=False,  # Disable escaping LaTeX special characters in the DataFrame\n",
    "    float_format=\"{:0.3f}\".format  # Formats floats to two decimal places\n",
    ")\n",
    "\n",
    "print(latex_table)"
   ]
  },
  {
   "cell_type": "code",
   "execution_count": 33,
   "metadata": {},
   "outputs": [
    {
     "data": {
      "text/plain": [
       "1    83937\n",
       "0     8879\n",
       "2     7184\n",
       "Name: cluster_kmeans, dtype: int64"
      ]
     },
     "execution_count": 33,
     "metadata": {},
     "output_type": "execute_result"
    }
   ],
   "source": [
    "df_pca.cluster_kmeans.value_counts()"
   ]
  },
  {
   "cell_type": "code",
   "execution_count": 34,
   "metadata": {},
   "outputs": [
    {
     "data": {
      "image/png": "[encoded data removed]",
      "text/plain": [
       "<Figure size 1000x500 with 2 Axes>"
      ]
     },
     "metadata": {},
     "output_type": "display_data"
    }
   ],
   "source": [
    "# Visualize the correlation matrix\n",
    "plt.figure(figsize=(10,5))\n",
    "sns.heatmap(df_pca.groupby(['cluster_kmeans']).mean(), cmap='coolwarm', annot=True)\n",
    "plt.show()"
   ]
  },
  {
   "cell_type": "code",
   "execution_count": 35,
   "metadata": {},
   "outputs": [
    {
     "data": {
      "application/vnd.plotly.v1+json": {
       "config": {
        "plotlyServerURL": "https://plot.ly"
       },
       "data": [
        {
         "hovertemplate": "label=0<br>value=%{r}<br>variable=%{theta}<extra></extra>",
         "legendgroup": "0",
         "line": {
          "color": "#636efa",
          "dash": "solid"
         },
         "marker": {
          "symbol": "circle"
         },
         "mode": "lines",
         "name": "0",
         "r": [
          0.7057851860194466,
          0.7971618425498367,
          0.4573713255997297,
          0,
          0,
          0,
          0,
          0,
          1,
          0.4913589969313093,
          0.4469347036215499,
          0.7057851860194466
         ],
         "showlegend": true,
         "subplot": "polar",
         "theta": [
          "yeojohnson_revenue_in_eur_bin",
          "is_EMEA",
          "is_Webshop",
          "is_industry_FinanceInsuranceRealEstate",
          "is_industry_Manufacturing",
          "is_industry_Other",
          "is_industry_RetailTrade",
          "is_industry_Services",
          "is_industry_WholesaleTrade",
          "license_value_score",
          "customer_value_score",
          "yeojohnson_revenue_in_eur_bin"
         ],
         "type": "scatterpolar"
        },
        {
         "hovertemplate": "label=1<br>value=%{r}<br>variable=%{theta}<extra></extra>",
         "legendgroup": "1",
         "line": {
          "color": "#EF553B",
          "dash": "solid"
         },
         "marker": {
          "symbol": "circle"
         },
         "mode": "lines",
         "name": "1",
         "r": [
          0.4698881303835019,
          0.7531124533876598,
          0.4897363498814587,
          0.09015094654324077,
          0.16162121591193396,
          0.18374495157082096,
          0.030856475690100908,
          0.5209621501840667,
          0.012664260099836783,
          0.447495636329921,
          0.401370129183427,
          0.4698881303835019
         ],
         "showlegend": true,
         "subplot": "polar",
         "theta": [
          "yeojohnson_revenue_in_eur_bin",
          "is_EMEA",
          "is_Webshop",
          "is_industry_FinanceInsuranceRealEstate",
          "is_industry_Manufacturing",
          "is_industry_Other",
          "is_industry_RetailTrade",
          "is_industry_Services",
          "is_industry_WholesaleTrade",
          "license_value_score",
          "customer_value_score",
          "yeojohnson_revenue_in_eur_bin"
         ],
         "type": "scatterpolar"
        },
        {
         "hovertemplate": "label=2<br>value=%{r}<br>variable=%{theta}<extra></extra>",
         "legendgroup": "2",
         "line": {
          "color": "#00cc96",
          "dash": "solid"
         },
         "marker": {
          "symbol": "circle"
         },
         "mode": "lines",
         "name": "2",
         "r": [
          0.5974851521900519,
          0.7476336302895323,
          0.5277004454342984,
          0,
          0,
          0,
          1,
          0,
          0,
          0.4315025865649879,
          0.3842250387394226,
          0.5974851521900519
         ],
         "showlegend": true,
         "subplot": "polar",
         "theta": [
          "yeojohnson_revenue_in_eur_bin",
          "is_EMEA",
          "is_Webshop",
          "is_industry_FinanceInsuranceRealEstate",
          "is_industry_Manufacturing",
          "is_industry_Other",
          "is_industry_RetailTrade",
          "is_industry_Services",
          "is_industry_WholesaleTrade",
          "license_value_score",
          "customer_value_score",
          "yeojohnson_revenue_in_eur_bin"
         ],
         "type": "scatterpolar"
        }
       ],
       "layout": {
        "height": 800,
        "legend": {
         "title": {
          "text": "label"
         },
         "tracegroupgap": 0
        },
        "polar": {
         "angularaxis": {
          "direction": "clockwise",
          "rotation": 90
         },
         "domain": {
          "x": [
           0,
           1
          ],
          "y": [
           0,
           1
          ]
         }
        },
        "template": {
         "data": {
          "bar": [
           {
            "error_x": {
             "color": "#2a3f5f"
            },
            "error_y": {
             "color": "#2a3f5f"
            },
            "marker": {
             "line": {
              "color": "#E5ECF6",
              "width": 0.5
             },
             "pattern": {
              "fillmode": "overlay",
              "size": 10,
              "solidity": 0.2
             }
            },
            "type": "bar"
           }
          ],
          "barpolar": [
           {
            "marker": {
             "line": {
              "color": "#E5ECF6",
              "width": 0.5
             },
             "pattern": {
              "fillmode": "overlay",
              "size": 10,
              "solidity": 0.2
             }
            },
            "type": "barpolar"
           }
          ],
          "carpet": [
           {
            "aaxis": {
             "endlinecolor": "#2a3f5f",
             "gridcolor": "white",
             "linecolor": "white",
             "minorgridcolor": "white",
             "startlinecolor": "#2a3f5f"
            },
            "baxis": {
             "endlinecolor": "#2a3f5f",
             "gridcolor": "white",
             "linecolor": "white",
             "minorgridcolor": "white",
             "startlinecolor": "#2a3f5f"
            },
            "type": "carpet"
           }
          ],
          "choropleth": [
           {
            "colorbar": {
             "outlinewidth": 0,
             "ticks": ""
            },
            "type": "choropleth"
           }
          ],
          "contour": [
           {
            "colorbar": {
             "outlinewidth": 0,
             "ticks": ""
            },
            "colorscale": [
             [
              0,
              "#0d0887"
             ],
             [
              0.1111111111111111,
              "#46039f"
             ],
             [
              0.2222222222222222,
              "#7201a8"
             ],
             [
              0.3333333333333333,
              "#9c179e"
             ],
             [
              0.4444444444444444,
              "#bd3786"
             ],
             [
              0.5555555555555556,
              "#d8576b"
             ],
             [
              0.6666666666666666,
              "#ed7953"
             ],
             [
              0.7777777777777778,
              "#fb9f3a"
             ],
             [
              0.8888888888888888,
              "#fdca26"
             ],
             [
              1,
              "#f0f921"
             ]
            ],
            "type": "contour"
           }
          ],
          "contourcarpet": [
           {
            "colorbar": {
             "outlinewidth": 0,
             "ticks": ""
            },
            "type": "contourcarpet"
           }
          ],
          "heatmap": [
           {
            "colorbar": {
             "outlinewidth": 0,
             "ticks": ""
            },
            "colorscale": [
             [
              0,
              "#0d0887"
             ],
             [
              0.1111111111111111,
              "#46039f"
             ],
             [
              0.2222222222222222,
              "#7201a8"
             ],
             [
              0.3333333333333333,
              "#9c179e"
             ],
             [
              0.4444444444444444,
              "#bd3786"
             ],
             [
              0.5555555555555556,
              "#d8576b"
             ],
             [
              0.6666666666666666,
              "#ed7953"
             ],
             [
              0.7777777777777778,
              "#fb9f3a"
             ],
             [
              0.8888888888888888,
              "#fdca26"
             ],
             [
              1,
              "#f0f921"
             ]
            ],
            "type": "heatmap"
           }
          ],
          "heatmapgl": [
           {
            "colorbar": {
             "outlinewidth": 0,
             "ticks": ""
            },
            "colorscale": [
             [
              0,
              "#0d0887"
             ],
             [
              0.1111111111111111,
              "#46039f"
             ],
             [
              0.2222222222222222,
              "#7201a8"
             ],
             [
              0.3333333333333333,
              "#9c179e"
             ],
             [
              0.4444444444444444,
              "#bd3786"
             ],
             [
              0.5555555555555556,
              "#d8576b"
             ],
             [
              0.6666666666666666,
              "#ed7953"
             ],
             [
              0.7777777777777778,
              "#fb9f3a"
             ],
             [
              0.8888888888888888,
              "#fdca26"
             ],
             [
              1,
              "#f0f921"
             ]
            ],
            "type": "heatmapgl"
           }
          ],
          "histogram": [
           {
            "marker": {
             "pattern": {
              "fillmode": "overlay",
              "size": 10,
              "solidity": 0.2
             }
            },
            "type": "histogram"
           }
          ],
          "histogram2d": [
           {
            "colorbar": {
             "outlinewidth": 0,
             "ticks": ""
            },
            "colorscale": [
             [
              0,
              "#0d0887"
             ],
             [
              0.1111111111111111,
              "#46039f"
             ],
             [
              0.2222222222222222,
              "#7201a8"
             ],
             [
              0.3333333333333333,
              "#9c179e"
             ],
             [
              0.4444444444444444,
              "#bd3786"
             ],
             [
              0.5555555555555556,
              "#d8576b"
             ],
             [
              0.6666666666666666,
              "#ed7953"
             ],
             [
              0.7777777777777778,
              "#fb9f3a"
             ],
             [
              0.8888888888888888,
              "#fdca26"
             ],
             [
              1,
              "#f0f921"
             ]
            ],
            "type": "histogram2d"
           }
          ],
          "histogram2dcontour": [
           {
            "colorbar": {
             "outlinewidth": 0,
             "ticks": ""
            },
            "colorscale": [
             [
              0,
              "#0d0887"
             ],
             [
              0.1111111111111111,
              "#46039f"
             ],
             [
              0.2222222222222222,
              "#7201a8"
             ],
             [
              0.3333333333333333,
              "#9c179e"
             ],
             [
              0.4444444444444444,
              "#bd3786"
             ],
             [
              0.5555555555555556,
              "#d8576b"
             ],
             [
              0.6666666666666666,
              "#ed7953"
             ],
             [
              0.7777777777777778,
              "#fb9f3a"
             ],
             [
              0.8888888888888888,
              "#fdca26"
             ],
             [
              1,
              "#f0f921"
             ]
            ],
            "type": "histogram2dcontour"
           }
          ],
          "mesh3d": [
           {
            "colorbar": {
             "outlinewidth": 0,
             "ticks": ""
            },
            "type": "mesh3d"
           }
          ],
          "parcoords": [
           {
            "line": {
             "colorbar": {
              "outlinewidth": 0,
              "ticks": ""
             }
            },
            "type": "parcoords"
           }
          ],
          "pie": [
           {
            "automargin": true,
            "type": "pie"
           }
          ],
          "scatter": [
           {
            "fillpattern": {
             "fillmode": "overlay",
             "size": 10,
             "solidity": 0.2
            },
            "type": "scatter"
           }
          ],
          "scatter3d": [
           {
            "line": {
             "colorbar": {
              "outlinewidth": 0,
              "ticks": ""
             }
            },
            "marker": {
             "colorbar": {
              "outlinewidth": 0,
              "ticks": ""
             }
            },
            "type": "scatter3d"
           }
          ],
          "scattercarpet": [
           {
            "marker": {
             "colorbar": {
              "outlinewidth": 0,
              "ticks": ""
             }
            },
            "type": "scattercarpet"
           }
          ],
          "scattergeo": [
           {
            "marker": {
             "colorbar": {
              "outlinewidth": 0,
              "ticks": ""
             }
            },
            "type": "scattergeo"
           }
          ],
          "scattergl": [
           {
            "marker": {
             "colorbar": {
              "outlinewidth": 0,
              "ticks": ""
             }
            },
            "type": "scattergl"
           }
          ],
          "scattermapbox": [
           {
            "marker": {
             "colorbar": {
              "outlinewidth": 0,
              "ticks": ""
             }
            },
            "type": "scattermapbox"
           }
          ],
          "scatterpolar": [
           {
            "marker": {
             "colorbar": {
              "outlinewidth": 0,
              "ticks": ""
             }
            },
            "type": "scatterpolar"
           }
          ],
          "scatterpolargl": [
           {
            "marker": {
             "colorbar": {
              "outlinewidth": 0,
              "ticks": ""
             }
            },
            "type": "scatterpolargl"
           }
          ],
          "scatterternary": [
           {
            "marker": {
             "colorbar": {
              "outlinewidth": 0,
              "ticks": ""
             }
            },
            "type": "scatterternary"
           }
          ],
          "surface": [
           {
            "colorbar": {
             "outlinewidth": 0,
             "ticks": ""
            },
            "colorscale": [
             [
              0,
              "#0d0887"
             ],
             [
              0.1111111111111111,
              "#46039f"
             ],
             [
              0.2222222222222222,
              "#7201a8"
             ],
             [
              0.3333333333333333,
              "#9c179e"
             ],
             [
              0.4444444444444444,
              "#bd3786"
             ],
             [
              0.5555555555555556,
              "#d8576b"
             ],
             [
              0.6666666666666666,
              "#ed7953"
             ],
             [
              0.7777777777777778,
              "#fb9f3a"
             ],
             [
              0.8888888888888888,
              "#fdca26"
             ],
             [
              1,
              "#f0f921"
             ]
            ],
            "type": "surface"
           }
          ],
          "table": [
           {
            "cells": {
             "fill": {
              "color": "#EBF0F8"
             },
             "line": {
              "color": "white"
             }
            },
            "header": {
             "fill": {
              "color": "#C8D4E3"
             },
             "line": {
              "color": "white"
             }
            },
            "type": "table"
           }
          ]
         },
         "layout": {
          "annotationdefaults": {
           "arrowcolor": "#2a3f5f",
           "arrowhead": 0,
           "arrowwidth": 1
          },
          "autotypenumbers": "strict",
          "coloraxis": {
           "colorbar": {
            "outlinewidth": 0,
            "ticks": ""
           }
          },
          "colorscale": {
           "diverging": [
            [
             0,
             "#8e0152"
            ],
            [
             0.1,
             "#c51b7d"
            ],
            [
             0.2,
             "#de77ae"
            ],
            [
             0.3,
             "#f1b6da"
            ],
            [
             0.4,
             "#fde0ef"
            ],
            [
             0.5,
             "#f7f7f7"
            ],
            [
             0.6,
             "#e6f5d0"
            ],
            [
             0.7,
             "#b8e186"
            ],
            [
             0.8,
             "#7fbc41"
            ],
            [
             0.9,
             "#4d9221"
            ],
            [
             1,
             "#276419"
            ]
           ],
           "sequential": [
            [
             0,
             "#0d0887"
            ],
            [
             0.1111111111111111,
             "#46039f"
            ],
            [
             0.2222222222222222,
             "#7201a8"
            ],
            [
             0.3333333333333333,
             "#9c179e"
            ],
            [
             0.4444444444444444,
             "#bd3786"
            ],
            [
             0.5555555555555556,
             "#d8576b"
            ],
            [
             0.6666666666666666,
             "#ed7953"
            ],
            [
             0.7777777777777778,
             "#fb9f3a"
            ],
            [
             0.8888888888888888,
             "#fdca26"
            ],
            [
             1,
             "#f0f921"
            ]
           ],
           "sequentialminus": [
            [
             0,
             "#0d0887"
            ],
            [
             0.1111111111111111,
             "#46039f"
            ],
            [
             0.2222222222222222,
             "#7201a8"
            ],
            [
             0.3333333333333333,
             "#9c179e"
            ],
            [
             0.4444444444444444,
             "#bd3786"
            ],
            [
             0.5555555555555556,
             "#d8576b"
            ],
            [
             0.6666666666666666,
             "#ed7953"
            ],
            [
             0.7777777777777778,
             "#fb9f3a"
            ],
            [
             0.8888888888888888,
             "#fdca26"
            ],
            [
             1,
             "#f0f921"
            ]
           ]
          },
          "colorway": [
           "#636efa",
           "#EF553B",
           "#00cc96",
           "#ab63fa",
           "#FFA15A",
           "#19d3f3",
           "#FF6692",
           "#B6E880",
           "#FF97FF",
           "#FECB52"
          ],
          "font": {
           "color": "#2a3f5f"
          },
          "geo": {
           "bgcolor": "white",
           "lakecolor": "white",
           "landcolor": "#E5ECF6",
           "showlakes": true,
           "showland": true,
           "subunitcolor": "white"
          },
          "hoverlabel": {
           "align": "left"
          },
          "hovermode": "closest",
          "mapbox": {
           "style": "light"
          },
          "paper_bgcolor": "white",
          "plot_bgcolor": "#E5ECF6",
          "polar": {
           "angularaxis": {
            "gridcolor": "white",
            "linecolor": "white",
            "ticks": ""
           },
           "bgcolor": "#E5ECF6",
           "radialaxis": {
            "gridcolor": "white",
            "linecolor": "white",
            "ticks": ""
           }
          },
          "scene": {
           "xaxis": {
            "backgroundcolor": "#E5ECF6",
            "gridcolor": "white",
            "gridwidth": 2,
            "linecolor": "white",
            "showbackground": true,
            "ticks": "",
            "zerolinecolor": "white"
           },
           "yaxis": {
            "backgroundcolor": "#E5ECF6",
            "gridcolor": "white",
            "gridwidth": 2,
            "linecolor": "white",
            "showbackground": true,
            "ticks": "",
            "zerolinecolor": "white"
           },
           "zaxis": {
            "backgroundcolor": "#E5ECF6",
            "gridcolor": "white",
            "gridwidth": 2,
            "linecolor": "white",
            "showbackground": true,
            "ticks": "",
            "zerolinecolor": "white"
           }
          },
          "shapedefaults": {
           "line": {
            "color": "#2a3f5f"
           }
          },
          "ternary": {
           "aaxis": {
            "gridcolor": "white",
            "linecolor": "white",
            "ticks": ""
           },
           "baxis": {
            "gridcolor": "white",
            "linecolor": "white",
            "ticks": ""
           },
           "bgcolor": "#E5ECF6",
           "caxis": {
            "gridcolor": "white",
            "linecolor": "white",
            "ticks": ""
           }
          },
          "title": {
           "x": 0.05
          },
          "xaxis": {
           "automargin": true,
           "gridcolor": "white",
           "linecolor": "white",
           "ticks": "",
           "title": {
            "standoff": 15
           },
           "zerolinecolor": "white",
           "zerolinewidth": 2
          },
          "yaxis": {
           "automargin": true,
           "gridcolor": "white",
           "linecolor": "white",
           "ticks": "",
           "title": {
            "standoff": 15
           },
           "zerolinecolor": "white",
           "zerolinewidth": 2
          }
         }
        },
        "title": {
         "text": "AE Embedding Model 10-Feature Set Radar Chart"
        },
        "width": 1200
       }
      }
     },
     "metadata": {},
     "output_type": "display_data"
    }
   ],
   "source": [
    "clusters=pd.DataFrame(features, columns=features_df.columns)\n",
    "clusters['label']=kmeans.labels_\n",
    "polar=clusters.groupby(\"label\").mean().reset_index()\n",
    "polar=pd.melt(polar,id_vars=[\"label\"])\n",
    "fig = px.line_polar(polar, r=\"value\", theta=\"variable\", color=\"label\", \n",
    "                    line_close=True,\n",
    "                    height=800,\n",
    "                    width=1200, \n",
    "                    title=\"AE Embedding Model 10-Feature Set Radar Chart\")\n",
    "fig.show()"
   ]
  },
  {
   "cell_type": "code",
   "execution_count": 36,
   "metadata": {},
   "outputs": [
    {
     "data": {
      "text/html": [
       "<div>\n",
       "<style scoped>\n",
       "    .dataframe tbody tr th:only-of-type {\n",
       "        vertical-align: middle;\n",
       "    }\n",
       "\n",
       "    .dataframe tbody tr th {\n",
       "        vertical-align: top;\n",
       "    }\n",
       "\n",
       "    .dataframe thead th {\n",
       "        text-align: right;\n",
       "    }\n",
       "</style>\n",
       "<table border=\"1\" class=\"dataframe\">\n",
       "  <thead>\n",
       "    <tr style=\"text-align: right;\">\n",
       "      <th></th>\n",
       "      <th>cluster</th>\n",
       "      <th>count</th>\n",
       "    </tr>\n",
       "  </thead>\n",
       "  <tbody>\n",
       "    <tr>\n",
       "      <th>0</th>\n",
       "      <td>0</td>\n",
       "      <td>8879</td>\n",
       "    </tr>\n",
       "    <tr>\n",
       "      <th>1</th>\n",
       "      <td>1</td>\n",
       "      <td>83937</td>\n",
       "    </tr>\n",
       "    <tr>\n",
       "      <th>2</th>\n",
       "      <td>2</td>\n",
       "      <td>7184</td>\n",
       "    </tr>\n",
       "  </tbody>\n",
       "</table>\n",
       "</div>"
      ],
      "text/plain": [
       "   cluster  count\n",
       "0        0   8879\n",
       "1        1  83937\n",
       "2        2   7184"
      ]
     },
     "execution_count": 36,
     "metadata": {},
     "output_type": "execute_result"
    }
   ],
   "source": [
    "clusters_df = clusters.groupby('label').size().reset_index()\n",
    "clusters_df.rename(columns={'label': 'cluster', 0: 'count'}, inplace=True)\n",
    "clusters_df"
   ]
  },
  {
   "cell_type": "code",
   "execution_count": 37,
   "metadata": {},
   "outputs": [
    {
     "data": {
      "image/png": "[encoded data removed]",
      "text/plain": [
       "<Figure size 640x480 with 1 Axes>"
      ]
     },
     "metadata": {},
     "output_type": "display_data"
    }
   ],
   "source": [
    "#define Seaborn color palette to use\n",
    "colors = sns.color_palette('pastel')[0:5]\n",
    "\n",
    "#create pie chart\n",
    "plt.pie(clusters_df['count'], labels = clusters_df['cluster'], colors = colors, autopct='%.0f%%')\n",
    "plt.title('AE Embedding Model 10-Feature Set Pie Chart')\n",
    "plt.show()"
   ]
  },
  {
   "cell_type": "markdown",
   "metadata": {},
   "source": [
    "## Evaluation"
   ]
  },
  {
   "cell_type": "code",
   "execution_count": 38,
   "metadata": {},
   "outputs": [
    {
     "name": "stdout",
     "output_type": "stream",
     "text": [
      "Silhouette Score: 0.807\n"
     ]
    }
   ],
   "source": [
    "# Calculate Silhouette Score\n",
    "silhouette_avg = silhouette_score(features_pca, cluster_labels)\n",
    "print(f'Silhouette Score: {silhouette_avg:.3f}')"
   ]
  },
  {
   "cell_type": "code",
   "execution_count": 39,
   "metadata": {},
   "outputs": [
    {
     "name": "stdout",
     "output_type": "stream",
     "text": [
      "Davies-Bouldin Index: 0.495\n"
     ]
    }
   ],
   "source": [
    "# Calculate Davies-Bouldin Index\n",
    "davies_bouldin_avg = davies_bouldin_score(features_pca, cluster_labels)\n",
    "print(f'Davies-Bouldin Index: {davies_bouldin_avg:.3f}')"
   ]
  }
 ],
 "metadata": {
  "kernelspec": {
   "display_name": "base",
   "language": "python",
   "name": "python3"
  },
  "language_info": {
   "codemirror_mode": {
    "name": "ipython",
    "version": 3
   },
   "file_extension": ".py",
   "mimetype": "text/x-python",
   "name": "python",
   "nbconvert_exporter": "python",
   "pygments_lexer": "ipython3",
   "version": "3.9.13"
  }
 },
 "nbformat": 4,
 "nbformat_minor": 2
}
