{
 "cells": [
  {
   "cell_type": "markdown",
   "metadata": {},
   "source": [
    "# FT-Transformer Model"
   ]
  },
  {
   "cell_type": "code",
   "execution_count": 32,
   "metadata": {},
   "outputs": [],
   "source": [
    "import matplotlib.pyplot as plt \n",
    "from matplotlib.lines import Line2D  # For custom legend markers\n",
    "import numpy as np\n",
    "import pandas as pd\n",
    "import plotly.express as px\n",
    "import seaborn as sns\n",
    "from sklearn.cluster import KMeans\n",
    "from sklearn.metrics import silhouette_score, davies_bouldin_score\n",
    "from sklearn.decomposition import PCA\n",
    "import tensorflow as tf\n",
    "from tensorflow.keras.models import Model\n",
    "from tensorflow.keras.layers import Input, Dense, Dropout, LayerNormalization, MultiHeadAttention, GlobalAveragePooling1D\n",
    "from tensorflow.keras.callbacks import EarlyStopping\n",
    "import warnings # ignore warnings\n",
    "warnings.filterwarnings('ignore')"
   ]
  },
  {
   "cell_type": "code",
   "execution_count": 2,
   "metadata": {},
   "outputs": [],
   "source": [
    "df = pd.read_csv('../data/final_df_normalized.csv', sep='|') "
   ]
  },
  {
   "cell_type": "code",
   "execution_count": 3,
   "metadata": {},
   "outputs": [
    {
     "name": "stdout",
     "output_type": "stream",
     "text": [
      "<class 'pandas.core.frame.DataFrame'>\n",
      "RangeIndex: 100000 entries, 0 to 99999\n",
      "Data columns (total 12 columns):\n",
      " #   Column                                  Non-Null Count   Dtype  \n",
      "---  ------                                  --------------   -----  \n",
      " 0   account_id                              100000 non-null  object \n",
      " 1   yeojohnson_revenue_in_eur_bin           100000 non-null  float64\n",
      " 2   is_EMEA                                 100000 non-null  int64  \n",
      " 3   is_Webshop                              100000 non-null  int64  \n",
      " 4   is_industry_FinanceInsuranceRealEstate  100000 non-null  int64  \n",
      " 5   is_industry_Manufacturing               100000 non-null  int64  \n",
      " 6   is_industry_Other                       100000 non-null  int64  \n",
      " 7   is_industry_RetailTrade                 100000 non-null  int64  \n",
      " 8   is_industry_Services                    100000 non-null  int64  \n",
      " 9   is_industry_WholesaleTrade              100000 non-null  int64  \n",
      " 10  license_value_score                     100000 non-null  float64\n",
      " 11  customer_value_score                    100000 non-null  float64\n",
      "dtypes: float64(3), int64(8), object(1)\n",
      "memory usage: 9.2+ MB\n"
     ]
    }
   ],
   "source": [
    "df.info()"
   ]
  },
  {
   "cell_type": "code",
   "execution_count": 4,
   "metadata": {},
   "outputs": [
    {
     "data": {
      "text/html": [
       "<div>\n",
       "<style scoped>\n",
       "    .dataframe tbody tr th:only-of-type {\n",
       "        vertical-align: middle;\n",
       "    }\n",
       "\n",
       "    .dataframe tbody tr th {\n",
       "        vertical-align: top;\n",
       "    }\n",
       "\n",
       "    .dataframe thead th {\n",
       "        text-align: right;\n",
       "    }\n",
       "</style>\n",
       "<table border=\"1\" class=\"dataframe\">\n",
       "  <thead>\n",
       "    <tr style=\"text-align: right;\">\n",
       "      <th></th>\n",
       "      <th>account_id</th>\n",
       "      <th>yeojohnson_revenue_in_eur_bin</th>\n",
       "      <th>is_EMEA</th>\n",
       "      <th>is_Webshop</th>\n",
       "      <th>is_industry_FinanceInsuranceRealEstate</th>\n",
       "      <th>is_industry_Manufacturing</th>\n",
       "      <th>is_industry_Other</th>\n",
       "      <th>is_industry_RetailTrade</th>\n",
       "      <th>is_industry_Services</th>\n",
       "      <th>is_industry_WholesaleTrade</th>\n",
       "      <th>license_value_score</th>\n",
       "      <th>customer_value_score</th>\n",
       "    </tr>\n",
       "  </thead>\n",
       "  <tbody>\n",
       "    <tr>\n",
       "      <th>0</th>\n",
       "      <td>ac6a99474410f1c59c91da3f0cf9cf3f</td>\n",
       "      <td>0.666667</td>\n",
       "      <td>0</td>\n",
       "      <td>1</td>\n",
       "      <td>0</td>\n",
       "      <td>0</td>\n",
       "      <td>0</td>\n",
       "      <td>0</td>\n",
       "      <td>1</td>\n",
       "      <td>0</td>\n",
       "      <td>0.225903</td>\n",
       "      <td>0.404288</td>\n",
       "    </tr>\n",
       "    <tr>\n",
       "      <th>1</th>\n",
       "      <td>1cc66628ed41f3db5a55195e93277a04</td>\n",
       "      <td>0.666667</td>\n",
       "      <td>0</td>\n",
       "      <td>1</td>\n",
       "      <td>0</td>\n",
       "      <td>0</td>\n",
       "      <td>0</td>\n",
       "      <td>0</td>\n",
       "      <td>0</td>\n",
       "      <td>1</td>\n",
       "      <td>0.692198</td>\n",
       "      <td>0.000000</td>\n",
       "    </tr>\n",
       "    <tr>\n",
       "      <th>2</th>\n",
       "      <td>db5f3cdd5629b9591b720b9b7e077df2</td>\n",
       "      <td>1.000000</td>\n",
       "      <td>0</td>\n",
       "      <td>1</td>\n",
       "      <td>0</td>\n",
       "      <td>0</td>\n",
       "      <td>0</td>\n",
       "      <td>0</td>\n",
       "      <td>1</td>\n",
       "      <td>0</td>\n",
       "      <td>0.025903</td>\n",
       "      <td>0.058008</td>\n",
       "    </tr>\n",
       "    <tr>\n",
       "      <th>3</th>\n",
       "      <td>bebb4028688f519f36ed220855b0a62f</td>\n",
       "      <td>1.000000</td>\n",
       "      <td>0</td>\n",
       "      <td>0</td>\n",
       "      <td>0</td>\n",
       "      <td>0</td>\n",
       "      <td>0</td>\n",
       "      <td>0</td>\n",
       "      <td>1</td>\n",
       "      <td>0</td>\n",
       "      <td>0.825945</td>\n",
       "      <td>0.703012</td>\n",
       "    </tr>\n",
       "    <tr>\n",
       "      <th>4</th>\n",
       "      <td>507c0bfb67895d773e3f8bd33b861d09</td>\n",
       "      <td>1.000000</td>\n",
       "      <td>0</td>\n",
       "      <td>0</td>\n",
       "      <td>1</td>\n",
       "      <td>0</td>\n",
       "      <td>0</td>\n",
       "      <td>0</td>\n",
       "      <td>0</td>\n",
       "      <td>0</td>\n",
       "      <td>0.826668</td>\n",
       "      <td>0.467596</td>\n",
       "    </tr>\n",
       "    <tr>\n",
       "      <th>5</th>\n",
       "      <td>b1267a5b953b7267de811510f838172b</td>\n",
       "      <td>0.666667</td>\n",
       "      <td>0</td>\n",
       "      <td>1</td>\n",
       "      <td>0</td>\n",
       "      <td>0</td>\n",
       "      <td>0</td>\n",
       "      <td>1</td>\n",
       "      <td>0</td>\n",
       "      <td>0</td>\n",
       "      <td>0.172568</td>\n",
       "      <td>0.270317</td>\n",
       "    </tr>\n",
       "    <tr>\n",
       "      <th>6</th>\n",
       "      <td>3315ad169d4d2e9080f1377c44377c7c</td>\n",
       "      <td>0.666667</td>\n",
       "      <td>0</td>\n",
       "      <td>0</td>\n",
       "      <td>0</td>\n",
       "      <td>0</td>\n",
       "      <td>0</td>\n",
       "      <td>0</td>\n",
       "      <td>1</td>\n",
       "      <td>0</td>\n",
       "      <td>0.784642</td>\n",
       "      <td>0.863665</td>\n",
       "    </tr>\n",
       "    <tr>\n",
       "      <th>7</th>\n",
       "      <td>8ca7b69eda1a06b32e60fff1c6db3b28</td>\n",
       "      <td>1.000000</td>\n",
       "      <td>0</td>\n",
       "      <td>0</td>\n",
       "      <td>0</td>\n",
       "      <td>0</td>\n",
       "      <td>1</td>\n",
       "      <td>0</td>\n",
       "      <td>0</td>\n",
       "      <td>0</td>\n",
       "      <td>0.530824</td>\n",
       "      <td>0.608520</td>\n",
       "    </tr>\n",
       "    <tr>\n",
       "      <th>8</th>\n",
       "      <td>5bd2eea4e2320b9246b41a8f54fb02d2</td>\n",
       "      <td>0.333333</td>\n",
       "      <td>0</td>\n",
       "      <td>0</td>\n",
       "      <td>0</td>\n",
       "      <td>0</td>\n",
       "      <td>0</td>\n",
       "      <td>0</td>\n",
       "      <td>1</td>\n",
       "      <td>0</td>\n",
       "      <td>0.925757</td>\n",
       "      <td>0.625388</td>\n",
       "    </tr>\n",
       "    <tr>\n",
       "      <th>9</th>\n",
       "      <td>bbfb03bca60fb0185be3f36d12c99b3f</td>\n",
       "      <td>0.666667</td>\n",
       "      <td>0</td>\n",
       "      <td>0</td>\n",
       "      <td>0</td>\n",
       "      <td>0</td>\n",
       "      <td>0</td>\n",
       "      <td>0</td>\n",
       "      <td>1</td>\n",
       "      <td>0</td>\n",
       "      <td>0.864130</td>\n",
       "      <td>0.635761</td>\n",
       "    </tr>\n",
       "  </tbody>\n",
       "</table>\n",
       "</div>"
      ],
      "text/plain": [
       "                         account_id  yeojohnson_revenue_in_eur_bin  is_EMEA  \\\n",
       "0  ac6a99474410f1c59c91da3f0cf9cf3f                       0.666667        0   \n",
       "1  1cc66628ed41f3db5a55195e93277a04                       0.666667        0   \n",
       "2  db5f3cdd5629b9591b720b9b7e077df2                       1.000000        0   \n",
       "3  bebb4028688f519f36ed220855b0a62f                       1.000000        0   \n",
       "4  507c0bfb67895d773e3f8bd33b861d09                       1.000000        0   \n",
       "5  b1267a5b953b7267de811510f838172b                       0.666667        0   \n",
       "6  3315ad169d4d2e9080f1377c44377c7c                       0.666667        0   \n",
       "7  8ca7b69eda1a06b32e60fff1c6db3b28                       1.000000        0   \n",
       "8  5bd2eea4e2320b9246b41a8f54fb02d2                       0.333333        0   \n",
       "9  bbfb03bca60fb0185be3f36d12c99b3f                       0.666667        0   \n",
       "\n",
       "   is_Webshop  is_industry_FinanceInsuranceRealEstate  \\\n",
       "0           1                                       0   \n",
       "1           1                                       0   \n",
       "2           1                                       0   \n",
       "3           0                                       0   \n",
       "4           0                                       1   \n",
       "5           1                                       0   \n",
       "6           0                                       0   \n",
       "7           0                                       0   \n",
       "8           0                                       0   \n",
       "9           0                                       0   \n",
       "\n",
       "   is_industry_Manufacturing  is_industry_Other  is_industry_RetailTrade  \\\n",
       "0                          0                  0                        0   \n",
       "1                          0                  0                        0   \n",
       "2                          0                  0                        0   \n",
       "3                          0                  0                        0   \n",
       "4                          0                  0                        0   \n",
       "5                          0                  0                        1   \n",
       "6                          0                  0                        0   \n",
       "7                          0                  1                        0   \n",
       "8                          0                  0                        0   \n",
       "9                          0                  0                        0   \n",
       "\n",
       "   is_industry_Services  is_industry_WholesaleTrade  license_value_score  \\\n",
       "0                     1                           0             0.225903   \n",
       "1                     0                           1             0.692198   \n",
       "2                     1                           0             0.025903   \n",
       "3                     1                           0             0.825945   \n",
       "4                     0                           0             0.826668   \n",
       "5                     0                           0             0.172568   \n",
       "6                     1                           0             0.784642   \n",
       "7                     0                           0             0.530824   \n",
       "8                     1                           0             0.925757   \n",
       "9                     1                           0             0.864130   \n",
       "\n",
       "   customer_value_score  \n",
       "0              0.404288  \n",
       "1              0.000000  \n",
       "2              0.058008  \n",
       "3              0.703012  \n",
       "4              0.467596  \n",
       "5              0.270317  \n",
       "6              0.863665  \n",
       "7              0.608520  \n",
       "8              0.625388  \n",
       "9              0.635761  "
      ]
     },
     "execution_count": 4,
     "metadata": {},
     "output_type": "execute_result"
    }
   ],
   "source": [
    "df.head(10)"
   ]
  },
  {
   "cell_type": "markdown",
   "metadata": {},
   "source": [
    "## Data Preprocessing"
   ]
  },
  {
   "cell_type": "code",
   "execution_count": 5,
   "metadata": {},
   "outputs": [],
   "source": [
    "# Preprocess the data\n",
    "\n",
    "# Extract features columns excluding 'account_id'\n",
    "features_df = df.drop(columns=['account_id'])\n",
    "\n",
    "# Convert DataFrame to numpy array\n",
    "features = features_df.to_numpy()\n",
    "\n",
    "# Selecting the last 2 Features\n",
    "scores_df = features_df.iloc[:, -2:]\n",
    "\n",
    "# Convert DataFrame to numpy array\n",
    "score_features = scores_df.to_numpy()"
   ]
  },
  {
   "cell_type": "code",
   "execution_count": 6,
   "metadata": {},
   "outputs": [
    {
     "data": {
      "text/html": [
       "<div>\n",
       "<style scoped>\n",
       "    .dataframe tbody tr th:only-of-type {\n",
       "        vertical-align: middle;\n",
       "    }\n",
       "\n",
       "    .dataframe tbody tr th {\n",
       "        vertical-align: top;\n",
       "    }\n",
       "\n",
       "    .dataframe thead th {\n",
       "        text-align: right;\n",
       "    }\n",
       "</style>\n",
       "<table border=\"1\" class=\"dataframe\">\n",
       "  <thead>\n",
       "    <tr style=\"text-align: right;\">\n",
       "      <th></th>\n",
       "      <th>yeojohnson_revenue_in_eur_bin</th>\n",
       "      <th>is_EMEA</th>\n",
       "      <th>is_Webshop</th>\n",
       "      <th>is_industry_FinanceInsuranceRealEstate</th>\n",
       "      <th>is_industry_Manufacturing</th>\n",
       "      <th>is_industry_Other</th>\n",
       "      <th>is_industry_RetailTrade</th>\n",
       "      <th>is_industry_Services</th>\n",
       "      <th>is_industry_WholesaleTrade</th>\n",
       "      <th>license_value_score</th>\n",
       "      <th>customer_value_score</th>\n",
       "    </tr>\n",
       "  </thead>\n",
       "  <tbody>\n",
       "    <tr>\n",
       "      <th>0</th>\n",
       "      <td>0.666667</td>\n",
       "      <td>0</td>\n",
       "      <td>1</td>\n",
       "      <td>0</td>\n",
       "      <td>0</td>\n",
       "      <td>0</td>\n",
       "      <td>0</td>\n",
       "      <td>1</td>\n",
       "      <td>0</td>\n",
       "      <td>0.225903</td>\n",
       "      <td>0.404288</td>\n",
       "    </tr>\n",
       "    <tr>\n",
       "      <th>1</th>\n",
       "      <td>0.666667</td>\n",
       "      <td>0</td>\n",
       "      <td>1</td>\n",
       "      <td>0</td>\n",
       "      <td>0</td>\n",
       "      <td>0</td>\n",
       "      <td>0</td>\n",
       "      <td>0</td>\n",
       "      <td>1</td>\n",
       "      <td>0.692198</td>\n",
       "      <td>0.000000</td>\n",
       "    </tr>\n",
       "    <tr>\n",
       "      <th>2</th>\n",
       "      <td>1.000000</td>\n",
       "      <td>0</td>\n",
       "      <td>1</td>\n",
       "      <td>0</td>\n",
       "      <td>0</td>\n",
       "      <td>0</td>\n",
       "      <td>0</td>\n",
       "      <td>1</td>\n",
       "      <td>0</td>\n",
       "      <td>0.025903</td>\n",
       "      <td>0.058008</td>\n",
       "    </tr>\n",
       "    <tr>\n",
       "      <th>3</th>\n",
       "      <td>1.000000</td>\n",
       "      <td>0</td>\n",
       "      <td>0</td>\n",
       "      <td>0</td>\n",
       "      <td>0</td>\n",
       "      <td>0</td>\n",
       "      <td>0</td>\n",
       "      <td>1</td>\n",
       "      <td>0</td>\n",
       "      <td>0.825945</td>\n",
       "      <td>0.703012</td>\n",
       "    </tr>\n",
       "    <tr>\n",
       "      <th>4</th>\n",
       "      <td>1.000000</td>\n",
       "      <td>0</td>\n",
       "      <td>0</td>\n",
       "      <td>1</td>\n",
       "      <td>0</td>\n",
       "      <td>0</td>\n",
       "      <td>0</td>\n",
       "      <td>0</td>\n",
       "      <td>0</td>\n",
       "      <td>0.826668</td>\n",
       "      <td>0.467596</td>\n",
       "    </tr>\n",
       "    <tr>\n",
       "      <th>...</th>\n",
       "      <td>...</td>\n",
       "      <td>...</td>\n",
       "      <td>...</td>\n",
       "      <td>...</td>\n",
       "      <td>...</td>\n",
       "      <td>...</td>\n",
       "      <td>...</td>\n",
       "      <td>...</td>\n",
       "      <td>...</td>\n",
       "      <td>...</td>\n",
       "      <td>...</td>\n",
       "    </tr>\n",
       "    <tr>\n",
       "      <th>99995</th>\n",
       "      <td>1.000000</td>\n",
       "      <td>0</td>\n",
       "      <td>1</td>\n",
       "      <td>0</td>\n",
       "      <td>0</td>\n",
       "      <td>0</td>\n",
       "      <td>0</td>\n",
       "      <td>1</td>\n",
       "      <td>0</td>\n",
       "      <td>0.475269</td>\n",
       "      <td>0.683419</td>\n",
       "    </tr>\n",
       "    <tr>\n",
       "      <th>99996</th>\n",
       "      <td>0.666667</td>\n",
       "      <td>0</td>\n",
       "      <td>0</td>\n",
       "      <td>0</td>\n",
       "      <td>0</td>\n",
       "      <td>0</td>\n",
       "      <td>0</td>\n",
       "      <td>1</td>\n",
       "      <td>0</td>\n",
       "      <td>0.562420</td>\n",
       "      <td>0.861997</td>\n",
       "    </tr>\n",
       "    <tr>\n",
       "      <th>99997</th>\n",
       "      <td>0.666667</td>\n",
       "      <td>0</td>\n",
       "      <td>1</td>\n",
       "      <td>0</td>\n",
       "      <td>0</td>\n",
       "      <td>0</td>\n",
       "      <td>0</td>\n",
       "      <td>1</td>\n",
       "      <td>0</td>\n",
       "      <td>0.225903</td>\n",
       "      <td>0.243447</td>\n",
       "    </tr>\n",
       "    <tr>\n",
       "      <th>99998</th>\n",
       "      <td>0.333333</td>\n",
       "      <td>0</td>\n",
       "      <td>1</td>\n",
       "      <td>1</td>\n",
       "      <td>0</td>\n",
       "      <td>0</td>\n",
       "      <td>0</td>\n",
       "      <td>0</td>\n",
       "      <td>0</td>\n",
       "      <td>0.073531</td>\n",
       "      <td>0.058008</td>\n",
       "    </tr>\n",
       "    <tr>\n",
       "      <th>99999</th>\n",
       "      <td>1.000000</td>\n",
       "      <td>0</td>\n",
       "      <td>0</td>\n",
       "      <td>0</td>\n",
       "      <td>1</td>\n",
       "      <td>0</td>\n",
       "      <td>0</td>\n",
       "      <td>0</td>\n",
       "      <td>0</td>\n",
       "      <td>0.876351</td>\n",
       "      <td>0.861997</td>\n",
       "    </tr>\n",
       "  </tbody>\n",
       "</table>\n",
       "<p>100000 rows × 11 columns</p>\n",
       "</div>"
      ],
      "text/plain": [
       "       yeojohnson_revenue_in_eur_bin  is_EMEA  is_Webshop  \\\n",
       "0                           0.666667        0           1   \n",
       "1                           0.666667        0           1   \n",
       "2                           1.000000        0           1   \n",
       "3                           1.000000        0           0   \n",
       "4                           1.000000        0           0   \n",
       "...                              ...      ...         ...   \n",
       "99995                       1.000000        0           1   \n",
       "99996                       0.666667        0           0   \n",
       "99997                       0.666667        0           1   \n",
       "99998                       0.333333        0           1   \n",
       "99999                       1.000000        0           0   \n",
       "\n",
       "       is_industry_FinanceInsuranceRealEstate  is_industry_Manufacturing  \\\n",
       "0                                           0                          0   \n",
       "1                                           0                          0   \n",
       "2                                           0                          0   \n",
       "3                                           0                          0   \n",
       "4                                           1                          0   \n",
       "...                                       ...                        ...   \n",
       "99995                                       0                          0   \n",
       "99996                                       0                          0   \n",
       "99997                                       0                          0   \n",
       "99998                                       1                          0   \n",
       "99999                                       0                          1   \n",
       "\n",
       "       is_industry_Other  is_industry_RetailTrade  is_industry_Services  \\\n",
       "0                      0                        0                     1   \n",
       "1                      0                        0                     0   \n",
       "2                      0                        0                     1   \n",
       "3                      0                        0                     1   \n",
       "4                      0                        0                     0   \n",
       "...                  ...                      ...                   ...   \n",
       "99995                  0                        0                     1   \n",
       "99996                  0                        0                     1   \n",
       "99997                  0                        0                     1   \n",
       "99998                  0                        0                     0   \n",
       "99999                  0                        0                     0   \n",
       "\n",
       "       is_industry_WholesaleTrade  license_value_score  customer_value_score  \n",
       "0                               0             0.225903              0.404288  \n",
       "1                               1             0.692198              0.000000  \n",
       "2                               0             0.025903              0.058008  \n",
       "3                               0             0.825945              0.703012  \n",
       "4                               0             0.826668              0.467596  \n",
       "...                           ...                  ...                   ...  \n",
       "99995                           0             0.475269              0.683419  \n",
       "99996                           0             0.562420              0.861997  \n",
       "99997                           0             0.225903              0.243447  \n",
       "99998                           0             0.073531              0.058008  \n",
       "99999                           0             0.876351              0.861997  \n",
       "\n",
       "[100000 rows x 11 columns]"
      ]
     },
     "execution_count": 6,
     "metadata": {},
     "output_type": "execute_result"
    }
   ],
   "source": [
    "features_df"
   ]
  },
  {
   "cell_type": "code",
   "execution_count": 7,
   "metadata": {},
   "outputs": [
    {
     "name": "stdout",
     "output_type": "stream",
     "text": [
      "<class 'pandas.core.frame.DataFrame'>\n",
      "RangeIndex: 100000 entries, 0 to 99999\n",
      "Data columns (total 11 columns):\n",
      " #   Column                                  Non-Null Count   Dtype  \n",
      "---  ------                                  --------------   -----  \n",
      " 0   yeojohnson_revenue_in_eur_bin           100000 non-null  float64\n",
      " 1   is_EMEA                                 100000 non-null  int64  \n",
      " 2   is_Webshop                              100000 non-null  int64  \n",
      " 3   is_industry_FinanceInsuranceRealEstate  100000 non-null  int64  \n",
      " 4   is_industry_Manufacturing               100000 non-null  int64  \n",
      " 5   is_industry_Other                       100000 non-null  int64  \n",
      " 6   is_industry_RetailTrade                 100000 non-null  int64  \n",
      " 7   is_industry_Services                    100000 non-null  int64  \n",
      " 8   is_industry_WholesaleTrade              100000 non-null  int64  \n",
      " 9   license_value_score                     100000 non-null  float64\n",
      " 10  customer_value_score                    100000 non-null  float64\n",
      "dtypes: float64(3), int64(8)\n",
      "memory usage: 8.4 MB\n"
     ]
    }
   ],
   "source": [
    "features_df.info()"
   ]
  },
  {
   "cell_type": "markdown",
   "metadata": {},
   "source": [
    "## Feature-Tokenizer Transformer (FT-Transformer) Model"
   ]
  },
  {
   "cell_type": "code",
   "execution_count": 16,
   "metadata": {},
   "outputs": [],
   "source": [
    "class FTTransformer:\n",
    "    def __init__(self, input_dim, embedding_dim, num_heads, ff_dim, num_transformer_blocks, dropout_rate=0.1):\n",
    "        self.input_dim = input_dim\n",
    "        self.embedding_dim = embedding_dim\n",
    "        self.num_heads = num_heads\n",
    "        self.ff_dim = ff_dim\n",
    "        self.num_transformer_blocks = num_transformer_blocks\n",
    "        self.dropout_rate = dropout_rate\n",
    "\n",
    "        self.model = self._build_model()\n",
    "        \n",
    "    def _build_model(self):\n",
    "        inputs = Input(shape=(self.input_dim,))\n",
    "        \n",
    "        # Embedding layer\n",
    "        x = Dense(self.embedding_dim, activation='relu')(inputs)\n",
    "        x = Dropout(self.dropout_rate)(x)\n",
    "\n",
    "        # Expand dims of input embeddings to (batch_size, sequence_length, embedding_dim)\n",
    "        x = tf.keras.layers.Lambda(lambda x: tf.expand_dims(x, axis=1))(x)\n",
    "        \n",
    "        # Add [CLS] token\n",
    "        cls_token = tf.keras.layers.Lambda(lambda x: tf.ones_like(x[:, :1, :]) * 0.0)(x)\n",
    "        x = tf.keras.layers.Concatenate(axis=1)([cls_token, x])\n",
    "        x = LayerNormalization()(x)\n",
    "\n",
    "        # Transformer encoder\n",
    "        for _ in range(self.num_transformer_blocks):\n",
    "            attn_output = MultiHeadAttention(num_heads=self.num_heads, key_dim=self.embedding_dim)(x, x)\n",
    "            attn_output = Dropout(self.dropout_rate)(attn_output)\n",
    "            attn_output = LayerNormalization()(attn_output + x)\n",
    "            \n",
    "            ff_output = Dense(self.ff_dim, activation='relu')(attn_output)\n",
    "            ff_output = Dense(self.embedding_dim)(ff_output)\n",
    "            ff_output = Dropout(self.dropout_rate)(ff_output)\n",
    "            x = LayerNormalization()(ff_output + attn_output)\n",
    "        \n",
    "        # Global average pooling\n",
    "        x = GlobalAveragePooling1D()(x)\n",
    "\n",
    "        # Output layer (for embeddings)\n",
    "        outputs = Dense(self.embedding_dim, activation='linear')(x)\n",
    "\n",
    "        model = Model(inputs, outputs)\n",
    "        model.compile(optimizer=tf.keras.optimizers.Adam(), loss='mse')\n",
    "        return model\n",
    "\n",
    "    def train(self, data, epochs=10, batch_size=32):\n",
    "        early_stopping = EarlyStopping(monitor='loss', patience=3, restore_best_weights=True)\n",
    "        self.model.fit(data, data, epochs=epochs, batch_size=batch_size, callbacks=[early_stopping], verbose=1)\n",
    "\n",
    "    def get_embeddings(self, X):\n",
    "        return self.model.predict(X)\n",
    "\n",
    "    def summary(self):\n",
    "        self.model.summary()"
   ]
  },
  {
   "cell_type": "code",
   "execution_count": 27,
   "metadata": {},
   "outputs": [],
   "source": [
    "# Parameters\n",
    "input_dim = features.shape[1]\n",
    "embedding_dim = features.shape[1]\n",
    "num_heads = 4\n",
    "ff_dim = 128\n",
    "num_transformer_blocks = 2\n",
    "dropout_rate = 0.2\n",
    "epochs = 5\n",
    "batch_size = 64"
   ]
  },
  {
   "cell_type": "code",
   "execution_count": 28,
   "metadata": {},
   "outputs": [],
   "source": [
    "# Instantiate the model\n",
    "model = FTTransformer(\n",
    "    input_dim=input_dim,\n",
    "    embedding_dim=embedding_dim,\n",
    "    num_heads=num_heads,\n",
    "    ff_dim=ff_dim,\n",
    "    num_transformer_blocks=num_transformer_blocks,\n",
    "    dropout_rate=dropout_rate\n",
    ")"
   ]
  },
  {
   "cell_type": "code",
   "execution_count": 29,
   "metadata": {},
   "outputs": [
    {
     "name": "stdout",
     "output_type": "stream",
     "text": [
      "Model: \"model_3\"\n",
      "__________________________________________________________________________________________________\n",
      " Layer (type)                   Output Shape         Param #     Connected to                     \n",
      "==================================================================================================\n",
      " input_6 (InputLayer)           [(None, 11)]         0           []                               \n",
      "                                                                                                  \n",
      " dense_20 (Dense)               (None, 11)           132         ['input_6[0][0]']                \n",
      "                                                                                                  \n",
      " dropout_17 (Dropout)           (None, 11)           0           ['dense_20[0][0]']               \n",
      "                                                                                                  \n",
      " lambda_8 (Lambda)              (None, 1, 11)        0           ['dropout_17[0][0]']             \n",
      "                                                                                                  \n",
      " lambda_9 (Lambda)              (None, 1, 11)        0           ['lambda_8[0][0]']               \n",
      "                                                                                                  \n",
      " concatenate_3 (Concatenate)    (None, 2, 11)        0           ['lambda_9[0][0]',               \n",
      "                                                                  'lambda_8[0][0]']               \n",
      "                                                                                                  \n",
      " layer_normalization_15 (LayerN  (None, 2, 11)       22          ['concatenate_3[0][0]']          \n",
      " ormalization)                                                                                    \n",
      "                                                                                                  \n",
      " multi_head_attention_6 (MultiH  (None, 2, 11)       2079        ['layer_normalization_15[0][0]', \n",
      " eadAttention)                                                    'layer_normalization_15[0][0]'] \n",
      "                                                                                                  \n",
      " dropout_18 (Dropout)           (None, 2, 11)        0           ['multi_head_attention_6[0][0]'] \n",
      "                                                                                                  \n",
      " tf.__operators__.add_12 (TFOpL  (None, 2, 11)       0           ['dropout_18[0][0]',             \n",
      " ambda)                                                           'layer_normalization_15[0][0]'] \n",
      "                                                                                                  \n",
      " layer_normalization_16 (LayerN  (None, 2, 11)       22          ['tf.__operators__.add_12[0][0]']\n",
      " ormalization)                                                                                    \n",
      "                                                                                                  \n",
      " dense_21 (Dense)               (None, 2, 128)       1536        ['layer_normalization_16[0][0]'] \n",
      "                                                                                                  \n",
      " dense_22 (Dense)               (None, 2, 11)        1419        ['dense_21[0][0]']               \n",
      "                                                                                                  \n",
      " dropout_19 (Dropout)           (None, 2, 11)        0           ['dense_22[0][0]']               \n",
      "                                                                                                  \n",
      " tf.__operators__.add_13 (TFOpL  (None, 2, 11)       0           ['dropout_19[0][0]',             \n",
      " ambda)                                                           'layer_normalization_16[0][0]'] \n",
      "                                                                                                  \n",
      " layer_normalization_17 (LayerN  (None, 2, 11)       22          ['tf.__operators__.add_13[0][0]']\n",
      " ormalization)                                                                                    \n",
      "                                                                                                  \n",
      " multi_head_attention_7 (MultiH  (None, 2, 11)       2079        ['layer_normalization_17[0][0]', \n",
      " eadAttention)                                                    'layer_normalization_17[0][0]'] \n",
      "                                                                                                  \n",
      " dropout_20 (Dropout)           (None, 2, 11)        0           ['multi_head_attention_7[0][0]'] \n",
      "                                                                                                  \n",
      " tf.__operators__.add_14 (TFOpL  (None, 2, 11)       0           ['dropout_20[0][0]',             \n",
      " ambda)                                                           'layer_normalization_17[0][0]'] \n",
      "                                                                                                  \n",
      " layer_normalization_18 (LayerN  (None, 2, 11)       22          ['tf.__operators__.add_14[0][0]']\n",
      " ormalization)                                                                                    \n",
      "                                                                                                  \n",
      " dense_23 (Dense)               (None, 2, 128)       1536        ['layer_normalization_18[0][0]'] \n",
      "                                                                                                  \n",
      " dense_24 (Dense)               (None, 2, 11)        1419        ['dense_23[0][0]']               \n",
      "                                                                                                  \n",
      " dropout_21 (Dropout)           (None, 2, 11)        0           ['dense_24[0][0]']               \n",
      "                                                                                                  \n",
      " tf.__operators__.add_15 (TFOpL  (None, 2, 11)       0           ['dropout_21[0][0]',             \n",
      " ambda)                                                           'layer_normalization_18[0][0]'] \n",
      "                                                                                                  \n",
      " layer_normalization_19 (LayerN  (None, 2, 11)       22          ['tf.__operators__.add_15[0][0]']\n",
      " ormalization)                                                                                    \n",
      "                                                                                                  \n",
      " global_average_pooling1d_3 (Gl  (None, 11)          0           ['layer_normalization_19[0][0]'] \n",
      " obalAveragePooling1D)                                                                            \n",
      "                                                                                                  \n",
      " dense_25 (Dense)               (None, 11)           132         ['global_average_pooling1d_3[0][0\n",
      "                                                                 ]']                              \n",
      "                                                                                                  \n",
      "==================================================================================================\n",
      "Total params: 10,442\n",
      "Trainable params: 10,442\n",
      "Non-trainable params: 0\n",
      "__________________________________________________________________________________________________\n"
     ]
    }
   ],
   "source": [
    "model.summary()"
   ]
  },
  {
   "cell_type": "code",
   "execution_count": 30,
   "metadata": {},
   "outputs": [
    {
     "name": "stdout",
     "output_type": "stream",
     "text": [
      "Epoch 1/5\n",
      "1563/1563 [==============================] - 17s 8ms/step - loss: 0.0751\n",
      "Epoch 2/5\n",
      "1563/1563 [==============================] - 13s 8ms/step - loss: 0.0380\n",
      "Epoch 3/5\n",
      "1563/1563 [==============================] - 13s 8ms/step - loss: 0.0306\n",
      "Epoch 4/5\n",
      "1563/1563 [==============================] - 13s 8ms/step - loss: 0.0267\n",
      "Epoch 5/5\n",
      "1563/1563 [==============================] - 12s 8ms/step - loss: 0.0245\n"
     ]
    }
   ],
   "source": [
    "model.train(features, epochs=10, batch_size=64)"
   ]
  },
  {
   "cell_type": "code",
   "execution_count": 31,
   "metadata": {},
   "outputs": [
    {
     "name": "stdout",
     "output_type": "stream",
     "text": [
      "3125/3125 [==============================] - 7s 2ms/step\n"
     ]
    }
   ],
   "source": [
    "# Get embeddings\n",
    "embeddings = model.get_embeddings(features)"
   ]
  },
  {
   "cell_type": "markdown",
   "metadata": {},
   "source": [
    "## PCA"
   ]
  },
  {
   "cell_type": "code",
   "execution_count": 33,
   "metadata": {},
   "outputs": [
    {
     "data": {
      "text/html": [
       "<style>#sk-container-id-1 {color: black;background-color: white;}#sk-container-id-1 pre{padding: 0;}#sk-container-id-1 div.sk-toggleable {background-color: white;}#sk-container-id-1 label.sk-toggleable__label {cursor: pointer;display: block;width: 100%;margin-bottom: 0;padding: 0.3em;box-sizing: border-box;text-align: center;}#sk-container-id-1 label.sk-toggleable__label-arrow:before {content: \"▸\";float: left;margin-right: 0.25em;color: #696969;}#sk-container-id-1 label.sk-toggleable__label-arrow:hover:before {color: black;}#sk-container-id-1 div.sk-estimator:hover label.sk-toggleable__label-arrow:before {color: black;}#sk-container-id-1 div.sk-toggleable__content {max-height: 0;max-width: 0;overflow: hidden;text-align: left;background-color: #f0f8ff;}#sk-container-id-1 div.sk-toggleable__content pre {margin: 0.2em;color: black;border-radius: 0.25em;background-color: #f0f8ff;}#sk-container-id-1 input.sk-toggleable__control:checked~div.sk-toggleable__content {max-height: 200px;max-width: 100%;overflow: auto;}#sk-container-id-1 input.sk-toggleable__control:checked~label.sk-toggleable__label-arrow:before {content: \"▾\";}#sk-container-id-1 div.sk-estimator input.sk-toggleable__control:checked~label.sk-toggleable__label {background-color: #d4ebff;}#sk-container-id-1 div.sk-label input.sk-toggleable__control:checked~label.sk-toggleable__label {background-color: #d4ebff;}#sk-container-id-1 input.sk-hidden--visually {border: 0;clip: rect(1px 1px 1px 1px);clip: rect(1px, 1px, 1px, 1px);height: 1px;margin: -1px;overflow: hidden;padding: 0;position: absolute;width: 1px;}#sk-container-id-1 div.sk-estimator {font-family: monospace;background-color: #f0f8ff;border: 1px dotted black;border-radius: 0.25em;box-sizing: border-box;margin-bottom: 0.5em;}#sk-container-id-1 div.sk-estimator:hover {background-color: #d4ebff;}#sk-container-id-1 div.sk-parallel-item::after {content: \"\";width: 100%;border-bottom: 1px solid gray;flex-grow: 1;}#sk-container-id-1 div.sk-label:hover label.sk-toggleable__label {background-color: #d4ebff;}#sk-container-id-1 div.sk-serial::before {content: \"\";position: absolute;border-left: 1px solid gray;box-sizing: border-box;top: 0;bottom: 0;left: 50%;z-index: 0;}#sk-container-id-1 div.sk-serial {display: flex;flex-direction: column;align-items: center;background-color: white;padding-right: 0.2em;padding-left: 0.2em;position: relative;}#sk-container-id-1 div.sk-item {position: relative;z-index: 1;}#sk-container-id-1 div.sk-parallel {display: flex;align-items: stretch;justify-content: center;background-color: white;position: relative;}#sk-container-id-1 div.sk-item::before, #sk-container-id-1 div.sk-parallel-item::before {content: \"\";position: absolute;border-left: 1px solid gray;box-sizing: border-box;top: 0;bottom: 0;left: 50%;z-index: -1;}#sk-container-id-1 div.sk-parallel-item {display: flex;flex-direction: column;z-index: 1;position: relative;background-color: white;}#sk-container-id-1 div.sk-parallel-item:first-child::after {align-self: flex-end;width: 50%;}#sk-container-id-1 div.sk-parallel-item:last-child::after {align-self: flex-start;width: 50%;}#sk-container-id-1 div.sk-parallel-item:only-child::after {width: 0;}#sk-container-id-1 div.sk-dashed-wrapped {border: 1px dashed gray;margin: 0 0.4em 0.5em 0.4em;box-sizing: border-box;padding-bottom: 0.4em;background-color: white;}#sk-container-id-1 div.sk-label label {font-family: monospace;font-weight: bold;display: inline-block;line-height: 1.2em;}#sk-container-id-1 div.sk-label-container {text-align: center;}#sk-container-id-1 div.sk-container {/* jupyter's `normalize.less` sets `[hidden] { display: none; }` but bootstrap.min.css set `[hidden] { display: none !important; }` so we also need the `!important` here to be able to override the default hidden behavior on the sphinx rendered scikit-learn.org. See: https://github.com/scikit-learn/scikit-learn/issues/21755 */display: inline-block !important;position: relative;}#sk-container-id-1 div.sk-text-repr-fallback {display: none;}</style><div id=\"sk-container-id-1\" class=\"sk-top-container\"><div class=\"sk-text-repr-fallback\"><pre>PCA()</pre><b>In a Jupyter environment, please rerun this cell to show the HTML representation or trust the notebook. <br />On GitHub, the HTML representation is unable to render, please try loading this page with nbviewer.org.</b></div><div class=\"sk-container\" hidden><div class=\"sk-item\"><div class=\"sk-estimator sk-toggleable\"><input class=\"sk-toggleable__control sk-hidden--visually\" id=\"sk-estimator-id-1\" type=\"checkbox\" checked><label for=\"sk-estimator-id-1\" class=\"sk-toggleable__label sk-toggleable__label-arrow\">PCA</label><div class=\"sk-toggleable__content\"><pre>PCA()</pre></div></div></div></div></div>"
      ],
      "text/plain": [
       "PCA()"
      ]
     },
     "execution_count": 33,
     "metadata": {},
     "output_type": "execute_result"
    }
   ],
   "source": [
    "pca = PCA()\n",
    "pca.fit(embeddings)"
   ]
  },
  {
   "cell_type": "code",
   "execution_count": 34,
   "metadata": {},
   "outputs": [
    {
     "name": "stdout",
     "output_type": "stream",
     "text": [
      "[2.43658661e-01 2.13898776e-01 1.42082269e-01 1.10590382e-01\n",
      " 8.91238038e-02 7.41389603e-02 6.04885913e-02 4.62776433e-02\n",
      " 1.97407245e-02 1.87537635e-07 9.80335769e-10]\n"
     ]
    }
   ],
   "source": [
    "print(pca.explained_variance_ratio_)"
   ]
  },
  {
   "cell_type": "code",
   "execution_count": 35,
   "metadata": {},
   "outputs": [
    {
     "name": "stdout",
     "output_type": "stream",
     "text": [
      "Number of components explaining at least 80% variance: 6\n"
     ]
    },
    {
     "data": {
      "image/png": "[encoded data removed]",
      "text/plain": [
       "<Figure size 1000x800 with 1 Axes>"
      ]
     },
     "metadata": {},
     "output_type": "display_data"
    }
   ],
   "source": [
    "cumulative_explained_variance = np.cumsum(pca.explained_variance_ratio_)\n",
    "\n",
    "plt.figure(figsize= (10, 8))\n",
    "plt.plot(range(1,12), cumulative_explained_variance, marker = 'o', linestyle='--')\n",
    "plt.title('Explained Variance by Components')\n",
    "plt.xlabel('NUmber of Components')\n",
    "plt.ylabel('Cumulative Explained Variance')\n",
    "\n",
    "# Find the number of components that explain at least 80% of the variance\n",
    "n_components_80 = np.argmax(cumulative_explained_variance >= 0.80) + 1\n",
    "print(f\"Number of components explaining at least 80% variance: {n_components_80}\")"
   ]
  },
  {
   "cell_type": "code",
   "execution_count": 39,
   "metadata": {},
   "outputs": [],
   "source": [
    "pca = PCA(n_components=6)\n",
    "features_pca = pca.fit_transform(embeddings)"
   ]
  },
  {
   "cell_type": "markdown",
   "metadata": {},
   "source": [
    "## Determine the number of clusters(k)"
   ]
  },
  {
   "cell_type": "code",
   "execution_count": 40,
   "metadata": {},
   "outputs": [
    {
     "name": "stdout",
     "output_type": "stream",
     "text": [
      "Now on k 1\n",
      "Now on k 2\n",
      "Now on k 3\n",
      "Now on k 4\n",
      "Now on k 5\n",
      "Now on k 6\n",
      "Now on k 7\n",
      "Now on k 8\n",
      "Now on k 9\n",
      "Now on k 10\n",
      "Now on k 11\n",
      "Now on k 12\n",
      "Now on k 13\n",
      "Now on k 14\n",
      "Now on k 15\n",
      "Now on k 16\n",
      "Now on k 17\n",
      "Now on k 18\n",
      "Now on k 19\n"
     ]
    }
   ],
   "source": [
    "# Define a range of k values to test\n",
    "k_range = range(1, 20)\n",
    "\n",
    "wcss = []\n",
    "for k in k_range:\n",
    "    print('Now on k {}'.format(k))\n",
    "    kmeans = KMeans(n_clusters=k, random_state=0).fit(features_pca)\n",
    "    wcss.append(kmeans.inertia_)"
   ]
  },
  {
   "cell_type": "code",
   "execution_count": 41,
   "metadata": {},
   "outputs": [
    {
     "data": {
      "image/png": "[encoded data removed]",
      "text/plain": [
       "<Figure size 1000x800 with 1 Axes>"
      ]
     },
     "metadata": {},
     "output_type": "display_data"
    }
   ],
   "source": [
    "# Plotting WCSS vs k to identify the elbow point\n",
    "plt.figure(figsize=(10, 8))\n",
    "plt.plot(k_range, wcss, 'o-', markerfacecolor='lightblue', markeredgewidth=2, markersize=8)\n",
    "plt.xlabel('Number of clusters (k)')\n",
    "plt.ylabel('WCSS (Within Cluster Sum of Squares)')\n",
    "plt.title('Elbow Method for KMeans Clustering')\n",
    "plt.show()"
   ]
  },
  {
   "cell_type": "markdown",
   "metadata": {},
   "source": [
    "## Clustering"
   ]
  },
  {
   "cell_type": "code",
   "execution_count": 42,
   "metadata": {},
   "outputs": [
    {
     "data": {
      "text/html": [
       "<div>\n",
       "<style scoped>\n",
       "    .dataframe tbody tr th:only-of-type {\n",
       "        vertical-align: middle;\n",
       "    }\n",
       "\n",
       "    .dataframe tbody tr th {\n",
       "        vertical-align: top;\n",
       "    }\n",
       "\n",
       "    .dataframe thead th {\n",
       "        text-align: right;\n",
       "    }\n",
       "</style>\n",
       "<table border=\"1\" class=\"dataframe\">\n",
       "  <thead>\n",
       "    <tr style=\"text-align: right;\">\n",
       "      <th></th>\n",
       "      <th>yeojohnson_revenue_in_eur_bin</th>\n",
       "      <th>is_EMEA</th>\n",
       "      <th>is_Webshop</th>\n",
       "      <th>is_industry_FinanceInsuranceRealEstate</th>\n",
       "      <th>is_industry_Manufacturing</th>\n",
       "      <th>is_industry_Other</th>\n",
       "      <th>is_industry_RetailTrade</th>\n",
       "      <th>is_industry_Services</th>\n",
       "      <th>is_industry_WholesaleTrade</th>\n",
       "      <th>license_value_score</th>\n",
       "      <th>customer_value_score</th>\n",
       "      <th>Component 1</th>\n",
       "      <th>Component 2</th>\n",
       "      <th>Component 3</th>\n",
       "      <th>Component 4</th>\n",
       "      <th>Component 5</th>\n",
       "      <th>Component 6</th>\n",
       "      <th>clusters</th>\n",
       "    </tr>\n",
       "    <tr>\n",
       "      <th>cluster_kmeans</th>\n",
       "      <th></th>\n",
       "      <th></th>\n",
       "      <th></th>\n",
       "      <th></th>\n",
       "      <th></th>\n",
       "      <th></th>\n",
       "      <th></th>\n",
       "      <th></th>\n",
       "      <th></th>\n",
       "      <th></th>\n",
       "      <th></th>\n",
       "      <th></th>\n",
       "      <th></th>\n",
       "      <th></th>\n",
       "      <th></th>\n",
       "      <th></th>\n",
       "      <th></th>\n",
       "      <th></th>\n",
       "    </tr>\n",
       "  </thead>\n",
       "  <tbody>\n",
       "    <tr>\n",
       "      <th>0</th>\n",
       "      <td>0.544663</td>\n",
       "      <td>0.745834</td>\n",
       "      <td>0.492900</td>\n",
       "      <td>0.000000</td>\n",
       "      <td>0.0</td>\n",
       "      <td>1.0</td>\n",
       "      <td>0.000000</td>\n",
       "      <td>0.0</td>\n",
       "      <td>0.000000</td>\n",
       "      <td>0.437531</td>\n",
       "      <td>0.376845</td>\n",
       "      <td>-0.556033</td>\n",
       "      <td>0.293607</td>\n",
       "      <td>-0.129530</td>\n",
       "      <td>0.690194</td>\n",
       "      <td>-0.331820</td>\n",
       "      <td>-0.025281</td>\n",
       "      <td>0.0</td>\n",
       "    </tr>\n",
       "    <tr>\n",
       "      <th>1</th>\n",
       "      <td>0.694186</td>\n",
       "      <td>0.729839</td>\n",
       "      <td>0.453339</td>\n",
       "      <td>0.000000</td>\n",
       "      <td>1.0</td>\n",
       "      <td>0.0</td>\n",
       "      <td>0.000000</td>\n",
       "      <td>0.0</td>\n",
       "      <td>0.000000</td>\n",
       "      <td>0.473773</td>\n",
       "      <td>0.419816</td>\n",
       "      <td>-0.450972</td>\n",
       "      <td>0.180833</td>\n",
       "      <td>0.115985</td>\n",
       "      <td>-0.705760</td>\n",
       "      <td>-0.494293</td>\n",
       "      <td>0.022395</td>\n",
       "      <td>1.0</td>\n",
       "    </tr>\n",
       "    <tr>\n",
       "      <th>2</th>\n",
       "      <td>0.376806</td>\n",
       "      <td>0.705188</td>\n",
       "      <td>1.000000</td>\n",
       "      <td>0.000000</td>\n",
       "      <td>0.0</td>\n",
       "      <td>0.0</td>\n",
       "      <td>0.000000</td>\n",
       "      <td>1.0</td>\n",
       "      <td>0.000000</td>\n",
       "      <td>0.332411</td>\n",
       "      <td>0.343063</td>\n",
       "      <td>0.816823</td>\n",
       "      <td>0.219325</td>\n",
       "      <td>0.064287</td>\n",
       "      <td>0.022787</td>\n",
       "      <td>-0.025701</td>\n",
       "      <td>-0.066402</td>\n",
       "      <td>2.0</td>\n",
       "    </tr>\n",
       "    <tr>\n",
       "      <th>3</th>\n",
       "      <td>0.609232</td>\n",
       "      <td>0.809114</td>\n",
       "      <td>0.325311</td>\n",
       "      <td>0.292132</td>\n",
       "      <td>0.0</td>\n",
       "      <td>0.0</td>\n",
       "      <td>0.000000</td>\n",
       "      <td>0.0</td>\n",
       "      <td>0.707868</td>\n",
       "      <td>0.507979</td>\n",
       "      <td>0.442077</td>\n",
       "      <td>-0.527142</td>\n",
       "      <td>-0.038357</td>\n",
       "      <td>-0.017723</td>\n",
       "      <td>-0.120566</td>\n",
       "      <td>0.513042</td>\n",
       "      <td>-0.443388</td>\n",
       "      <td>3.0</td>\n",
       "    </tr>\n",
       "    <tr>\n",
       "      <th>4</th>\n",
       "      <td>0.436769</td>\n",
       "      <td>0.774892</td>\n",
       "      <td>0.000000</td>\n",
       "      <td>0.000000</td>\n",
       "      <td>0.0</td>\n",
       "      <td>0.0</td>\n",
       "      <td>0.000000</td>\n",
       "      <td>1.0</td>\n",
       "      <td>0.000000</td>\n",
       "      <td>0.563272</td>\n",
       "      <td>0.477326</td>\n",
       "      <td>0.316125</td>\n",
       "      <td>-0.760852</td>\n",
       "      <td>0.057532</td>\n",
       "      <td>0.060624</td>\n",
       "      <td>-0.034519</td>\n",
       "      <td>0.035799</td>\n",
       "      <td>4.0</td>\n",
       "    </tr>\n",
       "    <tr>\n",
       "      <th>5</th>\n",
       "      <td>0.441658</td>\n",
       "      <td>0.796570</td>\n",
       "      <td>0.651458</td>\n",
       "      <td>0.261671</td>\n",
       "      <td>0.0</td>\n",
       "      <td>0.0</td>\n",
       "      <td>0.738329</td>\n",
       "      <td>0.0</td>\n",
       "      <td>0.000000</td>\n",
       "      <td>0.390220</td>\n",
       "      <td>0.361482</td>\n",
       "      <td>-0.207662</td>\n",
       "      <td>0.396573</td>\n",
       "      <td>-0.150405</td>\n",
       "      <td>-0.090286</td>\n",
       "      <td>0.448181</td>\n",
       "      <td>0.528610</td>\n",
       "      <td>5.0</td>\n",
       "    </tr>\n",
       "  </tbody>\n",
       "</table>\n",
       "</div>"
      ],
      "text/plain": [
       "                yeojohnson_revenue_in_eur_bin   is_EMEA  is_Webshop  \\\n",
       "cluster_kmeans                                                        \n",
       "0                                    0.544663  0.745834    0.492900   \n",
       "1                                    0.694186  0.729839    0.453339   \n",
       "2                                    0.376806  0.705188    1.000000   \n",
       "3                                    0.609232  0.809114    0.325311   \n",
       "4                                    0.436769  0.774892    0.000000   \n",
       "5                                    0.441658  0.796570    0.651458   \n",
       "\n",
       "                is_industry_FinanceInsuranceRealEstate  \\\n",
       "cluster_kmeans                                           \n",
       "0                                             0.000000   \n",
       "1                                             0.000000   \n",
       "2                                             0.000000   \n",
       "3                                             0.292132   \n",
       "4                                             0.000000   \n",
       "5                                             0.261671   \n",
       "\n",
       "                is_industry_Manufacturing  is_industry_Other  \\\n",
       "cluster_kmeans                                                 \n",
       "0                                     0.0                1.0   \n",
       "1                                     1.0                0.0   \n",
       "2                                     0.0                0.0   \n",
       "3                                     0.0                0.0   \n",
       "4                                     0.0                0.0   \n",
       "5                                     0.0                0.0   \n",
       "\n",
       "                is_industry_RetailTrade  is_industry_Services  \\\n",
       "cluster_kmeans                                                  \n",
       "0                              0.000000                   0.0   \n",
       "1                              0.000000                   0.0   \n",
       "2                              0.000000                   1.0   \n",
       "3                              0.000000                   0.0   \n",
       "4                              0.000000                   1.0   \n",
       "5                              0.738329                   0.0   \n",
       "\n",
       "                is_industry_WholesaleTrade  license_value_score  \\\n",
       "cluster_kmeans                                                    \n",
       "0                                 0.000000             0.437531   \n",
       "1                                 0.000000             0.473773   \n",
       "2                                 0.000000             0.332411   \n",
       "3                                 0.707868             0.507979   \n",
       "4                                 0.000000             0.563272   \n",
       "5                                 0.000000             0.390220   \n",
       "\n",
       "                customer_value_score  Component 1  Component 2  Component 3  \\\n",
       "cluster_kmeans                                                                \n",
       "0                           0.376845    -0.556033     0.293607    -0.129530   \n",
       "1                           0.419816    -0.450972     0.180833     0.115985   \n",
       "2                           0.343063     0.816823     0.219325     0.064287   \n",
       "3                           0.442077    -0.527142    -0.038357    -0.017723   \n",
       "4                           0.477326     0.316125    -0.760852     0.057532   \n",
       "5                           0.361482    -0.207662     0.396573    -0.150405   \n",
       "\n",
       "                Component 4  Component 5  Component 6  clusters  \n",
       "cluster_kmeans                                                   \n",
       "0                  0.690194    -0.331820    -0.025281       0.0  \n",
       "1                 -0.705760    -0.494293     0.022395       1.0  \n",
       "2                  0.022787    -0.025701    -0.066402       2.0  \n",
       "3                 -0.120566     0.513042    -0.443388       3.0  \n",
       "4                  0.060624    -0.034519     0.035799       4.0  \n",
       "5                 -0.090286     0.448181     0.528610       5.0  "
      ]
     },
     "execution_count": 42,
     "metadata": {},
     "output_type": "execute_result"
    }
   ],
   "source": [
    "# Fit the KMeans model\n",
    "kmeans = KMeans(n_clusters=6, random_state=0).fit(features_pca)\n",
    "\n",
    "# Get the cluster labels\n",
    "cluster_labels = kmeans.labels_\n",
    "\n",
    "# Get the cluster centers\n",
    "cluster_centers = kmeans.cluster_centers_\n",
    "\n",
    "df_pca = pd.concat([df.reset_index(drop=True), pd.DataFrame(features_pca)], axis=1)\n",
    "df_pca.columns.values[-6: ] = ['Component 1', 'Component 2', 'Component 3', 'Component 4', 'Component 5', 'Component 6']\n",
    "df_pca['clusters'] = kmeans.labels_\n",
    "df_pca['cluster_kmeans'] = kmeans.predict(features_pca)\n",
    "df_latex = df_pca.groupby(['cluster_kmeans']).mean()\n",
    "df_latex"
   ]
  },
  {
   "cell_type": "code",
   "execution_count": 43,
   "metadata": {},
   "outputs": [],
   "source": [
    "df_latex.drop(columns=['Component 1', 'Component 2', 'Component 3', 'Component 4', 'Component 5', 'Component 6', 'clusters'], inplace=True)\n",
    "df_latex = df_latex.T"
   ]
  },
  {
   "cell_type": "code",
   "execution_count": 44,
   "metadata": {},
   "outputs": [
    {
     "data": {
      "text/html": [
       "<div>\n",
       "<style scoped>\n",
       "    .dataframe tbody tr th:only-of-type {\n",
       "        vertical-align: middle;\n",
       "    }\n",
       "\n",
       "    .dataframe tbody tr th {\n",
       "        vertical-align: top;\n",
       "    }\n",
       "\n",
       "    .dataframe thead th {\n",
       "        text-align: right;\n",
       "    }\n",
       "</style>\n",
       "<table border=\"1\" class=\"dataframe\">\n",
       "  <thead>\n",
       "    <tr style=\"text-align: right;\">\n",
       "      <th>cluster_kmeans</th>\n",
       "      <th>0</th>\n",
       "      <th>1</th>\n",
       "      <th>2</th>\n",
       "      <th>3</th>\n",
       "      <th>4</th>\n",
       "      <th>5</th>\n",
       "    </tr>\n",
       "  </thead>\n",
       "  <tbody>\n",
       "    <tr>\n",
       "      <th>yeojohnson_revenue_in_eur_bin</th>\n",
       "      <td>0.544663</td>\n",
       "      <td>0.694186</td>\n",
       "      <td>0.376806</td>\n",
       "      <td>0.609232</td>\n",
       "      <td>0.436769</td>\n",
       "      <td>0.441658</td>\n",
       "    </tr>\n",
       "    <tr>\n",
       "      <th>is_EMEA</th>\n",
       "      <td>0.745834</td>\n",
       "      <td>0.729839</td>\n",
       "      <td>0.705188</td>\n",
       "      <td>0.809114</td>\n",
       "      <td>0.774892</td>\n",
       "      <td>0.796570</td>\n",
       "    </tr>\n",
       "    <tr>\n",
       "      <th>is_Webshop</th>\n",
       "      <td>0.492900</td>\n",
       "      <td>0.453339</td>\n",
       "      <td>1.000000</td>\n",
       "      <td>0.325311</td>\n",
       "      <td>0.000000</td>\n",
       "      <td>0.651458</td>\n",
       "    </tr>\n",
       "    <tr>\n",
       "      <th>is_industry_FinanceInsuranceRealEstate</th>\n",
       "      <td>0.000000</td>\n",
       "      <td>0.000000</td>\n",
       "      <td>0.000000</td>\n",
       "      <td>0.292132</td>\n",
       "      <td>0.000000</td>\n",
       "      <td>0.261671</td>\n",
       "    </tr>\n",
       "    <tr>\n",
       "      <th>is_industry_Manufacturing</th>\n",
       "      <td>0.000000</td>\n",
       "      <td>1.000000</td>\n",
       "      <td>0.000000</td>\n",
       "      <td>0.000000</td>\n",
       "      <td>0.000000</td>\n",
       "      <td>0.000000</td>\n",
       "    </tr>\n",
       "    <tr>\n",
       "      <th>is_industry_Other</th>\n",
       "      <td>1.000000</td>\n",
       "      <td>0.000000</td>\n",
       "      <td>0.000000</td>\n",
       "      <td>0.000000</td>\n",
       "      <td>0.000000</td>\n",
       "      <td>0.000000</td>\n",
       "    </tr>\n",
       "    <tr>\n",
       "      <th>is_industry_RetailTrade</th>\n",
       "      <td>0.000000</td>\n",
       "      <td>0.000000</td>\n",
       "      <td>0.000000</td>\n",
       "      <td>0.000000</td>\n",
       "      <td>0.000000</td>\n",
       "      <td>0.738329</td>\n",
       "    </tr>\n",
       "    <tr>\n",
       "      <th>is_industry_Services</th>\n",
       "      <td>0.000000</td>\n",
       "      <td>0.000000</td>\n",
       "      <td>1.000000</td>\n",
       "      <td>0.000000</td>\n",
       "      <td>1.000000</td>\n",
       "      <td>0.000000</td>\n",
       "    </tr>\n",
       "    <tr>\n",
       "      <th>is_industry_WholesaleTrade</th>\n",
       "      <td>0.000000</td>\n",
       "      <td>0.000000</td>\n",
       "      <td>0.000000</td>\n",
       "      <td>0.707868</td>\n",
       "      <td>0.000000</td>\n",
       "      <td>0.000000</td>\n",
       "    </tr>\n",
       "    <tr>\n",
       "      <th>license_value_score</th>\n",
       "      <td>0.437531</td>\n",
       "      <td>0.473773</td>\n",
       "      <td>0.332411</td>\n",
       "      <td>0.507979</td>\n",
       "      <td>0.563272</td>\n",
       "      <td>0.390220</td>\n",
       "    </tr>\n",
       "    <tr>\n",
       "      <th>customer_value_score</th>\n",
       "      <td>0.376845</td>\n",
       "      <td>0.419816</td>\n",
       "      <td>0.343063</td>\n",
       "      <td>0.442077</td>\n",
       "      <td>0.477326</td>\n",
       "      <td>0.361482</td>\n",
       "    </tr>\n",
       "  </tbody>\n",
       "</table>\n",
       "</div>"
      ],
      "text/plain": [
       "cluster_kmeans                                 0         1         2  \\\n",
       "yeojohnson_revenue_in_eur_bin           0.544663  0.694186  0.376806   \n",
       "is_EMEA                                 0.745834  0.729839  0.705188   \n",
       "is_Webshop                              0.492900  0.453339  1.000000   \n",
       "is_industry_FinanceInsuranceRealEstate  0.000000  0.000000  0.000000   \n",
       "is_industry_Manufacturing               0.000000  1.000000  0.000000   \n",
       "is_industry_Other                       1.000000  0.000000  0.000000   \n",
       "is_industry_RetailTrade                 0.000000  0.000000  0.000000   \n",
       "is_industry_Services                    0.000000  0.000000  1.000000   \n",
       "is_industry_WholesaleTrade              0.000000  0.000000  0.000000   \n",
       "license_value_score                     0.437531  0.473773  0.332411   \n",
       "customer_value_score                    0.376845  0.419816  0.343063   \n",
       "\n",
       "cluster_kmeans                                 3         4         5  \n",
       "yeojohnson_revenue_in_eur_bin           0.609232  0.436769  0.441658  \n",
       "is_EMEA                                 0.809114  0.774892  0.796570  \n",
       "is_Webshop                              0.325311  0.000000  0.651458  \n",
       "is_industry_FinanceInsuranceRealEstate  0.292132  0.000000  0.261671  \n",
       "is_industry_Manufacturing               0.000000  0.000000  0.000000  \n",
       "is_industry_Other                       0.000000  0.000000  0.000000  \n",
       "is_industry_RetailTrade                 0.000000  0.000000  0.738329  \n",
       "is_industry_Services                    0.000000  1.000000  0.000000  \n",
       "is_industry_WholesaleTrade              0.707868  0.000000  0.000000  \n",
       "license_value_score                     0.507979  0.563272  0.390220  \n",
       "customer_value_score                    0.442077  0.477326  0.361482  "
      ]
     },
     "execution_count": 44,
     "metadata": {},
     "output_type": "execute_result"
    }
   ],
   "source": [
    "df_latex"
   ]
  },
  {
   "cell_type": "code",
   "execution_count": 45,
   "metadata": {},
   "outputs": [
    {
     "name": "stdout",
     "output_type": "stream",
     "text": [
      "\\begin{table}[H]\n",
      "\\centering\n",
      "\\caption{Average Values of each feature per Cluster}\n",
      "\\label{tab:avg_clusters}\n",
      "\\begin{tabular}{cccc}\n",
      "\\toprule\n",
      "    0 &     1 &     2 &     3 &     4 &     5 \\\\\n",
      "\\midrule\n",
      "0.545 & 0.694 & 0.377 & 0.609 & 0.437 & 0.442 \\\\\n",
      "0.746 & 0.730 & 0.705 & 0.809 & 0.775 & 0.797 \\\\\n",
      "0.493 & 0.453 & 1.000 & 0.325 & 0.000 & 0.651 \\\\\n",
      "0.000 & 0.000 & 0.000 & 0.292 & 0.000 & 0.262 \\\\\n",
      "0.000 & 1.000 & 0.000 & 0.000 & 0.000 & 0.000 \\\\\n",
      "1.000 & 0.000 & 0.000 & 0.000 & 0.000 & 0.000 \\\\\n",
      "0.000 & 0.000 & 0.000 & 0.000 & 0.000 & 0.738 \\\\\n",
      "0.000 & 0.000 & 1.000 & 0.000 & 1.000 & 0.000 \\\\\n",
      "0.000 & 0.000 & 0.000 & 0.708 & 0.000 & 0.000 \\\\\n",
      "0.438 & 0.474 & 0.332 & 0.508 & 0.563 & 0.390 \\\\\n",
      "0.377 & 0.420 & 0.343 & 0.442 & 0.477 & 0.361 \\\\\n",
      "\\bottomrule\n",
      "\\end{tabular}\n",
      "\\end{table}\n",
      "\n"
     ]
    }
   ],
   "source": [
    "latex_table = df_latex.to_latex(\n",
    "    index=False,  # To not include the DataFrame index as a column in the table\n",
    "    caption=\"Average Values of each feature per Cluster\",  # The caption to appear above the table in the LaTeX document\n",
    "    label=\"tab:avg_clusters\",  # A label used for referencing the table within the LaTeX document\n",
    "    position=\"H\",  # The preferred positions where the table should be placed in the document ('here', 'top', 'bottom', 'page')\n",
    "    column_format=\"cccc\",  # The format of the columns: left-aligned with vertical lines between them\n",
    "    escape=False,  # Disable escaping LaTeX special characters in the DataFrame\n",
    "    float_format=\"{:0.3f}\".format  # Formats floats to two decimal places\n",
    ")\n",
    "\n",
    "print(latex_table)"
   ]
  },
  {
   "cell_type": "code",
   "execution_count": 47,
   "metadata": {},
   "outputs": [
    {
     "data": {
      "text/plain": [
       "2    22014\n",
       "4    21714\n",
       "0    15423\n",
       "3    14045\n",
       "1    13566\n",
       "5    13238\n",
       "Name: cluster_kmeans, dtype: int64"
      ]
     },
     "execution_count": 47,
     "metadata": {},
     "output_type": "execute_result"
    }
   ],
   "source": [
    "df_pca.cluster_kmeans.value_counts()"
   ]
  },
  {
   "cell_type": "code",
   "execution_count": 48,
   "metadata": {},
   "outputs": [
    {
     "data": {
      "image/png": "[encoded data removed]",
      "text/plain": [
       "<Figure size 1000x500 with 2 Axes>"
      ]
     },
     "metadata": {},
     "output_type": "display_data"
    }
   ],
   "source": [
    "# Visualize the correlation matrix\n",
    "plt.figure(figsize=(10,5))\n",
    "sns.heatmap(df_pca.groupby(['cluster_kmeans']).mean(), cmap='coolwarm', annot=True)\n",
    "plt.show()"
   ]
  },
  {
   "cell_type": "code",
   "execution_count": 49,
   "metadata": {},
   "outputs": [
    {
     "data": {
      "application/vnd.plotly.v1+json": {
       "config": {
        "plotlyServerURL": "https://plot.ly"
       },
       "data": [
        {
         "hovertemplate": "label=0<br>value=%{r}<br>variable=%{theta}<extra></extra>",
         "legendgroup": "0",
         "line": {
          "color": "#636efa",
          "dash": "solid"
         },
         "marker": {
          "symbol": "circle"
         },
         "mode": "lines",
         "name": "0",
         "r": [
          0.5446627331474638,
          0.7458341438111911,
          0.49290021396615447,
          0,
          0,
          1,
          0,
          0,
          0,
          0.43753141061329154,
          0.3768447263770275,
          0.5446627331474638
         ],
         "showlegend": true,
         "subplot": "polar",
         "theta": [
          "yeojohnson_revenue_in_eur_bin",
          "is_EMEA",
          "is_Webshop",
          "is_industry_FinanceInsuranceRealEstate",
          "is_industry_Manufacturing",
          "is_industry_Other",
          "is_industry_RetailTrade",
          "is_industry_Services",
          "is_industry_WholesaleTrade",
          "license_value_score",
          "customer_value_score",
          "yeojohnson_revenue_in_eur_bin"
         ],
         "type": "scatterpolar"
        },
        {
         "hovertemplate": "label=1<br>value=%{r}<br>variable=%{theta}<extra></extra>",
         "legendgroup": "1",
         "line": {
          "color": "#EF553B",
          "dash": "solid"
         },
         "marker": {
          "symbol": "circle"
         },
         "mode": "lines",
         "name": "1",
         "r": [
          0.694186446508428,
          0.7298393041427097,
          0.4533392304290137,
          0,
          1,
          0,
          0,
          0,
          0,
          0.4737729681923504,
          0.41981591727813483,
          0.694186446508428
         ],
         "showlegend": true,
         "subplot": "polar",
         "theta": [
          "yeojohnson_revenue_in_eur_bin",
          "is_EMEA",
          "is_Webshop",
          "is_industry_FinanceInsuranceRealEstate",
          "is_industry_Manufacturing",
          "is_industry_Other",
          "is_industry_RetailTrade",
          "is_industry_Services",
          "is_industry_WholesaleTrade",
          "license_value_score",
          "customer_value_score",
          "yeojohnson_revenue_in_eur_bin"
         ],
         "type": "scatterpolar"
        },
        {
         "hovertemplate": "label=2<br>value=%{r}<br>variable=%{theta}<extra></extra>",
         "legendgroup": "2",
         "line": {
          "color": "#00cc96",
          "dash": "solid"
         },
         "marker": {
          "symbol": "circle"
         },
         "mode": "lines",
         "name": "2",
         "r": [
          0.37680566911965113,
          0.7051876078858907,
          1,
          0,
          0,
          0,
          0,
          1,
          0,
          0.33241086599139297,
          0.34306322762746816,
          0.37680566911965113
         ],
         "showlegend": true,
         "subplot": "polar",
         "theta": [
          "yeojohnson_revenue_in_eur_bin",
          "is_EMEA",
          "is_Webshop",
          "is_industry_FinanceInsuranceRealEstate",
          "is_industry_Manufacturing",
          "is_industry_Other",
          "is_industry_RetailTrade",
          "is_industry_Services",
          "is_industry_WholesaleTrade",
          "license_value_score",
          "customer_value_score",
          "yeojohnson_revenue_in_eur_bin"
         ],
         "type": "scatterpolar"
        },
        {
         "hovertemplate": "label=3<br>value=%{r}<br>variable=%{theta}<extra></extra>",
         "legendgroup": "3",
         "line": {
          "color": "#ab63fa",
          "dash": "solid"
         },
         "marker": {
          "symbol": "circle"
         },
         "mode": "lines",
         "name": "3",
         "r": [
          0.6092322297377477,
          0.8091135635457458,
          0.325311498754005,
          0.2921324314702741,
          0,
          0,
          0,
          0,
          0.7078675685297259,
          0.5079788606156708,
          0.4420768185907178,
          0.6092322297377477
         ],
         "showlegend": true,
         "subplot": "polar",
         "theta": [
          "yeojohnson_revenue_in_eur_bin",
          "is_EMEA",
          "is_Webshop",
          "is_industry_FinanceInsuranceRealEstate",
          "is_industry_Manufacturing",
          "is_industry_Other",
          "is_industry_RetailTrade",
          "is_industry_Services",
          "is_industry_WholesaleTrade",
          "license_value_score",
          "customer_value_score",
          "yeojohnson_revenue_in_eur_bin"
         ],
         "type": "scatterpolar"
        },
        {
         "hovertemplate": "label=4<br>value=%{r}<br>variable=%{theta}<extra></extra>",
         "legendgroup": "4",
         "line": {
          "color": "#FFA15A",
          "dash": "solid"
         },
         "marker": {
          "symbol": "circle"
         },
         "mode": "lines",
         "name": "4",
         "r": [
          0.43676890485401126,
          0.7748917748917749,
          0,
          0,
          0,
          0,
          0,
          1,
          0,
          0.5632721056344048,
          0.47732570073723557,
          0.43676890485401126
         ],
         "showlegend": true,
         "subplot": "polar",
         "theta": [
          "yeojohnson_revenue_in_eur_bin",
          "is_EMEA",
          "is_Webshop",
          "is_industry_FinanceInsuranceRealEstate",
          "is_industry_Manufacturing",
          "is_industry_Other",
          "is_industry_RetailTrade",
          "is_industry_Services",
          "is_industry_WholesaleTrade",
          "license_value_score",
          "customer_value_score",
          "yeojohnson_revenue_in_eur_bin"
         ],
         "type": "scatterpolar"
        },
        {
         "hovertemplate": "label=5<br>value=%{r}<br>variable=%{theta}<extra></extra>",
         "legendgroup": "5",
         "line": {
          "color": "#19d3f3",
          "dash": "solid"
         },
         "marker": {
          "symbol": "circle"
         },
         "mode": "lines",
         "name": "5",
         "r": [
          0.4416578536536234,
          0.7965704789243088,
          0.6514579241577277,
          0.26167094727300194,
          0,
          0,
          0.738329052726998,
          0,
          0,
          0.3902201923891252,
          0.36148197767147233,
          0.4416578536536234
         ],
         "showlegend": true,
         "subplot": "polar",
         "theta": [
          "yeojohnson_revenue_in_eur_bin",
          "is_EMEA",
          "is_Webshop",
          "is_industry_FinanceInsuranceRealEstate",
          "is_industry_Manufacturing",
          "is_industry_Other",
          "is_industry_RetailTrade",
          "is_industry_Services",
          "is_industry_WholesaleTrade",
          "license_value_score",
          "customer_value_score",
          "yeojohnson_revenue_in_eur_bin"
         ],
         "type": "scatterpolar"
        }
       ],
       "layout": {
        "height": 800,
        "legend": {
         "title": {
          "text": "label"
         },
         "tracegroupgap": 0
        },
        "polar": {
         "angularaxis": {
          "direction": "clockwise",
          "rotation": 90
         },
         "domain": {
          "x": [
           0,
           1
          ],
          "y": [
           0,
           1
          ]
         }
        },
        "template": {
         "data": {
          "bar": [
           {
            "error_x": {
             "color": "#2a3f5f"
            },
            "error_y": {
             "color": "#2a3f5f"
            },
            "marker": {
             "line": {
              "color": "#E5ECF6",
              "width": 0.5
             },
             "pattern": {
              "fillmode": "overlay",
              "size": 10,
              "solidity": 0.2
             }
            },
            "type": "bar"
           }
          ],
          "barpolar": [
           {
            "marker": {
             "line": {
              "color": "#E5ECF6",
              "width": 0.5
             },
             "pattern": {
              "fillmode": "overlay",
              "size": 10,
              "solidity": 0.2
             }
            },
            "type": "barpolar"
           }
          ],
          "carpet": [
           {
            "aaxis": {
             "endlinecolor": "#2a3f5f",
             "gridcolor": "white",
             "linecolor": "white",
             "minorgridcolor": "white",
             "startlinecolor": "#2a3f5f"
            },
            "baxis": {
             "endlinecolor": "#2a3f5f",
             "gridcolor": "white",
             "linecolor": "white",
             "minorgridcolor": "white",
             "startlinecolor": "#2a3f5f"
            },
            "type": "carpet"
           }
          ],
          "choropleth": [
           {
            "colorbar": {
             "outlinewidth": 0,
             "ticks": ""
            },
            "type": "choropleth"
           }
          ],
          "contour": [
           {
            "colorbar": {
             "outlinewidth": 0,
             "ticks": ""
            },
            "colorscale": [
             [
              0,
              "#0d0887"
             ],
             [
              0.1111111111111111,
              "#46039f"
             ],
             [
              0.2222222222222222,
              "#7201a8"
             ],
             [
              0.3333333333333333,
              "#9c179e"
             ],
             [
              0.4444444444444444,
              "#bd3786"
             ],
             [
              0.5555555555555556,
              "#d8576b"
             ],
             [
              0.6666666666666666,
              "#ed7953"
             ],
             [
              0.7777777777777778,
              "#fb9f3a"
             ],
             [
              0.8888888888888888,
              "#fdca26"
             ],
             [
              1,
              "#f0f921"
             ]
            ],
            "type": "contour"
           }
          ],
          "contourcarpet": [
           {
            "colorbar": {
             "outlinewidth": 0,
             "ticks": ""
            },
            "type": "contourcarpet"
           }
          ],
          "heatmap": [
           {
            "colorbar": {
             "outlinewidth": 0,
             "ticks": ""
            },
            "colorscale": [
             [
              0,
              "#0d0887"
             ],
             [
              0.1111111111111111,
              "#46039f"
             ],
             [
              0.2222222222222222,
              "#7201a8"
             ],
             [
              0.3333333333333333,
              "#9c179e"
             ],
             [
              0.4444444444444444,
              "#bd3786"
             ],
             [
              0.5555555555555556,
              "#d8576b"
             ],
             [
              0.6666666666666666,
              "#ed7953"
             ],
             [
              0.7777777777777778,
              "#fb9f3a"
             ],
             [
              0.8888888888888888,
              "#fdca26"
             ],
             [
              1,
              "#f0f921"
             ]
            ],
            "type": "heatmap"
           }
          ],
          "heatmapgl": [
           {
            "colorbar": {
             "outlinewidth": 0,
             "ticks": ""
            },
            "colorscale": [
             [
              0,
              "#0d0887"
             ],
             [
              0.1111111111111111,
              "#46039f"
             ],
             [
              0.2222222222222222,
              "#7201a8"
             ],
             [
              0.3333333333333333,
              "#9c179e"
             ],
             [
              0.4444444444444444,
              "#bd3786"
             ],
             [
              0.5555555555555556,
              "#d8576b"
             ],
             [
              0.6666666666666666,
              "#ed7953"
             ],
             [
              0.7777777777777778,
              "#fb9f3a"
             ],
             [
              0.8888888888888888,
              "#fdca26"
             ],
             [
              1,
              "#f0f921"
             ]
            ],
            "type": "heatmapgl"
           }
          ],
          "histogram": [
           {
            "marker": {
             "pattern": {
              "fillmode": "overlay",
              "size": 10,
              "solidity": 0.2
             }
            },
            "type": "histogram"
           }
          ],
          "histogram2d": [
           {
            "colorbar": {
             "outlinewidth": 0,
             "ticks": ""
            },
            "colorscale": [
             [
              0,
              "#0d0887"
             ],
             [
              0.1111111111111111,
              "#46039f"
             ],
             [
              0.2222222222222222,
              "#7201a8"
             ],
             [
              0.3333333333333333,
              "#9c179e"
             ],
             [
              0.4444444444444444,
              "#bd3786"
             ],
             [
              0.5555555555555556,
              "#d8576b"
             ],
             [
              0.6666666666666666,
              "#ed7953"
             ],
             [
              0.7777777777777778,
              "#fb9f3a"
             ],
             [
              0.8888888888888888,
              "#fdca26"
             ],
             [
              1,
              "#f0f921"
             ]
            ],
            "type": "histogram2d"
           }
          ],
          "histogram2dcontour": [
           {
            "colorbar": {
             "outlinewidth": 0,
             "ticks": ""
            },
            "colorscale": [
             [
              0,
              "#0d0887"
             ],
             [
              0.1111111111111111,
              "#46039f"
             ],
             [
              0.2222222222222222,
              "#7201a8"
             ],
             [
              0.3333333333333333,
              "#9c179e"
             ],
             [
              0.4444444444444444,
              "#bd3786"
             ],
             [
              0.5555555555555556,
              "#d8576b"
             ],
             [
              0.6666666666666666,
              "#ed7953"
             ],
             [
              0.7777777777777778,
              "#fb9f3a"
             ],
             [
              0.8888888888888888,
              "#fdca26"
             ],
             [
              1,
              "#f0f921"
             ]
            ],
            "type": "histogram2dcontour"
           }
          ],
          "mesh3d": [
           {
            "colorbar": {
             "outlinewidth": 0,
             "ticks": ""
            },
            "type": "mesh3d"
           }
          ],
          "parcoords": [
           {
            "line": {
             "colorbar": {
              "outlinewidth": 0,
              "ticks": ""
             }
            },
            "type": "parcoords"
           }
          ],
          "pie": [
           {
            "automargin": true,
            "type": "pie"
           }
          ],
          "scatter": [
           {
            "fillpattern": {
             "fillmode": "overlay",
             "size": 10,
             "solidity": 0.2
            },
            "type": "scatter"
           }
          ],
          "scatter3d": [
           {
            "line": {
             "colorbar": {
              "outlinewidth": 0,
              "ticks": ""
             }
            },
            "marker": {
             "colorbar": {
              "outlinewidth": 0,
              "ticks": ""
             }
            },
            "type": "scatter3d"
           }
          ],
          "scattercarpet": [
           {
            "marker": {
             "colorbar": {
              "outlinewidth": 0,
              "ticks": ""
             }
            },
            "type": "scattercarpet"
           }
          ],
          "scattergeo": [
           {
            "marker": {
             "colorbar": {
              "outlinewidth": 0,
              "ticks": ""
             }
            },
            "type": "scattergeo"
           }
          ],
          "scattergl": [
           {
            "marker": {
             "colorbar": {
              "outlinewidth": 0,
              "ticks": ""
             }
            },
            "type": "scattergl"
           }
          ],
          "scattermapbox": [
           {
            "marker": {
             "colorbar": {
              "outlinewidth": 0,
              "ticks": ""
             }
            },
            "type": "scattermapbox"
           }
          ],
          "scatterpolar": [
           {
            "marker": {
             "colorbar": {
              "outlinewidth": 0,
              "ticks": ""
             }
            },
            "type": "scatterpolar"
           }
          ],
          "scatterpolargl": [
           {
            "marker": {
             "colorbar": {
              "outlinewidth": 0,
              "ticks": ""
             }
            },
            "type": "scatterpolargl"
           }
          ],
          "scatterternary": [
           {
            "marker": {
             "colorbar": {
              "outlinewidth": 0,
              "ticks": ""
             }
            },
            "type": "scatterternary"
           }
          ],
          "surface": [
           {
            "colorbar": {
             "outlinewidth": 0,
             "ticks": ""
            },
            "colorscale": [
             [
              0,
              "#0d0887"
             ],
             [
              0.1111111111111111,
              "#46039f"
             ],
             [
              0.2222222222222222,
              "#7201a8"
             ],
             [
              0.3333333333333333,
              "#9c179e"
             ],
             [
              0.4444444444444444,
              "#bd3786"
             ],
             [
              0.5555555555555556,
              "#d8576b"
             ],
             [
              0.6666666666666666,
              "#ed7953"
             ],
             [
              0.7777777777777778,
              "#fb9f3a"
             ],
             [
              0.8888888888888888,
              "#fdca26"
             ],
             [
              1,
              "#f0f921"
             ]
            ],
            "type": "surface"
           }
          ],
          "table": [
           {
            "cells": {
             "fill": {
              "color": "#EBF0F8"
             },
             "line": {
              "color": "white"
             }
            },
            "header": {
             "fill": {
              "color": "#C8D4E3"
             },
             "line": {
              "color": "white"
             }
            },
            "type": "table"
           }
          ]
         },
         "layout": {
          "annotationdefaults": {
           "arrowcolor": "#2a3f5f",
           "arrowhead": 0,
           "arrowwidth": 1
          },
          "autotypenumbers": "strict",
          "coloraxis": {
           "colorbar": {
            "outlinewidth": 0,
            "ticks": ""
           }
          },
          "colorscale": {
           "diverging": [
            [
             0,
             "#8e0152"
            ],
            [
             0.1,
             "#c51b7d"
            ],
            [
             0.2,
             "#de77ae"
            ],
            [
             0.3,
             "#f1b6da"
            ],
            [
             0.4,
             "#fde0ef"
            ],
            [
             0.5,
             "#f7f7f7"
            ],
            [
             0.6,
             "#e6f5d0"
            ],
            [
             0.7,
             "#b8e186"
            ],
            [
             0.8,
             "#7fbc41"
            ],
            [
             0.9,
             "#4d9221"
            ],
            [
             1,
             "#276419"
            ]
           ],
           "sequential": [
            [
             0,
             "#0d0887"
            ],
            [
             0.1111111111111111,
             "#46039f"
            ],
            [
             0.2222222222222222,
             "#7201a8"
            ],
            [
             0.3333333333333333,
             "#9c179e"
            ],
            [
             0.4444444444444444,
             "#bd3786"
            ],
            [
             0.5555555555555556,
             "#d8576b"
            ],
            [
             0.6666666666666666,
             "#ed7953"
            ],
            [
             0.7777777777777778,
             "#fb9f3a"
            ],
            [
             0.8888888888888888,
             "#fdca26"
            ],
            [
             1,
             "#f0f921"
            ]
           ],
           "sequentialminus": [
            [
             0,
             "#0d0887"
            ],
            [
             0.1111111111111111,
             "#46039f"
            ],
            [
             0.2222222222222222,
             "#7201a8"
            ],
            [
             0.3333333333333333,
             "#9c179e"
            ],
            [
             0.4444444444444444,
             "#bd3786"
            ],
            [
             0.5555555555555556,
             "#d8576b"
            ],
            [
             0.6666666666666666,
             "#ed7953"
            ],
            [
             0.7777777777777778,
             "#fb9f3a"
            ],
            [
             0.8888888888888888,
             "#fdca26"
            ],
            [
             1,
             "#f0f921"
            ]
           ]
          },
          "colorway": [
           "#636efa",
           "#EF553B",
           "#00cc96",
           "#ab63fa",
           "#FFA15A",
           "#19d3f3",
           "#FF6692",
           "#B6E880",
           "#FF97FF",
           "#FECB52"
          ],
          "font": {
           "color": "#2a3f5f"
          },
          "geo": {
           "bgcolor": "white",
           "lakecolor": "white",
           "landcolor": "#E5ECF6",
           "showlakes": true,
           "showland": true,
           "subunitcolor": "white"
          },
          "hoverlabel": {
           "align": "left"
          },
          "hovermode": "closest",
          "mapbox": {
           "style": "light"
          },
          "paper_bgcolor": "white",
          "plot_bgcolor": "#E5ECF6",
          "polar": {
           "angularaxis": {
            "gridcolor": "white",
            "linecolor": "white",
            "ticks": ""
           },
           "bgcolor": "#E5ECF6",
           "radialaxis": {
            "gridcolor": "white",
            "linecolor": "white",
            "ticks": ""
           }
          },
          "scene": {
           "xaxis": {
            "backgroundcolor": "#E5ECF6",
            "gridcolor": "white",
            "gridwidth": 2,
            "linecolor": "white",
            "showbackground": true,
            "ticks": "",
            "zerolinecolor": "white"
           },
           "yaxis": {
            "backgroundcolor": "#E5ECF6",
            "gridcolor": "white",
            "gridwidth": 2,
            "linecolor": "white",
            "showbackground": true,
            "ticks": "",
            "zerolinecolor": "white"
           },
           "zaxis": {
            "backgroundcolor": "#E5ECF6",
            "gridcolor": "white",
            "gridwidth": 2,
            "linecolor": "white",
            "showbackground": true,
            "ticks": "",
            "zerolinecolor": "white"
           }
          },
          "shapedefaults": {
           "line": {
            "color": "#2a3f5f"
           }
          },
          "ternary": {
           "aaxis": {
            "gridcolor": "white",
            "linecolor": "white",
            "ticks": ""
           },
           "baxis": {
            "gridcolor": "white",
            "linecolor": "white",
            "ticks": ""
           },
           "bgcolor": "#E5ECF6",
           "caxis": {
            "gridcolor": "white",
            "linecolor": "white",
            "ticks": ""
           }
          },
          "title": {
           "x": 0.05
          },
          "xaxis": {
           "automargin": true,
           "gridcolor": "white",
           "linecolor": "white",
           "ticks": "",
           "title": {
            "standoff": 15
           },
           "zerolinecolor": "white",
           "zerolinewidth": 2
          },
          "yaxis": {
           "automargin": true,
           "gridcolor": "white",
           "linecolor": "white",
           "ticks": "",
           "title": {
            "standoff": 15
           },
           "zerolinecolor": "white",
           "zerolinewidth": 2
          }
         }
        },
        "title": {
         "text": "FT-Transformer Model 10-Feature Set Radar Chart"
        },
        "width": 1200
       }
      }
     },
     "metadata": {},
     "output_type": "display_data"
    }
   ],
   "source": [
    "clusters=pd.DataFrame(features, columns=features_df.columns)\n",
    "clusters['label']=kmeans.labels_\n",
    "polar=clusters.groupby(\"label\").mean().reset_index()\n",
    "polar=pd.melt(polar,id_vars=[\"label\"])\n",
    "fig = px.line_polar(polar, r=\"value\", theta=\"variable\", color=\"label\", \n",
    "                    line_close=True,\n",
    "                    height=800,\n",
    "                    width=1200, \n",
    "                    title=\"FT-Transformer Model 10-Feature Set Radar Chart\")\n",
    "fig.show()"
   ]
  },
  {
   "cell_type": "code",
   "execution_count": 50,
   "metadata": {},
   "outputs": [
    {
     "data": {
      "text/html": [
       "<div>\n",
       "<style scoped>\n",
       "    .dataframe tbody tr th:only-of-type {\n",
       "        vertical-align: middle;\n",
       "    }\n",
       "\n",
       "    .dataframe tbody tr th {\n",
       "        vertical-align: top;\n",
       "    }\n",
       "\n",
       "    .dataframe thead th {\n",
       "        text-align: right;\n",
       "    }\n",
       "</style>\n",
       "<table border=\"1\" class=\"dataframe\">\n",
       "  <thead>\n",
       "    <tr style=\"text-align: right;\">\n",
       "      <th></th>\n",
       "      <th>cluster</th>\n",
       "      <th>count</th>\n",
       "    </tr>\n",
       "  </thead>\n",
       "  <tbody>\n",
       "    <tr>\n",
       "      <th>0</th>\n",
       "      <td>0</td>\n",
       "      <td>15423</td>\n",
       "    </tr>\n",
       "    <tr>\n",
       "      <th>1</th>\n",
       "      <td>1</td>\n",
       "      <td>13566</td>\n",
       "    </tr>\n",
       "    <tr>\n",
       "      <th>2</th>\n",
       "      <td>2</td>\n",
       "      <td>22014</td>\n",
       "    </tr>\n",
       "    <tr>\n",
       "      <th>3</th>\n",
       "      <td>3</td>\n",
       "      <td>14045</td>\n",
       "    </tr>\n",
       "    <tr>\n",
       "      <th>4</th>\n",
       "      <td>4</td>\n",
       "      <td>21714</td>\n",
       "    </tr>\n",
       "    <tr>\n",
       "      <th>5</th>\n",
       "      <td>5</td>\n",
       "      <td>13238</td>\n",
       "    </tr>\n",
       "  </tbody>\n",
       "</table>\n",
       "</div>"
      ],
      "text/plain": [
       "   cluster  count\n",
       "0        0  15423\n",
       "1        1  13566\n",
       "2        2  22014\n",
       "3        3  14045\n",
       "4        4  21714\n",
       "5        5  13238"
      ]
     },
     "execution_count": 50,
     "metadata": {},
     "output_type": "execute_result"
    }
   ],
   "source": [
    "clusters_df = clusters.groupby('label').size().reset_index()\n",
    "clusters_df.rename(columns={'label': 'cluster', 0: 'count'}, inplace=True)\n",
    "clusters_df"
   ]
  },
  {
   "cell_type": "code",
   "execution_count": 51,
   "metadata": {},
   "outputs": [
    {
     "data": {
      "image/png": "[encoded data removed]",
      "text/plain": [
       "<Figure size 640x480 with 1 Axes>"
      ]
     },
     "metadata": {},
     "output_type": "display_data"
    }
   ],
   "source": [
    "#define Seaborn color palette to use\n",
    "colors = sns.color_palette('pastel')[0:5]\n",
    "\n",
    "#create pie chart\n",
    "plt.pie(clusters_df['count'], labels = clusters_df['cluster'], colors = colors, autopct='%.0f%%')\n",
    "plt.title('FT-Transformer 10-Feature Set Pie Chart')\n",
    "plt.show()"
   ]
  },
  {
   "cell_type": "markdown",
   "metadata": {},
   "source": [
    "## Evaluation"
   ]
  },
  {
   "cell_type": "code",
   "execution_count": 53,
   "metadata": {},
   "outputs": [
    {
     "name": "stdout",
     "output_type": "stream",
     "text": [
      "Silhouette Score: 0.398\n"
     ]
    }
   ],
   "source": [
    "# Calculate Silhouette Score\n",
    "silhouette_avg = silhouette_score(embeddings, cluster_labels)\n",
    "print(f'Silhouette Score: {silhouette_avg:.3f}')"
   ]
  },
  {
   "cell_type": "code",
   "execution_count": 41,
   "metadata": {},
   "outputs": [
    {
     "name": "stdout",
     "output_type": "stream",
     "text": [
      "Davies-Bouldin Index: 267.660\n"
     ]
    }
   ],
   "source": [
    "# Calculate Davies-Bouldin Index\n",
    "davies_bouldin_avg = davies_bouldin_score(embeddings, cluster_labels)\n",
    "print(f'Davies-Bouldin Index: {davies_bouldin_avg:.3f}')"
   ]
  }
 ],
 "metadata": {
  "kernelspec": {
   "display_name": "base",
   "language": "python",
   "name": "python3"
  },
  "language_info": {
   "codemirror_mode": {
    "name": "ipython",
    "version": 3
   },
   "file_extension": ".py",
   "mimetype": "text/x-python",
   "name": "python",
   "nbconvert_exporter": "python",
   "pygments_lexer": "ipython3",
   "version": "3.9.13"
  }
 },
 "nbformat": 4,
 "nbformat_minor": 2
}
